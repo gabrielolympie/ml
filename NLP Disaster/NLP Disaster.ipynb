{
 "cells": [
  {
   "cell_type": "code",
   "execution_count": 1,
   "metadata": {},
   "outputs": [],
   "source": [
    "import pandas as pd\n",
    "import numpy as np\n",
    "import matplotlib.pyplot as plt\n",
    "\n",
    "import tensorflow as tf\n",
    "\n",
    "from tensorflow.keras.preprocessing.text import Tokenizer\n",
    "from tensorflow.keras.preprocessing.sequence import pad_sequences\n",
    "\n",
    "import _pickle as pickle\n",
    "def save(file,name, folder = \"\"):\n",
    "    if folder != \"\":\n",
    "        outfile = open('./'+folder+'/'+name+'.pickle', 'wb')\n",
    "    else:\n",
    "        outfile = open(name+'.pickle', 'wb')\n",
    "    pickle.dump(file, outfile)\n",
    "    outfile.close\n",
    "    \n",
    "def load(name, folder = \"\"):\n",
    "    if folder != \"\":\n",
    "        outfile = open('./'+folder+'/'+name+'.pickle', 'rb')\n",
    "    else:\n",
    "        outfile = open(name+'.pickle', 'rb')\n",
    "    file = pickle.load(outfile)\n",
    "    outfile.close\n",
    "    return file\n",
    "\n",
    "\n",
    "import spacy #load spacy\n",
    "nlp = spacy.load(\"en_core_web_lg\")"
   ]
  },
  {
   "cell_type": "code",
   "execution_count": null,
   "metadata": {},
   "outputs": [],
   "source": [
    "train = 'train.csv'\n",
    "test = 'test.csv'\n",
    "sub = 'sample_submission.csv'"
   ]
  },
  {
   "cell_type": "code",
   "execution_count": null,
   "metadata": {},
   "outputs": [],
   "source": [
    "df = pd.read_csv('train.csv')\n",
    "\n",
    "df['keyword'] = df['keyword'].fillna('Unknown')\n",
    "df['location'] = df['location'].fillna('Unknown')\n",
    "df['text'] = df['text'].fillna('Unknown')\n",
    "\n",
    "def find_hash(x):\n",
    "    hasht = []\n",
    "    for elt in x.split(' '):\n",
    "        if len(elt)>0:\n",
    "            if elt[0] == '#':\n",
    "                hasht.append(elt[1:].lower())\n",
    "    return hasht\n",
    "\n",
    "def lemmatize(x):\n",
    "    lemmas = [token.lemma_.lower() for token in nlp(x)]\n",
    "    return lemmas\n",
    "\n",
    "def clean(X):\n",
    "    remove = \".,: @!;-?&()'\"\n",
    "    Y = []\n",
    "    \n",
    "    for elt in X:\n",
    "        if not(elt[:4] == 'http' or elt[0] in remove or elt[:2] == \"\\n\" or len(elt) <= 1) or elt == '#':\n",
    "            if elt != '#':\n",
    "                Y.append(elt)\n",
    "            else:\n",
    "                Y.append('hashtag')\n",
    "    return Y\n",
    "df['tags'] = df['text'].apply(find_hash)\n",
    "df['lemmatized'] = df['text'].apply(lemmatize)\n",
    "df['lemmatized'] = df['lemmatized'].apply(clean)"
   ]
  },
  {
   "cell_type": "code",
   "execution_count": null,
   "metadata": {},
   "outputs": [],
   "source": [
    "df.head()"
   ]
  },
  {
   "cell_type": "code",
   "execution_count": null,
   "metadata": {},
   "outputs": [],
   "source": []
  },
  {
   "cell_type": "code",
   "execution_count": null,
   "metadata": {},
   "outputs": [],
   "source": [
    "save(df, 'train_refined')"
   ]
  },
  {
   "cell_type": "code",
   "execution_count": 2,
   "metadata": {},
   "outputs": [],
   "source": [
    "df = load('train_refined')"
   ]
  },
  {
   "cell_type": "code",
   "execution_count": 3,
   "metadata": {},
   "outputs": [],
   "source": [
    "MAX_NB_WORDS  = 14000\n",
    "MAX_SEQUENCE_LENGTH = 35\n",
    "EMBEDDING_DIM = 300\n",
    "\n",
    "tokenizer = Tokenizer(num_words=MAX_NB_WORDS)\n",
    "tokenizer.fit_on_texts(df['lemmatized'].values)\n",
    "sequences = tokenizer.texts_to_sequences(df['lemmatized'].values)\n",
    "word_index = tokenizer.word_index\n",
    "data = pad_sequences(sequences, maxlen=MAX_SEQUENCE_LENGTH)\n",
    "X = data\n",
    "Y = df['target'].values"
   ]
  },
  {
   "cell_type": "code",
   "execution_count": 4,
   "metadata": {},
   "outputs": [],
   "source": [
    "from sklearn.model_selection import train_test_split\n",
    "X_train, X_test, y_train, y_test = train_test_split(X, Y, test_size=0.2, random_state=42)"
   ]
  },
  {
   "cell_type": "code",
   "execution_count": 5,
   "metadata": {},
   "outputs": [
    {
     "name": "stdout",
     "output_type": "stream",
     "text": [
      "Found 400000 word vectors.\n"
     ]
    }
   ],
   "source": [
    "import os\n",
    "\n",
    "GLOVE_DIR = './glove'\n",
    "\n",
    "embeddings_index = {}\n",
    "f = open(os.path.join(GLOVE_DIR, 'glove.6B.'+str(EMBEDDING_DIM)+'d.txt'),encoding=\"utf8\")\n",
    "for line in f:\n",
    "    values = line.split()\n",
    "    word = values[0]\n",
    "    coefs = np.asarray(values[1:], dtype='float32')\n",
    "    embeddings_index[word] = coefs\n",
    "f.close()\n",
    "\n",
    "print('Found %s word vectors.' % len(embeddings_index))"
   ]
  },
  {
   "cell_type": "code",
   "execution_count": 6,
   "metadata": {},
   "outputs": [],
   "source": [
    "embedding_matrix = np.zeros((len(word_index) + 1, EMBEDDING_DIM))\n",
    "for word, i in word_index.items():\n",
    "    embedding_vector = embeddings_index.get(word)\n",
    "    if embedding_vector is not None:\n",
    "        # words not found in embedding index will be all-zeros.\n",
    "        embedding_matrix[i] = embedding_vector"
   ]
  },
  {
   "cell_type": "code",
   "execution_count": 7,
   "metadata": {},
   "outputs": [],
   "source": [
    "from tensorflow.keras.layers import Embedding\n",
    "\n",
    "embedding_layer = Embedding(len(word_index) + 1,\n",
    "                            EMBEDDING_DIM,\n",
    "                            weights=[embedding_matrix],\n",
    "                            input_length=MAX_SEQUENCE_LENGTH,\n",
    "                            trainable=False)"
   ]
  },
  {
   "cell_type": "code",
   "execution_count": 20,
   "metadata": {},
   "outputs": [],
   "source": [
    "from tensorflow.keras.models import Sequential\n",
    "from tensorflow.keras.layers import Embedding, LSTM, Dense, Activation, Conv1D, MaxPooling1D#CuDNNLSTM\n",
    "\n",
    "nhid       = 64  # number of hidden units in the LSTM\n",
    "n_classes  = 1\n",
    "filters = 32\n",
    "kernel_size = (5,5)\n",
    "\n",
    "\n",
    "model = Sequential()\n",
    "\n",
    "model.add(Embedding(len(word_index) + 1,\n",
    "                            EMBEDDING_DIM,\n",
    "                            weights=[embedding_matrix],\n",
    "                            input_length=MAX_SEQUENCE_LENGTH,\n",
    "                            trainable=False))\n",
    "\n",
    "# model.add(CuDNNLSTM(nhid, return_sequences=True))\n",
    "# model.add(CuDNNLSTM(nhid, return_sequences=False))\n",
    "model.add(LSTM(nhid,return_sequences=True))\n",
    "model.add(LSTM(nhid,return_sequences=False))\n",
    "model.add(Dense(100, activation='relu'))\n",
    "model.add(Dense(n_classes, activation='sigmoid'))\n",
    "\n"
   ]
  },
  {
   "cell_type": "code",
   "execution_count": 16,
   "metadata": {},
   "outputs": [],
   "source": [
    "tf.keras.backend.clear_session()\n",
    "tf.config.optimizer.set_jit(False)\n",
    "\n",
    "loss_classif     =  'binary_crossentropy'# find the right loss for multi-class classification\n",
    "optimizer        =  'adam' # find the right optimizer\n",
    "metrics_classif  =  ['accuracy']\n",
    "\n",
    "model.compile(loss=loss_classif,\n",
    "              optimizer=optimizer,\n",
    "              metrics=metrics_classif)"
   ]
  },
  {
   "cell_type": "code",
   "execution_count": 17,
   "metadata": {
    "scrolled": true
   },
   "outputs": [
    {
     "name": "stdout",
     "output_type": "stream",
     "text": [
      "Epoch 1/4\n",
      "1218/1218 [==============================] - 10s 8ms/step - loss: 0.3021 - accuracy: 0.8749 - val_loss: 0.4987 - val_accuracy: 0.8011\n",
      "Epoch 2/4\n",
      "1218/1218 [==============================] - 9s 8ms/step - loss: 0.2584 - accuracy: 0.8946 - val_loss: 0.5552 - val_accuracy: 0.7984\n",
      "Epoch 3/4\n",
      "1218/1218 [==============================] - 9s 7ms/step - loss: 0.2061 - accuracy: 0.9200 - val_loss: 0.6300 - val_accuracy: 0.7820\n",
      "Epoch 4/4\n",
      "1218/1218 [==============================] - 9s 7ms/step - loss: 0.1535 - accuracy: 0.9407 - val_loss: 0.6775 - val_accuracy: 0.7485\n"
     ]
    }
   ],
   "source": [
    "bs = 5\n",
    "n_epochs = 4\n",
    "#, batch_size=bs\n",
    "history = model.fit(X_train, y_train, batch_size=bs, epochs=n_epochs, validation_data=(X_test, y_test))"
   ]
  },
  {
   "cell_type": "code",
   "execution_count": 21,
   "metadata": {},
   "outputs": [],
   "source": [
    "tf.keras.backend.clear_session()\n",
    "tf.config.optimizer.set_jit(True)\n",
    "\n",
    "loss_classif     =  'binary_crossentropy'# find the right loss for multi-class classification\n",
    "optimizer        =  'adam' # find the right optimizer\n",
    "metrics_classif  =  ['accuracy']\n",
    "\n",
    "model.compile(loss=loss_classif,\n",
    "              optimizer=optimizer,\n",
    "              metrics=metrics_classif)"
   ]
  },
  {
   "cell_type": "code",
   "execution_count": 22,
   "metadata": {},
   "outputs": [
    {
     "name": "stdout",
     "output_type": "stream",
     "text": [
      "Epoch 1/4\n",
      "1218/1218 [==============================] - 10s 8ms/step - loss: 0.4843 - accuracy: 0.7893 - val_loss: 0.4529 - val_accuracy: 0.8129\n",
      "Epoch 2/4\n",
      "1218/1218 [==============================] - 10s 8ms/step - loss: 0.4202 - accuracy: 0.8197 - val_loss: 0.4455 - val_accuracy: 0.8050\n",
      "Epoch 3/4\n",
      "1218/1218 [==============================] - 9s 7ms/step - loss: 0.3715 - accuracy: 0.8463 - val_loss: 0.4340 - val_accuracy: 0.8142\n",
      "Epoch 4/4\n",
      "1218/1218 [==============================] - 9s 8ms/step - loss: 0.3098 - accuracy: 0.8747 - val_loss: 0.4782 - val_accuracy: 0.8056\n"
     ]
    }
   ],
   "source": [
    "bs = 5\n",
    "n_epochs = 4\n",
    "#, batch_size=bs\n",
    "history = model.fit(X_train, y_train, batch_size=bs, epochs=n_epochs, validation_data=(X_test, y_test))"
   ]
  },
  {
   "cell_type": "code",
   "execution_count": null,
   "metadata": {},
   "outputs": [],
   "source": []
  },
  {
   "cell_type": "code",
   "execution_count": null,
   "metadata": {},
   "outputs": [],
   "source": [
    "pred = model.predict_classes(X_test)\n",
    "pred = pred.reshape(pred.shape[0])"
   ]
  },
  {
   "cell_type": "code",
   "execution_count": null,
   "metadata": {},
   "outputs": [],
   "source": [
    "from sklearn.metrics import f1_score\n",
    "f1_score(y_test, pred)"
   ]
  },
  {
   "cell_type": "code",
   "execution_count": null,
   "metadata": {},
   "outputs": [],
   "source": []
  }
 ],
 "metadata": {
  "kernelspec": {
   "display_name": "Python 3",
   "language": "python",
   "name": "python3"
  },
  "language_info": {
   "codemirror_mode": {
    "name": "ipython",
    "version": 3
   },
   "file_extension": ".py",
   "mimetype": "text/x-python",
   "name": "python",
   "nbconvert_exporter": "python",
   "pygments_lexer": "ipython3",
   "version": "3.6.10"
  }
 },
 "nbformat": 4,
 "nbformat_minor": 2
}
