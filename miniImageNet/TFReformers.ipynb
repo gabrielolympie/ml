{
 "cells": [
  {
   "cell_type": "code",
   "execution_count": 1,
   "metadata": {},
   "outputs": [],
   "source": [
    "import pandas as pd\n",
    "import numpy as np\n",
    "import matplotlib.pyplot as plt\n",
    "import tensorflow as tf\n",
    "\n",
    "from tf_reformer import *\n",
    "\n",
    "from tensorflow.keras import Sequential, Model"
   ]
  },
  {
   "cell_type": "code",
   "execution_count": 2,
   "metadata": {},
   "outputs": [
    {
     "data": {
      "text/plain": [
       "<function tensorflow.python.autograph.impl.api.do_not_convert(func=None)>"
      ]
     },
     "execution_count": 2,
     "metadata": {},
     "output_type": "execute_result"
    }
   ],
   "source": [
    "tf.autograph.experimental.do_not_convert()"
   ]
  },
  {
   "cell_type": "code",
   "execution_count": 6,
   "metadata": {},
   "outputs": [],
   "source": [
    "X = np.random.randint(1, 512, (1,32000,512))"
   ]
  },
  {
   "cell_type": "code",
   "execution_count": 7,
   "metadata": {},
   "outputs": [
    {
     "data": {
      "text/plain": [
       "(1, 32000, 512)"
      ]
     },
     "execution_count": 7,
     "metadata": {},
     "output_type": "execute_result"
    }
   ],
   "source": [
    "X.shape"
   ]
  },
  {
   "cell_type": "code",
   "execution_count": null,
   "metadata": {},
   "outputs": [
    {
     "name": "stdout",
     "output_type": "stream",
     "text": [
      "(1, 32000, 512)\n"
     ]
    }
   ],
   "source": [
    "model_tf(X)"
   ]
  },
  {
   "cell_type": "code",
   "execution_count": 3,
   "metadata": {},
   "outputs": [
    {
     "name": "stdout",
     "output_type": "stream",
     "text": [
      "(1, 32000)\n",
      "WARNING:tensorflow:AutoGraph could not transform <bound method TFLSHAttention.call of <tf_reformer.TFLSHAttention object at 0x0000029EEAA5F148>> and will run it as-is.\n",
      "Please report this to the TensorFlow team. When filing the bug, set the verbosity to 10 (on Linux, `export AUTOGRAPH_VERBOSITY=10`) and attach the full output.\n",
      "Cause: <gast.gast.FunctionDef object at 0x0000029E984C7648>\n",
      "WARNING: AutoGraph could not transform <bound method TFLSHAttention.call of <tf_reformer.TFLSHAttention object at 0x0000029EEAA5F148>> and will run it as-is.\n",
      "Please report this to the TensorFlow team. When filing the bug, set the verbosity to 10 (on Linux, `export AUTOGRAPH_VERBOSITY=10`) and attach the full output.\n",
      "Cause: <gast.gast.FunctionDef object at 0x0000029E984C7648>\n",
      "WARNING:tensorflow:AutoGraph could not transform <bound method TFLSHAttention.call of <tf_reformer.TFLSHAttention object at 0x0000029EEAA5F148>> and will run it as-is.\n",
      "Please report this to the TensorFlow team. When filing the bug, set the verbosity to 10 (on Linux, `export AUTOGRAPH_VERBOSITY=10`) and attach the full output.\n",
      "Cause: <gast.gast.FunctionDef object at 0x0000029EE92721C8>\n",
      "WARNING: AutoGraph could not transform <bound method TFLSHAttention.call of <tf_reformer.TFLSHAttention object at 0x0000029EEAA5F148>> and will run it as-is.\n",
      "Please report this to the TensorFlow team. When filing the bug, set the verbosity to 10 (on Linux, `export AUTOGRAPH_VERBOSITY=10`) and attach the full output.\n",
      "Cause: <gast.gast.FunctionDef object at 0x0000029EE92721C8>\n",
      "WARNING:tensorflow:AutoGraph could not transform <bound method TFLSHAttention.call of <tf_reformer.TFLSHAttention object at 0x0000029EEAA5F148>> and will run it as-is.\n",
      "Please report this to the TensorFlow team. When filing the bug, set the verbosity to 10 (on Linux, `export AUTOGRAPH_VERBOSITY=10`) and attach the full output.\n",
      "Cause: <gast.gast.FunctionDef object at 0x0000029EE8D05A48>\n",
      "WARNING: AutoGraph could not transform <bound method TFLSHAttention.call of <tf_reformer.TFLSHAttention object at 0x0000029EEAA5F148>> and will run it as-is.\n",
      "Please report this to the TensorFlow team. When filing the bug, set the verbosity to 10 (on Linux, `export AUTOGRAPH_VERBOSITY=10`) and attach the full output.\n",
      "Cause: <gast.gast.FunctionDef object at 0x0000029EE8D05A48>\n",
      "WARNING:tensorflow:AutoGraph could not transform <bound method TFLSHAttention.call of <tf_reformer.TFLSHAttention object at 0x0000029EEAA5F148>> and will run it as-is.\n",
      "Please report this to the TensorFlow team. When filing the bug, set the verbosity to 10 (on Linux, `export AUTOGRAPH_VERBOSITY=10`) and attach the full output.\n",
      "Cause: <gast.gast.FunctionDef object at 0x0000029E94361908>\n",
      "WARNING: AutoGraph could not transform <bound method TFLSHAttention.call of <tf_reformer.TFLSHAttention object at 0x0000029EEAA5F148>> and will run it as-is.\n",
      "Please report this to the TensorFlow team. When filing the bug, set the verbosity to 10 (on Linux, `export AUTOGRAPH_VERBOSITY=10`) and attach the full output.\n",
      "Cause: <gast.gast.FunctionDef object at 0x0000029E94361908>\n",
      "WARNING:tensorflow:AutoGraph could not transform <bound method TFLSHAttention.call of <tf_reformer.TFLSHAttention object at 0x0000029EEAA5F148>> and will run it as-is.\n",
      "Please report this to the TensorFlow team. When filing the bug, set the verbosity to 10 (on Linux, `export AUTOGRAPH_VERBOSITY=10`) and attach the full output.\n",
      "Cause: <gast.gast.FunctionDef object at 0x0000029E943690C8>\n",
      "WARNING: AutoGraph could not transform <bound method TFLSHAttention.call of <tf_reformer.TFLSHAttention object at 0x0000029EEAA5F148>> and will run it as-is.\n",
      "Please report this to the TensorFlow team. When filing the bug, set the verbosity to 10 (on Linux, `export AUTOGRAPH_VERBOSITY=10`) and attach the full output.\n",
      "Cause: <gast.gast.FunctionDef object at 0x0000029E943690C8>\n",
      "WARNING:tensorflow:AutoGraph could not transform <bound method TFLSHAttention.call of <tf_reformer.TFLSHAttention object at 0x0000029EEAA5F148>> and will run it as-is.\n",
      "Please report this to the TensorFlow team. When filing the bug, set the verbosity to 10 (on Linux, `export AUTOGRAPH_VERBOSITY=10`) and attach the full output.\n",
      "Cause: <gast.gast.FunctionDef object at 0x0000029E942F7E48>\n",
      "WARNING: AutoGraph could not transform <bound method TFLSHAttention.call of <tf_reformer.TFLSHAttention object at 0x0000029EEAA5F148>> and will run it as-is.\n",
      "Please report this to the TensorFlow team. When filing the bug, set the verbosity to 10 (on Linux, `export AUTOGRAPH_VERBOSITY=10`) and attach the full output.\n",
      "Cause: <gast.gast.FunctionDef object at 0x0000029E942F7E48>\n",
      "WARNING:tensorflow:AutoGraph could not transform <bound method TFLSHAttention.call of <tf_reformer.TFLSHAttention object at 0x0000029EEAA5F148>> and will run it as-is.\n",
      "Please report this to the TensorFlow team. When filing the bug, set the verbosity to 10 (on Linux, `export AUTOGRAPH_VERBOSITY=10`) and attach the full output.\n",
      "Cause: <gast.gast.FunctionDef object at 0x0000029E984BED88>\n",
      "WARNING: AutoGraph could not transform <bound method TFLSHAttention.call of <tf_reformer.TFLSHAttention object at 0x0000029EEAA5F148>> and will run it as-is.\n",
      "Please report this to the TensorFlow team. When filing the bug, set the verbosity to 10 (on Linux, `export AUTOGRAPH_VERBOSITY=10`) and attach the full output.\n",
      "Cause: <gast.gast.FunctionDef object at 0x0000029E984BED88>\n",
      "WARNING:tensorflow:AutoGraph could not transform <bound method TFLSHAttention.call of <tf_reformer.TFLSHAttention object at 0x0000029EEAA5F148>> and will run it as-is.\n",
      "Please report this to the TensorFlow team. When filing the bug, set the verbosity to 10 (on Linux, `export AUTOGRAPH_VERBOSITY=10`) and attach the full output.\n",
      "Cause: <gast.gast.FunctionDef object at 0x0000029E94322908>\n",
      "WARNING: AutoGraph could not transform <bound method TFLSHAttention.call of <tf_reformer.TFLSHAttention object at 0x0000029EEAA5F148>> and will run it as-is.\n",
      "Please report this to the TensorFlow team. When filing the bug, set the verbosity to 10 (on Linux, `export AUTOGRAPH_VERBOSITY=10`) and attach the full output.\n",
      "Cause: <gast.gast.FunctionDef object at 0x0000029E94322908>\n",
      "Model: \"tf_reformer_lm\"\n",
      "_________________________________________________________________\n",
      "Layer (type)                 Output Shape              Param #   \n",
      "=================================================================\n",
      "embedding (Embedding)        multiple                  10240000  \n",
      "_________________________________________________________________\n",
      "embedding_1 (Embedding)      multiple                  16384000  \n",
      "_________________________________________________________________\n",
      "tf_reformer (TFReformer)     multiple                  2888704   \n",
      "_________________________________________________________________\n",
      "dense_5 (Dense)              multiple                  10260000  \n",
      "=================================================================\n",
      "Total params: 39,772,704\n",
      "Trainable params: 39,772,704\n",
      "Non-trainable params: 0\n",
      "_________________________________________________________________\n"
     ]
    }
   ],
   "source": [
    "model_tf = TFReformerLM(\n",
    "    num_tokens= 20000,\n",
    "    emb = 512,\n",
    "    depth = 1,\n",
    "    max_seq_len = 32000,\n",
    "    heads = 8,\n",
    "    lsh_dropout = 0.1,\n",
    "    causal = True,        # auto-regressive or not\n",
    "    bucket_size = 64,     # average size of qk per bucket, 64 was recommended in paper\n",
    "    n_hashes = 4,         # 4 is permissible per author, 8 is the best but slower\n",
    "    ff_chunks = 1600,      # number of chunks for feedforward layer, make higher if there are memory issues\n",
    "    weight_tie = False,   # tie parameters of each layer for no memory per additional depth\n",
    "    attn_chunks = 8,        # process lsh attention in chunks, only way for memory to fit when scaling to 16k tokens\n",
    "    use_full_attn = False   # use full self attention, for comparison\n",
    ")\n",
    "\n",
    "model_tf.build(input_shape=(1,32000))\n",
    "model_tf.summary()"
   ]
  },
  {
   "cell_type": "code",
   "execution_count": null,
   "metadata": {},
   "outputs": [],
   "source": []
  }
 ],
 "metadata": {
  "kernelspec": {
   "display_name": "Python 3",
   "language": "python",
   "name": "python3"
  },
  "language_info": {
   "codemirror_mode": {
    "name": "ipython",
    "version": 3
   },
   "file_extension": ".py",
   "mimetype": "text/x-python",
   "name": "python",
   "nbconvert_exporter": "python",
   "pygments_lexer": "ipython3",
   "version": "3.7.6"
  }
 },
 "nbformat": 4,
 "nbformat_minor": 4
}
