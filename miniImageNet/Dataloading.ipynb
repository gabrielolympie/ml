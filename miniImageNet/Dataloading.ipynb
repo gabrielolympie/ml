{
 "cells": [
  {
   "cell_type": "markdown",
   "metadata": {},
   "source": [
    "## First let's load and plot our dataset"
   ]
  },
  {
   "cell_type": "code",
   "execution_count": 1,
   "metadata": {},
   "outputs": [
    {
     "name": "stderr",
     "output_type": "stream",
     "text": [
      "Using TensorFlow backend.\n"
     ]
    }
   ],
   "source": [
    "## General librairies\n",
    "import pandas as pd\n",
    "import numpy as np\n",
    "import pickle\n",
    "import matplotlib.pyplot as plt\n",
    "import random\n",
    "import sys\n",
    "import time\n",
    "\n",
    "from scipy.spatial.distance import cosine\n",
    "## Keras utilities\n",
    "import keras\n",
    "import tensorflow\n",
    "from keras.datasets import mnist\n",
    "from keras.models import Model, Sequential\n",
    "from keras.applications import VGG16\n",
    "from keras.preprocessing.image import ImageDataGenerator\n",
    "from keras.utils import np_utils\n",
    "import keras.backend as K\n",
    "from keras.layers import Input, Conv2D, Lambda,  Dense, Flatten,MaxPooling2D,Dropout, UpSampling2D\n",
    "# from tensorflow.keras.engine.input_layer import Input\n",
    "from keras.layers import merge\n",
    "from keras.optimizers import SGD,Adam\n",
    "from keras.regularizers import l2\n",
    "import numpy.random as rng\n",
    "from sklearn.utils import shuffle\n",
    "\n",
    "## Sklearn utilities\n",
    "#### Models\n",
    "from sklearn.neighbors import KNeighborsClassifier\n",
    "from sklearn.ensemble import RandomForestClassifier\n",
    "from sklearn.svm import SVC\n",
    "from sklearn.linear_model import LogisticRegression\n",
    "#### Scores\n",
    "from sklearn.metrics import accuracy_score\n",
    "from sklearn.linear_model import LogisticRegression\n",
    "from sklearn.model_selection import train_test_split\n",
    "from sklearn.metrics import confusion_matrix\n",
    "#### Feature transformations\n",
    "\n",
    "from copy import deepcopy\n",
    "\n",
    "import warnings\n",
    "\n",
    "warnings.simplefilter(action='ignore', category=FutureWarning)\n",
    "\n",
    "# import spacy\n",
    "# nlp = spacy.load('C:/Users/gabri/Anaconda3/Lib/site-packages/en_core_web_lg/en_core_web_lg-2.2.0')\n"
   ]
  },
  {
   "cell_type": "code",
   "execution_count": 2,
   "metadata": {},
   "outputs": [],
   "source": [
    "def save(file,name, folder = \"\"):\n",
    "    if folder != \"\":\n",
    "        outfile = open('./'+folder+'/'+name+'.pickle', 'wb')\n",
    "    else:\n",
    "        outfile = open(name+'.pickle', 'wb')\n",
    "    pickle.dump(file, outfile)\n",
    "    outfile.close\n",
    "    \n",
    "def load(name, folder = \"\"):\n",
    "    if folder != \"\":\n",
    "        outfile = open('./'+folder+'/'+name+'.pickle', 'rb')\n",
    "    else:\n",
    "        outfile = open(name+'.pickle', 'rb')\n",
    "    file = pickle.load(outfile)\n",
    "    outfile.close\n",
    "    return file\n",
    "\n",
    "def plot(history):\n",
    "    acc = history.history['acc']\n",
    "    val_acc = history.history['val_acc']\n",
    "    x = list(range(len(acc)))\n",
    "    plt.plot(x,acc)\n",
    "    plt.plot(x,val_acc)\n",
    "    \n",
    "def cat_to_num(y):\n",
    "    y1 = []\n",
    "    for i in range(y.shape[0]):\n",
    "        a = 0\n",
    "        for j in range(y.shape[1]):\n",
    "            a += j*y[i,j]\n",
    "        y1.append(int(a))\n",
    "    return y1\n",
    "\n",
    "def generate_integer():\n",
    "    \n",
    "    ints = []\n",
    "    \n",
    "    while len(ints)<5:\n",
    "        r = random.randint(0,63)\n",
    "        if not(r in ints):\n",
    "            ints.append(r)\n",
    "    return ints\n",
    "    "
   ]
  },
  {
   "cell_type": "code",
   "execution_count": 3,
   "metadata": {},
   "outputs": [],
   "source": [
    "def identity_block(input_tensor, kernel_size, filters, stage, block):\n",
    "    \"\"\"The identity block is the block that has no conv layer at shortcut.\n",
    "\n",
    "    # Arguments\n",
    "        input_tensor: input tensor\n",
    "        kernel_size: default 3, the kernel size of\n",
    "            middle conv layer at main path\n",
    "        filters: list of integers, the filters of 3 conv layer at main path\n",
    "        stage: integer, current stage label, used for generating layer names\n",
    "        block: 'a','b'..., current block label, used for generating layer names\n",
    "\n",
    "    # Returns\n",
    "        Output tensor for the block.\n",
    "    \"\"\"\n",
    "    filters1, filters2, filters3 = filters\n",
    "    if backend.image_data_format() == 'channels_last':\n",
    "        bn_axis = 3\n",
    "    else:\n",
    "        bn_axis = 1\n",
    "    conv_name_base = 'res' + str(stage) + block + '_branch'\n",
    "    bn_name_base = 'bn' + str(stage) + block + '_branch'\n",
    "\n",
    "    x = layers.Conv2D(filters1, (1, 1),\n",
    "                      kernel_initializer='he_normal',\n",
    "                      name=conv_name_base + '2a')(input_tensor)\n",
    "    x = layers.BatchNormalization(axis=bn_axis, name=bn_name_base + '2a')(x)\n",
    "    x = layers.Activation('relu')(x)\n",
    "\n",
    "    x = layers.Conv2D(filters2, kernel_size,\n",
    "                      padding='same',\n",
    "                      kernel_initializer='he_normal',\n",
    "                      name=conv_name_base + '2b')(x)\n",
    "    x = layers.BatchNormalization(axis=bn_axis, name=bn_name_base + '2b')(x)\n",
    "    x = layers.Activation('relu')(x)\n",
    "\n",
    "    x = layers.Conv2D(filters3, (1, 1),\n",
    "                      kernel_initializer='he_normal',\n",
    "                      name=conv_name_base + '2c')(x)\n",
    "    x = layers.BatchNormalization(axis=bn_axis, name=bn_name_base + '2c')(x)\n",
    "\n",
    "    x = layers.add([x, input_tensor])\n",
    "    x = layers.Activation('relu')(x)\n",
    "    return x\n",
    "\n",
    "def conv_block(input_tensor,\n",
    "               kernel_size,\n",
    "               filters,\n",
    "               stage,\n",
    "               block,\n",
    "               strides=(2, 2)):\n",
    "    \"\"\"A block that has a conv layer at shortcut.\n",
    "\n",
    "    # Arguments\n",
    "        input_tensor: input tensor\n",
    "        kernel_size: default 3, the kernel size of\n",
    "            middle conv layer at main path\n",
    "        filters: list of integers, the filters of 3 conv layer at main path\n",
    "        stage: integer, current stage label, used for generating layer names\n",
    "        block: 'a','b'..., current block label, used for generating layer names\n",
    "        strides: Strides for the first conv layer in the block.\n",
    "\n",
    "    # Returns\n",
    "        Output tensor for the block.\n",
    "\n",
    "    Note that from stage 3,\n",
    "    the first conv layer at main path is with strides=(2, 2)\n",
    "    And the shortcut should have strides=(2, 2) as well\n",
    "    \"\"\"\n",
    "    filters1, filters2, filters3 = filters\n",
    "    if backend.image_data_format() == 'channels_last':\n",
    "        bn_axis = 3\n",
    "    else:\n",
    "        bn_axis = 1\n",
    "    conv_name_base = 'res' + str(stage) + block + '_branch'\n",
    "    bn_name_base = 'bn' + str(stage) + block + '_branch'\n",
    "\n",
    "    x = layers.Conv2D(filters1, (1, 1), strides=strides,\n",
    "                      kernel_initializer='he_normal',\n",
    "                      name=conv_name_base + '2a')(input_tensor)\n",
    "    x = layers.BatchNormalization(axis=bn_axis, name=bn_name_base + '2a')(x)\n",
    "    x = layers.Activation('relu')(x)\n",
    "\n",
    "    x = layers.Conv2D(filters2, kernel_size, padding='same',\n",
    "                      kernel_initializer='he_normal',\n",
    "                      name=conv_name_base + '2b')(x)\n",
    "    x = layers.BatchNormalization(axis=bn_axis, name=bn_name_base + '2b')(x)\n",
    "    x = layers.Activation('relu')(x)\n",
    "\n",
    "    x = layers.Conv2D(filters3, (1, 1),\n",
    "                      kernel_initializer='he_normal',\n",
    "                      name=conv_name_base + '2c')(x)\n",
    "    x = layers.BatchNormalization(axis=bn_axis, name=bn_name_base + '2c')(x)\n",
    "\n",
    "    shortcut = layers.Conv2D(filters3, (1, 1), strides=strides,\n",
    "                             kernel_initializer='he_normal',\n",
    "                             name=conv_name_base + '1')(input_tensor)\n",
    "    shortcut = layers.BatchNormalization(\n",
    "        axis=bn_axis, name=bn_name_base + '1')(shortcut)\n",
    "\n",
    "    x = layers.add([x, shortcut])\n",
    "    x = layers.Activation('relu')(x)\n",
    "    return x\n",
    "from keras import layers\n",
    "from keras import backend\n",
    "def ResNet(classes):\n",
    "    img_input = Input(shape=(84,84,3))\n",
    "    bn_axis = 1\n",
    "    \n",
    "#     x = layers.ZeroPadding2D(padding=(3, 3), name='conv1_pad')(img_input)\n",
    "    x = layers.Conv2D(64, (7, 7),\n",
    "                      #strides=(2, 2),\n",
    "                      padding='valid',\n",
    "                      kernel_initializer='he_normal',\n",
    "                      name='conv1')(img_input)\n",
    "    x = layers.BatchNormalization(name='bn_conv1')(x)\n",
    "    x = layers.Activation('relu')(x)\n",
    "#     x = layers.ZeroPadding2D(padding=(1, 1), name='pool1_pad')(x)\n",
    "#     x = layers.MaxPooling2D((3, 3), strides=(2, 2))(x)\n",
    "    \n",
    "    x = conv_block(x, 3, [32, 32, 64], stage=2, block='a', strides=(1, 1))\n",
    "    x = identity_block(x, 3, [32, 32, 64], stage=2, block='b')\n",
    "#     x = identity_block(x, 3, [32, 32, 64], stage=2, block='c')\n",
    "    \n",
    "    x = conv_block(x, 3, [64, 64, 128], stage=3, block='a')\n",
    "    x = identity_block(x, 3, [64, 64, 128], stage=3, block='b')\n",
    "#     x = identity_block(x, 3, [64, 64, 128], stage=3, block='c')\n",
    "\n",
    "    x = conv_block(x, 3, [128, 128, 256], stage=4, block='a')\n",
    "    x = identity_block(x, 3, [128, 128, 256], stage=4, block='b')\n",
    "#     x = identity_block(x, 3, [128, 128, 256], stage=4, block='c')\n",
    "\n",
    "    x = conv_block(x, 3, [256, 256, 512], stage=5, block='a')\n",
    "    x = identity_block(x, 3, [256, 256, 512], stage=5, block='b')\n",
    "#     x = identity_block(x, 3, [256, 256, 512], stage=5, block='c')\n",
    "    x = conv_block(x, 3, [256, 256, 512], stage=6, block='a')\n",
    "    x = identity_block(x, 3, [256, 256, 512], stage=6, block='b')\n",
    "    \n",
    "    x = conv_block(x, 3, [256, 256, 512], stage=7, block='a')\n",
    "    x = identity_block(x, 3, [256, 256, 512], stage=7, block='b')\n",
    "    \n",
    "    x = Flatten()(x)\n",
    "    \n",
    "#     x = layers.GlobalAveragePooling2D(name='avg_pool')(x)\n",
    "    \n",
    "#     x = layers.Dense(128, activation = 'relu')(x)\n",
    "    x = layers.Dense(classes, activation='softmax', name='fc1000')(x)\n",
    "    \n",
    "    \n",
    "    model = Model(img_input, x)\n",
    "    return model\n",
    "    "
   ]
  },
  {
   "cell_type": "code",
   "execution_count": null,
   "metadata": {},
   "outputs": [],
   "source": [
    "def get_model(output_shape):\n",
    "    model = Sequential()\n",
    "\n",
    "    model.add(Conv2D(128, kernel_size=(3, 3), activation='relu', input_shape=(84,84,3)))\n",
    "    model.add(Conv2D(128, (3, 3), padding = 'same',activation='relu'))\n",
    "    model.add(MaxPooling2D(pool_size=(2, 2)))\n",
    "\n",
    "    model.add(Conv2D(128, kernel_size=(3, 3), activation='relu'))\n",
    "    model.add(Conv2D(128, (3, 3), activation='relu'))\n",
    "    model.add(MaxPooling2D(pool_size=(2, 2)))\n",
    "\n",
    "    model.add(Conv2D(256, kernel_size=(3, 3), activation='relu'))\n",
    "    model.add(Conv2D(256, (3, 3), activation='relu'))\n",
    "    model.add(MaxPooling2D(pool_size=(2, 2)))\n",
    "\n",
    "    model.add(Conv2D(512, kernel_size=(3, 3), activation='relu'))\n",
    "    model.add(Conv2D(512, (3, 3), activation='relu'))\n",
    "    model.add(MaxPooling2D(pool_size=(2, 2)))\n",
    "\n",
    "    model.add(Dropout(0.25))\n",
    "    model.add(Flatten())\n",
    "    model.add(Dense(128, activation='relu'))\n",
    "    model.add(Dropout(0.5))\n",
    "    model.add(Dense(output_shape, activation='softmax'))\n",
    "\n",
    "    return model\n",
    "\n",
    "def conv_net(n_classes):\n",
    "    convnet = Sequential()\n",
    "    convnet.add(Conv2D(64,(10,10),activation='relu',input_shape=(84,84,3),kernel_regularizer=l2(2e-4)))\n",
    "    convnet.add(MaxPooling2D())\n",
    "    \n",
    "    convnet.add(Conv2D(128,(7,7),activation='relu',\n",
    "                       kernel_regularizer=l2(2e-4)))\n",
    "    convnet.add(MaxPooling2D())\n",
    "    \n",
    "    convnet.add(Conv2D(256,(4,4),activation='relu',kernel_regularizer=l2(2e-4)))\n",
    "    convnet.add(MaxPooling2D())\n",
    "    \n",
    "    convnet.add(Conv2D(512,(4,4),activation='relu',kernel_regularizer=l2(2e-4)))\n",
    "    convnet.add(Flatten())\n",
    "    \n",
    "    convnet.add(Dense(128,activation=\"sigmoid\",kernel_regularizer=l2(1e-3)))\n",
    "    \n",
    "    convnet.add(Dense(n_classes,activation=\"sigmoid\"))\n",
    "    \n",
    "    convnet.compile(loss=\"categorical_crossentropy\",optimizer=keras.optimizers.Adadelta(), metrics = ['accuracy'])\n",
    "    return convnet\n",
    "\n",
    "\n",
    "def reslayer(x, n_neuron):\n",
    "    \n",
    "    x1 = Conv2D(n_neuron, (3,3), activation = 'relu')(x)\n",
    "    x2 = Conv2D(n_neuron, (3,3), activation = 'relu')(x1)\n",
    "    x3 = keras.layers.BatchNormalization()(x2)\n",
    "#     x3 = Conv2D(n_neuron, (3,3),padding = 'same', activation = 'relu')(x2)\n",
    "    \n",
    "    \n",
    "    x_shortcut1 = Conv2D(n_neuron, (5,5), activation = 'relu')(x)\n",
    "    x_shortcut2 = keras.layers.BatchNormalization()(x_shortcut1)\n",
    "    \n",
    "    \n",
    "    conc = keras.layers.Concatenate(axis=-1)([x3, x_shortcut2])\n",
    "    \n",
    "    conc1 = keras.layers.BatchNormalization()(conc)\n",
    "    \n",
    "    final = MaxPooling2D(pool_size=(2, 2))(conc)\n",
    "    \n",
    "    return final\n",
    "\n",
    "def shortlong(x, n_neuron):\n",
    "    \n",
    "    x1 = Conv2D(n_neuron, (3,3), activation = 'relu')(x)\n",
    "    x1 = keras.layers.BatchNormalization()(x1)\n",
    "    x1 = Conv2D(n_neuron, (3,3), activation = 'relu')(x1)\n",
    "    x1 = keras.layers.BatchNormalization()(x1)\n",
    "    x1 = Conv2D(n_neuron, (3,3), activation = 'relu')(x1)\n",
    "    x1 = keras.layers.BatchNormalization()(x1)\n",
    "    \n",
    "    x2 = Conv2D(n_neuron, (5,5), activation = 'relu')(x)\n",
    "    x2 = keras.layers.BatchNormalization()(x2)\n",
    "    x2 = Conv2D(n_neuron, (3,3), activation = 'relu')(x2)\n",
    "    x2 = keras.layers.BatchNormalization()(x2)\n",
    "    \n",
    "    x3 = Conv2D(n_neuron, (7,7), activation = 'relu')(x)\n",
    "    x3 = keras.layers.BatchNormalization()(x3)\n",
    "    \n",
    "#     conc = keras.layers.Concatenate(axis=-1)([x1, x2, x3])\n",
    "    conc = keras.layers.add(inputs = [x1, x2, x3])\n",
    "    conc = keras.layers.BatchNormalization()(conc)\n",
    "    \n",
    "    final = conc #MaxPooling2D(pool_size=(2, 2))(conc)\n",
    "    \n",
    "    return final\n",
    "\n",
    "def resnet1(output_shape):\n",
    "    input1 = Input((84,84,3))\n",
    "    x = shortlong(input1, 32)\n",
    "    x = MaxPooling2D(pool_size=(2, 2))(x)\n",
    "    x = shortlong(x, 64)\n",
    "    x = MaxPooling2D(pool_size=(2, 2))(x)\n",
    "    x = shortlong(x, 128)\n",
    "#     x = shortlong(x, 512)\n",
    "    \n",
    "    x = Flatten()(x)\n",
    "    x = Dense(128, activation ='relu')(x)\n",
    "    output = Dense(output_shape, activation='softmax')(x)\n",
    "    \n",
    "    model = Model(input1, output)\n",
    "    model.compile(loss=\"categorical_crossentropy\",optimizer=keras.optimizers.Adadelta(), metrics = ['accuracy'])\n",
    "    return model   \n",
    "\n",
    "def resnet2(output_shape):\n",
    "    input1 = Input((84,84,3))\n",
    "    x = shortlong(input1, 64)\n",
    "    x = shortlong(x, 64)\n",
    "    x = MaxPooling2D(pool_size=(2, 2))(x)\n",
    "    \n",
    "    x = shortlong(x, 80)\n",
    "    x = shortlong(x, 80)\n",
    "    x = MaxPooling2D(pool_size=(3, 3))(x)\n",
    "    \n",
    "    x = shortlong(x, 230)\n",
    "    x = MaxPooling2D(pool_size=(2, 2))(x)\n",
    "    \n",
    "    x = Flatten()(x)\n",
    "    x = Dense(128, activation ='relu')(x)\n",
    "    \n",
    "    output = Dense(output_shape, activation='softmax')(x)\n",
    "    \n",
    "    model = Model(input1, output)\n",
    "    model.compile(loss=\"categorical_crossentropy\",optimizer=('adam'), metrics = ['accuracy'])\n",
    "    return model \n",
    " \n",
    "    \n",
    "def resnet(output_shape):\n",
    "    input1 = Input((84,84,3))\n",
    "\n",
    "    x1 = reslayer(input1,32)\n",
    "    x2 = reslayer(x1, 64)\n",
    "    x3 = reslayer(x2, 128)\n",
    "    x4 = reslayer(x3,256)\n",
    "    \n",
    "    \n",
    "    x5 = Dropout(0.25)(x4)\n",
    "    x6 = Flatten()(x5)\n",
    "    x7 = Dense(128, activation='relu')(x6)\n",
    "    x8 = Dropout(0.5)(x7)\n",
    "    output = Dense(output_shape, activation='softmax')(x8)\n",
    "\n",
    "    model = Model(input1, output)\n",
    "    \n",
    "    model.compile(loss=\"categorical_crossentropy\",optimizer='adam', metrics = ['accuracy'])\n",
    "    return model"
   ]
  },
  {
   "cell_type": "code",
   "execution_count": null,
   "metadata": {},
   "outputs": [],
   "source": [
    "# model1 = resnet2(64)\n",
    "# model1.summary()"
   ]
  },
  {
   "cell_type": "code",
   "execution_count": null,
   "metadata": {},
   "outputs": [],
   "source": [
    "OT = pickle.load(open('miniImageNet_category_split_train_phase_train.pickle', 'rb'), encoding='latin1')"
   ]
  },
  {
   "cell_type": "code",
   "execution_count": null,
   "metadata": {},
   "outputs": [],
   "source": [
    "OT.keys()"
   ]
  },
  {
   "cell_type": "code",
   "execution_count": null,
   "metadata": {
    "scrolled": true
   },
   "outputs": [],
   "source": [
    "for i in range(5):\n",
    "    plt.figure(i)\n",
    "    fig, (ax1, ax2, ax3, ax4, ax5) = plt.subplots(1,5)\n",
    "    ax1.imshow(OT['data'][600*i+1])\n",
    "    ax2.imshow(OT['data'][600*i+2])    \n",
    "    ax3.imshow(OT['data'][600*i+3])\n",
    "    ax4.imshow(OT['data'][600*i+4])\n",
    "    ax5.imshow(OT['data'][600*i+5])"
   ]
  },
  {
   "cell_type": "code",
   "execution_count": null,
   "metadata": {},
   "outputs": [],
   "source": []
  },
  {
   "cell_type": "markdown",
   "metadata": {},
   "source": [
    "# 1) Setting up a baseline using all the dataset"
   ]
  },
  {
   "cell_type": "markdown",
   "metadata": {},
   "source": [
    "### a) Preparing a train set and a test set"
   ]
  },
  {
   "cell_type": "code",
   "execution_count": null,
   "metadata": {},
   "outputs": [],
   "source": [
    "Y = OT['labels']\n",
    "X = OT['data']\n",
    "\n",
    "# X, Y = load('training set cleaned')"
   ]
  },
  {
   "cell_type": "code",
   "execution_count": null,
   "metadata": {},
   "outputs": [],
   "source": [
    "X_meta = deepcopy(X)\n",
    "y_meta = deepcopy(np.array(Y)+5)\n"
   ]
  },
  {
   "cell_type": "code",
   "execution_count": null,
   "metadata": {},
   "outputs": [],
   "source": [
    "\n",
    " y = np_utils.to_categorical(Y)"
   ]
  },
  {
   "cell_type": "code",
   "execution_count": null,
   "metadata": {},
   "outputs": [],
   "source": [
    "X_train, X_test, y_train, y_test = train_test_split(X, y, test_size=0.2, random_state=42)"
   ]
  },
  {
   "cell_type": "markdown",
   "metadata": {},
   "source": [
    "#### b) Baseline "
   ]
  },
  {
   "cell_type": "markdown",
   "metadata": {},
   "source": [
    "Pour cette baseline, le but sera de passer notre dataset dans une dimension d'image embedding avec les couches d'extraction de features d'un VGG16, puis de classifier les images à l'aide d'une régression logistique"
   ]
  },
  {
   "cell_type": "code",
   "execution_count": null,
   "metadata": {},
   "outputs": [],
   "source": [
    "# from keras.applications import VGG16\n",
    "# from keras.applications import ResNet50\n",
    "# from keras.applications.inception_v3 import InceptionV3\n",
    "# vgg_conv = VGG16(weights='imagenet',\n",
    "#                   include_top=False,\n",
    "#                   input_shape=(84, 84, 3))\n",
    "\n",
    "# vgg_conv = ResNet50(include_top=False, weights='imagenet', input_shape=(84,84,3))\n",
    "# vgg_conv = InceptionV3(include_top=False, weights='imagenet', input_shape=(84,84,3))\n",
    "# vgg_conv = keras.applications.inception_resnet_v2.InceptionResNetV2(include_top=False, weights='imagenet', input_shape=(84,84,3))\n",
    "\n",
    "\n",
    "# model = Sequential()\n",
    "# model.add(vgg_conv)\n",
    "\n",
    "# model.add(Dropout(0.25))\n",
    "# model.add(Flatten())\n",
    "\n",
    "\n",
    "\n",
    "model_transfert = load('2.resnet2 with augmentation1', 'model')\n",
    "inputs = model_transfert.input\n",
    "outputs = model_transfert.get_layer('batch_normalization_439').output\n",
    "outputs = Flatten()(outputs)\n",
    "model = Model(inputs=inputs,   outputs=outputs)"
   ]
  },
  {
   "cell_type": "code",
   "execution_count": null,
   "metadata": {},
   "outputs": [],
   "source": [
    "Xt = model.predict(X_train)\n",
    "Xv = model.predict(X_test)\n",
    "yt = cat_to_num(y_train)\n",
    "yv = cat_to_num(y_test)\n",
    "clf = LogisticRegression(random_state=0, solver='lbfgs', multi_class='multinomial', max_iter = 1000)\n",
    "# clf = RandomForestClassifier(n_estimators=200, max_depth=15,random_state=0, n_jobs = -1)\n",
    "# clf = SVC(gamma='auto')\n",
    "\n",
    "\n",
    "clf.fit(Xt,yt)\n",
    "y_pred = clf.predict(Xv)\n",
    "\n",
    "accuracy_score(yv, y_pred)"
   ]
  },
  {
   "cell_type": "code",
   "execution_count": null,
   "metadata": {},
   "outputs": [],
   "source": [
    "from sklearn.model_selection import KFold\n",
    "kf = KFold(n_splits = 5, shuffle = True)\n",
    "\n",
    "Y = np.array(Y)\n",
    "\n",
    "Y_pred = np.zeros(Y.shape[0])-1\n",
    "\n",
    "for train_ind, test_ind in kf.split(X):\n",
    "    X_train, X_test = X[train_ind], X[test_ind]\n",
    "    y_train, y_test = Y[train_ind], Y[test_ind]\n",
    "    \n",
    "    Xt = model.predict(X_train)\n",
    "    Xv = model.predict(X_test)\n",
    "    print(\"embedding créé\")\n",
    "    clf = LogisticRegression(random_state=0, solver='lbfgs', multi_class='multinomial', max_iter = 500)\n",
    "    clf.fit(Xt,y_train)\n",
    "    y_pred = clf.predict(Xv)\n",
    "    \n",
    "    print(accuracy_score(y_test, y_pred))\n",
    "    \n",
    "    Y_pred[test_ind] = y_pred"
   ]
  },
  {
   "cell_type": "markdown",
   "metadata": {},
   "source": [
    "#### b) Premier model de deep learning"
   ]
  },
  {
   "cell_type": "markdown",
   "metadata": {},
   "source": [
    "Ici nous testerons un premier modèle dont l'architecture est inspirée du VGG16"
   ]
  },
  {
   "cell_type": "code",
   "execution_count": null,
   "metadata": {},
   "outputs": [],
   "source": [
    "def get_model(output_shape):\n",
    "    model = Sequential()\n",
    "\n",
    "    model.add(Conv2D(128, kernel_size=(3, 3), activation='relu', input_shape=(84,84,3)))\n",
    "    model.add(Conv2D(128, (3, 3), activation='relu'))\n",
    "    model.add(MaxPooling2D(pool_size=(2, 2)))\n",
    "\n",
    "    model.add(Conv2D(128, kernel_size=(3, 3), activation='relu'))\n",
    "    model.add(Conv2D(128, (3, 3), activation='relu'))\n",
    "    model.add(MaxPooling2D(pool_size=(2, 2)))\n",
    "\n",
    "    model.add(Conv2D(256, kernel_size=(3, 3), activation='relu'))\n",
    "    model.add(Conv2D(256, (3, 3), activation='relu'))\n",
    "    model.add(MaxPooling2D(pool_size=(2, 2)))\n",
    "\n",
    "    model.add(Conv2D(512, kernel_size=(3, 3), activation='relu'))\n",
    "    model.add(Conv2D(512, (3, 3), activation='relu'))\n",
    "    model.add(MaxPooling2D(pool_size=(2, 2)))\n",
    "\n",
    "    # model.add(Dropout(0.25))\n",
    "    model.add(Flatten())\n",
    "    model.add(Dense(128, activation='relu'))\n",
    "    model.add(Dropout(0.5))\n",
    "    model.add(Dense(output_shape, activation='softmax'))\n",
    "\n",
    "    return model\n",
    "\n"
   ]
  },
  {
   "cell_type": "code",
   "execution_count": null,
   "metadata": {},
   "outputs": [],
   "source": [
    "model = get_model(5)\n",
    "# model.summary()"
   ]
  },
  {
   "cell_type": "code",
   "execution_count": null,
   "metadata": {},
   "outputs": [],
   "source": [
    "\n",
    "model = get_model(64)\n",
    "\n",
    "model.summary()\n",
    "\n",
    "batch_size = 128\n",
    "epochs = 50\n",
    "\n",
    "model.compile(loss=keras.losses.categorical_crossentropy,\n",
    "              optimizer='adam',\n",
    "              metrics=['accuracy'])\n",
    "\n",
    "history = model.fit(X_train, y_train,\n",
    "          batch_size=batch_size,\n",
    "          epochs=epochs,\n",
    "          verbose=1,\n",
    "          validation_data=(X_test, y_test))\n",
    "score = model.evaluate(X_test, y_test, verbose=0)\n",
    "print('Test loss:', score[0])\n",
    "print('Test accuracy:', score[1])\n",
    "\n",
    "save(history, '1.VGG from scratch', 'results')\n",
    "save(model, '1.VGG from scratch', 'model')\n",
    "plot(history)"
   ]
  },
  {
   "cell_type": "markdown",
   "metadata": {},
   "source": [
    "#### c) Data augmentation"
   ]
  },
  {
   "cell_type": "markdown",
   "metadata": {},
   "source": [
    "Pour réduire l'overfitting, utilisons la même architecture, mais avec une étape de data augmentation"
   ]
  },
  {
   "cell_type": "code",
   "execution_count": null,
   "metadata": {
    "scrolled": true
   },
   "outputs": [],
   "source": [
    "aug = ImageDataGenerator(rotation_range=20, zoom_range=0.15,\n",
    "                         width_shift_range=0.2, height_shift_range=0.2, shear_range=0.15,\n",
    "                         horizontal_flip=True, fill_mode=\"nearest\")\n",
    "\n",
    "model = ResNet34((84,84,3),64)\n",
    "\n",
    "model.summary()\n",
    "\n",
    "batch_size = 5\n",
    "epochs = 300\n",
    "\n",
    "model.compile(loss=keras.losses.categorical_crossentropy,\n",
    "              optimizer=keras.optimizers.Adadelta(),\n",
    "              metrics=['accuracy'])\n",
    "\n",
    "history = model.fit_generator(aug.flow(X_train, y_train, batch_size=batch_size),\n",
    "    validation_data=(X_test, y_test), steps_per_epoch=len(X_train) // batch_size,\n",
    "    epochs=epochs)\n",
    "\n",
    "score = model.evaluate(X_test, y_test, verbose=0)\n",
    "print('Test loss:', score[0])\n",
    "print('Test accuracy:', score[1])\n",
    "\n",
    "save(history, '2.ResNet with augmentation', 'results')\n",
    "save(model, '2.ResNet with augmentation', 'model')\n",
    "plot(history)"
   ]
  },
  {
   "cell_type": "code",
   "execution_count": null,
   "metadata": {},
   "outputs": [],
   "source": [
    "save(model, '2.resnet2 with augmentation', 'model')"
   ]
  },
  {
   "cell_type": "code",
   "execution_count": null,
   "metadata": {},
   "outputs": [],
   "source": [
    "import tensorflow as tf\n",
    "\n",
    "# model = load('2.resnet2 with augmentation1', 'model')\n",
    "\n",
    "def custom_loss(y_true, y_pred):\n",
    "    return tf.keras.losses.categorical_crossentropy(y_true, y_pred, label_smoothing=0.1)\n",
    "\n",
    "\n",
    "model.compile(loss=custom_loss,\n",
    "              optimizer=keras.optimizers.Adadelta(),\n",
    "              metrics=['accuracy'])\n",
    "\n",
    "\n",
    "\n",
    "batch_size = 64\n",
    "epochs = 4\n",
    "\n",
    "# aug = ImageDataGenerator(rotation_range=40, zoom_range=0.3,\n",
    "#                          width_shift_range=0.4, height_shift_range=0.6, shear_range=0.3,\n",
    "#                          horizontal_flip=True, fill_mode=\"nearest\")\n",
    "\n",
    "aug = ImageDataGenerator(rotation_range=20, zoom_range=0.15,\n",
    "                         width_shift_range=0.2, height_shift_range=0.2, shear_range=0.15,\n",
    "                         horizontal_flip=True, fill_mode=\"nearest\")\n",
    "\n",
    "\n",
    "history = model.fit_generator(aug.flow(X_train, y_train, batch_size=batch_size),\n",
    "    validation_data=(X_test, y_test), steps_per_epoch=len(X_train) // batch_size,\n",
    "    epochs=epochs)\n",
    "\n",
    "score = model.evaluate(X_test, y_test, verbose=0)\n",
    "print('Test loss:', score[0])\n",
    "print('Test accuracy:', score[1])\n",
    "\n",
    "# save(history, '2.resnet2 with augmentation', 'results')\n",
    "# save(model, '2.resnet2 with augmentation', 'model')\n",
    "plot(history)"
   ]
  },
  {
   "cell_type": "code",
   "execution_count": null,
   "metadata": {},
   "outputs": [],
   "source": [
    "keras.losses.custom_loss = custom_loss\n",
    "save(model, '2.resnet2 with augmentation2', 'model')"
   ]
  },
  {
   "cell_type": "markdown",
   "metadata": {},
   "source": [
    "## Adding semantics into the network"
   ]
  },
  {
   "cell_type": "code",
   "execution_count": null,
   "metadata": {},
   "outputs": [],
   "source": [
    "df = pd.read_csv('words.csv', delimiter = ';')\n",
    "dico = {}\n",
    "for i in range(df.shape[0]):\n",
    "    dico[df.iloc[i]['label']] = df.iloc[i]['word']\n"
   ]
  },
  {
   "cell_type": "code",
   "execution_count": null,
   "metadata": {},
   "outputs": [],
   "source": [
    "OT.keys()"
   ]
  },
  {
   "cell_type": "code",
   "execution_count": null,
   "metadata": {},
   "outputs": [],
   "source": [
    "cat2label = OT['catname2label']\n",
    "def builddicos(cat2label):\n",
    "    label2cat = {}\n",
    "    for elt in cat2label.keys():\n",
    "        label2cat[cat2label[elt]]=elt\n",
    "\n",
    "\n",
    "    label2word = {}\n",
    "    for elt in label2cat.keys():\n",
    "        label2word[elt] = dico[label2cat[elt]]\n",
    "\n",
    "    label2vector = {}\n",
    "    for elt in label2word.keys(): \n",
    "        words = label2word[elt]\n",
    "        if \" \" in words:\n",
    "            words = words.split(\" \") \n",
    "            vect = np.zeros(300)\n",
    "            count = 0\n",
    "            for word in words:\n",
    "                temp = nlp.vocab.get_vector(word)\n",
    "                vect += temp\n",
    "                count += 1\n",
    "            vect = vect/count\n",
    "        \n",
    "        \n",
    "        else:\n",
    "            vect = nlp.vocab.get_vector(words) \n",
    "        label2vector[elt] = vect\n",
    "    return cat2label, label2cat, label2word, label2vector\n",
    "\n",
    "cat2label, label2cat, label2word, label2vector = builddicos(cat2label)\n",
    "\n",
    "\n",
    "def find_closest(vect1, label2vector):\n",
    "    M = -1\n",
    "    classe = -1\n",
    "    \n",
    "    for elt in label2vector.keys():\n",
    "        vect2 = label2vector[elt]\n",
    "        dist = 1 - cosine(vect2, vect1)\n",
    "#         print(dist)\n",
    "        if dist >= M:\n",
    "            M = dist\n",
    "            classe = elt\n",
    "    return classe, M\n",
    "\n",
    "Y_sem = []\n",
    "for elt in Y:\n",
    "    Y_sem.append(label2vector[elt])"
   ]
  },
  {
   "cell_type": "code",
   "execution_count": null,
   "metadata": {},
   "outputs": [],
   "source": [
    "a = nlp.vocab.get_vector('foot')\n",
    "find_closest(a, label2vector)"
   ]
  },
  {
   "cell_type": "code",
   "execution_count": null,
   "metadata": {},
   "outputs": [],
   "source": [
    "Y_sem = np.array(Y_sem)"
   ]
  },
  {
   "cell_type": "code",
   "execution_count": null,
   "metadata": {},
   "outputs": [],
   "source": [
    "Y_sem.shape"
   ]
  },
  {
   "cell_type": "code",
   "execution_count": null,
   "metadata": {},
   "outputs": [],
   "source": [
    "X_train, X_test, y_train, y_test = train_test_split(X, Y_sem, test_size=0.2, random_state=42)"
   ]
  },
  {
   "cell_type": "code",
   "execution_count": null,
   "metadata": {},
   "outputs": [],
   "source": [
    "model_transfert = resnet2(64)"
   ]
  },
  {
   "cell_type": "code",
   "execution_count": null,
   "metadata": {},
   "outputs": [],
   "source": [
    "model_transfert.summary()"
   ]
  },
  {
   "cell_type": "code",
   "execution_count": null,
   "metadata": {},
   "outputs": [],
   "source": [
    "# model_transfert = load('2.resnet2 with augmentation', 'model')\n",
    "from keras.objectives import cosine_proximity\n",
    "\n",
    "# model_transfert = resnet2(64)\n",
    "\n",
    "# def cosine_distance(x, y):\n",
    "#     x = K.l2_normalize(x, axis = -1)\n",
    "#     y = K.l2_normalize(y, axis = -1)\n",
    "#     return K.mean(1- K.sum(x*y, axis = -1))\n",
    "\n",
    "\n",
    "\n",
    "inputs = model_transfert.input\n",
    "#dense_25 flatten_13 batch_normalization_439 \n",
    "\n",
    "outputs = model_transfert.get_layer('batch_normalization_70').output\n",
    "outputs = Flatten()(outputs)\n",
    "\n",
    "outputs = Dense(400, activation = 'relu')(outputs)\n",
    "outputs = Dense(300, activation = 'linear')(outputs)\n",
    "\n",
    "model = Model(inputs=inputs,   outputs=outputs)\n",
    "\n",
    "for layer in model.layers:\n",
    "     layer.trainable = True\n",
    "\n",
    "        \n",
    "# tf.keras.losses.CosineSimilarity()\n",
    "import tensorflow as tf\n",
    "model.compile(loss='mse', optimizer='adam', metrics = ['mse', 'cosine'])\n",
    "\n",
    "model.summary()"
   ]
  },
  {
   "cell_type": "code",
   "execution_count": null,
   "metadata": {},
   "outputs": [],
   "source": [
    "from keras.callbacks import LambdaCallback\n",
    "\n",
    "def batchOutput(batch, logs):\n",
    "    sys.stdout.write(\"\\rStep {} sur  \".format(logs))\n",
    "    sys.stdout.flush()\n",
    "#     print(\"Finished batch: \" + str(batch))\n",
    "#     print(logs)\n",
    "\n",
    "batchLogCallback = LambdaCallback(on_batch_end=batchOutput)"
   ]
  },
  {
   "cell_type": "code",
   "execution_count": null,
   "metadata": {
    "scrolled": true
   },
   "outputs": [],
   "source": [
    "# for layer in model.layers:\n",
    "#      layer.trainable = True\n",
    "\n",
    "# model.compile(loss=cosine_distance, optimizer=keras.optimizers.Adadelta())\n",
    "\n",
    "aug = ImageDataGenerator(rotation_range=20, zoom_range=0.15,\n",
    "                         width_shift_range=0.2, height_shift_range=0.2, shear_range=0.15,\n",
    "                         horizontal_flip=True, fill_mode=\"nearest\")\n",
    "\n",
    "batch_size = 50\n",
    "epochs = 10\n",
    "\n",
    "history = model.fit_generator(aug.flow(X_train, y_train, batch_size=batch_size),\n",
    "    validation_data=(X_test, y_test), steps_per_epoch=len(X_train) // batch_size,\n",
    "    epochs=epochs, verbose = 2, callbacks=[batchLogCallback])\n",
    "\n",
    "# history = model.fit(X_train, y_train, batch_size = batch_size, epochs = epochs, validation_data=(X_test, y_test),verbose = 2, callbacks=[batchLogCallback])"
   ]
  },
  {
   "cell_type": "code",
   "execution_count": null,
   "metadata": {},
   "outputs": [],
   "source": [
    "save(model, '2.resnet2 with semantics finetune', 'model')"
   ]
  },
  {
   "cell_type": "code",
   "execution_count": null,
   "metadata": {},
   "outputs": [],
   "source": [
    "model.summary()"
   ]
  },
  {
   "cell_type": "code",
   "execution_count": null,
   "metadata": {},
   "outputs": [],
   "source": []
  },
  {
   "cell_type": "code",
   "execution_count": null,
   "metadata": {},
   "outputs": [],
   "source": []
  },
  {
   "cell_type": "code",
   "execution_count": null,
   "metadata": {},
   "outputs": [],
   "source": [
    "vect1 = nlp.vocab.get_vector('dog')\n",
    "\n",
    "classe, max1 = find_closest(vect1, label2vector)\n",
    "\n",
    "print(label2word[classe])"
   ]
  },
  {
   "cell_type": "code",
   "execution_count": null,
   "metadata": {},
   "outputs": [],
   "source": []
  },
  {
   "cell_type": "code",
   "execution_count": null,
   "metadata": {},
   "outputs": [],
   "source": []
  },
  {
   "cell_type": "code",
   "execution_count": null,
   "metadata": {},
   "outputs": [],
   "source": []
  },
  {
   "cell_type": "code",
   "execution_count": null,
   "metadata": {},
   "outputs": [],
   "source": []
  },
  {
   "cell_type": "code",
   "execution_count": null,
   "metadata": {},
   "outputs": [],
   "source": []
  },
  {
   "cell_type": "code",
   "execution_count": null,
   "metadata": {},
   "outputs": [],
   "source": []
  },
  {
   "cell_type": "code",
   "execution_count": null,
   "metadata": {},
   "outputs": [],
   "source": []
  },
  {
   "cell_type": "code",
   "execution_count": null,
   "metadata": {},
   "outputs": [],
   "source": []
  },
  {
   "cell_type": "code",
   "execution_count": null,
   "metadata": {},
   "outputs": [],
   "source": []
  },
  {
   "cell_type": "code",
   "execution_count": null,
   "metadata": {},
   "outputs": [],
   "source": []
  },
  {
   "cell_type": "markdown",
   "metadata": {},
   "source": [
    "## Testing on test set"
   ]
  },
  {
   "cell_type": "code",
   "execution_count": 4,
   "metadata": {},
   "outputs": [],
   "source": [
    "OT2 = pickle.load(open('miniImageNet_category_split_val.pickle', 'rb'), encoding='latin1')"
   ]
  },
  {
   "cell_type": "code",
   "execution_count": 5,
   "metadata": {},
   "outputs": [],
   "source": [
    "OT1 = pickle.load(open('miniImageNet_category_split_test.pickle', 'rb'), encoding='latin1')"
   ]
  },
  {
   "cell_type": "code",
   "execution_count": 6,
   "metadata": {},
   "outputs": [
    {
     "data": {
      "text/plain": [
       "dict_keys(['catname2label', 'label2catname', 'labels', 'data'])"
      ]
     },
     "execution_count": 6,
     "metadata": {},
     "output_type": "execute_result"
    }
   ],
   "source": [
    "OT1.keys()"
   ]
  },
  {
   "cell_type": "code",
   "execution_count": 7,
   "metadata": {},
   "outputs": [
    {
     "data": {
      "text/plain": [
       "dict_keys(['catname2label', 'label2catname', 'labels', 'data'])"
      ]
     },
     "execution_count": 7,
     "metadata": {},
     "output_type": "execute_result"
    }
   ],
   "source": [
    "OT2.keys()"
   ]
  },
  {
   "cell_type": "code",
   "execution_count": 8,
   "metadata": {},
   "outputs": [],
   "source": [
    "# cat2label1 = OT2['catname2label']\n",
    "# cat2label2 = OT1['catname2label']\n",
    "\n",
    "# for elt in cat2label2.keys():\n",
    "#     cat2label1[elt] = cat2label2[elt]\n",
    "\n",
    "\n",
    "# cat2label1, label2cat1, label2word1, label2vector1 = builddicos(cat2label1)\n",
    "\n",
    "\n",
    "from copy import deepcopy\n",
    "Y_val = deepcopy(OT2['labels'])\n",
    "X_val = deepcopy(OT2['data'])\n",
    "\n",
    "for i in OT1['labels']:\n",
    "    Y_val.append(i)\n",
    "X_val = np.concatenate([X_val, OT1['data']], axis = 0)\n",
    "\n",
    "tab = []\n",
    "for i in range(36):\n",
    "    tab.append([])\n",
    "\n",
    "for i in range(len(Y_val)):\n",
    "    tab[Y_val[i]-64].append(X_val[i])\n",
    "\n",
    "X = np.array(tab)\n",
    "\n",
    "\n",
    "n = 5\n",
    "k = 5\n",
    "\n",
    "def choose_n_classes(n, m, M):\n",
    "    tab = []\n",
    "    while len(tab)<n:\n",
    "        r = random.randint(m,M)\n",
    "        if not(r in tab):\n",
    "            tab.append(r)\n",
    "    tab.sort()\n",
    "    tab = np.array(tab)\n",
    "    \n",
    "    dico = {}\n",
    "    for i in range(n):\n",
    "        dico[tab[i]] = i\n",
    "    \n",
    "    return tab, dico\n",
    "\n",
    "def build_dataset(X, n,k,value = True, tab = True, dico = True):\n",
    "    if value == True:\n",
    "        tab, dico = choose_n_classes(n, 64,99)\n",
    "    \n",
    "    x_train = []\n",
    "    x_test = []\n",
    "    y_train = []\n",
    "    y_test = []\n",
    "    \n",
    "    print(dico)\n",
    "    \n",
    "    for elt in tab:\n",
    "        ind, dico1 = choose_n_classes(k, 0, 600)\n",
    "        \n",
    "        for i in range(600):\n",
    "            if i in ind:\n",
    "                x_train.append(X[elt-64,i])\n",
    "                y_train.append(dico[elt])\n",
    "            else:\n",
    "                x_test.append(X[elt-64,i])\n",
    "                y_test.append(dico[elt])\n",
    "    return np.array(x_train), np.array(x_test), np.array(y_train), np.array(y_test), tab, dico\n"
   ]
  },
  {
   "cell_type": "code",
   "execution_count": 20,
   "metadata": {},
   "outputs": [
    {
     "name": "stdout",
     "output_type": "stream",
     "text": [
      "{88: 0, 89: 1, 92: 2, 94: 3, 95: 4}\n"
     ]
    }
   ],
   "source": [
    "n = 5\n",
    "k = 5\n",
    "\n",
    "X_train, X_test, y_train, y_test, tab, dico = build_dataset(X, n, k)#, False, tab, dico)\n",
    "\n",
    "# small = {}\n",
    "# for elt in dico.keys():\n",
    "#     small[elt] = label2vector1[elt]"
   ]
  },
  {
   "cell_type": "code",
   "execution_count": 21,
   "metadata": {},
   "outputs": [
    {
     "data": {
      "image/png": "[encoded data removed]",
      "text/plain": [
       "<Figure size 432x288 with 1 Axes>"
      ]
     },
     "metadata": {
      "needs_background": "light"
     },
     "output_type": "display_data"
    },
    {
     "data": {
      "image/png": "[encoded data removed]",
      "text/plain": [
       "<Figure size 432x288 with 1 Axes>"
      ]
     },
     "metadata": {
      "needs_background": "light"
     },
     "output_type": "display_data"
    },
    {
     "data": {
      "image/png": "[encoded data removed]",
      "text/plain": [
       "<Figure size 432x288 with 1 Axes>"
      ]
     },
     "metadata": {
      "needs_background": "light"
     },
     "output_type": "display_data"
    },
    {
     "data": {
      "image/png": "[encoded data removed]",
      "text/plain": [
       "<Figure size 432x288 with 1 Axes>"
      ]
     },
     "metadata": {
      "needs_background": "light"
     },
     "output_type": "display_data"
    },
    {
     "data": {
      "image/png": "[encoded data removed]",
      "text/plain": [
       "<Figure size 432x288 with 1 Axes>"
      ]
     },
     "metadata": {
      "needs_background": "light"
     },
     "output_type": "display_data"
    }
   ],
   "source": [
    "for i in range(5):\n",
    "    plt.figure(i)\n",
    "    plt.imshow(X_train[k*i])"
   ]
  },
  {
   "cell_type": "code",
   "execution_count": 22,
   "metadata": {},
   "outputs": [],
   "source": [
    "model_transfert = load('2.resnet2 with augmentation1', 'model')\n",
    "# model_transfert = load('2.Resnet with augmentation 65%', 'model')\n",
    "\n",
    "inputs = model_transfert.input\n",
    "#dense_25 flatten_13 batch_normalization_439 \n",
    "#dense_4  avg_pool \n",
    "outputs = model_transfert.get_layer('batch_normalization_439').output\n",
    "outputs = Flatten()(outputs)\n",
    "# outputs = Dense(5, activation = 'softmax')(outputs)\n",
    "model = Model(inputs=inputs,   outputs=outputs)\n",
    "\n",
    "# for layer in model.layers[:59]:\n",
    "#      layer.trainable = False\n",
    "\n",
    "# model.compile(loss=\"categorical_crossentropy\",optimizer=keras.optimizers.Adadelta(), metrics = ['accuracy'])\n",
    "\n",
    "# model.summary()"
   ]
  },
  {
   "cell_type": "code",
   "execution_count": 23,
   "metadata": {},
   "outputs": [
    {
     "name": "stdout",
     "output_type": "stream",
     "text": [
      "0\n",
      "1\n"
     ]
    },
    {
     "data": {
      "text/plain": [
       "0.7257142857142858"
      ]
     },
     "execution_count": 23,
     "metadata": {},
     "output_type": "execute_result"
    }
   ],
   "source": [
    "# aug = ImageDataGenerator(rotation_range=20, zoom_range=0.15,\n",
    "#                          width_shift_range=0.2, height_shift_range=0.2, shear_range=0.15,\n",
    "#                          horizontal_flip=True, fill_mode=\"nearest\")\n",
    "# X_train, y_train = aug1(X_train, list(y_train), 32, aug)\n",
    "\n",
    "\n",
    "y_test1 = np.zeros(y_test.shape[0])-1\n",
    "# X_test1, y_test1 = aug1(X_test, list(y_test), 10000, aug)\n",
    "\n",
    "y_learn = np.concatenate([y_train, y_test1])\n",
    "\n",
    "Xt = model.predict(X_train)\n",
    "print(0)\n",
    "Xv = model.predict(X_test)\n",
    "\n",
    "\n",
    "# Xv1 = model.predict(X_test1)\n",
    "print(1)\n",
    "clf = LogisticRegression(random_state=0, solver='saga', multi_class='multinomial', max_iter = 1000, penalty='l2')\n",
    "# clf = RandomForestClassifier(n_estimators=200, max_depth=15,random_state=0, n_jobs = -1)\n",
    "# clf = SVC(gamma='auto', probability = True)\n",
    "from sklearn.svm import NuSVC\n",
    "# clf = NuSVC(gamma='scale', kernel = 'rbf', degree = 5, nu = 0.5)\n",
    "\n",
    "\n",
    "clf.fit(Xt,y_train)\n",
    "y_pred = clf.predict(Xv)\n",
    "\n",
    "accuracy_score(y_test, y_pred)"
   ]
  },
  {
   "cell_type": "code",
   "execution_count": 24,
   "metadata": {},
   "outputs": [],
   "source": [
    "import umap\n",
    "reducer = umap.UMAP(n_neighbors=12, metric='cosine', n_components=20)\n",
    "embedding = reducer.fit(np.concatenate([Xt, Xv], axis=0), y_learn)"
   ]
  },
  {
   "cell_type": "code",
   "execution_count": 25,
   "metadata": {},
   "outputs": [],
   "source": [
    "a = embedding.transform(Xv)\n",
    "b = embedding.transform(Xt)"
   ]
  },
  {
   "cell_type": "code",
   "execution_count": 26,
   "metadata": {},
   "outputs": [
    {
     "data": {
      "image/png": "[encoded data removed]",
      "text/plain": [
       "<Figure size 432x288 with 2 Axes>"
      ]
     },
     "metadata": {
      "needs_background": "light"
     },
     "output_type": "display_data"
    }
   ],
   "source": [
    "plt.scatter(b[:, 0], b[:, 1], c=y_train, cmap='Spectral', s=5)\n",
    "plt.gca().set_aspect('equal', 'datalim')\n",
    "plt.colorbar(boundaries=np.arange(6)-0.5).set_ticks(np.arange(5))\n",
    "plt.title('UMAP projection of the Digits dataset', fontsize=24);"
   ]
  },
  {
   "cell_type": "code",
   "execution_count": 27,
   "metadata": {},
   "outputs": [
    {
     "data": {
      "image/png": "[encoded data removed]",
      "text/plain": [
       "<Figure size 432x288 with 2 Axes>"
      ]
     },
     "metadata": {
      "needs_background": "light"
     },
     "output_type": "display_data"
    }
   ],
   "source": [
    "plt.scatter(a[:, 0], a[:, 1], c=y_test, cmap='Spectral', s=5)\n",
    "plt.gca().set_aspect('equal', 'datalim')\n",
    "plt.colorbar(boundaries=np.arange(6)-0.5).set_ticks(np.arange(5))\n",
    "plt.title('UMAP projection of the Digits dataset', fontsize=24);"
   ]
  },
  {
   "cell_type": "code",
   "execution_count": 28,
   "metadata": {},
   "outputs": [
    {
     "data": {
      "text/plain": [
       "0.7489075630252101"
      ]
     },
     "execution_count": 28,
     "metadata": {},
     "output_type": "execute_result"
    }
   ],
   "source": [
    "from sklearn.neighbors import KNeighborsClassifier\n",
    "Xt1 = embedding.transform(Xt)\n",
    "Xv1 = embedding.transform(Xv)\n",
    "clf = LogisticRegression(random_state=0, solver='lbfgs', multi_class='multinomial', max_iter = 500, C = 0.4)\n",
    "# clf = RandomForestClassifier(n_estimators=200, max_depth=15,random_state=0, n_jobs = -1)\n",
    "# clf = SVC(gamma='auto', probability = True)\n",
    "# clf = KNeighborsClassifier(n_neighbors=3)\n",
    "# clf = KNeighborsClassifier(n_neighbors=5, metric = cosine)\n",
    "\n",
    "\n",
    "clf.fit(Xt1,y_train)\n",
    "y_pred = clf.predict(Xv1)\n",
    "\n",
    "accuracy_score(y_test, y_pred)"
   ]
  },
  {
   "cell_type": "code",
   "execution_count": 29,
   "metadata": {},
   "outputs": [
    {
     "data": {
      "text/plain": [
       "array([[490,   6,  13,  71,  15],\n",
       "       [  5, 549,   7,  13,  21],\n",
       "       [  8,   1, 549,  14,  23],\n",
       "       [ 80,   8,  17, 422,  68],\n",
       "       [ 97,  10,  56, 214, 218]], dtype=int64)"
      ]
     },
     "execution_count": 29,
     "metadata": {},
     "output_type": "execute_result"
    }
   ],
   "source": [
    "confusion_matrix(y_test, y_pred)"
   ]
  },
  {
   "cell_type": "code",
   "execution_count": 30,
   "metadata": {},
   "outputs": [
    {
     "data": {
      "text/plain": [
       "0.7532773109243698"
      ]
     },
     "execution_count": 30,
     "metadata": {},
     "output_type": "execute_result"
    }
   ],
   "source": [
    "clf = LogisticRegression(random_state=0, solver='lbfgs', multi_class='multinomial', max_iter = 500, C = 0.4)\n",
    "\n",
    "clf.fit(np.concatenate([Xt, Xv], axis = 0),np.concatenate([y_train, y_pred], axis = 0))\n",
    "y_pred = clf.predict(Xv)\n",
    "accuracy_score(y_test, y_pred)"
   ]
  },
  {
   "cell_type": "code",
   "execution_count": null,
   "metadata": {},
   "outputs": [],
   "source": []
  },
  {
   "cell_type": "code",
   "execution_count": null,
   "metadata": {},
   "outputs": [],
   "source": []
  },
  {
   "cell_type": "code",
   "execution_count": null,
   "metadata": {
    "scrolled": true
   },
   "outputs": [],
   "source": [
    "scores1 = []\n",
    "scores2 = []\n",
    "scores3 = []\n",
    "\n",
    "tab1 = [1,3, 5,10,50,100,300,500]\n",
    "\n",
    "for k in tab1:\n",
    "    X_train, X_test, y_train, y_test, tab, dico = build_dataset(X, n, k, False, tab, dico)\n",
    "    \n",
    "    Xt = model.predict(X_train)\n",
    "    Xv = model.predict(X_test)\n",
    "    \n",
    "    reducer = umap.UMAP(n_neighbors=12, metric='cosine', n_components=20)\n",
    "    embedding = reducer.fit(np.concatenate([Xt, Xv], axis=0), y_learn)\n",
    "    \n",
    "    Xt1 = embedding.transform(Xt)\n",
    "    Xv1 = embedding.transform(Xv)\n",
    "    \n",
    "    y_test1 = np.zeros(y_test.shape[0])-1\n",
    "    y_learn = np.concatenate([y_train, y_test1])\n",
    "    \n",
    "    \n",
    "    clf = LogisticRegression(random_state=0, solver='lbfgs', multi_class='multinomial', max_iter = 500)\n",
    "    clf.fit(Xt1,y_train)\n",
    "    y_pred = clf.predict(Xv1)\n",
    "    scores2.append(accuracy_score(y_test, y_pred))\n",
    "    \n",
    "    print(accuracy_score(y_test, y_pred))\n",
    "    \n",
    "    clf = LogisticRegression(random_state=0, solver='lbfgs', multi_class='multinomial', max_iter = 500)\n",
    "    clf.fit(Xt,y_train)\n",
    "    y_pseudo = clf.predict(Xv)\n",
    "    scores1.append(accuracy_score(y_test, y_pseudo))\n",
    "    \n",
    "    print(accuracy_score(y_test, y_pred))\n",
    "    \n",
    "    clf = LogisticRegression(random_state=0, solver='lbfgs', multi_class='multinomial', max_iter = 500)\n",
    "    clf.fit(Xt1,y_train)\n",
    "    y_pred = clf.predict(Xv1)\n",
    "    scores2.append(accuracy_score(y_test, y_pred))\n",
    "    \n",
    "    print(accuracy_score(y_test, y_pred))\n",
    "    \n",
    "    \n",
    "plt.plot(tab1, scores1)\n",
    "plt.plot(tab1, scores2)"
   ]
  },
  {
   "cell_type": "code",
   "execution_count": null,
   "metadata": {},
   "outputs": [],
   "source": []
  },
  {
   "cell_type": "code",
   "execution_count": null,
   "metadata": {},
   "outputs": [],
   "source": [
    "def send_new(X_train, X_test, y_train, y_test, clf, tres):\n",
    "    \n",
    "    proba = clf.predict_proba(X_test)\n",
    "    \n",
    "    X = deepcopy(X_train)\n",
    "    y = list(deepcopy(y_train))\n",
    "    X1 = deepcopy(X_test)\n",
    "    y1 = deepcopy(y_test)\n",
    "      \n",
    "    vect0 = \"\"\n",
    "    for i in range(5):\n",
    "\n",
    "        vect = proba[:,i] >= tres\n",
    "#         vect = proba[:,i] <= 1-tres\n",
    "        if vect0 == \"\":\n",
    "            vect0 = vect\n",
    "        else:\n",
    "            vect0 = vect0|vect\n",
    "\n",
    "        X = np.concatenate([X, X1[vect, :]])\n",
    "\n",
    "        for elt in vect:\n",
    "            if elt:\n",
    "                y.append(i)\n",
    "\n",
    "    X1 = X1[vect0 == False,:]\n",
    "    y1 = y1[vect0 == False]\n",
    "    \n",
    "    return X, X1, y, y1"
   ]
  },
  {
   "cell_type": "code",
   "execution_count": 32,
   "metadata": {
    "scrolled": false
   },
   "outputs": [
    {
     "name": "stdout",
     "output_type": "stream",
     "text": [
      "{69: 0, 74: 1, 92: 2, 96: 3, 98: 4}\n",
      "0.6567612687813021\n",
      "0.9048414023372288\n",
      "0.9098497495826378\n",
      "{67: 0, 76: 1, 77: 2, 93: 3, 96: 4}\n",
      "0.37429048414023375\n",
      "0.6524207011686144\n",
      "0.6550918196994991\n",
      "{65: 0, 75: 1, 86: 2, 97: 3, 99: 4}\n",
      "0.6928213689482471\n",
      "0.8430717863105175\n",
      "0.8457429048414024\n",
      "{75: 0, 87: 1, 88: 2, 93: 3, 99: 4}\n",
      "0.5252086811352253\n",
      "0.866110183639399\n",
      "0.8654424040066778\n",
      "{66: 0, 74: 1, 86: 2, 96: 3, 98: 4}\n",
      "0.5125208681135225\n",
      "0.778297161936561\n",
      "0.7769616026711186\n",
      "{66: 0, 71: 1, 80: 2, 88: 3, 90: 4}\n",
      "0.6938230383973288\n",
      "0.9135225375626044\n",
      "0.9161936560934891\n",
      "{70: 0, 71: 1, 82: 2, 90: 3, 97: 4}\n",
      "0.5038397328881469\n",
      "0.771619365609349\n",
      "0.7843071786310517\n",
      "{72: 0, 76: 1, 77: 2, 80: 3, 96: 4}\n",
      "0.403338898163606\n",
      "0.6717863105175292\n",
      "0.671118530884808\n",
      "{69: 0, 75: 1, 86: 2, 93: 3, 96: 4}\n",
      "0.512186978297162\n",
      "0.6944908180300501\n",
      "0.7031719532554257\n",
      "{69: 0, 74: 1, 75: 2, 86: 3, 93: 4}\n",
      "0.40434056761268783\n",
      "0.7479131886477463\n",
      "0.7555926544240401\n",
      "{65: 0, 67: 1, 77: 2, 89: 3, 90: 4}\n",
      "0.30150250417362273\n",
      "0.42604340567612686\n",
      "0.41502504173622706\n",
      "{66: 0, 77: 1, 79: 2, 81: 3, 97: 4}\n",
      "0.7161936560934892\n",
      "0.8948247078464107\n",
      "0.8971619365609349\n",
      "{67: 0, 82: 1, 85: 2, 92: 3, 99: 4}\n",
      "0.5492487479131887\n",
      "0.8170283806343906\n",
      "0.8196994991652755\n",
      "{73: 0, 74: 1, 84: 2, 87: 3, 88: 4}\n",
      "0.5559265442404007\n",
      "0.7719532554257095\n",
      "0.7642737896494157\n",
      "{66: 0, 78: 1, 84: 2, 90: 3, 96: 4}\n",
      "0.5055091819699499\n",
      "0.5028380634390651\n",
      "0.49782971619365607\n",
      "{65: 0, 71: 1, 78: 2, 79: 3, 83: 4}\n",
      "0.5332220367278798\n",
      "0.7622704507512521\n",
      "0.7629382303839732\n",
      "{77: 0, 84: 1, 85: 2, 87: 3, 88: 4}\n",
      "0.5445742904841402\n",
      "0.8400667779632721\n",
      "0.8487479131886477\n",
      "{64: 0, 84: 1, 90: 2, 91: 3, 96: 4}\n",
      "0.4300500834724541\n",
      "0.8380634390651085\n",
      "0.8480801335559266\n",
      "{65: 0, 70: 1, 74: 2, 76: 3, 87: 4}\n",
      "0.6053422370617696\n",
      "0.727212020033389\n",
      "0.7218697829716194\n",
      "{66: 0, 68: 1, 70: 2, 73: 3, 98: 4}\n",
      "0.6193656093489148\n",
      "0.7208681135225375\n",
      "0.7238731218697829\n",
      "{68: 0, 82: 1, 83: 2, 89: 3, 90: 4}\n",
      "0.3398998330550918\n",
      "0.24741235392320535\n",
      "0.25041736227045075\n",
      "{74: 0, 82: 1, 87: 2, 93: 3, 99: 4}\n",
      "0.6300500834724541\n",
      "0.6240400667779633\n",
      "0.6217028380634391\n",
      "{64: 0, 74: 1, 80: 2, 86: 3, 94: 4}\n",
      "0.44674457429048414\n",
      "0.5101836393989984\n",
      "0.5031719532554257\n",
      "{65: 0, 72: 1, 84: 2, 87: 3, 90: 4}\n",
      "0.5245409015025042\n",
      "0.6904841402337228\n",
      "0.6938230383973288\n",
      "{67: 0, 80: 1, 85: 2, 86: 3, 88: 4}\n",
      "0.5315525876460768\n",
      "0.6527545909849749\n",
      "0.6500834724540901\n",
      "{64: 0, 85: 1, 93: 2, 95: 3, 98: 4}\n",
      "0.5198664440734557\n",
      "0.7011686143572621\n",
      "0.7028380634390651\n",
      "{64: 0, 72: 1, 77: 2, 80: 3, 82: 4}\n",
      "0.5392320534223706\n",
      "0.6440734557595993\n",
      "0.6510851419031719\n",
      "{75: 0, 76: 1, 80: 2, 92: 3, 98: 4}\n",
      "0.5632721202003339\n",
      "0.8524207011686143\n",
      "0.8574290484140233\n",
      "{73: 0, 83: 1, 85: 2, 95: 3, 96: 4}\n",
      "0.5809682804674458\n",
      "0.8146911519198664\n",
      "0.818363939899833\n",
      "{72: 0, 78: 1, 85: 2, 94: 3, 98: 4}\n",
      "0.5282136894824708\n",
      "0.6270450751252087\n",
      "0.6270450751252087\n",
      "{66: 0, 67: 1, 75: 2, 89: 3, 98: 4}\n",
      "0.5595993322203673\n",
      "0.7141903171953256\n",
      "0.7171953255425709\n",
      "{67: 0, 79: 1, 83: 2, 89: 3, 98: 4}\n",
      "0.528881469115192\n",
      "0.6938230383973288\n",
      "0.6884808013355592\n",
      "{69: 0, 73: 1, 89: 2, 92: 3, 94: 4}\n",
      "0.41569282136894825\n",
      "0.532220367278798\n",
      "0.5265442404006678\n",
      "{70: 0, 74: 1, 78: 2, 94: 3, 98: 4}\n",
      "0.4621035058430718\n",
      "0.7345575959933222\n",
      "0.7368948247078464\n",
      "{65: 0, 79: 1, 82: 2, 93: 3, 95: 4}\n",
      "0.45709515859766275\n",
      "0.6247078464106844\n",
      "0.6260434056761269\n",
      "{76: 0, 87: 1, 90: 2, 95: 3, 99: 4}\n",
      "0.593322203672788\n",
      "0.8113522537562604\n",
      "0.8176961602671119\n",
      "{65: 0, 73: 1, 77: 2, 79: 3, 81: 4}\n",
      "0.6387312186978297\n",
      "0.7535893155258765\n",
      "0.7545909849749582\n",
      "{67: 0, 92: 1, 93: 2, 94: 3, 99: 4}\n",
      "0.4404006677796327\n",
      "0.748914858096828\n",
      "0.7636060100166945\n",
      "{65: 0, 66: 1, 74: 2, 75: 3, 82: 4}\n",
      "0.6233722871452421\n",
      "0.7709515859766277\n",
      "0.7726210350584307\n",
      "{64: 0, 77: 1, 84: 2, 86: 3, 88: 4}\n",
      "0.47111853088480804\n",
      "0.6153589315525877\n",
      "0.6270450751252087\n",
      "{78: 0, 79: 1, 85: 2, 90: 3, 92: 4}\n",
      "0.6347245409015025\n",
      "0.7649415692821369\n",
      "0.7602671118530885\n",
      "{66: 0, 70: 1, 75: 2, 76: 3, 86: 4}\n",
      "0.518864774624374\n",
      "0.7098497495826377\n",
      "0.7141903171953256\n",
      "{76: 0, 83: 1, 86: 2, 93: 3, 97: 4}\n",
      "0.510517529215359\n",
      "0.6030050083472455\n",
      "0.603338898163606\n",
      "{71: 0, 74: 1, 79: 2, 83: 3, 91: 4}\n",
      "0.6410684474123539\n",
      "0.8440734557595994\n",
      "0.8507512520868113\n",
      "{70: 0, 79: 1, 82: 2, 85: 3, 91: 4}\n",
      "0.4313856427378965\n",
      "0.6851419031719532\n",
      "0.6954924874791318\n",
      "{64: 0, 76: 1, 78: 2, 94: 3, 97: 4}\n",
      "0.5328881469115192\n",
      "0.671118530884808\n",
      "0.6754590984974959\n",
      "{65: 0, 69: 1, 71: 2, 83: 3, 89: 4}\n",
      "0.39565943238731216\n",
      "0.41469115191986644\n",
      "0.4046744574290484\n",
      "{64: 0, 71: 1, 88: 2, 95: 3, 98: 4}\n",
      "0.552253756260434\n",
      "0.7205342237061769\n",
      "0.7208681135225375\n",
      "{70: 0, 77: 1, 81: 2, 91: 3, 95: 4}\n",
      "0.48414023372287146\n",
      "0.7636060100166945\n",
      "0.7719532554257095\n",
      "{71: 0, 89: 1, 90: 2, 92: 3, 96: 4}\n",
      "0.6340567612687813\n",
      "0.8671118530884808\n",
      "0.8717863105175292\n",
      "{72: 0, 81: 1, 90: 2, 92: 3, 96: 4}\n",
      "0.5275459098497496\n",
      "0.9242070116861436\n",
      "0.9298831385642737\n",
      "{67: 0, 71: 1, 74: 2, 78: 3, 94: 4}\n",
      "0.38964941569282135\n",
      "0.4751252086811352\n",
      "0.4697829716193656\n",
      "{70: 0, 73: 1, 84: 2, 92: 3, 95: 4}\n",
      "0.6407345575959933\n",
      "0.6674457429048414\n",
      "0.6721202003338899\n",
      "{82: 0, 85: 1, 96: 2, 98: 3, 99: 4}\n",
      "0.6207011686143573\n",
      "0.9131886477462438\n",
      "0.920534223706177\n",
      "{67: 0, 77: 1, 80: 2, 89: 3, 96: 4}\n",
      "0.48647746243739565\n",
      "0.6430717863105175\n",
      "0.6497495826377295\n",
      "{73: 0, 74: 1, 81: 2, 92: 3, 98: 4}\n",
      "0.4671118530884808\n",
      "0.6570951585976628\n",
      "0.6641068447412354\n",
      "{67: 0, 78: 1, 81: 2, 83: 3, 90: 4}\n",
      "0.4557595993322204\n",
      "0.5081803005008347\n",
      "0.5075125208681135\n",
      "{65: 0, 68: 1, 74: 2, 91: 3, 95: 4}\n",
      "0.39298831385642735\n",
      "0.5248747913188647\n",
      "0.5285475792988313\n",
      "{64: 0, 66: 1, 79: 2, 82: 3, 97: 4}\n",
      "0.6751252086811352\n",
      "0.864440734557596\n",
      "0.8714524207011686\n",
      "{75: 0, 87: 1, 94: 2, 95: 3, 99: 4}\n",
      "0.391652754590985\n",
      "0.7479131886477463\n",
      "0.752253756260434\n",
      "{73: 0, 74: 1, 76: 2, 91: 3, 93: 4}\n",
      "0.3589315525876461\n",
      "0.5262103505843072\n",
      "0.5285475792988313\n",
      "{66: 0, 69: 1, 70: 2, 77: 3, 82: 4}\n",
      "0.5669449081803005\n",
      "0.7492487479131886\n",
      "0.752253756260434\n",
      "{75: 0, 81: 1, 85: 2, 93: 3, 94: 4}\n",
      "0.548914858096828\n",
      "0.7158597662771286\n",
      "0.7202003338898164\n",
      "{66: 0, 71: 1, 80: 2, 83: 3, 98: 4}\n",
      "0.7051752921535893\n",
      "0.9078464106844741\n",
      "0.9118530884808014\n",
      "{64: 0, 67: 1, 71: 2, 75: 3, 83: 4}\n",
      "0.4657762938230384\n",
      "0.7686143572621035\n",
      "0.7746243739565943\n",
      "{65: 0, 72: 1, 74: 2, 85: 3, 98: 4}\n",
      "0.6554257095158598\n",
      "0.8280467445742905\n",
      "0.8323873121869783\n",
      "{74: 0, 76: 1, 81: 2, 83: 3, 94: 4}\n",
      "0.4721202003338898\n",
      "0.725542570951586\n",
      "0.7265442404006678\n",
      "{69: 0, 70: 1, 76: 2, 94: 3, 98: 4}\n",
      "0.52220367278798\n",
      "0.6590984974958264\n",
      "0.6647746243739566\n",
      "{64: 0, 82: 1, 83: 2, 94: 3, 99: 4}\n",
      "0.48247078464106846\n",
      "0.7612687813021702\n",
      "0.7636060100166945\n",
      "{67: 0, 69: 1, 76: 2, 80: 3, 90: 4}\n",
      "0.5856427378964941\n",
      "0.8146911519198664\n",
      "0.8220367278797996\n",
      "{71: 0, 74: 1, 86: 2, 87: 3, 96: 4}\n",
      "0.6317195325542571\n",
      "0.7792988313856427\n",
      "0.7746243739565943\n",
      "{65: 0, 77: 1, 83: 2, 85: 3, 91: 4}\n",
      "0.5178631051752921\n",
      "0.6764607679465776\n",
      "0.6737896494156929\n",
      "{69: 0, 71: 1, 74: 2, 88: 3, 93: 4}\n",
      "0.5285475792988313\n",
      "0.747245409015025\n",
      "0.7545909849749582\n",
      "{65: 0, 67: 1, 70: 2, 89: 3, 92: 4}\n",
      "0.5439065108514191\n",
      "0.6797996661101836\n",
      "0.6834724540901502\n",
      "{64: 0, 67: 1, 72: 2, 83: 3, 97: 4}\n",
      "0.5993322203672788\n",
      "0.6410684474123539\n",
      "0.6457429048414023\n",
      "{65: 0, 77: 1, 87: 2, 88: 3, 98: 4}\n",
      "0.5342237061769616\n",
      "0.8393989983305509\n",
      "0.8457429048414024\n",
      "{78: 0, 79: 1, 85: 2, 94: 3, 97: 4}\n",
      "0.6217028380634391\n",
      "0.8267111853088481\n",
      "0.8357262103505843\n",
      "{68: 0, 75: 1, 80: 2, 82: 3, 89: 4}\n",
      "0.5909849749582637\n",
      "0.6554257095158598\n",
      "0.662771285475793\n",
      "{75: 0, 80: 1, 81: 2, 96: 3, 97: 4}\n",
      "0.6804674457429049\n",
      "0.9225375626043406\n",
      "0.9262103505843072\n",
      "{69: 0, 71: 1, 80: 2, 86: 3, 88: 4}\n",
      "0.5302170283806343\n",
      "0.6931552587646077\n",
      "0.6884808013355592\n",
      "{67: 0, 75: 1, 77: 2, 79: 3, 92: 4}\n",
      "0.6961602671118531\n",
      "0.8821368948247078\n",
      "0.8824707846410684\n",
      "{72: 0, 76: 1, 77: 2, 84: 3, 98: 4}\n",
      "0.5525876460767947\n",
      "0.6086811352253756\n",
      "0.6020033388981636\n",
      "{64: 0, 69: 1, 81: 2, 92: 3, 96: 4}\n",
      "0.5161936560934891\n",
      "0.8681135225375626\n",
      "0.8717863105175292\n",
      "{75: 0, 78: 1, 83: 2, 91: 3, 95: 4}\n",
      "0.33311081441922563\n",
      "0.3164218958611482\n",
      "0.3174232309746328\n",
      "{69: 0, 78: 1, 85: 2, 95: 3, 96: 4}\n",
      "0.6103505843071786\n",
      "0.801669449081803\n",
      "0.8173622704507513\n",
      "{71: 0, 73: 1, 78: 2, 92: 3, 97: 4}\n",
      "0.5232053422370617\n",
      "0.6073455759599332\n",
      "0.6056761268781302\n",
      "{72: 0, 78: 1, 83: 2, 84: 3, 96: 4}\n",
      "0.6233722871452421\n",
      "0.6968280467445743\n",
      "0.7068447412353923\n",
      "{75: 0, 82: 1, 86: 2, 93: 3, 98: 4}\n",
      "0.532220367278798\n",
      "0.7599332220367279\n",
      "0.7679465776293823\n",
      "{66: 0, 70: 1, 71: 2, 86: 3, 89: 4}\n"
     ]
    },
    {
     "name": "stdout",
     "output_type": "stream",
     "text": [
      "0.5048414023372287\n",
      "0.6614357262103506\n",
      "0.6631051752921536\n",
      "{70: 0, 71: 1, 78: 2, 79: 3, 80: 4}\n",
      "0.4213689482470785\n",
      "0.698831385642738\n",
      "0.7018363939899833\n",
      "{75: 0, 80: 1, 82: 2, 91: 3, 96: 4}\n",
      "0.4888146911519199\n",
      "0.805008347245409\n",
      "0.8060100166944908\n",
      "{72: 0, 79: 1, 82: 2, 94: 3, 95: 4}\n",
      "0.5943238731218697\n",
      "0.8190317195325543\n",
      "0.8273789649415693\n",
      "{84: 0, 86: 1, 95: 2, 96: 3, 97: 4}\n",
      "0.6010016694490818\n",
      "0.7252086811352254\n",
      "0.7275459098497495\n",
      "{67: 0, 80: 1, 85: 2, 93: 3, 95: 4}\n",
      "0.48747913188647746\n",
      "0.6938230383973288\n",
      "0.6974958263772955\n",
      "{64: 0, 75: 1, 80: 2, 91: 3, 94: 4}\n",
      "0.5225375626043406\n",
      "0.6080133555926545\n",
      "0.606677796327212\n",
      "{69: 0, 72: 1, 88: 2, 89: 3, 94: 4}\n",
      "0.5115191986644407\n",
      "0.6751252086811352\n",
      "0.6747913188647746\n",
      "{77: 0, 79: 1, 81: 2, 83: 3, 86: 4}\n",
      "0.48046744574290484\n",
      "0.5649415692821369\n",
      "0.5696160267111853\n",
      "{70: 0, 73: 1, 80: 2, 90: 3, 92: 4}\n",
      "0.6100166944908181\n",
      "0.8657762938230384\n",
      "0.8684474123539232\n",
      "{70: 0, 71: 1, 76: 2, 77: 3, 86: 4}\n",
      "0.4297161936560935\n",
      "0.49015025041736227\n",
      "0.48914858096828046\n",
      "{66: 0, 72: 1, 81: 2, 86: 3, 88: 4}\n",
      "0.6013355592654424\n",
      "0.6704507512520869\n",
      "0.6704507512520869\n",
      "0.714863714780531\n"
     ]
    }
   ],
   "source": [
    "scores = []\n",
    "\n",
    "n = 5\n",
    "k = 1\n",
    "\n",
    "for i in range(100):\n",
    "    X_train, X_test, y_train, y_test, tab, dico = build_dataset(X, n, k)\n",
    "    \n",
    "#     aug = ImageDataGenerator(rotation_range=20, zoom_range=0.15,\n",
    "#                          width_shift_range=0.2, height_shift_range=0.2, shear_range=0.15,\n",
    "#                          horizontal_flip=True, fill_mode=\"nearest\")\n",
    "#     X_train, y_train = aug1(X_train, list(y_train), 32, aug)\n",
    "#     X_test, y_test = augment(X_test, list(y_test))\n",
    "#     print('augmented')\n",
    "    Xt = model.predict(X_train)\n",
    "    Xv = model.predict(X_test)\n",
    "    \n",
    "    clf = LogisticRegression(random_state=0, solver='lbfgs', multi_class='multinomial', max_iter = 500, C = 0.3)\n",
    "    clf.fit(Xt,y_train)\n",
    "    y_pred = clf.predict(Xv)\n",
    "    \n",
    "    print(accuracy_score(y_test, y_pred))\n",
    "    \n",
    "    y_test1 = np.zeros(y_test.shape[0])-1\n",
    "    y_learn = np.concatenate([y_train, y_test1])\n",
    "    \n",
    "    reducer = umap.UMAP(n_neighbors=12, metric='cosine', n_components=20)\n",
    "    embedding = reducer.fit(np.concatenate([Xt, Xv], axis=0), y_learn)\n",
    "    Xt1 = embedding.transform(Xt)\n",
    "    Xv1 = embedding.transform(Xv)\n",
    " \n",
    "    \n",
    "    clf = LogisticRegression(random_state=0, solver='lbfgs', multi_class='multinomial', max_iter = 500, C = 0.3)\n",
    "    clf.fit(Xt1,y_train)\n",
    "    y_pred = clf.predict(Xv1)\n",
    "    \n",
    "    print(accuracy_score(y_test, y_pred))\n",
    "    \n",
    "#     a = accuracy_score(y_test, y_pred)\n",
    "#     print(a)\n",
    "    \n",
    "#     Xt1 , Xv1, yt1, yv1 = send_new(Xt, Xv, y_train, y_test, clf, 1)\n",
    "\n",
    "#     for i in range(10):\n",
    "#         if i != 0:\n",
    "#             Xt1 , Xv1, yt1, yv1 = send_new(Xt1 , Xv1, yt1, yv1, clf, 0.8)\n",
    "#         else:\n",
    "#             Xt1 , Xv1, yt1, yv1 = send_new(Xt1 , Xv1, yt1, yv1, clf, 0.95)\n",
    "#         clf = LogisticRegression(random_state=0, solver='lbfgs', multi_class='multinomial', max_iter = 500)\n",
    "\n",
    "\n",
    "#         clf.fit(Xt1,yt1)\n",
    "#         y_pred = clf.predict(Xv)\n",
    "\n",
    "# #         print(accuracy_score(y_test, y_pred))\n",
    "#     clf = LogisticRegression(random_state=0, solver='lbfgs', multi_class='multinomial', max_iter = 500)\n",
    "#     clf.fit(Xt1, yt1)\n",
    "#     y_pred = clf.predict(Xv)\n",
    "    \n",
    "    clf = LogisticRegression(random_state=0, solver='lbfgs', multi_class='multinomial', max_iter = 500, C = 0.4)\n",
    "\n",
    "    clf.fit(np.concatenate([Xt, Xv], axis = 0),np.concatenate([y_train, y_pred], axis = 0))\n",
    "    y_pred = clf.predict(Xv)\n",
    "    accuracy_score(y_test, y_pred)\n",
    "    \n",
    "    a = accuracy_score(y_test, y_pred)\n",
    "    print(a)\n",
    "    \n",
    "    scores.append(a)\n",
    "print(np.array(scores).mean())"
   ]
  },
  {
   "cell_type": "code",
   "execution_count": null,
   "metadata": {},
   "outputs": [],
   "source": [
    "print(np.array(scores).mean())"
   ]
  },
  {
   "cell_type": "code",
   "execution_count": null,
   "metadata": {},
   "outputs": [],
   "source": [
    "plt.hist(scores)"
   ]
  },
  {
   "cell_type": "code",
   "execution_count": null,
   "metadata": {},
   "outputs": [],
   "source": [
    "np.array(scores).min()"
   ]
  },
  {
   "cell_type": "code",
   "execution_count": null,
   "metadata": {},
   "outputs": [],
   "source": [
    "np.array(scores).max()"
   ]
  },
  {
   "cell_type": "code",
   "execution_count": null,
   "metadata": {},
   "outputs": [],
   "source": [
    "def aug1(X, Y, size, aug):\n",
    "    \n",
    "    X_aug = [0 for elt in range(size)]\n",
    "    y_aug = [0 for elt in range(size)]\n",
    "    \n",
    "    for i in range(size):\n",
    "        a = random.randint(0,X.shape[0]-1)\n",
    "        X_aug[i] = aug.random_transform(X[a])\n",
    "        y_aug[i] = Y[a]\n",
    "    X_aug =  np.array(X_aug)   \n",
    "    y_aug = np.array(y_aug)\n",
    "    \n",
    "    X_aug = np.concatenate([X, X_aug], axis = 0)\n",
    "    y_aug = np.concatenate([Y, y_aug])\n",
    "    return X_aug, y_aug"
   ]
  },
  {
   "cell_type": "code",
   "execution_count": null,
   "metadata": {},
   "outputs": [],
   "source": []
  },
  {
   "cell_type": "code",
   "execution_count": null,
   "metadata": {},
   "outputs": [],
   "source": []
  },
  {
   "cell_type": "code",
   "execution_count": null,
   "metadata": {},
   "outputs": [],
   "source": []
  },
  {
   "cell_type": "code",
   "execution_count": null,
   "metadata": {},
   "outputs": [],
   "source": []
  },
  {
   "cell_type": "code",
   "execution_count": null,
   "metadata": {
    "scrolled": true
   },
   "outputs": [],
   "source": [
    "scores = []\n",
    "\n",
    "n = 5\n",
    "k = 5\n",
    "\n",
    "for i in range(100):\n",
    "    X_train, X_test, y_train, y_test = build_dataset(X, n, k)\n",
    "    y_t = np_utils.to_categorical(y_train)\n",
    "    y_v = np_utils.to_categorical(y_test)\n",
    "    \n",
    "#     model_transfert = load('2.resnet2 with augmentation', 'model')\n",
    "    \n",
    "    inputs = model_transfert.input\n",
    "    #dense_25 flatten_13\n",
    "    outputs = model_transfert.get_layer('dense_25').output\n",
    "    \n",
    "    model1 = Model(inputs = inputs, outputs = outputs)\n",
    "    \n",
    "    outputs = Dense(5, activation = 'softmax')(outputs)\n",
    "    \n",
    "    del model\n",
    "    \n",
    "    model = Model(inputs=inputs,   outputs=outputs)\n",
    "    for layer in model.layers:\n",
    "        layer.trainable = True\n",
    "\n",
    "    for layer in model.layers[:-2]:\n",
    "         layer.trainable = False\n",
    "    model.compile(loss=\"categorical_crossentropy\",optimizer=keras.optimizers.Adadelta(), metrics = ['accuracy'])\n",
    "    \n",
    "    aug = ImageDataGenerator(rotation_range=20, zoom_range=0.15,\n",
    "                         width_shift_range=0.2, height_shift_range=0.2, shear_range=0.15,\n",
    "                         horizontal_flip=True, fill_mode=\"nearest\")\n",
    "    batch_size = 100\n",
    "    \n",
    "    epochs = 20\n",
    "\n",
    "    history = model.fit_generator(aug.flow(X_train, y_t, batch_size=batch_size), steps_per_epoch=20,#len(X_train) // batch_size,\n",
    "    #     validation_data = (X_test, y_v),\n",
    "                              epochs=epochs, verbose = 0)\n",
    "\n",
    "    a = model.evaluate(X_test, y_v)[1]\n",
    "    print(\"experiment \"+str(i))\n",
    "    print('experiment score : '+str(a))\n",
    "#     print(\"average so far : \"+ str(np.array(scores).mean()))\n",
    "    scores.append(a)\n",
    "    print(\"average so far : \"+ str(np.array(scores).mean()))\n",
    "    \n",
    "    \n",
    "    Xt = model1.predict(X_train)\n",
    "    Xv = model1.predict(X_test)\n",
    "    clf = LogisticRegression(random_state=0, solver='lbfgs', multi_class='multinomial', max_iter = 500)\n",
    "    clf.fit(Xt,y_train)\n",
    "    y_pred = clf.predict(Xv)\n",
    "\n",
    "    a = accuracy_score(y_test, y_pred)\n",
    "    print(a)\n",
    "    \n",
    "print(np.array(scores).mean())"
   ]
  },
  {
   "cell_type": "code",
   "execution_count": null,
   "metadata": {},
   "outputs": [],
   "source": [
    "np.array(scores).min()"
   ]
  },
  {
   "cell_type": "code",
   "execution_count": null,
   "metadata": {},
   "outputs": [],
   "source": [
    "# model_transfert = load('2.resnet2 with augmentation', 'model')\n",
    "inputs = model_transfert.input\n",
    "#dense_25 flatten_13\n",
    "outputs = model_transfert.get_layer('dense_25').output\n",
    "outputs = Dense(5, activation = 'softmax')(outputs)\n",
    "\n",
    "model = Model(inputs=inputs,   outputs=outputs)\n",
    "\n",
    "for layer in model.layers:\n",
    "    layer.trainable = True\n",
    "\n",
    "for layer in model.layers[:-2]:\n",
    "     layer.trainable = False\n",
    "\n",
    "# for layer in model.layers[:59]:\n",
    "#      layer.trainable = False\n",
    "\n",
    "model.compile(loss=\"categorical_crossentropy\",optimizer=keras.optimizers.Adadelta(), metrics = ['accuracy'])\n"
   ]
  },
  {
   "cell_type": "code",
   "execution_count": null,
   "metadata": {},
   "outputs": [],
   "source": [
    "y_t = np_utils.to_categorical(y_train)\n",
    "y_v = np_utils.to_categorical(y_test)\n",
    "\n",
    "aug = ImageDataGenerator(rotation_range=20, zoom_range=0.15,\n",
    "                         width_shift_range=0.2, height_shift_range=0.2, shear_range=0.15,\n",
    "                         horizontal_flip=True, fill_mode=\"nearest\")\n",
    "\n",
    "\n",
    "# for layer in model.layers:\n",
    "#     layer.trainable = True\n",
    "\n",
    "\n",
    "# for layer in model.layers[:59]:\n",
    "#      layer.trainable = False\n",
    "# model.compile(loss=\"categorical_crossentropy\",optimizer=keras.optimizers.Adadelta(), metrics = ['accuracy'])\n",
    "\n",
    "\n",
    "# aug = ImageDataGenerator(rotation_range=40, zoom_range=0.3,\n",
    "#                          width_shift_range=0.4, height_shift_range=0.6, shear_range=0.3,\n",
    "#                          horizontal_flip=True, fill_mode=\"nearest\")\n",
    "\n",
    "batch_size = 5\n",
    "epochs = 25\n",
    "\n",
    "history = model.fit_generator(aug.flow(X_train, y_t, batch_size=batch_size), steps_per_epoch=len(X_train) // batch_size,\n",
    "#     validation_data = (X_test, y_v),\n",
    "                              epochs=epochs)\n",
    "\n",
    "# model.score(X_test, y_v)\n",
    "model.evaluate(X_test, y_v)"
   ]
  },
  {
   "cell_type": "code",
   "execution_count": null,
   "metadata": {},
   "outputs": [],
   "source": [
    "model.summary()"
   ]
  },
  {
   "cell_type": "code",
   "execution_count": null,
   "metadata": {},
   "outputs": [],
   "source": [
    "model.evaluate(X_test, y_v)"
   ]
  },
  {
   "cell_type": "code",
   "execution_count": null,
   "metadata": {},
   "outputs": [],
   "source": [
    "inputs = model.input\n",
    "#dense_25\n",
    "outputs = model.get_layer('dense_25').output\n",
    "\n",
    "# outputs = Dense(5, activation = 'softmax')(outputs)\n",
    "\n",
    "model1 = Model(inputs=inputs,   outputs=outputs)\n",
    "\n",
    "# model.compile(loss=\"categorical_crossentropy\",optimizer=keras.optimizers.Adadelta(), metrics = ['accuracy'])\n"
   ]
  },
  {
   "cell_type": "code",
   "execution_count": null,
   "metadata": {},
   "outputs": [],
   "source": [
    "Xt = model1.predict(X_train)\n",
    "print(0)\n",
    "Xv = model1.predict(X_test)\n",
    "print(1)\n",
    "clf = LogisticRegression(random_state=0, solver='lbfgs', multi_class='multinomial', max_iter = 500)\n",
    "# clf = RandomForestClassifier(n_estimators=200, max_depth=15,random_state=0, n_jobs = -1)\n",
    "# clf = SVC(gamma='auto')\n",
    "\n",
    "\n",
    "clf.fit(Xt,y_train)\n",
    "y_pred = clf.predict(Xv)\n",
    "\n",
    "accuracy_score(y_test, y_pred)"
   ]
  },
  {
   "cell_type": "code",
   "execution_count": null,
   "metadata": {},
   "outputs": [],
   "source": []
  },
  {
   "cell_type": "code",
   "execution_count": null,
   "metadata": {},
   "outputs": [],
   "source": []
  },
  {
   "cell_type": "code",
   "execution_count": null,
   "metadata": {},
   "outputs": [],
   "source": []
  },
  {
   "cell_type": "code",
   "execution_count": null,
   "metadata": {},
   "outputs": [],
   "source": []
  },
  {
   "cell_type": "code",
   "execution_count": null,
   "metadata": {},
   "outputs": [],
   "source": []
  },
  {
   "cell_type": "code",
   "execution_count": null,
   "metadata": {},
   "outputs": [],
   "source": []
  },
  {
   "cell_type": "code",
   "execution_count": null,
   "metadata": {},
   "outputs": [],
   "source": [
    "vgg = Sequential()\n",
    "for layer in model.layers[:14]:\n",
    "    vgg.add(layer)\n",
    "vgg.summary()"
   ]
  },
  {
   "cell_type": "code",
   "execution_count": null,
   "metadata": {},
   "outputs": [],
   "source": [
    "Xt = vgg.predict(X_train)\n",
    "Xv = vgg.predict(X_test)\n",
    "yt = cat_to_num(y_train)\n",
    "yv = cat_to_num(y_test)\n",
    "clf = LogisticRegression(random_state=0, solver='lbfgs', multi_class='multinomial', max_iter = 500)\n",
    "clf.fit(Xt,yt)\n"
   ]
  },
  {
   "cell_type": "code",
   "execution_count": null,
   "metadata": {},
   "outputs": [],
   "source": [
    "y_pred = clf.predict(Xv)\n",
    "from sklearn.metrics import accuracy_score\n",
    "accuracy_score(yv, y_pred)"
   ]
  },
  {
   "cell_type": "markdown",
   "metadata": {},
   "source": [
    "#### c) Transfert learning"
   ]
  },
  {
   "cell_type": "markdown",
   "metadata": {},
   "source": [
    "Let's use a pretrained VGG16 in order to train our model without fine tuning"
   ]
  },
  {
   "cell_type": "code",
   "execution_count": null,
   "metadata": {},
   "outputs": [],
   "source": [
    "vgg_conv = VGG16(weights='imagenet',\n",
    "                  include_top=False,\n",
    "                  input_shape=(84, 84, 3))\n",
    "vgg_conv.trainable = False\n",
    "\n",
    "# for layer in vgg_conv.layers[:15]:\n",
    "#     layer.trainable = False\n",
    "\n",
    "    \n",
    "# model.summary()\n",
    "\n",
    "\n",
    "Xt = vgg_conv.predict(X_train)\n",
    "Xv = vgg_conv.predict(X_test)\n",
    "\n",
    "model = Sequential()\n",
    "\n",
    "# model.add(vgg_conv)\n",
    "# model.add(Dropout(0.25))\n",
    "model.add(Flatten(input_shape=(2, 2, 512)))\n",
    "# model.add(Dense(256, activation='relu'))\n",
    "# model.add(Dropout(0.5))\n",
    "model.add(Dense(128, activation='relu'))\n",
    "model.add(Dropout(0.5))\n",
    "model.add(Dense(64, activation='softmax'))\n",
    "\n",
    "model.summary()\n",
    "\n",
    "batch_size = 128\n",
    "epochs = 100\n",
    "\n",
    "model.compile(loss=keras.losses.categorical_crossentropy,\n",
    "              optimizer='adam',\n",
    "              metrics=['accuracy'])\n",
    "\n",
    "history = model.fit(Xt, y_train,\n",
    "          batch_size=batch_size,\n",
    "          epochs=epochs,\n",
    "          verbose=1,\n",
    "          validation_data=(Xv, y_test))\n",
    "score = model.evaluate(Xv, y_test, verbose=0)\n",
    "print('Test loss:', score[0])\n",
    "print('Test accuracy:', score[1])\n",
    "\n",
    "save(history, '3.VGG16 transfer', 'results')\n",
    "save(model, '3.VGG16 transfer', 'model')\n",
    "plot(history)"
   ]
  },
  {
   "cell_type": "code",
   "execution_count": null,
   "metadata": {},
   "outputs": [],
   "source": [
    "plot(history)"
   ]
  },
  {
   "cell_type": "markdown",
   "metadata": {},
   "source": [
    "#### d) Small mix"
   ]
  },
  {
   "cell_type": "code",
   "execution_count": null,
   "metadata": {},
   "outputs": [],
   "source": [
    "\n",
    "from classification_models import Classifiers\n",
    "resnet18, preprocess_input = Classifiers.get('resnet18')\n",
    "vgg_conv = resnet18((84,84,3), weights = None, include_top = False)\n"
   ]
  },
  {
   "cell_type": "code",
   "execution_count": null,
   "metadata": {
    "scrolled": true
   },
   "outputs": [],
   "source": [
    "\n",
    "aug = ImageDataGenerator(rotation_range=20, zoom_range=0.15,\n",
    "                         width_shift_range=0.2, height_shift_range=0.2, shear_range=0.15,\n",
    "                         horizontal_flip=True, fill_mode=\"nearest\")\n",
    "\n",
    "\n",
    "vgg_conv = VGG16(weights='imagenet',\n",
    "                  include_top=False,\n",
    "                  input_shape=(84, 84, 3))\n",
    "vgg_conv.trainable = False\n",
    "\n",
    "\n",
    "\n",
    "model = Sequential()\n",
    "\n",
    "model.add(vgg_conv)\n",
    "model.add(Dropout(0.25))\n",
    "model.add(Flatten())\n",
    "# model.add(Dense(256, activation='relu'))\n",
    "# model.add(Dropout(0.5))\n",
    "model.add(Dense(128, activation='relu'))\n",
    "model.add(Dropout(0.5))\n",
    "model.add(Dense(64, activation='softmax'))\n",
    "\n",
    "model.summary()\n",
    "\n",
    "batch_size = 128\n",
    "epochs = 100\n",
    "\n",
    "model.compile(loss=keras.losses.categorical_crossentropy,\n",
    "              optimizer='adam',\n",
    "              metrics=['accuracy'])\n",
    "\n",
    "history = model.fit_generator(aug.flow(X_train, y_train, batch_size=batch_size),\n",
    "    validation_data=(X_test, y_test), steps_per_epoch=len(X_train) // batch_size,\n",
    "    epochs=epochs)\n",
    "\n",
    "score = model.evaluate(X_test, y_test, verbose=0)\n",
    "print('Test loss:', score[0])\n",
    "print('Test accuracy:', score[1])\n",
    "\n",
    "save(history, '3.VGG16 transfer', 'results')\n",
    "save(model, '3.VGG16 transfer', 'model')\n",
    "plot(history)"
   ]
  },
  {
   "cell_type": "code",
   "execution_count": null,
   "metadata": {},
   "outputs": [],
   "source": [
    "for layer in model.layers:\n",
    "    layer.trainable = True\n",
    "\n",
    "model.summary()\n",
    "\n",
    "\n",
    "batch_size = 32\n",
    "epochs = 50\n",
    "\n",
    "\n",
    "history = model.fit_generator(aug.flow(X_train, y_train, batch_size=batch_size),\n",
    "    validation_data=(X_test, y_test), steps_per_epoch=100, #len(X_train) // batch_size,\n",
    "    epochs=epochs)\n",
    "plot(history)"
   ]
  },
  {
   "cell_type": "markdown",
   "metadata": {},
   "source": [
    "## 2) Let's get started on few shot classification"
   ]
  },
  {
   "cell_type": "markdown",
   "metadata": {},
   "source": [
    "En général, les benchmarks de few shots learning se font sur du 5 ways 1 shot or 5 ways 5 shots learning, donc restructurons notre dataset de manière à pouvoir faire ainsi"
   ]
  },
  {
   "cell_type": "code",
   "execution_count": null,
   "metadata": {},
   "outputs": [],
   "source": [
    "Y = np.array(Y)\n",
    "X = np.array(X)\n",
    "X1 = []\n",
    "Y1 = []\n",
    "X_meta = []\n",
    "Y_meta = []\n",
    "\n",
    "keep = np.array([0,1,2,3,4])#generate_integer()\n",
    "meta = [i for i in range(64) if not(i in keep)]\n",
    "\n",
    "for i in range(len(Y)):\n",
    "    if Y[i] in keep:\n",
    "        X1.append(X[i])\n",
    "        Y1.append(Y[i])\n",
    "    else:\n",
    "        X_meta.append(X[i])\n",
    "        Y_meta.append(Y[i])\n",
    "            \n",
    "X1 = np.array(X1)\n",
    "Y1 = np.array(Y1)\n",
    "X_meta = np.array(X_meta)\n",
    "Y_meta = np.array(Y_meta)\n",
    "\n",
    "print(Y_meta.shape)\n",
    "\n",
    "for i in range(5):\n",
    "    for j in range(len(Y1)):\n",
    "        if Y1[j] == keep[i]:\n",
    "            Y1[j] = i\n",
    "\n",
    "for i in range(59):\n",
    "    for j in range(len(Y_meta)):\n",
    "        if Y_meta[j] == meta[i]:\n",
    "            Y_meta[j] = i\n",
    "\n",
    "# X1 = X[Y<4]\n",
    "# Y1 = Y[Y<4]\n",
    "y1 = np_utils.to_categorical(Y1,num_classes=5)\n",
    "\n",
    "# X_meta = X[Y>=4]\n",
    "# Y_meta = Y[Y>=4]\n",
    "y_meta = np_utils.to_categorical(Y_meta)\n",
    "\n",
    "print(keep)\n",
    "print(np.unique(Y1))"
   ]
  },
  {
   "cell_type": "code",
   "execution_count": null,
   "metadata": {},
   "outputs": [],
   "source": [
    "print(meta)"
   ]
  },
  {
   "cell_type": "code",
   "execution_count": null,
   "metadata": {},
   "outputs": [],
   "source": [
    "import gc"
   ]
  },
  {
   "cell_type": "code",
   "execution_count": null,
   "metadata": {},
   "outputs": [],
   "source": [
    "gc.collect()"
   ]
  },
  {
   "cell_type": "code",
   "execution_count": null,
   "metadata": {},
   "outputs": [],
   "source": [
    "def sample_k_shots(X, y, k):\n",
    "    X_train = []\n",
    "    X_test = []\n",
    "    y_train = []\n",
    "    y_test = []\n",
    "    \n",
    "    for i in np.unique(y):\n",
    "        \n",
    "#         for j in range(k):\n",
    "#             y_train.append(i)\n",
    "#         for j in range(500-k):\n",
    "#             y_test.append(i)\n",
    "        \n",
    "        X2 = []\n",
    "        y2 = []\n",
    "        for n in range(y.shape[0]):\n",
    "            if y[n] == i:\n",
    "                X2.append(X[n])\n",
    "                y2.append(y[n])\n",
    "        \n",
    "        X2 = np.array(X2)\n",
    "        y2 = np.array(y2)    \n",
    "        \n",
    "        for j in range(X2.shape[0]):\n",
    "            if j<k:\n",
    "                X_train.append(X2[j])\n",
    "                y_train.append(y2[j])\n",
    "            else:\n",
    "                X_test.append(X2[j])\n",
    "                y_test.append(y2[j])\n",
    "        \n",
    "    return np.array(X_train), np.array(X_test), np.array(y_train), np.array(y_test)"
   ]
  },
  {
   "cell_type": "markdown",
   "metadata": {},
   "source": [
    "#### a) VGG16 Oracle"
   ]
  },
  {
   "cell_type": "code",
   "execution_count": null,
   "metadata": {},
   "outputs": [],
   "source": [
    "\n",
    "vgg_conv = VGG16(weights='imagenet',\n",
    "                  include_top=False,\n",
    "                  input_shape=(84, 84, 3))\n",
    "\n",
    "model = Sequential()\n",
    "model.add(vgg_conv)\n",
    "model.add(Dropout(0.25))\n",
    "model.add(Flatten())\n",
    "\n",
    "Xt = model.predict(X1)\n",
    "# Xv = model.predict(X_test)\n",
    "yt = Y1#np.array(cat_to_num(y1))\n",
    "# yv = cat_to_num(y_test)\n",
    "\n",
    "sample = [1,5,10,20,40,80,160,300,400,500,550,590]\n",
    "\n",
    "results = []\n",
    "for elt in sample:\n",
    "    X_train, X_test, y_train, y_test = sample_k_shots(Xt, yt,elt)\n",
    "    clf = LogisticRegression(random_state=0, solver='lbfgs', multi_class='multinomial', max_iter = 2000)\n",
    "\n",
    "\n",
    "    clf.fit(X_train,y_train)\n",
    "    y_pred = clf.predict(X_test)\n",
    "\n",
    "    score = accuracy_score(y_test, y_pred)\n",
    "    print(score)\n",
    "    results.append(score)\n",
    "\n",
    "plt.plot(sample, results)\n",
    "\n",
    "dico = {'x_axis':sample, 'y_axis': results}\n",
    "save(dico, 'few shot benchmark', 'results')"
   ]
  },
  {
   "cell_type": "code",
   "execution_count": null,
   "metadata": {},
   "outputs": [],
   "source": [
    "confusion_matrix(y_test, y_pred)"
   ]
  },
  {
   "cell_type": "markdown",
   "metadata": {},
   "source": [
    "#### b) The importance of huge datasets"
   ]
  },
  {
   "cell_type": "code",
   "execution_count": null,
   "metadata": {},
   "outputs": [],
   "source": []
  },
  {
   "cell_type": "code",
   "execution_count": null,
   "metadata": {
    "scrolled": true
   },
   "outputs": [],
   "source": [
    "sample = [1,5,10,50,150,300,500]\n",
    "results = []\n",
    "k = 5\n",
    "for k in sample:\n",
    "    X_train, X_test, y_train, y_test = sample_k_shots(X1, Y1,k)\n",
    "    y_train = np_utils.to_categorical(y_train)\n",
    "    y_test = np_utils.to_categorical(y_test)\n",
    "\n",
    "\n",
    "    aug = ImageDataGenerator(rotation_range=20, zoom_range=0.15,\n",
    "                             width_shift_range=0.2, height_shift_range=0.2, shear_range=0.15,\n",
    "                             horizontal_flip=True, fill_mode=\"nearest\")\n",
    "\n",
    "    model = get_model(5)\n",
    "\n",
    "    model.summary()\n",
    "\n",
    "    batch_size = 150\n",
    "    epochs = 15\n",
    "\n",
    "    model.compile(loss=keras.losses.categorical_crossentropy,\n",
    "                  optimizer='adam',\n",
    "                  metrics=['accuracy'])\n",
    "\n",
    "    history = model.fit_generator(aug.flow(X_train, y_train, batch_size=batch_size),\n",
    "        validation_data=(X_test, y_test), steps_per_epoch=100,#len(X_train) // batch_size,\n",
    "        epochs=epochs)\n",
    "\n",
    "    score = model.evaluate(X_test, y_test, verbose=0)\n",
    "    print('Test loss:', score[0])\n",
    "    print('Test accuracy:', score[1])\n",
    "\n",
    "    save(history, '5 ways with data aug', 'results')\n",
    "    save(model, '5 ways with data aug', 'model')\n",
    "    plot(history)\n",
    "    results.append(np.array(history.history['val_acc']).max())\n",
    "\n",
    "\n",
    "plt.figure(5)\n",
    "plt.plot(sample, results)\n",
    "\n",
    "dico = {'x_axis':sample, 'y_axis': results}\n",
    "save(dico, '3. few shot benchmark custom architecture', 'results')"
   ]
  },
  {
   "cell_type": "code",
   "execution_count": null,
   "metadata": {},
   "outputs": [],
   "source": [
    "dico"
   ]
  },
  {
   "cell_type": "code",
   "execution_count": null,
   "metadata": {},
   "outputs": [],
   "source": [
    "Xt.shape"
   ]
  },
  {
   "cell_type": "code",
   "execution_count": null,
   "metadata": {},
   "outputs": [],
   "source": [
    "y_pred = history.model.predict_classes(X_test)\n",
    "# y_pred = cat_to_num(y_pred)\n",
    "y_t = cat_to_num(y_test)"
   ]
  },
  {
   "cell_type": "code",
   "execution_count": null,
   "metadata": {},
   "outputs": [],
   "source": [
    "\n",
    "confusion_matrix(y_t, y_pred)"
   ]
  },
  {
   "cell_type": "code",
   "execution_count": null,
   "metadata": {},
   "outputs": [],
   "source": [
    "accuracy_score(y_t, y_pred)"
   ]
  },
  {
   "cell_type": "code",
   "execution_count": null,
   "metadata": {},
   "outputs": [],
   "source": [
    "model_transfert = Sequential()\n",
    "\n",
    "for layer in model.layers[:14]:\n",
    "    model_transfert.add(layer)\n",
    "\n",
    "model_transfert.summary()\n",
    "\n",
    "Xt = model_transfert.predict(X1)\n",
    "# Xv = model.predict(X_test)\n",
    "yt = Y1#np.array(cat_to_num(y1))\n",
    "# yv = cat_to_num(y_test)\n",
    "\n",
    "sample = [1,5,10,20,40,80,160,300,400,500]\n",
    "\n",
    "results = []\n",
    "for elt in sample:\n",
    "    X_train, X_test, y_train, y_test = sample_k_shots(Xt, yt,elt)\n",
    "    clf = LogisticRegression(random_state=0, solver='lbfgs', multi_class='multinomial', max_iter = 2000)\n",
    "\n",
    "\n",
    "    clf.fit(X_train,y_train)\n",
    "    y_pred = clf.predict(X_test)\n",
    "\n",
    "    score = accuracy_score(y_test, y_pred)\n",
    "    print(score)\n",
    "    results.append(score)\n",
    "\n",
    "plt.plot(sample, results)\n",
    "\n",
    "dico = {'x_axis':sample, 'y_axis': results}\n",
    "save(dico, 'few shot benchmark', 'results')"
   ]
  },
  {
   "cell_type": "markdown",
   "metadata": {},
   "source": [
    "#### c) Transfert on yet unseen data"
   ]
  },
  {
   "cell_type": "markdown",
   "metadata": {},
   "source": [
    "First training of the model"
   ]
  },
  {
   "cell_type": "code",
   "execution_count": null,
   "metadata": {},
   "outputs": [],
   "source": [
    "gc.collect()\n",
    "X_train, X_test, y_train, y_test = train_test_split(X_meta, y_meta, test_size=0.2, random_state=42)\n",
    "\n",
    "\n",
    "aug = ImageDataGenerator(rotation_range=20, zoom_range=0.15,\n",
    "                         width_shift_range=0.2, height_shift_range=0.2, shear_range=0.15,\n",
    "                         horizontal_flip=True, fill_mode=\"nearest\")\n",
    "\n",
    "model = get_model(59)\n",
    "\n",
    "model.summary()\n",
    "\n",
    "batch_size = 32\n",
    "epochs = 50\n",
    "\n",
    "model.compile(loss=keras.losses.categorical_crossentropy,\n",
    "              optimizer=keras.optimizers.Adadelta(),\n",
    "              metrics=['accuracy'])\n",
    "\n",
    "history = model.fit_generator(aug.flow(X_train, y_train, batch_size=batch_size),\n",
    "    validation_data=(X_test, y_test), steps_per_epoch=50,#len(X_train) // batch_size,\n",
    "    epochs=epochs)\n",
    "\n",
    "score = model.evaluate(X_test, y_test, verbose=0)\n",
    "print('Test loss:', score[0])\n",
    "print('Test accuracy:', score[1])\n",
    "\n",
    "save(history, '4. Transfert on unseen data', 'results')\n",
    "save(model, '4. Transfert on unseen data', 'model')\n",
    "plot(history)"
   ]
  },
  {
   "cell_type": "markdown",
   "metadata": {},
   "source": [
    "Retraining, with progressive increase of the batch size"
   ]
  },
  {
   "cell_type": "code",
   "execution_count": null,
   "metadata": {
    "scrolled": true
   },
   "outputs": [],
   "source": [
    "batch_size = 512\n",
    "epochs = 50\n",
    "# X_train, X_test, y_train, y_test = train_test_split(X_meta, y_meta, test_size=0.2, random_state=42)\n",
    "\n",
    "aug = ImageDataGenerator(rotation_range=20, zoom_range=0.15,\n",
    "                         width_shift_range=0.2, height_shift_range=0.2, shear_range=0.15,\n",
    "                         horizontal_flip=True, fill_mode=\"nearest\")\n",
    "\n",
    "model = load('4. Transfert on unseen data', 'model')\n",
    "model.summary()\n",
    "history = model.fit_generator(aug.flow(X_train, y_train, batch_size=batch_size),\n",
    "    validation_data=(X_test, y_test), steps_per_epoch=50,#len(X_train) // batch_size,\n",
    "    epochs=epochs)\n",
    "\n",
    "score = model.evaluate(X_test, y_test, verbose=0)\n",
    "print('Test loss:', score[0])\n",
    "print('Test accuracy:', score[1])\n",
    "\n",
    "save(history, '4. Transfert on unseen data', 'results')\n",
    "save(model, '4. Transfert on unseen data', 'model')\n",
    "plot(history)"
   ]
  },
  {
   "cell_type": "markdown",
   "metadata": {},
   "source": [
    "Testing on the unseen classes with raw transfer"
   ]
  },
  {
   "cell_type": "code",
   "execution_count": null,
   "metadata": {
    "scrolled": true
   },
   "outputs": [],
   "source": [
    "model = load('4. Transfert on unseen data', 'model')\n",
    "\n",
    "model_transfert = Sequential()\n",
    "\n",
    "for layer in model.layers[:14]:\n",
    "    model_transfert.add(layer)\n",
    "\n",
    "model_transfert.summary()\n",
    "\n",
    "Xt = model_transfert.predict(X1)\n",
    "# Xv = model.predict(X_test)\n",
    "yt = Y1#np.array(cat_to_num(y1))\n",
    "# yv = cat_to_num(y_test)\n",
    "\n",
    "sample = [1,5,10,20,40,80,160,300,400,500]\n",
    "\n",
    "results = []\n",
    "for elt in sample:\n",
    "    X_train1, X_test1, y_train1, y_test1 = sample_k_shots(Xt, yt,elt)\n",
    "    clf = LogisticRegression(random_state=0, solver='lbfgs', multi_class='multinomial', max_iter = 2000)\n",
    "\n",
    "\n",
    "    clf.fit(X_train1,y_train1)\n",
    "    y_pred = clf.predict(X_test1)\n",
    "\n",
    "    score = accuracy_score(y_test1, y_pred)\n",
    "    print(score)\n",
    "    results.append(score)\n",
    "\n",
    "plt.plot(sample, results)\n",
    "\n",
    "dico = {'x_axis':sample, 'y_axis': results}\n",
    "save(dico, 'few shot benchmark', 'results')\n",
    "    "
   ]
  },
  {
   "cell_type": "markdown",
   "metadata": {},
   "source": [
    "Testing on the unseen classes with raw transfer"
   ]
  },
  {
   "cell_type": "code",
   "execution_count": null,
   "metadata": {},
   "outputs": [],
   "source": [
    "\n",
    "\n",
    "model = load('4. Transfert on unseen data', 'model')\n",
    "\n",
    "model_transfert = Sequential()\n",
    "\n",
    "for layer in model.layers[:14]:\n",
    "    model_transfert.add(layer)\n",
    "\n",
    "model_transfert.summary()\n",
    "\n",
    "# Xt = model_transfert.predict(X1)\n",
    "# # Xv = model.predict(X_test)\n",
    "# yt = Y1#np.array(cat_to_num(y1))\n",
    "# yv = cat_to_num(y_test)\n",
    "\n",
    "sample = [1,5,10,50,160,300,500]\n",
    "\n",
    "results = []\n",
    "results_clf = []\n",
    "for elt in sample:\n",
    "    X_train1, X_test1, Y_train1, Y_test1 = sample_k_shots(X1, Y1,elt)\n",
    "    \n",
    "    y_train1 = np_utils.to_categorical(Y_train1)\n",
    "    y_test1 = np_utils.to_categorical(Y_test1)\n",
    "    \n",
    "    \n",
    "    aug = ImageDataGenerator(rotation_range=20, zoom_range=0.15,\n",
    "                         width_shift_range=0.2, height_shift_range=0.2, shear_range=0.15,\n",
    "                         horizontal_flip=True, fill_mode=\"nearest\")\n",
    "    \n",
    "    model_transfert = Sequential()\n",
    "\n",
    "    for layer in model.layers[:14]:\n",
    "        model_transfert.add(layer)\n",
    "    \n",
    "    model_transfert.add(Dense(128, activation='relu'))\n",
    "    model_transfert.add(Dropout(0.5))\n",
    "    model_transfert.add(Dense(5, activation='softmax'))\n",
    "    \n",
    "    model_transfert.compile(loss=keras.losses.categorical_crossentropy,\n",
    "              optimizer=keras.optimizers.Adadelta(),\n",
    "              metrics=['accuracy'])\n",
    "    \n",
    "    batch_size = 64\n",
    "    epochs = 10\n",
    "    \n",
    "    history = model_transfert.fit_generator(aug.flow(X_train1, y_train1, batch_size=batch_size),\n",
    "        validation_data=(X_test1, y_test1), steps_per_epoch=50,#len(X_train) // batch_size,\n",
    "        epochs=epochs)\n",
    "    \n",
    "    score = max(history.history['val_acc'])\n",
    "    results.append(score)\n",
    "    \n",
    "    print('End of fine tuning')\n",
    "    \n",
    "    model1 = Sequential()\n",
    "    for layer in model_transfert.layers[:14]:\n",
    "        model1.add(layer)\n",
    "    \n",
    "    \n",
    "    clf = LogisticRegression(random_state=0, solver='lbfgs', multi_class='multinomial', max_iter = 2000)\n",
    "    \n",
    "    X_train2 = model1.predict(X_train1)\n",
    "    X_test2 = model1.predict(X_test1)\n",
    "\n",
    "    clf.fit(X_train2,Y_train1)\n",
    "    y_pred = clf.predict(X_test2)\n",
    "\n",
    "    score = accuracy_score(Y_test1, y_pred)\n",
    "    print(score)\n",
    "    results_clf.append(score)\n",
    "    \n",
    "    print(results)\n",
    "    print(results_clf)\n",
    "\n",
    "plt.plot(sample, results)\n",
    "plt.plot(sample, results_clf)\n",
    "\n",
    "dico = {'x_axis':sample, 'y_axis': results}\n",
    "save(dico, 'testing transfert on unseen classes', 'results')\n",
    "    "
   ]
  },
  {
   "cell_type": "code",
   "execution_count": null,
   "metadata": {},
   "outputs": [],
   "source": [
    "y_train1"
   ]
  },
  {
   "cell_type": "markdown",
   "metadata": {},
   "source": [
    "## Autoencoders "
   ]
  },
  {
   "cell_type": "code",
   "execution_count": null,
   "metadata": {},
   "outputs": [],
   "source": [
    "import keras.backend as K\n",
    "import tensorflow as tf\n",
    "\n",
    "def SSIM_cs(y_true, y_pred):\n",
    "    patches_true = tf.extract_image_patches(y_true, [1, 8, 8, 1], [1, 2, 2, 1], [1, 1, 1, 1], \"SAME\")\n",
    "    patches_pred = tf.extract_image_patches(y_pred, [1, 8, 8, 1], [1, 2, 2, 1], [1, 1, 1, 1], \"SAME\")\n",
    "\n",
    "    var_true = K.var(patches_true, axis=3)\n",
    "    var_pred = K.var(patches_pred, axis=3)\n",
    "    std_true = K.sqrt(var_true)\n",
    "    std_pred = K.sqrt(var_pred)\n",
    "    c2 = 0.03 ** 2\n",
    "    ssim = (2 * std_pred * std_true + c2)\n",
    "    denom = (var_pred + var_true + c2)\n",
    "    ssim /= denom\n",
    "    ssim = tf.where(tf.is_nan(ssim), K.zeros_like(ssim), ssim)\n",
    "    return 1 - K.mean(ssim)\n",
    "\n",
    "def autoencoder(input_shape, loss):\n",
    "    \n",
    "    encoder = Sequential()\n",
    "    \n",
    "    # Encoding layers\n",
    "    encoder.add(Conv2D(16, (3,3), padding = 'same', input_shape = input_shape, activation = 'relu'))\n",
    "    encoder.add(MaxPooling2D((2,2), padding = 'same'))\n",
    "    \n",
    "    encoder.add(Conv2D(2, (3,3), padding = 'same', activation = 'relu'))\n",
    "    encoder.add(MaxPooling2D((2,2), padding = 'same'))\n",
    "    \n",
    "#     encoder.add(Conv2D(16, (3,3), padding = 'same', activation = 'relu'))\n",
    "#     encoder.add(MaxPooling2D((2,2), padding = 'same'))\n",
    "    \n",
    "#     encoder.add(Conv2D(8, (3,3), padding = 'same', activation = 'relu'))\n",
    "#     encoder.add(MaxPooling2D((2,2), padding = 'same'))\n",
    "    \n",
    "    # Encoded layer\n",
    "#     encoder.add(Dense(100, activation='relu'))\n",
    "    \n",
    "    \n",
    "    # Decoding layers\n",
    "#     encoder.add(Conv2D(8, (3,3), padding = 'same', activation = 'relu'))\n",
    "#     encoder.add(UpSampling2D((2,2)))\n",
    "    \n",
    "#     encoder.add(Conv2D(16, (3,3),  padding = 'same', activation = 'relu'))\n",
    "#     encoder.add(UpSampling2D((2,2)))\n",
    "    \n",
    "    encoder.add(Conv2D(2, (3,3),  padding = 'same',  activation = 'relu'))\n",
    "    encoder.add(UpSampling2D((2,2)))\n",
    "    \n",
    "    encoder.add(Conv2D(16, (3,3),  padding = 'same', activation = 'relu'))\n",
    "    encoder.add(UpSampling2D((2,2)))\n",
    "    \n",
    "    \n",
    "    encoder.add(Conv2D(3, (3,3), padding = 'same', activation = 'relu'))\n",
    "    \n",
    "    encoder.summary()\n",
    "    \n",
    "    encoder.compile(optimizer = 'adadelta', loss = loss )\n",
    "    \n",
    "    return encoder\n",
    "    "
   ]
  },
  {
   "cell_type": "code",
   "execution_count": null,
   "metadata": {},
   "outputs": [],
   "source": [
    "X_tot = []\n",
    "for i in range(64):\n",
    "    X_tot.append([])\n",
    "for i in range(len(Y)):\n",
    "    X_tot[Y[i]].append(X[i])\n",
    "X_tot = np.array(X_tot)\n",
    "\n",
    "\n",
    "n_classes = 64\n",
    "\n",
    "X_train = X_tot[:n_classes]\n",
    "\n",
    "X_train = X_train.reshape(n_classes*600,84,84,3)\n",
    "\n",
    "\n",
    "encoder_ssim  = autoencoder((84,84,3), SSIM_cs)\n",
    "encoder_mse  = autoencoder((84,84,3), 'mse')"
   ]
  },
  {
   "cell_type": "code",
   "execution_count": null,
   "metadata": {},
   "outputs": [],
   "source": [
    "epochs = 10\n",
    "batch_size = 128\n",
    "history_ssim = encoder_ssim.fit(X_train, X_train,\n",
    "          batch_size=batch_size,\n",
    "          epochs=epochs,\n",
    "          verbose=1)\n",
    "\n",
    "history_mse = encoder_mse.fit(X_train, X_train,\n",
    "          batch_size=batch_size,\n",
    "          epochs=epochs,\n",
    "          verbose=1)"
   ]
  },
  {
   "cell_type": "code",
   "execution_count": null,
   "metadata": {},
   "outputs": [],
   "source": [
    "# save(encoder_ssim, 'encoder_ssim', 'model')\n",
    "# save(encoder_mse, 'encoder_mse', 'model')"
   ]
  },
  {
   "cell_type": "code",
   "execution_count": null,
   "metadata": {
    "scrolled": false
   },
   "outputs": [],
   "source": [
    "i = 60\n",
    "plt.figure(0)\n",
    "plt.imshow(X_train[i])\n",
    "plt.figure(1)\n",
    "plt.imshow(encoder_ssim.predict([[X_train[i]]])[0].astype(int), cmap = 'gray')\n",
    "plt.figure(2)\n",
    "plt.imshow(encoder_mse.predict([[X_train[i]]])[0].astype(int))"
   ]
  },
  {
   "cell_type": "code",
   "execution_count": null,
   "metadata": {},
   "outputs": [],
   "source": [
    "model_temp = load('encoder_mse', 'model')"
   ]
  },
  {
   "cell_type": "code",
   "execution_count": null,
   "metadata": {},
   "outputs": [],
   "source": [
    "model_temp = encoder_ssim\n",
    "model_temp = load('encoder_mse', 'model')\n",
    "\n",
    "model = Sequential()\n",
    "for layer in model_temp.layers[:6]:\n",
    "    model.add(layer)\n",
    "model.add(Flatten())\n",
    "model.add(Dense(5, activation = 'softmax'))\n"
   ]
  },
  {
   "cell_type": "code",
   "execution_count": null,
   "metadata": {},
   "outputs": [],
   "source": [
    "X1 = X_tot[:5].reshape((600*5,84,84,3))\n",
    "\n",
    "Y1 = []\n",
    "for i in range(5):\n",
    "    for j in range(600):\n",
    "        Y1.append(i)\n",
    "        \n",
    "# X1 = model.predict(X1)        "
   ]
  },
  {
   "cell_type": "code",
   "execution_count": null,
   "metadata": {},
   "outputs": [],
   "source": [
    "X_train.shape"
   ]
  },
  {
   "cell_type": "code",
   "execution_count": null,
   "metadata": {},
   "outputs": [],
   "source": []
  },
  {
   "cell_type": "code",
   "execution_count": null,
   "metadata": {},
   "outputs": [],
   "source": []
  },
  {
   "cell_type": "code",
   "execution_count": null,
   "metadata": {},
   "outputs": [],
   "source": [
    "model.summary()"
   ]
  },
  {
   "cell_type": "code",
   "execution_count": null,
   "metadata": {},
   "outputs": [],
   "source": [
    "model = get_model(5)"
   ]
  },
  {
   "cell_type": "code",
   "execution_count": null,
   "metadata": {},
   "outputs": [],
   "source": []
  },
  {
   "cell_type": "code",
   "execution_count": null,
   "metadata": {},
   "outputs": [],
   "source": []
  },
  {
   "cell_type": "code",
   "execution_count": null,
   "metadata": {},
   "outputs": [],
   "source": []
  },
  {
   "cell_type": "code",
   "execution_count": null,
   "metadata": {},
   "outputs": [],
   "source": []
  },
  {
   "cell_type": "code",
   "execution_count": null,
   "metadata": {},
   "outputs": [],
   "source": []
  },
  {
   "cell_type": "code",
   "execution_count": null,
   "metadata": {},
   "outputs": [],
   "source": []
  },
  {
   "cell_type": "code",
   "execution_count": null,
   "metadata": {},
   "outputs": [],
   "source": []
  },
  {
   "cell_type": "code",
   "execution_count": null,
   "metadata": {},
   "outputs": [],
   "source": []
  },
  {
   "cell_type": "code",
   "execution_count": null,
   "metadata": {},
   "outputs": [],
   "source": []
  },
  {
   "cell_type": "code",
   "execution_count": null,
   "metadata": {},
   "outputs": [],
   "source": []
  },
  {
   "cell_type": "code",
   "execution_count": null,
   "metadata": {},
   "outputs": [],
   "source": []
  },
  {
   "cell_type": "code",
   "execution_count": null,
   "metadata": {},
   "outputs": [],
   "source": []
  },
  {
   "cell_type": "code",
   "execution_count": null,
   "metadata": {},
   "outputs": [],
   "source": []
  },
  {
   "cell_type": "code",
   "execution_count": null,
   "metadata": {},
   "outputs": [],
   "source": []
  },
  {
   "cell_type": "code",
   "execution_count": null,
   "metadata": {},
   "outputs": [],
   "source": []
  },
  {
   "cell_type": "code",
   "execution_count": null,
   "metadata": {},
   "outputs": [],
   "source": []
  },
  {
   "cell_type": "code",
   "execution_count": null,
   "metadata": {},
   "outputs": [],
   "source": []
  },
  {
   "cell_type": "code",
   "execution_count": null,
   "metadata": {},
   "outputs": [],
   "source": []
  },
  {
   "cell_type": "code",
   "execution_count": null,
   "metadata": {},
   "outputs": [],
   "source": []
  },
  {
   "cell_type": "code",
   "execution_count": null,
   "metadata": {},
   "outputs": [],
   "source": []
  },
  {
   "cell_type": "code",
   "execution_count": null,
   "metadata": {},
   "outputs": [],
   "source": []
  },
  {
   "cell_type": "code",
   "execution_count": null,
   "metadata": {},
   "outputs": [],
   "source": []
  },
  {
   "cell_type": "code",
   "execution_count": null,
   "metadata": {},
   "outputs": [],
   "source": []
  },
  {
   "cell_type": "markdown",
   "metadata": {},
   "source": [
    "## Siamese Networks"
   ]
  },
  {
   "cell_type": "code",
   "execution_count": null,
   "metadata": {},
   "outputs": [],
   "source": [
    "def siamese_net(pretrained = \"\", trainable = True):\n",
    "    \n",
    "    convnet = Sequential()\n",
    "    \n",
    "    input_shape = (84,84,3)\n",
    "    \n",
    "    left_input = Input(input_shape)\n",
    "    right_input = Input(input_shape)\n",
    "    \n",
    "    \n",
    "    if pretrained == \"\":\n",
    "        model_conv = get_model(5)\n",
    "    else:\n",
    "        model_conv = load(pretrained,'model')\n",
    "    \n",
    "    for layer in model_conv.layers[:14]:\n",
    "        convnet.add(layer)\n",
    "    convnet.add(Dense(256, activation ='relu'))\n",
    "    \n",
    "    \n",
    "    if trainable == False:\n",
    "        for layer in convnet.layers[:14]:\n",
    "            layer.trainable = False\n",
    "    convnet.summary()\n",
    "    \n",
    "    encoded_l = convnet(left_input)\n",
    "    encoded_r = convnet(right_input)\n",
    "    \n",
    "#     L1_distance = lambda x: K.abs(x[0]-x[1])\n",
    "    \n",
    "#     both = keras.layers.subtract([encoded_l,encoded_r])\n",
    "    \n",
    "#     both = merge([encoded_l,encoded_r], mode = L1_distance, output_shape=lambda x: x[0])\n",
    "    \n",
    "    merge_layer = Lambda(lambda  x : K.abs(x[0]-x[1]), output_shape = lambda x : x[0])\n",
    "    \n",
    "    both = merge_layer([encoded_l,encoded_r])\n",
    "    \n",
    "    x1 = Dense(128, activation ='relu')(encoded_l)\n",
    "    prediction = Dense(1,activation='sigmoid')(x1)\n",
    "    \n",
    "    siamese_net1 = Model(input=[left_input,right_input],output=prediction)\n",
    "    siamese_net1.summary()\n",
    "    return siamese_net1\n",
    "    "
   ]
  },
  {
   "cell_type": "markdown",
   "metadata": {},
   "source": [
    "Let's put the inputs in shape 64x600x48x48 to ease the acces to a given class"
   ]
  },
  {
   "cell_type": "code",
   "execution_count": null,
   "metadata": {},
   "outputs": [],
   "source": [
    "X_tot = []\n",
    "for i in range(64):\n",
    "    X_tot.append([])\n",
    "    \n",
    "for i in range(len(Y)):\n",
    "    X_tot[Y[i]].append(X[i])\n",
    "\n",
    "X_tot = np.array(X_tot)\n",
    "\n",
    "X_few = X_tot[:5]\n",
    "X_meta = X_tot[5:]"
   ]
  },
  {
   "cell_type": "code",
   "execution_count": null,
   "metadata": {},
   "outputs": [],
   "source": [
    "def get_batch(X, k):\n",
    "    labels = []\n",
    "    \n",
    "    input_right = []\n",
    "    input_left = []\n",
    "    \n",
    "    n_classes = X.shape[0]\n",
    "    per_classes = X.shape[1]\n",
    "    \n",
    "    for i in range(k):\n",
    "        label = random.choice([0,1])\n",
    "        labels.append(label)\n",
    "        \n",
    "        classe1 = random.choice(list(range(n_classes)))\n",
    "        ind1 = random.choice(list(range(n_classes)))\n",
    "        \n",
    "        input_right.append(X[classe1,ind1])\n",
    "        \n",
    "        if label == 0:\n",
    "            l = [k for k in list(range(n_classes)) if k!= classe1]\n",
    "            classe1 = random.choice(l)\n",
    "        ind1 = random.choice(list(range(n_classes)))\n",
    "        input_left.append(X[classe1,ind1])\n",
    "    labels = np.array(labels)\n",
    "    inputs = [np.array(input_right),np.array(input_left)]\n",
    "    \n",
    "    return labels, inputs\n",
    "\n",
    "def to_classes(X):\n",
    "    Y = []\n",
    "    for elt in X:\n",
    "        if elt[0]>= 0.5:\n",
    "            Y.append(1)\n",
    "        else:\n",
    "            Y.append(0)\n",
    "    return Y"
   ]
  },
  {
   "cell_type": "markdown",
   "metadata": {},
   "source": [
    "Siamese net from scratch on rebalanced dataset"
   ]
  },
  {
   "cell_type": "code",
   "execution_count": null,
   "metadata": {},
   "outputs": [],
   "source": [
    "y_test"
   ]
  },
  {
   "cell_type": "code",
   "execution_count": null,
   "metadata": {},
   "outputs": [],
   "source": [
    "np.array(y_pred_v)"
   ]
  },
  {
   "cell_type": "code",
   "execution_count": null,
   "metadata": {},
   "outputs": [],
   "source": [
    "siamese.predict(X_train)"
   ]
  },
  {
   "cell_type": "code",
   "execution_count": null,
   "metadata": {},
   "outputs": [],
   "source": [
    "def get_siamese(trainable = True, pretrained = '4. Transfert on unseen data'):\n",
    "\n",
    "    def W_init(shape,name=None):\n",
    "        \"\"\"Initialize weights as in paper\"\"\"\n",
    "        values = rng.normal(loc=0,scale=1e-2,size=shape)\n",
    "        return K.variable(values,name=name)\n",
    "    #//TODO: figure out how to initialize layer biases in keras.\n",
    "    def b_init(shape,name=None):\n",
    "        \"\"\"Initialize bias as in paper\"\"\"\n",
    "        values=rng.normal(loc=0.5,scale=1e-2,size=shape)\n",
    "        return K.variable(values,name=name)\n",
    "\n",
    "    input_shape = (84, 84, 3)\n",
    "    left_input = Input(input_shape)\n",
    "    right_input = Input(input_shape)\n",
    "    #build convnet to use in each siamese 'leg'\n",
    "    convnet = Sequential()\n",
    "\n",
    "\n",
    "\n",
    "    # convnet.add(Conv2D(64,(10,10),activation='relu',input_shape=input_shape,\n",
    "    #                    kernel_initializer=W_init,kernel_regularizer=l2(2e-4)))\n",
    "    # convnet.add(MaxPooling2D())\n",
    "    # convnet.add(Conv2D(128,(7,7),activation='relu',\n",
    "    #                    kernel_regularizer=l2(2e-4),kernel_initializer=W_init,bias_initializer=b_init))\n",
    "    # convnet.add(MaxPooling2D())\n",
    "    # convnet.add(Conv2D(256,(4,4),activation='relu',kernel_initializer=W_init,kernel_regularizer=l2(2e-4),bias_initializer=b_init))\n",
    "    # convnet.add(MaxPooling2D())\n",
    "    # convnet.add(Conv2D(512,(4,4),activation='relu',kernel_initializer=W_init,kernel_regularizer=l2(2e-4),bias_initializer=b_init))\n",
    "    # convnet.add(Flatten())\n",
    "    # convnet.add(Dense(1024,activation=\"sigmoid\",kernel_regularizer=l2(1e-3),kernel_initializer=W_init,bias_initializer=b_init))\n",
    "\n",
    "    convnet = Sequential()\n",
    "\n",
    "    input_shape = (84,84,3)\n",
    "\n",
    "    left_input = Input(input_shape)\n",
    "    right_input = Input(input_shape)\n",
    "\n",
    "    pretrained = '4. Transfert on unseen data'\n",
    "    trainable = True\n",
    "\n",
    "    if pretrained == \"\":\n",
    "        model_conv = get_model(5)\n",
    "    else:\n",
    "        model_conv = load(pretrained,'model')\n",
    "\n",
    "    for layer in model_conv.layers[:14]:\n",
    "        convnet.add(layer)\n",
    "    convnet.add(Dense(512, activation ='sigmoid'))\n",
    "\n",
    "\n",
    "    if trainable == False:\n",
    "        for layer in convnet.layers[:14]:\n",
    "            layer.trainable = False\n",
    "\n",
    "\n",
    "\n",
    "    #encode each of the two inputs into a vector with the convnet\n",
    "    encoded_l = convnet(left_input)\n",
    "    encoded_r = convnet(right_input)\n",
    "    #merge two encoded inputs with the l1 distance between them\n",
    "\n",
    "\n",
    "    # L1_distance = lambda x: K.abs(x[0]-x[1])\n",
    "    # both = merge([encoded_l,encoded_r], mode = L1_distance, output_shape=lambda x: x[0])\n",
    "\n",
    "    merge_layer = Lambda(lambda  x : K.abs(x[0]-x[1]), output_shape = lambda x : x[0])\n",
    "    both = merge_layer([encoded_l,encoded_r])\n",
    "\n",
    "    # both = Dense(512, activation ='relu')\n",
    "    prediction = Dense(1,activation='sigmoid',bias_initializer=b_init)(both)\n",
    "    siamese_net = Model(input=[left_input,right_input],output=prediction)\n",
    "    #optimizer = SGD(0.0004,momentum=0.6,nesterov=True,decay=0.0003)\n",
    "\n",
    "    optimizer = Adam(0.00006)\n",
    "    #//TODO: get layerwise learning rates and momentum annealing scheme described in paperworking\n",
    "    siamese_net.compile(loss=\"binary_crossentropy\",optimizer=optimizer, metrics = ['accuracy'])\n",
    "\n",
    "    convnet.summary()\n",
    "    siamese_net.summary()\n",
    "    return siamese_net"
   ]
  },
  {
   "cell_type": "code",
   "execution_count": null,
   "metadata": {},
   "outputs": [],
   "source": [
    "def choose_batch_size(i):\n",
    "    if i < 25:\n",
    "        return 16\n",
    "    elif i<50:\n",
    "        return 32\n",
    "    elif i<75:\n",
    "        return 64\n",
    "    elif i<100:\n",
    "        return 128\n",
    "    else:\n",
    "        return 256"
   ]
  },
  {
   "cell_type": "code",
   "execution_count": null,
   "metadata": {
    "scrolled": true
   },
   "outputs": [],
   "source": [
    "siamese_net = get_siamese(True, '')\n",
    "\n",
    "X_s = X_tot[:5]\n",
    "train = X_tot[5:,:,:,:,:]\n",
    "test = X_tot[:5,:,:,:,:]\n",
    "\n",
    "\n",
    "y_test1, X_test1  = get_batch(test, 500)\n",
    "\n",
    "\n",
    "epochs = 150\n",
    "batch_size = 256\n",
    "steps = 100\n",
    "best_batch = 0.55\n",
    "\n",
    "# siamese_net.load_weights(\"PATH\")\n",
    "best = 0.6\n",
    "for i in range(epochs):\n",
    "    print('\\n' + 'Epoch number '+str(i)+' sur '+str(epochs) )\n",
    "    \n",
    "    batch_size = choose_batch_size(i)\n",
    "    \n",
    "    for j in range(steps):\n",
    "        y_train, X_train = get_batch(train, batch_size)\n",
    "        loss=siamese_net.train_on_batch(X_train,y_train)\n",
    "        \n",
    "        sys.stdout.write(\"\\rStep {} sur {} \".format(j+1,steps))\n",
    "        sys.stdout.flush()\n",
    "     \n",
    "    y_test2, X_test2  = get_batch(test, 500)\n",
    "    loss1 = siamese_net.test_on_batch(X_test1, y_test1)\n",
    "    loss2 = siamese_net.test_on_batch(X_test2, y_test2)\n",
    "    print('                   Training Accuracy : {}   Test Accuracy 1 : {}    Test Accuracy 2 :  {}'.format(round(loss[1]*100),\n",
    "                                                                                          round(loss1[1]*100),\n",
    "                                                                                          round(loss2[1]*100)))\n",
    "    \n",
    "    if loss1[1]>best_batch:\n",
    "        best_batch = loss1[1]\n",
    "        save(siamese_net, 'siamese_network','model')\n",
    "        print('save')"
   ]
  },
  {
   "cell_type": "code",
   "execution_count": null,
   "metadata": {},
   "outputs": [],
   "source": [
    "y_test1"
   ]
  },
  {
   "cell_type": "code",
   "execution_count": null,
   "metadata": {},
   "outputs": [],
   "source": [
    "a = np.array(to_classes(siamese_net.predict(X_test1)))"
   ]
  },
  {
   "cell_type": "code",
   "execution_count": null,
   "metadata": {},
   "outputs": [],
   "source": [
    "a.sum()"
   ]
  },
  {
   "cell_type": "code",
   "execution_count": null,
   "metadata": {},
   "outputs": [],
   "source": [
    "def to_classes(X):\n",
    "    Y = []\n",
    "    for elt in X:\n",
    "        if elt[0]> 0.1:\n",
    "            Y.append(1)\n",
    "        else:\n",
    "            Y.append(0)\n",
    "    return Y\n",
    "a = np.array(to_classes(siamese_net.predict(X_test1)))\n",
    "count = 0\n",
    "count1 = 0\n",
    "for i in range(len(a)):\n",
    "    if a[i] == 1 and y_test1[i]==1:\n",
    "        count += 1\n",
    "    elif a[i] == 0 and y_test1[i]==0:\n",
    "        count1+=1\n",
    "print(count)\n",
    "print(count1)\n",
    "print(500-count-count1)"
   ]
  },
  {
   "cell_type": "code",
   "execution_count": null,
   "metadata": {},
   "outputs": [],
   "source": [
    "X_comp = X_tot[:5,:5,:,:,:]\n",
    "\n",
    "\n",
    "image = X_tot[2,10]\n",
    "\n",
    "results = []\n",
    "max1 = -1\n",
    "ind = -1\n",
    "for i in range(5):\n",
    "    vect = []\n",
    "    for j in range(5):\n",
    "        image_comp = X_comp[i,j]\n",
    "        input1 = [[image], [image_comp]]\n",
    "        output = siamese_net.predict(input1)\n",
    "        if output > 0.1:\n",
    "            vect.append(1)\n",
    "        else:\n",
    "            vect.append(0)\n",
    "    results.append(sum(vect))\n",
    "    \n",
    "print(results)\n",
    "    \n",
    "    "
   ]
  },
  {
   "cell_type": "code",
   "execution_count": null,
   "metadata": {},
   "outputs": [],
   "source": [
    "for i in range(5):\n",
    "    plt.figure(i)\n",
    "    plt.imshow(X_tot[i,5])"
   ]
  },
  {
   "cell_type": "code",
   "execution_count": null,
   "metadata": {},
   "outputs": [],
   "source": [
    "from keras.applications import VGG16\n",
    "\n",
    "from keras import applications as app"
   ]
  },
  {
   "cell_type": "code",
   "execution_count": null,
   "metadata": {},
   "outputs": [],
   "source": [
    "dir(app)"
   ]
  },
  {
   "cell_type": "code",
   "execution_count": null,
   "metadata": {},
   "outputs": [],
   "source": [
    "model = app.ResNet50(include_top=False, weights='imagenet', input_shape=(84,84,3))"
   ]
  },
  {
   "cell_type": "code",
   "execution_count": null,
   "metadata": {},
   "outputs": [],
   "source": [
    "model.summary()"
   ]
  },
  {
   "cell_type": "code",
   "execution_count": null,
   "metadata": {},
   "outputs": [],
   "source": []
  }
 ],
 "metadata": {
  "kernelspec": {
   "display_name": "Python 3",
   "language": "python",
   "name": "python3"
  },
  "language_info": {
   "codemirror_mode": {
    "name": "ipython",
    "version": 3
   },
   "file_extension": ".py",
   "mimetype": "text/x-python",
   "name": "python",
   "nbconvert_exporter": "python",
   "pygments_lexer": "ipython3",
   "version": "3.7.4"
  }
 },
 "nbformat": 4,
 "nbformat_minor": 2
}
