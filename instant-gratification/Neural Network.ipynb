{
 "cells": [
  {
   "cell_type": "code",
   "execution_count": 1,
   "metadata": {},
   "outputs": [
    {
     "name": "stderr",
     "output_type": "stream",
     "text": [
      "Using TensorFlow backend.\n"
     ]
    }
   ],
   "source": [
    "import os\n",
    "import gc\n",
    "import pandas as pd\n",
    "import numpy as np\n",
    "\n",
    "from sklearn.model_selection import StratifiedKFold\n",
    "from sklearn import metrics, preprocessing\n",
    "from sklearn.preprocessing import OneHotEncoder\n",
    "\n",
    "from sklearn.model_selection import train_test_split\n",
    "\n",
    "import tensorflow as tf\n",
    "from keras.layers import Dense, Input\n",
    "from collections import Counter\n",
    "from keras.layers import BatchNormalization\n",
    "from keras.optimizers import Adam\n",
    "from keras.models import Model, load_model\n",
    "from keras import callbacks\n",
    "from keras import backend as K\n",
    "from keras.layers import Dropout\n",
    "\n",
    "import warnings\n",
    "warnings.filterwarnings(\"ignore\")"
   ]
  },
  {
   "cell_type": "code",
   "execution_count": null,
   "metadata": {},
   "outputs": [],
   "source": [
    "def submit(predictions):\n",
    "    submit = pd.read_csv('../input/sample_submission.csv')\n",
    "    submit[\"target\"] = predictions\n",
    "    submit.to_csv(\"submission.csv\", index=False)\n",
    "\n",
    "def fallback_auc(y_true, y_pred):\n",
    "    try:\n",
    "        return metrics.roc_auc_score(y_true, y_pred)\n",
    "    except:\n",
    "        return 0.5\n",
    "\n",
    "def auc(y_true, y_pred):\n",
    "    return tf.py_function(fallback_auc, (y_true, y_pred), tf.double)"
   ]
  },
  {
   "cell_type": "code",
   "execution_count": null,
   "metadata": {},
   "outputs": [],
   "source": [
    "df_tr = pd.read_csv(\"train.csv\")\n",
    "df_test = pd.read_csv(\"test.csv\")"
   ]
  },
  {
   "cell_type": "code",
   "execution_count": null,
   "metadata": {},
   "outputs": [],
   "source": [
    "df = df_tr[df_tr['wheezy-copper-turtle-magic']==0]\n",
    "df1 = df_test[df_test['wheezy-copper-turtle-magic']==0]"
   ]
  },
  {
   "cell_type": "code",
   "execution_count": null,
   "metadata": {},
   "outputs": [],
   "source": [
    "NFOLDS = 5\n",
    "RANDOM_STATE = 42\n",
    "numeric = [c for c in df.columns if c not in ['id', 'target', 'wheezy-copper-turtle-magic']]"
   ]
  },
  {
   "cell_type": "code",
   "execution_count": null,
   "metadata": {},
   "outputs": [],
   "source": [
    "len_train = df.shape[0]\n",
    "df1['target'] = -1\n",
    "data = pd.concat([df, df1])\n",
    "data['magic_count'] = data.groupby(['wheezy-copper-turtle-magic'])['id'].transform('count')\n",
    "data = pd.concat([data, pd.get_dummies(data['wheezy-copper-turtle-magic'])], axis=1, sort=False)\n",
    "\n",
    "df = data[:len_train]\n",
    "df1 = data[len_train:]"
   ]
  },
  {
   "cell_type": "code",
   "execution_count": null,
   "metadata": {},
   "outputs": [],
   "source": [
    "folds = StratifiedKFold(n_splits=NFOLDS, shuffle=True, random_state=RANDOM_STATE)"
   ]
  },
  {
   "cell_type": "code",
   "execution_count": 2,
   "metadata": {},
   "outputs": [
    {
     "data": {
      "text/plain": [
       "20"
      ]
     },
     "execution_count": 2,
     "metadata": {},
     "output_type": "execute_result"
    }
   ],
   "source": [
    "gc.collect()"
   ]
  },
  {
   "cell_type": "code",
   "execution_count": null,
   "metadata": {},
   "outputs": [],
   "source": [
    "y = df.target\n",
    "ids = df.id.values\n",
    "train = df.drop(['id', 'target'], axis=1)\n",
    "test_ids = df1.id.values\n",
    "test = df1[train.columns]\n",
    "\n",
    "oof_preds = np.zeros((len(train)))\n",
    "test_preds = np.zeros((len(test)))\n",
    "\n",
    "scl = preprocessing.StandardScaler()\n",
    "scl.fit(pd.concat([train, test]))\n",
    "train = scl.transform(train)\n",
    "test = scl.transform(test)\n",
    "\n",
    "\n",
    "X_train, X_test, y_train, y_test = train_test_split(train, y, test_size=0.2, random_state = 42)"
   ]
  },
  {
   "cell_type": "code",
   "execution_count": null,
   "metadata": {},
   "outputs": [],
   "source": [
    "\n",
    "\n",
    "inp = Input(shape=(X_train.shape[1],))\n",
    "x = Dense(2000, activation=\"relu\")(inp)\n",
    "x = BatchNormalization()(x)\n",
    "x = Dropout(0.3)(x)\n",
    "x = Dense(1000, activation=\"relu\")(x)\n",
    "x = BatchNormalization()(x)\n",
    "x = Dropout(0.3)(x)\n",
    "x = Dense(500, activation=\"relu\")(x)\n",
    "x = BatchNormalization()(x)\n",
    "x = Dropout(0.2)(x)\n",
    "x = Dense(100, activation=\"relu\")(x)\n",
    "x = BatchNormalization()(x)\n",
    "x = Dropout(0.2)(x)\n",
    "out = Dense(1, activation=\"sigmoid\")(x)\n",
    "    \n",
    "clf = Model(inputs=inp, outputs=out)\n",
    "clf.compile(loss='binary_crossentropy', optimizer='adam', metrics=[auc])\n",
    "clf.summary()\n",
    "#     es = callbacks.EarlyStopping(monitor='val_auc', min_delta=0.001, patience=10,\n",
    "#                                  verbose=1, mode='max', baseline=None, restore_best_weights=True)\n",
    "\n",
    "#     rlr = callbacks.ReduceLROnPlateau(monitor='val_auc', factor=0.5,\n",
    "#                                       patience=3, min_lr=1e-6, mode='max', verbose=1)\n",
    "#, callbacks=[es, rlr]\n",
    "clf.fit(X_train, y_train, validation_data=(X_test, y_test), epochs=10, batch_size=32)\n",
    "    \n",
    "# val_preds = clf.predict(val_x)\n",
    "# test_fold_preds = clf.predict(test)\n",
    "    \n",
    "# print(\"AUC = {}\".format(metrics.roc_auc_score(val_y, val_preds)))\n",
    "# oof_preds[val_] = val_preds.ravel()\n",
    "# test_preds += test_fold_preds.ravel() / NFOLDS\n",
    "    \n",
    "K.clear_session()\n",
    "gc.collect()"
   ]
  },
  {
   "cell_type": "code",
   "execution_count": null,
   "metadata": {},
   "outputs": [],
   "source": []
  },
  {
   "cell_type": "code",
   "execution_count": null,
   "metadata": {},
   "outputs": [],
   "source": []
  }
 ],
 "metadata": {
  "kernelspec": {
   "display_name": "Python 3",
   "language": "python",
   "name": "python3"
  },
  "language_info": {
   "codemirror_mode": {
    "name": "ipython",
    "version": 3
   },
   "file_extension": ".py",
   "mimetype": "text/x-python",
   "name": "python",
   "nbconvert_exporter": "python",
   "pygments_lexer": "ipython3",
   "version": "3.7.2"
  }
 },
 "nbformat": 4,
 "nbformat_minor": 2
}
