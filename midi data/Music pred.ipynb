{
 "cells": [
  {
   "cell_type": "code",
   "execution_count": 1,
   "metadata": {},
   "outputs": [],
   "source": [
    "import pandas as pd\n",
    "import numpy as np\n",
    "import matplotlib.pyplot as plt\n",
    "import mido  # importe la bibliothèque MidO qui gère aussi RtMidi\n",
    "import time  # importe le module Time Python\n",
    "import pretty_midi\n",
    "from tqdm.auto import tqdm\n",
    "pd.set_option('display.max_rows',150)\n",
    "import _pickle as pickle\n",
    "import os\n",
    "def save(file,name, folder = \"\"):\n",
    "    if folder != \"\":\n",
    "        outfile = open('./'+folder+'/'+name+'.pickle', 'wb')\n",
    "    else:\n",
    "        outfile = open(name+'.pickle', 'wb')\n",
    "    pickle.dump(file, outfile)\n",
    "    outfile.close\n",
    "    \n",
    "def load(name, folder = \"\"):\n",
    "    if folder != \"\":\n",
    "        outfile = open('./'+folder+'/'+name+'.pickle', 'rb')\n",
    "    else:\n",
    "        outfile = open(name+'.pickle', 'rb')\n",
    "    file = pickle.load(outfile)\n",
    "    outfile.close\n",
    "    return file\n",
    "\n",
    "import random\n",
    "import gc\n",
    "\n",
    "from tf_transformers2 import *\n",
    "from tensorflow.keras.layers import Input, Dense, Dropout, TimeDistributed, LSTM\n",
    "from sklearn.model_selection import train_test_split\n",
    "from tensorflow.keras.models import Model\n",
    "from tensorflow.keras.optimizers import Adam"
   ]
  },
  {
   "cell_type": "code",
   "execution_count": null,
   "metadata": {},
   "outputs": [],
   "source": [
    "def play(mid):\n",
    "    try:\n",
    "        port = mido.open_output('Microsoft GS Wavetable Synth 0')\n",
    "\n",
    "        # chemin absolu vers le fichier .mid, ici \"blackvelvet.mid\"\n",
    "\n",
    "\n",
    "        # affiche chemin fichier Midi + son type + nb de pistes + nb de messages dans fichier\n",
    "        print(\"=>\", mid, \"...\\n... ...\")\n",
    "\n",
    "        # calcul + affiche la durée de lecture du fichier Midi en h:m:s\n",
    "        print(\"=> Durée de lecture =\", time.strftime('%Hh:%Mm:%Ss', time.gmtime(mid.length)))\n",
    "        print(\"=> Lecture en cours...\")\n",
    "\n",
    "        for msg in mid.play():  \n",
    "            port.send(msg)\n",
    "\n",
    "        port.close()  # ferme proprement le port Midi\n",
    "        print(\"=> Fichier MIDI lu... ARRÊT !\")\n",
    "    except:\n",
    "        print('interrupted')\n",
    "        port.close()\n",
    "        \n",
    "def play_from_pretty(mid):\n",
    "    mid.write('temp.mid')\n",
    "    mid1 = mido.MidiFile('temp.mid')\n",
    "    play(mid1)"
   ]
  },
  {
   "cell_type": "code",
   "execution_count": null,
   "metadata": {},
   "outputs": [],
   "source": []
  },
  {
   "cell_type": "code",
   "execution_count": null,
   "metadata": {},
   "outputs": [],
   "source": [
    "play(mid.tracks[0])"
   ]
  },
  {
   "cell_type": "code",
   "execution_count": null,
   "metadata": {},
   "outputs": [],
   "source": [
    "def get_max_time(mid):\n",
    "    M = 0\n",
    "    for inst in mid.instruments:\n",
    "        for notes in inst.notes:\n",
    "            if notes.end >= M:\n",
    "                M = notes.end\n",
    "    return M\n",
    "\n",
    "def get_indice(time, tempo):\n",
    "    return time*tempo/60*12\n",
    "\n",
    "def inst_to_seq(instrument, length, tempo):\n",
    "    velocity = np.zeros(length)\n",
    "    pitch = np.zeros(length)\n",
    "    \n",
    "    inst = instrument.program\n",
    "    is_drum = instrument.is_drum\n",
    "    \n",
    "    for note in instrument.notes:\n",
    "        start = note.start\n",
    "        end = note.end\n",
    "        vel= note.velocity\n",
    "        pi = note.pitch\n",
    "        \n",
    "        st = int(round(get_indice(start, tempo),0))\n",
    "        en = int(round(get_indice(end, tempo),0))\n",
    "        \n",
    "        velocity[st:en] = vel\n",
    "        pitch[st:en] = pi\n",
    "    return inst, is_drum, velocity, pitch\n",
    "\n",
    "def mid_to_seq(mid):\n",
    "    \n",
    "    tempo = mid.estimate_tempo()\n",
    "    estimated_length = int(mid.estimate_tempo() * get_max_time(mid) * 12 / 60)\n",
    "    \n",
    "    seq = []    \n",
    "    for instrument in mid.instruments:\n",
    "#         print(instrument)\n",
    "        inst, is_drum, velocity, pitch = inst_to_seq(instrument, estimated_length, tempo)\n",
    "        \n",
    "        seq.append({'instrument': inst,'is_drum' : is_drum,'tempo':tempo, 'velocity': velocity, 'pitch' : pitch, 'name':instrument.name})\n",
    "    return seq\n",
    "\n",
    "def seq_to_mid(seq):\n",
    "    mid = pretty_midi.PrettyMIDI()\n",
    "    \n",
    "    for instrument in seq:\n",
    "        inst = pretty_midi.Instrument(program=instrument['instrument'], is_drum = instrument['is_drum'], name = instrument['name'])\n",
    "        tempo = instrument['tempo']\n",
    "        velocity = instrument['velocity']\n",
    "        pitch = instrument['pitch']\n",
    "        st = 0\n",
    "        \n",
    "        v = velocity[0]\n",
    "        p = pitch[0]\n",
    "        \n",
    "        for i, elt in enumerate(velocity):\n",
    "            if velocity[i] != v or pitch[i] != p:\n",
    "                en = (i-1)*60/12/tempo\n",
    "                if v !=0 and p != 0:\n",
    "                    note = pretty_midi.Note(velocity=int(v), pitch=int(p), start=st, end=en)\n",
    "                    inst.notes.append(note)\n",
    "                v = velocity[i]\n",
    "                p = pitch[i]\n",
    "                st = (i-1)*60/12/tempo\n",
    "        mid.instruments.append(inst)\n",
    "    return mid"
   ]
  },
  {
   "cell_type": "markdown",
   "metadata": {},
   "source": [
    "## Data Prep"
   ]
  },
  {
   "cell_type": "code",
   "execution_count": null,
   "metadata": {},
   "outputs": [],
   "source": [
    "mid = pretty_midi.PrettyMIDI('./data/0/009count.mid')"
   ]
  },
  {
   "cell_type": "code",
   "execution_count": null,
   "metadata": {},
   "outputs": [],
   "source": [
    "play_from_pretty(mid)"
   ]
  },
  {
   "cell_type": "code",
   "execution_count": null,
   "metadata": {},
   "outputs": [],
   "source": [
    "mid.instruments"
   ]
  },
  {
   "cell_type": "code",
   "execution_count": null,
   "metadata": {},
   "outputs": [],
   "source": [
    "seq = mid_to_seq(mid)"
   ]
  },
  {
   "cell_type": "code",
   "execution_count": null,
   "metadata": {},
   "outputs": [],
   "source": [
    "mid1 = seq_to_mid(seq)"
   ]
  },
  {
   "cell_type": "code",
   "execution_count": null,
   "metadata": {},
   "outputs": [],
   "source": [
    "mid1.instruments"
   ]
  },
  {
   "cell_type": "code",
   "execution_count": null,
   "metadata": {},
   "outputs": [],
   "source": [
    "play_from_pretty(mid1)"
   ]
  },
  {
   "cell_type": "code",
   "execution_count": null,
   "metadata": {},
   "outputs": [],
   "source": [
    "seq[0]['velocity'].shape"
   ]
  },
  {
   "cell_type": "code",
   "execution_count": null,
   "metadata": {},
   "outputs": [],
   "source": [
    "mid1.write('cello-C-chord.mid')"
   ]
  },
  {
   "cell_type": "code",
   "execution_count": null,
   "metadata": {},
   "outputs": [],
   "source": [
    "dir(mid1)"
   ]
  },
  {
   "cell_type": "code",
   "execution_count": null,
   "metadata": {},
   "outputs": [],
   "source": [
    "mid1.instruments"
   ]
  },
  {
   "cell_type": "code",
   "execution_count": null,
   "metadata": {},
   "outputs": [],
   "source": [
    "help(tqdm)"
   ]
  },
  {
   "cell_type": "code",
   "execution_count": null,
   "metadata": {},
   "outputs": [],
   "source": [
    "path_file = []\n",
    "for path, subdirs, files in os.walk('./data'):\n",
    "    for name in files:\n",
    "        path_file.append(os.path.join(path, name))\n",
    "#         print(os.path.join(path, name))"
   ]
  },
  {
   "cell_type": "code",
   "execution_count": null,
   "metadata": {},
   "outputs": [],
   "source": [
    "path_file"
   ]
  },
  {
   "cell_type": "code",
   "execution_count": null,
   "metadata": {},
   "outputs": [],
   "source": [
    "path_file_clean  =[]\n",
    "for elt in path_file:\n",
    "    if elt[-3:].lower() == 'mid':\n",
    "        path_file_clean.append(elt.replace('\\\\', '/'))"
   ]
  },
  {
   "cell_type": "code",
   "execution_count": null,
   "metadata": {},
   "outputs": [],
   "source": [
    "len(path_file_clean)"
   ]
  },
  {
   "cell_type": "code",
   "execution_count": null,
   "metadata": {},
   "outputs": [],
   "source": [
    "path_file_clean"
   ]
  },
  {
   "cell_type": "code",
   "execution_count": null,
   "metadata": {},
   "outputs": [],
   "source": [
    "batch = []\n",
    "not_added  =[]\n",
    "count= 0\n",
    "count_not_added = 0\n",
    "for elt in tqdm(path_file_clean):\n",
    "    try:\n",
    "        mid = pretty_midi.PrettyMIDI(elt)\n",
    "        seq = mid_to_seq(mid)\n",
    "        batch.append(seq)\n",
    "        if len(batch) == 5000:\n",
    "            save(batch, './batch/batch_'+str(count))\n",
    "            count+=1\n",
    "            batch = []\n",
    "    except:\n",
    "        not_added.append(elt)\n",
    "        print(elt)\n",
    "        print(count_not_added)\n",
    "        count_not_added+=1\n",
    "        \n",
    "save(batch, './batch/batch_'+str(count))      "
   ]
  },
  {
   "cell_type": "markdown",
   "metadata": {},
   "source": [
    "## Batch_loading"
   ]
  },
  {
   "cell_type": "code",
   "execution_count": null,
   "metadata": {},
   "outputs": [],
   "source": [
    "batch = load('batch_0', 'batch')"
   ]
  },
  {
   "cell_type": "code",
   "execution_count": null,
   "metadata": {},
   "outputs": [],
   "source": [
    "batch[0][0]"
   ]
  },
  {
   "cell_type": "code",
   "execution_count": null,
   "metadata": {},
   "outputs": [],
   "source": [
    "batch[0]"
   ]
  },
  {
   "cell_type": "code",
   "execution_count": 2,
   "metadata": {},
   "outputs": [],
   "source": [
    "class Tokenizer:\n",
    "    def __init__(self, max_len):\n",
    "        self.note_to_tok,  self.tok_to_note = self.build_dico()\n",
    "        self.max_len = max_len\n",
    "        \n",
    "    def build_dico(self):\n",
    "        dico = {}\n",
    "        ## special tokens\n",
    "        dico['[CLS]'] = 140\n",
    "        dico['[SEP]'] = 141\n",
    "        dico['[RES]'] = 142\n",
    "        dico['[END]'] = 143\n",
    "        dico['drum0'] = 144\n",
    "        dico['drum1'] = 145\n",
    "        dico['[PAD]'] = 146\n",
    "        \n",
    "        for i in range(0, 130):\n",
    "            dico[str(i)] = i\n",
    "\n",
    "        count = 150\n",
    "        for i in range(130):\n",
    "            for j in range(130):\n",
    "                dico[str(i)+'_'+str(j)] = count\n",
    "                count += 1\n",
    "        \n",
    "        dico1 = {}\n",
    "        \n",
    "        for elt in dico:\n",
    "            dico1[dico[elt]] = elt\n",
    "        return dico, dico1\n",
    "    \n",
    "    def encode(self,velocity, pitch ,instrument, drum = 'drum0', start = True, pad = True):\n",
    "        seq = []\n",
    "        \n",
    "        if start:\n",
    "            seq.append(self.note_to_tok['[CLS]'])\n",
    "        else:\n",
    "            seq.append(self.note_to_tok['[RES]'])\n",
    "        \n",
    "        seq.append(self.note_to_tok[str(instrument)])\n",
    "        seq.append(self.note_to_tok['[SEP]'])\n",
    "        seq.append(self.note_to_tok[str(drum)])\n",
    "        seq.append(self.note_to_tok['[SEP]'])\n",
    "        \n",
    "        for i, elt in enumerate(range(max(len(velocity), len(pitch)))):\n",
    "            seq.append(self.note_to_tok[str(int(velocity[i]))+'_'+str(int(pitch[i]))])\n",
    "    \n",
    "        if len(seq) >= self.max_len:\n",
    "            seq = seq[:self.max_len]\n",
    "        \n",
    "        if len(seq) < self.max_len:\n",
    "            seq.append(self.note_to_tok['[END]'])\n",
    "            while len(seq) < self.max_len:\n",
    "                seq.append(self.note_to_tok['[PAD]'])\n",
    "        \n",
    "        return seq\n",
    "    \n",
    "    def decode(self, seq):\n",
    "        instrument = self.tok_to_note[seq[1]]\n",
    "        drum = self.tok_to_note[seq[3]]\n",
    "        if drum == 'drum0':\n",
    "            drum  = False\n",
    "        else:\n",
    "            drum = True\n",
    "        \n",
    "        velocity = []\n",
    "        pitch = []\n",
    "        \n",
    "        for elt in seq[5:]:\n",
    "            if elt != 146 and elt != 143:\n",
    "                dec = self.tok_to_note[elt]\n",
    "                dec = dec.split('_')\n",
    "                velocity.append(int(dec[0]))\n",
    "                pitch.append(int(dec[1]))\n",
    "        return {\n",
    "            'instrument' : instrument,\n",
    "            'is_drum' : drum,\n",
    "            'velocity' : velocity,\n",
    "            'pitch' : pitch\n",
    "        }\n",
    "    \n"
   ]
  },
  {
   "cell_type": "code",
   "execution_count": 3,
   "metadata": {},
   "outputs": [],
   "source": [
    "def encode_channel(channel, start = True, max_len = 1024):\n",
    "    pitch = channel['pitch']\n",
    "    instrument = str(channel['instrument'])\n",
    "    drum = channel['is_drum']\n",
    "    velocity = channel['velocity']\n",
    "    pitch = channel['pitch']   \n",
    "    \n",
    "    if drum:\n",
    "        drum = 'drum0'\n",
    "    else:\n",
    "        drum = 'drum1'\n",
    "    if start == True:\n",
    "        seq = tokenizer.encode(velocity[:max_len], pitch[:max_len] ,instrument, drum = drum, start = True, pad = True)\n",
    "    else:\n",
    "        seq = tokenizer.encode(velocity[start:max_len+start], pitch[start:max_len+start] ,instrument, drum = drum, start = False, pad = True)\n",
    "    return seq"
   ]
  },
  {
   "cell_type": "code",
   "execution_count": 4,
   "metadata": {},
   "outputs": [],
   "source": [
    "def encode_mid(mid, start = True, max_len = 1024, max_channel = 10):\n",
    "    \n",
    "    encoded = np.zeros((max_channel, max_len))\n",
    "    \n",
    "    for i, channel in enumerate(mid):\n",
    "        if i < 10:\n",
    "            seq = encode_channel(channel, start = start, max_len = max_len)\n",
    "            encoded[i,:] = seq\n",
    "    mask = 1-(np.array(seq)==146)*1\n",
    "    \n",
    "    return encoded.astype(int), mask.astype(int)\n",
    "                    \n",
    "                       "
   ]
  },
  {
   "cell_type": "code",
   "execution_count": 5,
   "metadata": {},
   "outputs": [],
   "source": [
    "tokenizer = Tokenizer(max_len = 1024)"
   ]
  },
  {
   "cell_type": "code",
   "execution_count": 6,
   "metadata": {},
   "outputs": [],
   "source": [
    "from tensorflow.keras.utils import Sequence\n",
    "\n",
    "class Generator(Sequence):\n",
    "    def __init__(self, batch_size = 32, start_rate = 0.2, change_rate = 0.01, max_len = 1024, max_channel = 10):\n",
    "        self.change_rate = change_rate\n",
    "        self.start_rate = start_rate\n",
    "        self.file = self.get_batch()\n",
    "        self.batch_size = batch_size\n",
    "        self.max_len = max_len\n",
    "        self.max_channel = max_channel\n",
    "        self.tokenizer = Tokenizer(max_len = max_len)\n",
    "        \n",
    "        \n",
    "        \n",
    "    def get_batch(self):\n",
    "        file  = random.choice(os.listdir('./batch'))\n",
    "        working_file = load(file.split('.')[0], 'batch')\n",
    "        return working_file\n",
    "    \n",
    "    def __len__(self):\n",
    "        return int(10000000)\n",
    "    \n",
    "    def __getitem__(self, idx):\n",
    "        ## Changing file\n",
    "        r = random.uniform(0,1)\n",
    "        if r < self.change_rate:\n",
    "            self.close()\n",
    "            self.file = get_batch()\n",
    "        \n",
    "        batch = np.random.choice(self.file, size = self.batch_size)\n",
    "        \n",
    "        X = []\n",
    "        masks = []\n",
    "        tempo = []\n",
    "        for elt in batch:\n",
    "            seq_len = len(elt[0]['velocity'])\n",
    "            t = [int(elt[0]['tempo']) for _ in range(self.max_len)]\n",
    "            tempo.append(t)\n",
    "            \n",
    "            r = random.uniform(0,1)\n",
    "            \n",
    "            if r <= self.start_rate:\n",
    "                enc, mask = encode_mid(elt, start = True, max_len = self.max_len, max_channel = self.max_channel)\n",
    "            \n",
    "            else:\n",
    "                n = random.randint(50, seq_len)\n",
    "                enc, mask = encode_mid(elt, start = n, max_len = self.max_len, max_channel = self.max_channel)\n",
    "        \n",
    "            \n",
    "            X.append(enc)\n",
    "            masks.append(mask)\n",
    "            \n",
    "        X = np.array(X)\n",
    "        masks = np.array(masks)\n",
    "        tempo = np.array(tempo).astype('int')\n",
    "        \n",
    "        y = []\n",
    "        for j in range(len(X)):\n",
    "            i = random.randint(0, self.max_channel-1)\n",
    "            y.append(X[j][i,:])\n",
    "            X[j][i,0] = 147\n",
    "        \n",
    "        y = np.array(y)\n",
    "        \n",
    "        return [X[:,:,:-1], masks[:,:-1], tempo[:,:-1]], y[:,1:]\n",
    "    \n",
    "    def close(self):\n",
    "        del self.file\n",
    "        gc.collect()"
   ]
  },
  {
   "cell_type": "code",
   "execution_count": null,
   "metadata": {},
   "outputs": [],
   "source": [
    "gen = Generator(batch_size = 16, start_rate = 0.2, change_rate = 0.0, max_len = 1024, max_channel = 10)"
   ]
  },
  {
   "cell_type": "code",
   "execution_count": null,
   "metadata": {},
   "outputs": [],
   "source": [
    "%%time\n",
    "X, y = gen[1]"
   ]
  },
  {
   "cell_type": "code",
   "execution_count": null,
   "metadata": {},
   "outputs": [],
   "source": [
    "gen.close()"
   ]
  },
  {
   "cell_type": "code",
   "execution_count": null,
   "metadata": {},
   "outputs": [],
   "source": [
    "X[0][1]"
   ]
  },
  {
   "cell_type": "code",
   "execution_count": null,
   "metadata": {},
   "outputs": [],
   "source": [
    "y[1]"
   ]
  },
  {
   "cell_type": "code",
   "execution_count": 7,
   "metadata": {},
   "outputs": [],
   "source": [
    "class GPTDecoder(tf.keras.layers.Layer):\n",
    "    def __init__(self, num_layers, d_model, num_heads, dff, target_vocab_size,\n",
    "               maximum_position_encoding, num_types = 2, rate=0.1, bidirectional_decoder = False, max_channel = 10):\n",
    "        super(GPTDecoder, self).__init__()\n",
    "\n",
    "        self.d_model = d_model\n",
    "        self.num_layers = num_layers\n",
    "        self.embedding = tf.keras.layers.Embedding(17050, int(d_model/max_channel))\n",
    "        self.tempo_encoding = tf.keras.layers.Embedding(1000, d_model)\n",
    "        \n",
    "        self.conc = tf.keras.layers.Concatenate(axis = -1)\n",
    "        \n",
    "        self.agg = tf.keras.layers.Dense(d_model, activation = 'relu')\n",
    "        \n",
    "        self.pos_encoding = positional_encoding(maximum_position_encoding, d_model)\n",
    "\n",
    "        self.dec_layers = [GPTDecoderLayer(d_model, num_heads, dff, rate) \n",
    "                           for _ in range(num_layers)]\n",
    "        \n",
    "        self.dropout = tf.keras.layers.Dropout(rate)\n",
    "        self.max_channel = max_channel\n",
    "        self.bidirectional_decoder = bidirectional_decoder\n",
    "    \n",
    "    def call(self, x, \n",
    "             masks = None,\n",
    "             tempo = None,\n",
    "             training = True):\n",
    "\n",
    "        seq_len = tf.shape(x[:,0,:])[1]\n",
    "        \n",
    "        attention_weights = {}\n",
    "        \n",
    "        if self.bidirectional_decoder == False:\n",
    "            look_ahead_mask = create_look_ahead_mask(tf.shape(x[:,0,:])[1])\n",
    "            dec_target_padding_mask = create_padding_mask(masks)\n",
    "            mask = tf.maximum(dec_target_padding_mask, look_ahead_mask)\n",
    "#             mask = look_ahead_mask\n",
    "#             print(mask)\n",
    "            \n",
    "        else:\n",
    "            mask = create_padding_mask(masks) \n",
    "        x = [self.embedding(x[:,i,:]) for i in range(self.max_channel)]  # (batch_size, target_seq_len, d_model)\n",
    "        x = self.conc(x)\n",
    "        x = self.agg(x)\n",
    "        x *= tf.math.sqrt(tf.cast(self.d_model, tf.float32))\n",
    "        x += self.pos_encoding[:, :seq_len, :]\n",
    "        tempo_emb = self.tempo_encoding(tempo)\n",
    "        x += tempo_emb\n",
    "        x = self.dropout(x, training=training)\n",
    "        for i in range(self.num_layers):\n",
    "            x, block1 = self.dec_layers[i](x, training, look_ahead_mask = mask)\n",
    "            attention_weights['decoder_layer{}_block1'.format(i+1)] = block1\n",
    "        return x  "
   ]
  },
  {
   "cell_type": "code",
   "execution_count": 8,
   "metadata": {},
   "outputs": [],
   "source": [
    "\n",
    "decoder = GPTDecoder(num_layers = 2, d_model = 400, num_heads = 8, dff = 512, target_vocab_size = 1,\n",
    "                   maximum_position_encoding = 1024, num_types = 2, rate=0.1, bidirectional_decoder = False, max_channel = 10)"
   ]
  },
  {
   "cell_type": "code",
   "execution_count": null,
   "metadata": {},
   "outputs": [],
   "source": [
    "del decoder\n",
    "del model\n",
    "gc.collect()\n",
    "tf.keras.backend.clear_session()"
   ]
  },
  {
   "cell_type": "code",
   "execution_count": 9,
   "metadata": {},
   "outputs": [],
   "source": [
    "inputs_ids = Input(shape = ( 10,1023))\n",
    "inputs_masks = Input(shape = ( 1023,))\n",
    "inputs_tempo = Input(shape = ( 1023,))\n",
    "\n",
    "inputs = [inputs_ids, inputs_masks, inputs_tempo]\n",
    "\n",
    "encoded = decoder(\n",
    "    inputs_ids,\n",
    "    masks = inputs_masks,\n",
    "    tempo=inputs_tempo, \n",
    "        )\n",
    "\n",
    "# dense_layers = [tf.keras.layers.Dense(17050, activation = 'softmax')(encoded) for _ in range(10)]\n",
    "outputs = tf.keras.layers.Dense(17050)(encoded)\n",
    "\n",
    "\n",
    "model = Model(inputs, outputs)"
   ]
  },
  {
   "cell_type": "code",
   "execution_count": null,
   "metadata": {},
   "outputs": [],
   "source": [
    "from tensorflow.keras.optimizers import Adam, SGD\n",
    "\n",
    "loss_object = tf.keras.losses.SparseCategoricalCrossentropy(\n",
    "                    from_logits=True, reduction='none')\n",
    "\n",
    "loss_classif     =  loss_object# find the right loss for multi-class classification\n",
    "optimizer        =  Adam(3e-5, 1e-8) # find the right optimizer\n",
    "metrics_classif  =  ['accuracy']\n",
    "\n",
    "model.compile(loss=loss_classif,\n",
    "              optimizer=optimizer,\n",
    "              metrics=metrics_classif)"
   ]
  },
  {
   "cell_type": "code",
   "execution_count": 10,
   "metadata": {},
   "outputs": [],
   "source": [
    "## Test_set\n",
    "gen = Generator(batch_size = 64, start_rate = 0.2, change_rate = 0.0, max_len = 1024, max_channel = 10)\n",
    "x_test, y_test = gen[0]\n",
    "gen.close()"
   ]
  },
  {
   "cell_type": "code",
   "execution_count": null,
   "metadata": {},
   "outputs": [],
   "source": [
    "## Train_set\n",
    "gen = Generator(batch_size = 2048, start_rate = 0.2, change_rate = 0.0, max_len = 1024, max_channel = 10)\n",
    "x_train, y_train = gen[0]\n",
    "gen.close()"
   ]
  },
  {
   "cell_type": "code",
   "execution_count": null,
   "metadata": {},
   "outputs": [],
   "source": [
    "gen = Generator(batch_size = 4096, start_rate = 0.2, change_rate = 0.1, max_len = 1024, max_channel = 10)\n",
    "\n",
    "\n",
    "from tensorflow.keras.callbacks import EarlyStopping\n",
    "from tensorflow.keras.callbacks import ReduceLROnPlateau\n",
    "\n",
    "early = EarlyStopping(monitor='val_loss', min_delta=0.0001, patience=4, verbose=1, \n",
    "                                                mode='auto', restore_best_weights=True)\n",
    "reduce = ReduceLROnPlateau(monitor='val_loss', factor=0.5, patience=2, verbose=1, \n",
    "                                                     mode='auto', min_delta=0.0001, cooldown=0, min_lr=0)\n",
    "\n",
    "bs = 128\n",
    "n_epochs = 10\n",
    "step_per_epoch = 100\n",
    "#, batch_size=bs\n",
    "\n",
    "for i in range(20):\n",
    "    x_train, y_train = gen[0]\n",
    "    history = model.fit(x_train, y_train,  epochs=1, batch_size = 16, validation_data=(x_test,  y_test))#, callbacks = [early, reduce])\n",
    "    \n",
    "gen.close()"
   ]
  },
  {
   "cell_type": "code",
   "execution_count": null,
   "metadata": {},
   "outputs": [],
   "source": [
    "gen.close()"
   ]
  },
  {
   "cell_type": "code",
   "execution_count": null,
   "metadata": {},
   "outputs": [],
   "source": [
    "help(model.predict)"
   ]
  },
  {
   "cell_type": "code",
   "execution_count": null,
   "metadata": {},
   "outputs": [],
   "source": [
    "model.save_weights('./checkpoints/weights_1.h5')"
   ]
  },
  {
   "cell_type": "code",
   "execution_count": 11,
   "metadata": {},
   "outputs": [],
   "source": [
    "model.load_weights('./checkpoints/weights.h5')"
   ]
  },
  {
   "cell_type": "code",
   "execution_count": 12,
   "metadata": {},
   "outputs": [
    {
     "name": "stdout",
     "output_type": "stream",
     "text": [
      "64/64 [==============================] - 7s 104ms/sample\n"
     ]
    }
   ],
   "source": [
    "a = model.predict(x_test, batch_size = 16,verbose = 1)"
   ]
  },
  {
   "cell_type": "code",
   "execution_count": 14,
   "metadata": {},
   "outputs": [
    {
     "data": {
      "text/plain": [
       "(64, 1023, 17050)"
      ]
     },
     "execution_count": 14,
     "metadata": {},
     "output_type": "execute_result"
    }
   ],
   "source": [
    "a.shape"
   ]
  },
  {
   "cell_type": "code",
   "execution_count": 15,
   "metadata": {},
   "outputs": [],
   "source": [
    "b = np.argmax(a, axis = -1)"
   ]
  },
  {
   "cell_type": "code",
   "execution_count": 16,
   "metadata": {},
   "outputs": [
    {
     "data": {
      "text/plain": [
       "array([[141, 141, 145, ..., 150, 150, 150],\n",
       "       [141, 141, 145, ..., 150, 150, 150],\n",
       "       [141, 141, 145, ..., 150, 150, 150],\n",
       "       ...,\n",
       "       [141, 141, 145, ..., 146, 146, 146],\n",
       "       [  0,   0,   0, ...,   0,   0,   0],\n",
       "       [141, 141, 145, ..., 146, 146, 146]], dtype=int64)"
      ]
     },
     "execution_count": 16,
     "metadata": {},
     "output_type": "execute_result"
    }
   ],
   "source": [
    "b"
   ]
  },
  {
   "cell_type": "code",
   "execution_count": 32,
   "metadata": {},
   "outputs": [
    {
     "data": {
      "text/plain": [
       "array([   87,   141,   145,   141, 13223, 13223, 13223, 13223,   150,\n",
       "         150, 13218, 13218, 13218, 13218,   150,   150, 13220, 13220,\n",
       "       13220, 13220])"
      ]
     },
     "execution_count": 32,
     "metadata": {},
     "output_type": "execute_result"
    }
   ],
   "source": [
    "y_test[11][:20]"
   ]
  },
  {
   "cell_type": "code",
   "execution_count": 59,
   "metadata": {},
   "outputs": [
    {
     "data": {
      "text/plain": [
       "(array([1.015e+03, 0.000e+00, 0.000e+00, 0.000e+00, 0.000e+00, 0.000e+00,\n",
       "        0.000e+00, 0.000e+00, 0.000e+00, 0.000e+00, 0.000e+00, 0.000e+00,\n",
       "        0.000e+00, 0.000e+00, 0.000e+00, 0.000e+00, 0.000e+00, 0.000e+00,\n",
       "        0.000e+00, 0.000e+00, 0.000e+00, 0.000e+00, 0.000e+00, 0.000e+00,\n",
       "        0.000e+00, 0.000e+00, 0.000e+00, 0.000e+00, 0.000e+00, 0.000e+00,\n",
       "        0.000e+00, 0.000e+00, 0.000e+00, 0.000e+00, 0.000e+00, 0.000e+00,\n",
       "        0.000e+00, 0.000e+00, 0.000e+00, 0.000e+00, 0.000e+00, 0.000e+00,\n",
       "        0.000e+00, 0.000e+00, 0.000e+00, 0.000e+00, 0.000e+00, 2.000e+00,\n",
       "        1.000e+00, 5.000e+00]),\n",
       " array([  0.,   3.,   6.,   9.,  12.,  15.,  18.,  21.,  24.,  27.,  30.,\n",
       "         33.,  36.,  39.,  42.,  45.,  48.,  51.,  54.,  57.,  60.,  63.,\n",
       "         66.,  69.,  72.,  75.,  78.,  81.,  84.,  87.,  90.,  93.,  96.,\n",
       "         99., 102., 105., 108., 111., 114., 117., 120., 123., 126., 129.,\n",
       "        132., 135., 138., 141., 144., 147., 150.]),\n",
       " <BarContainer object of 50 artists>)"
      ]
     },
     "execution_count": 59,
     "metadata": {},
     "output_type": "execute_result"
    },
    {
     "data": {
      "image/png": "[encoded data removed]",
      "text/plain": [
       "<Figure size 432x288 with 1 Axes>"
      ]
     },
     "metadata": {
      "needs_background": "light"
     },
     "output_type": "display_data"
    }
   ],
   "source": [
    "plt.hist(b[19], bins = 50)"
   ]
  },
  {
   "cell_type": "code",
   "execution_count": null,
   "metadata": {},
   "outputs": [],
   "source": []
  }
 ],
 "metadata": {
  "kernelspec": {
   "display_name": "Python 3",
   "language": "python",
   "name": "python3"
  },
  "language_info": {
   "codemirror_mode": {
    "name": "ipython",
    "version": 3
   },
   "file_extension": ".py",
   "mimetype": "text/x-python",
   "name": "python",
   "nbconvert_exporter": "python",
   "pygments_lexer": "ipython3",
   "version": "3.7.6"
  }
 },
 "nbformat": 4,
 "nbformat_minor": 4
}
