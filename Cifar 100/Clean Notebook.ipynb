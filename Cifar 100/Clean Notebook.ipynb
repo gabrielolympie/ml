{
 "cells": [
  {
   "cell_type": "markdown",
   "metadata": {},
   "source": [
    "## 0) Utilities"
   ]
  },
  {
   "cell_type": "code",
   "execution_count": 1,
   "metadata": {},
   "outputs": [
    {
     "name": "stderr",
     "output_type": "stream",
     "text": [
      "Using TensorFlow backend.\n"
     ]
    }
   ],
   "source": [
    "## General librairies\n",
    "import pandas as pd\n",
    "import numpy as np\n",
    "import pickle\n",
    "import matplotlib.pyplot as plt\n",
    "import random\n",
    "import sys\n",
    "import time\n",
    "from copy import deepcopy\n",
    "\n",
    "\n",
    "## Cosine Distance\n",
    "from scipy.spatial.distance import cosine\n",
    "\n",
    "\n",
    "## Keras utilities\n",
    "import keras\n",
    "import tensorflow\n",
    "from keras.datasets import mnist\n",
    "from keras.models import Model, Sequential\n",
    "from keras.applications import VGG16\n",
    "from keras.preprocessing.image import ImageDataGenerator\n",
    "from keras.utils import np_utils\n",
    "import keras.backend as K\n",
    "from keras.layers import Input, Conv2D, Lambda,  Dense, Flatten,MaxPooling2D,Dropout, UpSampling2D\n",
    "# from tensorflow.keras.engine.input_layer import Input\n",
    "from keras.layers import merge\n",
    "from keras.optimizers import SGD,Adam\n",
    "from keras.regularizers import l2\n",
    "import numpy.random as rng\n",
    "from sklearn.utils import shuffle\n",
    "\n",
    "## Sklearn utilities\n",
    "#### Models\n",
    "from sklearn.neighbors import KNeighborsClassifier\n",
    "from sklearn.ensemble import RandomForestClassifier\n",
    "from sklearn.svm import SVC\n",
    "from sklearn.linear_model import LogisticRegression\n",
    "#### Scores\n",
    "from sklearn.metrics import accuracy_score\n",
    "from sklearn.linear_model import LogisticRegression\n",
    "from sklearn.model_selection import train_test_split\n",
    "from sklearn.metrics import confusion_matrix\n",
    "#### Feature transformations\n",
    "import umap\n",
    "\n",
    "\n",
    "\n",
    "\n",
    "## Removing some of the useless warnings\n",
    "import warnings\n",
    "warnings.simplefilter(action='ignore', category=FutureWarning)"
   ]
  },
  {
   "cell_type": "code",
   "execution_count": 2,
   "metadata": {},
   "outputs": [],
   "source": [
    "## Some useful functions to ease the processings\n",
    "def save(file,name, folder = \"\"):\n",
    "    if folder != \"\":\n",
    "        outfile = open('./'+folder+'/'+name+'.pickle', 'wb')\n",
    "    else:\n",
    "        outfile = open(name+'.pickle', 'wb')\n",
    "    pickle.dump(file, outfile)\n",
    "    outfile.close\n",
    "    \n",
    "def load(name, folder = \"\"):\n",
    "    if folder != \"\":\n",
    "        outfile = open('./'+folder+'/'+name+'.pickle', 'rb')\n",
    "    else:\n",
    "        outfile = open(name+'.pickle', 'rb')\n",
    "    file = pickle.load(outfile)\n",
    "    outfile.close\n",
    "    return file\n",
    "\n",
    "def plot(history):\n",
    "    acc = history.history['acc']\n",
    "    val_acc = history.history['val_acc']\n",
    "    x = list(range(len(acc)))\n",
    "    plt.plot(x,acc)\n",
    "    plt.plot(x,val_acc)\n",
    "    \n",
    "def cat_to_num(y):\n",
    "    y1 = []\n",
    "    for i in range(y.shape[0]):\n",
    "        a = 0\n",
    "        for j in range(y.shape[1]):\n",
    "            a += j*y[i,j]\n",
    "        y1.append(int(a))\n",
    "    return y1\n",
    "\n",
    "def generate_integer():\n",
    "    \n",
    "    ints = []\n",
    "    \n",
    "    while len(ints)<5:\n",
    "        r = random.randint(0,63)\n",
    "        if not(r in ints):\n",
    "            ints.append(r)\n",
    "    return ints"
   ]
  },
  {
   "cell_type": "markdown",
   "metadata": {},
   "source": [
    "## 1) Meta Training"
   ]
  },
  {
   "cell_type": "markdown",
   "metadata": {},
   "source": [
    "#### Neural Net Architecture"
   ]
  },
  {
   "cell_type": "code",
   "execution_count": null,
   "metadata": {},
   "outputs": [],
   "source": [
    "## The ShortLong Stage of the model\n",
    "\n",
    "def shortlong(x, n_neuron):\n",
    "    \n",
    "    x1 = Conv2D(n_neuron, (3,3), activation = 'relu')(x)\n",
    "    x1 = keras.layers.BatchNormalization()(x1)\n",
    "    x1 = Conv2D(n_neuron, (3,3), activation = 'relu')(x1)\n",
    "    x1 = keras.layers.BatchNormalization()(x1)\n",
    "    x1 = Conv2D(n_neuron, (3,3), activation = 'relu')(x1)\n",
    "    x1 = keras.layers.BatchNormalization()(x1)\n",
    "    \n",
    "    x2 = Conv2D(n_neuron, (5,5), activation = 'relu')(x)\n",
    "    x2 = keras.layers.BatchNormalization()(x2)\n",
    "    x2 = Conv2D(n_neuron, (3,3), activation = 'relu')(x2)\n",
    "    x2 = keras.layers.BatchNormalization()(x2)\n",
    "    \n",
    "    x3 = Conv2D(n_neuron, (7,7), activation = 'relu')(x)\n",
    "    x3 = keras.layers.BatchNormalization()(x3)\n",
    "    \n",
    "#     conc = keras.layers.Concatenate(axis=-1)([x1, x2, x3])\n",
    "    conc = keras.layers.add(inputs = [x1, x2, x3])\n",
    "    conc = keras.layers.BatchNormalization()(conc)\n",
    "    \n",
    "    final = conc #MaxPooling2D(pool_size=(2, 2))(conc)\n",
    "    \n",
    "    return final\n",
    "\n",
    "\n",
    "## The global architecture called resnet2\n",
    "def resnet2(output_shape):\n",
    "    input1 = Input((84,84,3))\n",
    "    x = shortlong(input1, 64)\n",
    "    x = shortlong(x, 64)\n",
    "    x = MaxPooling2D(pool_size=(2, 2))(x)\n",
    "    \n",
    "    x = shortlong(x, 80)\n",
    "    x = shortlong(x, 80)\n",
    "    x = MaxPooling2D(pool_size=(3, 3))(x)\n",
    "    \n",
    "    x = shortlong(x, 230)\n",
    "    x = MaxPooling2D(pool_size=(2, 2))(x)\n",
    "    \n",
    "    x = Flatten()(x)\n",
    "    x = Dense(128, activation ='relu')(x)\n",
    "    \n",
    "    output = Dense(output_shape, activation='softmax')(x)\n",
    "    \n",
    "    model = Model(input1, output)\n",
    "    model.compile(loss=\"categorical_crossentropy\",optimizer=('adam'), metrics = ['accuracy'])\n",
    "    return model"
   ]
  },
  {
   "cell_type": "markdown",
   "metadata": {},
   "source": [
    "#### Loading and plotting the meta-learning set"
   ]
  },
  {
   "cell_type": "code",
   "execution_count": null,
   "metadata": {},
   "outputs": [],
   "source": [
    "OT = pickle.load(open('miniImageNet_category_split_train_phase_train.pickle', 'rb'), encoding='latin1')\n",
    "\n",
    "for i in range(5):\n",
    "    plt.figure(i)\n",
    "    fig, (ax1, ax2, ax3, ax4, ax5) = plt.subplots(1,5)\n",
    "    ax1.imshow(OT['data'][600*i+1])\n",
    "    ax2.imshow(OT['data'][600*i+2])    \n",
    "    ax3.imshow(OT['data'][600*i+3])\n",
    "    ax4.imshow(OT['data'][600*i+4])\n",
    "    ax5.imshow(OT['data'][600*i+5])\n",
    "    \n",
    "Y_meta = OT['labels']\n",
    "X_meta = OT['data']\n",
    "\n",
    "y_meta = np_utils.to_categorical(Y_meta)"
   ]
  },
  {
   "cell_type": "markdown",
   "metadata": {},
   "source": [
    "#### Setting up the training of the neural net on the meta learning set"
   ]
  },
  {
   "cell_type": "code",
   "execution_count": null,
   "metadata": {},
   "outputs": [],
   "source": [
    "X_train, X_test, y_train, y_test = train_test_split(X_meta, y_meta, test_size=0.2, random_state=42)"
   ]
  },
  {
   "cell_type": "markdown",
   "metadata": {},
   "source": [
    "###### First training of the model"
   ]
  },
  {
   "cell_type": "code",
   "execution_count": null,
   "metadata": {},
   "outputs": [],
   "source": [
    "aug = ImageDataGenerator(rotation_range=20, zoom_range=0.15,\n",
    "                         width_shift_range=0.2, height_shift_range=0.2, shear_range=0.15,\n",
    "                         horizontal_flip=True, fill_mode=\"nearest\")\n",
    "\n",
    "model = resnet2(64)\n",
    "model.compile(loss=keras.losses.categorical_crossentropy,\n",
    "              optimizer=keras.optimizers.Adadelta(),\n",
    "              metrics=['accuracy'])\n",
    "\n",
    "model.summary()\n",
    "\n",
    "batch_size = 32\n",
    "epochs = 100\n",
    "\n",
    "history = model.fit_generator(aug.flow(X_train, y_train, batch_size=batch_size),\n",
    "    validation_data=(X_test, y_test), steps_per_epoch=len(X_train) // batch_size,\n",
    "    epochs=epochs)\n",
    "\n",
    "score = model.evaluate(X_test, y_test, verbose=0)\n",
    "print('Test loss:', score[0])\n",
    "print('Test accuracy:', score[1])\n",
    "\n",
    "save(history, '2.resnet2 with augmentation', 'results')\n",
    "save(model, '2.resnet2 with augmentation', 'model')\n",
    "plot(history)"
   ]
  },
  {
   "cell_type": "markdown",
   "metadata": {},
   "source": [
    "###### Second training of the model"
   ]
  },
  {
   "cell_type": "markdown",
   "metadata": {},
   "source": [
    "By the end of this step, the validation accuracy of the model should be around 0.65, you can stop it if it reaches this score"
   ]
  },
  {
   "cell_type": "code",
   "execution_count": null,
   "metadata": {
    "scrolled": true
   },
   "outputs": [],
   "source": [
    "model = load('2.resnet2 with augmentation', 'model')\n",
    "\n",
    "model.compile(loss='categorical_crossentropy',\n",
    "              optimizer=keras.optimizers.Adadelta(),\n",
    "              metrics=['accuracy'])\n",
    "\n",
    "batch_size = 64\n",
    "epochs = 5\n",
    "\n",
    "# aug = ImageDataGenerator(rotation_range=40, zoom_range=0.3,\n",
    "#                          width_shift_range=0.4, height_shift_range=0.6, shear_range=0.3,\n",
    "#                          horizontal_flip=True, fill_mode=\"nearest\")\n",
    "\n",
    "aug = ImageDataGenerator(rotation_range=20, zoom_range=0.15,\n",
    "                         width_shift_range=0.2, height_shift_range=0.2, shear_range=0.15,\n",
    "                         horizontal_flip=True, fill_mode=\"nearest\")\n",
    "\n",
    "history = model.fit_generator(aug.flow(X_train, y_train, batch_size=batch_size),\n",
    "    validation_data=(X_test, y_test), steps_per_epoch=len(X_train) // batch_size,\n",
    "    epochs=epochs)\n",
    "\n",
    "score = model.evaluate(X_test, y_test, verbose=0)\n",
    "print('Test loss:', score[0])\n",
    "print('Test accuracy:', score[1])\n",
    "\n",
    "save(history, '2.resnet2 with augmentation 2nd step', 'results')\n",
    "save(model, '2.resnet2 with augmentation 2nd step', 'model')\n",
    "plot(history)"
   ]
  },
  {
   "cell_type": "markdown",
   "metadata": {},
   "source": [
    "###### Third training of the model"
   ]
  },
  {
   "cell_type": "markdown",
   "metadata": {},
   "source": [
    "Using a different random state in order to use all the data available"
   ]
  },
  {
   "cell_type": "code",
   "execution_count": null,
   "metadata": {},
   "outputs": [],
   "source": [
    "X_train, X_test, y_train, y_test = train_test_split(X_meta, y_meta, test_size=0.2, random_state=43)"
   ]
  },
  {
   "cell_type": "code",
   "execution_count": null,
   "metadata": {},
   "outputs": [],
   "source": [
    "model = load('2.resnet2 with augmentation', 'model')\n",
    "\n",
    "model.compile(loss='categorical_crossentropy',\n",
    "              optimizer=keras.optimizers.Adadelta(),\n",
    "              metrics=['accuracy'])\n",
    "\n",
    "batch_size = 64\n",
    "epochs = 2\n",
    "\n",
    "# aug = ImageDataGenerator(rotation_range=40, zoom_range=0.3,\n",
    "#                          width_shift_range=0.4, height_shift_range=0.6, shear_range=0.3,\n",
    "#                          horizontal_flip=True, fill_mode=\"nearest\")\n",
    "\n",
    "aug = ImageDataGenerator(rotation_range=20, zoom_range=0.15,\n",
    "                         width_shift_range=0.2, height_shift_range=0.2, shear_range=0.15,\n",
    "                         horizontal_flip=True, fill_mode=\"nearest\")\n",
    "\n",
    "history = model.fit_generator(aug.flow(X_train, y_train, batch_size=batch_size),\n",
    "    validation_data=(X_test, y_test), steps_per_epoch=len(X_train) // batch_size,\n",
    "    epochs=epochs)\n",
    "\n",
    "score = model.evaluate(X_test, y_test, verbose=0)\n",
    "print('Test loss:', score[0])\n",
    "print('Test accuracy:', score[1])\n",
    "\n",
    "save(history, '2.resnet2 with augmentation 3rd step', 'results')\n",
    "save(model, '2.resnet2 with augmentation 3rd step', 'model')\n",
    "\n",
    "## the current equivalent prétrained model is : '2.resnet2 with augmentation 2'\n",
    "plot(history)"
   ]
  },
  {
   "cell_type": "markdown",
   "metadata": {},
   "source": [
    "## 2) Experiments"
   ]
  },
  {
   "cell_type": "markdown",
   "metadata": {},
   "source": [
    "###### Loading and merging the validation data"
   ]
  },
  {
   "cell_type": "code",
   "execution_count": 3,
   "metadata": {},
   "outputs": [],
   "source": [
    "OT1 = pickle.load(open('miniImageNet_category_split_test.pickle', 'rb'), encoding='latin1')\n",
    "OT2 = pickle.load(open('miniImageNet_category_split_val.pickle', 'rb'), encoding='latin1')\n",
    "\n",
    "from copy import deepcopy\n",
    "Y_val = deepcopy(OT2['labels'])\n",
    "X_val = deepcopy(OT2['data'])\n",
    "\n",
    "## Concatenating val and test datas in order to get more classes for experiment\n",
    "for i in OT1['labels']:\n",
    "    Y_val.append(i)\n",
    "X_val = np.concatenate([X_val, OT1['data']], axis = 0)\n",
    "\n",
    "## Restructuring the images into an array of size 64*600*84*84*3 to ease the acces to a given class\n",
    "tab = []\n",
    "for i in range(36):\n",
    "    tab.append([])\n",
    "\n",
    "for i in range(len(Y_val)):\n",
    "    tab[Y_val[i]-64].append(X_val[i])\n",
    "\n",
    "X = np.array(tab)"
   ]
  },
  {
   "cell_type": "code",
   "execution_count": 71,
   "metadata": {},
   "outputs": [],
   "source": [
    "n = 5\n",
    "k = 5\n",
    "\n",
    "\n",
    "## A function in order to generate a random array of n distincts values between m and M\n",
    "def choose_n_classes(n, m, M):\n",
    "    tab = []\n",
    "    while len(tab)<n:\n",
    "        r = random.randint(m,M)\n",
    "        if not(r in tab):\n",
    "            tab.append(r)\n",
    "    tab.sort()\n",
    "    tab = np.array(tab)\n",
    "    \n",
    "    dico = {}\n",
    "    for i in range(n):\n",
    "        dico[tab[i]] = i\n",
    "    \n",
    "    return tab, dico\n",
    "\n",
    "\n",
    "## A function to generate data ready for an experiment, tab and dico are here in order to repeat the experiment \n",
    "## on the same 5 classes, but with a different number of drawn sample in the class\n",
    "def build_dataset(X, n,k,value = True, tab = True, dico = True):\n",
    "    if value == True:\n",
    "        tab, dico = choose_n_classes(n, 64,99)\n",
    "    \n",
    "    x_train = []\n",
    "    x_test = []\n",
    "    y_train = []\n",
    "    y_test = []\n",
    "    \n",
    "    print(dico)\n",
    "    \n",
    "    for elt in tab:\n",
    "        ind, dico1 = choose_n_classes(k, 0, 600)\n",
    "        ind1, dico2 = choose_n_classes(100, 0, 600)\n",
    "        for i in range(600):\n",
    "            if i in ind:\n",
    "                x_train.append(X[elt-64,i])\n",
    "                y_train.append(dico[elt])\n",
    "#             elif i in ind1:\n",
    "#                 x_test.append(X[elt-64,i])\n",
    "#                 y_test.append(dico[elt])\n",
    "            else:\n",
    "                x_test.append(X[elt-64,i])\n",
    "                y_test.append(dico[elt])\n",
    "    return np.array(x_train), np.array(x_test), np.array(y_train), np.array(y_test), tab, dico"
   ]
  },
  {
   "cell_type": "markdown",
   "metadata": {},
   "source": [
    "Loading the pre-trained model for features extraction"
   ]
  },
  {
   "cell_type": "code",
   "execution_count": 62,
   "metadata": {},
   "outputs": [],
   "source": [
    "model_transfert = load('2.resnet2 with augmentation 2', 'model')\n",
    "\n",
    "inputs = model_transfert.input\n",
    "outputs = model_transfert.get_layer('batch_normalization_439').output\n",
    "outputs = Flatten()(outputs)\n",
    "model = Model(inputs=inputs,   outputs=outputs)"
   ]
  },
  {
   "cell_type": "markdown",
   "metadata": {},
   "source": [
    "###### Single experiment in n-way, k-shots"
   ]
  },
  {
   "cell_type": "markdown",
   "metadata": {},
   "source": [
    "Creating the experiment and plotting the class used"
   ]
  },
  {
   "cell_type": "code",
   "execution_count": 63,
   "metadata": {},
   "outputs": [
    {
     "name": "stdout",
     "output_type": "stream",
     "text": [
      "{65: 0, 75: 1, 76: 2, 77: 3, 99: 4}\n"
     ]
    },
    {
     "data": {
      "image/png": "[encoded data removed]",
      "text/plain": [
       "<Figure size 432x288 with 1 Axes>"
      ]
     },
     "metadata": {
      "needs_background": "light"
     },
     "output_type": "display_data"
    },
    {
     "data": {
      "image/png": "[encoded data removed]",
      "text/plain": [
       "<Figure size 432x288 with 1 Axes>"
      ]
     },
     "metadata": {
      "needs_background": "light"
     },
     "output_type": "display_data"
    },
    {
     "data": {
      "image/png": "[encoded data removed]",
      "text/plain": [
       "<Figure size 432x288 with 1 Axes>"
      ]
     },
     "metadata": {
      "needs_background": "light"
     },
     "output_type": "display_data"
    },
    {
     "data": {
      "image/png": "[encoded data removed]",
      "text/plain": [
       "<Figure size 432x288 with 1 Axes>"
      ]
     },
     "metadata": {
      "needs_background": "light"
     },
     "output_type": "display_data"
    },
    {
     "data": {
      "image/png": "[encoded data removed]",
      "text/plain": [
       "<Figure size 432x288 with 1 Axes>"
      ]
     },
     "metadata": {
      "needs_background": "light"
     },
     "output_type": "display_data"
    }
   ],
   "source": [
    "n = 5\n",
    "k = 5\n",
    "\n",
    "X_train, X_test, y_train, y_test, tab, dico = build_dataset(X, n, k)#, False, tab, dico)\n",
    "\n",
    "for i in range(5):\n",
    "    plt.figure(i)\n",
    "    plt.imshow(X_train[k*i])"
   ]
  },
  {
   "cell_type": "markdown",
   "metadata": {},
   "source": [
    "Loading the pre-trained Model and transform it into a feature extraction tool"
   ]
  },
  {
   "cell_type": "markdown",
   "metadata": {},
   "source": [
    "First test with simple transfer learning and logistic regression"
   ]
  },
  {
   "cell_type": "code",
   "execution_count": 64,
   "metadata": {},
   "outputs": [
    {
     "name": "stdout",
     "output_type": "stream",
     "text": [
      "0\n",
      "1\n",
      "0.7278225806451613\n"
     ]
    }
   ],
   "source": [
    "y_test1 = np.zeros(y_test.shape[0])-1\n",
    "\n",
    "Xt = model.predict(X_train)\n",
    "print(0)\n",
    "Xv = model.predict(X_test)\n",
    "print(1)\n",
    "\n",
    "clf = LogisticRegression(random_state=0, solver='saga', multi_class='multinomial', max_iter = 1000, penalty='l2')\n",
    "clf.fit(Xt,y_train)\n",
    "y_pred = clf.predict(Xv)\n",
    "\n",
    "print(accuracy_score(y_test, y_pred))\n",
    "\n",
    "y_learn = np.concatenate([y_train, y_test1])"
   ]
  },
  {
   "cell_type": "markdown",
   "metadata": {},
   "source": [
    "Adding a umap embedding"
   ]
  },
  {
   "cell_type": "code",
   "execution_count": 65,
   "metadata": {},
   "outputs": [],
   "source": [
    "reducer = umap.UMAP(n_neighbors=12, metric='cosine', n_components=20)\n",
    "\n",
    "y_test_unsupervised = np.zeros(y_test.shape[0])-1\n",
    "y_learn = np.concatenate([y_train, y_test_unsupervised])\n",
    "\n",
    "embedding = reducer.fit(np.concatenate([Xt, Xv], axis=0), y_learn)\n",
    "\n",
    "Xt1 = embedding.transform(Xt)\n",
    "Xv1 = embedding.transform(Xv)"
   ]
  },
  {
   "cell_type": "code",
   "execution_count": 66,
   "metadata": {},
   "outputs": [
    {
     "data": {
      "image/png": "[encoded data removed]",
      "text/plain": [
       "<Figure size 432x288 with 2 Axes>"
      ]
     },
     "metadata": {
      "needs_background": "light"
     },
     "output_type": "display_data"
    },
    {
     "data": {
      "image/png": "[encoded data removed]",
      "text/plain": [
       "<Figure size 432x288 with 2 Axes>"
      ]
     },
     "metadata": {
      "needs_background": "light"
     },
     "output_type": "display_data"
    }
   ],
   "source": [
    "plt.figure(0)\n",
    "plt.scatter(Xt1[:, 0], Xt1[:, 1], c=y_train, cmap='Spectral', s=5)\n",
    "plt.gca().set_aspect('equal', 'datalim')\n",
    "plt.colorbar(boundaries=np.arange(6)-0.5).set_ticks(np.arange(5))\n",
    "plt.title('UMAP projection of the Digits dataset', fontsize=24);\n",
    "\n",
    "plt.figure(1)\n",
    "plt.scatter(Xv1[:, 0], Xv1[:, 1], c=y_test, cmap='Spectral', s=5)\n",
    "plt.gca().set_aspect('equal', 'datalim')\n",
    "plt.colorbar(boundaries=np.arange(6)-0.5).set_ticks(np.arange(5))\n",
    "plt.title('UMAP projection of the Digits dataset', fontsize=24);"
   ]
  },
  {
   "cell_type": "markdown",
   "metadata": {},
   "source": [
    "testing with logistic regression"
   ]
  },
  {
   "cell_type": "code",
   "execution_count": 67,
   "metadata": {},
   "outputs": [
    {
     "name": "stdout",
     "output_type": "stream",
     "text": [
      "0.7459677419354839\n"
     ]
    }
   ],
   "source": [
    "clf = LogisticRegression(random_state=0, solver='lbfgs', multi_class='multinomial', max_iter = 500, C = 0.4)\n",
    "\n",
    "clf.fit(Xt1,y_train)\n",
    "y_pseudo = clf.predict(Xv1)\n",
    "\n",
    "print(accuracy_score(y_test, y_pseudo))"
   ]
  },
  {
   "cell_type": "markdown",
   "metadata": {},
   "source": [
    "Retraining with pseudo labels on original embedding"
   ]
  },
  {
   "cell_type": "code",
   "execution_count": 68,
   "metadata": {},
   "outputs": [
    {
     "name": "stdout",
     "output_type": "stream",
     "text": [
      "0.7560483870967742\n"
     ]
    }
   ],
   "source": [
    "clf = LogisticRegression(random_state=0, solver='lbfgs', multi_class='multinomial', max_iter = 500, C = 0.4)\n",
    "\n",
    "clf.fit(np.concatenate([Xt, Xv], axis = 0),np.concatenate([y_train, y_pseudo], axis = 0))\n",
    "y_pred = clf.predict(Xv)\n",
    "\n",
    "print(accuracy_score(y_test, y_pred))"
   ]
  },
  {
   "cell_type": "markdown",
   "metadata": {},
   "source": [
    "#### Test with different k in the same n classes"
   ]
  },
  {
   "cell_type": "code",
   "execution_count": 60,
   "metadata": {},
   "outputs": [
    {
     "name": "stdout",
     "output_type": "stream",
     "text": [
      "{67: 0, 71: 1, 76: 2, 84: 3, 92: 4}\n"
     ]
    },
    {
     "ename": "ValueError",
     "evalue": "Length of x = 85, length of y = 105, while it must be equal.",
     "output_type": "error",
     "traceback": [
      "\u001b[1;31m---------------------------------------------------------------------------\u001b[0m",
      "\u001b[1;31mValueError\u001b[0m                                Traceback (most recent call last)",
      "\u001b[1;32m<ipython-input-60-cf2a36e19f98>\u001b[0m in \u001b[0;36m<module>\u001b[1;34m\u001b[0m\n\u001b[0;32m     12\u001b[0m \u001b[1;33m\u001b[0m\u001b[0m\n\u001b[0;32m     13\u001b[0m     \u001b[0mreducer\u001b[0m \u001b[1;33m=\u001b[0m \u001b[0mumap\u001b[0m\u001b[1;33m.\u001b[0m\u001b[0mUMAP\u001b[0m\u001b[1;33m(\u001b[0m\u001b[0mn_neighbors\u001b[0m\u001b[1;33m=\u001b[0m\u001b[1;36m12\u001b[0m\u001b[1;33m,\u001b[0m \u001b[0mmetric\u001b[0m\u001b[1;33m=\u001b[0m\u001b[1;34m'cosine'\u001b[0m\u001b[1;33m,\u001b[0m \u001b[0mn_components\u001b[0m\u001b[1;33m=\u001b[0m\u001b[1;36m20\u001b[0m\u001b[1;33m)\u001b[0m\u001b[1;33m\u001b[0m\u001b[1;33m\u001b[0m\u001b[0m\n\u001b[1;32m---> 14\u001b[1;33m     \u001b[0membedding\u001b[0m \u001b[1;33m=\u001b[0m \u001b[0mreducer\u001b[0m\u001b[1;33m.\u001b[0m\u001b[0mfit\u001b[0m\u001b[1;33m(\u001b[0m\u001b[0mnp\u001b[0m\u001b[1;33m.\u001b[0m\u001b[0mconcatenate\u001b[0m\u001b[1;33m(\u001b[0m\u001b[1;33m[\u001b[0m\u001b[0mXt\u001b[0m\u001b[1;33m,\u001b[0m \u001b[0mXv\u001b[0m\u001b[1;33m]\u001b[0m\u001b[1;33m,\u001b[0m \u001b[0maxis\u001b[0m\u001b[1;33m=\u001b[0m\u001b[1;36m0\u001b[0m\u001b[1;33m)\u001b[0m\u001b[1;33m,\u001b[0m \u001b[0my_learn\u001b[0m\u001b[1;33m)\u001b[0m\u001b[1;33m\u001b[0m\u001b[1;33m\u001b[0m\u001b[0m\n\u001b[0m\u001b[0;32m     15\u001b[0m \u001b[1;33m\u001b[0m\u001b[0m\n\u001b[0;32m     16\u001b[0m     \u001b[0mXt1\u001b[0m \u001b[1;33m=\u001b[0m \u001b[0membedding\u001b[0m\u001b[1;33m.\u001b[0m\u001b[0mtransform\u001b[0m\u001b[1;33m(\u001b[0m\u001b[0mXt\u001b[0m\u001b[1;33m)\u001b[0m\u001b[1;33m\u001b[0m\u001b[1;33m\u001b[0m\u001b[0m\n",
      "\u001b[1;32m~\\Anaconda3\\lib\\site-packages\\umap\\umap_.py\u001b[0m in \u001b[0;36mfit\u001b[1;34m(self, X, y)\u001b[0m\n\u001b[0;32m   1480\u001b[0m                 raise ValueError(\n\u001b[0;32m   1481\u001b[0m                     \"Length of x = {len_x}, length of y = {len_y}, while it must be equal.\".format(\n\u001b[1;32m-> 1482\u001b[1;33m                         \u001b[0mlen_x\u001b[0m\u001b[1;33m=\u001b[0m\u001b[0mlen\u001b[0m\u001b[1;33m(\u001b[0m\u001b[0mX\u001b[0m\u001b[1;33m)\u001b[0m\u001b[1;33m,\u001b[0m \u001b[0mlen_y\u001b[0m\u001b[1;33m=\u001b[0m\u001b[0mlen\u001b[0m\u001b[1;33m(\u001b[0m\u001b[0my\u001b[0m\u001b[1;33m)\u001b[0m\u001b[1;33m\u001b[0m\u001b[1;33m\u001b[0m\u001b[0m\n\u001b[0m\u001b[0;32m   1483\u001b[0m                     )\n\u001b[0;32m   1484\u001b[0m                 )\n",
      "\u001b[1;31mValueError\u001b[0m: Length of x = 85, length of y = 105, while it must be equal."
     ]
    }
   ],
   "source": [
    "scores1 = []\n",
    "scores2 = []\n",
    "scores3 = []\n",
    "\n",
    "kshots = [1,3, 5,10,50,100,300,500]\n",
    "\n",
    "for k in kshots:\n",
    "    X_train, X_test, y_train, y_test, tab, dico = build_dataset(X, n, k, False, tab, dico)\n",
    "    \n",
    "    Xt = model.predict(X_train)\n",
    "    Xv = model.predict(X_test)\n",
    "    \n",
    "    reducer = umap.UMAP(n_neighbors=12, metric='cosine', n_components=20)\n",
    "    embedding = reducer.fit(np.concatenate([Xt, Xv], axis=0), y_learn)\n",
    "    \n",
    "    Xt1 = embedding.transform(Xt)\n",
    "    Xv1 = embedding.transform(Xv)\n",
    "    \n",
    "    y_test1 = np.zeros(y_test.shape[0])-1\n",
    "    y_learn = np.concatenate([y_train, y_test1])\n",
    "    \n",
    "    ## First prediction\n",
    "    clf = LogisticRegression(random_state=0, solver='lbfgs', multi_class='multinomial', max_iter = 500)\n",
    "    clf.fit(Xt,y_train)\n",
    "    \n",
    "    y_pred = clf.predict(Xv)\n",
    "    scores1.append(accuracy_score(y_test, y_pred))\n",
    "    \n",
    "    print(accuracy_score(y_test, y_pred))\n",
    "    \n",
    "    ## Prediction with umap embedding\n",
    "    clf = LogisticRegression(random_state=0, solver='lbfgs', multi_class='multinomial', max_iter = 500)\n",
    "    clf.fit(Xt1,y_train)\n",
    "    \n",
    "    y_pseudo = clf.predict(Xv1)\n",
    "    scores2.append(accuracy_score(y_test, y_pseudo))\n",
    "    \n",
    "    print(accuracy_score(y_test, y_pseudo))   \n",
    "    \n",
    "    ## Final prediction\n",
    "    clf = LogisticRegression(random_state=0, solver='lbfgs', multi_class='multinomial', max_iter = 500)\n",
    "    clf.fit(np.concatenate([Xt, Xv], axis = 0),np.concatenate([y_train, y_pseudo], axis = 0))\n",
    "    \n",
    "    y_pred = clf.predict(Xv)\n",
    "    scores3.append(accuracy_score(y_test, y_pred))\n",
    "    \n",
    "    print(accuracy_score(y_test, y_pred))\n",
    "    \n",
    "    \n",
    "plt.plot(kshots, scores1)\n",
    "plt.plot(kshots, scores2)\n",
    "plt.plot(kshots, scores3)"
   ]
  },
  {
   "cell_type": "markdown",
   "metadata": {},
   "source": [
    "#### Generic Experiment for validation and averaging of the final score"
   ]
  },
  {
   "cell_type": "code",
   "execution_count": 69,
   "metadata": {
    "scrolled": false
   },
   "outputs": [
    {
     "name": "stdout",
     "output_type": "stream",
     "text": [
      "{76: 0, 82: 1, 91: 2, 93: 3, 94: 4}\n",
      "0.6909090909090909\n",
      "0.7111111111111111\n",
      "0.7131313131313132\n",
      "{64: 0, 65: 1, 86: 2, 91: 3, 96: 4}\n",
      "0.5801217038539553\n",
      "0.6166328600405679\n",
      "0.6186612576064908\n",
      "{67: 0, 70: 1, 78: 2, 79: 3, 95: 4}\n",
      "0.7302231237322515\n",
      "0.7870182555780934\n",
      "0.7890466531440162\n",
      "{69: 0, 76: 1, 80: 2, 91: 3, 99: 4}\n",
      "0.7648261758691206\n",
      "0.7995910020449898\n",
      "0.803680981595092\n",
      "{64: 0, 73: 1, 76: 2, 92: 3, 96: 4}\n",
      "0.744466800804829\n",
      "0.7927565392354124\n",
      "0.7927565392354124\n",
      "{65: 0, 67: 1, 87: 2, 89: 3, 95: 4}\n",
      "0.6875\n",
      "0.7237903225806451\n",
      "0.7358870967741935\n",
      "{73: 0, 88: 1, 91: 2, 94: 3, 97: 4}\n",
      "0.6693386773547094\n",
      "0.6833667334669339\n",
      "0.6893787575150301\n",
      "{68: 0, 69: 1, 73: 2, 89: 3, 93: 4}\n",
      "0.6348884381338742\n",
      "0.5943204868154158\n",
      "0.5983772819472617\n",
      "{81: 0, 85: 1, 87: 2, 92: 3, 98: 4}\n",
      "0.7975708502024291\n",
      "0.8157894736842105\n",
      "0.819838056680162\n",
      "{64: 0, 72: 1, 78: 2, 85: 3, 98: 4}\n",
      "0.8084677419354839\n",
      "0.8366935483870968\n",
      "0.8407258064516129\n",
      "{65: 0, 80: 1, 84: 2, 89: 3, 91: 4}\n",
      "0.6385542168674698\n",
      "0.6887550200803213\n",
      "0.6927710843373494\n",
      "{71: 0, 91: 1, 92: 2, 95: 3, 98: 4}\n",
      "0.6432865731462926\n",
      "0.7294589178356713\n",
      "0.7314629258517034\n",
      "{65: 0, 66: 1, 90: 2, 91: 3, 93: 4}\n",
      "0.8185483870967742\n",
      "0.8508064516129032\n",
      "0.8608870967741935\n",
      "{64: 0, 65: 1, 80: 2, 83: 3, 97: 4}\n",
      "0.8165322580645161\n",
      "0.8608870967741935\n",
      "0.8608870967741935\n",
      "{69: 0, 70: 1, 76: 2, 77: 3, 89: 4}\n",
      "0.6464646464646465\n",
      "0.6686868686868687\n",
      "0.6787878787878788\n",
      "{64: 0, 69: 1, 79: 2, 80: 3, 93: 4}\n",
      "0.704225352112676\n",
      "0.8511066398390342\n",
      "0.8611670020120724\n",
      "{70: 0, 73: 1, 75: 2, 78: 3, 90: 4}\n",
      "0.65\n",
      "0.66\n",
      "0.668\n",
      "{65: 0, 76: 1, 82: 2, 87: 3, 98: 4}\n",
      "0.7806841046277666\n",
      "0.8008048289738431\n",
      "0.8048289738430584\n",
      "{67: 0, 68: 1, 81: 2, 94: 3, 98: 4}\n",
      "0.5742971887550201\n",
      "0.5100401606425703\n",
      "0.5261044176706827\n",
      "{72: 0, 79: 1, 83: 2, 87: 3, 88: 4}\n",
      "0.8032454361054767\n",
      "0.8661257606490872\n",
      "0.8681541582150102\n",
      "{64: 0, 67: 1, 73: 2, 74: 3, 98: 4}\n",
      "0.6680161943319838\n",
      "0.7186234817813765\n",
      "0.7267206477732794\n",
      "{71: 0, 76: 1, 78: 2, 81: 3, 99: 4}\n",
      "0.7364185110663984\n",
      "0.7847082494969819\n",
      "0.7867203219315896\n",
      "{71: 0, 74: 1, 80: 2, 89: 3, 90: 4}\n",
      "0.6767068273092369\n",
      "0.7088353413654619\n",
      "0.7108433734939759\n",
      "{75: 0, 85: 1, 88: 2, 95: 3, 97: 4}\n",
      "0.7183098591549296\n",
      "0.7605633802816901\n",
      "0.7545271629778671\n",
      "{78: 0, 81: 1, 83: 2, 88: 3, 96: 4}\n",
      "0.7404426559356136\n",
      "0.7686116700201208\n",
      "0.772635814889336\n",
      "{72: 0, 77: 1, 80: 2, 83: 3, 88: 4}\n",
      "0.7766599597585513\n",
      "0.7706237424547284\n",
      "0.7766599597585513\n",
      "{76: 0, 88: 1, 91: 2, 92: 3, 94: 4}\n",
      "0.6753507014028056\n",
      "0.751503006012024\n",
      "0.7555110220440882\n",
      "{67: 0, 80: 1, 81: 2, 87: 3, 96: 4}\n",
      "0.7806841046277666\n",
      "0.7826961770623743\n",
      "0.7907444668008048\n",
      "{65: 0, 73: 1, 80: 2, 94: 3, 96: 4}\n",
      "0.7200811359026369\n",
      "0.7586206896551724\n",
      "0.7586206896551724\n",
      "{68: 0, 69: 1, 78: 2, 89: 3, 94: 4}\n",
      "0.6533066132264529\n",
      "0.6993987975951904\n",
      "0.7054108216432866\n",
      "{65: 0, 67: 1, 85: 2, 90: 3, 94: 4}\n",
      "0.75\n",
      "0.6910569105691057\n",
      "0.6951219512195121\n",
      "{67: 0, 72: 1, 86: 2, 88: 3, 91: 4}\n",
      "0.6052631578947368\n",
      "0.6477732793522267\n",
      "0.659919028340081\n",
      "{66: 0, 68: 1, 71: 2, 72: 3, 99: 4}\n",
      "0.7862903225806451\n",
      "0.8245967741935484\n",
      "0.8266129032258065\n",
      "{70: 0, 74: 1, 79: 2, 84: 3, 99: 4}\n",
      "0.8556910569105691\n",
      "0.8963414634146342\n",
      "0.9004065040650406\n",
      "{68: 0, 84: 1, 87: 2, 89: 3, 91: 4}\n",
      "0.6526104417670683\n",
      "0.7771084337349398\n",
      "0.7751004016064257\n",
      "{69: 0, 79: 1, 82: 2, 88: 3, 98: 4}\n",
      "0.7865853658536586\n",
      "0.8719512195121951\n",
      "0.8699186991869918\n",
      "{64: 0, 70: 1, 71: 2, 91: 3, 95: 4}\n",
      "0.6451612903225806\n",
      "0.7721774193548387\n",
      "0.7762096774193549\n",
      "{68: 0, 76: 1, 80: 2, 96: 3, 98: 4}\n",
      "0.6888888888888889\n",
      "0.7818181818181819\n",
      "0.7919191919191919\n",
      "{65: 0, 67: 1, 74: 2, 79: 3, 89: 4}\n",
      "0.7715430861723447\n",
      "0.7635270541082164\n",
      "0.7715430861723447\n",
      "{65: 0, 69: 1, 70: 2, 96: 3, 99: 4}\n",
      "0.8545454545454545\n",
      "0.8080808080808081\n",
      "0.8141414141414142\n",
      "{73: 0, 90: 1, 91: 2, 92: 3, 98: 4}\n",
      "0.7703252032520326\n",
      "0.8109756097560976\n",
      "0.8150406504065041\n",
      "{65: 0, 71: 1, 72: 2, 93: 3, 97: 4}\n",
      "0.6727642276422764\n",
      "0.7845528455284553\n",
      "0.790650406504065\n",
      "{72: 0, 89: 1, 90: 2, 97: 3, 98: 4}\n",
      "0.7474747474747475\n",
      "0.8565656565656565\n",
      "0.8606060606060606\n",
      "{65: 0, 84: 1, 89: 2, 92: 3, 99: 4}\n",
      "0.7703252032520326\n",
      "0.8272357723577236\n",
      "0.8211382113821138\n",
      "{66: 0, 79: 1, 85: 2, 94: 3, 96: 4}\n",
      "0.8603238866396761\n",
      "0.9251012145748988\n",
      "0.9251012145748988\n",
      "{65: 0, 75: 1, 76: 2, 79: 3, 94: 4}\n",
      "0.7489878542510121\n",
      "0.6882591093117408\n",
      "0.6842105263157895\n",
      "{64: 0, 69: 1, 81: 2, 83: 3, 87: 4}\n",
      "0.5959595959595959\n",
      "0.7111111111111111\n",
      "0.7171717171717171\n",
      "{70: 0, 73: 1, 74: 2, 87: 3, 89: 4}\n",
      "0.6659959758551308\n",
      "0.7243460764587525\n",
      "0.7364185110663984\n",
      "{70: 0, 82: 1, 93: 2, 98: 3, 99: 4}\n",
      "0.6869918699186992\n",
      "0.6991869918699187\n",
      "0.7012195121951219\n",
      "{64: 0, 85: 1, 91: 2, 96: 3, 97: 4}\n",
      "0.8326612903225806\n",
      "0.8689516129032258\n",
      "0.8689516129032258\n",
      "{72: 0, 78: 1, 79: 2, 83: 3, 98: 4}\n",
      "0.8238866396761133\n",
      "0.8481781376518218\n",
      "0.8522267206477733\n",
      "{67: 0, 86: 1, 89: 2, 92: 3, 94: 4}\n",
      "0.6895161290322581\n",
      "0.7217741935483871\n",
      "0.7237903225806451\n",
      "{65: 0, 68: 1, 74: 2, 82: 3, 99: 4}\n",
      "0.718052738336714\n",
      "0.7525354969574036\n",
      "0.7545638945233266\n",
      "{66: 0, 79: 1, 82: 2, 98: 3, 99: 4}\n",
      "0.8084677419354839\n",
      "0.8528225806451613\n",
      "0.8568548387096774\n",
      "{67: 0, 69: 1, 82: 2, 89: 3, 99: 4}\n",
      "0.7044534412955465\n",
      "0.7732793522267206\n",
      "0.7773279352226721\n",
      "{64: 0, 70: 1, 81: 2, 82: 3, 99: 4}\n",
      "0.8089430894308943\n",
      "0.806910569105691\n",
      "0.8089430894308943\n",
      "{72: 0, 73: 1, 74: 2, 84: 3, 85: 4}\n",
      "0.8076923076923077\n",
      "0.7651821862348178\n",
      "0.7692307692307693\n",
      "{68: 0, 72: 1, 80: 2, 88: 3, 89: 4}\n",
      "0.7637474541751528\n",
      "0.814663951120163\n",
      "0.8105906313645621\n",
      "{82: 0, 83: 1, 85: 2, 87: 3, 92: 4}\n",
      "0.7165991902834008\n",
      "0.805668016194332\n",
      "0.8137651821862348\n",
      "{72: 0, 78: 1, 84: 2, 85: 3, 96: 4}\n",
      "0.8178137651821862\n",
      "0.8157894736842105\n",
      "0.8259109311740891\n",
      "{80: 0, 83: 1, 85: 2, 95: 3, 99: 4}\n",
      "0.7226720647773279\n",
      "0.819838056680162\n",
      "0.8319838056680162\n",
      "{67: 0, 74: 1, 76: 2, 77: 3, 91: 4}\n",
      "0.6989898989898989\n",
      "0.7454545454545455\n",
      "0.7494949494949495\n",
      "{66: 0, 83: 1, 90: 2, 91: 3, 95: 4}\n",
      "0.7636363636363637\n",
      "0.7313131313131314\n",
      "0.7313131313131314\n",
      "{68: 0, 72: 1, 79: 2, 83: 3, 85: 4}\n",
      "0.8154158215010142\n",
      "0.8884381338742393\n",
      "0.896551724137931\n",
      "{73: 0, 76: 1, 81: 2, 83: 3, 99: 4}\n",
      "0.6909090909090909\n",
      "0.7575757575757576\n",
      "0.7515151515151515\n",
      "{65: 0, 88: 1, 89: 2, 91: 3, 95: 4}\n",
      "0.6673387096774194\n",
      "0.7116935483870968\n",
      "0.7157258064516129\n",
      "{68: 0, 71: 1, 77: 2, 86: 3, 89: 4}\n",
      "0.6456211812627292\n",
      "0.7352342158859471\n",
      "0.745417515274949\n",
      "{72: 0, 81: 1, 85: 2, 86: 3, 92: 4}\n",
      "0.821285140562249\n",
      "0.7690763052208835\n",
      "0.7751004016064257\n",
      "{68: 0, 69: 1, 71: 2, 84: 3, 85: 4}\n",
      "0.758130081300813\n",
      "0.8191056910569106\n",
      "0.8252032520325203\n",
      "{77: 0, 79: 1, 84: 2, 85: 3, 98: 4}\n",
      "0.8340080971659919\n",
      "0.8704453441295547\n",
      "0.8724696356275303\n",
      "{68: 0, 74: 1, 75: 2, 88: 3, 99: 4}\n",
      "0.7746478873239436\n",
      "0.8309859154929577\n",
      "0.8350100603621731\n",
      "{69: 0, 70: 1, 84: 2, 91: 3, 99: 4}\n",
      "0.8329979879275654\n",
      "0.8873239436619719\n",
      "0.8893360160965795\n",
      "{73: 0, 77: 1, 85: 2, 93: 3, 97: 4}\n",
      "0.7449392712550608\n",
      "0.805668016194332\n",
      "0.8076923076923077\n",
      "{70: 0, 74: 1, 78: 2, 92: 3, 93: 4}\n",
      "0.7706237424547284\n",
      "0.7665995975855131\n",
      "0.7686116700201208\n",
      "{70: 0, 71: 1, 85: 2, 88: 3, 99: 4}\n",
      "0.7399193548387096\n",
      "0.8326612903225806\n",
      "0.8326612903225806\n",
      "{69: 0, 76: 1, 92: 2, 96: 3, 99: 4}\n",
      "0.7847082494969819\n",
      "0.8048289738430584\n",
      "0.8128772635814889\n",
      "{73: 0, 84: 1, 85: 2, 92: 3, 98: 4}\n",
      "0.8475609756097561\n",
      "0.8597560975609756\n",
      "0.8617886178861789\n",
      "{65: 0, 68: 1, 73: 2, 90: 3, 96: 4}\n",
      "0.7464788732394366\n",
      "0.7987927565392354\n",
      "0.8008048289738431\n",
      "{64: 0, 67: 1, 72: 2, 75: 3, 85: 4}\n",
      "0.757085020242915\n",
      "0.7894736842105263\n",
      "0.791497975708502\n",
      "{69: 0, 75: 1, 76: 2, 92: 3, 99: 4}\n",
      "0.7510121457489879\n",
      "0.805668016194332\n",
      "0.8097165991902834\n",
      "{76: 0, 80: 1, 84: 2, 98: 3, 99: 4}\n",
      "0.8467741935483871\n",
      "0.8830645161290323\n",
      "0.8830645161290323\n",
      "{71: 0, 72: 1, 78: 2, 83: 3, 96: 4}\n",
      "0.7789046653144016\n",
      "0.8093306288032455\n",
      "0.8154158215010142\n",
      "{74: 0, 81: 1, 83: 2, 89: 3, 90: 4}\n",
      "0.6538461538461539\n",
      "0.6963562753036437\n",
      "0.7064777327935222\n",
      "{64: 0, 72: 1, 76: 2, 84: 3, 92: 4}\n",
      "0.7621951219512195\n",
      "0.8252032520325203\n",
      "0.8272357723577236\n",
      "{70: 0, 73: 1, 84: 2, 85: 3, 92: 4}\n",
      "0.806060606060606\n",
      "0.8505050505050505\n",
      "0.8525252525252526\n",
      "{71: 0, 79: 1, 80: 2, 84: 3, 85: 4}\n",
      "0.8121212121212121\n",
      "0.8686868686868687\n",
      "0.8646464646464647\n",
      "{69: 0, 75: 1, 77: 2, 80: 3, 87: 4}\n",
      "0.676056338028169\n",
      "0.7484909456740443\n",
      "0.7625754527162978\n",
      "{68: 0, 74: 1, 81: 2, 82: 3, 84: 4}\n",
      "0.6437246963562753\n",
      "0.7024291497975709\n",
      "0.6902834008097166\n",
      "{72: 0, 79: 1, 83: 2, 86: 3, 98: 4}\n",
      "0.8408163265306122\n",
      "0.8775510204081632\n",
      "0.8795918367346939\n",
      "{67: 0, 77: 1, 83: 2, 84: 3, 87: 4}\n"
     ]
    },
    {
     "name": "stdout",
     "output_type": "stream",
     "text": [
      "0.7449392712550608\n",
      "0.805668016194332\n",
      "0.8076923076923077\n",
      "{72: 0, 78: 1, 88: 2, 94: 3, 98: 4}\n",
      "0.8209255533199196\n",
      "0.8450704225352113\n",
      "0.8490945674044266\n",
      "{67: 0, 74: 1, 92: 2, 94: 3, 97: 4}\n",
      "0.7327935222672065\n",
      "0.7327935222672065\n",
      "0.7368421052631579\n",
      "{82: 0, 84: 1, 90: 2, 98: 3, 99: 4}\n",
      "0.7670682730923695\n",
      "0.8012048192771084\n",
      "0.8052208835341366\n",
      "{65: 0, 68: 1, 80: 2, 89: 3, 95: 4}\n",
      "0.5777777777777777\n",
      "0.5878787878787879\n",
      "0.604040404040404\n",
      "{67: 0, 72: 1, 80: 2, 83: 3, 98: 4}\n",
      "0.7651821862348178\n",
      "0.8097165991902834\n",
      "0.8117408906882592\n",
      "{66: 0, 82: 1, 84: 2, 86: 3, 99: 4}\n",
      "0.7198364008179959\n",
      "0.7361963190184049\n",
      "0.7423312883435583\n",
      "{66: 0, 71: 1, 72: 2, 81: 3, 87: 4}\n",
      "0.8461538461538461\n",
      "0.8360323886639676\n",
      "0.8340080971659919\n",
      "{75: 0, 81: 1, 83: 2, 88: 3, 99: 4}\n",
      "0.7105263157894737\n",
      "0.7753036437246964\n",
      "0.7813765182186235\n",
      "{77: 0, 84: 1, 87: 2, 88: 3, 99: 4}\n",
      "0.8366935483870968\n",
      "0.8850806451612904\n",
      "0.8830645161290323\n",
      "{65: 0, 76: 1, 77: 2, 80: 3, 84: 4}\n",
      "0.6910569105691057\n",
      "0.7215447154471545\n",
      "0.7215447154471545\n",
      "0.7825107880190443\n"
     ]
    }
   ],
   "source": [
    "scores = []\n",
    "\n",
    "n = 5\n",
    "k = 5\n",
    "\n",
    "for i in range(100):\n",
    "    X_train, X_test, y_train, y_test, tab, dico = build_dataset(X, n, k)\n",
    "    \n",
    "    ## First prediction for comparison\n",
    "    Xt = model.predict(X_train)\n",
    "    Xv = model.predict(X_test)\n",
    "    \n",
    "    clf = LogisticRegression(random_state=0, solver='lbfgs', multi_class='multinomial', max_iter = 500, C = 0.3)\n",
    "    clf.fit(Xt,y_train)\n",
    "    y_pred = clf.predict(Xv)\n",
    "    print(accuracy_score(y_test, y_pred))\n",
    "    \n",
    "    y_test_unsupervised = np.zeros(y_test.shape[0])-1\n",
    "    y_learn = np.concatenate([y_train, y_test_unsupervised])\n",
    "    \n",
    "    ## Prediction with umap embedding\n",
    "    reducer = umap.UMAP(n_neighbors=12, metric='cosine', n_components=20)\n",
    "    embedding = reducer.fit(np.concatenate([Xt, Xv], axis=0), y_learn)\n",
    "\n",
    "    Xt1 = embedding.transform(Xt)\n",
    "    Xv1 = embedding.transform(Xv)\n",
    "    \n",
    "    clf = LogisticRegression(random_state=0, solver='lbfgs', multi_class='multinomial', max_iter = 500, C = 0.3)\n",
    "    clf.fit(Xt1,y_train)\n",
    "    y_pseudo = clf.predict(Xv1)\n",
    "    \n",
    "    print(accuracy_score(y_test, y_pseudo))\n",
    "    \n",
    "    ## Final prediction\n",
    "    clf = LogisticRegression(random_state=0, solver='lbfgs', multi_class='multinomial', max_iter = 500, C = 0.4)\n",
    "    clf.fit(np.concatenate([Xt, Xv], axis = 0),np.concatenate([y_train, y_pseudo], axis = 0))\n",
    "\n",
    "    y_pred = clf.predict(Xv)\n",
    "    accuracy_score(y_test, y_pred)\n",
    "    \n",
    "    a = accuracy_score(y_test, y_pred)\n",
    "    print(a)\n",
    "    \n",
    "    scores.append(a)\n",
    "    \n",
    "print(np.array(scores).mean())"
   ]
  },
  {
   "cell_type": "code",
   "execution_count": 70,
   "metadata": {},
   "outputs": [
    {
     "data": {
      "text/plain": [
       "(array([ 1.,  0.,  0.,  2.,  1.,  0.,  1.,  3.,  6.,  7.,  8.,  7., 10.,\n",
       "        11., 14.,  8., 10.,  7.,  3.,  1.]),\n",
       " array([0.52610442, 0.54605426, 0.5660041 , 0.58595394, 0.60590378,\n",
       "        0.62585362, 0.64580346, 0.6657533 , 0.68570314, 0.70565298,\n",
       "        0.72560282, 0.74555266, 0.7655025 , 0.78545234, 0.80540218,\n",
       "        0.82535202, 0.84530186, 0.8652517 , 0.88520153, 0.90515137,\n",
       "        0.92510121]),\n",
       " <a list of 20 Patch objects>)"
      ]
     },
     "execution_count": 70,
     "metadata": {},
     "output_type": "execute_result"
    },
    {
     "data": {
      "image/png": "[encoded data removed]",
      "text/plain": [
       "<Figure size 432x288 with 1 Axes>"
      ]
     },
     "metadata": {
      "needs_background": "light"
     },
     "output_type": "display_data"
    }
   ],
   "source": [
    "plt.hist(scores, bins = 20)"
   ]
  },
  {
   "cell_type": "code",
   "execution_count": null,
   "metadata": {},
   "outputs": [],
   "source": []
  }
 ],
 "metadata": {
  "kernelspec": {
   "display_name": "Python 3",
   "language": "python",
   "name": "python3"
  },
  "language_info": {
   "codemirror_mode": {
    "name": "ipython",
    "version": 3
   },
   "file_extension": ".py",
   "mimetype": "text/x-python",
   "name": "python",
   "nbconvert_exporter": "python",
   "pygments_lexer": "ipython3",
   "version": "3.7.9"
  }
 },
 "nbformat": 4,
 "nbformat_minor": 2
}
