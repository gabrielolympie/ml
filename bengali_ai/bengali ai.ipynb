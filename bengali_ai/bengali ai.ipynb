{
 "cells": [
  {
   "cell_type": "code",
   "execution_count": 1,
   "metadata": {},
   "outputs": [
    {
     "name": "stderr",
     "output_type": "stream",
     "text": [
      "Using TensorFlow backend.\n"
     ]
    }
   ],
   "source": [
    "import pandas as pd\n",
    "import numpy as np\n",
    "import matplotlib.pyplot as plt\n",
    "import _pickle as pickle\n",
    "# from tqdm import tqdm_notebook as tqdm\n",
    "import cv2\n",
    "from keras.utils import np_utils\n",
    "\n",
    "from sklearn.model_selection import train_test_split\n",
    "\n",
    "\n",
    "\n",
    "import keras\n",
    "import tensorflow\n",
    "from keras.datasets import mnist\n",
    "from keras.models import Model, Sequential\n",
    "from keras.applications import VGG16\n",
    "from keras.preprocessing.image import ImageDataGenerator\n",
    "from keras.utils import np_utils\n",
    "import keras.backend as K\n",
    "from keras.layers import Input, Conv2D, Lambda,Activation,ZeroPadding2D, Conv2DTranspose, Add, Dense,MaxPool2D,Concatenate,Reshape,Embedding, LeakyReLU,Flatten,MaxPooling2D,Dropout, BatchNormalization,UpSampling2D,GlobalMaxPooling2D, GlobalAveragePooling2D\n",
    "# from tensorflow.keras.engine.input_layer import Input\n",
    "from keras.layers import merge\n",
    "from keras.optimizers import SGD,Adam\n",
    "from keras.regularizers import l2\n",
    "import numpy.random as rng\n",
    "from sklearn.utils import shuffle\n",
    "\n",
    "from keras.callbacks import ReduceLROnPlateau, EarlyStopping"
   ]
  },
  {
   "cell_type": "code",
   "execution_count": 2,
   "metadata": {},
   "outputs": [],
   "source": [
    "def save(file,name, folder = \"\"):\n",
    "    if folder != \"\":\n",
    "        outfile = open('./'+folder+'/'+name+'.pickle', 'wb')\n",
    "    else:\n",
    "        outfile = open(name+'.pickle', 'wb')\n",
    "    pickle.dump(file, outfile)\n",
    "    outfile.close\n",
    "    \n",
    "def load(name, folder = \"\"):\n",
    "    if folder != \"\":\n",
    "        outfile = open('./'+folder+'/'+name+'.pickle', 'rb')\n",
    "    else:\n",
    "        outfile = open(name+'.pickle', 'rb')\n",
    "    file = pickle.load(outfile)\n",
    "    outfile.close\n",
    "    return file\n",
    "\n",
    "HEIGHT = 137\n",
    "WIDTH = 236\n",
    "SIZE = 84\n",
    "def bbox(img):\n",
    "    rows = np.any(img, axis=1)\n",
    "    cols = np.any(img, axis=0)\n",
    "    rmin, rmax = np.where(rows)[0][[0, -1]]\n",
    "    cmin, cmax = np.where(cols)[0][[0, -1]]\n",
    "    return rmin, rmax, cmin, cmax\n",
    "\n",
    "def crop_resize(img0, size=SIZE, pad=16):\n",
    "    #crop a box around pixels large than the threshold \n",
    "    #some images contain line at the sides\n",
    "    ymin,ymax,xmin,xmax = bbox(img0[5:-5,5:-5] > 80)\n",
    "    #cropping may cut too much, so we need to add it back\n",
    "    xmin = xmin - 13 if (xmin > 13) else 0\n",
    "    ymin = ymin - 10 if (ymin > 10) else 0\n",
    "    xmax = xmax + 13 if (xmax < WIDTH - 13) else WIDTH\n",
    "    ymax = ymax + 10 if (ymax < HEIGHT - 10) else HEIGHT\n",
    "    img = img0[ymin:ymax,xmin:xmax]\n",
    "    #remove lo intensity pixels as noise\n",
    "    img[img < 28] = 0\n",
    "    lx, ly = xmax-xmin,ymax-ymin\n",
    "    l = max(lx,ly) + pad\n",
    "    #make sure that the aspect ratio is kept in rescaling\n",
    "    img = np.pad(img, [((l-ly)//2,), ((l-lx)//2,)], mode='constant')\n",
    "    return cv2.resize(img,(size,size)) /255"
   ]
  },
  {
   "cell_type": "code",
   "execution_count": 3,
   "metadata": {},
   "outputs": [],
   "source": [
    "train = [\n",
    "    'train_image_data_0.parquet',\n",
    "    'train_image_data_1.parquet',\n",
    "    'train_image_data_2.parquet',\n",
    "    'train_image_data_3.parquet'\n",
    "]\n",
    "\n",
    "test = [\n",
    "    'test_image_data_0.parquet',\n",
    "    'test_image_data_1.parquet',\n",
    "    'test_image_data_2.parquet',\n",
    "    'test_image_data_3.parquet'\n",
    "]\n"
   ]
  },
  {
   "cell_type": "markdown",
   "metadata": {},
   "source": [
    "## Resizing and cropping the images "
   ]
  },
  {
   "cell_type": "code",
   "execution_count": null,
   "metadata": {},
   "outputs": [],
   "source": [
    "import imageio\n",
    "\n",
    "\n",
    "im = 255 - imageio.imread('./gr/0.png')[:,:,0]\n",
    "print(im.shape)\n",
    "\n",
    "HEIGHT = im.shape[0]\n",
    "WIDTH = im.shape[1]\n",
    "\n",
    "# plt.imshow(im, cmap = 'gray')\n",
    "plt.imshow(crop_resize(im), cmap = 'gray')"
   ]
  },
  {
   "cell_type": "code",
   "execution_count": null,
   "metadata": {},
   "outputs": [],
   "source": [
    "dico_gr = {}\n",
    "for i in range(168):\n",
    "#     print(i)\n",
    "    im = 255 - imageio.imread('./gr/'+str(i)+'.png')[:,:,0]\n",
    "    HEIGHT = im.shape[0]\n",
    "    WIDTH = im.shape[1]\n",
    "    im = crop_resize(im)\n",
    "    dico_gr[i] = im\n",
    "    \n",
    "dico_cd = {}\n",
    "dico_cd[0] = np.zeros((84,84,))\n",
    "for i in range(1,7):\n",
    "#     print(i)\n",
    "    im = 255 - imageio.imread('./cd/'+str(i)+'.png')[:,:,0]\n",
    "    HEIGHT = im.shape[0]\n",
    "    WIDTH = im.shape[1]\n",
    "    im = crop_resize(im)\n",
    "    dico_cd[i] = im\n",
    "\n",
    "dico_vd = {}\n",
    "dico_vd[0] = np.zeros((84,84,))\n",
    "for i in range(1, 11):\n",
    "#     print(i)\n",
    "    im = 255 - imageio.imread('./vd/'+str(i)+'.png')[:,:,0]\n",
    "    HEIGHT = im.shape[0]\n",
    "    WIDTH = im.shape[1]\n",
    "    im = crop_resize(im)\n",
    "    dico_vd[i] = im\n",
    "    \n",
    "save((dico_gr, dico_cd, dico_vd), 'dico base images')"
   ]
  },
  {
   "cell_type": "code",
   "execution_count": null,
   "metadata": {
    "scrolled": true
   },
   "outputs": [],
   "source": [
    "for i in range(4):\n",
    "#     if i != 0:\n",
    "    df = pd.read_parquet(train[i])\n",
    "    \n",
    "    dataset = list(np.zeros(df.shape[0]))\n",
    "    ids = df['image_id'].values\n",
    "    \n",
    "    for j in tqdm(range(df.shape[0])):\n",
    "        img = 255 - df.iloc[j].values[1:].astype(np.uint8).reshape((137, 236))\n",
    "        img = crop_resize(img)\n",
    "        dataset[j] = img\n",
    "    \n",
    "    dataset = np.array(dataset)\n",
    "    \n",
    "    save((dataset, ids), 'train_set_'+str(i))"
   ]
  },
  {
   "cell_type": "code",
   "execution_count": null,
   "metadata": {},
   "outputs": [],
   "source": [
    "for i in range(4):\n",
    "    df = pd.read_parquet(test[i])\n",
    "    \n",
    "    dataset = list(np.zeros(df.shape[0]))\n",
    "    ids = df['image_id'].values\n",
    "    \n",
    "    for j in tqdm(range(df.shape[0])):\n",
    "        img = 255 - df.iloc[j].values[1:].astype(np.uint8).reshape((137, 236))\n",
    "        img = crop_resize(img)\n",
    "        dataset[j] = img\n",
    "    \n",
    "    dataset = np.array(dataset)\n",
    "    \n",
    "    save((dataset, ids), 'test_set_'+str(i))"
   ]
  },
  {
   "cell_type": "markdown",
   "metadata": {},
   "source": [
    "## Loading the preprocessed images"
   ]
  },
  {
   "cell_type": "code",
   "execution_count": 4,
   "metadata": {},
   "outputs": [],
   "source": [
    "dataset, ids = load('train_set_0')\n",
    "\n",
    "for i in range(1,4):\n",
    "    dataset1, ids1 = load('train_set_'+str(i))\n",
    "    \n",
    "    dataset = np.concatenate([dataset, dataset1], axis = 0)\n",
    "    ids = np.concatenate([ids, ids1], axis = 0)"
   ]
  },
  {
   "cell_type": "code",
   "execution_count": 4,
   "metadata": {},
   "outputs": [],
   "source": [
    "dataset, ids = load('train_set_0')"
   ]
  },
  {
   "cell_type": "code",
   "execution_count": 6,
   "metadata": {},
   "outputs": [],
   "source": [
    "dataset  = dataset.reshape((dataset.shape[0],84,84,1))\n",
    "# dataset = dataset[:200]\n",
    "\n",
    "labels = pd.read_csv('train.csv')\n",
    "\n",
    "labels.index = labels['image_id'].values\n",
    "\n",
    "GR = labels.loc[ids]['grapheme_root'].values\n",
    "VD = labels.loc[ids]['vowel_diacritic'].values\n",
    "CD = labels.loc[ids]['consonant_diacritic'].values\n",
    "\n",
    "gr = np_utils.to_categorical(GR)\n",
    "vd = np_utils.to_categorical(VD)\n",
    "cd = np_utils.to_categorical(CD)\n",
    "\n",
    "\n",
    "# (dico_gr, dico_cd, dico_vd) = load('dico base images')\n",
    "\n",
    "# def build_image(X, dico_X):\n",
    "#     Y = list(np.zeros(X.shape[0]))\n",
    "    \n",
    "#     for elt in range(len(X)):\n",
    "#         Y[elt] = dico_X[X[elt]]\n",
    "    \n",
    "#     Y = np.array(Y)\n",
    "#     return Y\n",
    "\n",
    "# GR1 = build_image(GR, dico_gr).reshape((dataset.shape[0],84,84,1))\n",
    "# VD1 = build_image(VD, dico_gr).reshape((dataset.shape[0],84,84,1))\n",
    "# CD1 = build_image(CD, dico_gr).reshape((dataset.shape[0],84,84,1))\n",
    "\n",
    "y = np.concatenate([gr, vd, cd], axis = 1)"
   ]
  },
  {
   "cell_type": "code",
   "execution_count": 33,
   "metadata": {
    "scrolled": true
   },
   "outputs": [
    {
     "data": {
      "text/html": [
       "<div>\n",
       "<style scoped>\n",
       "    .dataframe tbody tr th:only-of-type {\n",
       "        vertical-align: middle;\n",
       "    }\n",
       "\n",
       "    .dataframe tbody tr th {\n",
       "        vertical-align: top;\n",
       "    }\n",
       "\n",
       "    .dataframe thead th {\n",
       "        text-align: right;\n",
       "    }\n",
       "</style>\n",
       "<table border=\"1\" class=\"dataframe\">\n",
       "  <thead>\n",
       "    <tr style=\"text-align: right;\">\n",
       "      <th></th>\n",
       "      <th>image_id</th>\n",
       "      <th>grapheme_root</th>\n",
       "      <th>vowel_diacritic</th>\n",
       "      <th>consonant_diacritic</th>\n",
       "      <th>grapheme</th>\n",
       "    </tr>\n",
       "  </thead>\n",
       "  <tbody>\n",
       "    <tr>\n",
       "      <th>Train_0</th>\n",
       "      <td>Train_0</td>\n",
       "      <td>15</td>\n",
       "      <td>9</td>\n",
       "      <td>5</td>\n",
       "      <td>ক্ট্রো</td>\n",
       "    </tr>\n",
       "    <tr>\n",
       "      <th>Train_137</th>\n",
       "      <td>Train_137</td>\n",
       "      <td>15</td>\n",
       "      <td>9</td>\n",
       "      <td>5</td>\n",
       "      <td>ক্ট্রো</td>\n",
       "    </tr>\n",
       "    <tr>\n",
       "      <th>Train_431</th>\n",
       "      <td>Train_431</td>\n",
       "      <td>15</td>\n",
       "      <td>9</td>\n",
       "      <td>5</td>\n",
       "      <td>ক্ট্রো</td>\n",
       "    </tr>\n",
       "    <tr>\n",
       "      <th>Train_503</th>\n",
       "      <td>Train_503</td>\n",
       "      <td>15</td>\n",
       "      <td>9</td>\n",
       "      <td>5</td>\n",
       "      <td>ক্ট্রো</td>\n",
       "    </tr>\n",
       "    <tr>\n",
       "      <th>Train_1094</th>\n",
       "      <td>Train_1094</td>\n",
       "      <td>15</td>\n",
       "      <td>9</td>\n",
       "      <td>5</td>\n",
       "      <td>ক্ট্রো</td>\n",
       "    </tr>\n",
       "    <tr>\n",
       "      <th>...</th>\n",
       "      <td>...</td>\n",
       "      <td>...</td>\n",
       "      <td>...</td>\n",
       "      <td>...</td>\n",
       "      <td>...</td>\n",
       "    </tr>\n",
       "    <tr>\n",
       "      <th>Train_194183</th>\n",
       "      <td>Train_194183</td>\n",
       "      <td>15</td>\n",
       "      <td>9</td>\n",
       "      <td>5</td>\n",
       "      <td>ক্ট্রো</td>\n",
       "    </tr>\n",
       "    <tr>\n",
       "      <th>Train_194275</th>\n",
       "      <td>Train_194275</td>\n",
       "      <td>15</td>\n",
       "      <td>9</td>\n",
       "      <td>5</td>\n",
       "      <td>ক্ট্রো</td>\n",
       "    </tr>\n",
       "    <tr>\n",
       "      <th>Train_194423</th>\n",
       "      <td>Train_194423</td>\n",
       "      <td>15</td>\n",
       "      <td>9</td>\n",
       "      <td>5</td>\n",
       "      <td>ক্ট্রো</td>\n",
       "    </tr>\n",
       "    <tr>\n",
       "      <th>Train_196277</th>\n",
       "      <td>Train_196277</td>\n",
       "      <td>15</td>\n",
       "      <td>9</td>\n",
       "      <td>5</td>\n",
       "      <td>ক্ট্রো</td>\n",
       "    </tr>\n",
       "    <tr>\n",
       "      <th>Train_199877</th>\n",
       "      <td>Train_199877</td>\n",
       "      <td>15</td>\n",
       "      <td>9</td>\n",
       "      <td>5</td>\n",
       "      <td>ক্ট্রো</td>\n",
       "    </tr>\n",
       "  </tbody>\n",
       "</table>\n",
       "<p>164 rows × 5 columns</p>\n",
       "</div>"
      ],
      "text/plain": [
       "                  image_id  grapheme_root  vowel_diacritic  \\\n",
       "Train_0            Train_0             15                9   \n",
       "Train_137        Train_137             15                9   \n",
       "Train_431        Train_431             15                9   \n",
       "Train_503        Train_503             15                9   \n",
       "Train_1094      Train_1094             15                9   \n",
       "...                    ...            ...              ...   \n",
       "Train_194183  Train_194183             15                9   \n",
       "Train_194275  Train_194275             15                9   \n",
       "Train_194423  Train_194423             15                9   \n",
       "Train_196277  Train_196277             15                9   \n",
       "Train_199877  Train_199877             15                9   \n",
       "\n",
       "              consonant_diacritic grapheme  \n",
       "Train_0                         5   ক্ট্রো  \n",
       "Train_137                       5   ক্ট্রো  \n",
       "Train_431                       5   ক্ট্রো  \n",
       "Train_503                       5   ক্ট্রো  \n",
       "Train_1094                      5   ক্ট্রো  \n",
       "...                           ...      ...  \n",
       "Train_194183                    5   ক্ট্রো  \n",
       "Train_194275                    5   ক্ট্রো  \n",
       "Train_194423                    5   ক্ট্রো  \n",
       "Train_196277                    5   ক্ট্রো  \n",
       "Train_199877                    5   ক্ট্রো  \n",
       "\n",
       "[164 rows x 5 columns]"
      ]
     },
     "execution_count": 33,
     "metadata": {},
     "output_type": "execute_result"
    }
   ],
   "source": [
    "labels[(labels['grapheme_root']==15)&(labels['vowel_diacritic']==9)&(labels['consonant_diacritic']==5)]"
   ]
  },
  {
   "cell_type": "code",
   "execution_count": 32,
   "metadata": {},
   "outputs": [
    {
     "data": {
      "text/plain": [
       "<matplotlib.image.AxesImage at 0x1da82674348>"
      ]
     },
     "execution_count": 32,
     "metadata": {},
     "output_type": "execute_result"
    },
    {
     "data": {
      "image/png": "[encoded data removed]",
      "text/plain": [
       "<Figure size 432x288 with 1 Axes>"
      ]
     },
     "metadata": {
      "needs_background": "light"
     },
     "output_type": "display_data"
    }
   ],
   "source": [
    "plt.imshow(dataset[7346].reshape(84,84))"
   ]
  },
  {
   "cell_type": "code",
   "execution_count": 6,
   "metadata": {},
   "outputs": [],
   "source": [
    "X_train, X_test, y_train, y_test = train_test_split(dataset, y, test_size=0.2, random_state=42)"
   ]
  },
  {
   "cell_type": "code",
   "execution_count": 7,
   "metadata": {},
   "outputs": [],
   "source": [
    "del dataset"
   ]
  },
  {
   "cell_type": "code",
   "execution_count": 15,
   "metadata": {},
   "outputs": [],
   "source": [
    "import keras\n",
    "from sklearn.metrics import recall_score\n",
    "from sklearn.metrics import accuracy_score\n",
    " \n",
    "class print_score(keras.callbacks.Callback):\n",
    "    def on_train_begin(self, logs={}):\n",
    "        self.aucs = []\n",
    "        self.losses = []\n",
    " \n",
    "    def on_train_end(self, logs={}):\n",
    "        return\n",
    " \n",
    "    def on_epoch_begin(self, epoch, logs={}):\n",
    "        return\n",
    " \n",
    "#     def on_epoch_end(self, epoch, logs={}):\n",
    "#         self.losses.append(logs.get('loss'))\n",
    "        \n",
    "#         y_pred = self.model.predict(X_test)\n",
    "#         pred_gr = y_pred[:,:168]\n",
    "#         pred_vd = y_pred[:,168:179]\n",
    "#         pred_cd = y_pred[:, 179:]\n",
    "        \n",
    "#         y_gr = y_test[:,:168]\n",
    "#         y_vd = y_test[:,168:179]\n",
    "#         y_cd = y_test[:, 179:]\n",
    "        \n",
    "#         pred_gr = np.argmax(pred_gr, axis = 1)\n",
    "#         pred_vd = np.argmax(pred_vd, axis = 1)\n",
    "#         pred_cd = np.argmax(pred_cd, axis = 1)\n",
    "        \n",
    "#         y_gr = np.argmax(y_gr, axis = 1)\n",
    "#         y_vd = np.argmax(y_vd, axis = 1)\n",
    "#         y_cd = np.argmax(y_cd, axis = 1)\n",
    "        \n",
    "#         p_gr = recall_score(y_gr, pred_gr, average='macro')\n",
    "#         p_vd = recall_score(y_vd, pred_vd, average='macro')\n",
    "#         p_cd = recall_score(y_cd, pred_cd, average='macro')\n",
    "        \n",
    "#         score = 0.5*p_gr + 0.25*p_vd + 0.25*p_cd\n",
    "\n",
    "#         a_gr = accuracy_score(y_gr, pred_gr)\n",
    "#         a_vd = accuracy_score(y_vd, pred_vd)\n",
    "#         a_cd = accuracy_score(y_cd, pred_cd)\n",
    "    \n",
    "#         print('recall scores : gr = '+str(p_gr)+' vd = '+str(p_vd)+' cd = '+str(p_cd))\n",
    "#         print('global score is : '+str(score))\n",
    "#         print('accuracy scores : gr = '+str(a_gr)+' vd = '+str(a_vd)+' cd = '+str(a_cd))        \n",
    "        \n",
    "        \n",
    "        \n",
    "#         self.aucs.append(score)\n",
    "#         print(score)\n",
    "#         return\n",
    "\n",
    "    def on_epoch_end(self, epoch, logs={}):\n",
    "        self.losses.append(logs.get('loss'))\n",
    "        \n",
    "        y_pred = self.model.predict(X_test)\n",
    "        \n",
    "        pred_gr = np.argmax(y_pred, axis = 1)\n",
    "\n",
    "        y_gr = np.argmax(y_test, axis = 1)\n",
    "\n",
    "        \n",
    "        p_gr = recall_score(y_gr, pred_gr, average='macro')\n",
    "    \n",
    "\n",
    "        a_gr = accuracy_score(y_gr, pred_gr)\n",
    "   \n",
    "        print('recall scores : gr = '+str(p_gr))\n",
    "        print('accuracy scores : gr = '+str(a_gr))        \n",
    "        \n",
    "        \n",
    "        \n",
    "#         self.aucs.append(score)\n",
    "#         print(score)\n",
    "        return\n",
    "\n",
    "    def on_batch_begin(self, batch, logs={}):\n",
    "        return\n",
    " \n",
    "    def on_batch_end(self, batch, logs={}):\n",
    "        return"
   ]
  },
  {
   "cell_type": "code",
   "execution_count": 9,
   "metadata": {},
   "outputs": [
    {
     "data": {
      "text/plain": [
       "<matplotlib.image.AxesImage at 0x1ac05295408>"
      ]
     },
     "execution_count": 9,
     "metadata": {},
     "output_type": "execute_result"
    },
    {
     "data": {
      "image/png": "[encoded data removed]",
      "text/plain": [
       "<Figure size 432x288 with 1 Axes>"
      ]
     },
     "metadata": {
      "needs_background": "light"
     },
     "output_type": "display_data"
    }
   ],
   "source": [
    "plt.imshow(X_train[0].reshape(84,84))"
   ]
  },
  {
   "cell_type": "code",
   "execution_count": 10,
   "metadata": {},
   "outputs": [
    {
     "data": {
      "text/plain": [
       "(160672, 168)"
      ]
     },
     "execution_count": 10,
     "metadata": {},
     "output_type": "execute_result"
    }
   ],
   "source": [
    "y_train.shape"
   ]
  },
  {
   "cell_type": "code",
   "execution_count": null,
   "metadata": {},
   "outputs": [],
   "source": []
  },
  {
   "cell_type": "code",
   "execution_count": 11,
   "metadata": {
    "scrolled": true
   },
   "outputs": [
    {
     "name": "stdout",
     "output_type": "stream",
     "text": [
      "WARNING:tensorflow:From C:\\Users\\gabri\\Anaconda3\\lib\\site-packages\\keras\\backend\\tensorflow_backend.py:74: The name tf.get_default_graph is deprecated. Please use tf.compat.v1.get_default_graph instead.\n",
      "\n",
      "WARNING:tensorflow:From C:\\Users\\gabri\\Anaconda3\\lib\\site-packages\\keras\\backend\\tensorflow_backend.py:517: The name tf.placeholder is deprecated. Please use tf.compat.v1.placeholder instead.\n",
      "\n",
      "WARNING:tensorflow:From C:\\Users\\gabri\\Anaconda3\\lib\\site-packages\\keras\\backend\\tensorflow_backend.py:4185: The name tf.truncated_normal is deprecated. Please use tf.random.truncated_normal instead.\n",
      "\n",
      "WARNING:tensorflow:From C:\\Users\\gabri\\Anaconda3\\lib\\site-packages\\keras\\backend\\tensorflow_backend.py:174: The name tf.get_default_session is deprecated. Please use tf.compat.v1.get_default_session instead.\n",
      "\n",
      "WARNING:tensorflow:From C:\\Users\\gabri\\Anaconda3\\lib\\site-packages\\keras\\backend\\tensorflow_backend.py:181: The name tf.ConfigProto is deprecated. Please use tf.compat.v1.ConfigProto instead.\n",
      "\n",
      "WARNING:tensorflow:From C:\\Users\\gabri\\Anaconda3\\lib\\site-packages\\keras\\backend\\tensorflow_backend.py:1834: The name tf.nn.fused_batch_norm is deprecated. Please use tf.compat.v1.nn.fused_batch_norm instead.\n",
      "\n",
      "WARNING:tensorflow:From C:\\Users\\gabri\\Anaconda3\\lib\\site-packages\\keras\\backend\\tensorflow_backend.py:3976: The name tf.nn.max_pool is deprecated. Please use tf.nn.max_pool2d instead.\n",
      "\n",
      "WARNING:tensorflow:From C:\\Users\\gabri\\Anaconda3\\lib\\site-packages\\keras\\backend\\tensorflow_backend.py:3980: The name tf.nn.avg_pool is deprecated. Please use tf.nn.avg_pool2d instead.\n",
      "\n"
     ]
    }
   ],
   "source": [
    "import resnet\n",
    "build = resnet.ResnetBuilder()\n",
    "model = build.build_resnet_18((1,84,84),168)"
   ]
  },
  {
   "cell_type": "code",
   "execution_count": null,
   "metadata": {},
   "outputs": [],
   "source": [
    "from keras.applications import densenet\n",
    "model_transfert = densenet.DenseNet121(include_top=False,input_shape=(84,84,1), weights = None  )\n",
    "\n",
    "inputs = model_transfert.input\n",
    "outputs = model_transfert.output\n",
    "outputs = GlobalAveragePooling2D(name='avg_pool')(outputs)\n",
    "outputs = Dense(186, activation='softmax', name='fc64')(outputs)\n",
    "model = Model(inputs=inputs,   outputs=outputs)"
   ]
  },
  {
   "cell_type": "code",
   "execution_count": null,
   "metadata": {},
   "outputs": [],
   "source": [
    "from resnext import ResNext\n",
    "\n",
    "model = ResNext((84, 84, 1), depth=20, cardinality=4, width=16, classes = 186)"
   ]
  },
  {
   "cell_type": "code",
   "execution_count": null,
   "metadata": {
    "scrolled": true
   },
   "outputs": [],
   "source": [
    "model.summary()"
   ]
  },
  {
   "cell_type": "code",
   "execution_count": null,
   "metadata": {
    "scrolled": true
   },
   "outputs": [],
   "source": [
    "help(c)"
   ]
  },
  {
   "cell_type": "code",
   "execution_count": null,
   "metadata": {},
   "outputs": [],
   "source": [
    "model = load('resnet18 - altered - to_train', 'models')"
   ]
  },
  {
   "cell_type": "code",
   "execution_count": 16,
   "metadata": {
    "scrolled": true
   },
   "outputs": [
    {
     "name": "stdout",
     "output_type": "stream",
     "text": [
      "Epoch 1/30\n",
      "5021/5021 [==============================] - 177s 35ms/step - loss: 1.2287 - acc: 0.8411 - val_loss: 1.2044 - val_acc: 0.8345\n",
      "recall scores : gr = 0.7995962871400754\n",
      "accuracy scores : gr = 0.834520015933081\n",
      "Epoch 2/30\n",
      "5021/5021 [==============================] - 172s 34ms/step - loss: 1.0546 - acc: 0.8659 - val_loss: 0.9939 - val_acc: 0.8761\n",
      "recall scores : gr = 0.8423340376231391\n",
      "accuracy scores : gr = 0.8761202947619996\n",
      "Epoch 3/30\n",
      "5021/5021 [==============================] - 172s 34ms/step - loss: 0.9311 - acc: 0.8803 - val_loss: 0.8715 - val_acc: 0.8904\n",
      "recall scores : gr = 0.8523338771723183\n",
      "accuracy scores : gr = 0.8903604859589723\n",
      "Epoch 4/30\n",
      "5021/5021 [==============================] - 172s 34ms/step - loss: 0.8358 - acc: 0.8917 - val_loss: 0.8106 - val_acc: 0.8915\n",
      "recall scores : gr = 0.8800663176273489\n",
      "accuracy scores : gr = 0.8914807807209719\n",
      "Epoch 5/30\n",
      "5021/5021 [==============================] - 172s 34ms/step - loss: 0.7635 - acc: 0.8975 - val_loss: 0.8418 - val_acc: 0.8734\n",
      "recall scores : gr = 0.8661967116512443\n",
      "accuracy scores : gr = 0.8734315873332006\n",
      "Epoch 6/30\n",
      "5021/5021 [==============================] - 171s 34ms/step - loss: 0.7029 - acc: 0.9025 - val_loss: 0.6930 - val_acc: 0.9025\n",
      "recall scores : gr = 0.8837694031321057\n",
      "accuracy scores : gr = 0.9025094602668791\n",
      "Epoch 7/30\n",
      "5021/5021 [==============================] - 172s 34ms/step - loss: 0.6523 - acc: 0.9085 - val_loss: 0.6726 - val_acc: 0.9010\n",
      "recall scores : gr = 0.8935081297509078\n",
      "accuracy scores : gr = 0.9009659430392352\n",
      "Epoch 8/30\n",
      "5021/5021 [==============================] - 173s 35ms/step - loss: 0.6138 - acc: 0.9120 - val_loss: 0.6195 - val_acc: 0.9100\n",
      "recall scores : gr = 0.8987807426431831\n",
      "accuracy scores : gr = 0.9100029874526987\n",
      "Epoch 9/30\n",
      "5021/5021 [==============================] - 177s 35ms/step - loss: 0.5781 - acc: 0.9159 - val_loss: 0.6494 - val_acc: 0.8982\n",
      "recall scores : gr = 0.87462200257888\n",
      "accuracy scores : gr = 0.8982274447321251\n",
      "Epoch 10/30\n",
      "5021/5021 [==============================] - 176s 35ms/step - loss: 0.5494 - acc: 0.9176 - val_loss: 0.6097 - val_acc: 0.9009\n",
      "recall scores : gr = 0.8886737003594657\n",
      "accuracy scores : gr = 0.9008912567217686\n",
      "Epoch 11/30\n",
      "5021/5021 [==============================] - 173s 35ms/step - loss: 0.5318 - acc: 0.9182 - val_loss: 0.6060 - val_acc: 0.9010\n",
      "recall scores : gr = 0.8873058231030339\n",
      "accuracy scores : gr = 0.9009659430392352\n",
      "Epoch 12/30\n",
      "5021/5021 [==============================] - 174s 35ms/step - loss: 0.5109 - acc: 0.9210 - val_loss: 0.6443 - val_acc: 0.8871\n",
      "recall scores : gr = 0.8862948746373218\n",
      "accuracy scores : gr = 0.8871240788687512\n",
      "Epoch 13/30\n",
      "5021/5021 [==============================] - 175s 35ms/step - loss: 0.4935 - acc: 0.9239 - val_loss: 0.5745 - val_acc: 0.9023\n",
      "recall scores : gr = 0.8871701729283514\n",
      "accuracy scores : gr = 0.9022854013144792\n",
      "Epoch 14/30\n",
      "5021/5021 [==============================] - 174s 35ms/step - loss: 0.4834 - acc: 0.9244 - val_loss: 0.6164 - val_acc: 0.8893\n",
      "recall scores : gr = 0.8728858144159\n",
      "accuracy scores : gr = 0.8892650866361282\n",
      "Epoch 15/30\n",
      "5021/5021 [==============================] - 174s 35ms/step - loss: 0.4696 - acc: 0.9253 - val_loss: 0.5224 - val_acc: 0.9135\n",
      "recall scores : gr = 0.8963132959348873\n",
      "accuracy scores : gr = 0.9134883489344752\n",
      "Epoch 16/30\n",
      "5021/5021 [==============================] - 174s 35ms/step - loss: 0.4623 - acc: 0.9273 - val_loss: 0.5403 - val_acc: 0.9124\n",
      "recall scores : gr = 0.9012351565229322\n",
      "accuracy scores : gr = 0.9124427404899422\n",
      "Epoch 17/30\n",
      "5021/5021 [==============================] - 174s 35ms/step - loss: 0.4503 - acc: 0.9284 - val_loss: 0.6049 - val_acc: 0.8901\n",
      "recall scores : gr = 0.8674721659366785\n",
      "accuracy scores : gr = 0.8901115315674168\n",
      "Epoch 18/30\n",
      "5021/5021 [==============================] - 175s 35ms/step - loss: 0.4449 - acc: 0.9291 - val_loss: 0.5191 - val_acc: 0.9119\n",
      "recall scores : gr = 0.899408001252144\n",
      "accuracy scores : gr = 0.9118701453893646\n",
      "Epoch 19/30\n",
      "5021/5021 [==============================] - 174s 35ms/step - loss: 0.4392 - acc: 0.9296 - val_loss: 0.5865 - val_acc: 0.8912\n",
      "recall scores : gr = 0.8915928571187464\n",
      "accuracy scores : gr = 0.8912318263294164\n",
      "Epoch 20/30\n",
      "5021/5021 [==============================] - 174s 35ms/step - loss: 0.4318 - acc: 0.9313 - val_loss: 0.5121 - val_acc: 0.9132\n",
      "recall scores : gr = 0.9088127777942525\n",
      "accuracy scores : gr = 0.9131647082254531\n",
      "Epoch 21/30\n",
      "5021/5021 [==============================] - 174s 35ms/step - loss: 0.4274 - acc: 0.9324 - val_loss: 0.5223 - val_acc: 0.9088\n",
      "recall scores : gr = 0.8890749399414165\n",
      "accuracy scores : gr = 0.9088080063732324\n",
      "Epoch 22/30\n",
      "5021/5021 [==============================] - 174s 35ms/step - loss: 0.4250 - acc: 0.9322 - val_loss: 0.4812 - val_acc: 0.9207\n",
      "recall scores : gr = 0.9062363055355537\n",
      "accuracy scores : gr = 0.9206831308504282\n",
      "Epoch 23/30\n",
      "5021/5021 [==============================] - 175s 35ms/step - loss: 0.4195 - acc: 0.9338 - val_loss: 0.4833 - val_acc: 0.9202\n",
      "recall scores : gr = 0.9048189528449252\n",
      "accuracy scores : gr = 0.9201603266281617\n",
      "Epoch 24/30\n",
      "5021/5021 [==============================] - 174s 35ms/step - loss: 0.4168 - acc: 0.9339 - val_loss: 0.5092 - val_acc: 0.9109\n",
      "recall scores : gr = 0.9005364779607374\n",
      "accuracy scores : gr = 0.9109490141406095\n",
      "Epoch 25/30\n",
      "5021/5021 [==============================] - 174s 35ms/step - loss: 0.4133 - acc: 0.9344 - val_loss: 0.5048 - val_acc: 0.9141\n",
      "\n",
      "Epoch 00025: ReduceLROnPlateau reducing learning rate to 0.010000000149011612.\n",
      "recall scores : gr = 0.9023151925531498\n",
      "accuracy scores : gr = 0.9141107349133639\n",
      "Epoch 26/30\n",
      "5021/5021 [==============================] - 174s 35ms/step - loss: 0.3224 - acc: 0.9630 - val_loss: 0.3660 - val_acc: 0.9517\n",
      "recall scores : gr = 0.9444982910961944\n",
      "accuracy scores : gr = 0.9517028480382393\n",
      "Epoch 27/30\n",
      "5021/5021 [==============================] - 174s 35ms/step - loss: 0.2969 - acc: 0.9689 - val_loss: 0.3583 - val_acc: 0.9521\n",
      "recall scores : gr = 0.9458286196588414\n",
      "accuracy scores : gr = 0.952051384186417\n",
      "Epoch 28/30\n",
      "5021/5021 [==============================] - 174s 35ms/step - loss: 0.2858 - acc: 0.9712 - val_loss: 0.3566 - val_acc: 0.9526\n",
      "recall scores : gr = 0.9461275662205644\n",
      "accuracy scores : gr = 0.9526488747261501\n",
      "Epoch 29/30\n",
      "5021/5021 [==============================] - 174s 35ms/step - loss: 0.2773 - acc: 0.9727 - val_loss: 0.3547 - val_acc: 0.9524\n",
      "recall scores : gr = 0.9460096736397551\n",
      "accuracy scores : gr = 0.9523501294562836\n",
      "Epoch 30/30\n",
      "5021/5021 [==============================] - 173s 35ms/step - loss: 0.2689 - acc: 0.9739 - val_loss: 0.3512 - val_acc: 0.9534\n",
      "recall scores : gr = 0.9463153371763555\n",
      "accuracy scores : gr = 0.9534206333399721\n"
     ]
    }
   ],
   "source": [
    "# aug = ImageDataGenerator(rotation_range=10, zoom_range=0.15,\n",
    "#                          width_shift_range=0.1, height_shift_range=0.1, shear_range=0.1,\n",
    "#                          horizontal_flip=False, fill_mode=\"nearest\")\n",
    "\n",
    "# from keras_tqdm import TQDMNotebookCallback\n",
    "\n",
    "aug = ImageDataGenerator(\n",
    "            featurewise_center=False,  # set input mean to 0 over the dataset\n",
    "            samplewise_center=False,  # set each sample mean to 0\n",
    "            featurewise_std_normalization=False,  # divide inputs by std of the dataset\n",
    "            samplewise_std_normalization=False,  # divide each input by its std\n",
    "            zca_whitening=False,  # apply ZCA whitening\n",
    "            rotation_range=8,  # randomly rotate images in the range (degrees, 0 to 180)\n",
    "            zoom_range = 0.15, # Randomly zoom image \n",
    "            width_shift_range=0.15,  # randomly shift images horizontally (fraction of total width)\n",
    "            height_shift_range=0.15,  # randomly shift images vertically (fraction of total height)\n",
    "            horizontal_flip=False,  # randomly flip images\n",
    "            vertical_flip=False)  # randomly flip images\n",
    "\n",
    "\n",
    "optimizer=SGD(lr=0.1)\n",
    "model.compile(loss=keras.losses.categorical_crossentropy,\n",
    "              optimizer=optimizer,#keras.optimizers.Adadelta(),\n",
    "              metrics=['accuracy'])\n",
    "#              )\n",
    "\n",
    "callbacks = [\n",
    "    ReduceLROnPlateau(monitor='val_loss', factor=0.1, patience=3, min_lr=0.001, verbose = 1),\n",
    "    EarlyStopping(monitor='val_loss', min_delta=1e-5, patience=5, verbose=1, mode='auto', restore_best_weights = True),\n",
    "    print_score()\n",
    "]\n",
    "\n",
    "\n",
    "batch_size = 32\n",
    "epochs = 30\n",
    "\n",
    "history = model.fit_generator(aug.flow(X_train, y_train, batch_size=batch_size),\n",
    "    validation_data=(X_test, y_test), steps_per_epoch=len(X_train) // batch_size,\n",
    "    epochs=epochs,verbose=1, callbacks = callbacks)\n",
    "\n",
    "\n",
    "# history = model.fit(X_train, y_train, batch_size = batch_size, epochs = epochs, validation_data=(X_test, y_test),verbose=0, callbacks=[TQDMNotebookCallback()])"
   ]
  },
  {
   "cell_type": "code",
   "execution_count": null,
   "metadata": {},
   "outputs": [],
   "source": [
    "save(model, 'resnet18 - altered', 'models')"
   ]
  },
  {
   "cell_type": "code",
   "execution_count": null,
   "metadata": {
    "scrolled": true
   },
   "outputs": [],
   "source": [
    "optimizer=SGD(lr=0.01)\n",
    "model.compile(loss=keras.losses.categorical_crossentropy,\n",
    "              optimizer=optimizer,#keras.optimizers.Adadelta(),\n",
    "              metrics=['accuracy'])\n",
    "\n",
    "batch_size = 32\n",
    "epochs = 10\n",
    "\n",
    "\n",
    "history = model.fit_generator(aug.flow(X_train, y_train, batch_size=batch_size),\n",
    "    validation_data=(X_test, y_test), steps_per_epoch=len(X_train) // batch_size,\n",
    "    epochs=epochs,verbose=1, callbacks = callbacks)"
   ]
  },
  {
   "cell_type": "code",
   "execution_count": null,
   "metadata": {},
   "outputs": [],
   "source": [
    "optimizer=SGD(lr=0.001)\n",
    "model.compile(loss=keras.losses.categorical_crossentropy,\n",
    "              optimizer=optimizer,#keras.optimizers.Adadelta(),\n",
    "              metrics=['accuracy'])\n",
    "\n",
    "\n",
    "\n",
    "batch_size = 32\n",
    "epochs = 5\n",
    "\n",
    "history = model.fit_generator(aug.flow(X_train, y_train, batch_size=batch_size),\n",
    "    validation_data=(X_test, y_test), steps_per_epoch=len(X_train) // batch_size,\n",
    "    epochs=epochs,verbose=1, callbacks = callbacks)"
   ]
  },
  {
   "cell_type": "code",
   "execution_count": null,
   "metadata": {},
   "outputs": [],
   "source": [
    "from sklearn.metrics import recall_score\n",
    "\n",
    "pred = model.predict(X_test)\n",
    "pred = np.argmax(pred, axis = 1)\n",
    "\n",
    "Y_true = np.argmax(y_test, axis = 1)\n",
    "\n",
    "print(recall_score(Y_true, pred, average='macro'))"
   ]
  },
  {
   "cell_type": "code",
   "execution_count": null,
   "metadata": {},
   "outputs": [],
   "source": [
    "def score(X_test, y_test, model):\n",
    "    \n",
    "    from sklearn.metrics import recall_score\n",
    "    from sklearn.metrics import accuracy_score\n",
    "    y_pred = model.predict(X_test)\n",
    "    pred_gr = y_pred[:,:168]\n",
    "    pred_vd = y_pred[:,168:179]\n",
    "    pred_cd = y_pred[:, 179:]\n",
    "        \n",
    "    y_gr = y_test[:,:168]\n",
    "    y_vd = y_test[:,168:179]\n",
    "    y_cd = y_test[:, 179:]\n",
    "        \n",
    "    pred_gr = np.argmax(pred_gr, axis = 1)\n",
    "    pred_vd = np.argmax(pred_vd, axis = 1)\n",
    "    pred_cd = np.argmax(pred_cd, axis = 1)\n",
    "        \n",
    "    y_gr = np.argmax(y_gr, axis = 1)\n",
    "    y_vd = np.argmax(y_vd, axis = 1)\n",
    "    y_cd = np.argmax(y_cd, axis = 1)\n",
    "        \n",
    "    p_gr = recall_score(y_gr, pred_gr, average='macro')\n",
    "    p_vd = recall_score(y_vd, pred_vd, average='macro')\n",
    "    p_cd = recall_score(y_cd, pred_cd, average='macro')\n",
    "    \n",
    "    a_gr = accuracy_score(y_gr, pred_gr)\n",
    "    a_vd = accuracy_score(y_vd, pred_vd)\n",
    "    a_cd = accuracy_score(y_cd, pred_cd)\n",
    "        \n",
    "    score = 0.5*p_gr + 0.25*p_vd + 0.25*p_cd\n",
    "    \n",
    "    print('recall scores : gr = '+str(p_gr)+' vd = '+str(p_vd)+' cd = '+str(p_cd))\n",
    "    print('global score is : '+str(score))\n",
    "    \n",
    "    print('accuracy scores : gr = '+str(a_gr)+' vd = '+str(a_vd)+' cd = '+str(a_cd))"
   ]
  },
  {
   "cell_type": "code",
   "execution_count": null,
   "metadata": {},
   "outputs": [],
   "source": []
  },
  {
   "cell_type": "code",
   "execution_count": null,
   "metadata": {},
   "outputs": [],
   "source": [
    "def ensemble_score(X_test, y_test, models, weights):\n",
    "    \n",
    "    from sklearn.metrics import recall_score\n",
    "    from sklearn.metrics import accuracy_score\n",
    "    \n",
    "    preds = [[] for i in range(len(models))]\n",
    "    for j in range(len(models)):\n",
    "        print(' model '+str(j))\n",
    "        model = load(models[j], 'models')\n",
    "            \n",
    "        pred = model.predict(X_test)\n",
    "        print(pred.shape)\n",
    "#       print(pred)\n",
    "        preds[j] = pred\n",
    "        \n",
    "    preds = np.array(preds)\n",
    "    \n",
    "    print(preds.shape)\n",
    "    \n",
    "    pred = weights[0] * preds[0]\n",
    "    for i in range(1,len(models)):\n",
    "        pred += preds[i] * weights[i]\n",
    "    \n",
    "    y_pred = pred\n",
    "#     y_pred = model.predict(X_test)\n",
    "    pred_gr = y_pred[:,:168]\n",
    "    pred_vd = y_pred[:,168:179]\n",
    "    pred_cd = y_pred[:, 179:]\n",
    "        \n",
    "    y_gr = y_test[:,:168]\n",
    "    y_vd = y_test[:,168:179]\n",
    "    y_cd = y_test[:, 179:]\n",
    "        \n",
    "    pred_gr = np.argmax(pred_gr, axis = 1)\n",
    "    pred_vd = np.argmax(pred_vd, axis = 1)\n",
    "    pred_cd = np.argmax(pred_cd, axis = 1)\n",
    "        \n",
    "    y_gr = np.argmax(y_gr, axis = 1)\n",
    "    y_vd = np.argmax(y_vd, axis = 1)\n",
    "    y_cd = np.argmax(y_cd, axis = 1)\n",
    "        \n",
    "    p_gr = recall_score(y_gr, pred_gr, average='macro')\n",
    "    p_vd = recall_score(y_vd, pred_vd, average='macro')\n",
    "    p_cd = recall_score(y_cd, pred_cd, average='macro')\n",
    "    \n",
    "    a_gr = accuracy_score(y_gr, pred_gr)\n",
    "    a_vd = accuracy_score(y_vd, pred_vd)\n",
    "    a_cd = accuracy_score(y_cd, pred_cd)\n",
    "        \n",
    "    score = 0.5*p_gr + 0.25*p_vd + 0.25*p_cd\n",
    "    \n",
    "    print('recall scores : gr = '+str(p_gr)+' vd = '+str(p_vd)+' cd = '+str(p_cd))\n",
    "    print('global score is : '+str(score))\n",
    "    \n",
    "    print('accuracy scores : gr = '+str(a_gr)+' vd = '+str(a_vd)+' cd = '+str(a_cd))"
   ]
  },
  {
   "cell_type": "code",
   "execution_count": null,
   "metadata": {},
   "outputs": [],
   "source": [
    "models = [\n",
    "    'resnet18',\n",
    "    'densenet121',\n",
    "    'resnet18 - altered'\n",
    "]\n",
    "\n",
    "weights = [\n",
    "    0.3,\n",
    "    0.4,\n",
    "    0.3\n",
    "]"
   ]
  },
  {
   "cell_type": "code",
   "execution_count": null,
   "metadata": {},
   "outputs": [],
   "source": [
    "ensemble_score(X_test, y_test, models, weights)"
   ]
  },
  {
   "cell_type": "code",
   "execution_count": null,
   "metadata": {},
   "outputs": [],
   "source": []
  },
  {
   "cell_type": "code",
   "execution_count": null,
   "metadata": {},
   "outputs": [],
   "source": []
  },
  {
   "cell_type": "code",
   "execution_count": null,
   "metadata": {},
   "outputs": [],
   "source": []
  },
  {
   "cell_type": "code",
   "execution_count": null,
   "metadata": {},
   "outputs": [],
   "source": []
  },
  {
   "cell_type": "code",
   "execution_count": null,
   "metadata": {},
   "outputs": [],
   "source": [
    "model = load('resnet18', 'models')"
   ]
  },
  {
   "cell_type": "code",
   "execution_count": null,
   "metadata": {},
   "outputs": [],
   "source": [
    "score(X_test, y_test, model)"
   ]
  },
  {
   "cell_type": "code",
   "execution_count": null,
   "metadata": {},
   "outputs": [],
   "source": []
  }
 ],
 "metadata": {
  "kernelspec": {
   "display_name": "Python 3",
   "language": "python",
   "name": "python3"
  },
  "language_info": {
   "codemirror_mode": {
    "name": "ipython",
    "version": 3
   },
   "file_extension": ".py",
   "mimetype": "text/x-python",
   "name": "python",
   "nbconvert_exporter": "python",
   "pygments_lexer": "ipython3",
   "version": "3.7.4"
  }
 },
 "nbformat": 4,
 "nbformat_minor": 2
}
