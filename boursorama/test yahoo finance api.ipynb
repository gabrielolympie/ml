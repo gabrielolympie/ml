{
 "cells": [
  {
   "cell_type": "code",
   "execution_count": 20,
   "metadata": {},
   "outputs": [],
   "source": [
    "import pandas as pd\n",
    "import yfinance as yf\n",
    "from tqdm.notebook import tqdm"
   ]
  },
  {
   "cell_type": "code",
   "execution_count": 2,
   "metadata": {},
   "outputs": [],
   "source": [
    "df = pd.read_excel('dataset.xlsx')"
   ]
  },
  {
   "cell_type": "code",
   "execution_count": 3,
   "metadata": {},
   "outputs": [
    {
     "data": {
      "text/html": [
       "<div>\n",
       "<style scoped>\n",
       "    .dataframe tbody tr th:only-of-type {\n",
       "        vertical-align: middle;\n",
       "    }\n",
       "\n",
       "    .dataframe tbody tr th {\n",
       "        vertical-align: top;\n",
       "    }\n",
       "\n",
       "    .dataframe thead th {\n",
       "        text-align: right;\n",
       "    }\n",
       "</style>\n",
       "<table border=\"1\" class=\"dataframe\">\n",
       "  <thead>\n",
       "    <tr style=\"text-align: right;\">\n",
       "      <th></th>\n",
       "      <th>Category</th>\n",
       "      <th>ISIN</th>\n",
       "      <th>label</th>\n",
       "      <th>Yf Tracker</th>\n",
       "      <th>Name Yf</th>\n",
       "      <th>Category.1</th>\n",
       "    </tr>\n",
       "  </thead>\n",
       "  <tbody>\n",
       "    <tr>\n",
       "      <th>0</th>\n",
       "      <td>Comp A</td>\n",
       "      <td>FR0000120404</td>\n",
       "      <td>ACCOR</td>\n",
       "      <td>AC.PA</td>\n",
       "      <td>Accor SA</td>\n",
       "      <td>Lodging</td>\n",
       "    </tr>\n",
       "    <tr>\n",
       "      <th>1</th>\n",
       "      <td>Comp A</td>\n",
       "      <td>FR0010340141</td>\n",
       "      <td>ADP</td>\n",
       "      <td>ADP.PA</td>\n",
       "      <td>Aéroports de Paris SA</td>\n",
       "      <td>Air Services, Other</td>\n",
       "    </tr>\n",
       "    <tr>\n",
       "      <th>2</th>\n",
       "      <td>Comp A</td>\n",
       "      <td>FR0000031122</td>\n",
       "      <td>AIR FRANCE - KLM</td>\n",
       "      <td>AF.PA</td>\n",
       "      <td>Air France-KLM SA</td>\n",
       "      <td>Major Airlines</td>\n",
       "    </tr>\n",
       "    <tr>\n",
       "      <th>3</th>\n",
       "      <td>Comp A</td>\n",
       "      <td>FR0000120073</td>\n",
       "      <td>AIR LIQUIDE</td>\n",
       "      <td>AI.PA</td>\n",
       "      <td>Air Liquide, société anonyme</td>\n",
       "      <td>Chemicals - Major Diversified</td>\n",
       "    </tr>\n",
       "    <tr>\n",
       "      <th>4</th>\n",
       "      <td>Comp A</td>\n",
       "      <td>FR0004180537</td>\n",
       "      <td>AKKA TECHNOLOGIES</td>\n",
       "      <td>AKA.PA</td>\n",
       "      <td>Akka Technologies</td>\n",
       "      <td>Business Services</td>\n",
       "    </tr>\n",
       "  </tbody>\n",
       "</table>\n",
       "</div>"
      ],
      "text/plain": [
       "  Category          ISIN              label Yf Tracker  \\\n",
       "0   Comp A  FR0000120404              ACCOR      AC.PA   \n",
       "1   Comp A  FR0010340141                ADP     ADP.PA   \n",
       "2   Comp A  FR0000031122   AIR FRANCE - KLM      AF.PA   \n",
       "3   Comp A  FR0000120073        AIR LIQUIDE      AI.PA   \n",
       "4   Comp A  FR0004180537  AKKA TECHNOLOGIES     AKA.PA   \n",
       "\n",
       "                        Name Yf                     Category.1  \n",
       "0                      Accor SA                        Lodging  \n",
       "1         Aéroports de Paris SA            Air Services, Other  \n",
       "2             Air France-KLM SA                 Major Airlines  \n",
       "3  Air Liquide, société anonyme  Chemicals - Major Diversified  \n",
       "4             Akka Technologies              Business Services  "
      ]
     },
     "execution_count": 3,
     "metadata": {},
     "output_type": "execute_result"
    }
   ],
   "source": [
    "df.head()"
   ]
  },
  {
   "cell_type": "code",
   "execution_count": 22,
   "metadata": {},
   "outputs": [
    {
     "data": {
      "application/vnd.jupyter.widget-view+json": {
       "model_id": "51c9d8ab0f1c489cba044c777751de7c",
       "version_major": 2,
       "version_minor": 0
      },
      "text/plain": [
       "HBox(children=(FloatProgress(value=0.0, max=143.0), HTML(value='')))"
      ]
     },
     "metadata": {},
     "output_type": "display_data"
    },
    {
     "name": "stdout",
     "output_type": "stream",
     "text": [
      "\n"
     ]
    }
   ],
   "source": [
    "for i, line in tqdm(df.iterrows(), total = df.shape[0]):\n",
    "    label = line['label']\n",
    "    code = line['Yf Tracker']\n",
    "    \n",
    "    ticker = yf.Ticker(\"ADP.PA\")\n",
    "    hist = ticker.history(period=\"21y\", interval = '1d')\n",
    "    \n",
    "    hist.to_csv('./yf daily/'+label+'.csv', sep = ';', index = False)"
   ]
  },
  {
   "cell_type": "code",
   "execution_count": 11,
   "metadata": {},
   "outputs": [
    {
     "name": "stdout",
     "output_type": "stream",
     "text": [
      "{'zip': '93290', 'sector': 'Industrials', 'fullTimeEmployees': 24457, 'longBusinessSummary': 'Aeroports de Paris SA designs, constructs, and operates airports. The company operates through five segments: Aviation, Retail and Services, Real Estate, International and Airport Developments, and Other Activities. It owns and operates Paris-Charles de Gaulle, Paris-Orly, and Paris-Le Bourget airports; Issy-les-Moulineaux heliport; and 10 general aviation airfields in France. The company is also involved in retail activities offering services through shops, bars and restaurants, and banks and exchange counters, as well as in the provision of advertising and catering, terminal rental, car parking and access, car rental, and industrial services. In addition, it owns, develops, invests in, and manages real estate properties, such as lands and buildings. It also offers airport management and engineering services; and telecom operator services and cybersecurity services, as well as traceability and mobility solutions of goods. Aeroports de Paris SA was founded in 1945 and is based in Tremblay-en-France, France.', 'city': 'Tremblay-en-France', 'phone': '33 1 74 25 67 00', 'country': 'France', 'companyOfficers': [], 'website': 'http://www.parisaeroport.fr', 'maxAge': 1, 'address1': '1 Rue de France', 'industry': 'Airports & Air Services', 'previousClose': 92, 'regularMarketOpen': 90.85, 'twoHundredDayAverage': 118.90603, 'trailingAnnualDividendYield': 0.040217392000000005, 'payoutRatio': 0.6218, 'volume24Hr': None, 'regularMarketDayHigh': 92.65, 'navPrice': None, 'averageDailyVolume10Day': 97109, 'totalAssets': None, 'regularMarketPreviousClose': 92, 'fiftyDayAverage': 96.995834, 'trailingAnnualDividendRate': 3.7, 'open': 90.85, 'toCurrency': None, 'averageVolume10days': 97109, 'expireDate': None, 'yield': None, 'algorithm': None, 'dividendRate': 3.7, 'exDividendDate': 1591574400, 'beta': 1.18372, 'circulatingSupply': None, 'startDate': None, 'regularMarketDayLow': 89.1, 'priceHint': 2, 'currency': 'EUR', 'trailingPE': 15.29788, 'regularMarketVolume': 122847, 'lastMarket': None, 'maxSupply': None, 'openInterest': None, 'marketCap': 8994045952, 'volumeAllCurrencies': None, 'strikePrice': None, 'averageVolume': 128734, 'priceToSalesTrailing12Months': 1.9136267, 'dayLow': 89.1, 'ask': None, 'ytdReturn': None, 'askSize': None, 'volume': 122847, 'fiftyTwoWeekHigh': 181.5, 'forwardPE': None, 'fromCurrency': None, 'fiveYearAvgDividendYield': 2.33, 'fiftyTwoWeekLow': 70.7, 'bid': None, 'tradeable': False, 'dividendYield': 0.0402, 'bidSize': None, 'dayHigh': 92.65, 'exchange': 'PAR', 'shortName': 'ADP', 'longName': 'Aeroports de Paris SA', 'exchangeTimezoneName': 'Europe/Paris', 'exchangeTimezoneShortName': 'CEST', 'isEsgPopulated': False, 'gmtOffSetMilliseconds': '7200000', 'quoteType': 'EQUITY', 'symbol': 'ADP.PA', 'messageBoardId': 'finmb_874778', 'market': 'fr_market', 'annualHoldingsTurnover': None, 'enterpriseToRevenue': 3.292, 'beta3Year': None, 'profitMargins': 0.12511, 'enterpriseToEbitda': 8.498, '52WeekChange': -0.4324491, 'morningStarRiskRating': None, 'forwardEps': None, 'revenueQuarterlyGrowth': None, 'sharesOutstanding': 98944400, 'fundInceptionDate': None, 'annualReportExpenseRatio': None, 'bookValue': 50.849, 'sharesShort': None, 'sharesPercentSharesOut': None, 'fundFamily': None, 'lastFiscalYearEnd': 1577750400, 'heldPercentInstitutions': 0.13835, 'netIncomeToCommon': 533000000, 'trailingEps': 5.942, 'lastDividendValue': None, 'SandP52WeekChange': 0.050325513, 'priceToBook': 1.7876458, 'heldPercentInsiders': 0.68305, 'nextFiscalYearEnd': 1640908800, 'mostRecentQuarter': 1577750400, 'shortRatio': None, 'sharesShortPreviousMonthDate': None, 'floatShares': 26347271, 'enterpriseValue': 15474375680, 'threeYearAverageReturn': None, 'lastSplitDate': None, 'lastSplitFactor': None, 'legalType': None, 'morningStarOverallRating': None, 'earningsQuarterlyGrowth': -0.165, 'dateShortInterest': None, 'pegRatio': None, 'lastCapGain': None, 'shortPercentOfFloat': None, 'sharesShortPriorMonth': None, 'category': None, 'fiveYearAverageReturn': None, 'regularMarketPrice': 90.85, 'logo_url': 'https://logo.clearbit.com/parisaeroport.fr'}\n"
     ]
    }
   ],
   "source": [
    "\n",
    "\n",
    "msft = yf.Ticker(\"ADP.PA\")\n",
    "\n",
    "# get stock info\n",
    "print(msft.info)\n",
    "\n",
    "# get historical market data\n",
    "hist = msft.history(period=\"21y\", interval = '1d')"
   ]
  },
  {
   "cell_type": "code",
   "execution_count": 18,
   "metadata": {},
   "outputs": [],
   "source": [
    "hist.to_csv('./yf/test.csv', sep = ';', index = False)"
   ]
  },
  {
   "cell_type": "code",
   "execution_count": 19,
   "metadata": {},
   "outputs": [
    {
     "data": {
      "text/html": [
       "<div>\n",
       "<style scoped>\n",
       "    .dataframe tbody tr th:only-of-type {\n",
       "        vertical-align: middle;\n",
       "    }\n",
       "\n",
       "    .dataframe tbody tr th {\n",
       "        vertical-align: top;\n",
       "    }\n",
       "\n",
       "    .dataframe thead th {\n",
       "        text-align: right;\n",
       "    }\n",
       "</style>\n",
       "<table border=\"1\" class=\"dataframe\">\n",
       "  <thead>\n",
       "    <tr style=\"text-align: right;\">\n",
       "      <th></th>\n",
       "      <th>Open</th>\n",
       "      <th>High</th>\n",
       "      <th>Low</th>\n",
       "      <th>Close</th>\n",
       "      <th>Volume</th>\n",
       "      <th>Dividends</th>\n",
       "      <th>Stock Splits</th>\n",
       "    </tr>\n",
       "    <tr>\n",
       "      <th>Date</th>\n",
       "      <th></th>\n",
       "      <th></th>\n",
       "      <th></th>\n",
       "      <th></th>\n",
       "      <th></th>\n",
       "      <th></th>\n",
       "      <th></th>\n",
       "    </tr>\n",
       "  </thead>\n",
       "  <tbody>\n",
       "    <tr>\n",
       "      <th>2006-06-19</th>\n",
       "      <td>33.65</td>\n",
       "      <td>33.88</td>\n",
       "      <td>32.81</td>\n",
       "      <td>33.66</td>\n",
       "      <td>642515</td>\n",
       "      <td>0.0</td>\n",
       "      <td>0</td>\n",
       "    </tr>\n",
       "    <tr>\n",
       "      <th>2006-06-20</th>\n",
       "      <td>33.39</td>\n",
       "      <td>35.10</td>\n",
       "      <td>33.39</td>\n",
       "      <td>34.99</td>\n",
       "      <td>638696</td>\n",
       "      <td>0.0</td>\n",
       "      <td>0</td>\n",
       "    </tr>\n",
       "    <tr>\n",
       "      <th>2006-06-21</th>\n",
       "      <td>35.24</td>\n",
       "      <td>35.24</td>\n",
       "      <td>34.85</td>\n",
       "      <td>35.06</td>\n",
       "      <td>336292</td>\n",
       "      <td>0.0</td>\n",
       "      <td>0</td>\n",
       "    </tr>\n",
       "    <tr>\n",
       "      <th>2006-06-22</th>\n",
       "      <td>35.21</td>\n",
       "      <td>35.24</td>\n",
       "      <td>34.77</td>\n",
       "      <td>34.77</td>\n",
       "      <td>243057</td>\n",
       "      <td>0.0</td>\n",
       "      <td>0</td>\n",
       "    </tr>\n",
       "    <tr>\n",
       "      <th>2006-06-23</th>\n",
       "      <td>34.88</td>\n",
       "      <td>34.96</td>\n",
       "      <td>34.17</td>\n",
       "      <td>34.27</td>\n",
       "      <td>175756</td>\n",
       "      <td>0.0</td>\n",
       "      <td>0</td>\n",
       "    </tr>\n",
       "    <tr>\n",
       "      <th>...</th>\n",
       "      <td>...</td>\n",
       "      <td>...</td>\n",
       "      <td>...</td>\n",
       "      <td>...</td>\n",
       "      <td>...</td>\n",
       "      <td>...</td>\n",
       "      <td>...</td>\n",
       "    </tr>\n",
       "    <tr>\n",
       "      <th>2020-07-08</th>\n",
       "      <td>93.05</td>\n",
       "      <td>93.05</td>\n",
       "      <td>90.95</td>\n",
       "      <td>92.20</td>\n",
       "      <td>104204</td>\n",
       "      <td>0.0</td>\n",
       "      <td>0</td>\n",
       "    </tr>\n",
       "    <tr>\n",
       "      <th>2020-07-09</th>\n",
       "      <td>92.10</td>\n",
       "      <td>93.25</td>\n",
       "      <td>89.50</td>\n",
       "      <td>91.35</td>\n",
       "      <td>125911</td>\n",
       "      <td>0.0</td>\n",
       "      <td>0</td>\n",
       "    </tr>\n",
       "    <tr>\n",
       "      <th>2020-07-10</th>\n",
       "      <td>90.05</td>\n",
       "      <td>92.75</td>\n",
       "      <td>89.60</td>\n",
       "      <td>92.75</td>\n",
       "      <td>86860</td>\n",
       "      <td>0.0</td>\n",
       "      <td>0</td>\n",
       "    </tr>\n",
       "    <tr>\n",
       "      <th>2020-07-13</th>\n",
       "      <td>93.25</td>\n",
       "      <td>94.80</td>\n",
       "      <td>91.20</td>\n",
       "      <td>92.00</td>\n",
       "      <td>109764</td>\n",
       "      <td>0.0</td>\n",
       "      <td>0</td>\n",
       "    </tr>\n",
       "    <tr>\n",
       "      <th>2020-07-14</th>\n",
       "      <td>90.85</td>\n",
       "      <td>92.65</td>\n",
       "      <td>89.10</td>\n",
       "      <td>90.90</td>\n",
       "      <td>122847</td>\n",
       "      <td>0.0</td>\n",
       "      <td>0</td>\n",
       "    </tr>\n",
       "  </tbody>\n",
       "</table>\n",
       "<p>3597 rows × 7 columns</p>\n",
       "</div>"
      ],
      "text/plain": [
       "             Open   High    Low  Close  Volume  Dividends  Stock Splits\n",
       "Date                                                                   \n",
       "2006-06-19  33.65  33.88  32.81  33.66  642515        0.0             0\n",
       "2006-06-20  33.39  35.10  33.39  34.99  638696        0.0             0\n",
       "2006-06-21  35.24  35.24  34.85  35.06  336292        0.0             0\n",
       "2006-06-22  35.21  35.24  34.77  34.77  243057        0.0             0\n",
       "2006-06-23  34.88  34.96  34.17  34.27  175756        0.0             0\n",
       "...           ...    ...    ...    ...     ...        ...           ...\n",
       "2020-07-08  93.05  93.05  90.95  92.20  104204        0.0             0\n",
       "2020-07-09  92.10  93.25  89.50  91.35  125911        0.0             0\n",
       "2020-07-10  90.05  92.75  89.60  92.75   86860        0.0             0\n",
       "2020-07-13  93.25  94.80  91.20  92.00  109764        0.0             0\n",
       "2020-07-14  90.85  92.65  89.10  90.90  122847        0.0             0\n",
       "\n",
       "[3597 rows x 7 columns]"
      ]
     },
     "execution_count": 19,
     "metadata": {},
     "output_type": "execute_result"
    }
   ],
   "source": [
    "hist"
   ]
  },
  {
   "cell_type": "code",
   "execution_count": null,
   "metadata": {},
   "outputs": [],
   "source": [
    "help(msft.history)"
   ]
  },
  {
   "cell_type": "code",
   "execution_count": null,
   "metadata": {},
   "outputs": [],
   "source": [
    "hist = msft.history(period=\"5y\", interval = '1d')"
   ]
  },
  {
   "cell_type": "code",
   "execution_count": null,
   "metadata": {},
   "outputs": [],
   "source": [
    "hist"
   ]
  },
  {
   "cell_type": "code",
   "execution_count": null,
   "metadata": {},
   "outputs": [],
   "source": [
    "a = list(msft.info.keys())\n",
    "a.sort()\n",
    "a"
   ]
  },
  {
   "cell_type": "code",
   "execution_count": null,
   "metadata": {},
   "outputs": [],
   "source": [
    "import matplotlib.pyplot as plt"
   ]
  },
  {
   "cell_type": "code",
   "execution_count": null,
   "metadata": {},
   "outputs": [],
   "source": [
    "plt.plot(hist.index, hist['Dividends'].values)"
   ]
  },
  {
   "cell_type": "code",
   "execution_count": null,
   "metadata": {},
   "outputs": [],
   "source": [
    "import matplotlib.pyplot as plt\n",
    "import seaborn"
   ]
  },
  {
   "cell_type": "code",
   "execution_count": null,
   "metadata": {},
   "outputs": [],
   "source": [
    "hist['Close'].plot(figsize=(16, 9))"
   ]
  },
  {
   "cell_type": "code",
   "execution_count": null,
   "metadata": {},
   "outputs": [],
   "source": [
    "data_df = yf.download(\"AAPL\", start=\"2020-02-01\", end=\"2020-03-20\")"
   ]
  },
  {
   "cell_type": "code",
   "execution_count": null,
   "metadata": {},
   "outputs": [],
   "source": [
    "data_df"
   ]
  },
  {
   "cell_type": "code",
   "execution_count": null,
   "metadata": {},
   "outputs": [],
   "source": [
    "hist.to_csv('test.csv', sep = ';')"
   ]
  },
  {
   "cell_type": "code",
   "execution_count": null,
   "metadata": {},
   "outputs": [],
   "source": []
  },
  {
   "cell_type": "code",
   "execution_count": null,
   "metadata": {},
   "outputs": [],
   "source": [
    "import pandas_datareader as web\n",
    "\n",
    "f = web.DataReader('ticker=CPIFR', 'econdb', start = '2000/01/01')"
   ]
  },
  {
   "cell_type": "code",
   "execution_count": null,
   "metadata": {
    "scrolled": true
   },
   "outputs": [],
   "source": [
    "help(web.DataReader)"
   ]
  },
  {
   "cell_type": "code",
   "execution_count": null,
   "metadata": {},
   "outputs": [],
   "source": [
    "from pandas_datareader.famafrench import get_available_datasets\n",
    "get_available_datasets()"
   ]
  },
  {
   "cell_type": "code",
   "execution_count": null,
   "metadata": {},
   "outputs": [],
   "source": [
    "f.iloc[100:150].head(50)"
   ]
  },
  {
   "cell_type": "code",
   "execution_count": null,
   "metadata": {},
   "outputs": [],
   "source": []
  },
  {
   "cell_type": "code",
   "execution_count": null,
   "metadata": {},
   "outputs": [],
   "source": []
  },
  {
   "cell_type": "code",
   "execution_count": null,
   "metadata": {},
   "outputs": [],
   "source": []
  },
  {
   "cell_type": "code",
   "execution_count": null,
   "metadata": {},
   "outputs": [],
   "source": [
    "def send_email(subject, message):\n",
    "    import email\n",
    "    import smtplib\n",
    "\n",
    "    msg = email.message_from_string(message)\n",
    "    msg[\"From\"] = \"gab.olympie@hotmail.fr\"\n",
    "    msg[\"To\"] = \"gab.olympie@hotmail.fr\"\n",
    "    msg[\"Subject\"] = subject\n",
    "\n",
    "    s = smtplib.SMTP(\"smtp.live.com\",587)\n",
    "    s.ehlo() # Hostname to send for this command defaults to the fully qualified domain name of the local host.\n",
    "    s.starttls() #Puts connection to SMTP server in TLS mode\n",
    "    s.ehlo()\n",
    "    s.login(\"gab.olympie@hotmail.fr\", \"Tjxlq4sebbpias\")\n",
    "\n",
    "    s.sendmail(\"gab.olympie@hotmail.fr\", [\"gab.olympie@hotmail.fr\" ], msg.as_string())\n",
    "\n",
    "    s.quit()"
   ]
  },
  {
   "cell_type": "code",
   "execution_count": null,
   "metadata": {},
   "outputs": [],
   "source": [
    "for i in range(10):\n",
    "    send_email('subject '+str(i), 'this is the '+str(i)+' test in a row' )"
   ]
  },
  {
   "cell_type": "code",
   "execution_count": null,
   "metadata": {},
   "outputs": [],
   "source": []
  },
  {
   "cell_type": "code",
   "execution_count": null,
   "metadata": {},
   "outputs": [],
   "source": []
  },
  {
   "cell_type": "code",
   "execution_count": null,
   "metadata": {},
   "outputs": [],
   "source": []
  },
  {
   "cell_type": "code",
   "execution_count": null,
   "metadata": {},
   "outputs": [],
   "source": []
  },
  {
   "cell_type": "code",
   "execution_count": null,
   "metadata": {},
   "outputs": [],
   "source": []
  },
  {
   "cell_type": "code",
   "execution_count": null,
   "metadata": {},
   "outputs": [],
   "source": []
  }
 ],
 "metadata": {
  "kernelspec": {
   "display_name": "Python 3",
   "language": "python",
   "name": "python3"
  },
  "language_info": {
   "codemirror_mode": {
    "name": "ipython",
    "version": 3
   },
   "file_extension": ".py",
   "mimetype": "text/x-python",
   "name": "python",
   "nbconvert_exporter": "python",
   "pygments_lexer": "ipython3",
   "version": "3.7.6"
  }
 },
 "nbformat": 4,
 "nbformat_minor": 4
}
