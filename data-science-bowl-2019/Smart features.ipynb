{
 "cells": [
  {
   "cell_type": "code",
   "execution_count": 1,
   "metadata": {},
   "outputs": [
    {
     "name": "stderr",
     "output_type": "stream",
     "text": [
      "Using TensorFlow backend.\n"
     ]
    }
   ],
   "source": [
    "## General librairies\n",
    "import pandas as pd\n",
    "import numpy as np\n",
    "import _pickle as pickle\n",
    "import matplotlib.pyplot as plt\n",
    "import random\n",
    "import sys\n",
    "import time\n",
    "from copy import deepcopy\n",
    "import os\n",
    "from tqdm import tqdm_notebook as tqdm\n",
    "from sklearn.metrics import cohen_kappa_score\n",
    "import optuna\n",
    "from keras.utils import np_utils\n",
    "from sklearn.model_selection import train_test_split\n",
    "import json\n",
    "\n",
    "import dateutil.parser"
   ]
  },
  {
   "cell_type": "code",
   "execution_count": 2,
   "metadata": {},
   "outputs": [],
   "source": [
    "specs = 'specs.csv'\n",
    "test = 'test.csv'\n",
    "train = 'train.csv'\n",
    "train_labels = 'train_labels.csv'\n",
    "subs = 'sample_submission_exemple.csv'"
   ]
  },
  {
   "cell_type": "code",
   "execution_count": 3,
   "metadata": {},
   "outputs": [],
   "source": [
    "def save(file,name, folder = \"\"):\n",
    "    if folder != \"\":\n",
    "        outfile = open('./'+folder+'/'+name+'.pickle', 'wb')\n",
    "    else:\n",
    "        outfile = open(name+'.pickle', 'wb')\n",
    "    pickle.dump(file, outfile)\n",
    "    outfile.close\n",
    "    \n",
    "def load(name, folder = \"\"):\n",
    "    if folder != \"\":\n",
    "        outfile = open('./'+folder+'/'+name+'.pickle', 'rb')\n",
    "    else:\n",
    "        outfile = open(name+'.pickle', 'rb')\n",
    "    file = pickle.load(outfile)\n",
    "    outfile.close\n",
    "    return file\n",
    "\n",
    "def relative_time(x):\n",
    "    x1 = []\n",
    "    for elt in x:\n",
    "        x1.append((elt-x[0]).item()/1000000000)\n",
    "    return x1\n",
    "\n",
    "def categorise(x):\n",
    "    dico = {}\n",
    "    count = 0\n",
    "    for elt in x:\n",
    "        if not(elt in dico):\n",
    "            dico[elt] = count\n",
    "            count += 1\n",
    "    return dico\n",
    "\n",
    "def padding( dataset, n):\n",
    "    d = list(np.zeros(len(dataset)))\n",
    "    c = 0\n",
    "    count = 0\n",
    "    for elt in dataset:\n",
    "        \n",
    "        if count % 100 == 0:\n",
    "            print(count)\n",
    "        u = elt.shape[0]\n",
    "        \n",
    "        if u<200:\n",
    "            c += 1\n",
    "        \n",
    "        if u > n:\n",
    "            d[count] = elt[-n:]\n",
    "        else:\n",
    "            a = np.zeros(((n-u), elt.shape[1])) -1\n",
    "            elt = np.concatenate([a, elt], axis = 0)\n",
    "            d[count] = elt\n",
    "        count += 1\n",
    "    return d\n",
    "\n",
    "\n",
    "\n",
    "def build_feature(i,session):\n",
    "    vect = []\n",
    "    \n",
    "    title = session.iloc[0]['title']\n",
    "    typ = session.iloc[0]['type']\n",
    "    \n",
    "    vect.append(session.iloc[0]['game_session'])    ##game_session\n",
    "    vect.append(session.iloc[0]['installation_id'])   ##installation_id\n",
    "    vect.append(session.iloc[0]['title'])  ##title\n",
    "    vect.append(session.iloc[0]['type'])  ##type\n",
    "    vect.append(session.iloc[0]['world'])  ##world\n",
    "    vect.append(session.iloc[0]['timestamp'])  ##timestamp\n",
    "    \n",
    "    \n",
    "    ## adding validation data if game or assessment\n",
    "    if typ == 'Game' or typ == 'Assessment':\n",
    "        pos = 0\n",
    "        neg = 0\n",
    "        for elt in session[session['event_code']==4100]['event_data']:\n",
    "            a = json.loads(elt)['correct']\n",
    "#             print(a)\n",
    "            if a:\n",
    "                pos+=1\n",
    "            else:\n",
    "                neg+=1\n",
    "            \n",
    "        if pos+neg ==0:\n",
    "            acc = -1\n",
    "        else:\n",
    "            acc = pos/(pos+neg)\n",
    "        \n",
    "#         print(acc)\n",
    "        if acc == 1:\n",
    "            acc_class = 3\n",
    "        elif acc == 0.5:\n",
    "            acc_class = 2\n",
    "        elif acc <=0:\n",
    "            acc_class = 0\n",
    "        else:\n",
    "            acc_class = 1\n",
    "#         print(acc_class)\n",
    "        vect.append(acc_class)   ## accuracy_group\n",
    "        vect.append(acc)       ## accuracy\n",
    "        vect.append(pos)       ## n_positive\n",
    "        vect.append(neg)       ## n_negative\n",
    "            \n",
    "            \n",
    "    else: \n",
    "        vect.append(-1)  ##accuracy_group\n",
    "        vect.append(-1) ## accuracy_group\n",
    "        vect.append(-1)  ## n_positive\n",
    "        vect.append(-1)  ## n_negative\n",
    "    \n",
    "    ## Adding features relative to Game, Assessment and activity\n",
    "    if typ != 'Clip':\n",
    "        ## Avg time per instruction\n",
    "        \n",
    "        st = session['game_time'][session['event_code'] == 3010]\n",
    "        en = session['game_time'][session['event_code'] == 3110]\n",
    "        \n",
    "        s = min(st.shape[0], en.shape[0])\n",
    "        if s!=0:\n",
    "            vect.append((en[:s].sum()-st[:s].sum())/s)  ## time per instruction\n",
    "        else:\n",
    "            vect.append(-1)  ##time per instruction\n",
    "        \n",
    "        ##total_time\n",
    "        total_time = session['game_time'].max()/1000\n",
    "        vect.append(total_time)\n",
    "        \n",
    "        ##number of actions\n",
    "        n_action = session[(session['event_code']>=4020)&(session['event_code']<=4080)].shape[0]\n",
    "        vect.append(n_action)\n",
    "        \n",
    "        ## rounds\n",
    "        n_rounds_st = session[session['event_code']==2020].shape[0]\n",
    "        n_rounds_en = session[session['event_code']==2030].shape[0]\n",
    "        \n",
    "        vect.append(n_rounds_st)\n",
    "        vect.append(n_rounds_st)\n",
    "        \n",
    "        if n_rounds_st != 0:\n",
    "            vect.append(n_action/n_rounds_st)\n",
    "            vect.append(total_time/n_rounds_st)\n",
    "        else:\n",
    "            vect.append(-1)\n",
    "            vect.append(-1)\n",
    "        ## hints\n",
    "        vect.append(session[session['event_code']==4090].shape[0])\n",
    "        \n",
    "    else:\n",
    "        vect.append(-1)  ## time per instruction\n",
    "        vect.append(-1)  ##  total time\n",
    "        vect.append(-1)  ## n_actions\n",
    "        vect.append(-1)  ## n_rounds_start\n",
    "        vect.append(-1)  ## n_round end\n",
    "        vect.append(-1)  ## action per round\n",
    "        vect.append(-1)  ## time per round\n",
    "        vect.append(-1)  ## N_hints\n",
    "    \n",
    "    if typ == 'Game' or typ == 'Assessment':\n",
    "        ## feed backs\n",
    "        \n",
    "        n_correct_f = session[session['event_code'] == 3121].shape[0]\n",
    "        n_incorrect_f = session[session['event_code'] == 3120].shape[0]\n",
    "        \n",
    "        vect.append(n_correct_f)\n",
    "        vect.append(n_incorrect_f)\n",
    "        \n",
    "        if n_incorrect_f + n_correct_f != 0:\n",
    "            vect.append(n_correct_f/(n_correct_f+n_incorrect_f))\n",
    "        else:\n",
    "            vect.append(0)\n",
    "        \n",
    "        if n_correct_f !=0:\n",
    "            vect.append((session['game_time'][session['event_code'] == 3121].sum()-session['game_time'][session['event_code'] == 3021].sum())/n_correct_f)\n",
    "        else:\n",
    "            vect.append(-1)\n",
    "        \n",
    "        if n_incorrect_f !=0:\n",
    "            vect.append((session['game_time'][session['event_code'] == 3120].sum()-session['game_time'][session['event_code'] == 3020].sum())/n_correct_f)\n",
    "        else:\n",
    "            vect.append(-1)\n",
    "    else:\n",
    "        vect.append(-1)  ## correct_feed\n",
    "        vect.append(-1)  ## incorrect_feed\n",
    "        vect.append(-1)  ## acc_feed\n",
    "        vect.append(-1)  ## time correct feedback\n",
    "        vect.append(-1)  ## time incorrect feedback\n",
    "    \n",
    "    if typ == 'Game':\n",
    "        vect.append(session[session['event_code'] == 2080].shape[0])\n",
    "        vect.append(session[session['event_code'] == 2081].shape[0])\n",
    "        vect.append(session[session['event_code'] == 2060].shape[0])\n",
    "        vect.append(session[session['event_code'] == 2075].shape[0])\n",
    "        \n",
    "        \n",
    "    else:\n",
    "        vect.append(-1)  ## n movie\n",
    "        vect.append(-1)  ## n_skipp movie\n",
    "        vect.append(-1)  ## tutorial\n",
    "        vect.append(-1)  ## skipped tutorial\n",
    "        \n",
    "    \n",
    "    \n",
    "    return vect\n",
    "\n"
   ]
  },
  {
   "cell_type": "markdown",
   "metadata": {},
   "source": [
    "#### Loading Data and grouping by game session"
   ]
  },
  {
   "cell_type": "markdown",
   "metadata": {},
   "source": [
    "#### Train"
   ]
  },
  {
   "cell_type": "code",
   "execution_count": null,
   "metadata": {
    "scrolled": true
   },
   "outputs": [],
   "source": [
    "df = pd.read_csv(train)\n",
    "labels = pd.read_csv(train_labels)\n",
    "vect = df['event_code']\n",
    "vect[df['event_id'] == '17113b36'] = 4100\n",
    "df['event_code'] = vect\n",
    "\n",
    "dataset = list(np.zeros(df['game_session'].unique().shape[0]))\n",
    "\n",
    "print(df['game_session'].unique().shape[0])\n",
    "\n",
    "count = 0\n",
    "for i, session in df.groupby(['game_session']):\n",
    "#     if count >= 100:\n",
    "#         break\n",
    "    line =build_feature(i, session)\n",
    "#     dataset.append(line)\n",
    "    dataset[count] = line\n",
    "    if count % 1000 == 0:\n",
    "        print(count)\n",
    "    count += 1\n",
    "\n",
    "dataset = np.array(dataset)\n",
    "\n",
    "data = pd.DataFrame(dataset, columns = columns)\n",
    "\n",
    "save(data, 'data by session')"
   ]
  },
  {
   "cell_type": "markdown",
   "metadata": {},
   "source": [
    "#### Test"
   ]
  },
  {
   "cell_type": "code",
   "execution_count": null,
   "metadata": {},
   "outputs": [],
   "source": [
    "df = pd.read_csv(test)\n",
    "vect = df['event_code']\n",
    "vect[df['event_id'] == '17113b36'] = 4100\n",
    "df['event_code'] = vect\n",
    "\n",
    "dataset = list(np.zeros(df['game_session'].unique().shape[0]))\n",
    "\n",
    "print(df['game_session'].unique().shape[0])\n",
    "\n",
    "count = 0\n",
    "for i, session in df.groupby(['game_session']):\n",
    "#     if count >= 100:\n",
    "#         break\n",
    "    line =build_feature(i, session)\n",
    "#     dataset.append(line)\n",
    "    dataset[count] = line\n",
    "    if count % 1000 == 0:\n",
    "        print(count)\n",
    "    count += 1\n",
    "\n",
    "dataset = np.array(dataset)\n",
    "\n",
    "data = pd.DataFrame(dataset, columns = columns)\n",
    "\n",
    "save(data, 'data test by session')"
   ]
  },
  {
   "cell_type": "markdown",
   "metadata": {},
   "source": [
    "#### Getting test labels"
   ]
  },
  {
   "cell_type": "code",
   "execution_count": null,
   "metadata": {},
   "outputs": [],
   "source": [
    "df = load('data by session')\n",
    "labels = pd.read_csv(train_labels)\n",
    "\n",
    "ids = df[df['type']=='Assessment']['installation_id'].unique()\n",
    "df = df[df.installation_id.isin(ids)]\n",
    "df = df[df.installation_id.isin(labels.installation_id.unique())]\n",
    "\n",
    "# dtitle = categorise(df['title'])\n",
    "\n",
    "# df = df.replace({'title' : dtitle})\n",
    "\n",
    "# save(dtitle, 'dico_title')\n",
    "\n",
    "df['date'] = df['timestamp'].apply(dateutil.parser.parse)\n",
    "\n",
    "df = df.sort_values(by = ['date'], ascending =True)\n",
    "\n",
    "save(df, 'data by session')"
   ]
  },
  {
   "cell_type": "code",
   "execution_count": null,
   "metadata": {},
   "outputs": [],
   "source": [
    "df = load('data test by session')\n",
    "\n",
    "ids = df[df['type']=='Assessment']['installation_id'].unique()\n",
    "\n",
    "# dtitle =load('dico_title')\n",
    "\n",
    "# df = df.replace({'title' : dtitle})\n",
    "\n",
    "df['date'] = df['timestamp'].apply(dateutil.parser.parse)\n",
    "\n",
    "df = df.sort_values(by = ['date'], ascending =True)\n",
    "\n",
    "game_inst = []\n",
    "for elt in ids:\n",
    "    df1 = df[df['installation_id']==elt]\n",
    "    df1 = df1.sort_values(by = ['date'], ascending = True)\n",
    "    game_inst.append(df1.iloc[-1]['game_session'])\n",
    "    \n",
    "save((ids, game_inst), 'test_labels')\n",
    "save(df, 'data test by session')"
   ]
  },
  {
   "cell_type": "markdown",
   "metadata": {},
   "source": [
    "#### Adding test session into train"
   ]
  },
  {
   "cell_type": "code",
   "execution_count": null,
   "metadata": {},
   "outputs": [],
   "source": [
    "df = pd.read_csv(test)\n",
    "\n",
    "test_train = []\n",
    "\n",
    "df_labels = df[(df['type'] == 'Assessment')&(df['event_code'] == 4100)][['installation_id', 'game_session']].drop_duplicates(subset = ['installation_id', 'game_session'])\n",
    "\n",
    "df = load('data test by session')\n",
    "\n",
    "vect = []\n",
    "vect1 = []\n",
    "for i in range(df_labels.shape[0]):\n",
    "    vect.append(df[(df['installation_id'] == df_labels.iloc[i]['installation_id'])&(df['game_session'] == df_labels.iloc[i]['game_session'])]['accuracy_group'].values[0])\n",
    "    vect1.append(df[(df['installation_id'] == df_labels.iloc[i]['installation_id'])&(df['game_session'] == df_labels.iloc[i]['game_session'])]['accuracy'].values[0])\n",
    "    \n",
    "    \n",
    "    \n",
    "df_labels['accuracy_group'] = vect\n",
    "df_labels['accuracy'] = vect1\n",
    "\n",
    "save(df_labels, 'test labels')"
   ]
  },
  {
   "cell_type": "markdown",
   "metadata": {},
   "source": [
    "#### Building train dataset\n"
   ]
  },
  {
   "cell_type": "code",
   "execution_count": null,
   "metadata": {},
   "outputs": [],
   "source": []
  },
  {
   "cell_type": "code",
   "execution_count": 100,
   "metadata": {},
   "outputs": [],
   "source": [
    "df  = load('data by session')"
   ]
  },
  {
   "cell_type": "code",
   "execution_count": null,
   "metadata": {},
   "outputs": [],
   "source": [
    "df.head()"
   ]
  },
  {
   "cell_type": "code",
   "execution_count": 27,
   "metadata": {},
   "outputs": [
    {
     "data": {
      "text/plain": [
       "Index(['game_session', 'installation_id', 'title', 'type', 'world',\n",
       "       'timestamp', 'accuracy_group', 'accuracy', 'n_positive', 'n_negative',\n",
       "       'time_instruction', 'actions', 'total_time', 'start_rounds',\n",
       "       'end_rounds', 'action_rounds', 'time_rounds', 'hints', 'correct_feed',\n",
       "       'incorrect_feed', 'acc_feed', 'time_corr_feed', 'time_inc_feed',\n",
       "       'movies', 'skipped_movie', 'tuto', 'skipped_tuto', 'date'],\n",
       "      dtype='object')"
      ]
     },
     "execution_count": 27,
     "metadata": {},
     "output_type": "execute_result"
    }
   ],
   "source": [
    "df.columns"
   ]
  },
  {
   "cell_type": "code",
   "execution_count": 91,
   "metadata": {},
   "outputs": [],
   "source": [
    "a = df[df['title'] == 'Bird Measurer (Assessment)']['accuracy'].values.astype('float64')\n",
    "a = a[(a<15000)&(a>-1)]\n",
    "\n",
    "a = (a - a.mean())/a.std()"
   ]
  },
  {
   "cell_type": "code",
   "execution_count": 93,
   "metadata": {},
   "outputs": [
    {
     "data": {
      "text/plain": [
       "(array([885.,   0.,   2.,   1.,   5.,   4.,   8.,   9.,   6.,  10.,  16.,\n",
       "         22.,  23.,   5.,  23.,  10.,  45.,   0.,  11.,   0.,  80.,   0.,\n",
       "         31.,   0.,   0.,  91.,   0.,   0.,  51.,   0.,   0.,   0.,   0.,\n",
       "        142.,   0.,   0.,   0.,   0.,   0.,   0., 134.,   0.,   0.,   0.,\n",
       "          0.,   0.,   0.,   0.,   0.,   0., 266.,   0.,   0.,   0.,   0.,\n",
       "          0.,   0.,   0.,   0.,   0.,   0.,   0.,   0.,   0.,   0.,   0.,\n",
       "        320.,   0.,   0.,   0.,   0.,   0.,   0.,   0.,   0.,   0.,   0.,\n",
       "          0.,   0.,   0.,   0.,   0.,   0.,   0.,   0.,   0.,   0.,   0.,\n",
       "          0.,   0.,   0.,   0.,   0.,   0.,   0.,   0.,   0.,   0.,   0.,\n",
       "        548.]),\n",
       " array([-1.04774192, -1.02109685, -0.99445177, -0.9678067 , -0.94116162,\n",
       "        -0.91451655, -0.88787147, -0.8612264 , -0.83458132, -0.80793625,\n",
       "        -0.78129118, -0.7546461 , -0.72800103, -0.70135595, -0.67471088,\n",
       "        -0.6480658 , -0.62142073, -0.59477565, -0.56813058, -0.5414855 ,\n",
       "        -0.51484043, -0.48819535, -0.46155028, -0.43490521, -0.40826013,\n",
       "        -0.38161506, -0.35496998, -0.32832491, -0.30167983, -0.27503476,\n",
       "        -0.24838968, -0.22174461, -0.19509953, -0.16845446, -0.14180938,\n",
       "        -0.11516431, -0.08851924, -0.06187416, -0.03522909, -0.00858401,\n",
       "         0.01806106,  0.04470614,  0.07135121,  0.09799629,  0.12464136,\n",
       "         0.15128644,  0.17793151,  0.20457659,  0.23122166,  0.25786673,\n",
       "         0.28451181,  0.31115688,  0.33780196,  0.36444703,  0.39109211,\n",
       "         0.41773718,  0.44438226,  0.47102733,  0.49767241,  0.52431748,\n",
       "         0.55096255,  0.57760763,  0.6042527 ,  0.63089778,  0.65754285,\n",
       "         0.68418793,  0.710833  ,  0.73747808,  0.76412315,  0.79076823,\n",
       "         0.8174133 ,  0.84405838,  0.87070345,  0.89734852,  0.9239936 ,\n",
       "         0.95063867,  0.97728375,  1.00392882,  1.0305739 ,  1.05721897,\n",
       "         1.08386405,  1.11050912,  1.1371542 ,  1.16379927,  1.19044435,\n",
       "         1.21708942,  1.24373449,  1.27037957,  1.29702464,  1.32366972,\n",
       "         1.35031479,  1.37695987,  1.40360494,  1.43025002,  1.45689509,\n",
       "         1.48354017,  1.51018524,  1.53683032,  1.56347539,  1.59012046,\n",
       "         1.61676554]),\n",
       " <a list of 100 Patch objects>)"
      ]
     },
     "execution_count": 93,
     "metadata": {},
     "output_type": "execute_result"
    },
    {
     "data": {
      "image/png": "[encoded data removed]",
      "text/plain": [
       "<Figure size 432x288 with 1 Axes>"
      ]
     },
     "metadata": {
      "needs_background": "light"
     },
     "output_type": "display_data"
    }
   ],
   "source": [
    "plt.hist(a, bins = 100)"
   ]
  },
  {
   "cell_type": "code",
   "execution_count": 134,
   "metadata": {
    "scrolled": true
   },
   "outputs": [
    {
     "name": "stderr",
     "output_type": "stream",
     "text": [
      "C:\\Users\\gabri\\Anaconda3\\lib\\site-packages\\ipykernel_launcher.py:67: RuntimeWarning:\n",
      "\n",
      "invalid value encountered in true_divide\n",
      "\n",
      "C:\\Users\\gabri\\Anaconda3\\lib\\site-packages\\ipykernel_launcher.py:67: SettingWithCopyWarning:\n",
      "\n",
      "\n",
      "A value is trying to be set on a copy of a slice from a DataFrame.\n",
      "Try using .loc[row_indexer,col_indexer] = value instead\n",
      "\n",
      "See the caveats in the documentation: http://pandas.pydata.org/pandas-docs/stable/user_guide/indexing.html#returning-a-view-versus-a-copy\n",
      "\n"
     ]
    }
   ],
   "source": [
    "df  = load('data by session')\n",
    "df1 = load('data test by session')\n",
    "\n",
    "df = pd.concat([df, df1])\n",
    "\n",
    "poids = [\n",
    "    'Lifting Heavy Things','Heavy, Heavier, Heaviest','Pan Balance','Leaf Leader','Happy Camel','Chow Time','Cart Balancer (Assessment)','Egg Dropper (Activity)','Chicken Balancer (Activity)','Chest Sorter (Assessment)'\n",
    "\n",
    "]\n",
    "\n",
    "taille = [\n",
    "    'Rulers','Crystals Rule','Scrub-A-Dub','Dino Drink','Bird Measurer (Assessment)','Cauldron Filler (Assessment)','Bug Measurer (Activity)','Sandcastle Builder (Activity)','All Star Sorting','Mushroom Sorter (Assessment)'\n",
    "]\n",
    "\n",
    "volume = [\n",
    "    'Dino Drink','Dino Dive','Bubble Bath','Cauldron Filler (Assessment)','Watering Hole (Activity)','Sandcastle Builder (Activity)','Bottle Filler (Activity)'\n",
    "]\n",
    "\n",
    "matcher = [\n",
    "    'Balancing Act','Air Show','Scrub-A-Dub','Dino Drink','Dino Dive','Bubble Bath','Pan Balance','Leaf Leader','Chow Time','Cauldron Filler (Assessment)','Cart Balancer (Assessment)','Watering Hole (Activity)','Sandcastle Builder (Activity)','Egg Dropper (Activity)'\n",
    "]\n",
    "\n",
    "trier = [\n",
    "    'Ordering Spheres','Heavy, Heavier, Heaviest','All Star Sorting','Mushroom Sorter (Assessment)','Chest Sorter (Assessment)'\n",
    "]\n",
    "\n",
    "mesurer = [\n",
    "    'Rulers','Crystals Rule','Bubble Bath','Happy Camel','Bird Measurer (Assessment)','Bug Measurer (Activity)','Egg Dropper (Activity)','Chicken Balancer (Activity)','Chest Sorter (Assessment)'\n",
    "]\n",
    "\n",
    "feats_to_normalise = ['accuracy', 'n_positive', 'n_negative',\n",
    "       'time_instruction', 'actions', 'total_time', 'start_rounds',\n",
    "       'end_rounds', 'action_rounds', 'time_rounds', 'hints', 'correct_feed',\n",
    "       'incorrect_feed', 'acc_feed', 'time_corr_feed', 'time_inc_feed',\n",
    "       'movies', 'skipped_movie', 'tuto', 'skipped_tuto']\n",
    "\n",
    "concepts = [poids, taille, volume, matcher, trier, mesurer]\n",
    "concepts_name = ['poids', 'taille', 'volume', 'matcher', 'trier', 'mesurer']\n",
    "\n",
    "for c in concepts:\n",
    "    for tit in c:\n",
    "        if not(tit in df['title'].unique()):\n",
    "            print(tit)\n",
    "            \n",
    "v = df['title'].values\n",
    "for i in range(len(concepts)):\n",
    "    vect = []\n",
    "    for elt in v:\n",
    "        if elt in concepts[i]:\n",
    "            vect.append(1)\n",
    "        else:\n",
    "            vect.append(0)\n",
    "    df[concepts_name[i]] = vect\n",
    "    \n",
    "df['is_concept'] = df['poids'] + df['taille'] + df['volume'] + df['matcher'] + df['trier'] + df['mesurer']\n",
    "\n",
    "df = df[df['is_concept'] > 0]\n",
    "\n",
    "\n",
    "for elt in df['title'].unique():\n",
    "    for feats in feats_to_normalise:\n",
    "        vect = df[df['title'] == elt][feats].values.astype('float64')\n",
    "        \n",
    "        m = vect[(vect < 15000)&(vect >= -1)].mean()\n",
    "        std = vect[(vect < 15000)&(vect >= -1)].std()\n",
    "        \n",
    "        df[df['title'] == elt][feats] = (vect - m) / std"
   ]
  },
  {
   "cell_type": "code",
   "execution_count": 103,
   "metadata": {},
   "outputs": [
    {
     "data": {
      "text/plain": [
       "Index(['game_session', 'installation_id', 'title', 'type', 'world',\n",
       "       'timestamp', 'accuracy_group', 'accuracy', 'n_positive', 'n_negative',\n",
       "       'time_instruction', 'actions', 'total_time', 'start_rounds',\n",
       "       'end_rounds', 'action_rounds', 'time_rounds', 'hints', 'correct_feed',\n",
       "       'incorrect_feed', 'acc_feed', 'time_corr_feed', 'time_inc_feed',\n",
       "       'movies', 'skipped_movie', 'tuto', 'skipped_tuto', 'date', 'poids',\n",
       "       'taille', 'volume', 'matcher', 'trier', 'mesurer', 'is_concept'],\n",
       "      dtype='object')"
      ]
     },
     "execution_count": 103,
     "metadata": {},
     "output_type": "execute_result"
    }
   ],
   "source": [
    "df.columns"
   ]
  },
  {
   "cell_type": "code",
   "execution_count": 135,
   "metadata": {},
   "outputs": [],
   "source": [
    "def build_set(df, installation_id, game_session):\n",
    "    df1 = df[df['installation_id']==installation_id]\n",
    "    \n",
    "    df1 = df1.sort_values(by = ['date'], ascending = True)\n",
    "    date = df1[df1['game_session']==game_session].iloc[0]['date']\n",
    "    pred_title = df1[df1['game_session']==game_session].iloc[0]['title']\n",
    "    \n",
    "    df1 = df1[df1['date'] < date]\n",
    "    \n",
    "    vect = [pred_title]\n",
    "    \n",
    "    for c in concepts_name:\n",
    "        df2 = df1[df1[c] == 1]\n",
    "        \n",
    "        vect.append(df2[df2['type'] == 'Clip'].shape[0])\n",
    "        \n",
    "        vect.append(df2[df2['time_instruction']!= -1]['time_instruction'].values.astype('float64').mean())\n",
    "        vect.append(df2[df2['time_instruction']!= -1].shape[0])\n",
    "        \n",
    "        ## Activity\n",
    "        df3 = df2[df2['type'] == 'Activity']\n",
    "        vect.append(df3.shape[0])\n",
    "        vect.append(df3['start_rounds'].values.astype('float64').mean())\n",
    "        vect.append(df3['start_rounds'].values.astype('float64').sum())\n",
    "        \n",
    "        vect.append(df3['actions'].values.astype('float64').mean())\n",
    "        vect.append(df3['actions'].values.astype('float64').sum())\n",
    "        \n",
    "        ## Games\n",
    "        df3 = df2[df2['type'] == 'Game']\n",
    "        vect.append(df3.shape[0])\n",
    "        vect.append(df3['start_rounds'].values.astype('float64').mean())\n",
    "        vect.append(df3['start_rounds'].values.astype('float64').sum())\n",
    "        \n",
    "        vect.append(df3['actions'].values.astype('float64').mean())\n",
    "        vect.append(df3['actions'].values.astype('float64').sum())   \n",
    "        vect.append(df3['acc_feed'].values.astype('float64').mean())\n",
    "        \n",
    "        \n",
    "        if df3.shape[0] >0:\n",
    "            vect.append(df3['acc_feed'].values.astype('float64').min())\n",
    "            vect.append(df3['acc_feed'].values.astype('float64').max())\n",
    "        else:\n",
    "            vect.append(df3['acc_feed'].values.astype('float64').mean())\n",
    "            vect.append(df3['acc_feed'].values.astype('float64').mean())\n",
    "        \n",
    "        ## Assessments\n",
    "        df3 = df2[df2['type'] == 'Assessment']\n",
    "        vect.append(df3.shape[0])\n",
    "\n",
    "        vect.append(df3['start_rounds'].values.astype('float64').mean())\n",
    "        vect.append(df3['start_rounds'].values.astype('float64').sum())\n",
    "        \n",
    "        vect.append(df3['actions'].values.astype('float64').mean())\n",
    "        vect.append(df3['actions'].values.astype('float64').sum())   \n",
    "        \n",
    "        vect.append(df3['accuracy'].values.astype('float64').mean())\n",
    "        \n",
    "        if df3.shape[0]>0:\n",
    "            vect.append(df3['accuracy'].values.astype('float64').min())\n",
    "            vect.append(df3['accuracy'].values.astype('float64').max())\n",
    "            vect.append(df3.iloc[0]['accuracy'])\n",
    "            vect.append(df3.iloc[-1]['accuracy'])\n",
    "            vect.append(df3.iloc[0]['accuracy_group'])\n",
    "            vect.append(df3.iloc[-1]['accuracy_group'])\n",
    "        else:\n",
    "            vect.append(df3['accuracy'].values.astype('float64').mean())\n",
    "            vect.append(df3['accuracy'].values.astype('float64').mean())\n",
    "            vect.append(df3['accuracy'].values.astype('float64').mean())\n",
    "            vect.append(df3['accuracy'].values.astype('float64').mean())\n",
    "            vect.append(df3['accuracy'].values.astype('float64').mean())\n",
    "            vect.append(df3['accuracy'].values.astype('float64').mean())\n",
    "    return vect"
   ]
  },
  {
   "cell_type": "code",
   "execution_count": 136,
   "metadata": {},
   "outputs": [],
   "source": [
    "features = ['n_clips', 'time_inst_mean', 'time_inst_sum',\n",
    "           'n_activity', 'act_start_round_mean', 'act_start_round_sum', \n",
    "            'activity_action_mean', 'activity_action_sum',\n",
    "            'n_game', 'game_start_round_mean', 'game_start_round_sum', \n",
    "            'game_action_mean', 'game_action_sum', 'game_mean_acc','game_min_acc','game_max_acc',\n",
    "            'n_assessment', 'assessment_start_round_mean', 'assessment_start_round_sum', \n",
    "            'assessment_action_mean', 'assessment_action_sum', 'assessment_mean_acc','assessment_min_acc','assessment_max_acc',\n",
    "            'assessment_first_acc', 'assessment_last_acc','assessment_first_acc_group','assessment_last_acc_group'\n",
    "           ]"
   ]
  },
  {
   "cell_type": "code",
   "execution_count": 137,
   "metadata": {},
   "outputs": [],
   "source": [
    "cols = ['pred_title']\n",
    "\n",
    "for c in concepts_name:\n",
    "    for f in features:\n",
    "        cols.append(c+'_'+f)"
   ]
  },
  {
   "cell_type": "code",
   "execution_count": null,
   "metadata": {},
   "outputs": [],
   "source": [
    "clips = ['Welcome to Lost Lagoon!', 'Magma Peak - Level 1',\n",
    "       'Magma Peak - Level 2', 'Crystal Caves - Level 1',\n",
    "       'Crystal Caves - Level 2', 'Crystal Caves - Level 3',\n",
    "       'Tree Top City - Level 1', 'Tree Top City - Level 2',\n",
    "       'Tree Top City - Level 3', 'Slop Problem',\n",
    "       'Heavy, Heavier, Heaviest', 'Lifting Heavy Things',\n",
    "       'Ordering Spheres', '12 Monkeys', 'Balancing Act', 'Costume Box',\n",
    "       \"Pirate's Tale\", 'Honey Cake', 'Treasure Map', 'Rulers']\n",
    "\n",
    "activities = ['Sandcastle Builder (Activity)', 'Watering Hole (Activity)',\n",
    "       'Bottle Filler (Activity)', 'Fireworks (Activity)',\n",
    "       'Flower Waterer (Activity)', 'Egg Dropper (Activity)',\n",
    "       'Chicken Balancer (Activity)', 'Bug Measurer (Activity)']\n",
    "\n",
    "games = ['All Star Sorting', 'Chow Time', 'Dino Dive', 'Scrub-A-Dub',\n",
    "       'Bubble Bath', 'Happy Camel', 'Leaf Leader', 'Pan Balance',\n",
    "       'Dino Drink', 'Crystals Rule', 'Air Show']\n",
    "\n",
    "assessments = ['Cart Balancer (Assessment)', 'Chest Sorter (Assessment)',\n",
    "       'Cauldron Filler (Assessment)', 'Mushroom Sorter (Assessment)',\n",
    "       'Bird Measurer (Assessment)']\n",
    "\n",
    "def build_set(df, installation_id, game_session):\n",
    "    df1 = df[df['installation_id']==installation_id]\n",
    "    \n",
    "    df1 = df1.sort_values(by = ['date'], ascending = True)\n",
    "    date = df1[df1['game_session']==game_session].iloc[0]['date']\n",
    "    pred_title = df1[df1['game_session']==game_session].iloc[0]['title']\n",
    "    w =  df1[df1['game_session']==game_session].iloc[0]['world']\n",
    "#     w =  df1[df1['game_session']==game_session].iloc[0]['world']\n",
    "    \n",
    "#     df1['game_session'] = game_session\n",
    "    df1['pred_title'] = pred_title\n",
    "    df1 = df1[df1['date'] < date]\n",
    "#     df1 = df1[df1['world'] == w]\n",
    "    \n",
    "    vect = []\n",
    "    \n",
    "    vect.append(pred_title)\n",
    "    \n",
    "    ## Clip\n",
    "    df2 = df1[df1['type']=='Clip']\n",
    "    vect.append(df2.shape[0])\n",
    "    \n",
    "    ## Activity\n",
    "    df2 = df1[df1['type']=='Activity']\n",
    "    \n",
    "    #n_activity\n",
    "    vect.append(df2.shape[0])\n",
    "    # instruction\n",
    "    vect.append(df2[df2['time_instruction']!=-1]['time_instruction'].values.astype('float32').mean())\n",
    "    vect.append(df2[df2['total_time']!=-1]['total_time'].values.astype('float32').mean())\n",
    "    vect.append(df2[df2['actions']!=-1]['actions'].values.astype('float32').mean())\n",
    "    vect.append(df2[df2['start_rounds']!=-1]['start_rounds'].values.astype('float32').mean())\n",
    "    vect.append(df2[df2['end_rounds']!=-1]['end_rounds'].values.astype('float32').mean())\n",
    "    vect.append(df2[df2['action_rounds']!=-1]['action_rounds'].values.astype('float32').mean())\n",
    "    vect.append(df2[df2['time_rounds']!=-1]['time_rounds'].values.astype('float32').mean())\n",
    "    vect.append(df2[df2['hints']!=-1]['hints'].values.astype('float32').mean())\n",
    "\n",
    "    vect.append(df2[df2['time_instruction']!=-1]['time_instruction'].values.astype('float32').std())\n",
    "    vect.append(df2[df2['total_time']!=-1]['total_time'].values.astype('float32').std())\n",
    "    vect.append(df2[df2['actions']!=-1]['actions'].values.astype('float32').std())\n",
    "    vect.append(df2[df2['start_rounds']!=-1]['start_rounds'].values.astype('float32').std())\n",
    "    vect.append(df2[df2['end_rounds']!=-1]['end_rounds'].values.astype('float32').std())\n",
    "    vect.append(df2[df2['action_rounds']!=-1]['action_rounds'].values.astype('float32').std())\n",
    "    vect.append(df2[df2['time_rounds']!=-1]['time_rounds'].values.astype('float32').std())\n",
    "    vect.append(df2[df2['hints']!=-1]['hints'].values.astype('float32').std())    \n",
    "\n",
    "    ## Assessment\n",
    "    df2 = df1[df1['type']=='Assessment']\n",
    "    if pred_title in df2['title'].values:\n",
    "        vect.append(1)\n",
    "    else:\n",
    "        vect.append(0)\n",
    "        \n",
    "    vect.append(df2.shape[0])\n",
    "    \n",
    "    vect.append(df2[df2['accuracy_group']!=-1]['accuracy_group'].values.astype('float32').mean())\n",
    "    vect.append(df2[df2['time_instruction']!=-1]['time_instruction'].values.astype('float32').mean())\n",
    "    vect.append(df2[df2['total_time']!=-1]['total_time'].values.astype('float32').mean())\n",
    "    vect.append(df2[df2['actions']!=-1]['actions'].values.astype('float32').mean())\n",
    "    vect.append(df2[df2['start_rounds']!=-1]['start_rounds'].values.astype('float32').mean())\n",
    "    vect.append(df2[df2['end_rounds']!=-1]['end_rounds'].values.astype('float32').mean())\n",
    "    vect.append(df2[df2['action_rounds']!=-1]['action_rounds'].values.astype('float32').mean())\n",
    "    vect.append(df2[df2['time_rounds']!=-1]['time_rounds'].values.astype('float32').mean())\n",
    "    vect.append(df2[df2['hints']!=-1]['hints'].values.astype('float32').mean())\n",
    "    vect.append(df2[df2['correct_feed']!=-1]['correct_feed'].values.astype('float32').mean())\n",
    "    vect.append(df2[df2['incorrect_feed']!=-1]['incorrect_feed'].values.astype('float32').mean())\n",
    "    vect.append(df2[df2['time_corr_feed']!=-1]['time_corr_feed'].values.astype('float32').mean())\n",
    "    vect.append(df2[df2['time_inc_feed']!=-1]['time_inc_feed'].values.astype('float32').mean())\n",
    "    vect.append(df2[df2['acc_feed']!=-1]['acc_feed'].values.astype('float32').mean())\n",
    "    vect.append(df2[df2['accuracy']!=-1]['accuracy'].values.astype('float32').mean())\n",
    "    vect.append(df2[df2['n_positive']!=-1]['n_positive'].values.astype('float32').mean())\n",
    "    vect.append(df2[df2['n_negative']!=-1]['n_negative'].values.astype('float32').mean())\n",
    "    \n",
    "    vect.append(df2[df2['accuracy_group']!=-1]['accuracy_group'].values.astype('float32').std())\n",
    "    vect.append(df2[df2['time_instruction']!=-1]['time_instruction'].values.astype('float32').std())\n",
    "    vect.append(df2[df2['total_time']!=-1]['total_time'].values.astype('float32').std())\n",
    "    vect.append(df2[df2['actions']!=-1]['actions'].values.astype('float32').std())\n",
    "    vect.append(df2[df2['start_rounds']!=-1]['start_rounds'].values.astype('float32').std())\n",
    "    vect.append(df2[df2['end_rounds']!=-1]['end_rounds'].values.astype('float32').std())\n",
    "    vect.append(df2[df2['action_rounds']!=-1]['action_rounds'].values.astype('float32').std())\n",
    "    vect.append(df2[df2['time_rounds']!=-1]['time_rounds'].values.astype('float32').std())\n",
    "    vect.append(df2[df2['hints']!=-1]['hints'].values.astype('float32').std())\n",
    "    vect.append(df2[df2['correct_feed']!=-1]['correct_feed'].values.astype('float32').std())\n",
    "    vect.append(df2[df2['incorrect_feed']!=-1]['incorrect_feed'].values.astype('float32').std())\n",
    "    vect.append(df2[df2['time_corr_feed']!=-1]['time_corr_feed'].values.astype('float32').std())\n",
    "    vect.append(df2[df2['time_inc_feed']!=-1]['time_inc_feed'].values.astype('float32').std())\n",
    "    vect.append(df2[df2['acc_feed']!=-1]['acc_feed'].values.astype('float32').std())\n",
    "    vect.append(df2[df2['accuracy']!=-1]['accuracy'].values.astype('float32').std())\n",
    "    vect.append(df2[df2['n_positive']!=-1]['n_positive'].values.astype('float32').std())\n",
    "    vect.append(df2[df2['n_negative']!=-1]['n_negative'].values.astype('float32').std())\n",
    "    \n",
    "    ## Games\n",
    "    df2 = df1[df1['type']=='Game']\n",
    "    vect.append(df2.shape[0])\n",
    "    vect.append(df2[df2['accuracy_group']!=-1]['accuracy_group'].values.astype('float32').mean())\n",
    "    vect.append(df2[df2['time_instruction']!=-1]['time_instruction'].values.astype('float32').mean())\n",
    "    vect.append(df2[df2['total_time']!=-1]['total_time'].values.astype('float32').mean())\n",
    "    vect.append(df2[df2['actions']!=-1]['actions'].values.astype('float32').mean())\n",
    "    vect.append(df2[df2['start_rounds']!=-1]['start_rounds'].values.astype('float32').mean())\n",
    "    vect.append(df2[df2['end_rounds']!=-1]['end_rounds'].values.astype('float32').mean())\n",
    "    vect.append(df2[df2['action_rounds']!=-1]['action_rounds'].values.astype('float32').mean())\n",
    "    vect.append(df2[df2['time_rounds']!=-1]['time_rounds'].values.astype('float32').mean())\n",
    "    vect.append(df2[df2['hints']!=-1]['hints'].values.astype('float32').mean())\n",
    "    vect.append(df2[df2['correct_feed']!=-1]['correct_feed'].values.astype('float32').mean())\n",
    "    vect.append(df2[df2['incorrect_feed']!=-1]['incorrect_feed'].values.astype('float32').mean())\n",
    "    vect.append(df2[df2['time_corr_feed']!=-1]['time_corr_feed'].values.astype('float32').mean())\n",
    "    vect.append(df2[df2['time_inc_feed']!=-1]['time_inc_feed'].values.astype('float32').mean())\n",
    "    vect.append(df2[df2['acc_feed']!=-1]['acc_feed'].values.astype('float32').mean())\n",
    "    vect.append(df2[df2['accuracy']!=-1]['accuracy'].values.astype('float32').mean())\n",
    "    vect.append(df2[df2['n_positive']!=-1]['n_positive'].values.astype('float32').mean())\n",
    "    vect.append(df2[df2['n_negative']!=-1]['n_negative'].values.astype('float32').mean())\n",
    "    vect.append(df2[df2['movies']!=-1]['movies'].values.astype('float32').sum())\n",
    "    vect.append(df2[df2['skipped_movie']!=-1]['skipped_movie'].values.astype('float32').sum())\n",
    "    vect.append(df2[df2['tuto']!=-1]['tuto'].values.astype('float32').sum())\n",
    "    vect.append(df2[df2['skipped_tuto']!=-1]['skipped_tuto'].values.astype('float32').mean())\n",
    "    \n",
    "    vect.append(df2[df2['accuracy_group']!=-1]['accuracy_group'].values.astype('float32').std())\n",
    "    vect.append(df2[df2['time_instruction']!=-1]['time_instruction'].values.astype('float32').std())\n",
    "    vect.append(df2[df2['total_time']!=-1]['total_time'].values.astype('float32').std())\n",
    "    vect.append(df2[df2['actions']!=-1]['actions'].values.astype('float32').std())\n",
    "    vect.append(df2[df2['start_rounds']!=-1]['start_rounds'].values.astype('float32').std())\n",
    "    vect.append(df2[df2['end_rounds']!=-1]['end_rounds'].values.astype('float32').std())\n",
    "    vect.append(df2[df2['action_rounds']!=-1]['action_rounds'].values.astype('float32').std())\n",
    "    vect.append(df2[df2['time_rounds']!=-1]['time_rounds'].values.astype('float32').std())\n",
    "    vect.append(df2[df2['hints']!=-1]['hints'].values.astype('float32').std())\n",
    "    vect.append(df2[df2['correct_feed']!=-1]['correct_feed'].values.astype('float32').std())\n",
    "    vect.append(df2[df2['incorrect_feed']!=-1]['incorrect_feed'].values.astype('float32').std())\n",
    "    vect.append(df2[df2['time_corr_feed']!=-1]['time_corr_feed'].values.astype('float32').std())\n",
    "    vect.append(df2[df2['time_inc_feed']!=-1]['time_inc_feed'].values.astype('float32').std())\n",
    "    vect.append(df2[df2['acc_feed']!=-1]['acc_feed'].values.astype('float32').std())\n",
    "    vect.append(df2[df2['accuracy']!=-1]['accuracy'].values.astype('float32').std())\n",
    "    vect.append(df2[df2['n_positive']!=-1]['n_positive'].values.astype('float32').std())\n",
    "    vect.append(df2[df2['n_negative']!=-1]['n_negative'].values.astype('float32').std())\n",
    "    vect.append(df2[df2['movies']!=-1]['movies'].values.astype('float32').std())\n",
    "    vect.append(df2[df2['skipped_movie']!=-1]['skipped_movie'].values.astype('float32').std())\n",
    "    vect.append(df2[df2['tuto']!=-1]['tuto'].values.astype('float32').std())\n",
    "    vect.append(df2[df2['skipped_tuto']!=-1]['skipped_tuto'].values.astype('float32').std())\n",
    "    \n",
    "    ## Activity done\n",
    "    for x in titles:\n",
    "        vect.append( df1[df1['title']==x].shape[0])\n",
    "    \n",
    "    t = df1['title'].unique()\n",
    "    \n",
    "    \n",
    "    df1 = df1.drop_duplicates(subset = ['title'], keep = 'last')\n",
    "    df1.index = df1['title']\n",
    "\n",
    "    feats_activity = [ 'time_instruction', 'actions', 'total_time', 'start_rounds',\n",
    "       'end_rounds',  'hints', 'time_instruction_std', 'actions_std', 'total_time_std', 'start_rounds_std',\n",
    "       'end_rounds_std',  'hints_std']\n",
    "    for elt in activities:\n",
    "        if elt in t:\n",
    "            temp = list(df1.loc[elt][feats_activity].values.astype('float64'))\n",
    "            vect.extend(temp)\n",
    "        else:\n",
    "            for i in range(len(feats_activity)):\n",
    "                vect.append(-1)\n",
    "    \n",
    "    feats_assessment = ['accuracy_group', 'accuracy', 'n_positive', 'n_negative',\n",
    "       'time_instruction', 'actions', 'action_rounds', 'time_rounds', 'hints', 'correct_feed',\n",
    "       'incorrect_feed', 'acc_feed', 'time_corr_feed', 'time_inc_feed',\n",
    "                        'accuracy_group_std', 'accuracy_std', 'n_positive_std', 'n_negative_std',\n",
    "       'time_instruction_std', 'actions_std', 'action_rounds_std', 'time_rounds_std', 'hints_std', 'correct_feed_std',\n",
    "       'incorrect_feed_std', 'acc_feed_std', 'time_corr_feed_std', 'time_inc_feed_std']\n",
    "    \n",
    "    for elt in assessments:\n",
    "        if elt in t:\n",
    "            temp = list(df1.loc[elt][feats_assessment].values.astype('float64'))\n",
    "            vect.extend(temp)\n",
    "        else:\n",
    "            for i in range(len(feats_assessment)):\n",
    "                vect.append(-1)\n",
    "    \n",
    "    for elt in games:\n",
    "        if elt == 'Air Show' or elt == 'Pan Balance':\n",
    "            feats_games = [\n",
    "                         'accuracy_group', 'accuracy', 'n_positive', 'n_negative',\n",
    "                       'time_instruction', 'actions', 'total_time', 'start_rounds',\n",
    "                       'end_rounds', 'action_rounds', 'time_rounds', 'hints', 'correct_feed',\n",
    "                       'incorrect_feed', 'acc_feed', 'time_corr_feed', 'time_inc_feed',\n",
    "                       'skipped_tuto' ,  'accuracy_group_std', 'accuracy_std', 'n_positive_std', 'n_negative_std',\n",
    "                       'time_instruction_std', 'actions_std', 'total_time_std', 'start_rounds_std',\n",
    "                       'end_rounds_std', 'action_rounds_std', 'time_rounds_std', 'hints_std', 'correct_feed_std',\n",
    "                       'incorrect_feed_std', 'acc_feed_std', 'time_corr_feed_std', 'time_inc_feed_std',\n",
    "                       'skipped_tuto_std'\n",
    "                        ]\n",
    "        else:\n",
    "            feats_games = [\n",
    "               'time_instruction', 'actions', 'total_time', 'start_rounds',\n",
    "               'end_rounds', 'action_rounds', 'time_rounds', 'hints', 'correct_feed',\n",
    "               'incorrect_feed', 'acc_feed', 'time_corr_feed', 'time_inc_feed',\n",
    "               'skipped_tuto'   , 'time_instruction_std', 'actions_std', 'total_time_std', 'start_rounds_std',\n",
    "                       'end_rounds_std', 'action_rounds_std', 'time_rounds_std', 'hints_std', 'correct_feed_std',\n",
    "                       'incorrect_feed_std', 'acc_feed_std', 'time_corr_feed_std', 'time_inc_feed_std',\n",
    "                       'skipped_tuto_std'\n",
    "                ]\n",
    "    \n",
    "        if elt in t:\n",
    "            temp = list(df1.loc[elt][feats_games].values.astype('float64'))\n",
    "            vect.extend(temp)\n",
    "        else:\n",
    "            for i in range(len(feats_games)):\n",
    "                vect.append(-1)\n",
    "    \n",
    "    \n",
    "    return vect\n"
   ]
  },
  {
   "cell_type": "code",
   "execution_count": 140,
   "metadata": {
    "scrolled": true
   },
   "outputs": [
    {
     "data": {
      "application/vnd.jupyter.widget-view+json": {
       "model_id": "21db6532f11c42f297d1f2822907c114",
       "version_major": 2,
       "version_minor": 0
      },
      "text/plain": [
       "HBox(children=(IntProgress(value=0, max=17690), HTML(value='')))"
      ]
     },
     "metadata": {},
     "output_type": "display_data"
    },
    {
     "name": "stdout",
     "output_type": "stream",
     "text": [
      "0\n"
     ]
    },
    {
     "name": "stderr",
     "output_type": "stream",
     "text": [
      "C:\\Users\\gabri\\Anaconda3\\lib\\site-packages\\ipykernel_launcher.py:17: RuntimeWarning:\n",
      "\n",
      "Mean of empty slice.\n",
      "\n",
      "C:\\Users\\gabri\\Anaconda3\\lib\\site-packages\\ipykernel_launcher.py:23: RuntimeWarning:\n",
      "\n",
      "Mean of empty slice.\n",
      "\n",
      "C:\\Users\\gabri\\Anaconda3\\lib\\site-packages\\ipykernel_launcher.py:26: RuntimeWarning:\n",
      "\n",
      "Mean of empty slice.\n",
      "\n",
      "C:\\Users\\gabri\\Anaconda3\\lib\\site-packages\\ipykernel_launcher.py:32: RuntimeWarning:\n",
      "\n",
      "Mean of empty slice.\n",
      "\n",
      "C:\\Users\\gabri\\Anaconda3\\lib\\site-packages\\ipykernel_launcher.py:35: RuntimeWarning:\n",
      "\n",
      "Mean of empty slice.\n",
      "\n",
      "C:\\Users\\gabri\\Anaconda3\\lib\\site-packages\\ipykernel_launcher.py:37: RuntimeWarning:\n",
      "\n",
      "Mean of empty slice.\n",
      "\n",
      "C:\\Users\\gabri\\Anaconda3\\lib\\site-packages\\ipykernel_launcher.py:44: RuntimeWarning:\n",
      "\n",
      "Mean of empty slice.\n",
      "\n",
      "C:\\Users\\gabri\\Anaconda3\\lib\\site-packages\\ipykernel_launcher.py:45: RuntimeWarning:\n",
      "\n",
      "Mean of empty slice.\n",
      "\n",
      "C:\\Users\\gabri\\Anaconda3\\lib\\site-packages\\ipykernel_launcher.py:51: RuntimeWarning:\n",
      "\n",
      "Mean of empty slice.\n",
      "\n",
      "C:\\Users\\gabri\\Anaconda3\\lib\\site-packages\\ipykernel_launcher.py:54: RuntimeWarning:\n",
      "\n",
      "Mean of empty slice.\n",
      "\n",
      "C:\\Users\\gabri\\Anaconda3\\lib\\site-packages\\ipykernel_launcher.py:57: RuntimeWarning:\n",
      "\n",
      "Mean of empty slice.\n",
      "\n",
      "C:\\Users\\gabri\\Anaconda3\\lib\\site-packages\\ipykernel_launcher.py:67: RuntimeWarning:\n",
      "\n",
      "Mean of empty slice.\n",
      "\n",
      "C:\\Users\\gabri\\Anaconda3\\lib\\site-packages\\ipykernel_launcher.py:68: RuntimeWarning:\n",
      "\n",
      "Mean of empty slice.\n",
      "\n",
      "C:\\Users\\gabri\\Anaconda3\\lib\\site-packages\\ipykernel_launcher.py:69: RuntimeWarning:\n",
      "\n",
      "Mean of empty slice.\n",
      "\n",
      "C:\\Users\\gabri\\Anaconda3\\lib\\site-packages\\ipykernel_launcher.py:70: RuntimeWarning:\n",
      "\n",
      "Mean of empty slice.\n",
      "\n",
      "C:\\Users\\gabri\\Anaconda3\\lib\\site-packages\\ipykernel_launcher.py:71: RuntimeWarning:\n",
      "\n",
      "Mean of empty slice.\n",
      "\n",
      "C:\\Users\\gabri\\Anaconda3\\lib\\site-packages\\ipykernel_launcher.py:72: RuntimeWarning:\n",
      "\n",
      "Mean of empty slice.\n",
      "\n"
     ]
    },
    {
     "name": "stdout",
     "output_type": "stream",
     "text": [
      "100\n",
      "200\n",
      "300\n",
      "400\n",
      "500\n",
      "600\n",
      "700\n",
      "800\n",
      "900\n",
      "1000\n",
      "1100\n",
      "1200\n",
      "1300\n",
      "1400\n",
      "1500\n",
      "1600\n",
      "1700\n",
      "1800\n",
      "1900\n",
      "2000\n",
      "2100\n",
      "2200\n",
      "2300\n",
      "2400\n",
      "2500\n",
      "2600\n",
      "2700\n",
      "2800\n",
      "2900\n",
      "3000\n",
      "3100\n",
      "3200\n",
      "3300\n",
      "3400\n",
      "3500\n",
      "3600\n",
      "3700\n",
      "3800\n",
      "3900\n",
      "4000\n",
      "4100\n",
      "4200\n",
      "4300\n",
      "4400\n",
      "4500\n",
      "4600\n",
      "4700\n",
      "4800\n",
      "4900\n",
      "5000\n",
      "5100\n",
      "5200\n",
      "5300\n",
      "5400\n",
      "5500\n",
      "5600\n",
      "5700\n",
      "5800\n",
      "5900\n",
      "6000\n",
      "6100\n",
      "6200\n",
      "6300\n",
      "6400\n",
      "6500\n",
      "6600\n",
      "6700\n",
      "6800\n",
      "6900\n",
      "7000\n",
      "7100\n",
      "7200\n",
      "7300\n",
      "7400\n",
      "7500\n",
      "7600\n",
      "7700\n",
      "7800\n",
      "7900\n",
      "8000\n",
      "8100\n",
      "8200\n",
      "8300\n",
      "8400\n",
      "8500\n",
      "8600\n",
      "8700\n",
      "8800\n",
      "8900\n",
      "9000\n",
      "9100\n",
      "9200\n",
      "9300\n",
      "9400\n",
      "9500\n",
      "9600\n",
      "9700\n",
      "9800\n",
      "9900\n",
      "10000\n",
      "10100\n",
      "10200\n",
      "10300\n",
      "10400\n",
      "10500\n",
      "10600\n",
      "10700\n",
      "10800\n",
      "10900\n",
      "11000\n",
      "11100\n",
      "11200\n",
      "11300\n",
      "11400\n",
      "11500\n",
      "11600\n",
      "11700\n",
      "11800\n",
      "11900\n",
      "12000\n",
      "12100\n",
      "12200\n",
      "12300\n",
      "12400\n",
      "12500\n",
      "12600\n",
      "12700\n",
      "12800\n",
      "12900\n",
      "13000\n",
      "13100\n",
      "13200\n",
      "13300\n",
      "13400\n",
      "13500\n",
      "13600\n",
      "13700\n",
      "13800\n",
      "13900\n",
      "14000\n",
      "14100\n",
      "14200\n",
      "14300\n",
      "14400\n",
      "14500\n",
      "14600\n",
      "14700\n",
      "14800\n",
      "14900\n",
      "15000\n",
      "15100\n",
      "15200\n",
      "15300\n",
      "15400\n",
      "15500\n",
      "15600\n",
      "15700\n",
      "15800\n",
      "15900\n",
      "16000\n",
      "16100\n",
      "16200\n",
      "16300\n",
      "16400\n",
      "16500\n",
      "16600\n",
      "16700\n",
      "16800\n",
      "16900\n",
      "17000\n",
      "17100\n",
      "17200\n",
      "17300\n",
      "17400\n",
      "17500\n",
      "17600\n",
      "\n"
     ]
    },
    {
     "data": {
      "application/vnd.jupyter.widget-view+json": {
       "model_id": "62cb10cb6b4b46ef96025744e2837b1f",
       "version_major": 2,
       "version_minor": 0
      },
      "text/plain": [
       "HBox(children=(IntProgress(value=0, max=1934), HTML(value='')))"
      ]
     },
     "metadata": {},
     "output_type": "display_data"
    },
    {
     "name": "stdout",
     "output_type": "stream",
     "text": [
      "0\n",
      "100\n",
      "200\n",
      "300\n",
      "400\n",
      "500\n",
      "600\n",
      "700\n",
      "800\n",
      "900\n",
      "1000\n",
      "1100\n",
      "1200\n",
      "1300\n",
      "1400\n",
      "1500\n",
      "1600\n",
      "1700\n",
      "1800\n",
      "1900\n",
      "\n"
     ]
    }
   ],
   "source": [
    "\n",
    "\n",
    "labels = pd.read_csv(train_labels)\n",
    "labels_test = load('test labels')\n",
    "\n",
    "dataset = list(range(labels.shape[0]))\n",
    "\n",
    "# df = load('data by session')\n",
    "for i in tqdm(range(labels.shape[0])):\n",
    "    if i%100 == 0:\n",
    "        print(i)\n",
    "    installation_id = labels.iloc[i]['installation_id']\n",
    "    game_session = labels.iloc[i]['game_session']\n",
    "    dataset[i] = build_set(df, installation_id, game_session)\n",
    "\n",
    "    \n",
    "# df = load('data test by session')\n",
    "for i in tqdm(range(labels_test.shape[0])):\n",
    "    if i%100 == 0:\n",
    "        print(i)\n",
    "    installation_id = labels_test.iloc[i]['installation_id']\n",
    "    game_session = labels_test.iloc[i]['game_session']\n",
    "    dataset.append(build_set(df, installation_id, game_session))\n",
    "    \n",
    "df_data = pd.DataFrame(dataset, columns = cols)\n",
    "\n",
    "save(df_data, 'smart train dataset')"
   ]
  },
  {
   "cell_type": "code",
   "execution_count": null,
   "metadata": {},
   "outputs": [],
   "source": []
  },
  {
   "cell_type": "markdown",
   "metadata": {},
   "source": [
    "#### Building test dataset"
   ]
  },
  {
   "cell_type": "code",
   "execution_count": null,
   "metadata": {},
   "outputs": [],
   "source": []
  },
  {
   "cell_type": "code",
   "execution_count": 142,
   "metadata": {
    "scrolled": true
   },
   "outputs": [
    {
     "data": {
      "application/vnd.jupyter.widget-view+json": {
       "model_id": "23745cea961f4d57b7bfe9c1a5f4beef",
       "version_major": 2,
       "version_minor": 0
      },
      "text/plain": [
       "HBox(children=(IntProgress(value=0, max=1000), HTML(value='')))"
      ]
     },
     "metadata": {},
     "output_type": "display_data"
    },
    {
     "name": "stdout",
     "output_type": "stream",
     "text": [
      "0\n"
     ]
    },
    {
     "name": "stderr",
     "output_type": "stream",
     "text": [
      "C:\\Users\\gabri\\Anaconda3\\lib\\site-packages\\ipykernel_launcher.py:23: RuntimeWarning:\n",
      "\n",
      "Mean of empty slice.\n",
      "\n",
      "C:\\Users\\gabri\\Anaconda3\\lib\\site-packages\\ipykernel_launcher.py:26: RuntimeWarning:\n",
      "\n",
      "Mean of empty slice.\n",
      "\n",
      "C:\\Users\\gabri\\Anaconda3\\lib\\site-packages\\ipykernel_launcher.py:51: RuntimeWarning:\n",
      "\n",
      "Mean of empty slice.\n",
      "\n",
      "C:\\Users\\gabri\\Anaconda3\\lib\\site-packages\\ipykernel_launcher.py:54: RuntimeWarning:\n",
      "\n",
      "Mean of empty slice.\n",
      "\n",
      "C:\\Users\\gabri\\Anaconda3\\lib\\site-packages\\ipykernel_launcher.py:57: RuntimeWarning:\n",
      "\n",
      "Mean of empty slice.\n",
      "\n",
      "C:\\Users\\gabri\\Anaconda3\\lib\\site-packages\\ipykernel_launcher.py:67: RuntimeWarning:\n",
      "\n",
      "Mean of empty slice.\n",
      "\n",
      "C:\\Users\\gabri\\Anaconda3\\lib\\site-packages\\ipykernel_launcher.py:68: RuntimeWarning:\n",
      "\n",
      "Mean of empty slice.\n",
      "\n",
      "C:\\Users\\gabri\\Anaconda3\\lib\\site-packages\\ipykernel_launcher.py:69: RuntimeWarning:\n",
      "\n",
      "Mean of empty slice.\n",
      "\n",
      "C:\\Users\\gabri\\Anaconda3\\lib\\site-packages\\ipykernel_launcher.py:70: RuntimeWarning:\n",
      "\n",
      "Mean of empty slice.\n",
      "\n",
      "C:\\Users\\gabri\\Anaconda3\\lib\\site-packages\\ipykernel_launcher.py:71: RuntimeWarning:\n",
      "\n",
      "Mean of empty slice.\n",
      "\n",
      "C:\\Users\\gabri\\Anaconda3\\lib\\site-packages\\ipykernel_launcher.py:72: RuntimeWarning:\n",
      "\n",
      "Mean of empty slice.\n",
      "\n",
      "C:\\Users\\gabri\\Anaconda3\\lib\\site-packages\\ipykernel_launcher.py:17: RuntimeWarning:\n",
      "\n",
      "Mean of empty slice.\n",
      "\n",
      "C:\\Users\\gabri\\Anaconda3\\lib\\site-packages\\ipykernel_launcher.py:32: RuntimeWarning:\n",
      "\n",
      "Mean of empty slice.\n",
      "\n",
      "C:\\Users\\gabri\\Anaconda3\\lib\\site-packages\\ipykernel_launcher.py:35: RuntimeWarning:\n",
      "\n",
      "Mean of empty slice.\n",
      "\n",
      "C:\\Users\\gabri\\Anaconda3\\lib\\site-packages\\ipykernel_launcher.py:37: RuntimeWarning:\n",
      "\n",
      "Mean of empty slice.\n",
      "\n",
      "C:\\Users\\gabri\\Anaconda3\\lib\\site-packages\\ipykernel_launcher.py:44: RuntimeWarning:\n",
      "\n",
      "Mean of empty slice.\n",
      "\n",
      "C:\\Users\\gabri\\Anaconda3\\lib\\site-packages\\ipykernel_launcher.py:45: RuntimeWarning:\n",
      "\n",
      "Mean of empty slice.\n",
      "\n"
     ]
    },
    {
     "name": "stdout",
     "output_type": "stream",
     "text": [
      "100\n",
      "200\n",
      "300\n",
      "400\n",
      "500\n",
      "600\n",
      "700\n",
      "800\n",
      "900\n",
      "\n"
     ]
    }
   ],
   "source": [
    "ids, game_inst = load('test_labels')\n",
    "\n",
    "dataset = list(range(ids.shape[0]))\n",
    "\n",
    "for i in tqdm(range(ids.shape[0])):\n",
    "    if i%100 == 0:\n",
    "        print(i)\n",
    "    installation_id = ids[i]\n",
    "    game_session = game_inst[i]\n",
    "    dataset[i] = build_set(df, installation_id, game_session)\n",
    "\n",
    "df_data = pd.DataFrame(dataset, columns = cols)\n",
    "save(df_data, 'smart test dataset')"
   ]
  },
  {
   "cell_type": "markdown",
   "metadata": {},
   "source": [
    "#### Preparing for training"
   ]
  },
  {
   "cell_type": "code",
   "execution_count": null,
   "metadata": {},
   "outputs": [],
   "source": [
    "test_labels.head()"
   ]
  },
  {
   "cell_type": "code",
   "execution_count": 152,
   "metadata": {},
   "outputs": [],
   "source": [
    "dataset = load('smart train dataset')\n",
    "\n",
    "X = dataset\n",
    "# labels = pd.read_csv(train_labels)\n",
    "labels = load('train_labels')\n",
    "test_labels = load('test labels')\n",
    "Y = np.concatenate([labels['accuracy_group'].values.astype('float64'), test_labels['accuracy_group'].values.astype('float64')], axis = 0)\n",
    "Y1 = np.concatenate([labels['accuracy'].values.astype('float64'), test_labels['accuracy'].values.astype('float64')], axis = 0)\n",
    "groups = Y1 = np.concatenate([labels['installation_id'].values, test_labels['installation_id'].values], axis = 0)\n",
    "# y = np_utils.to_categorical(Y)\n",
    "\n",
    "\n",
    "dtitle = load('dico_title')\n",
    "X = X.replace({'pred_title': dtitle})\n",
    "X = X.fillna(-2)\n",
    "\n",
    "\n",
    "# Y = Y[(X['pred_title']==14).values]\n",
    "# X = X[X['pred_title']==14]\n",
    "\n",
    "\n",
    "from sklearn.utils import class_weight\n",
    "\n",
    "class_weights = class_weight.compute_class_weight('balanced',\n",
    "                                          np.unique(Y),Y)\n",
    "\n",
    "\n",
    "\n",
    "\n"
   ]
  },
  {
   "cell_type": "code",
   "execution_count": null,
   "metadata": {},
   "outputs": [],
   "source": [
    "features = X.loc[(X.sum(axis=1) != 0), (X.sum(axis=0) != 0)].columns # delete useless columns\n",
    "features = [x for x in features if x not in ['accuracy_group', 'installation_id']]\n",
    "\n",
    "\n",
    "counter = 0\n",
    "to_remove = []\n",
    "for feat_a in features:\n",
    "    for feat_b in features:\n",
    "        if feat_a != feat_b and feat_a not in to_remove and feat_b not in to_remove:\n",
    "            c = np.corrcoef(X[feat_a], X[feat_b])[0][1]\n",
    "            if c > 0.995:\n",
    "                counter += 1\n",
    "                to_remove.append(feat_b)\n",
    "                print('{}: FEAT_A: {} FEAT_B: {} - Correlation: {}'.format(counter, feat_a, feat_b, c))"
   ]
  },
  {
   "cell_type": "code",
   "execution_count": null,
   "metadata": {},
   "outputs": [],
   "source": [
    "reduce_test = load('new test dataset')\n",
    "\n",
    "dtitle = load('dico_title')\n",
    "reduce_test = reduce_test.replace({'pred_title': dtitle})\n",
    "reduce_test = reduce_test.fillna(-1)\n",
    "\n",
    "\n",
    "from sklearn.metrics import mean_squared_error\n",
    "def stract_hists(feature, train=X, test=reduce_test, adjust=False, plot=False):\n",
    "    n_bins = 10\n",
    "    train_data = train[feature]\n",
    "    test_data = test[feature]\n",
    "    if adjust:\n",
    "        test_data *= train_data.mean() / test_data.mean()\n",
    "    perc_90 = np.percentile(train_data, 95)\n",
    "    train_data = np.clip(train_data, 0, perc_90)\n",
    "    test_data = np.clip(test_data, 0, perc_90)\n",
    "    train_hist = np.histogram(train_data, bins=n_bins)[0] / len(train_data)\n",
    "    test_hist = np.histogram(test_data, bins=n_bins)[0] / len(test_data)\n",
    "    msre = mean_squared_error(train_hist, test_hist)\n",
    "    if plot:\n",
    "        print(msre)\n",
    "        plt.bar(range(n_bins), train_hist, color='blue', alpha=0.5)\n",
    "        plt.bar(range(n_bins), test_hist, color='red', alpha=0.5)\n",
    "        plt.show()\n",
    "    return msre\n",
    "\n",
    "\n",
    "\n",
    "to_exclude = [] \n",
    "ajusted_test = reduce_test.copy()\n",
    "for feature in ajusted_test.columns:\n",
    "    if feature not in ['pred_title','accuracy_group', 'installation_id', 'Assessment accuracy_group', 'session_title']:\n",
    "        data = X[feature]\n",
    "        train_mean = data.mean()\n",
    "        data = ajusted_test[feature] \n",
    "        test_mean = data.mean()\n",
    "        try:\n",
    "            error = stract_hists(feature, adjust=True)\n",
    "            ajust_factor = train_mean / test_mean\n",
    "            if (ajust_factor > 10 or ajust_factor < 0.1) or error > 0.01:\n",
    "                to_exclude.append(feature)\n",
    "                print(feature, train_mean, test_mean, error)\n",
    "            else:\n",
    "                ajusted_test[feature] *= ajust_factor\n",
    "        except:\n",
    "            to_exclude.append(feature)\n",
    "            print(feature, train_mean, test_mean)"
   ]
  },
  {
   "cell_type": "code",
   "execution_count": null,
   "metadata": {},
   "outputs": [],
   "source": [
    "features = [x for x in features if x not in (to_exclude + to_remove)]\n",
    "X[features].shape"
   ]
  },
  {
   "cell_type": "code",
   "execution_count": null,
   "metadata": {},
   "outputs": [],
   "source": [
    "save(features, 'feats_to_keep')"
   ]
  },
  {
   "cell_type": "code",
   "execution_count": null,
   "metadata": {},
   "outputs": [],
   "source": [
    "features = load('feats_to_keep')\n",
    "X = X[features]\n"
   ]
  },
  {
   "cell_type": "code",
   "execution_count": null,
   "metadata": {},
   "outputs": [],
   "source": [
    "X.head()"
   ]
  },
  {
   "cell_type": "code",
   "execution_count": null,
   "metadata": {},
   "outputs": [],
   "source": []
  },
  {
   "cell_type": "code",
   "execution_count": 153,
   "metadata": {},
   "outputs": [],
   "source": [
    "X1 = pd.get_dummies(X, columns=[\"pred_title\"], prefix=[\"title\"])\n",
    "X['title_14'] = X1['title_14']\n",
    "X['title_27'] = X1['title_27']\n",
    "X['title_28'] = X1['title_28']\n",
    "X['title_36'] = X1['title_36']\n",
    "X['title_24'] = X1['title_24']\n",
    "# X = X[feats_to_keep]\n",
    "# X['title_14'] = X1['title_14']\n",
    "# X['title_27'] = X1['title_27']\n",
    "# X['title_28'] = X1['title_28']\n",
    "# X['title_36'] = X1['title_36']\n",
    "# X['title_24'] = X1['title_24']\n",
    "\n",
    "X = X.astype('float64')"
   ]
  },
  {
   "cell_type": "code",
   "execution_count": 174,
   "metadata": {},
   "outputs": [],
   "source": [
    "features = [x for x in X.columns if not('assessment' in x)]"
   ]
  },
  {
   "cell_type": "code",
   "execution_count": 176,
   "metadata": {},
   "outputs": [],
   "source": [
    "X = X[features]"
   ]
  },
  {
   "cell_type": "code",
   "execution_count": 173,
   "metadata": {},
   "outputs": [
    {
     "data": {
      "text/plain": [
       "['pred_title',\n",
       " 'poids_n_clips',\n",
       " 'poids_time_inst_mean',\n",
       " 'poids_time_inst_sum',\n",
       " 'poids_n_activity',\n",
       " 'poids_act_start_round_mean',\n",
       " 'poids_act_start_round_sum',\n",
       " 'poids_activity_action_mean',\n",
       " 'poids_activity_action_sum',\n",
       " 'poids_n_game',\n",
       " 'poids_game_start_round_mean',\n",
       " 'poids_game_start_round_sum',\n",
       " 'poids_game_action_mean',\n",
       " 'poids_game_action_sum',\n",
       " 'poids_game_mean_acc',\n",
       " 'poids_game_min_acc',\n",
       " 'poids_game_max_acc',\n",
       " 'poids_n_assessment',\n",
       " 'poids_assessment_start_round_mean',\n",
       " 'poids_assessment_start_round_sum',\n",
       " 'poids_assessment_action_mean',\n",
       " 'poids_assessment_action_sum',\n",
       " 'poids_assessment_mean_acc',\n",
       " 'poids_assessment_min_acc',\n",
       " 'poids_assessment_max_acc',\n",
       " 'poids_assessment_first_acc',\n",
       " 'poids_assessment_last_acc',\n",
       " 'poids_assessment_first_acc_group',\n",
       " 'poids_assessment_last_acc_group',\n",
       " 'taille_n_clips',\n",
       " 'taille_time_inst_mean',\n",
       " 'taille_time_inst_sum',\n",
       " 'taille_n_activity',\n",
       " 'taille_act_start_round_mean',\n",
       " 'taille_act_start_round_sum',\n",
       " 'taille_activity_action_mean',\n",
       " 'taille_activity_action_sum',\n",
       " 'taille_n_game',\n",
       " 'taille_game_start_round_mean',\n",
       " 'taille_game_start_round_sum',\n",
       " 'taille_game_action_mean',\n",
       " 'taille_game_action_sum',\n",
       " 'taille_game_mean_acc',\n",
       " 'taille_game_min_acc',\n",
       " 'taille_game_max_acc',\n",
       " 'taille_n_assessment',\n",
       " 'taille_assessment_start_round_mean',\n",
       " 'taille_assessment_start_round_sum',\n",
       " 'taille_assessment_action_mean',\n",
       " 'taille_assessment_action_sum',\n",
       " 'taille_assessment_mean_acc',\n",
       " 'taille_assessment_min_acc',\n",
       " 'taille_assessment_max_acc',\n",
       " 'taille_assessment_first_acc',\n",
       " 'taille_assessment_last_acc',\n",
       " 'taille_assessment_first_acc_group',\n",
       " 'taille_assessment_last_acc_group',\n",
       " 'volume_n_clips',\n",
       " 'volume_time_inst_mean',\n",
       " 'volume_time_inst_sum',\n",
       " 'volume_n_activity',\n",
       " 'volume_act_start_round_mean',\n",
       " 'volume_act_start_round_sum',\n",
       " 'volume_activity_action_mean',\n",
       " 'volume_activity_action_sum',\n",
       " 'volume_n_game',\n",
       " 'volume_game_start_round_mean',\n",
       " 'volume_game_start_round_sum',\n",
       " 'volume_game_action_mean',\n",
       " 'volume_game_action_sum',\n",
       " 'volume_game_mean_acc',\n",
       " 'volume_game_min_acc',\n",
       " 'volume_game_max_acc',\n",
       " 'volume_n_assessment',\n",
       " 'volume_assessment_start_round_mean',\n",
       " 'volume_assessment_start_round_sum',\n",
       " 'volume_assessment_action_mean',\n",
       " 'volume_assessment_action_sum',\n",
       " 'volume_assessment_mean_acc',\n",
       " 'volume_assessment_min_acc',\n",
       " 'volume_assessment_max_acc',\n",
       " 'volume_assessment_first_acc',\n",
       " 'volume_assessment_last_acc',\n",
       " 'volume_assessment_first_acc_group',\n",
       " 'volume_assessment_last_acc_group',\n",
       " 'matcher_n_clips',\n",
       " 'matcher_time_inst_mean',\n",
       " 'matcher_time_inst_sum',\n",
       " 'matcher_n_activity',\n",
       " 'matcher_act_start_round_mean',\n",
       " 'matcher_act_start_round_sum',\n",
       " 'matcher_activity_action_mean',\n",
       " 'matcher_activity_action_sum',\n",
       " 'matcher_n_game',\n",
       " 'matcher_game_start_round_mean',\n",
       " 'matcher_game_start_round_sum',\n",
       " 'matcher_game_action_mean',\n",
       " 'matcher_game_action_sum',\n",
       " 'matcher_game_mean_acc',\n",
       " 'matcher_game_min_acc',\n",
       " 'matcher_game_max_acc',\n",
       " 'matcher_n_assessment',\n",
       " 'matcher_assessment_start_round_mean',\n",
       " 'matcher_assessment_start_round_sum',\n",
       " 'matcher_assessment_action_mean',\n",
       " 'matcher_assessment_action_sum',\n",
       " 'matcher_assessment_mean_acc',\n",
       " 'matcher_assessment_min_acc',\n",
       " 'matcher_assessment_max_acc',\n",
       " 'matcher_assessment_first_acc',\n",
       " 'matcher_assessment_last_acc',\n",
       " 'matcher_assessment_first_acc_group',\n",
       " 'matcher_assessment_last_acc_group',\n",
       " 'trier_n_clips',\n",
       " 'trier_time_inst_mean',\n",
       " 'trier_time_inst_sum',\n",
       " 'trier_n_activity',\n",
       " 'trier_act_start_round_mean',\n",
       " 'trier_act_start_round_sum',\n",
       " 'trier_activity_action_mean',\n",
       " 'trier_activity_action_sum',\n",
       " 'trier_n_game',\n",
       " 'trier_game_start_round_mean',\n",
       " 'trier_game_start_round_sum',\n",
       " 'trier_game_action_mean',\n",
       " 'trier_game_action_sum',\n",
       " 'trier_game_mean_acc',\n",
       " 'trier_game_min_acc',\n",
       " 'trier_game_max_acc',\n",
       " 'trier_n_assessment',\n",
       " 'trier_assessment_start_round_mean',\n",
       " 'trier_assessment_start_round_sum',\n",
       " 'trier_assessment_action_mean',\n",
       " 'trier_assessment_action_sum',\n",
       " 'trier_assessment_mean_acc',\n",
       " 'trier_assessment_min_acc',\n",
       " 'trier_assessment_max_acc',\n",
       " 'trier_assessment_first_acc',\n",
       " 'trier_assessment_last_acc',\n",
       " 'trier_assessment_first_acc_group',\n",
       " 'trier_assessment_last_acc_group',\n",
       " 'mesurer_n_clips',\n",
       " 'mesurer_time_inst_mean',\n",
       " 'mesurer_time_inst_sum',\n",
       " 'mesurer_n_activity',\n",
       " 'mesurer_act_start_round_mean',\n",
       " 'mesurer_act_start_round_sum',\n",
       " 'mesurer_activity_action_mean',\n",
       " 'mesurer_activity_action_sum',\n",
       " 'mesurer_n_game',\n",
       " 'mesurer_game_start_round_mean',\n",
       " 'mesurer_game_start_round_sum',\n",
       " 'mesurer_game_action_mean',\n",
       " 'mesurer_game_action_sum',\n",
       " 'mesurer_game_mean_acc',\n",
       " 'mesurer_game_min_acc',\n",
       " 'mesurer_game_max_acc',\n",
       " 'mesurer_n_assessment',\n",
       " 'mesurer_assessment_start_round_mean',\n",
       " 'mesurer_assessment_start_round_sum',\n",
       " 'mesurer_assessment_action_mean',\n",
       " 'mesurer_assessment_action_sum',\n",
       " 'mesurer_assessment_mean_acc',\n",
       " 'mesurer_assessment_min_acc',\n",
       " 'mesurer_assessment_max_acc',\n",
       " 'mesurer_assessment_first_acc',\n",
       " 'mesurer_assessment_last_acc',\n",
       " 'mesurer_assessment_first_acc_group',\n",
       " 'mesurer_assessment_last_acc_group',\n",
       " 'title_14',\n",
       " 'title_27',\n",
       " 'title_28',\n",
       " 'title_36',\n",
       " 'title_24']"
      ]
     },
     "execution_count": 173,
     "metadata": {},
     "output_type": "execute_result"
    }
   ],
   "source": [
    "list(X.columns)"
   ]
  },
  {
   "cell_type": "code",
   "execution_count": null,
   "metadata": {},
   "outputs": [],
   "source": [
    "X.columns[16]"
   ]
  },
  {
   "cell_type": "code",
   "execution_count": null,
   "metadata": {},
   "outputs": [],
   "source": [
    "X.shape"
   ]
  },
  {
   "cell_type": "code",
   "execution_count": 177,
   "metadata": {},
   "outputs": [],
   "source": [
    "X_train, X_test, y_train, y_test = train_test_split(X, Y, test_size=0.2, random_state=43)\n",
    "# X_train, X_val, y_train, y_val = train_test_split(X_train, y_train, test_size=0.1, random_state=43)"
   ]
  },
  {
   "cell_type": "code",
   "execution_count": null,
   "metadata": {},
   "outputs": [],
   "source": [
    "X_train.columns[18]"
   ]
  },
  {
   "cell_type": "code",
   "execution_count": 178,
   "metadata": {
    "scrolled": true
   },
   "outputs": [
    {
     "name": "stdout",
     "output_type": "stream",
     "text": [
      "[1]\tvalid_0's rmse: 1.26143\n",
      "[2]\tvalid_0's rmse: 1.25955\n",
      "[3]\tvalid_0's rmse: 1.25769\n",
      "[4]\tvalid_0's rmse: 1.25588\n",
      "[5]\tvalid_0's rmse: 1.25403\n",
      "[6]\tvalid_0's rmse: 1.25222\n",
      "[7]\tvalid_0's rmse: 1.2504\n",
      "[8]\tvalid_0's rmse: 1.24861\n",
      "[9]\tvalid_0's rmse: 1.2468\n",
      "[10]\tvalid_0's rmse: 1.24505\n",
      "[11]\tvalid_0's rmse: 1.24328\n",
      "[12]\tvalid_0's rmse: 1.24156\n",
      "[13]\tvalid_0's rmse: 1.23983\n",
      "[14]\tvalid_0's rmse: 1.23813\n",
      "[15]\tvalid_0's rmse: 1.23642\n",
      "[16]\tvalid_0's rmse: 1.23472\n",
      "[17]\tvalid_0's rmse: 1.23306\n",
      "[18]\tvalid_0's rmse: 1.23143\n",
      "[19]\tvalid_0's rmse: 1.22978\n",
      "[20]\tvalid_0's rmse: 1.22815\n",
      "[21]\tvalid_0's rmse: 1.22655\n",
      "[22]\tvalid_0's rmse: 1.22492\n",
      "[23]\tvalid_0's rmse: 1.2233\n",
      "[24]\tvalid_0's rmse: 1.22172\n",
      "[25]\tvalid_0's rmse: 1.22015\n",
      "[26]\tvalid_0's rmse: 1.21864\n",
      "[27]\tvalid_0's rmse: 1.21708\n",
      "[28]\tvalid_0's rmse: 1.21557\n",
      "[29]\tvalid_0's rmse: 1.21405\n",
      "[30]\tvalid_0's rmse: 1.21253\n",
      "[31]\tvalid_0's rmse: 1.21106\n",
      "[32]\tvalid_0's rmse: 1.20959\n",
      "[33]\tvalid_0's rmse: 1.20814\n",
      "[34]\tvalid_0's rmse: 1.20666\n",
      "[35]\tvalid_0's rmse: 1.20522\n",
      "[36]\tvalid_0's rmse: 1.2038\n",
      "[37]\tvalid_0's rmse: 1.20237\n",
      "[38]\tvalid_0's rmse: 1.20095\n",
      "[39]\tvalid_0's rmse: 1.19952\n",
      "[40]\tvalid_0's rmse: 1.19816\n",
      "[41]\tvalid_0's rmse: 1.19681\n",
      "[42]\tvalid_0's rmse: 1.19545\n",
      "[43]\tvalid_0's rmse: 1.19409\n",
      "[44]\tvalid_0's rmse: 1.19274\n",
      "[45]\tvalid_0's rmse: 1.19142\n",
      "[46]\tvalid_0's rmse: 1.19009\n",
      "[47]\tvalid_0's rmse: 1.18879\n",
      "[48]\tvalid_0's rmse: 1.18751\n",
      "[49]\tvalid_0's rmse: 1.18624\n",
      "[50]\tvalid_0's rmse: 1.18495\n",
      "[51]\tvalid_0's rmse: 1.18369\n",
      "[52]\tvalid_0's rmse: 1.18245\n",
      "[53]\tvalid_0's rmse: 1.1812\n",
      "[54]\tvalid_0's rmse: 1.17997\n",
      "[55]\tvalid_0's rmse: 1.17879\n",
      "[56]\tvalid_0's rmse: 1.17753\n",
      "[57]\tvalid_0's rmse: 1.1763\n",
      "[58]\tvalid_0's rmse: 1.17511\n",
      "[59]\tvalid_0's rmse: 1.17391\n",
      "[60]\tvalid_0's rmse: 1.17271\n",
      "[61]\tvalid_0's rmse: 1.17157\n",
      "[62]\tvalid_0's rmse: 1.17039\n",
      "[63]\tvalid_0's rmse: 1.16923\n",
      "[64]\tvalid_0's rmse: 1.16808\n",
      "[65]\tvalid_0's rmse: 1.16692\n",
      "[66]\tvalid_0's rmse: 1.16575\n",
      "[67]\tvalid_0's rmse: 1.16464\n",
      "[68]\tvalid_0's rmse: 1.16352\n",
      "[69]\tvalid_0's rmse: 1.16241\n",
      "[70]\tvalid_0's rmse: 1.16134\n",
      "[71]\tvalid_0's rmse: 1.16027\n",
      "[72]\tvalid_0's rmse: 1.15924\n",
      "[73]\tvalid_0's rmse: 1.15812\n",
      "[74]\tvalid_0's rmse: 1.15707\n",
      "[75]\tvalid_0's rmse: 1.15605\n",
      "[76]\tvalid_0's rmse: 1.15502\n",
      "[77]\tvalid_0's rmse: 1.154\n",
      "[78]\tvalid_0's rmse: 1.153\n",
      "[79]\tvalid_0's rmse: 1.15199\n",
      "[80]\tvalid_0's rmse: 1.15101\n",
      "[81]\tvalid_0's rmse: 1.14998\n",
      "[82]\tvalid_0's rmse: 1.14901\n",
      "[83]\tvalid_0's rmse: 1.14801\n",
      "[84]\tvalid_0's rmse: 1.14707\n",
      "[85]\tvalid_0's rmse: 1.14611\n",
      "[86]\tvalid_0's rmse: 1.14517\n",
      "[87]\tvalid_0's rmse: 1.14426\n",
      "[88]\tvalid_0's rmse: 1.14337\n",
      "[89]\tvalid_0's rmse: 1.14244\n",
      "[90]\tvalid_0's rmse: 1.14149\n",
      "[91]\tvalid_0's rmse: 1.1406\n",
      "[92]\tvalid_0's rmse: 1.13966\n",
      "[93]\tvalid_0's rmse: 1.13873\n",
      "[94]\tvalid_0's rmse: 1.13796\n",
      "[95]\tvalid_0's rmse: 1.13706\n",
      "[96]\tvalid_0's rmse: 1.13619\n",
      "[97]\tvalid_0's rmse: 1.13534\n",
      "[98]\tvalid_0's rmse: 1.13446\n",
      "[99]\tvalid_0's rmse: 1.13359\n",
      "[100]\tvalid_0's rmse: 1.13277\n",
      "[101]\tvalid_0's rmse: 1.13215\n",
      "[102]\tvalid_0's rmse: 1.13133\n",
      "[103]\tvalid_0's rmse: 1.13048\n",
      "[104]\tvalid_0's rmse: 1.12966\n",
      "[105]\tvalid_0's rmse: 1.12886\n",
      "[106]\tvalid_0's rmse: 1.12802\n",
      "[107]\tvalid_0's rmse: 1.12721\n",
      "[108]\tvalid_0's rmse: 1.12638\n",
      "[109]\tvalid_0's rmse: 1.12561\n",
      "[110]\tvalid_0's rmse: 1.1248\n",
      "[111]\tvalid_0's rmse: 1.12405\n",
      "[112]\tvalid_0's rmse: 1.12327\n",
      "[113]\tvalid_0's rmse: 1.12249\n",
      "[114]\tvalid_0's rmse: 1.12172\n",
      "[115]\tvalid_0's rmse: 1.12096\n",
      "[116]\tvalid_0's rmse: 1.12022\n",
      "[117]\tvalid_0's rmse: 1.11948\n",
      "[118]\tvalid_0's rmse: 1.11875\n",
      "[119]\tvalid_0's rmse: 1.11802\n",
      "[120]\tvalid_0's rmse: 1.11732\n",
      "[121]\tvalid_0's rmse: 1.11659\n",
      "[122]\tvalid_0's rmse: 1.11589\n",
      "[123]\tvalid_0's rmse: 1.11517\n",
      "[124]\tvalid_0's rmse: 1.11445\n",
      "[125]\tvalid_0's rmse: 1.11373\n",
      "[126]\tvalid_0's rmse: 1.11305\n",
      "[127]\tvalid_0's rmse: 1.11234\n",
      "[128]\tvalid_0's rmse: 1.11166\n",
      "[129]\tvalid_0's rmse: 1.11101\n",
      "[130]\tvalid_0's rmse: 1.11034\n",
      "[131]\tvalid_0's rmse: 1.10967\n",
      "[132]\tvalid_0's rmse: 1.10896\n",
      "[133]\tvalid_0's rmse: 1.1083\n",
      "[134]\tvalid_0's rmse: 1.10764\n",
      "[135]\tvalid_0's rmse: 1.10701\n",
      "[136]\tvalid_0's rmse: 1.10638\n",
      "[137]\tvalid_0's rmse: 1.10574\n",
      "[138]\tvalid_0's rmse: 1.10512\n",
      "[139]\tvalid_0's rmse: 1.1045\n",
      "[140]\tvalid_0's rmse: 1.1039\n",
      "[141]\tvalid_0's rmse: 1.10329\n",
      "[142]\tvalid_0's rmse: 1.10265\n",
      "[143]\tvalid_0's rmse: 1.10205\n",
      "[144]\tvalid_0's rmse: 1.10144\n",
      "[145]\tvalid_0's rmse: 1.10084\n",
      "[146]\tvalid_0's rmse: 1.10025\n",
      "[147]\tvalid_0's rmse: 1.09967\n",
      "[148]\tvalid_0's rmse: 1.09911\n",
      "[149]\tvalid_0's rmse: 1.09855\n",
      "[150]\tvalid_0's rmse: 1.09799\n",
      "[151]\tvalid_0's rmse: 1.09743\n",
      "[152]\tvalid_0's rmse: 1.09685\n",
      "[153]\tvalid_0's rmse: 1.09625\n",
      "[154]\tvalid_0's rmse: 1.09571\n",
      "[155]\tvalid_0's rmse: 1.09516\n",
      "[156]\tvalid_0's rmse: 1.09463\n",
      "[157]\tvalid_0's rmse: 1.0941\n",
      "[158]\tvalid_0's rmse: 1.09354\n",
      "[159]\tvalid_0's rmse: 1.09303\n",
      "[160]\tvalid_0's rmse: 1.09248\n",
      "[161]\tvalid_0's rmse: 1.09196\n",
      "[162]\tvalid_0's rmse: 1.09142\n",
      "[163]\tvalid_0's rmse: 1.09088\n",
      "[164]\tvalid_0's rmse: 1.09038\n",
      "[165]\tvalid_0's rmse: 1.08987\n",
      "[166]\tvalid_0's rmse: 1.08936\n",
      "[167]\tvalid_0's rmse: 1.08888\n",
      "[168]\tvalid_0's rmse: 1.08839\n",
      "[169]\tvalid_0's rmse: 1.0879\n",
      "[170]\tvalid_0's rmse: 1.08738\n",
      "[171]\tvalid_0's rmse: 1.08692\n",
      "[172]\tvalid_0's rmse: 1.08644\n",
      "[173]\tvalid_0's rmse: 1.08599\n",
      "[174]\tvalid_0's rmse: 1.08555\n",
      "[175]\tvalid_0's rmse: 1.08506\n",
      "[176]\tvalid_0's rmse: 1.08461\n",
      "[177]\tvalid_0's rmse: 1.08411\n",
      "[178]\tvalid_0's rmse: 1.08369\n",
      "[179]\tvalid_0's rmse: 1.08323\n",
      "[180]\tvalid_0's rmse: 1.08277\n",
      "[181]\tvalid_0's rmse: 1.08232\n",
      "[182]\tvalid_0's rmse: 1.08187\n",
      "[183]\tvalid_0's rmse: 1.08141\n",
      "[184]\tvalid_0's rmse: 1.08098\n",
      "[185]\tvalid_0's rmse: 1.08053\n",
      "[186]\tvalid_0's rmse: 1.08011\n",
      "[187]\tvalid_0's rmse: 1.07971\n",
      "[188]\tvalid_0's rmse: 1.07929\n",
      "[189]\tvalid_0's rmse: 1.07885\n",
      "[190]\tvalid_0's rmse: 1.07845\n",
      "[191]\tvalid_0's rmse: 1.07806\n",
      "[192]\tvalid_0's rmse: 1.07766\n",
      "[193]\tvalid_0's rmse: 1.07725\n",
      "[194]\tvalid_0's rmse: 1.07686\n",
      "[195]\tvalid_0's rmse: 1.07648\n",
      "[196]\tvalid_0's rmse: 1.07607\n",
      "[197]\tvalid_0's rmse: 1.07569\n",
      "[198]\tvalid_0's rmse: 1.0753\n",
      "[199]\tvalid_0's rmse: 1.07491\n",
      "[200]\tvalid_0's rmse: 1.07452\n",
      "[201]\tvalid_0's rmse: 1.07415\n",
      "[202]\tvalid_0's rmse: 1.07379\n",
      "[203]\tvalid_0's rmse: 1.07337\n",
      "[204]\tvalid_0's rmse: 1.07301\n",
      "[205]\tvalid_0's rmse: 1.07264\n",
      "[206]\tvalid_0's rmse: 1.07228\n",
      "[207]\tvalid_0's rmse: 1.07189\n",
      "[208]\tvalid_0's rmse: 1.07153\n",
      "[209]\tvalid_0's rmse: 1.07117\n",
      "[210]\tvalid_0's rmse: 1.07082\n",
      "[211]\tvalid_0's rmse: 1.07047\n",
      "[212]\tvalid_0's rmse: 1.07011\n",
      "[213]\tvalid_0's rmse: 1.06977\n",
      "[214]\tvalid_0's rmse: 1.06944\n",
      "[215]\tvalid_0's rmse: 1.06906\n",
      "[216]\tvalid_0's rmse: 1.06871\n",
      "[217]\tvalid_0's rmse: 1.06836\n",
      "[218]\tvalid_0's rmse: 1.068\n",
      "[219]\tvalid_0's rmse: 1.06768\n",
      "[220]\tvalid_0's rmse: 1.06734\n",
      "[221]\tvalid_0's rmse: 1.06703\n",
      "[222]\tvalid_0's rmse: 1.06668\n",
      "[223]\tvalid_0's rmse: 1.06635\n",
      "[224]\tvalid_0's rmse: 1.06606\n",
      "[225]\tvalid_0's rmse: 1.06575\n",
      "[226]\tvalid_0's rmse: 1.06541\n",
      "[227]\tvalid_0's rmse: 1.0651\n",
      "[228]\tvalid_0's rmse: 1.06479\n",
      "[229]\tvalid_0's rmse: 1.06448\n",
      "[230]\tvalid_0's rmse: 1.06419\n",
      "[231]\tvalid_0's rmse: 1.06388\n",
      "[232]\tvalid_0's rmse: 1.06356\n",
      "[233]\tvalid_0's rmse: 1.06324\n",
      "[234]\tvalid_0's rmse: 1.06292\n",
      "[235]\tvalid_0's rmse: 1.06262\n",
      "[236]\tvalid_0's rmse: 1.06233\n",
      "[237]\tvalid_0's rmse: 1.06203\n",
      "[238]\tvalid_0's rmse: 1.06172\n",
      "[239]\tvalid_0's rmse: 1.06144\n",
      "[240]\tvalid_0's rmse: 1.06117\n",
      "[241]\tvalid_0's rmse: 1.06092\n",
      "[242]\tvalid_0's rmse: 1.06065\n",
      "[243]\tvalid_0's rmse: 1.06038\n",
      "[244]\tvalid_0's rmse: 1.06011\n",
      "[245]\tvalid_0's rmse: 1.05986\n",
      "[246]\tvalid_0's rmse: 1.05957\n",
      "[247]\tvalid_0's rmse: 1.05933\n",
      "[248]\tvalid_0's rmse: 1.05906\n",
      "[249]\tvalid_0's rmse: 1.05878\n",
      "[250]\tvalid_0's rmse: 1.0585\n",
      "[251]\tvalid_0's rmse: 1.05824\n",
      "[252]\tvalid_0's rmse: 1.05801\n",
      "[253]\tvalid_0's rmse: 1.05775\n",
      "[254]\tvalid_0's rmse: 1.05749\n",
      "[255]\tvalid_0's rmse: 1.05721\n",
      "[256]\tvalid_0's rmse: 1.05694\n",
      "[257]\tvalid_0's rmse: 1.0567\n",
      "[258]\tvalid_0's rmse: 1.05649\n",
      "[259]\tvalid_0's rmse: 1.05625\n",
      "[260]\tvalid_0's rmse: 1.05605\n",
      "[261]\tvalid_0's rmse: 1.05582\n",
      "[262]\tvalid_0's rmse: 1.05559\n",
      "[263]\tvalid_0's rmse: 1.05535\n",
      "[264]\tvalid_0's rmse: 1.05514\n",
      "[265]\tvalid_0's rmse: 1.0549\n",
      "[266]\tvalid_0's rmse: 1.0547\n",
      "[267]\tvalid_0's rmse: 1.05448\n",
      "[268]\tvalid_0's rmse: 1.05423\n",
      "[269]\tvalid_0's rmse: 1.05401\n",
      "[270]\tvalid_0's rmse: 1.0538\n",
      "[271]\tvalid_0's rmse: 1.05361\n",
      "[272]\tvalid_0's rmse: 1.05339\n",
      "[273]\tvalid_0's rmse: 1.05316\n",
      "[274]\tvalid_0's rmse: 1.05294\n",
      "[275]\tvalid_0's rmse: 1.05276\n",
      "[276]\tvalid_0's rmse: 1.05259\n",
      "[277]\tvalid_0's rmse: 1.05236\n"
     ]
    },
    {
     "name": "stdout",
     "output_type": "stream",
     "text": [
      "[278]\tvalid_0's rmse: 1.05217\n",
      "[279]\tvalid_0's rmse: 1.052\n",
      "[280]\tvalid_0's rmse: 1.05177\n",
      "[281]\tvalid_0's rmse: 1.05158\n",
      "[282]\tvalid_0's rmse: 1.05138\n",
      "[283]\tvalid_0's rmse: 1.05118\n",
      "[284]\tvalid_0's rmse: 1.05098\n",
      "[285]\tvalid_0's rmse: 1.05077\n",
      "[286]\tvalid_0's rmse: 1.05055\n",
      "[287]\tvalid_0's rmse: 1.05038\n",
      "[288]\tvalid_0's rmse: 1.05017\n",
      "[289]\tvalid_0's rmse: 1.04996\n",
      "[290]\tvalid_0's rmse: 1.04978\n",
      "[291]\tvalid_0's rmse: 1.04955\n",
      "[292]\tvalid_0's rmse: 1.04937\n",
      "[293]\tvalid_0's rmse: 1.04917\n",
      "[294]\tvalid_0's rmse: 1.04898\n",
      "[295]\tvalid_0's rmse: 1.04873\n",
      "[296]\tvalid_0's rmse: 1.04854\n",
      "[297]\tvalid_0's rmse: 1.04836\n",
      "[298]\tvalid_0's rmse: 1.04818\n",
      "[299]\tvalid_0's rmse: 1.04801\n",
      "[300]\tvalid_0's rmse: 1.04782\n",
      "[301]\tvalid_0's rmse: 1.04762\n",
      "[302]\tvalid_0's rmse: 1.04745\n",
      "[303]\tvalid_0's rmse: 1.04726\n",
      "[304]\tvalid_0's rmse: 1.04707\n",
      "[305]\tvalid_0's rmse: 1.04692\n",
      "[306]\tvalid_0's rmse: 1.04677\n",
      "[307]\tvalid_0's rmse: 1.04664\n",
      "[308]\tvalid_0's rmse: 1.04646\n",
      "[309]\tvalid_0's rmse: 1.04629\n",
      "[310]\tvalid_0's rmse: 1.04611\n",
      "[311]\tvalid_0's rmse: 1.04593\n",
      "[312]\tvalid_0's rmse: 1.04578\n",
      "[313]\tvalid_0's rmse: 1.0456\n",
      "[314]\tvalid_0's rmse: 1.04544\n",
      "[315]\tvalid_0's rmse: 1.04531\n",
      "[316]\tvalid_0's rmse: 1.04515\n",
      "[317]\tvalid_0's rmse: 1.04502\n",
      "[318]\tvalid_0's rmse: 1.04485\n",
      "[319]\tvalid_0's rmse: 1.04468\n",
      "[320]\tvalid_0's rmse: 1.0445\n",
      "[321]\tvalid_0's rmse: 1.04433\n",
      "[322]\tvalid_0's rmse: 1.04419\n",
      "[323]\tvalid_0's rmse: 1.04402\n",
      "[324]\tvalid_0's rmse: 1.04388\n",
      "[325]\tvalid_0's rmse: 1.04372\n",
      "[326]\tvalid_0's rmse: 1.04356\n",
      "[327]\tvalid_0's rmse: 1.04343\n",
      "[328]\tvalid_0's rmse: 1.04328\n",
      "[329]\tvalid_0's rmse: 1.04314\n",
      "[330]\tvalid_0's rmse: 1.04298\n",
      "[331]\tvalid_0's rmse: 1.04284\n",
      "[332]\tvalid_0's rmse: 1.04265\n",
      "[333]\tvalid_0's rmse: 1.04251\n",
      "[334]\tvalid_0's rmse: 1.04235\n",
      "[335]\tvalid_0's rmse: 1.04224\n",
      "[336]\tvalid_0's rmse: 1.04211\n",
      "[337]\tvalid_0's rmse: 1.04198\n",
      "[338]\tvalid_0's rmse: 1.04181\n",
      "[339]\tvalid_0's rmse: 1.04166\n",
      "[340]\tvalid_0's rmse: 1.04153\n",
      "[341]\tvalid_0's rmse: 1.04142\n",
      "[342]\tvalid_0's rmse: 1.04132\n",
      "[343]\tvalid_0's rmse: 1.04119\n",
      "[344]\tvalid_0's rmse: 1.04107\n",
      "[345]\tvalid_0's rmse: 1.04095\n",
      "[346]\tvalid_0's rmse: 1.04082\n",
      "[347]\tvalid_0's rmse: 1.04071\n",
      "[348]\tvalid_0's rmse: 1.04055\n",
      "[349]\tvalid_0's rmse: 1.04041\n",
      "[350]\tvalid_0's rmse: 1.04027\n",
      "[351]\tvalid_0's rmse: 1.04015\n",
      "[352]\tvalid_0's rmse: 1.04006\n",
      "[353]\tvalid_0's rmse: 1.03993\n",
      "[354]\tvalid_0's rmse: 1.0398\n",
      "[355]\tvalid_0's rmse: 1.03967\n",
      "[356]\tvalid_0's rmse: 1.03954\n",
      "[357]\tvalid_0's rmse: 1.03939\n",
      "[358]\tvalid_0's rmse: 1.03927\n",
      "[359]\tvalid_0's rmse: 1.03912\n",
      "[360]\tvalid_0's rmse: 1.039\n",
      "[361]\tvalid_0's rmse: 1.03888\n",
      "[362]\tvalid_0's rmse: 1.03879\n",
      "[363]\tvalid_0's rmse: 1.03868\n",
      "[364]\tvalid_0's rmse: 1.03855\n",
      "[365]\tvalid_0's rmse: 1.03841\n",
      "[366]\tvalid_0's rmse: 1.0383\n",
      "[367]\tvalid_0's rmse: 1.03815\n",
      "[368]\tvalid_0's rmse: 1.03806\n",
      "[369]\tvalid_0's rmse: 1.03792\n",
      "[370]\tvalid_0's rmse: 1.03781\n",
      "[371]\tvalid_0's rmse: 1.03769\n",
      "[372]\tvalid_0's rmse: 1.03756\n",
      "[373]\tvalid_0's rmse: 1.03745\n",
      "[374]\tvalid_0's rmse: 1.03735\n",
      "[375]\tvalid_0's rmse: 1.03726\n",
      "[376]\tvalid_0's rmse: 1.03716\n",
      "[377]\tvalid_0's rmse: 1.03705\n",
      "[378]\tvalid_0's rmse: 1.03692\n",
      "[379]\tvalid_0's rmse: 1.03682\n",
      "[380]\tvalid_0's rmse: 1.03672\n",
      "[381]\tvalid_0's rmse: 1.03663\n",
      "[382]\tvalid_0's rmse: 1.03651\n",
      "[383]\tvalid_0's rmse: 1.03641\n",
      "[384]\tvalid_0's rmse: 1.03631\n",
      "[385]\tvalid_0's rmse: 1.03622\n",
      "[386]\tvalid_0's rmse: 1.03608\n",
      "[387]\tvalid_0's rmse: 1.036\n",
      "[388]\tvalid_0's rmse: 1.03591\n",
      "[389]\tvalid_0's rmse: 1.03583\n",
      "[390]\tvalid_0's rmse: 1.03573\n",
      "[391]\tvalid_0's rmse: 1.03561\n",
      "[392]\tvalid_0's rmse: 1.03551\n",
      "[393]\tvalid_0's rmse: 1.03543\n",
      "[394]\tvalid_0's rmse: 1.03534\n",
      "[395]\tvalid_0's rmse: 1.03521\n",
      "[396]\tvalid_0's rmse: 1.03511\n",
      "[397]\tvalid_0's rmse: 1.03504\n",
      "[398]\tvalid_0's rmse: 1.03494\n",
      "[399]\tvalid_0's rmse: 1.03485\n",
      "[400]\tvalid_0's rmse: 1.03475\n",
      "[401]\tvalid_0's rmse: 1.03466\n",
      "[402]\tvalid_0's rmse: 1.03456\n",
      "[403]\tvalid_0's rmse: 1.03443\n",
      "[404]\tvalid_0's rmse: 1.03433\n",
      "[405]\tvalid_0's rmse: 1.03425\n",
      "[406]\tvalid_0's rmse: 1.03417\n",
      "[407]\tvalid_0's rmse: 1.0341\n",
      "[408]\tvalid_0's rmse: 1.03401\n",
      "[409]\tvalid_0's rmse: 1.03394\n",
      "[410]\tvalid_0's rmse: 1.03385\n",
      "[411]\tvalid_0's rmse: 1.03376\n",
      "[412]\tvalid_0's rmse: 1.03365\n",
      "[413]\tvalid_0's rmse: 1.03356\n",
      "[414]\tvalid_0's rmse: 1.03348\n",
      "[415]\tvalid_0's rmse: 1.03337\n",
      "[416]\tvalid_0's rmse: 1.03326\n",
      "[417]\tvalid_0's rmse: 1.03318\n",
      "[418]\tvalid_0's rmse: 1.03309\n",
      "[419]\tvalid_0's rmse: 1.03298\n",
      "[420]\tvalid_0's rmse: 1.03291\n",
      "[421]\tvalid_0's rmse: 1.03281\n",
      "[422]\tvalid_0's rmse: 1.03271\n",
      "[423]\tvalid_0's rmse: 1.03261\n",
      "[424]\tvalid_0's rmse: 1.03253\n",
      "[425]\tvalid_0's rmse: 1.03245\n",
      "[426]\tvalid_0's rmse: 1.03236\n",
      "[427]\tvalid_0's rmse: 1.03228\n",
      "[428]\tvalid_0's rmse: 1.03218\n",
      "[429]\tvalid_0's rmse: 1.0321\n",
      "[430]\tvalid_0's rmse: 1.03202\n",
      "[431]\tvalid_0's rmse: 1.03193\n",
      "[432]\tvalid_0's rmse: 1.03181\n",
      "[433]\tvalid_0's rmse: 1.03173\n",
      "[434]\tvalid_0's rmse: 1.03165\n",
      "[435]\tvalid_0's rmse: 1.03158\n",
      "[436]\tvalid_0's rmse: 1.0315\n",
      "[437]\tvalid_0's rmse: 1.03139\n",
      "[438]\tvalid_0's rmse: 1.0313\n",
      "[439]\tvalid_0's rmse: 1.03121\n",
      "[440]\tvalid_0's rmse: 1.03111\n",
      "[441]\tvalid_0's rmse: 1.03104\n",
      "[442]\tvalid_0's rmse: 1.03094\n",
      "[443]\tvalid_0's rmse: 1.03084\n",
      "[444]\tvalid_0's rmse: 1.0308\n",
      "[445]\tvalid_0's rmse: 1.03071\n",
      "[446]\tvalid_0's rmse: 1.03064\n",
      "[447]\tvalid_0's rmse: 1.03061\n",
      "[448]\tvalid_0's rmse: 1.03053\n",
      "[449]\tvalid_0's rmse: 1.03043\n",
      "[450]\tvalid_0's rmse: 1.03034\n",
      "[451]\tvalid_0's rmse: 1.03025\n",
      "[452]\tvalid_0's rmse: 1.03015\n",
      "[453]\tvalid_0's rmse: 1.03006\n",
      "[454]\tvalid_0's rmse: 1.02998\n",
      "[455]\tvalid_0's rmse: 1.0299\n",
      "[456]\tvalid_0's rmse: 1.02983\n",
      "[457]\tvalid_0's rmse: 1.02975\n",
      "[458]\tvalid_0's rmse: 1.0297\n",
      "[459]\tvalid_0's rmse: 1.02959\n",
      "[460]\tvalid_0's rmse: 1.02952\n",
      "[461]\tvalid_0's rmse: 1.02943\n",
      "[462]\tvalid_0's rmse: 1.02937\n",
      "[463]\tvalid_0's rmse: 1.0293\n",
      "[464]\tvalid_0's rmse: 1.02924\n",
      "[465]\tvalid_0's rmse: 1.02915\n",
      "[466]\tvalid_0's rmse: 1.0291\n",
      "[467]\tvalid_0's rmse: 1.02903\n",
      "[468]\tvalid_0's rmse: 1.02897\n",
      "[469]\tvalid_0's rmse: 1.0289\n",
      "[470]\tvalid_0's rmse: 1.02881\n",
      "[471]\tvalid_0's rmse: 1.02874\n",
      "[472]\tvalid_0's rmse: 1.0287\n",
      "[473]\tvalid_0's rmse: 1.02863\n",
      "[474]\tvalid_0's rmse: 1.02857\n",
      "[475]\tvalid_0's rmse: 1.02851\n",
      "[476]\tvalid_0's rmse: 1.02844\n",
      "[477]\tvalid_0's rmse: 1.02838\n",
      "[478]\tvalid_0's rmse: 1.02832\n",
      "[479]\tvalid_0's rmse: 1.02825\n",
      "[480]\tvalid_0's rmse: 1.02817\n",
      "[481]\tvalid_0's rmse: 1.02811\n",
      "[482]\tvalid_0's rmse: 1.02805\n",
      "[483]\tvalid_0's rmse: 1.02797\n",
      "[484]\tvalid_0's rmse: 1.02792\n",
      "[485]\tvalid_0's rmse: 1.02787\n",
      "[486]\tvalid_0's rmse: 1.02783\n",
      "[487]\tvalid_0's rmse: 1.02775\n",
      "[488]\tvalid_0's rmse: 1.02771\n",
      "[489]\tvalid_0's rmse: 1.02766\n",
      "[490]\tvalid_0's rmse: 1.0276\n",
      "[491]\tvalid_0's rmse: 1.02753\n",
      "[492]\tvalid_0's rmse: 1.02743\n",
      "[493]\tvalid_0's rmse: 1.0274\n",
      "[494]\tvalid_0's rmse: 1.02737\n",
      "[495]\tvalid_0's rmse: 1.02734\n",
      "[496]\tvalid_0's rmse: 1.02727\n",
      "[497]\tvalid_0's rmse: 1.02723\n",
      "[498]\tvalid_0's rmse: 1.02719\n",
      "[499]\tvalid_0's rmse: 1.02712\n",
      "[500]\tvalid_0's rmse: 1.02704\n",
      "[501]\tvalid_0's rmse: 1.02699\n",
      "[502]\tvalid_0's rmse: 1.02691\n",
      "[503]\tvalid_0's rmse: 1.02688\n",
      "[504]\tvalid_0's rmse: 1.02682\n",
      "[505]\tvalid_0's rmse: 1.02676\n",
      "[506]\tvalid_0's rmse: 1.0267\n",
      "[507]\tvalid_0's rmse: 1.02665\n",
      "[508]\tvalid_0's rmse: 1.02658\n",
      "[509]\tvalid_0's rmse: 1.02652\n",
      "[510]\tvalid_0's rmse: 1.02645\n",
      "[511]\tvalid_0's rmse: 1.02637\n",
      "[512]\tvalid_0's rmse: 1.02631\n",
      "[513]\tvalid_0's rmse: 1.02626\n",
      "[514]\tvalid_0's rmse: 1.02621\n",
      "[515]\tvalid_0's rmse: 1.02616\n",
      "[516]\tvalid_0's rmse: 1.02609\n",
      "[517]\tvalid_0's rmse: 1.02603\n",
      "[518]\tvalid_0's rmse: 1.02595\n",
      "[519]\tvalid_0's rmse: 1.02591\n",
      "[520]\tvalid_0's rmse: 1.02587\n",
      "[521]\tvalid_0's rmse: 1.0258\n",
      "[522]\tvalid_0's rmse: 1.02573\n",
      "[523]\tvalid_0's rmse: 1.02569\n",
      "[524]\tvalid_0's rmse: 1.02562\n",
      "[525]\tvalid_0's rmse: 1.02558\n",
      "[526]\tvalid_0's rmse: 1.02552\n",
      "[527]\tvalid_0's rmse: 1.02547\n",
      "[528]\tvalid_0's rmse: 1.02543\n",
      "[529]\tvalid_0's rmse: 1.02536\n",
      "[530]\tvalid_0's rmse: 1.0253\n",
      "[531]\tvalid_0's rmse: 1.02524\n",
      "[532]\tvalid_0's rmse: 1.02518\n",
      "[533]\tvalid_0's rmse: 1.02512\n",
      "[534]\tvalid_0's rmse: 1.02504\n",
      "[535]\tvalid_0's rmse: 1.02497\n",
      "[536]\tvalid_0's rmse: 1.0249\n",
      "[537]\tvalid_0's rmse: 1.02486\n",
      "[538]\tvalid_0's rmse: 1.02484\n",
      "[539]\tvalid_0's rmse: 1.02479\n",
      "[540]\tvalid_0's rmse: 1.02473\n",
      "[541]\tvalid_0's rmse: 1.02466\n",
      "[542]\tvalid_0's rmse: 1.02461\n",
      "[543]\tvalid_0's rmse: 1.02457\n",
      "[544]\tvalid_0's rmse: 1.0245\n",
      "[545]\tvalid_0's rmse: 1.02445\n",
      "[546]\tvalid_0's rmse: 1.0244\n",
      "[547]\tvalid_0's rmse: 1.02436\n",
      "[548]\tvalid_0's rmse: 1.02429\n",
      "[549]\tvalid_0's rmse: 1.02426\n",
      "[550]\tvalid_0's rmse: 1.02422\n",
      "[551]\tvalid_0's rmse: 1.02415\n"
     ]
    },
    {
     "name": "stdout",
     "output_type": "stream",
     "text": [
      "[552]\tvalid_0's rmse: 1.02409\n",
      "[553]\tvalid_0's rmse: 1.02406\n",
      "[554]\tvalid_0's rmse: 1.02399\n",
      "[555]\tvalid_0's rmse: 1.02393\n",
      "[556]\tvalid_0's rmse: 1.02387\n",
      "[557]\tvalid_0's rmse: 1.02383\n",
      "[558]\tvalid_0's rmse: 1.02377\n",
      "[559]\tvalid_0's rmse: 1.02371\n",
      "[560]\tvalid_0's rmse: 1.02367\n",
      "[561]\tvalid_0's rmse: 1.02363\n",
      "[562]\tvalid_0's rmse: 1.02357\n",
      "[563]\tvalid_0's rmse: 1.02352\n",
      "[564]\tvalid_0's rmse: 1.02349\n",
      "[565]\tvalid_0's rmse: 1.02345\n",
      "[566]\tvalid_0's rmse: 1.02341\n",
      "[567]\tvalid_0's rmse: 1.02337\n",
      "[568]\tvalid_0's rmse: 1.02332\n",
      "[569]\tvalid_0's rmse: 1.02325\n",
      "[570]\tvalid_0's rmse: 1.02319\n",
      "[571]\tvalid_0's rmse: 1.02318\n",
      "[572]\tvalid_0's rmse: 1.02314\n",
      "[573]\tvalid_0's rmse: 1.0231\n",
      "[574]\tvalid_0's rmse: 1.02305\n",
      "[575]\tvalid_0's rmse: 1.02301\n",
      "[576]\tvalid_0's rmse: 1.02295\n",
      "[577]\tvalid_0's rmse: 1.0229\n",
      "[578]\tvalid_0's rmse: 1.02286\n",
      "[579]\tvalid_0's rmse: 1.02281\n",
      "[580]\tvalid_0's rmse: 1.02279\n",
      "[581]\tvalid_0's rmse: 1.02275\n",
      "[582]\tvalid_0's rmse: 1.02272\n",
      "[583]\tvalid_0's rmse: 1.02267\n",
      "[584]\tvalid_0's rmse: 1.02264\n",
      "[585]\tvalid_0's rmse: 1.02261\n",
      "[586]\tvalid_0's rmse: 1.02257\n",
      "[587]\tvalid_0's rmse: 1.02255\n",
      "[588]\tvalid_0's rmse: 1.0225\n",
      "[589]\tvalid_0's rmse: 1.02246\n",
      "[590]\tvalid_0's rmse: 1.02245\n",
      "[591]\tvalid_0's rmse: 1.02239\n",
      "[592]\tvalid_0's rmse: 1.02235\n",
      "[593]\tvalid_0's rmse: 1.02228\n",
      "[594]\tvalid_0's rmse: 1.02223\n",
      "[595]\tvalid_0's rmse: 1.02218\n",
      "[596]\tvalid_0's rmse: 1.02217\n",
      "[597]\tvalid_0's rmse: 1.02213\n",
      "[598]\tvalid_0's rmse: 1.02208\n",
      "[599]\tvalid_0's rmse: 1.02205\n",
      "[600]\tvalid_0's rmse: 1.02199\n",
      "[601]\tvalid_0's rmse: 1.02194\n",
      "[602]\tvalid_0's rmse: 1.02187\n",
      "[603]\tvalid_0's rmse: 1.0218\n",
      "[604]\tvalid_0's rmse: 1.02177\n",
      "[605]\tvalid_0's rmse: 1.02172\n",
      "[606]\tvalid_0's rmse: 1.02167\n",
      "[607]\tvalid_0's rmse: 1.02164\n",
      "[608]\tvalid_0's rmse: 1.02161\n",
      "[609]\tvalid_0's rmse: 1.02159\n",
      "[610]\tvalid_0's rmse: 1.02154\n",
      "[611]\tvalid_0's rmse: 1.0215\n",
      "[612]\tvalid_0's rmse: 1.02147\n",
      "[613]\tvalid_0's rmse: 1.02142\n",
      "[614]\tvalid_0's rmse: 1.02138\n",
      "[615]\tvalid_0's rmse: 1.02134\n",
      "[616]\tvalid_0's rmse: 1.02133\n",
      "[617]\tvalid_0's rmse: 1.02129\n",
      "[618]\tvalid_0's rmse: 1.02126\n",
      "[619]\tvalid_0's rmse: 1.02118\n",
      "[620]\tvalid_0's rmse: 1.02114\n",
      "[621]\tvalid_0's rmse: 1.02111\n",
      "[622]\tvalid_0's rmse: 1.02104\n",
      "[623]\tvalid_0's rmse: 1.02102\n",
      "[624]\tvalid_0's rmse: 1.02099\n",
      "[625]\tvalid_0's rmse: 1.02095\n",
      "[626]\tvalid_0's rmse: 1.02091\n",
      "[627]\tvalid_0's rmse: 1.02091\n",
      "[628]\tvalid_0's rmse: 1.02087\n",
      "[629]\tvalid_0's rmse: 1.02081\n",
      "[630]\tvalid_0's rmse: 1.02077\n",
      "[631]\tvalid_0's rmse: 1.02071\n",
      "[632]\tvalid_0's rmse: 1.02067\n",
      "[633]\tvalid_0's rmse: 1.02063\n",
      "[634]\tvalid_0's rmse: 1.02058\n",
      "[635]\tvalid_0's rmse: 1.02054\n",
      "[636]\tvalid_0's rmse: 1.0205\n",
      "[637]\tvalid_0's rmse: 1.02047\n",
      "[638]\tvalid_0's rmse: 1.02043\n",
      "[639]\tvalid_0's rmse: 1.02039\n",
      "[640]\tvalid_0's rmse: 1.02035\n",
      "[641]\tvalid_0's rmse: 1.02033\n",
      "[642]\tvalid_0's rmse: 1.0203\n",
      "[643]\tvalid_0's rmse: 1.02027\n",
      "[644]\tvalid_0's rmse: 1.02025\n",
      "[645]\tvalid_0's rmse: 1.0202\n",
      "[646]\tvalid_0's rmse: 1.02014\n",
      "[647]\tvalid_0's rmse: 1.02012\n",
      "[648]\tvalid_0's rmse: 1.0201\n",
      "[649]\tvalid_0's rmse: 1.02007\n",
      "[650]\tvalid_0's rmse: 1.02\n",
      "[651]\tvalid_0's rmse: 1.01995\n",
      "[652]\tvalid_0's rmse: 1.01989\n",
      "[653]\tvalid_0's rmse: 1.01984\n",
      "[654]\tvalid_0's rmse: 1.01982\n",
      "[655]\tvalid_0's rmse: 1.01974\n",
      "[656]\tvalid_0's rmse: 1.0197\n",
      "[657]\tvalid_0's rmse: 1.01966\n",
      "[658]\tvalid_0's rmse: 1.01962\n",
      "[659]\tvalid_0's rmse: 1.01957\n",
      "[660]\tvalid_0's rmse: 1.01953\n",
      "[661]\tvalid_0's rmse: 1.0195\n",
      "[662]\tvalid_0's rmse: 1.01945\n",
      "[663]\tvalid_0's rmse: 1.0194\n",
      "[664]\tvalid_0's rmse: 1.01935\n",
      "[665]\tvalid_0's rmse: 1.01933\n",
      "[666]\tvalid_0's rmse: 1.01932\n",
      "[667]\tvalid_0's rmse: 1.01929\n",
      "[668]\tvalid_0's rmse: 1.01926\n",
      "[669]\tvalid_0's rmse: 1.01924\n",
      "[670]\tvalid_0's rmse: 1.01924\n",
      "[671]\tvalid_0's rmse: 1.01919\n",
      "[672]\tvalid_0's rmse: 1.01917\n",
      "[673]\tvalid_0's rmse: 1.01915\n",
      "[674]\tvalid_0's rmse: 1.0191\n",
      "[675]\tvalid_0's rmse: 1.01908\n",
      "[676]\tvalid_0's rmse: 1.01903\n",
      "[677]\tvalid_0's rmse: 1.01901\n",
      "[678]\tvalid_0's rmse: 1.01898\n",
      "[679]\tvalid_0's rmse: 1.01894\n",
      "[680]\tvalid_0's rmse: 1.01892\n",
      "[681]\tvalid_0's rmse: 1.01888\n",
      "[682]\tvalid_0's rmse: 1.01883\n",
      "[683]\tvalid_0's rmse: 1.01883\n",
      "[684]\tvalid_0's rmse: 1.01878\n",
      "[685]\tvalid_0's rmse: 1.01874\n",
      "[686]\tvalid_0's rmse: 1.0187\n",
      "[687]\tvalid_0's rmse: 1.01867\n",
      "[688]\tvalid_0's rmse: 1.01863\n",
      "[689]\tvalid_0's rmse: 1.01862\n",
      "[690]\tvalid_0's rmse: 1.01856\n",
      "[691]\tvalid_0's rmse: 1.01853\n",
      "[692]\tvalid_0's rmse: 1.01851\n",
      "[693]\tvalid_0's rmse: 1.01849\n",
      "[694]\tvalid_0's rmse: 1.01845\n",
      "[695]\tvalid_0's rmse: 1.01842\n",
      "[696]\tvalid_0's rmse: 1.0184\n",
      "[697]\tvalid_0's rmse: 1.01834\n",
      "[698]\tvalid_0's rmse: 1.0183\n",
      "[699]\tvalid_0's rmse: 1.01827\n",
      "[700]\tvalid_0's rmse: 1.01822\n",
      "[701]\tvalid_0's rmse: 1.01819\n",
      "[702]\tvalid_0's rmse: 1.01817\n",
      "[703]\tvalid_0's rmse: 1.01813\n",
      "[704]\tvalid_0's rmse: 1.0181\n",
      "[705]\tvalid_0's rmse: 1.01805\n",
      "[706]\tvalid_0's rmse: 1.01803\n",
      "[707]\tvalid_0's rmse: 1.018\n",
      "[708]\tvalid_0's rmse: 1.01796\n",
      "[709]\tvalid_0's rmse: 1.01791\n",
      "[710]\tvalid_0's rmse: 1.01789\n",
      "[711]\tvalid_0's rmse: 1.01787\n",
      "[712]\tvalid_0's rmse: 1.01783\n",
      "[713]\tvalid_0's rmse: 1.01778\n",
      "[714]\tvalid_0's rmse: 1.01777\n",
      "[715]\tvalid_0's rmse: 1.01774\n",
      "[716]\tvalid_0's rmse: 1.01771\n",
      "[717]\tvalid_0's rmse: 1.01769\n",
      "[718]\tvalid_0's rmse: 1.01765\n",
      "[719]\tvalid_0's rmse: 1.01765\n",
      "[720]\tvalid_0's rmse: 1.01763\n",
      "[721]\tvalid_0's rmse: 1.01759\n",
      "[722]\tvalid_0's rmse: 1.01756\n",
      "[723]\tvalid_0's rmse: 1.01752\n",
      "[724]\tvalid_0's rmse: 1.0175\n",
      "[725]\tvalid_0's rmse: 1.01748\n",
      "[726]\tvalid_0's rmse: 1.01745\n",
      "[727]\tvalid_0's rmse: 1.01743\n",
      "[728]\tvalid_0's rmse: 1.0174\n",
      "[729]\tvalid_0's rmse: 1.01736\n",
      "[730]\tvalid_0's rmse: 1.01733\n",
      "[731]\tvalid_0's rmse: 1.0173\n",
      "[732]\tvalid_0's rmse: 1.01727\n",
      "[733]\tvalid_0's rmse: 1.01724\n",
      "[734]\tvalid_0's rmse: 1.01723\n",
      "[735]\tvalid_0's rmse: 1.01721\n",
      "[736]\tvalid_0's rmse: 1.01718\n",
      "[737]\tvalid_0's rmse: 1.01714\n",
      "[738]\tvalid_0's rmse: 1.01711\n",
      "[739]\tvalid_0's rmse: 1.01705\n",
      "[740]\tvalid_0's rmse: 1.01702\n",
      "[741]\tvalid_0's rmse: 1.01698\n",
      "[742]\tvalid_0's rmse: 1.01694\n",
      "[743]\tvalid_0's rmse: 1.0169\n",
      "[744]\tvalid_0's rmse: 1.01688\n",
      "[745]\tvalid_0's rmse: 1.01686\n",
      "[746]\tvalid_0's rmse: 1.01682\n",
      "[747]\tvalid_0's rmse: 1.01678\n",
      "[748]\tvalid_0's rmse: 1.01674\n",
      "[749]\tvalid_0's rmse: 1.01674\n",
      "[750]\tvalid_0's rmse: 1.01672\n",
      "[751]\tvalid_0's rmse: 1.01669\n",
      "[752]\tvalid_0's rmse: 1.01666\n",
      "[753]\tvalid_0's rmse: 1.01664\n",
      "[754]\tvalid_0's rmse: 1.0166\n",
      "[755]\tvalid_0's rmse: 1.01655\n",
      "[756]\tvalid_0's rmse: 1.01652\n",
      "[757]\tvalid_0's rmse: 1.01651\n",
      "[758]\tvalid_0's rmse: 1.01648\n",
      "[759]\tvalid_0's rmse: 1.01646\n",
      "[760]\tvalid_0's rmse: 1.01646\n",
      "[761]\tvalid_0's rmse: 1.01641\n",
      "[762]\tvalid_0's rmse: 1.01638\n",
      "[763]\tvalid_0's rmse: 1.01636\n",
      "[764]\tvalid_0's rmse: 1.01634\n",
      "[765]\tvalid_0's rmse: 1.01632\n",
      "[766]\tvalid_0's rmse: 1.01629\n",
      "[767]\tvalid_0's rmse: 1.01627\n",
      "[768]\tvalid_0's rmse: 1.01624\n",
      "[769]\tvalid_0's rmse: 1.01621\n",
      "[770]\tvalid_0's rmse: 1.01618\n",
      "[771]\tvalid_0's rmse: 1.01615\n",
      "[772]\tvalid_0's rmse: 1.01615\n",
      "[773]\tvalid_0's rmse: 1.01613\n",
      "[774]\tvalid_0's rmse: 1.01608\n",
      "[775]\tvalid_0's rmse: 1.01604\n",
      "[776]\tvalid_0's rmse: 1.016\n",
      "[777]\tvalid_0's rmse: 1.01598\n",
      "[778]\tvalid_0's rmse: 1.01594\n",
      "[779]\tvalid_0's rmse: 1.01591\n",
      "[780]\tvalid_0's rmse: 1.01592\n",
      "[781]\tvalid_0's rmse: 1.0159\n",
      "[782]\tvalid_0's rmse: 1.01588\n",
      "[783]\tvalid_0's rmse: 1.01585\n",
      "[784]\tvalid_0's rmse: 1.01583\n",
      "[785]\tvalid_0's rmse: 1.01579\n",
      "[786]\tvalid_0's rmse: 1.01578\n",
      "[787]\tvalid_0's rmse: 1.01574\n",
      "[788]\tvalid_0's rmse: 1.01572\n",
      "[789]\tvalid_0's rmse: 1.01566\n",
      "[790]\tvalid_0's rmse: 1.01563\n",
      "[791]\tvalid_0's rmse: 1.01562\n",
      "[792]\tvalid_0's rmse: 1.01559\n",
      "[793]\tvalid_0's rmse: 1.01553\n",
      "[794]\tvalid_0's rmse: 1.0155\n",
      "[795]\tvalid_0's rmse: 1.01549\n",
      "[796]\tvalid_0's rmse: 1.01547\n",
      "[797]\tvalid_0's rmse: 1.01544\n",
      "[798]\tvalid_0's rmse: 1.01541\n",
      "[799]\tvalid_0's rmse: 1.01542\n",
      "[800]\tvalid_0's rmse: 1.01542\n",
      "[801]\tvalid_0's rmse: 1.01539\n",
      "[802]\tvalid_0's rmse: 1.01537\n",
      "[803]\tvalid_0's rmse: 1.01533\n",
      "[804]\tvalid_0's rmse: 1.0153\n",
      "[805]\tvalid_0's rmse: 1.01527\n",
      "[806]\tvalid_0's rmse: 1.01524\n",
      "[807]\tvalid_0's rmse: 1.01524\n",
      "[808]\tvalid_0's rmse: 1.01521\n",
      "[809]\tvalid_0's rmse: 1.01518\n",
      "[810]\tvalid_0's rmse: 1.01515\n",
      "[811]\tvalid_0's rmse: 1.01516\n",
      "[812]\tvalid_0's rmse: 1.01514\n",
      "[813]\tvalid_0's rmse: 1.0151\n",
      "[814]\tvalid_0's rmse: 1.01507\n",
      "[815]\tvalid_0's rmse: 1.01504\n",
      "[816]\tvalid_0's rmse: 1.01501\n",
      "[817]\tvalid_0's rmse: 1.015\n",
      "[818]\tvalid_0's rmse: 1.01498\n",
      "[819]\tvalid_0's rmse: 1.01497\n",
      "[820]\tvalid_0's rmse: 1.01493\n",
      "[821]\tvalid_0's rmse: 1.01492\n",
      "[822]\tvalid_0's rmse: 1.0149\n",
      "[823]\tvalid_0's rmse: 1.01487\n",
      "[824]\tvalid_0's rmse: 1.01483\n",
      "[825]\tvalid_0's rmse: 1.0148\n"
     ]
    },
    {
     "name": "stdout",
     "output_type": "stream",
     "text": [
      "[826]\tvalid_0's rmse: 1.01476\n",
      "[827]\tvalid_0's rmse: 1.01473\n",
      "[828]\tvalid_0's rmse: 1.0147\n",
      "[829]\tvalid_0's rmse: 1.01468\n",
      "[830]\tvalid_0's rmse: 1.01466\n",
      "[831]\tvalid_0's rmse: 1.01466\n",
      "[832]\tvalid_0's rmse: 1.01465\n",
      "[833]\tvalid_0's rmse: 1.01462\n",
      "[834]\tvalid_0's rmse: 1.0146\n",
      "[835]\tvalid_0's rmse: 1.01457\n",
      "[836]\tvalid_0's rmse: 1.01455\n",
      "[837]\tvalid_0's rmse: 1.01454\n",
      "[838]\tvalid_0's rmse: 1.01451\n",
      "[839]\tvalid_0's rmse: 1.0145\n",
      "[840]\tvalid_0's rmse: 1.01447\n",
      "[841]\tvalid_0's rmse: 1.01443\n",
      "[842]\tvalid_0's rmse: 1.0144\n",
      "[843]\tvalid_0's rmse: 1.01441\n",
      "[844]\tvalid_0's rmse: 1.0144\n",
      "[845]\tvalid_0's rmse: 1.01439\n",
      "[846]\tvalid_0's rmse: 1.01437\n",
      "[847]\tvalid_0's rmse: 1.01434\n",
      "[848]\tvalid_0's rmse: 1.01431\n",
      "[849]\tvalid_0's rmse: 1.01431\n",
      "[850]\tvalid_0's rmse: 1.01429\n",
      "[851]\tvalid_0's rmse: 1.01427\n",
      "[852]\tvalid_0's rmse: 1.01426\n",
      "[853]\tvalid_0's rmse: 1.01423\n",
      "[854]\tvalid_0's rmse: 1.01423\n",
      "[855]\tvalid_0's rmse: 1.01423\n",
      "[856]\tvalid_0's rmse: 1.01419\n",
      "[857]\tvalid_0's rmse: 1.01415\n",
      "[858]\tvalid_0's rmse: 1.01412\n",
      "[859]\tvalid_0's rmse: 1.01412\n",
      "[860]\tvalid_0's rmse: 1.01408\n",
      "[861]\tvalid_0's rmse: 1.01406\n",
      "[862]\tvalid_0's rmse: 1.01404\n",
      "[863]\tvalid_0's rmse: 1.01402\n",
      "[864]\tvalid_0's rmse: 1.01401\n",
      "[865]\tvalid_0's rmse: 1.01397\n",
      "[866]\tvalid_0's rmse: 1.01394\n",
      "[867]\tvalid_0's rmse: 1.01393\n",
      "[868]\tvalid_0's rmse: 1.0139\n",
      "[869]\tvalid_0's rmse: 1.01388\n",
      "[870]\tvalid_0's rmse: 1.01388\n",
      "[871]\tvalid_0's rmse: 1.01386\n",
      "[872]\tvalid_0's rmse: 1.01385\n",
      "[873]\tvalid_0's rmse: 1.0138\n",
      "[874]\tvalid_0's rmse: 1.01378\n",
      "[875]\tvalid_0's rmse: 1.01374\n",
      "[876]\tvalid_0's rmse: 1.01372\n",
      "[877]\tvalid_0's rmse: 1.0137\n",
      "[878]\tvalid_0's rmse: 1.01371\n",
      "[879]\tvalid_0's rmse: 1.0137\n",
      "[880]\tvalid_0's rmse: 1.01368\n",
      "[881]\tvalid_0's rmse: 1.01366\n",
      "[882]\tvalid_0's rmse: 1.01363\n",
      "[883]\tvalid_0's rmse: 1.01362\n",
      "[884]\tvalid_0's rmse: 1.01358\n",
      "[885]\tvalid_0's rmse: 1.01356\n",
      "[886]\tvalid_0's rmse: 1.01356\n",
      "[887]\tvalid_0's rmse: 1.01354\n",
      "[888]\tvalid_0's rmse: 1.01349\n",
      "[889]\tvalid_0's rmse: 1.01345\n",
      "[890]\tvalid_0's rmse: 1.01341\n",
      "[891]\tvalid_0's rmse: 1.0134\n",
      "[892]\tvalid_0's rmse: 1.01339\n",
      "[893]\tvalid_0's rmse: 1.01336\n",
      "[894]\tvalid_0's rmse: 1.01334\n",
      "[895]\tvalid_0's rmse: 1.01331\n",
      "[896]\tvalid_0's rmse: 1.01328\n",
      "[897]\tvalid_0's rmse: 1.01328\n",
      "[898]\tvalid_0's rmse: 1.01325\n",
      "[899]\tvalid_0's rmse: 1.01321\n",
      "[900]\tvalid_0's rmse: 1.01318\n",
      "[901]\tvalid_0's rmse: 1.01316\n",
      "[902]\tvalid_0's rmse: 1.01312\n",
      "[903]\tvalid_0's rmse: 1.0131\n",
      "[904]\tvalid_0's rmse: 1.01311\n",
      "[905]\tvalid_0's rmse: 1.01308\n",
      "[906]\tvalid_0's rmse: 1.01306\n",
      "[907]\tvalid_0's rmse: 1.01304\n",
      "[908]\tvalid_0's rmse: 1.01299\n",
      "[909]\tvalid_0's rmse: 1.01296\n",
      "[910]\tvalid_0's rmse: 1.01293\n",
      "[911]\tvalid_0's rmse: 1.0129\n",
      "[912]\tvalid_0's rmse: 1.01291\n",
      "[913]\tvalid_0's rmse: 1.01289\n",
      "[914]\tvalid_0's rmse: 1.01287\n",
      "[915]\tvalid_0's rmse: 1.01286\n",
      "[916]\tvalid_0's rmse: 1.01284\n",
      "[917]\tvalid_0's rmse: 1.0128\n",
      "[918]\tvalid_0's rmse: 1.01279\n",
      "[919]\tvalid_0's rmse: 1.01277\n",
      "[920]\tvalid_0's rmse: 1.01276\n",
      "[921]\tvalid_0's rmse: 1.01273\n",
      "[922]\tvalid_0's rmse: 1.0127\n",
      "[923]\tvalid_0's rmse: 1.01268\n",
      "[924]\tvalid_0's rmse: 1.01268\n",
      "[925]\tvalid_0's rmse: 1.01266\n",
      "[926]\tvalid_0's rmse: 1.01263\n",
      "[927]\tvalid_0's rmse: 1.01261\n",
      "[928]\tvalid_0's rmse: 1.0126\n",
      "[929]\tvalid_0's rmse: 1.01257\n",
      "[930]\tvalid_0's rmse: 1.01254\n",
      "[931]\tvalid_0's rmse: 1.01252\n",
      "[932]\tvalid_0's rmse: 1.01248\n",
      "[933]\tvalid_0's rmse: 1.01245\n",
      "[934]\tvalid_0's rmse: 1.01242\n",
      "[935]\tvalid_0's rmse: 1.01239\n",
      "[936]\tvalid_0's rmse: 1.01238\n",
      "[937]\tvalid_0's rmse: 1.01236\n",
      "[938]\tvalid_0's rmse: 1.01233\n",
      "[939]\tvalid_0's rmse: 1.01232\n",
      "[940]\tvalid_0's rmse: 1.01232\n",
      "[941]\tvalid_0's rmse: 1.01229\n",
      "[942]\tvalid_0's rmse: 1.01228\n",
      "[943]\tvalid_0's rmse: 1.01228\n",
      "[944]\tvalid_0's rmse: 1.01225\n",
      "[945]\tvalid_0's rmse: 1.01224\n",
      "[946]\tvalid_0's rmse: 1.01221\n",
      "[947]\tvalid_0's rmse: 1.01217\n",
      "[948]\tvalid_0's rmse: 1.01214\n",
      "[949]\tvalid_0's rmse: 1.01213\n",
      "[950]\tvalid_0's rmse: 1.01212\n",
      "[951]\tvalid_0's rmse: 1.0121\n",
      "[952]\tvalid_0's rmse: 1.01209\n",
      "[953]\tvalid_0's rmse: 1.01207\n",
      "[954]\tvalid_0's rmse: 1.01205\n",
      "[955]\tvalid_0's rmse: 1.01203\n",
      "[956]\tvalid_0's rmse: 1.01202\n",
      "[957]\tvalid_0's rmse: 1.01202\n",
      "[958]\tvalid_0's rmse: 1.01203\n",
      "[959]\tvalid_0's rmse: 1.012\n",
      "[960]\tvalid_0's rmse: 1.01197\n",
      "[961]\tvalid_0's rmse: 1.01194\n",
      "[962]\tvalid_0's rmse: 1.01191\n",
      "[963]\tvalid_0's rmse: 1.01189\n",
      "[964]\tvalid_0's rmse: 1.01187\n",
      "[965]\tvalid_0's rmse: 1.01185\n",
      "[966]\tvalid_0's rmse: 1.01184\n",
      "[967]\tvalid_0's rmse: 1.01182\n",
      "[968]\tvalid_0's rmse: 1.0118\n",
      "[969]\tvalid_0's rmse: 1.01177\n",
      "[970]\tvalid_0's rmse: 1.01175\n",
      "[971]\tvalid_0's rmse: 1.01174\n",
      "[972]\tvalid_0's rmse: 1.01169\n",
      "[973]\tvalid_0's rmse: 1.01169\n",
      "[974]\tvalid_0's rmse: 1.01168\n",
      "[975]\tvalid_0's rmse: 1.01164\n",
      "[976]\tvalid_0's rmse: 1.01163\n",
      "[977]\tvalid_0's rmse: 1.01162\n",
      "[978]\tvalid_0's rmse: 1.01162\n",
      "[979]\tvalid_0's rmse: 1.0116\n",
      "[980]\tvalid_0's rmse: 1.01159\n",
      "[981]\tvalid_0's rmse: 1.01159\n",
      "[982]\tvalid_0's rmse: 1.01158\n",
      "[983]\tvalid_0's rmse: 1.01156\n",
      "[984]\tvalid_0's rmse: 1.01154\n",
      "[985]\tvalid_0's rmse: 1.01151\n",
      "[986]\tvalid_0's rmse: 1.0115\n",
      "[987]\tvalid_0's rmse: 1.01147\n",
      "[988]\tvalid_0's rmse: 1.01145\n",
      "[989]\tvalid_0's rmse: 1.01143\n",
      "[990]\tvalid_0's rmse: 1.01143\n",
      "[991]\tvalid_0's rmse: 1.01139\n",
      "[992]\tvalid_0's rmse: 1.01135\n",
      "[993]\tvalid_0's rmse: 1.01134\n",
      "[994]\tvalid_0's rmse: 1.01132\n",
      "[995]\tvalid_0's rmse: 1.01129\n",
      "[996]\tvalid_0's rmse: 1.01128\n",
      "[997]\tvalid_0's rmse: 1.01129\n",
      "[998]\tvalid_0's rmse: 1.01128\n",
      "[999]\tvalid_0's rmse: 1.01129\n",
      "[1000]\tvalid_0's rmse: 1.01126\n",
      "[1001]\tvalid_0's rmse: 1.01125\n",
      "[1002]\tvalid_0's rmse: 1.01123\n",
      "[1003]\tvalid_0's rmse: 1.01122\n",
      "[1004]\tvalid_0's rmse: 1.01119\n",
      "[1005]\tvalid_0's rmse: 1.01119\n",
      "[1006]\tvalid_0's rmse: 1.01115\n",
      "[1007]\tvalid_0's rmse: 1.01114\n",
      "[1008]\tvalid_0's rmse: 1.01111\n",
      "[1009]\tvalid_0's rmse: 1.01107\n",
      "[1010]\tvalid_0's rmse: 1.01104\n",
      "[1011]\tvalid_0's rmse: 1.01101\n",
      "[1012]\tvalid_0's rmse: 1.01098\n",
      "[1013]\tvalid_0's rmse: 1.01097\n",
      "[1014]\tvalid_0's rmse: 1.01096\n",
      "[1015]\tvalid_0's rmse: 1.01093\n",
      "[1016]\tvalid_0's rmse: 1.01093\n",
      "[1017]\tvalid_0's rmse: 1.01092\n",
      "[1018]\tvalid_0's rmse: 1.01091\n",
      "[1019]\tvalid_0's rmse: 1.01089\n",
      "[1020]\tvalid_0's rmse: 1.01088\n",
      "[1021]\tvalid_0's rmse: 1.01087\n",
      "[1022]\tvalid_0's rmse: 1.01086\n",
      "[1023]\tvalid_0's rmse: 1.01085\n",
      "[1024]\tvalid_0's rmse: 1.01082\n",
      "[1025]\tvalid_0's rmse: 1.01081\n",
      "[1026]\tvalid_0's rmse: 1.01077\n",
      "[1027]\tvalid_0's rmse: 1.01074\n",
      "[1028]\tvalid_0's rmse: 1.01073\n",
      "[1029]\tvalid_0's rmse: 1.01071\n",
      "[1030]\tvalid_0's rmse: 1.01071\n",
      "[1031]\tvalid_0's rmse: 1.01068\n",
      "[1032]\tvalid_0's rmse: 1.01066\n",
      "[1033]\tvalid_0's rmse: 1.01066\n",
      "[1034]\tvalid_0's rmse: 1.01064\n",
      "[1035]\tvalid_0's rmse: 1.01061\n",
      "[1036]\tvalid_0's rmse: 1.01059\n",
      "[1037]\tvalid_0's rmse: 1.01057\n",
      "[1038]\tvalid_0's rmse: 1.01057\n",
      "[1039]\tvalid_0's rmse: 1.01054\n",
      "[1040]\tvalid_0's rmse: 1.01054\n",
      "[1041]\tvalid_0's rmse: 1.01052\n",
      "[1042]\tvalid_0's rmse: 1.01051\n",
      "[1043]\tvalid_0's rmse: 1.01049\n",
      "[1044]\tvalid_0's rmse: 1.01046\n",
      "[1045]\tvalid_0's rmse: 1.01044\n",
      "[1046]\tvalid_0's rmse: 1.01043\n",
      "[1047]\tvalid_0's rmse: 1.01043\n",
      "[1048]\tvalid_0's rmse: 1.01042\n",
      "[1049]\tvalid_0's rmse: 1.01041\n",
      "[1050]\tvalid_0's rmse: 1.0104\n",
      "[1051]\tvalid_0's rmse: 1.01038\n",
      "[1052]\tvalid_0's rmse: 1.01034\n",
      "[1053]\tvalid_0's rmse: 1.01033\n",
      "[1054]\tvalid_0's rmse: 1.01034\n",
      "[1055]\tvalid_0's rmse: 1.01033\n",
      "[1056]\tvalid_0's rmse: 1.01031\n",
      "[1057]\tvalid_0's rmse: 1.01029\n",
      "[1058]\tvalid_0's rmse: 1.01028\n",
      "[1059]\tvalid_0's rmse: 1.01027\n",
      "[1060]\tvalid_0's rmse: 1.01026\n",
      "[1061]\tvalid_0's rmse: 1.01026\n",
      "[1062]\tvalid_0's rmse: 1.01024\n",
      "[1063]\tvalid_0's rmse: 1.01023\n",
      "[1064]\tvalid_0's rmse: 1.0102\n",
      "[1065]\tvalid_0's rmse: 1.01021\n",
      "[1066]\tvalid_0's rmse: 1.01019\n",
      "[1067]\tvalid_0's rmse: 1.01017\n",
      "[1068]\tvalid_0's rmse: 1.01015\n",
      "[1069]\tvalid_0's rmse: 1.01013\n",
      "[1070]\tvalid_0's rmse: 1.01011\n",
      "[1071]\tvalid_0's rmse: 1.01011\n",
      "[1072]\tvalid_0's rmse: 1.0101\n",
      "[1073]\tvalid_0's rmse: 1.01005\n",
      "[1074]\tvalid_0's rmse: 1.01003\n",
      "[1075]\tvalid_0's rmse: 1.01002\n",
      "[1076]\tvalid_0's rmse: 1.01\n",
      "[1077]\tvalid_0's rmse: 1.00997\n",
      "[1078]\tvalid_0's rmse: 1.00998\n",
      "[1079]\tvalid_0's rmse: 1.00996\n",
      "[1080]\tvalid_0's rmse: 1.00995\n",
      "[1081]\tvalid_0's rmse: 1.00992\n",
      "[1082]\tvalid_0's rmse: 1.00989\n",
      "[1083]\tvalid_0's rmse: 1.00987\n",
      "[1084]\tvalid_0's rmse: 1.00987\n",
      "[1085]\tvalid_0's rmse: 1.00985\n",
      "[1086]\tvalid_0's rmse: 1.00982\n",
      "[1087]\tvalid_0's rmse: 1.00981\n",
      "[1088]\tvalid_0's rmse: 1.00979\n",
      "[1089]\tvalid_0's rmse: 1.00976\n",
      "[1090]\tvalid_0's rmse: 1.00976\n",
      "[1091]\tvalid_0's rmse: 1.00977\n",
      "[1092]\tvalid_0's rmse: 1.00978\n",
      "[1093]\tvalid_0's rmse: 1.00975\n",
      "[1094]\tvalid_0's rmse: 1.00973\n",
      "[1095]\tvalid_0's rmse: 1.00971\n"
     ]
    },
    {
     "name": "stdout",
     "output_type": "stream",
     "text": [
      "[1096]\tvalid_0's rmse: 1.0097\n",
      "[1097]\tvalid_0's rmse: 1.00969\n",
      "[1098]\tvalid_0's rmse: 1.00968\n",
      "[1099]\tvalid_0's rmse: 1.00964\n",
      "[1100]\tvalid_0's rmse: 1.00962\n",
      "[1101]\tvalid_0's rmse: 1.0096\n",
      "[1102]\tvalid_0's rmse: 1.0096\n",
      "[1103]\tvalid_0's rmse: 1.00958\n",
      "[1104]\tvalid_0's rmse: 1.00955\n",
      "[1105]\tvalid_0's rmse: 1.00952\n",
      "[1106]\tvalid_0's rmse: 1.00951\n",
      "[1107]\tvalid_0's rmse: 1.00951\n",
      "[1108]\tvalid_0's rmse: 1.00949\n",
      "[1109]\tvalid_0's rmse: 1.00947\n",
      "[1110]\tvalid_0's rmse: 1.00945\n",
      "[1111]\tvalid_0's rmse: 1.00944\n",
      "[1112]\tvalid_0's rmse: 1.00942\n",
      "[1113]\tvalid_0's rmse: 1.0094\n",
      "[1114]\tvalid_0's rmse: 1.00939\n",
      "[1115]\tvalid_0's rmse: 1.00937\n",
      "[1116]\tvalid_0's rmse: 1.00935\n",
      "[1117]\tvalid_0's rmse: 1.00933\n",
      "[1118]\tvalid_0's rmse: 1.00931\n",
      "[1119]\tvalid_0's rmse: 1.0093\n",
      "[1120]\tvalid_0's rmse: 1.00926\n",
      "[1121]\tvalid_0's rmse: 1.00925\n",
      "[1122]\tvalid_0's rmse: 1.00924\n",
      "[1123]\tvalid_0's rmse: 1.00923\n",
      "[1124]\tvalid_0's rmse: 1.00923\n",
      "[1125]\tvalid_0's rmse: 1.00924\n",
      "[1126]\tvalid_0's rmse: 1.00922\n",
      "[1127]\tvalid_0's rmse: 1.00921\n",
      "[1128]\tvalid_0's rmse: 1.00917\n",
      "[1129]\tvalid_0's rmse: 1.00914\n",
      "[1130]\tvalid_0's rmse: 1.00912\n",
      "[1131]\tvalid_0's rmse: 1.00911\n",
      "[1132]\tvalid_0's rmse: 1.00911\n",
      "[1133]\tvalid_0's rmse: 1.0091\n",
      "[1134]\tvalid_0's rmse: 1.00908\n",
      "[1135]\tvalid_0's rmse: 1.00907\n",
      "[1136]\tvalid_0's rmse: 1.00904\n",
      "[1137]\tvalid_0's rmse: 1.00903\n",
      "[1138]\tvalid_0's rmse: 1.00901\n",
      "[1139]\tvalid_0's rmse: 1.00899\n",
      "[1140]\tvalid_0's rmse: 1.00901\n",
      "[1141]\tvalid_0's rmse: 1.00898\n",
      "[1142]\tvalid_0's rmse: 1.00896\n",
      "[1143]\tvalid_0's rmse: 1.00895\n",
      "[1144]\tvalid_0's rmse: 1.00895\n",
      "[1145]\tvalid_0's rmse: 1.00895\n",
      "[1146]\tvalid_0's rmse: 1.00893\n",
      "[1147]\tvalid_0's rmse: 1.00891\n",
      "[1148]\tvalid_0's rmse: 1.00888\n",
      "[1149]\tvalid_0's rmse: 1.00887\n",
      "[1150]\tvalid_0's rmse: 1.00886\n",
      "[1151]\tvalid_0's rmse: 1.00885\n",
      "[1152]\tvalid_0's rmse: 1.00883\n",
      "[1153]\tvalid_0's rmse: 1.00881\n",
      "[1154]\tvalid_0's rmse: 1.00881\n",
      "[1155]\tvalid_0's rmse: 1.00881\n",
      "[1156]\tvalid_0's rmse: 1.0088\n",
      "[1157]\tvalid_0's rmse: 1.00879\n",
      "[1158]\tvalid_0's rmse: 1.00878\n",
      "[1159]\tvalid_0's rmse: 1.00877\n",
      "[1160]\tvalid_0's rmse: 1.00875\n",
      "[1161]\tvalid_0's rmse: 1.00873\n",
      "[1162]\tvalid_0's rmse: 1.0087\n",
      "[1163]\tvalid_0's rmse: 1.00869\n",
      "[1164]\tvalid_0's rmse: 1.0087\n",
      "[1165]\tvalid_0's rmse: 1.00868\n",
      "[1166]\tvalid_0's rmse: 1.00867\n",
      "[1167]\tvalid_0's rmse: 1.00867\n",
      "[1168]\tvalid_0's rmse: 1.00864\n",
      "[1169]\tvalid_0's rmse: 1.00862\n",
      "[1170]\tvalid_0's rmse: 1.0086\n",
      "[1171]\tvalid_0's rmse: 1.00858\n",
      "[1172]\tvalid_0's rmse: 1.00856\n",
      "[1173]\tvalid_0's rmse: 1.00856\n",
      "[1174]\tvalid_0's rmse: 1.00851\n",
      "[1175]\tvalid_0's rmse: 1.00848\n",
      "[1176]\tvalid_0's rmse: 1.00847\n",
      "[1177]\tvalid_0's rmse: 1.00847\n",
      "[1178]\tvalid_0's rmse: 1.00847\n",
      "[1179]\tvalid_0's rmse: 1.00846\n",
      "[1180]\tvalid_0's rmse: 1.00844\n",
      "[1181]\tvalid_0's rmse: 1.00842\n",
      "[1182]\tvalid_0's rmse: 1.00843\n",
      "[1183]\tvalid_0's rmse: 1.0084\n",
      "[1184]\tvalid_0's rmse: 1.00841\n",
      "[1185]\tvalid_0's rmse: 1.00841\n",
      "[1186]\tvalid_0's rmse: 1.0084\n",
      "[1187]\tvalid_0's rmse: 1.00838\n",
      "[1188]\tvalid_0's rmse: 1.00837\n",
      "[1189]\tvalid_0's rmse: 1.00835\n",
      "[1190]\tvalid_0's rmse: 1.00834\n",
      "[1191]\tvalid_0's rmse: 1.00832\n",
      "[1192]\tvalid_0's rmse: 1.00831\n",
      "[1193]\tvalid_0's rmse: 1.00829\n",
      "[1194]\tvalid_0's rmse: 1.00826\n",
      "[1195]\tvalid_0's rmse: 1.00823\n",
      "[1196]\tvalid_0's rmse: 1.00821\n",
      "[1197]\tvalid_0's rmse: 1.0082\n",
      "[1198]\tvalid_0's rmse: 1.00819\n",
      "[1199]\tvalid_0's rmse: 1.00816\n",
      "[1200]\tvalid_0's rmse: 1.00816\n",
      "[1201]\tvalid_0's rmse: 1.00816\n",
      "[1202]\tvalid_0's rmse: 1.00813\n",
      "[1203]\tvalid_0's rmse: 1.00813\n",
      "[1204]\tvalid_0's rmse: 1.00812\n",
      "[1205]\tvalid_0's rmse: 1.00811\n",
      "[1206]\tvalid_0's rmse: 1.0081\n",
      "[1207]\tvalid_0's rmse: 1.00807\n",
      "[1208]\tvalid_0's rmse: 1.00805\n",
      "[1209]\tvalid_0's rmse: 1.00803\n",
      "[1210]\tvalid_0's rmse: 1.008\n",
      "[1211]\tvalid_0's rmse: 1.00799\n",
      "[1212]\tvalid_0's rmse: 1.00797\n",
      "[1213]\tvalid_0's rmse: 1.00795\n",
      "[1214]\tvalid_0's rmse: 1.00792\n",
      "[1215]\tvalid_0's rmse: 1.00789\n",
      "[1216]\tvalid_0's rmse: 1.00789\n",
      "[1217]\tvalid_0's rmse: 1.00789\n",
      "[1218]\tvalid_0's rmse: 1.00785\n",
      "[1219]\tvalid_0's rmse: 1.00783\n",
      "[1220]\tvalid_0's rmse: 1.00782\n",
      "[1221]\tvalid_0's rmse: 1.00782\n",
      "[1222]\tvalid_0's rmse: 1.00781\n",
      "[1223]\tvalid_0's rmse: 1.0078\n",
      "[1224]\tvalid_0's rmse: 1.00779\n",
      "[1225]\tvalid_0's rmse: 1.00779\n",
      "[1226]\tvalid_0's rmse: 1.00777\n",
      "[1227]\tvalid_0's rmse: 1.00776\n",
      "[1228]\tvalid_0's rmse: 1.00775\n",
      "[1229]\tvalid_0's rmse: 1.00774\n",
      "[1230]\tvalid_0's rmse: 1.00772\n",
      "[1231]\tvalid_0's rmse: 1.0077\n",
      "[1232]\tvalid_0's rmse: 1.0077\n",
      "[1233]\tvalid_0's rmse: 1.00768\n",
      "[1234]\tvalid_0's rmse: 1.00764\n",
      "[1235]\tvalid_0's rmse: 1.00763\n",
      "[1236]\tvalid_0's rmse: 1.00763\n",
      "[1237]\tvalid_0's rmse: 1.00761\n",
      "[1238]\tvalid_0's rmse: 1.00759\n",
      "[1239]\tvalid_0's rmse: 1.00757\n",
      "[1240]\tvalid_0's rmse: 1.00758\n",
      "[1241]\tvalid_0's rmse: 1.00755\n",
      "[1242]\tvalid_0's rmse: 1.00754\n",
      "[1243]\tvalid_0's rmse: 1.00753\n",
      "[1244]\tvalid_0's rmse: 1.00749\n",
      "[1245]\tvalid_0's rmse: 1.00746\n",
      "[1246]\tvalid_0's rmse: 1.00744\n",
      "[1247]\tvalid_0's rmse: 1.00743\n",
      "[1248]\tvalid_0's rmse: 1.00743\n",
      "[1249]\tvalid_0's rmse: 1.00741\n",
      "[1250]\tvalid_0's rmse: 1.00741\n",
      "[1251]\tvalid_0's rmse: 1.00739\n",
      "[1252]\tvalid_0's rmse: 1.00736\n",
      "[1253]\tvalid_0's rmse: 1.00737\n",
      "[1254]\tvalid_0's rmse: 1.00735\n",
      "[1255]\tvalid_0's rmse: 1.00733\n",
      "[1256]\tvalid_0's rmse: 1.00732\n",
      "[1257]\tvalid_0's rmse: 1.00731\n",
      "[1258]\tvalid_0's rmse: 1.00729\n",
      "[1259]\tvalid_0's rmse: 1.00729\n",
      "[1260]\tvalid_0's rmse: 1.00726\n",
      "[1261]\tvalid_0's rmse: 1.00726\n",
      "[1262]\tvalid_0's rmse: 1.00724\n",
      "[1263]\tvalid_0's rmse: 1.00721\n",
      "[1264]\tvalid_0's rmse: 1.00721\n",
      "[1265]\tvalid_0's rmse: 1.00718\n",
      "[1266]\tvalid_0's rmse: 1.00718\n",
      "[1267]\tvalid_0's rmse: 1.00717\n",
      "[1268]\tvalid_0's rmse: 1.00715\n",
      "[1269]\tvalid_0's rmse: 1.00713\n",
      "[1270]\tvalid_0's rmse: 1.00711\n",
      "[1271]\tvalid_0's rmse: 1.00711\n",
      "[1272]\tvalid_0's rmse: 1.0071\n",
      "[1273]\tvalid_0's rmse: 1.00709\n",
      "[1274]\tvalid_0's rmse: 1.00708\n",
      "[1275]\tvalid_0's rmse: 1.00706\n",
      "[1276]\tvalid_0's rmse: 1.00703\n",
      "[1277]\tvalid_0's rmse: 1.007\n",
      "[1278]\tvalid_0's rmse: 1.00697\n",
      "[1279]\tvalid_0's rmse: 1.00694\n",
      "[1280]\tvalid_0's rmse: 1.00695\n",
      "[1281]\tvalid_0's rmse: 1.00696\n",
      "[1282]\tvalid_0's rmse: 1.00695\n",
      "[1283]\tvalid_0's rmse: 1.00692\n",
      "[1284]\tvalid_0's rmse: 1.0069\n",
      "[1285]\tvalid_0's rmse: 1.00689\n",
      "[1286]\tvalid_0's rmse: 1.00689\n",
      "[1287]\tvalid_0's rmse: 1.00685\n",
      "[1288]\tvalid_0's rmse: 1.00684\n",
      "[1289]\tvalid_0's rmse: 1.00684\n",
      "[1290]\tvalid_0's rmse: 1.00684\n",
      "[1291]\tvalid_0's rmse: 1.00684\n",
      "[1292]\tvalid_0's rmse: 1.00684\n",
      "[1293]\tvalid_0's rmse: 1.00683\n",
      "[1294]\tvalid_0's rmse: 1.00681\n",
      "[1295]\tvalid_0's rmse: 1.0068\n",
      "[1296]\tvalid_0's rmse: 1.0068\n",
      "[1297]\tvalid_0's rmse: 1.00679\n",
      "[1298]\tvalid_0's rmse: 1.0068\n",
      "[1299]\tvalid_0's rmse: 1.00679\n",
      "[1300]\tvalid_0's rmse: 1.00678\n",
      "[1301]\tvalid_0's rmse: 1.00677\n",
      "[1302]\tvalid_0's rmse: 1.00676\n",
      "[1303]\tvalid_0's rmse: 1.00674\n",
      "[1304]\tvalid_0's rmse: 1.00672\n",
      "[1305]\tvalid_0's rmse: 1.00672\n",
      "[1306]\tvalid_0's rmse: 1.0067\n",
      "[1307]\tvalid_0's rmse: 1.0067\n",
      "[1308]\tvalid_0's rmse: 1.00668\n",
      "[1309]\tvalid_0's rmse: 1.00667\n",
      "[1310]\tvalid_0's rmse: 1.00665\n",
      "[1311]\tvalid_0's rmse: 1.00664\n",
      "[1312]\tvalid_0's rmse: 1.00663\n",
      "[1313]\tvalid_0's rmse: 1.00662\n",
      "[1314]\tvalid_0's rmse: 1.00662\n",
      "[1315]\tvalid_0's rmse: 1.0066\n",
      "[1316]\tvalid_0's rmse: 1.00658\n",
      "[1317]\tvalid_0's rmse: 1.00657\n",
      "[1318]\tvalid_0's rmse: 1.00655\n",
      "[1319]\tvalid_0's rmse: 1.00653\n",
      "[1320]\tvalid_0's rmse: 1.00649\n",
      "[1321]\tvalid_0's rmse: 1.00647\n",
      "[1322]\tvalid_0's rmse: 1.00648\n",
      "[1323]\tvalid_0's rmse: 1.00645\n",
      "[1324]\tvalid_0's rmse: 1.00646\n",
      "[1325]\tvalid_0's rmse: 1.00645\n",
      "[1326]\tvalid_0's rmse: 1.00644\n",
      "[1327]\tvalid_0's rmse: 1.00644\n",
      "[1328]\tvalid_0's rmse: 1.00643\n",
      "[1329]\tvalid_0's rmse: 1.0064\n",
      "[1330]\tvalid_0's rmse: 1.00641\n",
      "[1331]\tvalid_0's rmse: 1.00641\n",
      "[1332]\tvalid_0's rmse: 1.00641\n",
      "[1333]\tvalid_0's rmse: 1.0064\n",
      "[1334]\tvalid_0's rmse: 1.00638\n",
      "[1335]\tvalid_0's rmse: 1.00638\n",
      "[1336]\tvalid_0's rmse: 1.00636\n",
      "[1337]\tvalid_0's rmse: 1.00636\n",
      "[1338]\tvalid_0's rmse: 1.00636\n",
      "[1339]\tvalid_0's rmse: 1.00634\n",
      "[1340]\tvalid_0's rmse: 1.00632\n",
      "[1341]\tvalid_0's rmse: 1.00632\n",
      "[1342]\tvalid_0's rmse: 1.0063\n",
      "[1343]\tvalid_0's rmse: 1.0063\n",
      "[1344]\tvalid_0's rmse: 1.00627\n",
      "[1345]\tvalid_0's rmse: 1.00626\n",
      "[1346]\tvalid_0's rmse: 1.00627\n",
      "[1347]\tvalid_0's rmse: 1.00624\n",
      "[1348]\tvalid_0's rmse: 1.00624\n",
      "[1349]\tvalid_0's rmse: 1.00623\n",
      "[1350]\tvalid_0's rmse: 1.00623\n",
      "[1351]\tvalid_0's rmse: 1.00623\n",
      "[1352]\tvalid_0's rmse: 1.00621\n",
      "[1353]\tvalid_0's rmse: 1.00621\n",
      "[1354]\tvalid_0's rmse: 1.00621\n",
      "[1355]\tvalid_0's rmse: 1.0062\n",
      "[1356]\tvalid_0's rmse: 1.00621\n",
      "[1357]\tvalid_0's rmse: 1.0062\n",
      "[1358]\tvalid_0's rmse: 1.00618\n",
      "[1359]\tvalid_0's rmse: 1.00617\n",
      "[1360]\tvalid_0's rmse: 1.00616\n"
     ]
    },
    {
     "name": "stdout",
     "output_type": "stream",
     "text": [
      "[1361]\tvalid_0's rmse: 1.00615\n",
      "[1362]\tvalid_0's rmse: 1.00614\n",
      "[1363]\tvalid_0's rmse: 1.00613\n",
      "[1364]\tvalid_0's rmse: 1.00613\n",
      "[1365]\tvalid_0's rmse: 1.00612\n",
      "[1366]\tvalid_0's rmse: 1.0061\n",
      "[1367]\tvalid_0's rmse: 1.00611\n",
      "[1368]\tvalid_0's rmse: 1.00612\n",
      "[1369]\tvalid_0's rmse: 1.0061\n",
      "[1370]\tvalid_0's rmse: 1.00607\n",
      "[1371]\tvalid_0's rmse: 1.00607\n",
      "[1372]\tvalid_0's rmse: 1.00606\n",
      "[1373]\tvalid_0's rmse: 1.00605\n",
      "[1374]\tvalid_0's rmse: 1.00604\n",
      "[1375]\tvalid_0's rmse: 1.00603\n",
      "[1376]\tvalid_0's rmse: 1.00603\n",
      "[1377]\tvalid_0's rmse: 1.006\n",
      "[1378]\tvalid_0's rmse: 1.00599\n",
      "[1379]\tvalid_0's rmse: 1.00597\n",
      "[1380]\tvalid_0's rmse: 1.00597\n",
      "[1381]\tvalid_0's rmse: 1.00597\n",
      "[1382]\tvalid_0's rmse: 1.00594\n",
      "[1383]\tvalid_0's rmse: 1.00593\n",
      "[1384]\tvalid_0's rmse: 1.00592\n",
      "[1385]\tvalid_0's rmse: 1.0059\n",
      "[1386]\tvalid_0's rmse: 1.0059\n",
      "[1387]\tvalid_0's rmse: 1.00588\n",
      "[1388]\tvalid_0's rmse: 1.00587\n",
      "[1389]\tvalid_0's rmse: 1.00586\n",
      "[1390]\tvalid_0's rmse: 1.00585\n",
      "[1391]\tvalid_0's rmse: 1.00585\n",
      "[1392]\tvalid_0's rmse: 1.00585\n",
      "[1393]\tvalid_0's rmse: 1.00585\n",
      "[1394]\tvalid_0's rmse: 1.00585\n",
      "[1395]\tvalid_0's rmse: 1.00586\n",
      "[1396]\tvalid_0's rmse: 1.00584\n",
      "[1397]\tvalid_0's rmse: 1.00583\n",
      "[1398]\tvalid_0's rmse: 1.00581\n",
      "[1399]\tvalid_0's rmse: 1.00581\n",
      "[1400]\tvalid_0's rmse: 1.00581\n",
      "[1401]\tvalid_0's rmse: 1.00581\n",
      "[1402]\tvalid_0's rmse: 1.0058\n",
      "[1403]\tvalid_0's rmse: 1.00579\n",
      "[1404]\tvalid_0's rmse: 1.00577\n",
      "[1405]\tvalid_0's rmse: 1.00576\n",
      "[1406]\tvalid_0's rmse: 1.00576\n",
      "[1407]\tvalid_0's rmse: 1.00574\n",
      "[1408]\tvalid_0's rmse: 1.00571\n",
      "[1409]\tvalid_0's rmse: 1.00569\n",
      "[1410]\tvalid_0's rmse: 1.00568\n",
      "[1411]\tvalid_0's rmse: 1.00567\n",
      "[1412]\tvalid_0's rmse: 1.00566\n",
      "[1413]\tvalid_0's rmse: 1.00566\n",
      "[1414]\tvalid_0's rmse: 1.00565\n",
      "[1415]\tvalid_0's rmse: 1.00565\n",
      "[1416]\tvalid_0's rmse: 1.00564\n",
      "[1417]\tvalid_0's rmse: 1.00565\n",
      "[1418]\tvalid_0's rmse: 1.00564\n",
      "[1419]\tvalid_0's rmse: 1.00564\n",
      "[1420]\tvalid_0's rmse: 1.00565\n",
      "[1421]\tvalid_0's rmse: 1.00562\n",
      "[1422]\tvalid_0's rmse: 1.00561\n",
      "[1423]\tvalid_0's rmse: 1.0056\n",
      "[1424]\tvalid_0's rmse: 1.00559\n",
      "[1425]\tvalid_0's rmse: 1.00557\n",
      "[1426]\tvalid_0's rmse: 1.00556\n",
      "[1427]\tvalid_0's rmse: 1.00556\n",
      "[1428]\tvalid_0's rmse: 1.00555\n",
      "[1429]\tvalid_0's rmse: 1.00555\n",
      "[1430]\tvalid_0's rmse: 1.00556\n",
      "[1431]\tvalid_0's rmse: 1.00555\n",
      "[1432]\tvalid_0's rmse: 1.00557\n",
      "[1433]\tvalid_0's rmse: 1.00556\n",
      "[1434]\tvalid_0's rmse: 1.00556\n",
      "[1435]\tvalid_0's rmse: 1.00555\n",
      "[1436]\tvalid_0's rmse: 1.00554\n",
      "[1437]\tvalid_0's rmse: 1.00551\n",
      "[1438]\tvalid_0's rmse: 1.0055\n",
      "[1439]\tvalid_0's rmse: 1.0055\n",
      "[1440]\tvalid_0's rmse: 1.0055\n",
      "[1441]\tvalid_0's rmse: 1.00549\n",
      "[1442]\tvalid_0's rmse: 1.00548\n",
      "[1443]\tvalid_0's rmse: 1.00548\n",
      "[1444]\tvalid_0's rmse: 1.00547\n",
      "[1445]\tvalid_0's rmse: 1.00546\n",
      "[1446]\tvalid_0's rmse: 1.00545\n",
      "[1447]\tvalid_0's rmse: 1.00544\n",
      "[1448]\tvalid_0's rmse: 1.00543\n",
      "[1449]\tvalid_0's rmse: 1.00543\n",
      "[1450]\tvalid_0's rmse: 1.00542\n",
      "[1451]\tvalid_0's rmse: 1.00542\n",
      "[1452]\tvalid_0's rmse: 1.0054\n",
      "[1453]\tvalid_0's rmse: 1.0054\n",
      "[1454]\tvalid_0's rmse: 1.00539\n",
      "[1455]\tvalid_0's rmse: 1.00539\n",
      "[1456]\tvalid_0's rmse: 1.00537\n",
      "[1457]\tvalid_0's rmse: 1.00536\n",
      "[1458]\tvalid_0's rmse: 1.00534\n",
      "[1459]\tvalid_0's rmse: 1.00534\n",
      "[1460]\tvalid_0's rmse: 1.00531\n",
      "[1461]\tvalid_0's rmse: 1.00531\n",
      "[1462]\tvalid_0's rmse: 1.0053\n",
      "[1463]\tvalid_0's rmse: 1.00528\n",
      "[1464]\tvalid_0's rmse: 1.00526\n",
      "[1465]\tvalid_0's rmse: 1.00526\n",
      "[1466]\tvalid_0's rmse: 1.00525\n",
      "[1467]\tvalid_0's rmse: 1.00524\n",
      "[1468]\tvalid_0's rmse: 1.00523\n",
      "[1469]\tvalid_0's rmse: 1.00522\n",
      "[1470]\tvalid_0's rmse: 1.00521\n",
      "[1471]\tvalid_0's rmse: 1.00521\n",
      "[1472]\tvalid_0's rmse: 1.00518\n",
      "[1473]\tvalid_0's rmse: 1.00518\n",
      "[1474]\tvalid_0's rmse: 1.00517\n",
      "[1475]\tvalid_0's rmse: 1.00517\n",
      "[1476]\tvalid_0's rmse: 1.00517\n",
      "[1477]\tvalid_0's rmse: 1.00515\n",
      "[1478]\tvalid_0's rmse: 1.00514\n",
      "[1479]\tvalid_0's rmse: 1.00513\n",
      "[1480]\tvalid_0's rmse: 1.00512\n",
      "[1481]\tvalid_0's rmse: 1.0051\n",
      "[1482]\tvalid_0's rmse: 1.0051\n",
      "[1483]\tvalid_0's rmse: 1.00508\n",
      "[1484]\tvalid_0's rmse: 1.00506\n",
      "[1485]\tvalid_0's rmse: 1.00507\n",
      "[1486]\tvalid_0's rmse: 1.00506\n",
      "[1487]\tvalid_0's rmse: 1.00506\n",
      "[1488]\tvalid_0's rmse: 1.00505\n",
      "[1489]\tvalid_0's rmse: 1.00506\n",
      "[1490]\tvalid_0's rmse: 1.00503\n",
      "[1491]\tvalid_0's rmse: 1.00503\n",
      "[1492]\tvalid_0's rmse: 1.005\n",
      "[1493]\tvalid_0's rmse: 1.00497\n",
      "[1494]\tvalid_0's rmse: 1.00496\n",
      "[1495]\tvalid_0's rmse: 1.00494\n",
      "[1496]\tvalid_0's rmse: 1.00492\n",
      "[1497]\tvalid_0's rmse: 1.0049\n",
      "[1498]\tvalid_0's rmse: 1.00489\n",
      "[1499]\tvalid_0's rmse: 1.00489\n",
      "[1500]\tvalid_0's rmse: 1.00489\n",
      "[1501]\tvalid_0's rmse: 1.00488\n",
      "[1502]\tvalid_0's rmse: 1.00486\n",
      "[1503]\tvalid_0's rmse: 1.00486\n",
      "[1504]\tvalid_0's rmse: 1.00487\n",
      "[1505]\tvalid_0's rmse: 1.00485\n",
      "[1506]\tvalid_0's rmse: 1.00485\n",
      "[1507]\tvalid_0's rmse: 1.00482\n",
      "[1508]\tvalid_0's rmse: 1.0048\n",
      "[1509]\tvalid_0's rmse: 1.00478\n",
      "[1510]\tvalid_0's rmse: 1.00478\n",
      "[1511]\tvalid_0's rmse: 1.00478\n",
      "[1512]\tvalid_0's rmse: 1.00477\n",
      "[1513]\tvalid_0's rmse: 1.00474\n",
      "[1514]\tvalid_0's rmse: 1.00473\n",
      "[1515]\tvalid_0's rmse: 1.00472\n",
      "[1516]\tvalid_0's rmse: 1.00471\n",
      "[1517]\tvalid_0's rmse: 1.00469\n",
      "[1518]\tvalid_0's rmse: 1.00468\n",
      "[1519]\tvalid_0's rmse: 1.00467\n",
      "[1520]\tvalid_0's rmse: 1.00466\n",
      "[1521]\tvalid_0's rmse: 1.00465\n",
      "[1522]\tvalid_0's rmse: 1.00464\n",
      "[1523]\tvalid_0's rmse: 1.00462\n",
      "[1524]\tvalid_0's rmse: 1.00462\n",
      "[1525]\tvalid_0's rmse: 1.00462\n",
      "[1526]\tvalid_0's rmse: 1.00461\n",
      "[1527]\tvalid_0's rmse: 1.00459\n",
      "[1528]\tvalid_0's rmse: 1.0046\n",
      "[1529]\tvalid_0's rmse: 1.00459\n",
      "[1530]\tvalid_0's rmse: 1.00459\n",
      "[1531]\tvalid_0's rmse: 1.00459\n",
      "[1532]\tvalid_0's rmse: 1.00457\n",
      "[1533]\tvalid_0's rmse: 1.00455\n",
      "[1534]\tvalid_0's rmse: 1.00454\n",
      "[1535]\tvalid_0's rmse: 1.00455\n",
      "[1536]\tvalid_0's rmse: 1.00455\n",
      "[1537]\tvalid_0's rmse: 1.00454\n",
      "[1538]\tvalid_0's rmse: 1.00453\n",
      "[1539]\tvalid_0's rmse: 1.00453\n",
      "[1540]\tvalid_0's rmse: 1.00452\n",
      "[1541]\tvalid_0's rmse: 1.0045\n",
      "[1542]\tvalid_0's rmse: 1.00447\n",
      "[1543]\tvalid_0's rmse: 1.00444\n",
      "[1544]\tvalid_0's rmse: 1.00443\n",
      "[1545]\tvalid_0's rmse: 1.00443\n",
      "[1546]\tvalid_0's rmse: 1.00443\n",
      "[1547]\tvalid_0's rmse: 1.00442\n",
      "[1548]\tvalid_0's rmse: 1.00442\n",
      "[1549]\tvalid_0's rmse: 1.00441\n",
      "[1550]\tvalid_0's rmse: 1.00441\n",
      "[1551]\tvalid_0's rmse: 1.00441\n",
      "[1552]\tvalid_0's rmse: 1.0044\n",
      "[1553]\tvalid_0's rmse: 1.0044\n",
      "[1554]\tvalid_0's rmse: 1.00438\n",
      "[1555]\tvalid_0's rmse: 1.00437\n",
      "[1556]\tvalid_0's rmse: 1.00435\n",
      "[1557]\tvalid_0's rmse: 1.00434\n",
      "[1558]\tvalid_0's rmse: 1.00434\n",
      "[1559]\tvalid_0's rmse: 1.00432\n",
      "[1560]\tvalid_0's rmse: 1.0043\n",
      "[1561]\tvalid_0's rmse: 1.0043\n",
      "[1562]\tvalid_0's rmse: 1.00429\n",
      "[1563]\tvalid_0's rmse: 1.00427\n",
      "[1564]\tvalid_0's rmse: 1.00427\n",
      "[1565]\tvalid_0's rmse: 1.00426\n",
      "[1566]\tvalid_0's rmse: 1.00426\n",
      "[1567]\tvalid_0's rmse: 1.00425\n",
      "[1568]\tvalid_0's rmse: 1.00423\n",
      "[1569]\tvalid_0's rmse: 1.00423\n",
      "[1570]\tvalid_0's rmse: 1.00422\n",
      "[1571]\tvalid_0's rmse: 1.00422\n",
      "[1572]\tvalid_0's rmse: 1.00423\n",
      "[1573]\tvalid_0's rmse: 1.00421\n",
      "[1574]\tvalid_0's rmse: 1.00421\n",
      "[1575]\tvalid_0's rmse: 1.00418\n",
      "[1576]\tvalid_0's rmse: 1.00416\n",
      "[1577]\tvalid_0's rmse: 1.00415\n",
      "[1578]\tvalid_0's rmse: 1.00414\n",
      "[1579]\tvalid_0's rmse: 1.00414\n",
      "[1580]\tvalid_0's rmse: 1.00413\n",
      "[1581]\tvalid_0's rmse: 1.00412\n",
      "[1582]\tvalid_0's rmse: 1.00409\n",
      "[1583]\tvalid_0's rmse: 1.00407\n",
      "[1584]\tvalid_0's rmse: 1.00408\n",
      "[1585]\tvalid_0's rmse: 1.00407\n",
      "[1586]\tvalid_0's rmse: 1.00406\n",
      "[1587]\tvalid_0's rmse: 1.00404\n",
      "[1588]\tvalid_0's rmse: 1.00404\n",
      "[1589]\tvalid_0's rmse: 1.00403\n",
      "[1590]\tvalid_0's rmse: 1.00402\n",
      "[1591]\tvalid_0's rmse: 1.00402\n",
      "[1592]\tvalid_0's rmse: 1.00402\n",
      "[1593]\tvalid_0's rmse: 1.00401\n",
      "[1594]\tvalid_0's rmse: 1.00401\n",
      "[1595]\tvalid_0's rmse: 1.00401\n",
      "[1596]\tvalid_0's rmse: 1.00402\n",
      "[1597]\tvalid_0's rmse: 1.004\n",
      "[1598]\tvalid_0's rmse: 1.00398\n",
      "[1599]\tvalid_0's rmse: 1.00399\n",
      "[1600]\tvalid_0's rmse: 1.00398\n",
      "[1601]\tvalid_0's rmse: 1.00398\n",
      "[1602]\tvalid_0's rmse: 1.00398\n",
      "[1603]\tvalid_0's rmse: 1.00395\n",
      "[1604]\tvalid_0's rmse: 1.00396\n",
      "[1605]\tvalid_0's rmse: 1.00396\n",
      "[1606]\tvalid_0's rmse: 1.00396\n",
      "[1607]\tvalid_0's rmse: 1.00394\n",
      "[1608]\tvalid_0's rmse: 1.00393\n",
      "[1609]\tvalid_0's rmse: 1.00392\n",
      "[1610]\tvalid_0's rmse: 1.00392\n",
      "[1611]\tvalid_0's rmse: 1.00392\n",
      "[1612]\tvalid_0's rmse: 1.00393\n",
      "[1613]\tvalid_0's rmse: 1.00394\n",
      "[1614]\tvalid_0's rmse: 1.00392\n",
      "[1615]\tvalid_0's rmse: 1.00392\n",
      "[1616]\tvalid_0's rmse: 1.00388\n",
      "[1617]\tvalid_0's rmse: 1.00387\n",
      "[1618]\tvalid_0's rmse: 1.00386\n",
      "[1619]\tvalid_0's rmse: 1.00386\n",
      "[1620]\tvalid_0's rmse: 1.00386\n",
      "[1621]\tvalid_0's rmse: 1.00384\n",
      "[1622]\tvalid_0's rmse: 1.00383\n",
      "[1623]\tvalid_0's rmse: 1.00382\n",
      "[1624]\tvalid_0's rmse: 1.00381\n",
      "[1625]\tvalid_0's rmse: 1.0038\n"
     ]
    },
    {
     "name": "stdout",
     "output_type": "stream",
     "text": [
      "[1626]\tvalid_0's rmse: 1.00378\n",
      "[1627]\tvalid_0's rmse: 1.00378\n",
      "[1628]\tvalid_0's rmse: 1.00376\n",
      "[1629]\tvalid_0's rmse: 1.00376\n",
      "[1630]\tvalid_0's rmse: 1.00376\n",
      "[1631]\tvalid_0's rmse: 1.00376\n",
      "[1632]\tvalid_0's rmse: 1.00375\n",
      "[1633]\tvalid_0's rmse: 1.00373\n",
      "[1634]\tvalid_0's rmse: 1.00372\n",
      "[1635]\tvalid_0's rmse: 1.0037\n",
      "[1636]\tvalid_0's rmse: 1.00372\n",
      "[1637]\tvalid_0's rmse: 1.00372\n",
      "[1638]\tvalid_0's rmse: 1.00372\n",
      "[1639]\tvalid_0's rmse: 1.00371\n",
      "[1640]\tvalid_0's rmse: 1.00371\n",
      "[1641]\tvalid_0's rmse: 1.00371\n",
      "[1642]\tvalid_0's rmse: 1.00371\n",
      "[1643]\tvalid_0's rmse: 1.00371\n",
      "[1644]\tvalid_0's rmse: 1.00372\n",
      "[1645]\tvalid_0's rmse: 1.0037\n",
      "[1646]\tvalid_0's rmse: 1.0037\n",
      "[1647]\tvalid_0's rmse: 1.0037\n",
      "[1648]\tvalid_0's rmse: 1.00367\n",
      "[1649]\tvalid_0's rmse: 1.00367\n",
      "[1650]\tvalid_0's rmse: 1.00367\n",
      "[1651]\tvalid_0's rmse: 1.00365\n",
      "[1652]\tvalid_0's rmse: 1.00365\n",
      "[1653]\tvalid_0's rmse: 1.00364\n",
      "[1654]\tvalid_0's rmse: 1.00363\n",
      "[1655]\tvalid_0's rmse: 1.00361\n",
      "[1656]\tvalid_0's rmse: 1.00359\n",
      "[1657]\tvalid_0's rmse: 1.00358\n",
      "[1658]\tvalid_0's rmse: 1.00358\n",
      "[1659]\tvalid_0's rmse: 1.00356\n",
      "[1660]\tvalid_0's rmse: 1.00356\n",
      "[1661]\tvalid_0's rmse: 1.00354\n",
      "[1662]\tvalid_0's rmse: 1.00352\n",
      "[1663]\tvalid_0's rmse: 1.00352\n",
      "[1664]\tvalid_0's rmse: 1.00352\n",
      "[1665]\tvalid_0's rmse: 1.0035\n",
      "[1666]\tvalid_0's rmse: 1.00347\n",
      "[1667]\tvalid_0's rmse: 1.00346\n",
      "[1668]\tvalid_0's rmse: 1.00346\n",
      "[1669]\tvalid_0's rmse: 1.00343\n",
      "[1670]\tvalid_0's rmse: 1.00343\n",
      "[1671]\tvalid_0's rmse: 1.00341\n",
      "[1672]\tvalid_0's rmse: 1.0034\n",
      "[1673]\tvalid_0's rmse: 1.0034\n",
      "[1674]\tvalid_0's rmse: 1.0034\n",
      "[1675]\tvalid_0's rmse: 1.00338\n",
      "[1676]\tvalid_0's rmse: 1.00337\n",
      "[1677]\tvalid_0's rmse: 1.00338\n",
      "[1678]\tvalid_0's rmse: 1.00336\n",
      "[1679]\tvalid_0's rmse: 1.00335\n",
      "[1680]\tvalid_0's rmse: 1.00335\n",
      "[1681]\tvalid_0's rmse: 1.00335\n",
      "[1682]\tvalid_0's rmse: 1.00335\n",
      "[1683]\tvalid_0's rmse: 1.00334\n",
      "[1684]\tvalid_0's rmse: 1.00332\n",
      "[1685]\tvalid_0's rmse: 1.00331\n",
      "[1686]\tvalid_0's rmse: 1.00332\n",
      "[1687]\tvalid_0's rmse: 1.00333\n",
      "[1688]\tvalid_0's rmse: 1.00334\n",
      "[1689]\tvalid_0's rmse: 1.00332\n",
      "[1690]\tvalid_0's rmse: 1.00332\n",
      "[1691]\tvalid_0's rmse: 1.00332\n",
      "[1692]\tvalid_0's rmse: 1.00332\n",
      "[1693]\tvalid_0's rmse: 1.0033\n",
      "[1694]\tvalid_0's rmse: 1.00328\n",
      "[1695]\tvalid_0's rmse: 1.00329\n",
      "[1696]\tvalid_0's rmse: 1.00329\n",
      "[1697]\tvalid_0's rmse: 1.00327\n",
      "[1698]\tvalid_0's rmse: 1.00328\n",
      "[1699]\tvalid_0's rmse: 1.00326\n",
      "[1700]\tvalid_0's rmse: 1.00325\n",
      "[1701]\tvalid_0's rmse: 1.00325\n",
      "[1702]\tvalid_0's rmse: 1.00327\n",
      "[1703]\tvalid_0's rmse: 1.00326\n",
      "[1704]\tvalid_0's rmse: 1.00325\n",
      "[1705]\tvalid_0's rmse: 1.00324\n",
      "[1706]\tvalid_0's rmse: 1.00323\n",
      "[1707]\tvalid_0's rmse: 1.00323\n",
      "[1708]\tvalid_0's rmse: 1.00321\n",
      "[1709]\tvalid_0's rmse: 1.00319\n",
      "[1710]\tvalid_0's rmse: 1.00316\n",
      "[1711]\tvalid_0's rmse: 1.00315\n",
      "[1712]\tvalid_0's rmse: 1.00314\n",
      "[1713]\tvalid_0's rmse: 1.00315\n",
      "[1714]\tvalid_0's rmse: 1.00314\n",
      "[1715]\tvalid_0's rmse: 1.00315\n",
      "[1716]\tvalid_0's rmse: 1.00314\n",
      "[1717]\tvalid_0's rmse: 1.00314\n",
      "[1718]\tvalid_0's rmse: 1.00314\n",
      "[1719]\tvalid_0's rmse: 1.00313\n",
      "[1720]\tvalid_0's rmse: 1.00312\n",
      "[1721]\tvalid_0's rmse: 1.00311\n",
      "[1722]\tvalid_0's rmse: 1.00312\n",
      "[1723]\tvalid_0's rmse: 1.00311\n",
      "[1724]\tvalid_0's rmse: 1.00311\n",
      "[1725]\tvalid_0's rmse: 1.00312\n",
      "[1726]\tvalid_0's rmse: 1.00313\n",
      "[1727]\tvalid_0's rmse: 1.00312\n",
      "[1728]\tvalid_0's rmse: 1.00312\n",
      "[1729]\tvalid_0's rmse: 1.00311\n",
      "[1730]\tvalid_0's rmse: 1.00309\n",
      "[1731]\tvalid_0's rmse: 1.0031\n",
      "[1732]\tvalid_0's rmse: 1.00309\n",
      "[1733]\tvalid_0's rmse: 1.00307\n",
      "[1734]\tvalid_0's rmse: 1.00307\n",
      "[1735]\tvalid_0's rmse: 1.00306\n",
      "[1736]\tvalid_0's rmse: 1.00305\n",
      "[1737]\tvalid_0's rmse: 1.00306\n",
      "[1738]\tvalid_0's rmse: 1.00305\n",
      "[1739]\tvalid_0's rmse: 1.00306\n",
      "[1740]\tvalid_0's rmse: 1.00304\n",
      "[1741]\tvalid_0's rmse: 1.00304\n",
      "[1742]\tvalid_0's rmse: 1.00304\n",
      "[1743]\tvalid_0's rmse: 1.00303\n",
      "[1744]\tvalid_0's rmse: 1.003\n",
      "[1745]\tvalid_0's rmse: 1.00299\n",
      "[1746]\tvalid_0's rmse: 1.00299\n",
      "[1747]\tvalid_0's rmse: 1.003\n",
      "[1748]\tvalid_0's rmse: 1.00299\n",
      "[1749]\tvalid_0's rmse: 1.00298\n",
      "[1750]\tvalid_0's rmse: 1.00297\n",
      "[1751]\tvalid_0's rmse: 1.00297\n",
      "[1752]\tvalid_0's rmse: 1.00296\n",
      "[1753]\tvalid_0's rmse: 1.00296\n",
      "[1754]\tvalid_0's rmse: 1.00297\n",
      "[1755]\tvalid_0's rmse: 1.00296\n",
      "[1756]\tvalid_0's rmse: 1.00296\n",
      "[1757]\tvalid_0's rmse: 1.00296\n",
      "[1758]\tvalid_0's rmse: 1.00295\n",
      "[1759]\tvalid_0's rmse: 1.00294\n",
      "[1760]\tvalid_0's rmse: 1.00294\n",
      "[1761]\tvalid_0's rmse: 1.00292\n",
      "[1762]\tvalid_0's rmse: 1.00289\n",
      "[1763]\tvalid_0's rmse: 1.00289\n",
      "[1764]\tvalid_0's rmse: 1.00289\n",
      "[1765]\tvalid_0's rmse: 1.00287\n",
      "[1766]\tvalid_0's rmse: 1.00287\n",
      "[1767]\tvalid_0's rmse: 1.00286\n",
      "[1768]\tvalid_0's rmse: 1.00286\n",
      "[1769]\tvalid_0's rmse: 1.00286\n",
      "[1770]\tvalid_0's rmse: 1.00284\n",
      "[1771]\tvalid_0's rmse: 1.00284\n",
      "[1772]\tvalid_0's rmse: 1.00284\n",
      "[1773]\tvalid_0's rmse: 1.00282\n",
      "[1774]\tvalid_0's rmse: 1.0028\n",
      "[1775]\tvalid_0's rmse: 1.00281\n",
      "[1776]\tvalid_0's rmse: 1.00281\n",
      "[1777]\tvalid_0's rmse: 1.0028\n",
      "[1778]\tvalid_0's rmse: 1.00279\n",
      "[1779]\tvalid_0's rmse: 1.00276\n",
      "[1780]\tvalid_0's rmse: 1.00278\n",
      "[1781]\tvalid_0's rmse: 1.00279\n",
      "[1782]\tvalid_0's rmse: 1.00277\n",
      "[1783]\tvalid_0's rmse: 1.00276\n",
      "[1784]\tvalid_0's rmse: 1.00275\n",
      "[1785]\tvalid_0's rmse: 1.00273\n",
      "[1786]\tvalid_0's rmse: 1.00273\n",
      "[1787]\tvalid_0's rmse: 1.00272\n",
      "[1788]\tvalid_0's rmse: 1.00272\n",
      "[1789]\tvalid_0's rmse: 1.00272\n",
      "[1790]\tvalid_0's rmse: 1.00271\n",
      "[1791]\tvalid_0's rmse: 1.0027\n",
      "[1792]\tvalid_0's rmse: 1.00271\n",
      "[1793]\tvalid_0's rmse: 1.00271\n",
      "[1794]\tvalid_0's rmse: 1.00271\n",
      "[1795]\tvalid_0's rmse: 1.00271\n",
      "[1796]\tvalid_0's rmse: 1.00268\n",
      "[1797]\tvalid_0's rmse: 1.00267\n",
      "[1798]\tvalid_0's rmse: 1.00267\n",
      "[1799]\tvalid_0's rmse: 1.00267\n",
      "[1800]\tvalid_0's rmse: 1.00266\n",
      "[1801]\tvalid_0's rmse: 1.00265\n",
      "[1802]\tvalid_0's rmse: 1.00263\n",
      "[1803]\tvalid_0's rmse: 1.00261\n",
      "[1804]\tvalid_0's rmse: 1.0026\n",
      "[1805]\tvalid_0's rmse: 1.00261\n",
      "[1806]\tvalid_0's rmse: 1.00262\n",
      "[1807]\tvalid_0's rmse: 1.00262\n",
      "[1808]\tvalid_0's rmse: 1.00261\n",
      "[1809]\tvalid_0's rmse: 1.00261\n",
      "[1810]\tvalid_0's rmse: 1.0026\n",
      "[1811]\tvalid_0's rmse: 1.0026\n",
      "[1812]\tvalid_0's rmse: 1.00259\n",
      "[1813]\tvalid_0's rmse: 1.0026\n",
      "[1814]\tvalid_0's rmse: 1.0026\n",
      "[1815]\tvalid_0's rmse: 1.0026\n",
      "[1816]\tvalid_0's rmse: 1.00259\n",
      "[1817]\tvalid_0's rmse: 1.00259\n",
      "[1818]\tvalid_0's rmse: 1.00257\n",
      "[1819]\tvalid_0's rmse: 1.00257\n",
      "[1820]\tvalid_0's rmse: 1.00256\n",
      "[1821]\tvalid_0's rmse: 1.00255\n",
      "[1822]\tvalid_0's rmse: 1.00255\n",
      "[1823]\tvalid_0's rmse: 1.00253\n",
      "[1824]\tvalid_0's rmse: 1.00253\n",
      "[1825]\tvalid_0's rmse: 1.00251\n",
      "[1826]\tvalid_0's rmse: 1.00251\n",
      "[1827]\tvalid_0's rmse: 1.0025\n",
      "[1828]\tvalid_0's rmse: 1.0025\n",
      "[1829]\tvalid_0's rmse: 1.0025\n",
      "[1830]\tvalid_0's rmse: 1.0025\n",
      "[1831]\tvalid_0's rmse: 1.00249\n",
      "[1832]\tvalid_0's rmse: 1.00246\n",
      "[1833]\tvalid_0's rmse: 1.00246\n",
      "[1834]\tvalid_0's rmse: 1.00245\n",
      "[1835]\tvalid_0's rmse: 1.00244\n",
      "[1836]\tvalid_0's rmse: 1.00243\n",
      "[1837]\tvalid_0's rmse: 1.00242\n",
      "[1838]\tvalid_0's rmse: 1.00241\n",
      "[1839]\tvalid_0's rmse: 1.00239\n",
      "[1840]\tvalid_0's rmse: 1.00239\n",
      "[1841]\tvalid_0's rmse: 1.00239\n",
      "[1842]\tvalid_0's rmse: 1.00239\n",
      "[1843]\tvalid_0's rmse: 1.00238\n",
      "[1844]\tvalid_0's rmse: 1.00238\n",
      "[1845]\tvalid_0's rmse: 1.00236\n",
      "[1846]\tvalid_0's rmse: 1.00236\n",
      "[1847]\tvalid_0's rmse: 1.00235\n",
      "[1848]\tvalid_0's rmse: 1.00234\n",
      "[1849]\tvalid_0's rmse: 1.00234\n",
      "[1850]\tvalid_0's rmse: 1.00234\n",
      "[1851]\tvalid_0's rmse: 1.00233\n",
      "[1852]\tvalid_0's rmse: 1.00234\n",
      "[1853]\tvalid_0's rmse: 1.00234\n",
      "[1854]\tvalid_0's rmse: 1.00234\n",
      "[1855]\tvalid_0's rmse: 1.00234\n",
      "[1856]\tvalid_0's rmse: 1.00235\n",
      "[1857]\tvalid_0's rmse: 1.00234\n",
      "[1858]\tvalid_0's rmse: 1.00234\n",
      "[1859]\tvalid_0's rmse: 1.00233\n",
      "[1860]\tvalid_0's rmse: 1.00233\n",
      "[1861]\tvalid_0's rmse: 1.00233\n",
      "[1862]\tvalid_0's rmse: 1.00232\n",
      "[1863]\tvalid_0's rmse: 1.00232\n",
      "[1864]\tvalid_0's rmse: 1.00231\n",
      "[1865]\tvalid_0's rmse: 1.00231\n",
      "[1866]\tvalid_0's rmse: 1.00231\n",
      "[1867]\tvalid_0's rmse: 1.0023\n",
      "[1868]\tvalid_0's rmse: 1.00229\n",
      "[1869]\tvalid_0's rmse: 1.00228\n",
      "[1870]\tvalid_0's rmse: 1.00227\n",
      "[1871]\tvalid_0's rmse: 1.00225\n",
      "[1872]\tvalid_0's rmse: 1.00222\n",
      "[1873]\tvalid_0's rmse: 1.00223\n",
      "[1874]\tvalid_0's rmse: 1.00221\n",
      "[1875]\tvalid_0's rmse: 1.00221\n",
      "[1876]\tvalid_0's rmse: 1.00219\n",
      "[1877]\tvalid_0's rmse: 1.00218\n",
      "[1878]\tvalid_0's rmse: 1.00219\n",
      "[1879]\tvalid_0's rmse: 1.00218\n",
      "[1880]\tvalid_0's rmse: 1.00217\n",
      "[1881]\tvalid_0's rmse: 1.00216\n",
      "[1882]\tvalid_0's rmse: 1.00215\n",
      "[1883]\tvalid_0's rmse: 1.00213\n",
      "[1884]\tvalid_0's rmse: 1.00212\n",
      "[1885]\tvalid_0's rmse: 1.00211\n",
      "[1886]\tvalid_0's rmse: 1.00211\n",
      "[1887]\tvalid_0's rmse: 1.0021\n",
      "[1888]\tvalid_0's rmse: 1.0021\n",
      "[1889]\tvalid_0's rmse: 1.00209\n",
      "[1890]\tvalid_0's rmse: 1.00209\n"
     ]
    },
    {
     "name": "stdout",
     "output_type": "stream",
     "text": [
      "[1891]\tvalid_0's rmse: 1.00208\n",
      "[1892]\tvalid_0's rmse: 1.00206\n",
      "[1893]\tvalid_0's rmse: 1.00205\n",
      "[1894]\tvalid_0's rmse: 1.00205\n",
      "[1895]\tvalid_0's rmse: 1.00203\n",
      "[1896]\tvalid_0's rmse: 1.00204\n",
      "[1897]\tvalid_0's rmse: 1.00205\n",
      "[1898]\tvalid_0's rmse: 1.00206\n",
      "[1899]\tvalid_0's rmse: 1.00205\n",
      "[1900]\tvalid_0's rmse: 1.00203\n",
      "[1901]\tvalid_0's rmse: 1.00202\n",
      "[1902]\tvalid_0's rmse: 1.00203\n",
      "[1903]\tvalid_0's rmse: 1.00204\n",
      "[1904]\tvalid_0's rmse: 1.00204\n",
      "[1905]\tvalid_0's rmse: 1.00201\n",
      "[1906]\tvalid_0's rmse: 1.002\n",
      "[1907]\tvalid_0's rmse: 1.00199\n",
      "[1908]\tvalid_0's rmse: 1.00199\n",
      "[1909]\tvalid_0's rmse: 1.002\n",
      "[1910]\tvalid_0's rmse: 1.00199\n",
      "[1911]\tvalid_0's rmse: 1.00199\n",
      "[1912]\tvalid_0's rmse: 1.00198\n",
      "[1913]\tvalid_0's rmse: 1.00198\n",
      "[1914]\tvalid_0's rmse: 1.00197\n",
      "[1915]\tvalid_0's rmse: 1.00195\n",
      "[1916]\tvalid_0's rmse: 1.00194\n",
      "[1917]\tvalid_0's rmse: 1.00194\n",
      "[1918]\tvalid_0's rmse: 1.00193\n",
      "[1919]\tvalid_0's rmse: 1.00193\n",
      "[1920]\tvalid_0's rmse: 1.0019\n",
      "[1921]\tvalid_0's rmse: 1.00192\n",
      "[1922]\tvalid_0's rmse: 1.00191\n",
      "[1923]\tvalid_0's rmse: 1.00191\n",
      "[1924]\tvalid_0's rmse: 1.00191\n",
      "[1925]\tvalid_0's rmse: 1.0019\n",
      "[1926]\tvalid_0's rmse: 1.0019\n",
      "[1927]\tvalid_0's rmse: 1.0019\n",
      "[1928]\tvalid_0's rmse: 1.00189\n",
      "[1929]\tvalid_0's rmse: 1.00189\n",
      "[1930]\tvalid_0's rmse: 1.00188\n",
      "[1931]\tvalid_0's rmse: 1.00188\n",
      "[1932]\tvalid_0's rmse: 1.00187\n",
      "[1933]\tvalid_0's rmse: 1.00187\n",
      "[1934]\tvalid_0's rmse: 1.00186\n",
      "[1935]\tvalid_0's rmse: 1.00185\n",
      "[1936]\tvalid_0's rmse: 1.00184\n",
      "[1937]\tvalid_0's rmse: 1.00183\n",
      "[1938]\tvalid_0's rmse: 1.00183\n",
      "[1939]\tvalid_0's rmse: 1.00183\n",
      "[1940]\tvalid_0's rmse: 1.00183\n",
      "[1941]\tvalid_0's rmse: 1.00183\n",
      "[1942]\tvalid_0's rmse: 1.00182\n",
      "[1943]\tvalid_0's rmse: 1.0018\n",
      "[1944]\tvalid_0's rmse: 1.00179\n",
      "[1945]\tvalid_0's rmse: 1.00178\n",
      "[1946]\tvalid_0's rmse: 1.00178\n",
      "[1947]\tvalid_0's rmse: 1.00178\n",
      "[1948]\tvalid_0's rmse: 1.00176\n",
      "[1949]\tvalid_0's rmse: 1.00175\n",
      "[1950]\tvalid_0's rmse: 1.00177\n",
      "[1951]\tvalid_0's rmse: 1.00175\n",
      "[1952]\tvalid_0's rmse: 1.00174\n",
      "[1953]\tvalid_0's rmse: 1.00173\n",
      "[1954]\tvalid_0's rmse: 1.00173\n",
      "[1955]\tvalid_0's rmse: 1.00172\n",
      "[1956]\tvalid_0's rmse: 1.00171\n",
      "[1957]\tvalid_0's rmse: 1.00171\n",
      "[1958]\tvalid_0's rmse: 1.00169\n",
      "[1959]\tvalid_0's rmse: 1.00169\n",
      "[1960]\tvalid_0's rmse: 1.00167\n",
      "[1961]\tvalid_0's rmse: 1.00167\n",
      "[1962]\tvalid_0's rmse: 1.00164\n",
      "[1963]\tvalid_0's rmse: 1.00163\n",
      "[1964]\tvalid_0's rmse: 1.00162\n",
      "[1965]\tvalid_0's rmse: 1.00161\n",
      "[1966]\tvalid_0's rmse: 1.00163\n",
      "[1967]\tvalid_0's rmse: 1.00162\n",
      "[1968]\tvalid_0's rmse: 1.00162\n",
      "[1969]\tvalid_0's rmse: 1.00162\n",
      "[1970]\tvalid_0's rmse: 1.00161\n",
      "[1971]\tvalid_0's rmse: 1.00161\n",
      "[1972]\tvalid_0's rmse: 1.0016\n",
      "[1973]\tvalid_0's rmse: 1.0016\n",
      "[1974]\tvalid_0's rmse: 1.0016\n",
      "[1975]\tvalid_0's rmse: 1.00159\n",
      "[1976]\tvalid_0's rmse: 1.00158\n",
      "[1977]\tvalid_0's rmse: 1.00157\n",
      "[1978]\tvalid_0's rmse: 1.00157\n",
      "[1979]\tvalid_0's rmse: 1.00159\n",
      "[1980]\tvalid_0's rmse: 1.00158\n",
      "[1981]\tvalid_0's rmse: 1.00157\n",
      "[1982]\tvalid_0's rmse: 1.00154\n",
      "[1983]\tvalid_0's rmse: 1.00153\n",
      "[1984]\tvalid_0's rmse: 1.00152\n",
      "[1985]\tvalid_0's rmse: 1.0015\n",
      "[1986]\tvalid_0's rmse: 1.00149\n",
      "[1987]\tvalid_0's rmse: 1.00146\n",
      "[1988]\tvalid_0's rmse: 1.00148\n",
      "[1989]\tvalid_0's rmse: 1.00149\n",
      "[1990]\tvalid_0's rmse: 1.00147\n",
      "[1991]\tvalid_0's rmse: 1.00145\n",
      "[1992]\tvalid_0's rmse: 1.00145\n",
      "[1993]\tvalid_0's rmse: 1.00144\n",
      "[1994]\tvalid_0's rmse: 1.00144\n",
      "[1995]\tvalid_0's rmse: 1.00143\n",
      "[1996]\tvalid_0's rmse: 1.00142\n",
      "[1997]\tvalid_0's rmse: 1.00141\n",
      "[1998]\tvalid_0's rmse: 1.00139\n",
      "[1999]\tvalid_0's rmse: 1.00139\n",
      "[2000]\tvalid_0's rmse: 1.00136\n"
     ]
    }
   ],
   "source": [
    "from catboost import CatBoostClassifier, Pool, CatBoostRegressor\n",
    "from lightgbm import LGBMRegressor\n",
    "params_lgb = {'n_estimators':2000,\n",
    "                'boosting_type': 'gbdt',\n",
    "                'objective': 'regression',\n",
    "                'metric': 'rmse',\n",
    "                'subsample': 0.75,\n",
    "                'subsample_freq': 1,\n",
    "                'learning_rate': 0.005,\n",
    "                'feature_fraction': 0.9,\n",
    "             'max_depth': 8,\n",
    "                'lambda_l1': 1,  \n",
    "                'lambda_l2': 1,\n",
    "#                 'verbose': 100,\n",
    "    #             'early_stopping_rounds': 100, 'eval_metric': 'cappa'\n",
    "                  'categoricals' : [0, 16]\n",
    "                }\n",
    "clf = LGBMRegressor(**params_lgb)\n",
    "clf.fit(X_train, y_train, categorical_feature =['pred_title'], eval_set = (X_test, y_test))\n",
    "\n",
    "\n",
    "params_ctb = {'loss_function':'RMSE', \n",
    "                            'iterations':1000,\n",
    "                              'learning_rate':0.01,\n",
    "                            'task_type':\"GPU\",\n",
    "                              'depth':8,\n",
    "                 'verbose' : 100,\n",
    "                 }\n",
    "\n",
    "params_xgb ={'colsample_bytree': 0.8,                 \n",
    "                'learning_rate': 0.01,\n",
    "                'max_depth': 10,\n",
    "                'subsample': 1,\n",
    "                'objective':'reg:squarederror',\n",
    "                #'eval_metric':'rmse',\n",
    "                'min_child_weight':3,\n",
    "                'gamma':0.25,\n",
    "                'n_estimators':100,\n",
    "                'n_jobs' : 12,\n",
    "                'categoricals' : [0]}\n",
    "\n",
    "# clf = XGBRegressor(**params_xgb)\n",
    "# clf = CatBoostRegressor(**params_ctb)\n",
    "# clf.fit(X_train, y_train,cat_features = [0], eval_set = (X_test, y_test))"
   ]
  },
  {
   "cell_type": "code",
   "execution_count": null,
   "metadata": {},
   "outputs": [],
   "source": [
    "from sklearn.ensemble import BaggingRegressor\n",
    "\n",
    "clf = BaggingRegressor(base_estimator=LGBMRegressor(**params_lgb),max_samples = 0.8, \n",
    "                n_estimators=10, random_state=0, oob_score = True, verbose = 1,\n",
    "                        n_jobs = 12).fit(X_train, y_train, cat_features = [0,18])"
   ]
  },
  {
   "cell_type": "code",
   "execution_count": null,
   "metadata": {},
   "outputs": [],
   "source": []
  },
  {
   "cell_type": "code",
   "execution_count": null,
   "metadata": {},
   "outputs": [],
   "source": [
    "def get_model():\n",
    "    from sklearn.ensemble import ExtraTreesRegressor\n",
    "    from mlxtend.regressor import StackingRegressor\n",
    "    from sklearn.ensemble import RandomForestRegressor\n",
    "    from sklearn.linear_model import LinearRegression\n",
    "    from sklearn.ensemble import AdaBoostRegressor\n",
    "    from sklearn.svm import SVR\n",
    "    from catboost import CatBoostClassifier, Pool, CatBoostRegressor\n",
    "    from lightgbm import LGBMRegressor\n",
    "    from xgboost import XGBClassifier, XGBRegressor\n",
    "\n",
    "    params_lgb = {'n_estimators':2000,\n",
    "                'boosting_type': 'gbdt',\n",
    "                'objective': 'regression',\n",
    "                'metric': 'rmse',\n",
    "                'subsample': 0.75,\n",
    "                'subsample_freq': 1,\n",
    "                'learning_rate': 0.005,\n",
    "                'feature_fraction': 0.9,\n",
    "             'max_depth': 8,\n",
    "                'lambda_l1': 1,  \n",
    "                'lambda_l2': 1,\n",
    "#                 'verbose': 100,\n",
    "    #             'early_stopping_rounds': 100, 'eval_metric': 'cappa'\n",
    "                  'categoricals' : [0]\n",
    "                }\n",
    "\n",
    "    params_ctb = {'loss_function':'RMSE', \n",
    "                            'iterations':300,\n",
    "                              'learning_rate':0.01,\n",
    "                            'task_type':\"GPU\",\n",
    "                              'depth':8,\n",
    "                 'verbose' : False,\n",
    "                 }\n",
    "\n",
    "    params_xgb ={'colsample_bytree': 0.8,                 \n",
    "                'learning_rate': 0.01,\n",
    "                'max_depth': 10,\n",
    "                'subsample': 1,\n",
    "                'objective':'reg:squarederror',\n",
    "                #'eval_metric':'rmse',\n",
    "                'min_child_weight':3,\n",
    "                'gamma':0.25,\n",
    "                'n_estimators':100,\n",
    "                'n_jobs' : 12,\n",
    "                'categoricals' : [0]}\n",
    "\n",
    "    params_rf = {\n",
    "        'n_estimators':100,\n",
    "        'n_jobs' : 12,\n",
    "        'max_depth': 10\n",
    "    }\n",
    "\n",
    "\n",
    "    params_ada = {\n",
    "        'n_estimators':100,\n",
    "        'loss': 'square'\n",
    "    }\n",
    "\n",
    "    from mlxtend.regressor import StackingCVRegressor\n",
    "\n",
    "    lgb = LGBMRegressor(**params_lgb)\n",
    "    ctb = CatBoostRegressor(**params_ctb)\n",
    "    etr = ExtraTreesRegressor(bootstrap=True, max_features=0.45, min_samples_leaf=17, min_samples_split=15, n_estimators=100)\n",
    "    xgb = XGBRegressor(**params_xgb)\n",
    "    rf = RandomForestRegressor(**params_rf)\n",
    "    lr = LinearRegression()\n",
    "    ada = AdaBoostRegressor(**params_ada)\n",
    "\n",
    "    svr = SVR()\n",
    "\n",
    "    clf = StackingCVRegressor(regressors=[lgb, ctb, etr, xgb, rf, lr, ada], \n",
    "                               meta_regressor=svr, verbose = 1)\n",
    "    \n",
    "    return clf\n",
    "\n",
    "def tres(pred, t):\n",
    "    pred1 = deepcopy(pred)\n",
    "    pred1[pred1 >= t[2]] = 3\n",
    "    pred1[pred1 < t[0]] = 0\n",
    "    pred1[(pred1>= t[0])&(pred1 < t[1])] = 1\n",
    "    pred1[(pred1>= t[1])&(pred1 < t[2])] = 2\n",
    "    return pred1"
   ]
  },
  {
   "cell_type": "code",
   "execution_count": null,
   "metadata": {},
   "outputs": [],
   "source": [
    "from sklearn.ensemble import ExtraTreesRegressor\n",
    "from mlxtend.regressor import StackingRegressor\n",
    "from sklearn.ensemble import RandomForestRegressor\n",
    "from sklearn.linear_model import LinearRegression\n",
    "from sklearn.ensemble import AdaBoostRegressor\n",
    "from sklearn.svm import SVR\n",
    "from catboost import CatBoostClassifier, Pool, CatBoostRegressor\n",
    "from lightgbm import LGBMRegressor\n",
    "from xgboost import XGBClassifier, XGBRegressor\n",
    "params_lgb = {'n_estimators':2000,\n",
    "                'boosting_type': 'gbdt',\n",
    "                'objective': 'regression',\n",
    "                'metric': 'rmse',\n",
    "                'subsample': 0.75,\n",
    "                'subsample_freq': 1,\n",
    "                'learning_rate': 0.005,\n",
    "                'feature_fraction': 0.9,\n",
    "             'max_depth': 8,\n",
    "                'lambda_l1': 1,  \n",
    "                'lambda_l2': 1,\n",
    "                'verbose': 100,\n",
    "    #             'early_stopping_rounds': 100, 'eval_metric': 'cappa'\n",
    "                  'categoricals' : [0]\n",
    "                }\n",
    "\n",
    "params_ctb = {'loss_function':'RMSE', \n",
    "                            'iterations':1000,\n",
    "                              'learning_rate':0.01,\n",
    "                            'task_type':\"GPU\",\n",
    "                              'depth':8,\n",
    "                 'verbose' : 100,\n",
    "                 }"
   ]
  },
  {
   "cell_type": "code",
   "execution_count": null,
   "metadata": {
    "scrolled": true
   },
   "outputs": [],
   "source": [
    "from sklearn.model_selection import KFold\n",
    "from sklearn.ensemble import ExtraTreesRegressor\n",
    "from sklearn.model_selection import GroupKFold\n",
    "# X = X.values\n",
    "y = Y\n",
    "\n",
    "kf =  GroupKFold(n_splits=5)\n",
    "\n",
    "scores = []\n",
    "\n",
    "for train_index, test_index in kf.split(X, Y, groups):\n",
    "#     print(\"TRAIN:\", train_index, \"TEST:\", test_index)\n",
    "\n",
    "#     X_train, X_test = X[train_index], X[test_index]\n",
    "    X_train, X_test = X.iloc[train_index], X.iloc[test_index]\n",
    "    y_train, y_test = y[train_index], y[test_index]\n",
    "    \n",
    "    \n",
    "#     clf = CatBoostRegressor(**params_ctb)\n",
    "#     clf.fit(X_train, y_train,cat_features = [0,18], eval_set = (X_test, y_test))\n",
    "    \n",
    "    clf = LGBMRegressor(**params_lgb)\n",
    "    clf.fit(X_train, y_train, categorical_feature =[0,18])\n",
    "    \n",
    "    import optuna\n",
    "    def objective(trial, pred = clf.predict(X_train), y_test = y_train):\n",
    "        x0 = trial.suggest_uniform('x0', pred.min(), pred.max())\n",
    "        x1 = trial.suggest_uniform('x1', x0,  pred.max())\n",
    "        x2 = trial.suggest_uniform('x2', x1,  pred.max())\n",
    "\n",
    "        t = [x0, x1, x2]\n",
    "        pred1 = tres(pred, t)\n",
    "        a = cohen_kappa_score(y_test, pred1, weights = 'quadratic')\n",
    "        print(a)\n",
    "        return 1-a\n",
    "    study = optuna.create_study()\n",
    "    study.optimize(objective, n_trials=100)\n",
    "    \n",
    "    t = list(study.best_params.values())\n",
    "    pred = clf.predict(X_test)\n",
    "    pred1 = tres(pred, t)\n",
    "\n",
    "\n",
    "\n",
    "    print(cohen_kappa_score(y_test, pred1, weights = 'quadratic'))\n",
    "    scores.append(cohen_kappa_score(y_test, pred1, weights = 'quadratic'))"
   ]
  },
  {
   "cell_type": "code",
   "execution_count": null,
   "metadata": {},
   "outputs": [],
   "source": [
    "scores"
   ]
  },
  {
   "cell_type": "code",
   "execution_count": 180,
   "metadata": {
    "scrolled": true
   },
   "outputs": [
    {
     "name": "stdout",
     "output_type": "stream",
     "text": [
      "0.16764663687237014\n"
     ]
    },
    {
     "name": "stderr",
     "output_type": "stream",
     "text": [
      "[I 2019-12-28 21:45:24,925] Finished trial#0 resulted in value: 0.8323533631276299. Current best value is 0.8323533631276299 with parameters: {'x0': 0.12847863029074108, 'x1': 2.7176464835016176, 'x2': 2.7103099944943034}.\n"
     ]
    },
    {
     "name": "stdout",
     "output_type": "stream",
     "text": [
      "0.6360819426353006\n"
     ]
    },
    {
     "name": "stderr",
     "output_type": "stream",
     "text": [
      "[I 2019-12-28 21:45:25,173] Finished trial#1 resulted in value: 0.3639180573646994. Current best value is 0.3639180573646994 with parameters: {'x0': 2.84571426544455, 'x1': 0.805527909395664, 'x2': 1.714850771192425}.\n"
     ]
    },
    {
     "name": "stdout",
     "output_type": "stream",
     "text": [
      "0.6019055762835153\n"
     ]
    },
    {
     "name": "stderr",
     "output_type": "stream",
     "text": [
      "[I 2019-12-28 21:45:25,431] Finished trial#2 resulted in value: 0.39809442371648474. Current best value is 0.3639180573646994 with parameters: {'x0': 2.84571426544455, 'x1': 0.805527909395664, 'x2': 1.714850771192425}.\n"
     ]
    },
    {
     "name": "stdout",
     "output_type": "stream",
     "text": [
      "0.6641568827771696\n"
     ]
    },
    {
     "name": "stderr",
     "output_type": "stream",
     "text": [
      "[I 2019-12-28 21:45:25,691] Finished trial#3 resulted in value: 0.33584311722283045. Current best value is 0.33584311722283045 with parameters: {'x0': 1.830192111264023, 'x1': 0.18136920989845695, 'x2': 2.2423211228152757}.\n"
     ]
    },
    {
     "name": "stdout",
     "output_type": "stream",
     "text": [
      "0.2565487320418185\n"
     ]
    },
    {
     "name": "stderr",
     "output_type": "stream",
     "text": [
      "[I 2019-12-28 21:45:25,933] Finished trial#4 resulted in value: 0.7434512679581815. Current best value is 0.33584311722283045 with parameters: {'x0': 1.830192111264023, 'x1': 0.18136920989845695, 'x2': 2.2423211228152757}.\n"
     ]
    },
    {
     "name": "stdout",
     "output_type": "stream",
     "text": [
      "0.6818825127583514\n"
     ]
    },
    {
     "name": "stderr",
     "output_type": "stream",
     "text": [
      "[I 2019-12-28 21:45:26,189] Finished trial#5 resulted in value: 0.31811748724164857. Current best value is 0.31811748724164857 with parameters: {'x0': 1.617164767168839, 'x1': 1.6711264685699654, 'x2': 2.327548721966182}.\n"
     ]
    },
    {
     "name": "stdout",
     "output_type": "stream",
     "text": [
      "0.16285434522399378\n"
     ]
    },
    {
     "name": "stderr",
     "output_type": "stream",
     "text": [
      "[I 2019-12-28 21:45:26,447] Finished trial#6 resulted in value: 0.8371456547760062. Current best value is 0.31811748724164857 with parameters: {'x0': 1.617164767168839, 'x1': 1.6711264685699654, 'x2': 2.327548721966182}.\n"
     ]
    },
    {
     "name": "stdout",
     "output_type": "stream",
     "text": [
      "0.6323753313786384\n"
     ]
    },
    {
     "name": "stderr",
     "output_type": "stream",
     "text": [
      "[I 2019-12-28 21:45:26,686] Finished trial#7 resulted in value: 0.36762466862136156. Current best value is 0.31811748724164857 with parameters: {'x0': 1.617164767168839, 'x1': 1.6711264685699654, 'x2': 2.327548721966182}.\n"
     ]
    },
    {
     "name": "stdout",
     "output_type": "stream",
     "text": [
      "0.3574189058395162\n"
     ]
    },
    {
     "name": "stderr",
     "output_type": "stream",
     "text": [
      "[I 2019-12-28 21:45:26,945] Finished trial#8 resulted in value: 0.6425810941604838. Current best value is 0.31811748724164857 with parameters: {'x0': 1.617164767168839, 'x1': 1.6711264685699654, 'x2': 2.327548721966182}.\n"
     ]
    },
    {
     "name": "stdout",
     "output_type": "stream",
     "text": [
      "0.08143094283093977\n"
     ]
    },
    {
     "name": "stderr",
     "output_type": "stream",
     "text": [
      "[I 2019-12-28 21:45:27,184] Finished trial#9 resulted in value: 0.9185690571690602. Current best value is 0.31811748724164857 with parameters: {'x0': 1.617164767168839, 'x1': 1.6711264685699654, 'x2': 2.327548721966182}.\n"
     ]
    },
    {
     "name": "stdout",
     "output_type": "stream",
     "text": [
      "0.2062652706161281\n"
     ]
    },
    {
     "name": "stderr",
     "output_type": "stream",
     "text": [
      "[I 2019-12-28 21:45:27,408] Finished trial#10 resulted in value: 0.7937347293838719. Current best value is 0.31811748724164857 with parameters: {'x0': 1.617164767168839, 'x1': 1.6711264685699654, 'x2': 2.327548721966182}.\n"
     ]
    },
    {
     "name": "stdout",
     "output_type": "stream",
     "text": [
      "0.6126123144069795\n"
     ]
    },
    {
     "name": "stderr",
     "output_type": "stream",
     "text": [
      "[I 2019-12-28 21:45:27,650] Finished trial#11 resulted in value: 0.3873876855930205. Current best value is 0.31811748724164857 with parameters: {'x0': 1.617164767168839, 'x1': 1.6711264685699654, 'x2': 2.327548721966182}.\n"
     ]
    },
    {
     "name": "stdout",
     "output_type": "stream",
     "text": [
      "0.6380895677018779\n"
     ]
    },
    {
     "name": "stderr",
     "output_type": "stream",
     "text": [
      "[I 2019-12-28 21:45:27,934] Finished trial#12 resulted in value: 0.36191043229812214. Current best value is 0.31811748724164857 with parameters: {'x0': 1.617164767168839, 'x1': 1.6711264685699654, 'x2': 2.327548721966182}.\n"
     ]
    },
    {
     "name": "stdout",
     "output_type": "stream",
     "text": [
      "0.6587141638834489\n"
     ]
    },
    {
     "name": "stderr",
     "output_type": "stream",
     "text": [
      "[I 2019-12-28 21:45:28,162] Finished trial#13 resulted in value: 0.34128583611655106. Current best value is 0.31811748724164857 with parameters: {'x0': 1.617164767168839, 'x1': 1.6711264685699654, 'x2': 2.327548721966182}.\n"
     ]
    },
    {
     "name": "stdout",
     "output_type": "stream",
     "text": [
      "0.5260746287726734\n"
     ]
    },
    {
     "name": "stderr",
     "output_type": "stream",
     "text": [
      "[I 2019-12-28 21:45:28,434] Finished trial#14 resulted in value: 0.4739253712273266. Current best value is 0.31811748724164857 with parameters: {'x0': 1.617164767168839, 'x1': 1.6711264685699654, 'x2': 2.327548721966182}.\n"
     ]
    },
    {
     "name": "stdout",
     "output_type": "stream",
     "text": [
      "0.21737450515113377\n"
     ]
    },
    {
     "name": "stderr",
     "output_type": "stream",
     "text": [
      "[I 2019-12-28 21:45:28,663] Finished trial#15 resulted in value: 0.7826254948488662. Current best value is 0.31811748724164857 with parameters: {'x0': 1.617164767168839, 'x1': 1.6711264685699654, 'x2': 2.327548721966182}.\n"
     ]
    },
    {
     "name": "stdout",
     "output_type": "stream",
     "text": [
      "0.6666388112975962\n"
     ]
    },
    {
     "name": "stderr",
     "output_type": "stream",
     "text": [
      "[I 2019-12-28 21:45:28,928] Finished trial#16 resulted in value: 0.33336118870240383. Current best value is 0.31811748724164857 with parameters: {'x0': 1.617164767168839, 'x1': 1.6711264685699654, 'x2': 2.327548721966182}.\n"
     ]
    },
    {
     "name": "stdout",
     "output_type": "stream",
     "text": [
      "0.0002632014439106767\n"
     ]
    },
    {
     "name": "stderr",
     "output_type": "stream",
     "text": [
      "[I 2019-12-28 21:45:29,185] Finished trial#17 resulted in value: 0.9997367985560893. Current best value is 0.31811748724164857 with parameters: {'x0': 1.617164767168839, 'x1': 1.6711264685699654, 'x2': 2.327548721966182}.\n"
     ]
    },
    {
     "name": "stdout",
     "output_type": "stream",
     "text": [
      "0.6623331320460433\n"
     ]
    },
    {
     "name": "stderr",
     "output_type": "stream",
     "text": [
      "[I 2019-12-28 21:45:29,421] Finished trial#18 resulted in value: 0.33766686795395673. Current best value is 0.31811748724164857 with parameters: {'x0': 1.617164767168839, 'x1': 1.6711264685699654, 'x2': 2.327548721966182}.\n"
     ]
    },
    {
     "name": "stdout",
     "output_type": "stream",
     "text": [
      "0.42219001462673367\n"
     ]
    },
    {
     "name": "stderr",
     "output_type": "stream",
     "text": [
      "[I 2019-12-28 21:45:29,705] Finished trial#19 resulted in value: 0.5778099853732663. Current best value is 0.31811748724164857 with parameters: {'x0': 1.617164767168839, 'x1': 1.6711264685699654, 'x2': 2.327548721966182}.\n"
     ]
    },
    {
     "name": "stdout",
     "output_type": "stream",
     "text": [
      "0.49115357590147013\n"
     ]
    },
    {
     "name": "stderr",
     "output_type": "stream",
     "text": [
      "[I 2019-12-28 21:45:29,934] Finished trial#20 resulted in value: 0.5088464240985299. Current best value is 0.31811748724164857 with parameters: {'x0': 1.617164767168839, 'x1': 1.6711264685699654, 'x2': 2.327548721966182}.\n"
     ]
    },
    {
     "name": "stdout",
     "output_type": "stream",
     "text": [
      "0.6598329089311962\n"
     ]
    },
    {
     "name": "stderr",
     "output_type": "stream",
     "text": [
      "[I 2019-12-28 21:45:30,221] Finished trial#21 resulted in value: 0.34016709106880383. Current best value is 0.31811748724164857 with parameters: {'x0': 1.617164767168839, 'x1': 1.6711264685699654, 'x2': 2.327548721966182}.\n"
     ]
    },
    {
     "name": "stdout",
     "output_type": "stream",
     "text": [
      "0.6254936065669645\n"
     ]
    },
    {
     "name": "stderr",
     "output_type": "stream",
     "text": [
      "[I 2019-12-28 21:45:30,449] Finished trial#22 resulted in value: 0.3745063934330355. Current best value is 0.31811748724164857 with parameters: {'x0': 1.617164767168839, 'x1': 1.6711264685699654, 'x2': 2.327548721966182}.\n"
     ]
    },
    {
     "name": "stdout",
     "output_type": "stream",
     "text": [
      "0.6361664882180607\n"
     ]
    },
    {
     "name": "stderr",
     "output_type": "stream",
     "text": [
      "[I 2019-12-28 21:45:30,699] Finished trial#23 resulted in value: 0.36383351178193934. Current best value is 0.31811748724164857 with parameters: {'x0': 1.617164767168839, 'x1': 1.6711264685699654, 'x2': 2.327548721966182}.\n"
     ]
    },
    {
     "name": "stdout",
     "output_type": "stream",
     "text": [
      "0.5738674247525138\n"
     ]
    },
    {
     "name": "stderr",
     "output_type": "stream",
     "text": [
      "[I 2019-12-28 21:45:30,999] Finished trial#24 resulted in value: 0.42613257524748616. Current best value is 0.31811748724164857 with parameters: {'x0': 1.617164767168839, 'x1': 1.6711264685699654, 'x2': 2.327548721966182}.\n"
     ]
    },
    {
     "name": "stdout",
     "output_type": "stream",
     "text": [
      "0.6097171114632673\n"
     ]
    },
    {
     "name": "stderr",
     "output_type": "stream",
     "text": [
      "[I 2019-12-28 21:45:31,234] Finished trial#25 resulted in value: 0.39028288853673265. Current best value is 0.31811748724164857 with parameters: {'x0': 1.617164767168839, 'x1': 1.6711264685699654, 'x2': 2.327548721966182}.\n"
     ]
    },
    {
     "name": "stdout",
     "output_type": "stream",
     "text": [
      "0.6467111089198809\n"
     ]
    },
    {
     "name": "stderr",
     "output_type": "stream",
     "text": [
      "[I 2019-12-28 21:45:31,509] Finished trial#26 resulted in value: 0.35328889108011907. Current best value is 0.31811748724164857 with parameters: {'x0': 1.617164767168839, 'x1': 1.6711264685699654, 'x2': 2.327548721966182}.\n"
     ]
    },
    {
     "name": "stdout",
     "output_type": "stream",
     "text": [
      "0.6707540093973275\n"
     ]
    },
    {
     "name": "stderr",
     "output_type": "stream",
     "text": [
      "[I 2019-12-28 21:45:31,745] Finished trial#27 resulted in value: 0.32924599060267246. Current best value is 0.31811748724164857 with parameters: {'x0': 1.617164767168839, 'x1': 1.6711264685699654, 'x2': 2.327548721966182}.\n"
     ]
    },
    {
     "name": "stdout",
     "output_type": "stream",
     "text": [
      "0.5600122538222725\n"
     ]
    },
    {
     "name": "stderr",
     "output_type": "stream",
     "text": [
      "[I 2019-12-28 21:45:31,993] Finished trial#28 resulted in value: 0.4399877461777275. Current best value is 0.31811748724164857 with parameters: {'x0': 1.617164767168839, 'x1': 1.6711264685699654, 'x2': 2.327548721966182}.\n"
     ]
    },
    {
     "name": "stdout",
     "output_type": "stream",
     "text": [
      "0.1696116023976736\n"
     ]
    },
    {
     "name": "stderr",
     "output_type": "stream",
     "text": [
      "[I 2019-12-28 21:45:32,233] Finished trial#29 resulted in value: 0.8303883976023264. Current best value is 0.31811748724164857 with parameters: {'x0': 1.617164767168839, 'x1': 1.6711264685699654, 'x2': 2.327548721966182}.\n"
     ]
    },
    {
     "name": "stdout",
     "output_type": "stream",
     "text": [
      "0.27270956296534565\n"
     ]
    },
    {
     "name": "stderr",
     "output_type": "stream",
     "text": [
      "[I 2019-12-28 21:45:32,513] Finished trial#30 resulted in value: 0.7272904370346543. Current best value is 0.31811748724164857 with parameters: {'x0': 1.617164767168839, 'x1': 1.6711264685699654, 'x2': 2.327548721966182}.\n"
     ]
    },
    {
     "name": "stdout",
     "output_type": "stream",
     "text": [
      "0.6803169205236959\n"
     ]
    },
    {
     "name": "stderr",
     "output_type": "stream",
     "text": [
      "[I 2019-12-28 21:45:32,775] Finished trial#31 resulted in value: 0.31968307947630414. Current best value is 0.31811748724164857 with parameters: {'x0': 1.617164767168839, 'x1': 1.6711264685699654, 'x2': 2.327548721966182}.\n"
     ]
    },
    {
     "name": "stdout",
     "output_type": "stream",
     "text": [
      "0.6516491410714524\n"
     ]
    },
    {
     "name": "stderr",
     "output_type": "stream",
     "text": [
      "[I 2019-12-28 21:45:33,019] Finished trial#32 resulted in value: 0.34835085892854756. Current best value is 0.31811748724164857 with parameters: {'x0': 1.617164767168839, 'x1': 1.6711264685699654, 'x2': 2.327548721966182}.\n"
     ]
    },
    {
     "name": "stdout",
     "output_type": "stream",
     "text": [
      "0.6278473414581112\n"
     ]
    },
    {
     "name": "stderr",
     "output_type": "stream",
     "text": [
      "[I 2019-12-28 21:45:33,263] Finished trial#33 resulted in value: 0.37215265854188884. Current best value is 0.31811748724164857 with parameters: {'x0': 1.617164767168839, 'x1': 1.6711264685699654, 'x2': 2.327548721966182}.\n"
     ]
    },
    {
     "name": "stdout",
     "output_type": "stream",
     "text": [
      "0.6753108620748205\n"
     ]
    },
    {
     "name": "stderr",
     "output_type": "stream",
     "text": [
      "[I 2019-12-28 21:45:33,508] Finished trial#34 resulted in value: 0.3246891379251795. Current best value is 0.31811748724164857 with parameters: {'x0': 1.617164767168839, 'x1': 1.6711264685699654, 'x2': 2.327548721966182}.\n"
     ]
    },
    {
     "name": "stdout",
     "output_type": "stream",
     "text": [
      "0.5668041807450221\n"
     ]
    },
    {
     "name": "stderr",
     "output_type": "stream",
     "text": [
      "[I 2019-12-28 21:45:33,754] Finished trial#35 resulted in value: 0.43319581925497785. Current best value is 0.31811748724164857 with parameters: {'x0': 1.617164767168839, 'x1': 1.6711264685699654, 'x2': 2.327548721966182}.\n"
     ]
    },
    {
     "name": "stdout",
     "output_type": "stream",
     "text": [
      "0.6860759661441889\n"
     ]
    },
    {
     "name": "stderr",
     "output_type": "stream",
     "text": [
      "[I 2019-12-28 21:45:34,004] Finished trial#36 resulted in value: 0.31392403385581114. Current best value is 0.31392403385581114 with parameters: {'x0': 1.0741421140843626, 'x1': 2.378159457495431, 'x2': 2.059643636104198}.\n"
     ]
    },
    {
     "name": "stdout",
     "output_type": "stream",
     "text": [
      "0.6742506796715948\n"
     ]
    },
    {
     "name": "stderr",
     "output_type": "stream",
     "text": [
      "[I 2019-12-28 21:45:34,264] Finished trial#37 resulted in value: 0.3257493203284052. Current best value is 0.31392403385581114 with parameters: {'x0': 1.0741421140843626, 'x1': 2.378159457495431, 'x2': 2.059643636104198}.\n"
     ]
    },
    {
     "name": "stdout",
     "output_type": "stream",
     "text": [
      "0.6608494243942047\n"
     ]
    },
    {
     "name": "stderr",
     "output_type": "stream",
     "text": [
      "[I 2019-12-28 21:45:34,517] Finished trial#38 resulted in value: 0.3391505756057953. Current best value is 0.31392403385581114 with parameters: {'x0': 1.0741421140843626, 'x1': 2.378159457495431, 'x2': 2.059643636104198}.\n"
     ]
    },
    {
     "name": "stdout",
     "output_type": "stream",
     "text": [
      "0.6450164560761635\n"
     ]
    },
    {
     "name": "stderr",
     "output_type": "stream",
     "text": [
      "[I 2019-12-28 21:45:34,764] Finished trial#39 resulted in value: 0.35498354392383646. Current best value is 0.31392403385581114 with parameters: {'x0': 1.0741421140843626, 'x1': 2.378159457495431, 'x2': 2.059643636104198}.\n"
     ]
    },
    {
     "name": "stdout",
     "output_type": "stream",
     "text": [
      "0.06567687475031192\n"
     ]
    },
    {
     "name": "stderr",
     "output_type": "stream",
     "text": [
      "[I 2019-12-28 21:45:35,014] Finished trial#40 resulted in value: 0.9343231252496881. Current best value is 0.31392403385581114 with parameters: {'x0': 1.0741421140843626, 'x1': 2.378159457495431, 'x2': 2.059643636104198}.\n"
     ]
    },
    {
     "name": "stdout",
     "output_type": "stream",
     "text": [
      "0.6686794136808835\n"
     ]
    },
    {
     "name": "stderr",
     "output_type": "stream",
     "text": [
      "[I 2019-12-28 21:45:35,261] Finished trial#41 resulted in value: 0.33132058631911654. Current best value is 0.31392403385581114 with parameters: {'x0': 1.0741421140843626, 'x1': 2.378159457495431, 'x2': 2.059643636104198}.\n"
     ]
    },
    {
     "name": "stdout",
     "output_type": "stream",
     "text": [
      "0.5378958520965512\n"
     ]
    },
    {
     "name": "stderr",
     "output_type": "stream",
     "text": [
      "[I 2019-12-28 21:45:35,515] Finished trial#42 resulted in value: 0.4621041479034488. Current best value is 0.31392403385581114 with parameters: {'x0': 1.0741421140843626, 'x1': 2.378159457495431, 'x2': 2.059643636104198}.\n"
     ]
    },
    {
     "name": "stdout",
     "output_type": "stream",
     "text": [
      "0.6772996297037066\n"
     ]
    },
    {
     "name": "stderr",
     "output_type": "stream",
     "text": [
      "[I 2019-12-28 21:45:35,760] Finished trial#43 resulted in value: 0.3227003702962934. Current best value is 0.31392403385581114 with parameters: {'x0': 1.0741421140843626, 'x1': 2.378159457495431, 'x2': 2.059643636104198}.\n"
     ]
    },
    {
     "name": "stdout",
     "output_type": "stream",
     "text": [
      "0.5968376180463812\n"
     ]
    },
    {
     "name": "stderr",
     "output_type": "stream",
     "text": [
      "[I 2019-12-28 21:45:36,009] Finished trial#44 resulted in value: 0.40316238195361875. Current best value is 0.31392403385581114 with parameters: {'x0': 1.0741421140843626, 'x1': 2.378159457495431, 'x2': 2.059643636104198}.\n"
     ]
    },
    {
     "name": "stdout",
     "output_type": "stream",
     "text": [
      "0.6836373866959623\n"
     ]
    },
    {
     "name": "stderr",
     "output_type": "stream",
     "text": [
      "[I 2019-12-28 21:45:36,246] Finished trial#45 resulted in value: 0.3163626133040377. Current best value is 0.31392403385581114 with parameters: {'x0': 1.0741421140843626, 'x1': 2.378159457495431, 'x2': 2.059643636104198}.\n"
     ]
    },
    {
     "name": "stdout",
     "output_type": "stream",
     "text": [
      "0.5486868415646413\n"
     ]
    },
    {
     "name": "stderr",
     "output_type": "stream",
     "text": [
      "[I 2019-12-28 21:45:36,486] Finished trial#46 resulted in value: 0.4513131584353587. Current best value is 0.31392403385581114 with parameters: {'x0': 1.0741421140843626, 'x1': 2.378159457495431, 'x2': 2.059643636104198}.\n"
     ]
    },
    {
     "name": "stdout",
     "output_type": "stream",
     "text": [
      "0.6688710076355122\n"
     ]
    },
    {
     "name": "stderr",
     "output_type": "stream",
     "text": [
      "[I 2019-12-28 21:45:36,729] Finished trial#47 resulted in value: 0.3311289923644878. Current best value is 0.31392403385581114 with parameters: {'x0': 1.0741421140843626, 'x1': 2.378159457495431, 'x2': 2.059643636104198}.\n"
     ]
    },
    {
     "name": "stdout",
     "output_type": "stream",
     "text": [
      "0.524102244921455\n"
     ]
    },
    {
     "name": "stderr",
     "output_type": "stream",
     "text": [
      "[I 2019-12-28 21:45:36,972] Finished trial#48 resulted in value: 0.47589775507854504. Current best value is 0.31392403385581114 with parameters: {'x0': 1.0741421140843626, 'x1': 2.378159457495431, 'x2': 2.059643636104198}.\n"
     ]
    },
    {
     "name": "stdout",
     "output_type": "stream",
     "text": [
      "0.6378823690235262\n"
     ]
    },
    {
     "name": "stderr",
     "output_type": "stream",
     "text": [
      "[I 2019-12-28 21:45:37,220] Finished trial#49 resulted in value: 0.36211763097647376. Current best value is 0.31392403385581114 with parameters: {'x0': 1.0741421140843626, 'x1': 2.378159457495431, 'x2': 2.059643636104198}.\n"
     ]
    },
    {
     "name": "stdout",
     "output_type": "stream",
     "text": [
      "0.6948160950894954\n"
     ]
    },
    {
     "name": "stderr",
     "output_type": "stream",
     "text": [
      "[I 2019-12-28 21:45:37,461] Finished trial#50 resulted in value: 0.3051839049105046. Current best value is 0.3051839049105046 with parameters: {'x0': 0.9934929268333819, 'x1': 2.0014863551548814, 'x2': 2.1447138375484367}.\n"
     ]
    },
    {
     "name": "stdout",
     "output_type": "stream",
     "text": [
      "0.703040940511017\n"
     ]
    },
    {
     "name": "stderr",
     "output_type": "stream",
     "text": [
      "[I 2019-12-28 21:45:37,708] Finished trial#51 resulted in value: 0.29695905948898305. Current best value is 0.29695905948898305 with parameters: {'x0': 0.9549025826991745, 'x1': 1.9005584867901117, 'x2': 2.2188248157676704}.\n"
     ]
    },
    {
     "name": "stdout",
     "output_type": "stream",
     "text": [
      "0.704853855090702\n"
     ]
    },
    {
     "name": "stderr",
     "output_type": "stream",
     "text": [
      "[I 2019-12-28 21:45:37,952] Finished trial#52 resulted in value: 0.295146144909298. Current best value is 0.295146144909298 with parameters: {'x0': 0.9712692917127995, 'x1': 1.7711454128544017, 'x2': 2.2085807645051583}.\n"
     ]
    },
    {
     "name": "stdout",
     "output_type": "stream",
     "text": [
      "0.6200842882635602\n"
     ]
    },
    {
     "name": "stderr",
     "output_type": "stream",
     "text": [
      "[I 2019-12-28 21:45:38,196] Finished trial#53 resulted in value: 0.3799157117364398. Current best value is 0.295146144909298 with parameters: {'x0': 0.9712692917127995, 'x1': 1.7711454128544017, 'x2': 2.2085807645051583}.\n"
     ]
    },
    {
     "name": "stdout",
     "output_type": "stream",
     "text": [
      "0.6783153811532612\n"
     ]
    },
    {
     "name": "stderr",
     "output_type": "stream",
     "text": [
      "[I 2019-12-28 21:45:38,454] Finished trial#54 resulted in value: 0.3216846188467388. Current best value is 0.295146144909298 with parameters: {'x0': 0.9712692917127995, 'x1': 1.7711454128544017, 'x2': 2.2085807645051583}.\n"
     ]
    },
    {
     "name": "stdout",
     "output_type": "stream",
     "text": [
      "0.6944543764945594\n"
     ]
    },
    {
     "name": "stderr",
     "output_type": "stream",
     "text": [
      "[I 2019-12-28 21:45:38,696] Finished trial#55 resulted in value: 0.30554562350544057. Current best value is 0.295146144909298 with parameters: {'x0': 0.9712692917127995, 'x1': 1.7711454128544017, 'x2': 2.2085807645051583}.\n"
     ]
    },
    {
     "name": "stdout",
     "output_type": "stream",
     "text": [
      "0.694814373416002\n"
     ]
    },
    {
     "name": "stderr",
     "output_type": "stream",
     "text": [
      "[I 2019-12-28 21:45:38,962] Finished trial#56 resulted in value: 0.30518562658399795. Current best value is 0.295146144909298 with parameters: {'x0': 0.9712692917127995, 'x1': 1.7711454128544017, 'x2': 2.2085807645051583}.\n"
     ]
    },
    {
     "name": "stdout",
     "output_type": "stream",
     "text": [
      "0.6944962121305935\n"
     ]
    },
    {
     "name": "stderr",
     "output_type": "stream",
     "text": [
      "[I 2019-12-28 21:45:39,209] Finished trial#57 resulted in value: 0.30550378786940646. Current best value is 0.295146144909298 with parameters: {'x0': 0.9712692917127995, 'x1': 1.7711454128544017, 'x2': 2.2085807645051583}.\n"
     ]
    },
    {
     "name": "stdout",
     "output_type": "stream",
     "text": [
      "0.6955674865985151\n"
     ]
    },
    {
     "name": "stderr",
     "output_type": "stream",
     "text": [
      "[I 2019-12-28 21:45:39,451] Finished trial#58 resulted in value: 0.3044325134014849. Current best value is 0.295146144909298 with parameters: {'x0': 0.9712692917127995, 'x1': 1.7711454128544017, 'x2': 2.2085807645051583}.\n"
     ]
    },
    {
     "name": "stdout",
     "output_type": "stream",
     "text": [
      "0.6554108761319966\n"
     ]
    },
    {
     "name": "stderr",
     "output_type": "stream",
     "text": [
      "[I 2019-12-28 21:45:39,692] Finished trial#59 resulted in value: 0.34458912386800344. Current best value is 0.295146144909298 with parameters: {'x0': 0.9712692917127995, 'x1': 1.7711454128544017, 'x2': 2.2085807645051583}.\n"
     ]
    },
    {
     "name": "stdout",
     "output_type": "stream",
     "text": [
      "0.5500512724764226\n"
     ]
    },
    {
     "name": "stderr",
     "output_type": "stream",
     "text": [
      "[I 2019-12-28 21:45:39,939] Finished trial#60 resulted in value: 0.4499487275235774. Current best value is 0.295146144909298 with parameters: {'x0': 0.9712692917127995, 'x1': 1.7711454128544017, 'x2': 2.2085807645051583}.\n"
     ]
    },
    {
     "name": "stdout",
     "output_type": "stream",
     "text": [
      "0.6941795553929377\n"
     ]
    },
    {
     "name": "stderr",
     "output_type": "stream",
     "text": [
      "[I 2019-12-28 21:45:40,185] Finished trial#61 resulted in value: 0.30582044460706226. Current best value is 0.295146144909298 with parameters: {'x0': 0.9712692917127995, 'x1': 1.7711454128544017, 'x2': 2.2085807645051583}.\n"
     ]
    },
    {
     "name": "stdout",
     "output_type": "stream",
     "text": [
      "0.7028343291918062\n"
     ]
    },
    {
     "name": "stderr",
     "output_type": "stream",
     "text": [
      "[I 2019-12-28 21:45:40,431] Finished trial#62 resulted in value: 0.2971656708081938. Current best value is 0.295146144909298 with parameters: {'x0': 0.9712692917127995, 'x1': 1.7711454128544017, 'x2': 2.2085807645051583}.\n"
     ]
    },
    {
     "name": "stdout",
     "output_type": "stream",
     "text": [
      "0.693605716635445\n"
     ]
    },
    {
     "name": "stderr",
     "output_type": "stream",
     "text": [
      "[I 2019-12-28 21:45:40,671] Finished trial#63 resulted in value: 0.306394283364555. Current best value is 0.295146144909298 with parameters: {'x0': 0.9712692917127995, 'x1': 1.7711454128544017, 'x2': 2.2085807645051583}.\n"
     ]
    },
    {
     "name": "stdout",
     "output_type": "stream",
     "text": [
      "0.6790660340567133\n"
     ]
    },
    {
     "name": "stderr",
     "output_type": "stream",
     "text": [
      "[I 2019-12-28 21:45:40,923] Finished trial#64 resulted in value: 0.3209339659432867. Current best value is 0.295146144909298 with parameters: {'x0': 0.9712692917127995, 'x1': 1.7711454128544017, 'x2': 2.2085807645051583}.\n"
     ]
    },
    {
     "name": "stdout",
     "output_type": "stream",
     "text": [
      "0.6341023605073455\n"
     ]
    },
    {
     "name": "stderr",
     "output_type": "stream",
     "text": [
      "[I 2019-12-28 21:45:41,168] Finished trial#65 resulted in value: 0.3658976394926545. Current best value is 0.295146144909298 with parameters: {'x0': 0.9712692917127995, 'x1': 1.7711454128544017, 'x2': 2.2085807645051583}.\n"
     ]
    },
    {
     "name": "stdout",
     "output_type": "stream",
     "text": [
      "0.6790658661293517\n"
     ]
    },
    {
     "name": "stderr",
     "output_type": "stream",
     "text": [
      "[I 2019-12-28 21:45:41,413] Finished trial#66 resulted in value: 0.3209341338706483. Current best value is 0.295146144909298 with parameters: {'x0': 0.9712692917127995, 'x1': 1.7711454128544017, 'x2': 2.2085807645051583}.\n"
     ]
    },
    {
     "name": "stdout",
     "output_type": "stream",
     "text": [
      "0.675470727137666\n"
     ]
    },
    {
     "name": "stderr",
     "output_type": "stream",
     "text": [
      "[I 2019-12-28 21:45:41,661] Finished trial#67 resulted in value: 0.324529272862334. Current best value is 0.295146144909298 with parameters: {'x0': 0.9712692917127995, 'x1': 1.7711454128544017, 'x2': 2.2085807645051583}.\n"
     ]
    },
    {
     "name": "stdout",
     "output_type": "stream",
     "text": [
      "0.6194181518159997\n"
     ]
    },
    {
     "name": "stderr",
     "output_type": "stream",
     "text": [
      "[I 2019-12-28 21:45:41,926] Finished trial#68 resulted in value: 0.3805818481840003. Current best value is 0.295146144909298 with parameters: {'x0': 0.9712692917127995, 'x1': 1.7711454128544017, 'x2': 2.2085807645051583}.\n"
     ]
    },
    {
     "name": "stdout",
     "output_type": "stream",
     "text": [
      "0.552901393354924\n"
     ]
    },
    {
     "name": "stderr",
     "output_type": "stream",
     "text": [
      "[I 2019-12-28 21:45:42,175] Finished trial#69 resulted in value: 0.44709860664507595. Current best value is 0.295146144909298 with parameters: {'x0': 0.9712692917127995, 'x1': 1.7711454128544017, 'x2': 2.2085807645051583}.\n"
     ]
    },
    {
     "name": "stdout",
     "output_type": "stream",
     "text": [
      "0.576568175650317\n"
     ]
    },
    {
     "name": "stderr",
     "output_type": "stream",
     "text": [
      "[I 2019-12-28 21:45:42,439] Finished trial#70 resulted in value: 0.42343182434968296. Current best value is 0.295146144909298 with parameters: {'x0': 0.9712692917127995, 'x1': 1.7711454128544017, 'x2': 2.2085807645051583}.\n"
     ]
    },
    {
     "name": "stdout",
     "output_type": "stream",
     "text": [
      "0.6759950240800272\n"
     ]
    },
    {
     "name": "stderr",
     "output_type": "stream",
     "text": [
      "[I 2019-12-28 21:45:42,686] Finished trial#71 resulted in value: 0.3240049759199728. Current best value is 0.295146144909298 with parameters: {'x0': 0.9712692917127995, 'x1': 1.7711454128544017, 'x2': 2.2085807645051583}.\n"
     ]
    },
    {
     "name": "stdout",
     "output_type": "stream",
     "text": [
      "0.7008373476261484\n"
     ]
    },
    {
     "name": "stderr",
     "output_type": "stream",
     "text": [
      "[I 2019-12-28 21:45:42,935] Finished trial#72 resulted in value: 0.29916265237385165. Current best value is 0.295146144909298 with parameters: {'x0': 0.9712692917127995, 'x1': 1.7711454128544017, 'x2': 2.2085807645051583}.\n"
     ]
    },
    {
     "name": "stdout",
     "output_type": "stream",
     "text": [
      "0.6990386530168786\n"
     ]
    },
    {
     "name": "stderr",
     "output_type": "stream",
     "text": [
      "[I 2019-12-28 21:45:43,187] Finished trial#73 resulted in value: 0.3009613469831214. Current best value is 0.295146144909298 with parameters: {'x0': 0.9712692917127995, 'x1': 1.7711454128544017, 'x2': 2.2085807645051583}.\n"
     ]
    },
    {
     "name": "stdout",
     "output_type": "stream",
     "text": [
      "0.6877273191475324\n"
     ]
    },
    {
     "name": "stderr",
     "output_type": "stream",
     "text": [
      "[I 2019-12-28 21:45:43,431] Finished trial#74 resulted in value: 0.3122726808524676. Current best value is 0.295146144909298 with parameters: {'x0': 0.9712692917127995, 'x1': 1.7711454128544017, 'x2': 2.2085807645051583}.\n"
     ]
    },
    {
     "name": "stdout",
     "output_type": "stream",
     "text": [
      "0.670024966519591\n"
     ]
    },
    {
     "name": "stderr",
     "output_type": "stream",
     "text": [
      "[I 2019-12-28 21:45:43,679] Finished trial#75 resulted in value: 0.329975033480409. Current best value is 0.295146144909298 with parameters: {'x0': 0.9712692917127995, 'x1': 1.7711454128544017, 'x2': 2.2085807645051583}.\n"
     ]
    },
    {
     "name": "stdout",
     "output_type": "stream",
     "text": [
      "0.6907739975517871\n"
     ]
    },
    {
     "name": "stderr",
     "output_type": "stream",
     "text": [
      "[I 2019-12-28 21:45:43,930] Finished trial#76 resulted in value: 0.30922600244821286. Current best value is 0.295146144909298 with parameters: {'x0': 0.9712692917127995, 'x1': 1.7711454128544017, 'x2': 2.2085807645051583}.\n"
     ]
    },
    {
     "name": "stdout",
     "output_type": "stream",
     "text": [
      "0.6687918743087327\n"
     ]
    },
    {
     "name": "stderr",
     "output_type": "stream",
     "text": [
      "[I 2019-12-28 21:45:44,178] Finished trial#77 resulted in value: 0.33120812569126734. Current best value is 0.295146144909298 with parameters: {'x0': 0.9712692917127995, 'x1': 1.7711454128544017, 'x2': 2.2085807645051583}.\n"
     ]
    },
    {
     "name": "stdout",
     "output_type": "stream",
     "text": [
      "0.6863854090638029\n"
     ]
    },
    {
     "name": "stderr",
     "output_type": "stream",
     "text": [
      "[I 2019-12-28 21:45:44,423] Finished trial#78 resulted in value: 0.31361459093619715. Current best value is 0.295146144909298 with parameters: {'x0': 0.9712692917127995, 'x1': 1.7711454128544017, 'x2': 2.2085807645051583}.\n"
     ]
    },
    {
     "name": "stdout",
     "output_type": "stream",
     "text": [
      "0.7026896727744703\n"
     ]
    },
    {
     "name": "stderr",
     "output_type": "stream",
     "text": [
      "[I 2019-12-28 21:45:44,675] Finished trial#79 resulted in value: 0.29731032722552975. Current best value is 0.295146144909298 with parameters: {'x0': 0.9712692917127995, 'x1': 1.7711454128544017, 'x2': 2.2085807645051583}.\n"
     ]
    },
    {
     "name": "stdout",
     "output_type": "stream",
     "text": [
      "0.6069216549969774\n"
     ]
    },
    {
     "name": "stderr",
     "output_type": "stream",
     "text": [
      "[I 2019-12-28 21:45:44,946] Finished trial#80 resulted in value: 0.39307834500302263. Current best value is 0.295146144909298 with parameters: {'x0': 0.9712692917127995, 'x1': 1.7711454128544017, 'x2': 2.2085807645051583}.\n"
     ]
    },
    {
     "name": "stdout",
     "output_type": "stream",
     "text": [
      "0.7007295803148721\n"
     ]
    },
    {
     "name": "stderr",
     "output_type": "stream",
     "text": [
      "[I 2019-12-28 21:45:45,194] Finished trial#81 resulted in value: 0.2992704196851279. Current best value is 0.295146144909298 with parameters: {'x0': 0.9712692917127995, 'x1': 1.7711454128544017, 'x2': 2.2085807645051583}.\n"
     ]
    },
    {
     "name": "stdout",
     "output_type": "stream",
     "text": [
      "0.699828401845248\n"
     ]
    },
    {
     "name": "stderr",
     "output_type": "stream",
     "text": [
      "[I 2019-12-28 21:45:45,463] Finished trial#82 resulted in value: 0.30017159815475203. Current best value is 0.295146144909298 with parameters: {'x0': 0.9712692917127995, 'x1': 1.7711454128544017, 'x2': 2.2085807645051583}.\n"
     ]
    },
    {
     "name": "stdout",
     "output_type": "stream",
     "text": [
      "0.7027215833680391\n"
     ]
    },
    {
     "name": "stderr",
     "output_type": "stream",
     "text": [
      "[I 2019-12-28 21:45:45,733] Finished trial#83 resulted in value: 0.29727841663196086. Current best value is 0.295146144909298 with parameters: {'x0': 0.9712692917127995, 'x1': 1.7711454128544017, 'x2': 2.2085807645051583}.\n"
     ]
    },
    {
     "name": "stdout",
     "output_type": "stream",
     "text": [
      "0.656241847002942\n"
     ]
    },
    {
     "name": "stderr",
     "output_type": "stream",
     "text": [
      "[I 2019-12-28 21:45:45,983] Finished trial#84 resulted in value: 0.34375815299705803. Current best value is 0.295146144909298 with parameters: {'x0': 0.9712692917127995, 'x1': 1.7711454128544017, 'x2': 2.2085807645051583}.\n"
     ]
    },
    {
     "name": "stdout",
     "output_type": "stream",
     "text": [
      "0.678231008862013\n"
     ]
    },
    {
     "name": "stderr",
     "output_type": "stream",
     "text": [
      "[I 2019-12-28 21:45:46,240] Finished trial#85 resulted in value: 0.32176899113798696. Current best value is 0.295146144909298 with parameters: {'x0': 0.9712692917127995, 'x1': 1.7711454128544017, 'x2': 2.2085807645051583}.\n"
     ]
    },
    {
     "name": "stdout",
     "output_type": "stream",
     "text": [
      "0.37691414346229657\n"
     ]
    },
    {
     "name": "stderr",
     "output_type": "stream",
     "text": [
      "[I 2019-12-28 21:45:46,495] Finished trial#86 resulted in value: 0.6230858565377034. Current best value is 0.295146144909298 with parameters: {'x0': 0.9712692917127995, 'x1': 1.7711454128544017, 'x2': 2.2085807645051583}.\n"
     ]
    },
    {
     "name": "stdout",
     "output_type": "stream",
     "text": [
      "0.0021047913709685284\n"
     ]
    },
    {
     "name": "stderr",
     "output_type": "stream",
     "text": [
      "[I 2019-12-28 21:45:46,745] Finished trial#87 resulted in value: 0.9978952086290315. Current best value is 0.295146144909298 with parameters: {'x0': 0.9712692917127995, 'x1': 1.7711454128544017, 'x2': 2.2085807645051583}.\n"
     ]
    },
    {
     "name": "stdout",
     "output_type": "stream",
     "text": [
      "0.6797128394700573\n"
     ]
    },
    {
     "name": "stderr",
     "output_type": "stream",
     "text": [
      "[I 2019-12-28 21:45:47,003] Finished trial#88 resulted in value: 0.32028716052994266. Current best value is 0.295146144909298 with parameters: {'x0': 0.9712692917127995, 'x1': 1.7711454128544017, 'x2': 2.2085807645051583}.\n"
     ]
    },
    {
     "name": "stdout",
     "output_type": "stream",
     "text": [
      "0.6468386633587817\n"
     ]
    },
    {
     "name": "stderr",
     "output_type": "stream",
     "text": [
      "[I 2019-12-28 21:45:47,280] Finished trial#89 resulted in value: 0.3531613366412183. Current best value is 0.295146144909298 with parameters: {'x0': 0.9712692917127995, 'x1': 1.7711454128544017, 'x2': 2.2085807645051583}.\n"
     ]
    },
    {
     "name": "stdout",
     "output_type": "stream",
     "text": [
      "0.6208742613562401\n"
     ]
    },
    {
     "name": "stderr",
     "output_type": "stream",
     "text": [
      "[I 2019-12-28 21:45:47,561] Finished trial#90 resulted in value: 0.37912573864375987. Current best value is 0.295146144909298 with parameters: {'x0': 0.9712692917127995, 'x1': 1.7711454128544017, 'x2': 2.2085807645051583}.\n"
     ]
    },
    {
     "name": "stdout",
     "output_type": "stream",
     "text": [
      "0.7015272445570936\n"
     ]
    },
    {
     "name": "stderr",
     "output_type": "stream",
     "text": [
      "[I 2019-12-28 21:45:47,810] Finished trial#91 resulted in value: 0.2984727554429064. Current best value is 0.295146144909298 with parameters: {'x0': 0.9712692917127995, 'x1': 1.7711454128544017, 'x2': 2.2085807645051583}.\n"
     ]
    },
    {
     "name": "stdout",
     "output_type": "stream",
     "text": [
      "0.6921594611510677\n"
     ]
    },
    {
     "name": "stderr",
     "output_type": "stream",
     "text": [
      "[I 2019-12-28 21:45:48,066] Finished trial#92 resulted in value: 0.30784053884893225. Current best value is 0.295146144909298 with parameters: {'x0': 0.9712692917127995, 'x1': 1.7711454128544017, 'x2': 2.2085807645051583}.\n"
     ]
    },
    {
     "name": "stdout",
     "output_type": "stream",
     "text": [
      "0.6992758666080309\n"
     ]
    },
    {
     "name": "stderr",
     "output_type": "stream",
     "text": [
      "[I 2019-12-28 21:45:48,309] Finished trial#93 resulted in value: 0.30072413339196913. Current best value is 0.295146144909298 with parameters: {'x0': 0.9712692917127995, 'x1': 1.7711454128544017, 'x2': 2.2085807645051583}.\n"
     ]
    },
    {
     "name": "stdout",
     "output_type": "stream",
     "text": [
      "0.6976883737830604\n"
     ]
    },
    {
     "name": "stderr",
     "output_type": "stream",
     "text": [
      "[I 2019-12-28 21:45:48,556] Finished trial#94 resulted in value: 0.30231162621693963. Current best value is 0.295146144909298 with parameters: {'x0': 0.9712692917127995, 'x1': 1.7711454128544017, 'x2': 2.2085807645051583}.\n"
     ]
    },
    {
     "name": "stdout",
     "output_type": "stream",
     "text": [
      "0.7008010809992604\n"
     ]
    },
    {
     "name": "stderr",
     "output_type": "stream",
     "text": [
      "[I 2019-12-28 21:45:48,798] Finished trial#95 resulted in value: 0.2991989190007396. Current best value is 0.295146144909298 with parameters: {'x0': 0.9712692917127995, 'x1': 1.7711454128544017, 'x2': 2.2085807645051583}.\n"
     ]
    },
    {
     "name": "stdout",
     "output_type": "stream",
     "text": [
      "0.6941971376849247\n"
     ]
    },
    {
     "name": "stderr",
     "output_type": "stream",
     "text": [
      "[I 2019-12-28 21:45:49,041] Finished trial#96 resulted in value: 0.30580286231507525. Current best value is 0.295146144909298 with parameters: {'x0': 0.9712692917127995, 'x1': 1.7711454128544017, 'x2': 2.2085807645051583}.\n"
     ]
    },
    {
     "name": "stdout",
     "output_type": "stream",
     "text": [
      "0.6790385673643753\n"
     ]
    },
    {
     "name": "stderr",
     "output_type": "stream",
     "text": [
      "[I 2019-12-28 21:45:49,319] Finished trial#97 resulted in value: 0.3209614326356247. Current best value is 0.295146144909298 with parameters: {'x0': 0.9712692917127995, 'x1': 1.7711454128544017, 'x2': 2.2085807645051583}.\n"
     ]
    },
    {
     "name": "stdout",
     "output_type": "stream",
     "text": [
      "0.6680803203544441\n"
     ]
    },
    {
     "name": "stderr",
     "output_type": "stream",
     "text": [
      "[I 2019-12-28 21:45:49,574] Finished trial#98 resulted in value: 0.3319196796455559. Current best value is 0.295146144909298 with parameters: {'x0': 0.9712692917127995, 'x1': 1.7711454128544017, 'x2': 2.2085807645051583}.\n"
     ]
    },
    {
     "name": "stdout",
     "output_type": "stream",
     "text": [
      "0.6650614561151145\n"
     ]
    },
    {
     "name": "stderr",
     "output_type": "stream",
     "text": [
      "[I 2019-12-28 21:45:49,820] Finished trial#99 resulted in value: 0.33493854388488553. Current best value is 0.295146144909298 with parameters: {'x0': 0.9712692917127995, 'x1': 1.7711454128544017, 'x2': 2.2085807645051583}.\n"
     ]
    }
   ],
   "source": [
    "\n",
    "def tres(pred, t):\n",
    "    pred1 = deepcopy(pred)\n",
    "    pred1[pred1 >= t[2]] = 3\n",
    "    pred1[pred1 < t[0]] = 0\n",
    "    pred1[(pred1>= t[0])&(pred1 < t[1])] = 1\n",
    "    pred1[(pred1>= t[1])&(pred1 < t[2])] = 2\n",
    "    return pred1\n",
    "\n",
    "def objective(trial, pred = clf.predict(X_train), y_test = y_train):\n",
    "    x0 = trial.suggest_uniform('x0', pred.min(), pred.max())\n",
    "    x1 = trial.suggest_uniform('x1', pred.min(),  pred.max())\n",
    "    x2 = trial.suggest_uniform('x2', pred.min(),  pred.max())\n",
    "\n",
    "    t = [x0, x1, x2]\n",
    "    pred1 = tres(pred, t)\n",
    "    a = cohen_kappa_score(y_test, pred1, weights = 'quadratic')\n",
    "    print(a)\n",
    "    return 1-a\n",
    "\n",
    "study = optuna.create_study()\n",
    "study.optimize(objective, n_trials=100)"
   ]
  },
  {
   "cell_type": "code",
   "execution_count": null,
   "metadata": {},
   "outputs": [],
   "source": [
    "X_test.columns = new_feats"
   ]
  },
  {
   "cell_type": "code",
   "execution_count": 181,
   "metadata": {},
   "outputs": [
    {
     "name": "stdout",
     "output_type": "stream",
     "text": [
      "0.5838029546179048\n"
     ]
    }
   ],
   "source": [
    "t = list(study.best_params.values())\n",
    "pred = clf.predict(X_test)\n",
    "pred1 = tres(pred, t)\n",
    "\n",
    "\n",
    "\n",
    "print(cohen_kappa_score(y_test, pred1, weights = 'quadratic'))"
   ]
  },
  {
   "cell_type": "code",
   "execution_count": 182,
   "metadata": {},
   "outputs": [
    {
     "name": "stdout",
     "output_type": "stream",
     "text": [
      "{0: 1.2869053028801478, 1: 1.8239855137463965, 2: 2.1405108224059908}\n",
      "0.5767007637250975\n"
     ]
    },
    {
     "data": {
      "image/png": "[encoded data removed]",
      "text/plain": [
       "<Figure size 1800x720 with 1 Axes>"
      ]
     },
     "metadata": {
      "needs_background": "light"
     },
     "output_type": "display_data"
    }
   ],
   "source": [
    "pred = clf.predict(X_test)\n",
    "\n",
    "from collections import Counter\n",
    "dist = Counter(y_train)\n",
    "for k in dist:\n",
    "    dist[k] /= len(y_train)\n",
    "plt.hist(y_train)\n",
    "\n",
    "acum = 0\n",
    "bound = {}\n",
    "for i in range(3):\n",
    "    acum += dist[i]\n",
    "    bound[i] = np.percentile(pred, acum * 100)\n",
    "print(bound)\n",
    "\n",
    "def classify(x):\n",
    "    if x <= bound[0]:\n",
    "        return 0\n",
    "    elif x <= bound[1]:\n",
    "        return 1\n",
    "    elif x <= bound[2]:\n",
    "        return 2\n",
    "    else:\n",
    "        return 3\n",
    "    \n",
    "final_pred = np.array(list(map(classify, pred)))\n",
    "\n",
    "print(cohen_kappa_score(y_test, final_pred, weights = 'quadratic'))"
   ]
  },
  {
   "cell_type": "code",
   "execution_count": null,
   "metadata": {},
   "outputs": [],
   "source": [
    "percent"
   ]
  },
  {
   "cell_type": "code",
   "execution_count": null,
   "metadata": {},
   "outputs": [],
   "source": []
  },
  {
   "cell_type": "code",
   "execution_count": null,
   "metadata": {},
   "outputs": [],
   "source": [
    "t"
   ]
  },
  {
   "cell_type": "code",
   "execution_count": null,
   "metadata": {},
   "outputs": [],
   "source": [
    "tres(np.array([1.27]),t)"
   ]
  },
  {
   "cell_type": "code",
   "execution_count": null,
   "metadata": {},
   "outputs": [],
   "source": [
    "plt.hist(pred1)"
   ]
  },
  {
   "cell_type": "code",
   "execution_count": null,
   "metadata": {},
   "outputs": [],
   "source": [
    "plt.hist(tres(clf.predict(X_train), t))"
   ]
  },
  {
   "cell_type": "code",
   "execution_count": null,
   "metadata": {},
   "outputs": [],
   "source": [
    "y_val[1766]"
   ]
  },
  {
   "cell_type": "code",
   "execution_count": null,
   "metadata": {},
   "outputs": [],
   "source": [
    "np.argsort(y_val)"
   ]
  },
  {
   "cell_type": "code",
   "execution_count": null,
   "metadata": {},
   "outputs": [],
   "source": [
    "percent"
   ]
  },
  {
   "cell_type": "code",
   "execution_count": null,
   "metadata": {},
   "outputs": [],
   "source": [
    "plt.hist(y_train[X_train['pred_title'] == 14])"
   ]
  },
  {
   "cell_type": "code",
   "execution_count": 162,
   "metadata": {},
   "outputs": [
    {
     "data": {
      "text/plain": [
       "(array([ 908.,    0.,    0.,  544.,    0.,    0.,  497.,    0.,    0.,\n",
       "        1976.]),\n",
       " array([0. , 0.3, 0.6, 0.9, 1.2, 1.5, 1.8, 2.1, 2.4, 2.7, 3. ]),\n",
       " <a list of 10 Patch objects>)"
      ]
     },
     "execution_count": 162,
     "metadata": {},
     "output_type": "execute_result"
    },
    {
     "data": {
      "image/png": "[encoded data removed]",
      "text/plain": [
       "<Figure size 432x288 with 1 Axes>"
      ]
     },
     "metadata": {
      "needs_background": "light"
     },
     "output_type": "display_data"
    }
   ],
   "source": [
    "plt.hist(final_pred)"
   ]
  },
  {
   "cell_type": "code",
   "execution_count": 159,
   "metadata": {},
   "outputs": [
    {
     "data": {
      "text/plain": [
       "(array([ 809.,    0.,    0.,  346.,    0.,    0., 1235.,    0.,    0.,\n",
       "        1535.]),\n",
       " array([0. , 0.3, 0.6, 0.9, 1.2, 1.5, 1.8, 2.1, 2.4, 2.7, 3. ]),\n",
       " <a list of 10 Patch objects>)"
      ]
     },
     "execution_count": 159,
     "metadata": {},
     "output_type": "execute_result"
    },
    {
     "data": {
      "image/png": "[encoded data removed]",
      "text/plain": [
       "<Figure size 432x288 with 1 Axes>"
      ]
     },
     "metadata": {
      "needs_background": "light"
     },
     "output_type": "display_data"
    }
   ],
   "source": [
    "plt.hist(pred1)"
   ]
  },
  {
   "cell_type": "code",
   "execution_count": 163,
   "metadata": {},
   "outputs": [
    {
     "data": {
      "text/plain": [
       "array([[ 580,  167,   82,  113],\n",
       "       [ 161,  114,   94,  160],\n",
       "       [  56,   64,   74,  251],\n",
       "       [ 111,  199,  247, 1452]], dtype=int64)"
      ]
     },
     "execution_count": 163,
     "metadata": {},
     "output_type": "execute_result"
    }
   ],
   "source": [
    "from sklearn.metrics import confusion_matrix\n",
    "confusion_matrix(y_test, final_pred)"
   ]
  },
  {
   "cell_type": "code",
   "execution_count": null,
   "metadata": {},
   "outputs": [],
   "source": [
    "pred"
   ]
  },
  {
   "cell_type": "code",
   "execution_count": null,
   "metadata": {},
   "outputs": [],
   "source": [
    "y_test"
   ]
  },
  {
   "cell_type": "code",
   "execution_count": null,
   "metadata": {},
   "outputs": [],
   "source": [
    "dataset['Games_accuracy'].value_counts()"
   ]
  },
  {
   "cell_type": "code",
   "execution_count": 168,
   "metadata": {},
   "outputs": [
    {
     "data": {
      "image/png": "[encoded data removed]",
      "text/plain": [
       "<Figure size 1800x720 with 1 Axes>"
      ]
     },
     "metadata": {
      "needs_background": "light"
     },
     "output_type": "display_data"
    }
   ],
   "source": [
    "plt.rcParams[\"figure.figsize\"] = (25,10)\n",
    "ind0 = 0\n",
    "ind1 = 50\n",
    "plt.plot(X.columns[ind0:ind1], clf.feature_importances_[ind0:ind1])\n",
    "plt.xticks(X.columns[ind0:ind1], X.columns[ind0:ind1], rotation = 'vertical')\n",
    "plt.savefig('features.png')\n"
   ]
  },
  {
   "cell_type": "code",
   "execution_count": null,
   "metadata": {},
   "outputs": [],
   "source": [
    "dir(clf)"
   ]
  },
  {
   "cell_type": "code",
   "execution_count": 169,
   "metadata": {},
   "outputs": [],
   "source": [
    "# l = []\n",
    "# for i in range(len(clf.feature_names_)):\n",
    "#     l.append([clf.feature_importances_[i], clf.feature_names_[i]])\n",
    "\n",
    "l = []\n",
    "for i in range(len(X.columns)):\n",
    "    l.append([clf.feature_importances_[i], X.columns[i]])\n"
   ]
  },
  {
   "cell_type": "code",
   "execution_count": 170,
   "metadata": {},
   "outputs": [],
   "source": [
    "l.sort(reverse = True)"
   ]
  },
  {
   "cell_type": "code",
   "execution_count": 171,
   "metadata": {},
   "outputs": [],
   "source": [
    "l = np.array(l)"
   ]
  },
  {
   "cell_type": "code",
   "execution_count": 172,
   "metadata": {},
   "outputs": [
    {
     "data": {
      "text/plain": [
       "[array(['1440', 'matcher_game_mean_acc'], dtype='<U35'),\n",
       " array(['1255', 'poids_game_mean_acc'], dtype='<U35'),\n",
       " array(['1238', 'matcher_time_inst_mean'], dtype='<U35'),\n",
       " array(['1174', 'poids_time_inst_mean'], dtype='<U35'),\n",
       " array(['1124', 'taille_time_inst_mean'], dtype='<U35'),\n",
       " array(['1117', 'mesurer_time_inst_mean'], dtype='<U35'),\n",
       " array(['1081', 'pred_title'], dtype='<U35'),\n",
       " array(['1016', 'trier_time_inst_mean'], dtype='<U35'),\n",
       " array(['1001', 'taille_assessment_action_mean'], dtype='<U35'),\n",
       " array(['977', 'volume_time_inst_mean'], dtype='<U35'),\n",
       " array(['955', 'matcher_game_action_mean'], dtype='<U35'),\n",
       " array(['940', 'taille_game_mean_acc'], dtype='<U35'),\n",
       " array(['936', 'matcher_assessment_action_mean'], dtype='<U35'),\n",
       " array(['891', 'taille_game_action_mean'], dtype='<U35'),\n",
       " array(['875', 'matcher_activity_action_mean'], dtype='<U35'),\n",
       " array(['850', 'matcher_game_start_round_mean'], dtype='<U35'),\n",
       " array(['826', 'taille_assessment_mean_acc'], dtype='<U35'),\n",
       " array(['780', 'volume_activity_action_mean'], dtype='<U35'),\n",
       " array(['748', 'poids_game_action_mean'], dtype='<U35'),\n",
       " array(['729', 'taille_activity_action_mean'], dtype='<U35'),\n",
       " array(['714', 'volume_act_start_round_mean'], dtype='<U35'),\n",
       " array(['692', 'mesurer_assessment_mean_acc'], dtype='<U35'),\n",
       " array(['668', 'taille_activity_action_sum'], dtype='<U35'),\n",
       " array(['664', 'trier_assessment_action_mean'], dtype='<U35'),\n",
       " array(['619', 'matcher_game_action_sum'], dtype='<U35'),\n",
       " array(['608', 'matcher_assessment_mean_acc'], dtype='<U35'),\n",
       " array(['602', 'matcher_activity_action_sum'], dtype='<U35'),\n",
       " array(['592', 'poids_game_start_round_mean'], dtype='<U35'),\n",
       " array(['587', 'matcher_assessment_action_sum'], dtype='<U35'),\n",
       " array(['584', 'mesurer_activity_action_mean'], dtype='<U35'),\n",
       " array(['583', 'poids_assessment_action_mean'], dtype='<U35'),\n",
       " array(['582', 'taille_assessment_action_sum'], dtype='<U35'),\n",
       " array(['577', 'volume_assessment_action_mean'], dtype='<U35'),\n",
       " array(['573', 'mesurer_game_mean_acc'], dtype='<U35'),\n",
       " array(['570', 'trier_assessment_mean_acc'], dtype='<U35'),\n",
       " array(['553', 'volume_activity_action_sum'], dtype='<U35'),\n",
       " array(['553', 'mesurer_game_action_mean'], dtype='<U35'),\n",
       " array(['541', 'taille_game_start_round_mean'], dtype='<U35'),\n",
       " array(['535', 'poids_game_action_sum'], dtype='<U35'),\n",
       " array(['531', 'poids_game_max_acc'], dtype='<U35'),\n",
       " array(['530', 'volume_game_action_mean'], dtype='<U35'),\n",
       " array(['526', 'volume_game_start_round_mean'], dtype='<U35'),\n",
       " array(['515', 'taille_time_inst_sum'], dtype='<U35'),\n",
       " array(['510', 'trier_game_action_mean'], dtype='<U35'),\n",
       " array(['510', 'taille_game_action_sum'], dtype='<U35'),\n",
       " array(['509', 'poids_assessment_mean_acc'], dtype='<U35'),\n",
       " array(['506', 'mesurer_assessment_action_mean'], dtype='<U35'),\n",
       " array(['498', 'poids_activity_action_mean'], dtype='<U35'),\n",
       " array(['483', 'matcher_game_start_round_sum'], dtype='<U35'),\n",
       " array(['479', 'mesurer_assessment_start_round_mean'], dtype='<U35'),\n",
       " array(['479', 'mesurer_assessment_max_acc'], dtype='<U35'),\n",
       " array(['472', 'volume_act_start_round_sum'], dtype='<U35'),\n",
       " array(['467', 'matcher_game_min_acc'], dtype='<U35'),\n",
       " array(['463', 'title_27'], dtype='<U35'),\n",
       " array(['463', 'poids_game_min_acc'], dtype='<U35'),\n",
       " array(['454', 'trier_game_action_sum'], dtype='<U35'),\n",
       " array(['448', 'volume_assessment_action_sum'], dtype='<U35'),\n",
       " array(['448', 'trier_assessment_action_sum'], dtype='<U35'),\n",
       " array(['444', 'volume_game_mean_acc'], dtype='<U35'),\n",
       " array(['444', 'poids_assessment_action_sum'], dtype='<U35'),\n",
       " array(['414', 'taille_assessment_last_acc'], dtype='<U35'),\n",
       " array(['405', 'mesurer_activity_action_sum'], dtype='<U35'),\n",
       " array(['400', 'taille_assessment_start_round_mean'], dtype='<U35'),\n",
       " array(['400', 'mesurer_game_start_round_mean'], dtype='<U35'),\n",
       " array(['395', 'taille_game_min_acc'], dtype='<U35'),\n",
       " array(['385', 'volume_game_action_sum'], dtype='<U35'),\n",
       " array(['372', 'taille_game_start_round_sum'], dtype='<U35'),\n",
       " array(['362', 'mesurer_game_action_sum'], dtype='<U35'),\n",
       " array(['362', 'matcher_game_max_acc'], dtype='<U35'),\n",
       " array(['355', 'matcher_n_game'], dtype='<U35'),\n",
       " array(['351', 'trier_game_mean_acc'], dtype='<U35'),\n",
       " array(['350', 'mesurer_assessment_action_sum'], dtype='<U35'),\n",
       " array(['331', 'trier_n_clips'], dtype='<U35'),\n",
       " array(['330', 'poids_game_start_round_sum'], dtype='<U35'),\n",
       " array(['325', 'title_24'], dtype='<U35'),\n",
       " array(['324', 'trier_assessment_last_acc'], dtype='<U35'),\n",
       " array(['316', 'matcher_assessment_last_acc'], dtype='<U35'),\n",
       " array(['311', 'trier_time_inst_sum'], dtype='<U35'),\n",
       " array(['309', 'mesurer_game_min_acc'], dtype='<U35'),\n",
       " array(['305', 'title_36'], dtype='<U35'),\n",
       " array(['304', 'poids_time_inst_sum'], dtype='<U35'),\n",
       " array(['300', 'trier_game_max_acc'], dtype='<U35'),\n",
       " array(['299', 'matcher_time_inst_sum'], dtype='<U35'),\n",
       " array(['289', 'volume_game_min_acc'], dtype='<U35'),\n",
       " array(['264', 'matcher_assessment_start_round_mean'], dtype='<U35'),\n",
       " array(['263', 'poids_activity_action_sum'], dtype='<U35'),\n",
       " array(['254', 'taille_game_max_acc'], dtype='<U35'),\n",
       " array(['252', 'mesurer_game_max_acc'], dtype='<U35'),\n",
       " array(['240', 'trier_game_start_round_mean'], dtype='<U35'),\n",
       " array(['239', 'mesurer_time_inst_sum'], dtype='<U35'),\n",
       " array(['233', 'matcher_act_start_round_mean'], dtype='<U35'),\n",
       " array(['224', 'trier_assessment_max_acc'], dtype='<U35'),\n",
       " array(['222', 'taille_assessment_min_acc'], dtype='<U35'),\n",
       " array(['217', 'mesurer_act_start_round_mean'], dtype='<U35'),\n",
       " array(['216', 'poids_assessment_last_acc'], dtype='<U35'),\n",
       " array(['216', 'poids_assessment_first_acc'], dtype='<U35'),\n",
       " array(['216', 'mesurer_game_start_round_sum'], dtype='<U35'),\n",
       " array(['215', 'taille_n_game'], dtype='<U35'),\n",
       " array(['210', 'matcher_assessment_first_acc'], dtype='<U35'),\n",
       " array(['206', 'volume_time_inst_sum'], dtype='<U35'),\n",
       " array(['205', 'poids_assessment_max_acc'], dtype='<U35'),\n",
       " array(['203', 'volume_game_start_round_sum'], dtype='<U35'),\n",
       " array(['202', 'volume_assessment_mean_acc'], dtype='<U35'),\n",
       " array(['199', 'trier_game_min_acc'], dtype='<U35'),\n",
       " array(['193', 'mesurer_assessment_last_acc'], dtype='<U35'),\n",
       " array(['184', 'mesurer_n_game'], dtype='<U35'),\n",
       " array(['177', 'title_14'], dtype='<U35'),\n",
       " array(['175', 'taille_n_clips'], dtype='<U35'),\n",
       " array(['170', 'volume_n_activity'], dtype='<U35'),\n",
       " array(['166', 'taille_assessment_max_acc'], dtype='<U35'),\n",
       " array(['165', 'poids_n_assessment'], dtype='<U35'),\n",
       " array(['162', 'poids_n_clips'], dtype='<U35'),\n",
       " array(['155', 'taille_assessment_first_acc'], dtype='<U35'),\n",
       " array(['154', 'volume_assessment_start_round_mean'], dtype='<U35'),\n",
       " array(['154', 'trier_game_start_round_sum'], dtype='<U35'),\n",
       " array(['145', 'trier_n_assessment'], dtype='<U35'),\n",
       " array(['145', 'taille_n_activity'], dtype='<U35'),\n",
       " array(['139', 'trier_assessment_first_acc'], dtype='<U35'),\n",
       " array(['134', 'mesurer_n_assessment'], dtype='<U35'),\n",
       " array(['132', 'taille_n_assessment'], dtype='<U35'),\n",
       " array(['131', 'volume_game_max_acc'], dtype='<U35'),\n",
       " array(['130', 'matcher_assessment_start_round_sum'], dtype='<U35'),\n",
       " array(['129', 'title_28'], dtype='<U35'),\n",
       " array(['129', 'taille_assessment_start_round_sum'], dtype='<U35'),\n",
       " array(['127', 'mesurer_assessment_min_acc'], dtype='<U35'),\n",
       " array(['126', 'matcher_assessment_min_acc'], dtype='<U35'),\n",
       " array(['125', 'trier_assessment_min_acc'], dtype='<U35'),\n",
       " array(['125', 'matcher_assessment_max_acc'], dtype='<U35'),\n",
       " array(['123', 'poids_n_game'], dtype='<U35'),\n",
       " array(['122', 'matcher_n_activity'], dtype='<U35'),\n",
       " array(['120', 'mesurer_assessment_start_round_sum'], dtype='<U35'),\n",
       " array(['119', 'poids_act_start_round_mean'], dtype='<U35'),\n",
       " array(['118', 'trier_assessment_start_round_mean'], dtype='<U35'),\n",
       " array(['111', 'volume_assessment_last_acc'], dtype='<U35'),\n",
       " array(['110', 'mesurer_assessment_first_acc'], dtype='<U35'),\n",
       " array(['102', 'volume_n_game'], dtype='<U35'),\n",
       " array(['102', 'matcher_n_assessment'], dtype='<U35'),\n",
       " array(['100', 'poids_assessment_min_acc'], dtype='<U35'),\n",
       " array(['89', 'matcher_n_clips'], dtype='<U35'),\n",
       " array(['87', 'mesurer_n_activity'], dtype='<U35'),\n",
       " array(['77', 'volume_assessment_min_acc'], dtype='<U35'),\n",
       " array(['76', 'trier_n_game'], dtype='<U35'),\n",
       " array(['62', 'poids_n_activity'], dtype='<U35'),\n",
       " array(['58', 'trier_assessment_start_round_sum'], dtype='<U35'),\n",
       " array(['56', 'volume_assessment_first_acc'], dtype='<U35'),\n",
       " array(['54', 'taille_assessment_last_acc_group'], dtype='<U35'),\n",
       " array(['52', 'volume_n_assessment'], dtype='<U35'),\n",
       " array(['49', 'volume_assessment_start_round_sum'], dtype='<U35'),\n",
       " array(['42', 'mesurer_assessment_first_acc_group'], dtype='<U35'),\n",
       " array(['30', 'mesurer_assessment_last_acc_group'], dtype='<U35'),\n",
       " array(['27', 'poids_act_start_round_sum'], dtype='<U35'),\n",
       " array(['24', 'trier_assessment_last_acc_group'], dtype='<U35'),\n",
       " array(['24', 'poids_assessment_start_round_sum'], dtype='<U35'),\n",
       " array(['23', 'taille_assessment_first_acc_group'], dtype='<U35'),\n",
       " array(['23', 'matcher_assessment_last_acc_group'], dtype='<U35'),\n",
       " array(['20', 'matcher_assessment_first_acc_group'], dtype='<U35'),\n",
       " array(['18', 'volume_assessment_max_acc'], dtype='<U35'),\n",
       " array(['17', 'mesurer_n_clips'], dtype='<U35'),\n",
       " array(['14', 'poids_assessment_last_acc_group'], dtype='<U35'),\n",
       " array(['14', 'poids_assessment_first_acc_group'], dtype='<U35'),\n",
       " array(['9', 'volume_assessment_last_acc_group'], dtype='<U35'),\n",
       " array(['5', 'volume_assessment_first_acc_group'], dtype='<U35'),\n",
       " array(['4', 'trier_assessment_first_acc_group'], dtype='<U35'),\n",
       " array(['4', 'matcher_act_start_round_sum'], dtype='<U35'),\n",
       " array(['3', 'taille_act_start_round_mean'], dtype='<U35'),\n",
       " array(['1', 'poids_assessment_start_round_mean'], dtype='<U35'),\n",
       " array(['0', 'volume_n_clips'], dtype='<U35'),\n",
       " array(['0', 'trier_n_activity'], dtype='<U35'),\n",
       " array(['0', 'trier_activity_action_sum'], dtype='<U35'),\n",
       " array(['0', 'trier_activity_action_mean'], dtype='<U35'),\n",
       " array(['0', 'trier_act_start_round_sum'], dtype='<U35'),\n",
       " array(['0', 'trier_act_start_round_mean'], dtype='<U35'),\n",
       " array(['0', 'taille_act_start_round_sum'], dtype='<U35'),\n",
       " array(['0', 'mesurer_act_start_round_sum'], dtype='<U35')]"
      ]
     },
     "execution_count": 172,
     "metadata": {},
     "output_type": "execute_result"
    }
   ],
   "source": [
    "list(l)"
   ]
  },
  {
   "cell_type": "code",
   "execution_count": null,
   "metadata": {},
   "outputs": [],
   "source": [
    "l[:,0].astype('float64').sum()"
   ]
  },
  {
   "cell_type": "code",
   "execution_count": null,
   "metadata": {},
   "outputs": [],
   "source": [
    "p = 0.1\n",
    "feats_to_keep = l[l[:,0].astype('float64') > p,1]\n",
    "l[l[:,0].astype('float64') > p,0].astype('float64').sum()"
   ]
  },
  {
   "cell_type": "code",
   "execution_count": null,
   "metadata": {},
   "outputs": [],
   "source": [
    "feats_to_keep.shape"
   ]
  },
  {
   "cell_type": "markdown",
   "metadata": {},
   "source": [
    "## Test "
   ]
  },
  {
   "cell_type": "code",
   "execution_count": 187,
   "metadata": {},
   "outputs": [],
   "source": [
    "ids, game_inst = load('test_labels')\n",
    "df_data = load('smart test dataset')\n",
    "# df_data = ajusted_test\n",
    "df_data = df_data.replace({'pred_title': dtitle})\n",
    "df_data =df_data.fillna(-2)\n"
   ]
  },
  {
   "cell_type": "code",
   "execution_count": 188,
   "metadata": {},
   "outputs": [],
   "source": [
    "X1 = pd.get_dummies(df_data, columns=[\"pred_title\"], prefix=[\"title\"])\n",
    "df_data['title_14'] = X1['title_14']\n",
    "df_data['title_27'] = X1['title_27']\n",
    "df_data['title_28'] = X1['title_28']\n",
    "df_data['title_36'] = X1['title_36']\n",
    "df_data['title_24'] = X1['title_24']\n",
    "\n",
    "df_data = df_data.astype('float64')\n",
    "\n",
    "df_data = df_data[features]"
   ]
  },
  {
   "cell_type": "code",
   "execution_count": 189,
   "metadata": {},
   "outputs": [],
   "source": [
    "pred = clf.predict(df_data)\n",
    "# pred = pred.reshape((pred.shape[0])).astype(int)"
   ]
  },
  {
   "cell_type": "code",
   "execution_count": 190,
   "metadata": {},
   "outputs": [
    {
     "data": {
      "text/plain": [
       "array([ 1.81549613,  2.10122925,  0.85014391,  0.46212299,  0.65341139,\n",
       "        2.37252602,  2.76638524,  2.21918519,  2.44662523,  2.06519301,\n",
       "        2.46364321,  0.46144084,  1.28747396,  1.49814846,  0.48497701,\n",
       "        0.21933067,  2.19509306,  2.21918519,  1.34421756,  2.67887907,\n",
       "        2.31212616,  2.34634278,  2.37737061,  1.30518003,  1.49813953,\n",
       "        2.18350585,  2.68748506,  2.32353201,  2.02322669,  1.33899491,\n",
       "        0.29289556,  2.20627432,  2.06738534,  1.61982658,  2.24996732,\n",
       "        2.48710801,  0.80903903,  2.53913074,  2.60926803,  2.42547725,\n",
       "        2.67753862,  2.18350585,  2.21960749,  0.42301845,  2.56698939,\n",
       "        0.88299116,  2.68118626,  2.34764777,  2.79089518,  1.05857601,\n",
       "        2.36226626,  2.18069435,  1.61764034,  1.87548988,  2.63017734,\n",
       "        2.4479589 ,  1.39478673,  2.53319329,  2.40753322,  2.60396038,\n",
       "        2.56646777,  2.17153293,  2.21918519,  2.54049009,  1.046119  ,\n",
       "        2.59268569,  2.34053255,  2.09935585,  2.72211127,  2.49391987,\n",
       "        1.8869747 ,  2.39052156,  2.12727498,  1.29723246,  2.66898998,\n",
       "        2.6513248 ,  2.14936295,  2.2859213 ,  0.23852967,  2.46162266,\n",
       "        1.87581329,  1.56928975,  2.20440827,  2.49865813,  2.03102113,\n",
       "        2.37579631,  2.47893909,  2.62552455,  2.67156421,  1.72311932,\n",
       "        0.30807348,  2.95966131,  2.64434206,  2.58605319,  2.52902522,\n",
       "        2.33284432,  2.66860028,  1.85902691,  2.33058016,  2.46171937,\n",
       "        2.18350585,  0.64600152,  2.19809138,  2.32239171,  2.33807173,\n",
       "        2.62881134,  1.36411213,  1.57565775,  2.29734543,  1.66055447,\n",
       "        2.63254033,  2.33066814,  2.16438693,  1.67182835,  2.31932218,\n",
       "        2.57680919,  1.71985382,  2.62062898,  2.66127009,  2.12343895,\n",
       "        2.56950275,  2.44922716,  2.08775376,  1.95155461,  2.24485105,\n",
       "        2.0378538 ,  2.13113641,  2.55495619,  2.20213003,  1.94196471,\n",
       "        1.20764275,  1.57249233,  0.89948194,  1.94141809,  2.15542486,\n",
       "        2.6891306 ,  2.71342893,  2.27924277,  0.86784718,  0.91726337,\n",
       "        1.99902083,  2.65448295,  2.26952618,  2.57454599,  2.41722083,\n",
       "        2.30582311,  1.98265011,  1.26267892,  2.36308501,  1.63286231,\n",
       "        2.44652763,  2.47792095,  0.66471784,  0.43528837,  2.01639737,\n",
       "        0.7832448 ,  2.84380878,  0.33274969,  0.50174474,  2.66863889,\n",
       "        1.20714415,  1.60881455,  1.88237091,  1.29723246,  2.00248948,\n",
       "        2.31655861,  1.98302568,  2.44231339,  0.34069812,  2.2666487 ,\n",
       "        2.27309696,  2.05806173,  1.53361109,  0.87946441,  2.7165768 ,\n",
       "        2.27309696,  2.71280386,  2.5431592 ,  2.51434226,  1.95159541,\n",
       "        2.61886382,  1.72563193,  2.57754623,  2.18350585,  2.35274537,\n",
       "        1.45971664,  2.42729216,  2.43970414,  2.68646481,  2.68722915,\n",
       "        0.51507798,  2.50842683,  2.46615901,  2.18350585,  0.39227762,\n",
       "        2.2580229 ,  0.95583516,  1.9553151 ,  2.42778737,  2.10921363,\n",
       "        2.01396069,  2.40062797,  1.64405767,  1.49129683,  0.92409342,\n",
       "        2.93469601,  2.30248155,  0.5833458 ,  2.29254575,  0.42727859,\n",
       "        1.0575462 ,  0.53526792,  2.39467934,  2.21163174,  2.46960808,\n",
       "        2.81686932,  2.33967841,  1.87759732,  2.63226433,  0.663775  ,\n",
       "        2.34135968,  1.90750619,  0.67945571,  2.58240791,  2.66924643,\n",
       "        2.28318457,  1.48872161,  2.24474834,  2.03818592,  2.54719481,\n",
       "        0.08000318,  2.28027738,  2.75205867,  2.61198915,  1.06053139,\n",
       "        2.32196525,  2.05702418,  2.66757322,  0.77029743,  2.16418163,\n",
       "        2.78116231,  1.72923997,  2.15484118,  2.18350585,  2.40246808,\n",
       "        0.70545941,  2.34365045,  1.708107  ,  2.28627471,  2.33215057,\n",
       "        0.36794712,  1.14551475,  2.35911686,  2.66335649,  0.33800855,\n",
       "        1.81115757,  2.46791915,  0.29942697,  2.35534992,  2.70968282,\n",
       "        1.64901388,  2.00220838,  2.62737235,  1.09874901,  2.79855948,\n",
       "        2.20404892,  0.69265055,  2.29763346,  2.13855726,  2.21163174,\n",
       "        0.41271238,  2.24835705,  2.40598877,  2.18350585,  2.11812896,\n",
       "        1.68856274,  2.42532224,  2.50195161,  1.77256485,  2.4655009 ,\n",
       "        2.57172261,  2.35299232,  1.44594963,  0.8884075 ,  2.03819072,\n",
       "        2.2838886 ,  2.63316317,  2.40178356,  0.73234791,  2.23346617,\n",
       "        2.23322895,  2.84320706,  2.61670258,  0.39151318,  1.14499833,\n",
       "        1.16082794,  0.67945571,  1.3462908 ,  2.33219822,  2.3483807 ,\n",
       "        0.98336724,  0.97075306,  2.21163174,  1.9440021 ,  2.53984896,\n",
       "        2.18782012,  2.74967362,  2.54947787,  1.37489246,  1.86921538,\n",
       "        1.95099278,  2.38742497,  2.43304672,  0.83414828,  0.98609491,\n",
       "        2.68193172,  2.2241253 ,  2.54796978,  2.09518552,  2.27309696,\n",
       "        2.21829355,  1.19784548,  1.85550141,  1.5505748 ,  2.39824858,\n",
       "        1.34866965,  1.34573134,  1.67469404,  2.68111891,  2.23479078,\n",
       "        2.2294003 ,  0.57799295,  2.0145817 ,  1.959743  ,  1.03341018,\n",
       "        2.13025931,  2.6651976 ,  2.0541444 ,  1.25565885,  2.59936042,\n",
       "        1.18251904,  2.30777105,  1.6187313 ,  1.75407942,  0.20524903,\n",
       "        2.17293836,  2.27309696,  1.60899161,  2.17564013,  2.18350585,\n",
       "        2.36276986,  1.86938   ,  1.79944371,  2.12522643,  2.43838279,\n",
       "        2.37302516,  2.31047048,  0.55702568,  0.56367262,  2.34949999,\n",
       "        1.69105552,  2.43029443,  0.51761044,  1.5311196 ,  1.02713755,\n",
       "        2.39281494,  0.96171419,  2.18350585,  1.29723246,  0.60039306,\n",
       "        1.63527683,  2.05900086,  2.36273419,  2.24424483,  0.61203308,\n",
       "        1.50177447,  2.57668471,  1.13903663,  1.50840794,  2.09783097,\n",
       "        2.12318685,  2.36674649,  2.59141261,  2.33455024,  2.21918519,\n",
       "        2.87512484,  2.50211409,  1.56443316,  1.4147853 ,  2.28186728,\n",
       "        1.22457943,  2.62266165,  0.22359425,  2.50897177,  2.18984988,\n",
       "        1.85197286,  2.11025317,  2.83876279,  1.29646053,  2.21918519,\n",
       "        1.00771822,  0.55823438,  2.312407  ,  2.14555951,  1.51784107,\n",
       "        0.55859249,  2.23835666,  2.45414947,  1.43731988,  2.73057143,\n",
       "        2.25190957,  1.5029202 ,  2.21693571,  2.27572637,  2.52318709,\n",
       "        0.56856621,  2.68296854,  0.73411034,  2.76114447,  2.14145688,\n",
       "        2.14857132,  2.478603  ,  2.18325631,  1.6728025 ,  2.27309696,\n",
       "        1.58712272,  1.74210794,  2.80563387,  0.68254976,  2.48301717,\n",
       "        1.95352403,  2.27540443,  2.40025046,  2.69339845,  2.42852647,\n",
       "        1.71154278,  2.09111961,  0.19699178,  1.85033869,  0.29380413,\n",
       "        1.72196011,  2.24820818,  2.15973072,  1.82219995,  1.41036999,\n",
       "        2.1319655 ,  2.27309696,  2.21918519,  2.31366176,  2.36281845,\n",
       "        1.79934006,  2.4144221 ,  2.43314566,  0.90706735,  2.61754158,\n",
       "        0.67945571,  2.31563813,  2.40670123,  2.6521613 ,  1.27419764,\n",
       "        2.26712311,  2.39545034,  2.46785681,  2.21163174,  2.17574363,\n",
       "        1.80655778,  0.27763984,  2.07466464,  2.70470585,  1.72801223,\n",
       "        2.65693439,  2.29931554,  2.55596373,  2.32462172,  2.18350585,\n",
       "        2.21918519,  2.46920679,  2.53242599,  1.84124559,  2.55693269,\n",
       "        1.26200565,  2.23704908,  1.84536898,  2.5281596 ,  1.67128853,\n",
       "        2.71699409,  2.63765904,  1.80973273,  2.86884617,  1.93630289,\n",
       "        1.33382882,  1.82582919,  2.3615722 ,  1.6461587 ,  2.41837214,\n",
       "        2.07122497,  2.20150139,  0.1993304 ,  2.73629452,  0.62892433,\n",
       "        2.50885568,  2.44923488,  1.59163552,  2.77693719,  2.24237357,\n",
       "        2.62216106,  0.93920058,  0.65229945,  2.18005963,  1.66150756,\n",
       "        2.35231827,  2.6262091 ,  2.45293487,  1.56821926,  1.78315802,\n",
       "        2.27309696,  2.14790917,  0.48601315,  2.45831726,  2.14803417,\n",
       "        2.57381751,  2.58072767,  0.53259239,  1.6261373 ,  2.34252372,\n",
       "        2.77279657,  2.62360325,  0.35987866,  2.13993501,  2.3991894 ,\n",
       "        2.41684727,  1.59995069,  0.65291791,  2.54602584,  2.78515207,\n",
       "        2.00186182,  1.99077772,  2.61973859,  2.20040526,  2.33948751,\n",
       "        1.62171869,  2.27376828,  1.28678309,  1.91473645,  0.38135861,\n",
       "        2.60154708,  2.21918519,  2.28039036,  2.1495402 ,  0.56541683,\n",
       "        2.55265982,  2.67871211,  2.62284626,  2.27309696,  2.61030658,\n",
       "        1.33531064,  2.13066602,  2.54874636,  2.18877589,  0.5819799 ,\n",
       "        1.8577787 ,  1.76271895,  2.4425679 ,  2.75337228,  2.00088558,\n",
       "        2.52366131,  2.19542946,  2.18350585,  0.79803594,  2.10694542,\n",
       "        2.18416886,  2.21918519,  2.50007257,  2.27309696,  2.38646553,\n",
       "        2.37010822,  2.37062778,  2.40186185,  0.2887804 ,  2.34935625,\n",
       "        0.82914405,  1.78832196,  1.67158955,  2.18796703,  2.61042289,\n",
       "        2.50436673,  2.04600937,  2.29369852,  1.96442358,  1.630406  ,\n",
       "        1.88358486,  1.92543163,  2.67669505,  1.6606951 ,  1.80085222,\n",
       "        2.37356207,  2.67827098,  2.14090177,  0.83581933,  2.16143906,\n",
       "        1.51206558,  2.09479892,  2.57899708,  2.23301677,  1.51210231,\n",
       "        1.56623981,  1.63103489,  2.45915846,  1.72772262,  1.96255757,\n",
       "        2.39543061,  2.46681753,  2.26283959,  2.65264767,  1.85356348,\n",
       "        2.08473794,  2.27309696,  0.52832104,  2.78733582,  1.98366728,\n",
       "        2.26177524,  0.4921831 ,  1.86259633,  2.08905261,  2.87587671,\n",
       "        2.75958067,  1.51848146,  0.23187652,  2.01429246,  1.49947145,\n",
       "        0.35629688,  1.5530791 ,  1.09666799,  2.15359432,  2.49394334,\n",
       "        1.29723246,  2.21918519,  2.43100649,  0.67056633,  0.83053206,\n",
       "        2.20367963,  0.9627769 ,  2.14468944,  1.32069263,  2.47542185,\n",
       "        0.33888162,  2.67081475,  2.20679279,  1.9024795 ,  0.37916113,\n",
       "        2.04940691,  2.34977935,  0.98153685,  2.12923422,  1.94730375,\n",
       "        2.77587395,  2.6336464 ,  0.13806964,  1.94367954,  2.10884321,\n",
       "        0.65253052,  1.55833116,  1.89599672,  1.838348  ,  2.29657463,\n",
       "        0.50950996,  0.94171455,  2.27709686,  2.21163174,  2.53515957,\n",
       "        2.02860164,  2.21918519,  1.24123395,  2.56243272,  1.17585807,\n",
       "        1.32335326,  2.31685775,  0.63502231,  1.5426617 ,  1.7338999 ,\n",
       "        2.5038982 ,  2.07927976,  2.8515777 ,  2.21918519,  2.14206166,\n",
       "        2.21163174,  2.53274792,  1.24487073,  2.62729949,  2.27446633,\n",
       "        2.37006654,  1.20949272,  2.3483779 ,  2.17203694,  1.79602148,\n",
       "        2.06992525,  1.82942511,  2.44569361,  2.00712449,  0.45966941,\n",
       "        2.63809941,  2.48756468,  1.91820994,  2.27163452,  2.63829502,\n",
       "        2.55564764,  1.70173376,  2.6172516 ,  2.35446422,  1.82677708,\n",
       "        1.81075178,  1.88572932,  2.21918519,  2.0024575 ,  0.6313387 ,\n",
       "       -0.26659205,  0.52746433,  2.1757681 ,  0.21968448,  2.49205064,\n",
       "        2.57747915,  2.15630238,  1.60502913,  1.38171016,  2.21918519,\n",
       "        2.78859604,  1.93372685,  2.39397884,  2.18350585,  2.40422049,\n",
       "        0.88325806,  2.306004  ,  2.41388438,  1.35286833,  1.65457788,\n",
       "        1.74852039,  2.66837099,  2.05839005,  2.47052591,  0.57664149,\n",
       "        0.57085505,  2.66966347,  2.18350585,  2.24238346,  0.66446374,\n",
       "        2.29072798,  2.35798452,  1.83372394,  1.95876314,  1.13024239,\n",
       "        1.14145566,  1.04517351,  2.21829355,  1.89344283,  1.66631473,\n",
       "        2.53414311,  2.78563858,  2.49643587,  1.69982789,  2.14370967,\n",
       "        1.97276168,  2.03160202,  2.48643156,  0.84033492,  0.48579929,\n",
       "        1.00476794,  2.48486218,  1.26376621,  0.65790319,  1.52623744,\n",
       "        2.49922302,  0.67945571,  2.11435231,  2.62139435,  2.83578964,\n",
       "        2.41946697,  2.18350585,  1.80657356,  2.21918519,  2.66551812,\n",
       "        0.90121501,  2.54286223,  2.21163174,  2.16864911,  2.09851996,\n",
       "        2.11936143,  2.4867584 ,  2.83519485,  2.40446955,  2.4251947 ,\n",
       "        1.58766561,  2.53230063,  2.66852595,  2.6692845 ,  2.57801703,\n",
       "        2.56039214,  2.4998415 ,  1.39857242,  2.24856558,  1.63012461,\n",
       "        1.40589165,  0.80727139,  2.44858618,  2.61438797,  2.47003783,\n",
       "        2.52055568,  1.94934217,  1.72032749,  2.7130667 ,  1.58439303,\n",
       "        2.51770251,  1.75032694,  2.27309696,  1.93434019,  2.18380708,\n",
       "        2.43055455,  2.1349723 ,  2.02802173,  0.55628772,  0.92262718,\n",
       "        2.03358546,  2.08810226,  2.38440421,  2.29794313,  2.63084663,\n",
       "        2.67708992,  2.5696689 ,  2.53380869,  2.09896884,  2.45106532,\n",
       "        2.40424952,  2.30767949,  2.14468944,  2.67454443,  2.28008113,\n",
       "        2.21918519,  1.69753184,  2.08077913,  2.18200763,  2.49625852,\n",
       "        2.21918519,  2.11874621,  2.18350585,  0.42942083,  0.69905374,\n",
       "        2.40906445,  2.4072589 ,  1.10888199,  2.62803512,  1.36495283,\n",
       "        2.38640058,  2.78498418,  1.28442508,  2.45496085,  2.30393455,\n",
       "        2.2406145 ,  2.38709534,  2.28805786,  2.70756345,  2.04666067,\n",
       "        2.53845814,  2.36949125,  2.5372668 ,  2.35622382,  2.33344331,\n",
       "        2.21918519,  1.73692323,  2.41696919,  2.83661971,  1.81379497,\n",
       "        1.38785342,  2.853222  ,  2.18350585,  2.56808057,  2.6508901 ,\n",
       "        2.13337151,  2.87536565,  2.23194312,  2.07752631,  2.59279428,\n",
       "        2.33042051,  1.98616061,  2.3056151 ,  2.67550076,  2.35883921,\n",
       "        2.70212422,  2.68155822,  1.84065296,  2.67974979,  2.21228816,\n",
       "        2.16825522,  1.57155089,  1.49362788,  2.1526848 ,  0.08242184,\n",
       "        1.48936422,  0.43588836,  0.94075879,  2.21918519,  2.69332051,\n",
       "        1.77238855,  2.40701807,  0.60831947,  2.21918519,  1.95572907,\n",
       "        1.82776073,  2.48660846,  2.4258973 ,  0.48721358,  2.4684351 ,\n",
       "        2.21918519,  2.17473376,  2.7058268 ,  1.9205195 ,  1.87167132,\n",
       "        2.14032047,  2.6451799 ,  2.11894544,  2.32966457,  2.46655089,\n",
       "        2.25426074,  0.67945571,  2.4741092 ,  2.16095842,  2.21988978,\n",
       "        1.25644236,  1.48808451,  1.65212491,  2.66368277,  0.53084827,\n",
       "        2.55321565,  2.43111985,  2.32587465,  2.76634315,  1.81003789,\n",
       "        2.40793759,  1.47586834,  2.54738133,  2.36684507,  2.76066904,\n",
       "        2.62327736,  2.62671939,  1.08234187,  1.99041547,  2.63852762,\n",
       "        1.15920355,  2.76614339,  2.41960922,  1.66677892,  2.28769065,\n",
       "        2.27486064,  1.6329693 ,  1.9753438 ,  2.02432434,  2.63882087,\n",
       "        2.17870579,  2.30131856,  0.48808153,  2.07985072,  2.18462492,\n",
       "        1.7233412 ,  2.29501848,  2.21163174,  1.44991199,  2.59841204,\n",
       "        2.23169354,  2.21918519,  2.16858126,  0.06327692,  2.68669411,\n",
       "        0.45709042,  0.83649467,  0.32413845,  2.21163174,  2.1217941 ,\n",
       "        2.60863285,  2.17677194,  0.80456185,  2.27309696,  2.46671585,\n",
       "        2.30618886,  1.95348262,  0.92742372,  2.63851818,  0.34215676,\n",
       "        1.10458766,  2.29802323,  0.52751261,  1.68008183,  0.42863136,\n",
       "        2.69571026,  1.22976343,  2.36474018,  2.28224238,  2.53267056,\n",
       "        0.22295495,  2.63969693,  2.58920177,  2.67165544,  1.26568589])"
      ]
     },
     "execution_count": 190,
     "metadata": {},
     "output_type": "execute_result"
    }
   ],
   "source": [
    "pred"
   ]
  },
  {
   "cell_type": "code",
   "execution_count": 191,
   "metadata": {},
   "outputs": [
    {
     "name": "stdout",
     "output_type": "stream",
     "text": [
      "{0: 1.5692829977115323, 1: 1.9881290808802548, 2: 2.183505854802488}\n"
     ]
    },
    {
     "data": {
      "image/png": "[encoded data removed]",
      "text/plain": [
       "<Figure size 1800x720 with 1 Axes>"
      ]
     },
     "metadata": {
      "needs_background": "light"
     },
     "output_type": "display_data"
    }
   ],
   "source": [
    "from collections import Counter\n",
    "dist = Counter(y_train)\n",
    "for k in dist:\n",
    "    dist[k] /= len(y_train)\n",
    "plt.hist(y_train)\n",
    "\n",
    "acum = 0\n",
    "bound = {}\n",
    "for i in range(3):\n",
    "    acum += dist[i]\n",
    "    bound[i] = np.percentile(pred, acum * 100)\n",
    "print(bound)\n",
    "\n",
    "def classify(x):\n",
    "    if x <= bound[0]:\n",
    "        return 0\n",
    "    elif x <= bound[1]:\n",
    "        return 1\n",
    "    elif x <= bound[2]:\n",
    "        return 2\n",
    "    else:\n",
    "        return 3\n",
    "    \n",
    "final_pred = np.array(list(map(classify, pred)))"
   ]
  },
  {
   "cell_type": "code",
   "execution_count": null,
   "metadata": {},
   "outputs": [],
   "source": [
    "pred = tres(pred, t).astype(int)\n",
    "# pred = treshold(pred, percent).astype(int)\n",
    "\n",
    "# pred = format(pred, X_train, df_data, y_train).astype(int)"
   ]
  },
  {
   "cell_type": "code",
   "execution_count": 194,
   "metadata": {},
   "outputs": [],
   "source": [
    "pred = final_pred"
   ]
  },
  {
   "cell_type": "code",
   "execution_count": null,
   "metadata": {
    "scrolled": true
   },
   "outputs": [],
   "source": [
    "pred"
   ]
  },
  {
   "cell_type": "code",
   "execution_count": 193,
   "metadata": {},
   "outputs": [
    {
     "data": {
      "text/plain": [
       "(array([231.,   0.,   0., 139.,   0.,   0., 130.,   0.,   0., 500.]),\n",
       " array([0. , 0.3, 0.6, 0.9, 1.2, 1.5, 1.8, 2.1, 2.4, 2.7, 3. ]),\n",
       " <a list of 10 Patch objects>)"
      ]
     },
     "execution_count": 193,
     "metadata": {},
     "output_type": "execute_result"
    },
    {
     "data": {
      "image/png": "[encoded data removed]",
      "text/plain": [
       "<Figure size 1800x720 with 1 Axes>"
      ]
     },
     "metadata": {
      "needs_background": "light"
     },
     "output_type": "display_data"
    }
   ],
   "source": [
    "plt.hist(final_pred)"
   ]
  },
  {
   "cell_type": "code",
   "execution_count": 195,
   "metadata": {},
   "outputs": [],
   "source": [
    "X = []\n",
    "for i in range(len(pred)):\n",
    "    X.append([ids[i], pred[i]])"
   ]
  },
  {
   "cell_type": "code",
   "execution_count": 196,
   "metadata": {},
   "outputs": [],
   "source": [
    "pred = pd.DataFrame(X, columns = ['installation_id','accuracy_group'])"
   ]
  },
  {
   "cell_type": "code",
   "execution_count": 197,
   "metadata": {},
   "outputs": [],
   "source": [
    "pred.index = pred['installation_id']"
   ]
  },
  {
   "cell_type": "code",
   "execution_count": 198,
   "metadata": {},
   "outputs": [],
   "source": [
    "sample_sub = pd.read_csv(subs)\n",
    "sample_sub['accuracy_group'] = pred.loc[sample_sub['installation_id'].values]['accuracy_group'].values"
   ]
  },
  {
   "cell_type": "code",
   "execution_count": 199,
   "metadata": {},
   "outputs": [],
   "source": [
    "sample_sub.to_csv('submission1.csv', index = False)"
   ]
  },
  {
   "cell_type": "code",
   "execution_count": 200,
   "metadata": {},
   "outputs": [
    {
     "data": {
      "text/html": [
       "<div>\n",
       "<style scoped>\n",
       "    .dataframe tbody tr th:only-of-type {\n",
       "        vertical-align: middle;\n",
       "    }\n",
       "\n",
       "    .dataframe tbody tr th {\n",
       "        vertical-align: top;\n",
       "    }\n",
       "\n",
       "    .dataframe thead th {\n",
       "        text-align: right;\n",
       "    }\n",
       "</style>\n",
       "<table border=\"1\" class=\"dataframe\">\n",
       "  <thead>\n",
       "    <tr style=\"text-align: right;\">\n",
       "      <th></th>\n",
       "      <th>installation_id</th>\n",
       "      <th>accuracy_group</th>\n",
       "    </tr>\n",
       "  </thead>\n",
       "  <tbody>\n",
       "    <tr>\n",
       "      <th>0</th>\n",
       "      <td>00abaee7</td>\n",
       "      <td>1</td>\n",
       "    </tr>\n",
       "    <tr>\n",
       "      <th>1</th>\n",
       "      <td>01242218</td>\n",
       "      <td>3</td>\n",
       "    </tr>\n",
       "    <tr>\n",
       "      <th>2</th>\n",
       "      <td>017c5718</td>\n",
       "      <td>3</td>\n",
       "    </tr>\n",
       "    <tr>\n",
       "      <th>3</th>\n",
       "      <td>01a44906</td>\n",
       "      <td>3</td>\n",
       "    </tr>\n",
       "    <tr>\n",
       "      <th>4</th>\n",
       "      <td>01bc6cb6</td>\n",
       "      <td>2</td>\n",
       "    </tr>\n",
       "    <tr>\n",
       "      <th>...</th>\n",
       "      <td>...</td>\n",
       "      <td>...</td>\n",
       "    </tr>\n",
       "    <tr>\n",
       "      <th>995</th>\n",
       "      <td>fee254cf</td>\n",
       "      <td>3</td>\n",
       "    </tr>\n",
       "    <tr>\n",
       "      <th>996</th>\n",
       "      <td>ff57e602</td>\n",
       "      <td>0</td>\n",
       "    </tr>\n",
       "    <tr>\n",
       "      <th>997</th>\n",
       "      <td>ffc73fb2</td>\n",
       "      <td>2</td>\n",
       "    </tr>\n",
       "    <tr>\n",
       "      <th>998</th>\n",
       "      <td>ffe00ca8</td>\n",
       "      <td>1</td>\n",
       "    </tr>\n",
       "    <tr>\n",
       "      <th>999</th>\n",
       "      <td>ffe774cc</td>\n",
       "      <td>1</td>\n",
       "    </tr>\n",
       "  </tbody>\n",
       "</table>\n",
       "<p>1000 rows × 2 columns</p>\n",
       "</div>"
      ],
      "text/plain": [
       "    installation_id  accuracy_group\n",
       "0          00abaee7               1\n",
       "1          01242218               3\n",
       "2          017c5718               3\n",
       "3          01a44906               3\n",
       "4          01bc6cb6               2\n",
       "..              ...             ...\n",
       "995        fee254cf               3\n",
       "996        ff57e602               0\n",
       "997        ffc73fb2               2\n",
       "998        ffe00ca8               1\n",
       "999        ffe774cc               1\n",
       "\n",
       "[1000 rows x 2 columns]"
      ]
     },
     "execution_count": 200,
     "metadata": {},
     "output_type": "execute_result"
    }
   ],
   "source": [
    "sample_sub"
   ]
  },
  {
   "cell_type": "code",
   "execution_count": null,
   "metadata": {},
   "outputs": [],
   "source": []
  },
  {
   "cell_type": "code",
   "execution_count": null,
   "metadata": {},
   "outputs": [],
   "source": []
  }
 ],
 "metadata": {
  "kernelspec": {
   "display_name": "Python 3",
   "language": "python",
   "name": "python3"
  },
  "language_info": {
   "codemirror_mode": {
    "name": "ipython",
    "version": 3
   },
   "file_extension": ".py",
   "mimetype": "text/x-python",
   "name": "python",
   "nbconvert_exporter": "python",
   "pygments_lexer": "ipython3",
   "version": "3.7.4"
  }
 },
 "nbformat": 4,
 "nbformat_minor": 2
}
