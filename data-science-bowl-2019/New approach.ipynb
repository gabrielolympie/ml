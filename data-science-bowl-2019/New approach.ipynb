{
 "cells": [
  {
   "cell_type": "code",
   "execution_count": 1,
   "metadata": {},
   "outputs": [
    {
     "name": "stderr",
     "output_type": "stream",
     "text": [
      "Using TensorFlow backend.\n"
     ]
    }
   ],
   "source": [
    "## General librairies\n",
    "import pandas as pd\n",
    "import numpy as np\n",
    "import _pickle as pickle\n",
    "import matplotlib.pyplot as plt\n",
    "import random\n",
    "import sys\n",
    "import time\n",
    "from copy import deepcopy\n",
    "import os\n",
    "from tqdm import tqdm_notebook as tqdm\n",
    "from sklearn.metrics import cohen_kappa_score\n",
    "import optuna\n",
    "from keras.utils import np_utils\n",
    "from sklearn.model_selection import train_test_split\n",
    "import json\n",
    "\n",
    "import dateutil.parser"
   ]
  },
  {
   "cell_type": "code",
   "execution_count": 2,
   "metadata": {},
   "outputs": [],
   "source": [
    "specs = 'specs.csv'\n",
    "test = 'test.csv'\n",
    "train = 'train.csv'\n",
    "train_labels = 'train_labels.csv'\n",
    "subs = 'sample_submission_exemple.csv'"
   ]
  },
  {
   "cell_type": "code",
   "execution_count": 3,
   "metadata": {},
   "outputs": [],
   "source": [
    "df = pd.read_csv(train)"
   ]
  },
  {
   "cell_type": "code",
   "execution_count": 4,
   "metadata": {},
   "outputs": [],
   "source": [
    "def save(file,name, folder = \"\"):\n",
    "    if folder != \"\":\n",
    "        outfile = open('./'+folder+'/'+name+'.pickle', 'wb')\n",
    "    else:\n",
    "        outfile = open(name+'.pickle', 'wb')\n",
    "    pickle.dump(file, outfile)\n",
    "    outfile.close\n",
    "    \n",
    "def load(name, folder = \"\"):\n",
    "    if folder != \"\":\n",
    "        outfile = open('./'+folder+'/'+name+'.pickle', 'rb')\n",
    "    else:\n",
    "        outfile = open(name+'.pickle', 'rb')\n",
    "    file = pickle.load(outfile)\n",
    "    outfile.close\n",
    "    return file\n",
    "\n",
    "def relative_time(x):\n",
    "    x1 = []\n",
    "    for elt in x:\n",
    "        x1.append((elt-x[0]).item()/1000000000)\n",
    "    return x1\n",
    "\n",
    "def categorise(x):\n",
    "    dico = {}\n",
    "    count = 0\n",
    "    for elt in x:\n",
    "        if not(elt in dico):\n",
    "            dico[elt] = count\n",
    "            count += 1\n",
    "    return dico\n",
    "\n",
    "def padding( dataset, n):\n",
    "    d = list(np.zeros(len(dataset)))\n",
    "    c = 0\n",
    "    count = 0\n",
    "    for elt in dataset:\n",
    "        \n",
    "        if count % 100 == 0:\n",
    "            print(count)\n",
    "        u = elt.shape[0]\n",
    "        \n",
    "        if u<200:\n",
    "            c += 1\n",
    "        \n",
    "        if u > n:\n",
    "            d[count] = elt[-n:]\n",
    "        else:\n",
    "            a = np.zeros(((n-u), elt.shape[1])) -1\n",
    "            elt = np.concatenate([a, elt], axis = 0)\n",
    "            d[count] = elt\n",
    "        count += 1\n",
    "    return d\n",
    "\n",
    "def build_line(df, installation_id, game_session):\n",
    "    \n",
    "    df1 = df[(df['installation_id']==installation_id)&(df['date']<=df[(df['installation_id']==installation_id)&(df['game_session']==game_session)]['date'].iloc[0])]\n",
    "    dico = categorise(df1['game_session'].unique())\n",
    "    df1 = df1.replace({'game_session' : dico})\n",
    "    x = relative_time(df1['date'].values)\n",
    "    \n",
    "    df1['time_delta'] = x\n",
    "    \n",
    "#     df1 = df1.drop_duplicates(subset = ['event_id'])\n",
    "    \n",
    "    cats_to_keep = ['game_session','time_delta','title','type', 'world',  'event_count', 'game_time', 'event_code']\n",
    "    df1 = df1[cats_to_keep]\n",
    "    return df1\n",
    "\n",
    "def format_input(X):\n",
    "    return [X[:,:,4:24], X[:,:,0].reshape((X.shape[0], X.shape[1],1)), \n",
    "            X[:,:,1].reshape((X.shape[0], X.shape[1],1)), \n",
    "            X[:,:,2].reshape((X.shape[0], X.shape[1],1)),\n",
    "            X[:,:,3].reshape((X.shape[0], X.shape[1],1)),\n",
    "            X[:,:,24].reshape((X.shape[0], X.shape[1],1))]\n",
    "\n",
    "def build_feature(i,session):\n",
    "    vect = []\n",
    "    \n",
    "    title = session.iloc[0]['title']\n",
    "    typ = session.iloc[0]['type']\n",
    "    \n",
    "    vect.append(session.iloc[0]['game_session'])    ##game_session\n",
    "    vect.append(session.iloc[0]['installation_id'])   ##installation_id\n",
    "    vect.append(session.iloc[0]['title'])  ##title\n",
    "    vect.append(session.iloc[0]['type'])  ##type\n",
    "    vect.append(session.iloc[0]['world'])  ##world\n",
    "    vect.append(session.iloc[0]['timestamp'])  ##timestamp\n",
    "    \n",
    "    \n",
    "    ## adding validation data if game or assessment\n",
    "    if typ == 'Game' or typ == 'Assessment':\n",
    "        pos = 0\n",
    "        neg = 0\n",
    "        for elt in session[session['event_code']==4100]['event_data']:\n",
    "            a = json.loads(elt)['correct']\n",
    "#             print(a)\n",
    "            if a:\n",
    "                pos+=1\n",
    "            else:\n",
    "                neg+=1\n",
    "            \n",
    "        if pos+neg ==0:\n",
    "            acc = -1\n",
    "        else:\n",
    "            acc = pos/(pos+neg)\n",
    "        \n",
    "#         print(acc)\n",
    "        if acc == 1:\n",
    "            acc_class = 3\n",
    "        elif acc == 0.5:\n",
    "            acc_class = 2\n",
    "        elif acc <=0:\n",
    "            acc_class = 0\n",
    "        else:\n",
    "            acc_class = 1\n",
    "#         print(acc_class)\n",
    "        vect.append(acc_class)   ## accuracy_group\n",
    "        vect.append(acc)       ## accuracy\n",
    "        vect.append(pos)       ## n_positive\n",
    "        vect.append(neg)       ## n_negative\n",
    "            \n",
    "            \n",
    "    else: \n",
    "        vect.append(-1)  ##accuracy_group\n",
    "        vect.append(-1) ## accuracy_group\n",
    "        vect.append(-1)  ## n_positive\n",
    "        vect.append(-1)  ## n_negative\n",
    "    \n",
    "    ## Adding features relative to Game, Assessment and activity\n",
    "    if typ != 'Clip':\n",
    "        ## Avg time per instruction\n",
    "        \n",
    "        st = session['game_time'][session['event_code'] == 3010]\n",
    "        en = session['game_time'][session['event_code'] == 3110]\n",
    "        \n",
    "        s = min(st.shape[0], en.shape[0])\n",
    "        if s!=0:\n",
    "            vect.append((en[:s].sum()-st[:s].sum())/s)  ## time per instruction\n",
    "        else:\n",
    "            vect.append(-1)  ##time per instruction\n",
    "        \n",
    "        ##total_time\n",
    "        total_time = session['game_time'].max()/1000\n",
    "        vect.append(total_time)\n",
    "        \n",
    "        ##number of actions\n",
    "        n_action = session[(session['event_code']>=4020)&(session['event_code']<=4080)].shape[0]\n",
    "        vect.append(n_action)\n",
    "        \n",
    "        ## rounds\n",
    "        n_rounds_st = session[session['event_code']==2020].shape[0]\n",
    "        n_rounds_en = session[session['event_code']==2030].shape[0]\n",
    "        \n",
    "        vect.append(n_rounds_st)\n",
    "        vect.append(n_rounds_st)\n",
    "        \n",
    "        if n_rounds_st != 0:\n",
    "            vect.append(n_action/n_rounds_st)\n",
    "            vect.append(total_time/n_rounds_st)\n",
    "        else:\n",
    "            vect.append(-1)\n",
    "            vect.append(-1)\n",
    "        ## hints\n",
    "        vect.append(session[session['event_code']==4090].shape[0])\n",
    "        \n",
    "    else:\n",
    "        vect.append(-1)  ## time per instruction\n",
    "        vect.append(-1)  ##  total time\n",
    "        vect.append(-1)  ## n_actions\n",
    "        vect.append(-1)  ## n_rounds_start\n",
    "        vect.append(-1)  ## n_round end\n",
    "        vect.append(-1)  ## action per round\n",
    "        vect.append(-1)  ## time per round\n",
    "        vect.append(-1)  ## N_hints\n",
    "    \n",
    "    if typ == 'Game' or typ == 'Assessment':\n",
    "        ## feed backs\n",
    "        \n",
    "        n_correct_f = session[session['event_code'] == 3121].shape[0]\n",
    "        n_incorrect_f = session[session['event_code'] == 3120].shape[0]\n",
    "        \n",
    "        vect.append(n_correct_f)\n",
    "        vect.append(n_incorrect_f)\n",
    "        \n",
    "        if n_incorrect_f + n_correct_f != 0:\n",
    "            vect.append(n_correct_f/(n_correct_f+n_incorrect_f))\n",
    "        else:\n",
    "            vect.append(0)\n",
    "        \n",
    "        if n_correct_f !=0:\n",
    "            vect.append((session['game_time'][session['event_code'] == 3121].sum()-session['game_time'][session['event_code'] == 3021].sum())/n_correct_f)\n",
    "        else:\n",
    "            vect.append(-1)\n",
    "        \n",
    "        if n_incorrect_f !=0:\n",
    "            vect.append((session['game_time'][session['event_code'] == 3120].sum()-session['game_time'][session['event_code'] == 3020].sum())/n_correct_f)\n",
    "        else:\n",
    "            vect.append(-1)\n",
    "    else:\n",
    "        vect.append(-1)  ## correct_feed\n",
    "        vect.append(-1)  ## incorrect_feed\n",
    "        vect.append(-1)  ## acc_feed\n",
    "        vect.append(-1)  ## time correct feedback\n",
    "        vect.append(-1)  ## time incorrect feedback\n",
    "    \n",
    "    if typ == 'Game':\n",
    "        vect.append(session[session['event_code'] == 2080].shape[0])\n",
    "        vect.append(session[session['event_code'] == 2081].shape[0])\n",
    "        vect.append(session[session['event_code'] == 2060].shape[0])\n",
    "        vect.append(session[session['event_code'] == 2075].shape[0])\n",
    "        \n",
    "        \n",
    "    else:\n",
    "        vect.append(-1)  ## n movie\n",
    "        vect.append(-1)  ## n_skipp movie\n",
    "        vect.append(-1)  ## tutorial\n",
    "        vect.append(-1)  ## skipped tutorial\n",
    "        \n",
    "    \n",
    "    \n",
    "    return vect\n",
    "\n",
    "titles = df['title'].unique()\n",
    "def build_set(df, installation_id, game_session):\n",
    "    df1 = df[df['installation_id']==installation_id]\n",
    "    \n",
    "    df1 = df1.sort_values(by = ['date'], ascending = True)\n",
    "    date = df1[df1['game_session']==game_session].iloc[0]['date']\n",
    "    pred_title = df1[df1['game_session']==game_session].iloc[0]['title']\n",
    "    \n",
    "    df1['pred_title'] = pred_title\n",
    "    df1 = df1[df1['date'] < date]\n",
    "    \n",
    "    \n",
    "    vect = []\n",
    "    \n",
    "    vect.append(pred_title)\n",
    "    \n",
    "    ## Clip\n",
    "    df2 = df1[df1['type']=='Clip']\n",
    "    vect.append(df2.shape[0])\n",
    "    \n",
    "    ## Activity\n",
    "    df2 = df1[df1['type']=='Activity']\n",
    "    \n",
    "    #n_activity\n",
    "    vect.append(df2.shape[0])\n",
    "    # instruction\n",
    "    vect.append(df2[df2['time_instruction']!=-1]['time_instruction'].values.astype('float32').mean())\n",
    "    vect.append(df2[df2['total_time']!=-1]['total_time'].values.astype('float32').mean())\n",
    "    vect.append(df2[df2['actions']!=-1]['actions'].values.astype('float32').mean())\n",
    "    vect.append(df2[df2['start_rounds']!=-1]['start_rounds'].values.astype('float32').mean())\n",
    "    vect.append(df2[df2['end_rounds']!=-1]['end_rounds'].values.astype('float32').mean())\n",
    "    vect.append(df2[df2['action_rounds']!=-1]['action_rounds'].values.astype('float32').mean())\n",
    "    vect.append(df2[df2['time_rounds']!=-1]['time_rounds'].values.astype('float32').mean())\n",
    "    vect.append(df2[df2['hints']!=-1]['hints'].values.astype('float32').mean())\n",
    "    \n",
    "    ## Assessment\n",
    "    df2 = df1[df1['type']=='Assessment']\n",
    "    if pred_title in df2['title'].values:\n",
    "        vect.append(1)\n",
    "    else:\n",
    "        vect.append(0)\n",
    "    vect.append(df2.shape[0])\n",
    "    vect.append(df2[df2['accuracy_group']!=-1]['accuracy_group'].values.astype('float32').mean())\n",
    "    vect.append(df2[df2['time_instruction']!=-1]['time_instruction'].values.astype('float32').mean())\n",
    "    vect.append(df2[df2['total_time']!=-1]['total_time'].values.astype('float32').mean())\n",
    "    vect.append(df2[df2['actions']!=-1]['actions'].values.astype('float32').mean())\n",
    "    vect.append(df2[df2['start_rounds']!=-1]['start_rounds'].values.astype('float32').mean())\n",
    "    vect.append(df2[df2['end_rounds']!=-1]['end_rounds'].values.astype('float32').mean())\n",
    "    vect.append(df2[df2['action_rounds']!=-1]['action_rounds'].values.astype('float32').mean())\n",
    "    vect.append(df2[df2['time_rounds']!=-1]['time_rounds'].values.astype('float32').mean())\n",
    "    vect.append(df2[df2['hints']!=-1]['hints'].values.astype('float32').mean())\n",
    "    vect.append(df2[df2['correct_feed']!=-1]['correct_feed'].values.astype('float32').mean())\n",
    "    vect.append(df2[df2['incorrect_feed']!=-1]['incorrect_feed'].values.astype('float32').mean())\n",
    "    vect.append(df2[df2['time_corr_feed']!=-1]['time_corr_feed'].values.astype('float32').mean())\n",
    "    vect.append(df2[df2['time_inc_feed']!=-1]['time_inc_feed'].values.astype('float32').mean())\n",
    "    vect.append(df2[df2['acc_feed']!=-1]['acc_feed'].values.astype('float32').mean())\n",
    "    vect.append(df2[df2['accuracy']!=-1]['accuracy'].values.astype('float32').mean())\n",
    "    vect.append(df2[df2['n_positive']!=-1]['n_positive'].values.astype('float32').mean())\n",
    "    vect.append(df2[df2['n_negative']!=-1]['n_negative'].values.astype('float32').mean())\n",
    "    \n",
    "    ## Games\n",
    "    df2 = df1[df1['type']=='Game']\n",
    "    vect.append(df2.shape[0])\n",
    "    vect.append(df2[df2['accuracy_group']!=-1]['accuracy_group'].values.astype('float32').mean())\n",
    "    vect.append(df2[df2['time_instruction']!=-1]['time_instruction'].values.astype('float32').mean())\n",
    "    vect.append(df2[df2['total_time']!=-1]['total_time'].values.astype('float32').mean())\n",
    "    vect.append(df2[df2['actions']!=-1]['actions'].values.astype('float32').mean())\n",
    "    vect.append(df2[df2['start_rounds']!=-1]['start_rounds'].values.astype('float32').mean())\n",
    "    vect.append(df2[df2['end_rounds']!=-1]['end_rounds'].values.astype('float32').mean())\n",
    "    vect.append(df2[df2['action_rounds']!=-1]['action_rounds'].values.astype('float32').mean())\n",
    "    vect.append(df2[df2['time_rounds']!=-1]['time_rounds'].values.astype('float32').mean())\n",
    "    vect.append(df2[df2['hints']!=-1]['hints'].values.astype('float32').mean())\n",
    "    vect.append(df2[df2['correct_feed']!=-1]['correct_feed'].values.astype('float32').mean())\n",
    "    vect.append(df2[df2['incorrect_feed']!=-1]['incorrect_feed'].values.astype('float32').mean())\n",
    "    vect.append(df2[df2['time_corr_feed']!=-1]['time_corr_feed'].values.astype('float32').mean())\n",
    "    vect.append(df2[df2['time_inc_feed']!=-1]['time_inc_feed'].values.astype('float32').mean())\n",
    "    vect.append(df2[df2['acc_feed']!=-1]['acc_feed'].values.astype('float32').mean())\n",
    "    vect.append(df2[df2['accuracy']!=-1]['accuracy'].values.astype('float32').mean())\n",
    "    vect.append(df2[df2['n_positive']!=-1]['n_positive'].values.astype('float32').mean())\n",
    "    vect.append(df2[df2['n_negative']!=-1]['n_negative'].values.astype('float32').mean())\n",
    "    vect.append(df2[df2['movies']!=-1]['movies'].values.astype('float32').sum())\n",
    "    vect.append(df2[df2['skipped_movie']!=-1]['skipped_movie'].values.astype('float32').sum())\n",
    "    vect.append(df2[df2['tuto']!=-1]['tuto'].values.astype('float32').sum())\n",
    "    vect.append(df2[df2['skipped_tuto']!=-1]['skipped_tuto'].values.astype('float32').mean())\n",
    "    \n",
    "    ## Activity done\n",
    "    for x in titles:\n",
    "        vect.append( df1[df1['title']==x].shape[0])\n",
    "    \n",
    "    \n",
    "    return vect\n",
    "\n",
    "columns = [\n",
    "    'game_session',\n",
    "'installation_id',\n",
    "'title',\n",
    "'type',\n",
    "'world',\n",
    "'timestamp',\n",
    "'accuracy_group',\n",
    "'accuracy',\n",
    "'n_positive',\n",
    "'n_negative',\n",
    "'time_instruction',\n",
    "'actions',\n",
    "'total_time',\n",
    "'start_rounds',\n",
    "'end_rounds',\n",
    "'action_rounds',\n",
    "'time_rounds',\n",
    "'hints',\n",
    "'correct_feed',\n",
    "'incorrect_feed',\n",
    "'acc_feed',\n",
    "'time_corr_feed',\n",
    "'time_inc_feed',\n",
    "'movies',\n",
    "'skipped_movie',\n",
    "'tuto',\n",
    "'skipped_tuto'\n",
    "]\n",
    "\n",
    "cols = [\n",
    "    'pred_title',\n",
    "'n_clip',\n",
    "'n_activity',\n",
    "'Activity_time_instruction',\n",
    "'Activity_total_time',\n",
    "'Activity_actions',\n",
    "'Activity_start_rounds',\n",
    "'Activity_end_rounds',\n",
    "'Activity_action_rounds',\n",
    "'Activity_time_rounds',\n",
    "'Activity_hints',\n",
    "'same_title',\n",
    "'n_assessment',\n",
    "'Assessment_accuracy_group',\n",
    "'Assessment_time_instruction',\n",
    "'Assessment_total_time',\n",
    "'Assessment_actions',\n",
    "'Assessment_start_rounds',\n",
    "'Assessment_end_rounds',\n",
    "'Assessment_action_rounds',\n",
    "'Assessment_time_rounds',\n",
    "'Assessment_hints',\n",
    "'Assessment_correct_feed',\n",
    "'Assessment_incorrect_feed',\n",
    "'Assessment_time_corr_feed',\n",
    "'Assessment_time_inc_feed',\n",
    "'Assessment_acc_feed',\n",
    "'Assessment_accuracy',\n",
    "'Assessment_n_positive',\n",
    "'Assessment_n_negative',\n",
    "'n_games',\n",
    "'Games_accuracy_group',\n",
    "'Games_time_instruction',\n",
    "'Games_total_time',\n",
    "'Games_actions',\n",
    "'Games_start_rounds',\n",
    "'Games_end_rounds',\n",
    "'Games_action_rounds',\n",
    "'Games_time_rounds',\n",
    "'Games_hints',\n",
    "'Games_correct_feed',\n",
    "'Games_incorrect_feed',\n",
    "'Games_time_corr_feed',\n",
    "'Games_time_inc_feed',\n",
    "'Games_acc_feed',\n",
    "'Games_accuracy',\n",
    "'Games_n_positive',\n",
    "'Games_n_negative',\n",
    "'Games_movies',\n",
    "'Games_skipped_movie',\n",
    "'Games_tuto',\n",
    "'Games_skipped_tuto',  \n",
    "]\n",
    "\n",
    "for elt in titles:\n",
    "    cols.append('actitivity_title_'+str(elt))"
   ]
  },
  {
   "cell_type": "markdown",
   "metadata": {},
   "source": [
    "#### Loading Data and grouping by game session"
   ]
  },
  {
   "cell_type": "markdown",
   "metadata": {},
   "source": [
    "#### Train"
   ]
  },
  {
   "cell_type": "code",
   "execution_count": null,
   "metadata": {
    "scrolled": true
   },
   "outputs": [],
   "source": [
    "df = pd.read_csv(train)\n",
    "labels = pd.read_csv(train_labels)\n",
    "vect = df['event_code']\n",
    "vect[df['event_id'] == '17113b36'] = 4100\n",
    "df['event_code'] = vect\n",
    "\n",
    "dataset = list(np.zeros(df['game_session'].unique().shape[0]))\n",
    "\n",
    "print(df['game_session'].unique().shape[0])\n",
    "\n",
    "count = 0\n",
    "for i, session in df.groupby(['game_session']):\n",
    "#     if count >= 100:\n",
    "#         break\n",
    "    line =build_feature(i, session)\n",
    "#     dataset.append(line)\n",
    "    dataset[count] = line\n",
    "    if count % 1000 == 0:\n",
    "        print(count)\n",
    "    count += 1\n",
    "\n",
    "dataset = np.array(dataset)\n",
    "\n",
    "data = pd.DataFrame(dataset, columns = columns)\n",
    "\n",
    "save(data, 'data by session')"
   ]
  },
  {
   "cell_type": "markdown",
   "metadata": {},
   "source": [
    "#### Test"
   ]
  },
  {
   "cell_type": "code",
   "execution_count": null,
   "metadata": {},
   "outputs": [],
   "source": [
    "df = pd.read_csv(test)\n",
    "vect = df['event_code']\n",
    "vect[df['event_id'] == '17113b36'] = 4100\n",
    "df['event_code'] = vect\n",
    "\n",
    "dataset = list(np.zeros(df['game_session'].unique().shape[0]))\n",
    "\n",
    "print(df['game_session'].unique().shape[0])\n",
    "\n",
    "count = 0\n",
    "for i, session in df.groupby(['game_session']):\n",
    "#     if count >= 100:\n",
    "#         break\n",
    "    line =build_feature(i, session)\n",
    "#     dataset.append(line)\n",
    "    dataset[count] = line\n",
    "    if count % 1000 == 0:\n",
    "        print(count)\n",
    "    count += 1\n",
    "\n",
    "dataset = np.array(dataset)\n",
    "\n",
    "data = pd.DataFrame(dataset, columns = columns)\n",
    "\n",
    "save(data, 'data test by session')"
   ]
  },
  {
   "cell_type": "markdown",
   "metadata": {},
   "source": [
    "#### Getting test labels"
   ]
  },
  {
   "cell_type": "code",
   "execution_count": null,
   "metadata": {},
   "outputs": [],
   "source": [
    "df = load('data by session')\n",
    "labels = pd.read_csv(train_labels)\n",
    "\n",
    "ids = df[df['type']=='Assessment']['installation_id'].unique()\n",
    "df = df[df.installation_id.isin(ids)]\n",
    "df = df[df.installation_id.isin(labels.installation_id.unique())]\n",
    "\n",
    "# dtitle = categorise(df['title'])\n",
    "\n",
    "# df = df.replace({'title' : dtitle})\n",
    "\n",
    "# save(dtitle, 'dico_title')\n",
    "\n",
    "df['date'] = df['timestamp'].apply(dateutil.parser.parse)\n",
    "\n",
    "df = df.sort_values(by = ['date'], ascending =True)\n",
    "\n",
    "save(df, 'data by session')"
   ]
  },
  {
   "cell_type": "code",
   "execution_count": null,
   "metadata": {},
   "outputs": [],
   "source": [
    "df = load('data test by session')\n",
    "\n",
    "ids = df[df['type']=='Assessment']['installation_id'].unique()\n",
    "\n",
    "# dtitle =load('dico_title')\n",
    "\n",
    "# df = df.replace({'title' : dtitle})\n",
    "\n",
    "df['date'] = df['timestamp'].apply(dateutil.parser.parse)\n",
    "\n",
    "df = df.sort_values(by = ['date'], ascending =True)\n",
    "\n",
    "game_inst = []\n",
    "for elt in ids:\n",
    "    df1 = df[df['installation_id']==elt]\n",
    "    df1 = df1.sort_values(by = ['date'], ascending = True)\n",
    "    game_inst.append(df1.iloc[-1]['game_session'])\n",
    "    \n",
    "save((ids, game_inst), 'test_labels')\n",
    "save(df, 'data test by session')"
   ]
  },
  {
   "cell_type": "markdown",
   "metadata": {},
   "source": [
    "#### Adding test session into train"
   ]
  },
  {
   "cell_type": "code",
   "execution_count": null,
   "metadata": {},
   "outputs": [],
   "source": [
    "df = pd.read_csv(test)\n",
    "\n",
    "test_train = []\n",
    "\n",
    "df_labels = df[(df['type'] == 'Assessment')&(df['event_code'] == 4100)][['installation_id', 'game_session']].drop_duplicates(subset = ['installation_id', 'game_session'])\n",
    "\n",
    "df = load('data test by session')\n",
    "\n",
    "vect = []\n",
    "vect1 = []\n",
    "for i in range(df_labels.shape[0]):\n",
    "    vect.append(df[(df['installation_id'] == df_labels.iloc[i]['installation_id'])&(df['game_session'] == df_labels.iloc[i]['game_session'])]['accuracy_group'].values[0])\n",
    "    vect1.append(df[(df['installation_id'] == df_labels.iloc[i]['installation_id'])&(df['game_session'] == df_labels.iloc[i]['game_session'])]['accuracy'].values[0])\n",
    "    \n",
    "    \n",
    "    \n",
    "df_labels['accuracy_group'] = vect\n",
    "df_labels['accuracy'] = vect1\n",
    "\n",
    "save(df_labels, 'test labels')"
   ]
  },
  {
   "cell_type": "markdown",
   "metadata": {},
   "source": [
    "#### Building train dataset\n"
   ]
  },
  {
   "cell_type": "code",
   "execution_count": null,
   "metadata": {},
   "outputs": [],
   "source": [
    "clips = ['Welcome to Lost Lagoon!', 'Magma Peak - Level 1',\n",
    "       'Magma Peak - Level 2', 'Crystal Caves - Level 1',\n",
    "       'Crystal Caves - Level 2', 'Crystal Caves - Level 3',\n",
    "       'Tree Top City - Level 1', 'Tree Top City - Level 2',\n",
    "       'Tree Top City - Level 3', 'Slop Problem',\n",
    "       'Heavy, Heavier, Heaviest', 'Lifting Heavy Things',\n",
    "       'Ordering Spheres', '12 Monkeys', 'Balancing Act', 'Costume Box',\n",
    "       \"Pirate's Tale\", 'Honey Cake', 'Treasure Map', 'Rulers']\n",
    "\n",
    "activities = ['Sandcastle Builder (Activity)', 'Watering Hole (Activity)',\n",
    "       'Bottle Filler (Activity)', 'Fireworks (Activity)',\n",
    "       'Flower Waterer (Activity)', 'Egg Dropper (Activity)',\n",
    "       'Chicken Balancer (Activity)', 'Bug Measurer (Activity)']\n",
    "\n",
    "games = ['All Star Sorting', 'Chow Time', 'Dino Dive', 'Scrub-A-Dub',\n",
    "       'Bubble Bath', 'Happy Camel', 'Leaf Leader', 'Pan Balance',\n",
    "       'Dino Drink', 'Crystals Rule', 'Air Show']\n",
    "\n",
    "assessments = ['Cart Balancer (Assessment)', 'Chest Sorter (Assessment)',\n",
    "       'Cauldron Filler (Assessment)', 'Mushroom Sorter (Assessment)',\n",
    "       'Bird Measurer (Assessment)']\n",
    "\n",
    "def build_set(df, installation_id, game_session):\n",
    "    df1 = df[df['installation_id']==installation_id]\n",
    "    \n",
    "    df1 = df1.sort_values(by = ['date'], ascending = True)\n",
    "    date = df1[df1['game_session']==game_session].iloc[0]['date']\n",
    "    pred_title = df1[df1['game_session']==game_session].iloc[0]['title']\n",
    "    w =  df1[df1['game_session']==game_session].iloc[0]['world']\n",
    "#     w =  df1[df1['game_session']==game_session].iloc[0]['world']\n",
    "    \n",
    "#     df1['game_session'] = game_session\n",
    "    df1['pred_title'] = pred_title\n",
    "    df1 = df1[df1['date'] < date]\n",
    "#     df1 = df1[df1['world'] == w]\n",
    "    \n",
    "    vect = []\n",
    "    \n",
    "    vect.append(pred_title)\n",
    "    \n",
    "    ## Clip\n",
    "    df2 = df1[df1['type']=='Clip']\n",
    "    vect.append(df2.shape[0])\n",
    "    \n",
    "    ## Activity\n",
    "    df2 = df1[df1['type']=='Activity']\n",
    "    \n",
    "    #n_activity\n",
    "    vect.append(df2.shape[0])\n",
    "    # instruction\n",
    "    vect.append(df2[df2['time_instruction']!=-1]['time_instruction'].values.astype('float32').mean())\n",
    "    vect.append(df2[df2['total_time']!=-1]['total_time'].values.astype('float32').mean())\n",
    "    vect.append(df2[df2['actions']!=-1]['actions'].values.astype('float32').mean())\n",
    "    vect.append(df2[df2['start_rounds']!=-1]['start_rounds'].values.astype('float32').mean())\n",
    "    vect.append(df2[df2['end_rounds']!=-1]['end_rounds'].values.astype('float32').mean())\n",
    "    vect.append(df2[df2['action_rounds']!=-1]['action_rounds'].values.astype('float32').mean())\n",
    "    vect.append(df2[df2['time_rounds']!=-1]['time_rounds'].values.astype('float32').mean())\n",
    "    vect.append(df2[df2['hints']!=-1]['hints'].values.astype('float32').mean())\n",
    "\n",
    "    vect.append(df2[df2['time_instruction']!=-1]['time_instruction'].values.astype('float32').std())\n",
    "    vect.append(df2[df2['total_time']!=-1]['total_time'].values.astype('float32').std())\n",
    "    vect.append(df2[df2['actions']!=-1]['actions'].values.astype('float32').std())\n",
    "    vect.append(df2[df2['start_rounds']!=-1]['start_rounds'].values.astype('float32').std())\n",
    "    vect.append(df2[df2['end_rounds']!=-1]['end_rounds'].values.astype('float32').std())\n",
    "    vect.append(df2[df2['action_rounds']!=-1]['action_rounds'].values.astype('float32').std())\n",
    "    vect.append(df2[df2['time_rounds']!=-1]['time_rounds'].values.astype('float32').std())\n",
    "    vect.append(df2[df2['hints']!=-1]['hints'].values.astype('float32').std())    \n",
    "\n",
    "    ## Assessment\n",
    "    df2 = df1[df1['type']=='Assessment']\n",
    "    if pred_title in df2['title'].values:\n",
    "        vect.append(1)\n",
    "    else:\n",
    "        vect.append(0)\n",
    "        \n",
    "    vect.append(df2.shape[0])\n",
    "    \n",
    "    vect.append(df2[df2['accuracy_group']!=-1]['accuracy_group'].values.astype('float32').mean())\n",
    "    vect.append(df2[df2['time_instruction']!=-1]['time_instruction'].values.astype('float32').mean())\n",
    "    vect.append(df2[df2['total_time']!=-1]['total_time'].values.astype('float32').mean())\n",
    "    vect.append(df2[df2['actions']!=-1]['actions'].values.astype('float32').mean())\n",
    "    vect.append(df2[df2['start_rounds']!=-1]['start_rounds'].values.astype('float32').mean())\n",
    "    vect.append(df2[df2['end_rounds']!=-1]['end_rounds'].values.astype('float32').mean())\n",
    "    vect.append(df2[df2['action_rounds']!=-1]['action_rounds'].values.astype('float32').mean())\n",
    "    vect.append(df2[df2['time_rounds']!=-1]['time_rounds'].values.astype('float32').mean())\n",
    "    vect.append(df2[df2['hints']!=-1]['hints'].values.astype('float32').mean())\n",
    "    vect.append(df2[df2['correct_feed']!=-1]['correct_feed'].values.astype('float32').mean())\n",
    "    vect.append(df2[df2['incorrect_feed']!=-1]['incorrect_feed'].values.astype('float32').mean())\n",
    "    vect.append(df2[df2['time_corr_feed']!=-1]['time_corr_feed'].values.astype('float32').mean())\n",
    "    vect.append(df2[df2['time_inc_feed']!=-1]['time_inc_feed'].values.astype('float32').mean())\n",
    "    vect.append(df2[df2['acc_feed']!=-1]['acc_feed'].values.astype('float32').mean())\n",
    "    vect.append(df2[df2['accuracy']!=-1]['accuracy'].values.astype('float32').mean())\n",
    "    vect.append(df2[df2['n_positive']!=-1]['n_positive'].values.astype('float32').mean())\n",
    "    vect.append(df2[df2['n_negative']!=-1]['n_negative'].values.astype('float32').mean())\n",
    "    \n",
    "    vect.append(df2[df2['accuracy_group']!=-1]['accuracy_group'].values.astype('float32').std())\n",
    "    vect.append(df2[df2['time_instruction']!=-1]['time_instruction'].values.astype('float32').std())\n",
    "    vect.append(df2[df2['total_time']!=-1]['total_time'].values.astype('float32').std())\n",
    "    vect.append(df2[df2['actions']!=-1]['actions'].values.astype('float32').std())\n",
    "    vect.append(df2[df2['start_rounds']!=-1]['start_rounds'].values.astype('float32').std())\n",
    "    vect.append(df2[df2['end_rounds']!=-1]['end_rounds'].values.astype('float32').std())\n",
    "    vect.append(df2[df2['action_rounds']!=-1]['action_rounds'].values.astype('float32').std())\n",
    "    vect.append(df2[df2['time_rounds']!=-1]['time_rounds'].values.astype('float32').std())\n",
    "    vect.append(df2[df2['hints']!=-1]['hints'].values.astype('float32').std())\n",
    "    vect.append(df2[df2['correct_feed']!=-1]['correct_feed'].values.astype('float32').std())\n",
    "    vect.append(df2[df2['incorrect_feed']!=-1]['incorrect_feed'].values.astype('float32').std())\n",
    "    vect.append(df2[df2['time_corr_feed']!=-1]['time_corr_feed'].values.astype('float32').std())\n",
    "    vect.append(df2[df2['time_inc_feed']!=-1]['time_inc_feed'].values.astype('float32').std())\n",
    "    vect.append(df2[df2['acc_feed']!=-1]['acc_feed'].values.astype('float32').std())\n",
    "    vect.append(df2[df2['accuracy']!=-1]['accuracy'].values.astype('float32').std())\n",
    "    vect.append(df2[df2['n_positive']!=-1]['n_positive'].values.astype('float32').std())\n",
    "    vect.append(df2[df2['n_negative']!=-1]['n_negative'].values.astype('float32').std())\n",
    "    \n",
    "    ## Games\n",
    "    df2 = df1[df1['type']=='Game']\n",
    "    vect.append(df2.shape[0])\n",
    "    vect.append(df2[df2['accuracy_group']!=-1]['accuracy_group'].values.astype('float32').mean())\n",
    "    vect.append(df2[df2['time_instruction']!=-1]['time_instruction'].values.astype('float32').mean())\n",
    "    vect.append(df2[df2['total_time']!=-1]['total_time'].values.astype('float32').mean())\n",
    "    vect.append(df2[df2['actions']!=-1]['actions'].values.astype('float32').mean())\n",
    "    vect.append(df2[df2['start_rounds']!=-1]['start_rounds'].values.astype('float32').mean())\n",
    "    vect.append(df2[df2['end_rounds']!=-1]['end_rounds'].values.astype('float32').mean())\n",
    "    vect.append(df2[df2['action_rounds']!=-1]['action_rounds'].values.astype('float32').mean())\n",
    "    vect.append(df2[df2['time_rounds']!=-1]['time_rounds'].values.astype('float32').mean())\n",
    "    vect.append(df2[df2['hints']!=-1]['hints'].values.astype('float32').mean())\n",
    "    vect.append(df2[df2['correct_feed']!=-1]['correct_feed'].values.astype('float32').mean())\n",
    "    vect.append(df2[df2['incorrect_feed']!=-1]['incorrect_feed'].values.astype('float32').mean())\n",
    "    vect.append(df2[df2['time_corr_feed']!=-1]['time_corr_feed'].values.astype('float32').mean())\n",
    "    vect.append(df2[df2['time_inc_feed']!=-1]['time_inc_feed'].values.astype('float32').mean())\n",
    "    vect.append(df2[df2['acc_feed']!=-1]['acc_feed'].values.astype('float32').mean())\n",
    "    vect.append(df2[df2['accuracy']!=-1]['accuracy'].values.astype('float32').mean())\n",
    "    vect.append(df2[df2['n_positive']!=-1]['n_positive'].values.astype('float32').mean())\n",
    "    vect.append(df2[df2['n_negative']!=-1]['n_negative'].values.astype('float32').mean())\n",
    "    vect.append(df2[df2['movies']!=-1]['movies'].values.astype('float32').sum())\n",
    "    vect.append(df2[df2['skipped_movie']!=-1]['skipped_movie'].values.astype('float32').sum())\n",
    "    vect.append(df2[df2['tuto']!=-1]['tuto'].values.astype('float32').sum())\n",
    "    vect.append(df2[df2['skipped_tuto']!=-1]['skipped_tuto'].values.astype('float32').mean())\n",
    "    \n",
    "    vect.append(df2[df2['accuracy_group']!=-1]['accuracy_group'].values.astype('float32').std())\n",
    "    vect.append(df2[df2['time_instruction']!=-1]['time_instruction'].values.astype('float32').std())\n",
    "    vect.append(df2[df2['total_time']!=-1]['total_time'].values.astype('float32').std())\n",
    "    vect.append(df2[df2['actions']!=-1]['actions'].values.astype('float32').std())\n",
    "    vect.append(df2[df2['start_rounds']!=-1]['start_rounds'].values.astype('float32').std())\n",
    "    vect.append(df2[df2['end_rounds']!=-1]['end_rounds'].values.astype('float32').std())\n",
    "    vect.append(df2[df2['action_rounds']!=-1]['action_rounds'].values.astype('float32').std())\n",
    "    vect.append(df2[df2['time_rounds']!=-1]['time_rounds'].values.astype('float32').std())\n",
    "    vect.append(df2[df2['hints']!=-1]['hints'].values.astype('float32').std())\n",
    "    vect.append(df2[df2['correct_feed']!=-1]['correct_feed'].values.astype('float32').std())\n",
    "    vect.append(df2[df2['incorrect_feed']!=-1]['incorrect_feed'].values.astype('float32').std())\n",
    "    vect.append(df2[df2['time_corr_feed']!=-1]['time_corr_feed'].values.astype('float32').std())\n",
    "    vect.append(df2[df2['time_inc_feed']!=-1]['time_inc_feed'].values.astype('float32').std())\n",
    "    vect.append(df2[df2['acc_feed']!=-1]['acc_feed'].values.astype('float32').std())\n",
    "    vect.append(df2[df2['accuracy']!=-1]['accuracy'].values.astype('float32').std())\n",
    "    vect.append(df2[df2['n_positive']!=-1]['n_positive'].values.astype('float32').std())\n",
    "    vect.append(df2[df2['n_negative']!=-1]['n_negative'].values.astype('float32').std())\n",
    "    vect.append(df2[df2['movies']!=-1]['movies'].values.astype('float32').std())\n",
    "    vect.append(df2[df2['skipped_movie']!=-1]['skipped_movie'].values.astype('float32').std())\n",
    "    vect.append(df2[df2['tuto']!=-1]['tuto'].values.astype('float32').std())\n",
    "    vect.append(df2[df2['skipped_tuto']!=-1]['skipped_tuto'].values.astype('float32').std())\n",
    "    \n",
    "    ## Activity done\n",
    "    for x in titles:\n",
    "        vect.append( df1[df1['title']==x].shape[0])\n",
    "    \n",
    "    t = df1['title'].unique()\n",
    "    \n",
    "    \n",
    "    df1 = df1.drop_duplicates(subset = ['title'], keep = 'last')\n",
    "    df1.index = df1['title']\n",
    "\n",
    "    feats_activity = [ 'time_instruction', 'actions', 'total_time', 'start_rounds',\n",
    "       'end_rounds',  'hints', 'time_instruction_std', 'actions_std', 'total_time_std', 'start_rounds_std',\n",
    "       'end_rounds_std',  'hints_std']\n",
    "    for elt in activities:\n",
    "        if elt in t:\n",
    "            temp = list(df1.loc[elt][feats_activity].values.astype('float64'))\n",
    "            vect.extend(temp)\n",
    "        else:\n",
    "            for i in range(len(feats_activity)):\n",
    "                vect.append(-1)\n",
    "    \n",
    "    feats_assessment = ['accuracy_group', 'accuracy', 'n_positive', 'n_negative',\n",
    "       'time_instruction', 'actions', 'action_rounds', 'time_rounds', 'hints', 'correct_feed',\n",
    "       'incorrect_feed', 'acc_feed', 'time_corr_feed', 'time_inc_feed',\n",
    "                        'accuracy_group_std', 'accuracy_std', 'n_positive_std', 'n_negative_std',\n",
    "       'time_instruction_std', 'actions_std', 'action_rounds_std', 'time_rounds_std', 'hints_std', 'correct_feed_std',\n",
    "       'incorrect_feed_std', 'acc_feed_std', 'time_corr_feed_std', 'time_inc_feed_std']\n",
    "    \n",
    "    for elt in assessments:\n",
    "        if elt in t:\n",
    "            temp = list(df1.loc[elt][feats_assessment].values.astype('float64'))\n",
    "            vect.extend(temp)\n",
    "        else:\n",
    "            for i in range(len(feats_assessment)):\n",
    "                vect.append(-1)\n",
    "    \n",
    "    for elt in games:\n",
    "        if elt == 'Air Show' or elt == 'Pan Balance':\n",
    "            feats_games = [\n",
    "                         'accuracy_group', 'accuracy', 'n_positive', 'n_negative',\n",
    "                       'time_instruction', 'actions', 'total_time', 'start_rounds',\n",
    "                       'end_rounds', 'action_rounds', 'time_rounds', 'hints', 'correct_feed',\n",
    "                       'incorrect_feed', 'acc_feed', 'time_corr_feed', 'time_inc_feed',\n",
    "                       'skipped_tuto' ,  'accuracy_group_std', 'accuracy_std', 'n_positive_std', 'n_negative_std',\n",
    "                       'time_instruction_std', 'actions_std', 'total_time_std', 'start_rounds_std',\n",
    "                       'end_rounds_std', 'action_rounds_std', 'time_rounds_std', 'hints_std', 'correct_feed_std',\n",
    "                       'incorrect_feed_std', 'acc_feed_std', 'time_corr_feed_std', 'time_inc_feed_std',\n",
    "                       'skipped_tuto_std'\n",
    "                        ]\n",
    "        else:\n",
    "            feats_games = [\n",
    "               'time_instruction', 'actions', 'total_time', 'start_rounds',\n",
    "               'end_rounds', 'action_rounds', 'time_rounds', 'hints', 'correct_feed',\n",
    "               'incorrect_feed', 'acc_feed', 'time_corr_feed', 'time_inc_feed',\n",
    "               'skipped_tuto'   , 'time_instruction_std', 'actions_std', 'total_time_std', 'start_rounds_std',\n",
    "                       'end_rounds_std', 'action_rounds_std', 'time_rounds_std', 'hints_std', 'correct_feed_std',\n",
    "                       'incorrect_feed_std', 'acc_feed_std', 'time_corr_feed_std', 'time_inc_feed_std',\n",
    "                       'skipped_tuto_std'\n",
    "                ]\n",
    "    \n",
    "        if elt in t:\n",
    "            temp = list(df1.loc[elt][feats_games].values.astype('float64'))\n",
    "            vect.extend(temp)\n",
    "        else:\n",
    "            for i in range(len(feats_games)):\n",
    "                vect.append(-1)\n",
    "    \n",
    "    \n",
    "    return vect\n"
   ]
  },
  {
   "cell_type": "code",
   "execution_count": null,
   "metadata": {},
   "outputs": [],
   "source": [
    "df = load('data by session')"
   ]
  },
  {
   "cell_type": "code",
   "execution_count": null,
   "metadata": {},
   "outputs": [],
   "source": [
    "df.head()"
   ]
  },
  {
   "cell_type": "code",
   "execution_count": null,
   "metadata": {},
   "outputs": [],
   "source": [
    "df = df.drop_duplicates(subset = ['title'], keep = 'last')\n",
    "df.index = df['title']\n"
   ]
  },
  {
   "cell_type": "code",
   "execution_count": null,
   "metadata": {},
   "outputs": [],
   "source": [
    "cols = [\n",
    "    'pred_title',\n",
    "'n_clip',\n",
    "'n_activity',\n",
    "'Activity_time_instruction',\n",
    "'Activity_total_time',\n",
    "'Activity_actions',\n",
    "'Activity_start_rounds',\n",
    "'Activity_end_rounds',\n",
    "'Activity_action_rounds',\n",
    "'Activity_time_rounds',\n",
    "'Activity_hints',\n",
    "    \n",
    "'Activity_time_instruction_std',\n",
    "'Activity_total_time_std',\n",
    "'Activity_actions_std',\n",
    "'Activity_start_rounds_std',\n",
    "'Activity_end_rounds_std',\n",
    "'Activity_action_rounds_std',\n",
    "'Activity_time_rounds_std',\n",
    "'Activity_hints_std',    \n",
    "\n",
    "'same_title',\n",
    "'n_assessment',\n",
    "'Assessment accuracy_group',\n",
    "'Assessment_time_instruction',\n",
    "'Assessment_total_time',\n",
    "'Assessment_actions',\n",
    "'Assessment_start_rounds',\n",
    "'Assessment_end_rounds',\n",
    "'Assessment_action_rounds',\n",
    "'Assessment_time_rounds',\n",
    "'Assessment_hints',\n",
    "'Assessment_correct_feed',\n",
    "'Assessment_incorrect_feed',\n",
    "'Assessment_time_corr_feed',\n",
    "'Assessment_time_inc_feed',\n",
    "'Assessment_acc_feed',\n",
    "'Assessment_accuracy',\n",
    "'Assessment_n_positive',\n",
    "'Assessment_n_negative',\n",
    "\n",
    "'Assessment accuracy_group_std',\n",
    "'Assessment_time_instruction_std',\n",
    "'Assessment_total_time_std',\n",
    "'Assessment_actions_std',\n",
    "'Assessment_start_rounds_std',\n",
    "'Assessment_end_rounds_std',\n",
    "'Assessment_action_rounds_std',\n",
    "'Assessment_time_rounds_std',\n",
    "'Assessment_hints_std',\n",
    "'Assessment_correct_feed_std',\n",
    "'Assessment_incorrect_feed_std',\n",
    "'Assessment_time_corr_feed_std',\n",
    "'Assessment_time_inc_feed_std',\n",
    "'Assessment_acc_feed_std',\n",
    "'Assessment_accuracy_std',\n",
    "'Assessment_n_positive_std',\n",
    "'Assessment_n_negative_std',\n",
    "    \n",
    "    \n",
    "'n_games',\n",
    "'Games accuracy_group',\n",
    "'Games_time_instruction',\n",
    "'Games_total_time',\n",
    "'Games_actions',\n",
    "'Games_start_rounds',\n",
    "'Games_end_rounds',\n",
    "'Games_action_rounds',\n",
    "'Games_time_rounds',\n",
    "'Games_hints',\n",
    "'Games_correct_feed',\n",
    "'Games_incorrect_feed',\n",
    "'Games_time_corr_feed',\n",
    "'Games_time_inc_feed',\n",
    "'Games_acc_feed',\n",
    "'Games_accuracy',\n",
    "'Games_n_positive',\n",
    "'Games_n_negative',\n",
    "'Games_movies',\n",
    "'Games_skipped_movie',\n",
    "'Games_tuto',\n",
    "'Games_skipped_tuto',  \n",
    "    \n",
    "'Games accuracy_group_std',\n",
    "'Games_time_instruction_std',\n",
    "'Games_total_time_std',\n",
    "'Games_actions_std',\n",
    "'Games_start_rounds_std',\n",
    "'Games_end_rounds_std',\n",
    "'Games_action_rounds_std',\n",
    "'Games_time_rounds_std',\n",
    "'Games_hints_std',\n",
    "'Games_correct_feed_std',\n",
    "'Games_incorrect_feed_std',\n",
    "'Games_time_corr_feed_std',\n",
    "'Games_time_inc_feed_std',\n",
    "'Games_acc_feed_std',\n",
    "'Games_accuracy_std',\n",
    "'Games_n_positive_std',\n",
    "'Games_n_negative_std',\n",
    "'Games_movies_std',\n",
    "'Games_skipped_movie_std',\n",
    "'Games_tuto_std',\n",
    "'Games_skipped_tuto_std',  \n",
    "]\n",
    "\n",
    "for elt in titles:\n",
    "    cols.append('actitivity_title_'+str(elt))\n",
    "\n",
    "\n",
    "feats_activity = [ 'time_instruction', 'actions', 'total_time', 'start_rounds',\n",
    "       'end_rounds',  'hints', 'time_instruction_std', 'actions_std', 'total_time_std', 'start_rounds_std',\n",
    "       'end_rounds_std',  'hints_std']\n",
    "for elt in activities:\n",
    "    for elt1 in feats_activity:\n",
    "        cols.append(elt + \"_\" +elt1)\n",
    "        \n",
    "feats_assessment = ['accuracy_group', 'accuracy', 'n_positive', 'n_negative',\n",
    "       'time_instruction', 'actions', 'action_rounds', 'time_rounds', 'hints', 'correct_feed',\n",
    "       'incorrect_feed', 'acc_feed', 'time_corr_feed', 'time_inc_feed',\n",
    "                        'accuracy_group_std', 'accuracy_std', 'n_positive_std', 'n_negative_std',\n",
    "       'time_instruction_std', 'actions_std', 'action_rounds_std', 'time_rounds_std', 'hints_std', 'correct_feed_std',\n",
    "       'incorrect_feed_std', 'acc_feed_std', 'time_corr_feed_std', 'time_inc_feed_std']\n",
    "for elt in assessments:\n",
    "    for elt1 in feats_assessment:\n",
    "        cols.append(elt + \"_\" +elt1)\n",
    "\n",
    "for elt in games:\n",
    "    if elt == 'Air Show' or elt == 'Pan Balance':\n",
    "        feats_games =[\n",
    "                         'accuracy_group', 'accuracy', 'n_positive', 'n_negative',\n",
    "                       'time_instruction', 'actions', 'total_time', 'start_rounds',\n",
    "                       'end_rounds', 'action_rounds', 'time_rounds', 'hints', 'correct_feed',\n",
    "                       'incorrect_feed', 'acc_feed', 'time_corr_feed', 'time_inc_feed',\n",
    "                       'skipped_tuto' ,  'accuracy_group_std', 'accuracy_std', 'n_positive_std', 'n_negative_std',\n",
    "                       'time_instruction_std', 'actions_std', 'total_time_std', 'start_rounds_std',\n",
    "                       'end_rounds_std', 'action_rounds_std', 'time_rounds_std', 'hints_std', 'correct_feed_std',\n",
    "                       'incorrect_feed_std', 'acc_feed_std', 'time_corr_feed_std', 'time_inc_feed_std',\n",
    "                       'skipped_tuto_std'\n",
    "                        ]\n",
    "    else:\n",
    "        feats_games = [\n",
    "               'time_instruction', 'actions', 'total_time', 'start_rounds',\n",
    "               'end_rounds', 'action_rounds', 'time_rounds', 'hints', 'correct_feed',\n",
    "               'incorrect_feed', 'acc_feed', 'time_corr_feed', 'time_inc_feed',\n",
    "               'skipped_tuto'   , 'time_instruction_std', 'actions_std', 'total_time_std', 'start_rounds_std',\n",
    "                       'end_rounds_std', 'action_rounds_std', 'time_rounds_std', 'hints_std', 'correct_feed_std',\n",
    "                       'incorrect_feed_std', 'acc_feed_std', 'time_corr_feed_std', 'time_inc_feed_std',\n",
    "                       'skipped_tuto_std'\n",
    "                ]\n",
    "    for elt1 in feats_games:\n",
    "        cols.append(elt + \"_\" +elt1)\n",
    "\n",
    "cat_cols = [0]\n",
    "for elt in range(len(cols)):\n",
    "    if '_accuracy_group' in cols[elt]:\n",
    "        cat_cols.append(elt)"
   ]
  },
  {
   "cell_type": "code",
   "execution_count": null,
   "metadata": {},
   "outputs": [],
   "source": [
    "cat_cols"
   ]
  },
  {
   "cell_type": "code",
   "execution_count": null,
   "metadata": {
    "scrolled": true
   },
   "outputs": [],
   "source": [
    "\n",
    "\n",
    "labels = pd.read_csv(train_labels)\n",
    "labels_test = load('test labels')\n",
    "\n",
    "dataset = list(range(labels.shape[0]))\n",
    "\n",
    "df = load('data by session')\n",
    "for i in tqdm(range(labels.shape[0])):\n",
    "    if i%100 == 0:\n",
    "        print(i)\n",
    "    installation_id = labels.iloc[i]['installation_id']\n",
    "    game_session = labels.iloc[i]['game_session']\n",
    "    dataset[i] = build_set(df, installation_id, game_session)\n",
    "\n",
    "    \n",
    "df = load('data test by session')\n",
    "for i in tqdm(range(labels_test.shape[0])):\n",
    "    if i%100 == 0:\n",
    "        print(i)\n",
    "    installation_id = labels_test.iloc[i]['installation_id']\n",
    "    game_session = labels_test.iloc[i]['game_session']\n",
    "    dataset.append(build_set(df, installation_id, game_session))\n",
    "    \n",
    "df_data = pd.DataFrame(dataset, columns = cols)\n",
    "\n",
    "save(df_data, 'new train dataset')"
   ]
  },
  {
   "cell_type": "code",
   "execution_count": null,
   "metadata": {},
   "outputs": [],
   "source": []
  },
  {
   "cell_type": "code",
   "execution_count": null,
   "metadata": {},
   "outputs": [],
   "source": [
    "labels = pd.read_csv(train_labels)\n",
    "labels_test = load('test labels')\n",
    "\n",
    "games = np.concatenate([labels['game_session'], labels_test['game_session']])\n",
    "df = load('new train dataset')\n",
    "df.index = games\n",
    "ids, game_inst = load('test_labels')\n",
    "df_test = load('new test dataset')\n",
    "\n",
    "df_test.index = game_inst"
   ]
  },
  {
   "cell_type": "code",
   "execution_count": null,
   "metadata": {},
   "outputs": [],
   "source": [
    "reduce_train, reduce_test, reduce_test_train, categoricals = load('to_reg_data')\n",
    "\n",
    "train = pd.concat([reduce_train, reduce_test_train], axis = 0)\n",
    "\n",
    "train = train.set_index('game_session')\n",
    "reduce_test = reduce_test.set_index('game_session')"
   ]
  },
  {
   "cell_type": "code",
   "execution_count": null,
   "metadata": {},
   "outputs": [],
   "source": [
    "save(df_test.join(reduce_test, how = 'left').drop(columns = ['installation_id']), 'reduce_test')"
   ]
  },
  {
   "cell_type": "code",
   "execution_count": null,
   "metadata": {},
   "outputs": [],
   "source": [
    "save(df.join(train, how = 'left').drop(columns = ['installation_id'])  , 'reduce_train')"
   ]
  },
  {
   "cell_type": "code",
   "execution_count": null,
   "metadata": {},
   "outputs": [],
   "source": [
    "df.join(train, how = 'left')['accuracy_group']"
   ]
  },
  {
   "cell_type": "markdown",
   "metadata": {},
   "source": [
    "#### Building test dataset"
   ]
  },
  {
   "cell_type": "code",
   "execution_count": null,
   "metadata": {},
   "outputs": [],
   "source": []
  },
  {
   "cell_type": "code",
   "execution_count": null,
   "metadata": {
    "scrolled": true
   },
   "outputs": [],
   "source": [
    "ids, game_inst = load('test_labels')\n",
    "\n",
    "dataset = list(range(ids.shape[0]))\n",
    "\n",
    "for i in tqdm(range(ids.shape[0])):\n",
    "    if i%100 == 0:\n",
    "        print(i)\n",
    "    installation_id = ids[i]\n",
    "    game_session = game_inst[i]\n",
    "    dataset[i] = build_set(df, i nstallation_id, game_session)\n",
    "\n",
    "df_data = pd.DataFrame(dataset, columns = cols)\n",
    "save(df_data, 'new test dataset')"
   ]
  },
  {
   "cell_type": "markdown",
   "metadata": {},
   "source": [
    "#### Preparing for training"
   ]
  },
  {
   "cell_type": "code",
   "execution_count": null,
   "metadata": {},
   "outputs": [],
   "source": [
    "test_labels.head()"
   ]
  },
  {
   "cell_type": "code",
   "execution_count": 5,
   "metadata": {},
   "outputs": [],
   "source": [
    "dataset = load('new train dataset')\n",
    "\n",
    "X = dataset\n",
    "# labels = pd.read_csv(train_labels)\n",
    "labels = load('train_labels')\n",
    "test_labels = load('test labels')\n",
    "Y = np.concatenate([labels['accuracy_group'].values.astype('float64'), test_labels['accuracy_group'].values.astype('float64')], axis = 0)\n",
    "Y1 = np.concatenate([labels['accuracy'].values.astype('float64'), test_labels['accuracy'].values.astype('float64')], axis = 0)\n",
    "groups = Y1 = np.concatenate([labels['installation_id'].values, test_labels['installation_id'].values], axis = 0)\n",
    "# y = np_utils.to_categorical(Y)\n",
    "\n",
    "\n",
    "dtitle = load('dico_title')\n",
    "X = X.replace({'pred_title': dtitle})\n",
    "X = X.fillna(-1)\n",
    "\n",
    "# Y = Y[(X['pred_title']==14).values]\n",
    "# X = X[X['pred_title']==14]\n",
    "\n",
    "\n",
    "from sklearn.utils import class_weight\n",
    "\n",
    "class_weights = class_weight.compute_class_weight('balanced',\n",
    "                                          np.unique(Y),Y)\n",
    "\n",
    "\n",
    "\n",
    "\n"
   ]
  },
  {
   "cell_type": "code",
   "execution_count": 10,
   "metadata": {},
   "outputs": [],
   "source": [
    "feats = [x for x in X.columns if not('Assessment' in x)]\n",
    "X = X[feats]"
   ]
  },
  {
   "cell_type": "code",
   "execution_count": null,
   "metadata": {},
   "outputs": [],
   "source": []
  },
  {
   "cell_type": "code",
   "execution_count": null,
   "metadata": {},
   "outputs": [],
   "source": [
    "features = X.loc[(X.sum(axis=1) != 0), (X.sum(axis=0) != 0)].columns # delete useless columns\n",
    "features = [x for x in features if x not in ['accuracy_group', 'installation_id']]\n",
    "\n",
    "\n",
    "counter = 0\n",
    "to_remove = []\n",
    "for feat_a in features:\n",
    "    for feat_b in features:\n",
    "        if feat_a != feat_b and feat_a not in to_remove and feat_b not in to_remove:\n",
    "            c = np.corrcoef(X[feat_a], X[feat_b])[0][1]\n",
    "            if c > 0.995:\n",
    "                counter += 1\n",
    "                to_remove.append(feat_b)\n",
    "                print('{}: FEAT_A: {} FEAT_B: {} - Correlation: {}'.format(counter, feat_a, feat_b, c))"
   ]
  },
  {
   "cell_type": "code",
   "execution_count": null,
   "metadata": {},
   "outputs": [],
   "source": [
    "reduce_test = load('new test dataset')\n",
    "\n",
    "dtitle = load('dico_title')\n",
    "reduce_test = reduce_test.replace({'pred_title': dtitle})\n",
    "reduce_test = reduce_test.fillna(-1)\n",
    "\n",
    "\n",
    "from sklearn.metrics import mean_squared_error\n",
    "def stract_hists(feature, train=X, test=reduce_test, adjust=False, plot=False):\n",
    "    n_bins = 10\n",
    "    train_data = train[feature]\n",
    "    test_data = test[feature]\n",
    "    if adjust:\n",
    "        test_data *= train_data.mean() / test_data.mean()\n",
    "    perc_90 = np.percentile(train_data, 95)\n",
    "    train_data = np.clip(train_data, 0, perc_90)\n",
    "    test_data = np.clip(test_data, 0, perc_90)\n",
    "    train_hist = np.histogram(train_data, bins=n_bins)[0] / len(train_data)\n",
    "    test_hist = np.histogram(test_data, bins=n_bins)[0] / len(test_data)\n",
    "    msre = mean_squared_error(train_hist, test_hist)\n",
    "    if plot:\n",
    "        print(msre)\n",
    "        plt.bar(range(n_bins), train_hist, color='blue', alpha=0.5)\n",
    "        plt.bar(range(n_bins), test_hist, color='red', alpha=0.5)\n",
    "        plt.show()\n",
    "    return msre\n",
    "\n",
    "\n",
    "\n",
    "to_exclude = [] \n",
    "ajusted_test = reduce_test.copy()\n",
    "for feature in ajusted_test.columns:\n",
    "    if feature not in ['pred_title','accuracy_group', 'installation_id', 'Assessment accuracy_group', 'session_title']:\n",
    "        data = X[feature]\n",
    "        train_mean = data.mean()\n",
    "        data = ajusted_test[feature] \n",
    "        test_mean = data.mean()\n",
    "        try:\n",
    "            error = stract_hists(feature, adjust=True)\n",
    "            ajust_factor = train_mean / test_mean\n",
    "            if (ajust_factor > 10 or ajust_factor < 0.1) or error > 0.01:\n",
    "                to_exclude.append(feature)\n",
    "                print(feature, train_mean, test_mean, error)\n",
    "            else:\n",
    "                ajusted_test[feature] *= ajust_factor\n",
    "        except:\n",
    "            to_exclude.append(feature)\n",
    "            print(feature, train_mean, test_mean)"
   ]
  },
  {
   "cell_type": "code",
   "execution_count": null,
   "metadata": {},
   "outputs": [],
   "source": [
    "features = [x for x in features if x not in (to_exclude + to_remove)]\n",
    "X[features].shape"
   ]
  },
  {
   "cell_type": "code",
   "execution_count": null,
   "metadata": {},
   "outputs": [],
   "source": [
    "save(features, 'feats_to_keep')"
   ]
  },
  {
   "cell_type": "code",
   "execution_count": null,
   "metadata": {},
   "outputs": [],
   "source": [
    "features = load('feats_to_keep')\n",
    "X = X[features]\n"
   ]
  },
  {
   "cell_type": "code",
   "execution_count": null,
   "metadata": {},
   "outputs": [],
   "source": [
    "X.head()"
   ]
  },
  {
   "cell_type": "code",
   "execution_count": 11,
   "metadata": {},
   "outputs": [],
   "source": [
    "X1 = pd.get_dummies(X, columns=[\"pred_title\"], prefix=[\"title\"])\n",
    "X['title_14'] = X1['title_14']\n",
    "X['title_27'] = X1['title_27']\n",
    "X['title_28'] = X1['title_28']\n",
    "X['title_36'] = X1['title_36']\n",
    "X['title_24'] = X1['title_24']\n",
    "# X = X[feats_to_keep]\n",
    "# X['title_14'] = X1['title_14']\n",
    "# X['title_27'] = X1['title_27']\n",
    "# X['title_28'] = X1['title_28']\n",
    "# X['title_36'] = X1['title_36']\n",
    "# X['title_24'] = X1['title_24']"
   ]
  },
  {
   "cell_type": "code",
   "execution_count": null,
   "metadata": {},
   "outputs": [],
   "source": [
    "list(X.columns)"
   ]
  },
  {
   "cell_type": "code",
   "execution_count": null,
   "metadata": {},
   "outputs": [],
   "source": [
    "X.columns[16]"
   ]
  },
  {
   "cell_type": "code",
   "execution_count": null,
   "metadata": {},
   "outputs": [],
   "source": [
    "X.shape"
   ]
  },
  {
   "cell_type": "code",
   "execution_count": 12,
   "metadata": {},
   "outputs": [],
   "source": [
    "X_train, X_test, y_train, y_test = train_test_split(X, Y, test_size=0.2, random_state=43)\n",
    "# X_train, X_val, y_train, y_val = train_test_split(X_train, y_train, test_size=0.1, random_state=43)"
   ]
  },
  {
   "cell_type": "code",
   "execution_count": null,
   "metadata": {},
   "outputs": [],
   "source": [
    "X_train.columns[18]"
   ]
  },
  {
   "cell_type": "code",
   "execution_count": 16,
   "metadata": {
    "scrolled": true
   },
   "outputs": [
    {
     "name": "stderr",
     "output_type": "stream",
     "text": [
      "C:\\Users\\gabri\\Anaconda3\\lib\\site-packages\\lightgbm\\basic.py:1247: UserWarning:\n",
      "\n",
      "categorical_feature in Dataset is overridden.\n",
      "New categorical_feature is ['pred_title']\n",
      "\n"
     ]
    },
    {
     "name": "stdout",
     "output_type": "stream",
     "text": [
      "[1]\tvalid_0's rmse: 1.26139\n",
      "[2]\tvalid_0's rmse: 1.25944\n",
      "[3]\tvalid_0's rmse: 1.25764\n",
      "[4]\tvalid_0's rmse: 1.25576\n",
      "[5]\tvalid_0's rmse: 1.25409\n",
      "[6]\tvalid_0's rmse: 1.25223\n",
      "[7]\tvalid_0's rmse: 1.25037\n",
      "[8]\tvalid_0's rmse: 1.24853\n",
      "[9]\tvalid_0's rmse: 1.24675\n",
      "[10]\tvalid_0's rmse: 1.24493\n",
      "[11]\tvalid_0's rmse: 1.24316\n",
      "[12]\tvalid_0's rmse: 1.24137\n",
      "[13]\tvalid_0's rmse: 1.23962\n",
      "[14]\tvalid_0's rmse: 1.23788\n",
      "[15]\tvalid_0's rmse: 1.23613\n",
      "[16]\tvalid_0's rmse: 1.23439\n",
      "[17]\tvalid_0's rmse: 1.23266\n",
      "[18]\tvalid_0's rmse: 1.23095\n",
      "[19]\tvalid_0's rmse: 1.22929\n",
      "[20]\tvalid_0's rmse: 1.22764\n",
      "[21]\tvalid_0's rmse: 1.22594\n",
      "[22]\tvalid_0's rmse: 1.22428\n",
      "[23]\tvalid_0's rmse: 1.22259\n",
      "[24]\tvalid_0's rmse: 1.22093\n",
      "[25]\tvalid_0's rmse: 1.21942\n",
      "[26]\tvalid_0's rmse: 1.21782\n",
      "[27]\tvalid_0's rmse: 1.21626\n",
      "[28]\tvalid_0's rmse: 1.21468\n",
      "[29]\tvalid_0's rmse: 1.21308\n",
      "[30]\tvalid_0's rmse: 1.21157\n",
      "[31]\tvalid_0's rmse: 1.21003\n",
      "[32]\tvalid_0's rmse: 1.20847\n",
      "[33]\tvalid_0's rmse: 1.20698\n",
      "[34]\tvalid_0's rmse: 1.20546\n",
      "[35]\tvalid_0's rmse: 1.20401\n",
      "[36]\tvalid_0's rmse: 1.20254\n",
      "[37]\tvalid_0's rmse: 1.20109\n",
      "[38]\tvalid_0's rmse: 1.19969\n",
      "[39]\tvalid_0's rmse: 1.19826\n",
      "[40]\tvalid_0's rmse: 1.19687\n",
      "[41]\tvalid_0's rmse: 1.19542\n",
      "[42]\tvalid_0's rmse: 1.19406\n",
      "[43]\tvalid_0's rmse: 1.19262\n",
      "[44]\tvalid_0's rmse: 1.1912\n",
      "[45]\tvalid_0's rmse: 1.18998\n",
      "[46]\tvalid_0's rmse: 1.18863\n",
      "[47]\tvalid_0's rmse: 1.18731\n",
      "[48]\tvalid_0's rmse: 1.18597\n",
      "[49]\tvalid_0's rmse: 1.18464\n",
      "[50]\tvalid_0's rmse: 1.18334\n",
      "[51]\tvalid_0's rmse: 1.18205\n",
      "[52]\tvalid_0's rmse: 1.18075\n",
      "[53]\tvalid_0's rmse: 1.17941\n",
      "[54]\tvalid_0's rmse: 1.17819\n",
      "[55]\tvalid_0's rmse: 1.17693\n",
      "[56]\tvalid_0's rmse: 1.17566\n",
      "[57]\tvalid_0's rmse: 1.17438\n",
      "[58]\tvalid_0's rmse: 1.17315\n",
      "[59]\tvalid_0's rmse: 1.17191\n",
      "[60]\tvalid_0's rmse: 1.17073\n",
      "[61]\tvalid_0's rmse: 1.16951\n",
      "[62]\tvalid_0's rmse: 1.16839\n",
      "[63]\tvalid_0's rmse: 1.16722\n",
      "[64]\tvalid_0's rmse: 1.166\n",
      "[65]\tvalid_0's rmse: 1.1648\n",
      "[66]\tvalid_0's rmse: 1.16363\n",
      "[67]\tvalid_0's rmse: 1.16249\n",
      "[68]\tvalid_0's rmse: 1.16137\n",
      "[69]\tvalid_0's rmse: 1.1602\n",
      "[70]\tvalid_0's rmse: 1.15908\n",
      "[71]\tvalid_0's rmse: 1.158\n",
      "[72]\tvalid_0's rmse: 1.1569\n",
      "[73]\tvalid_0's rmse: 1.15578\n",
      "[74]\tvalid_0's rmse: 1.1547\n",
      "[75]\tvalid_0's rmse: 1.15368\n",
      "[76]\tvalid_0's rmse: 1.15259\n",
      "[77]\tvalid_0's rmse: 1.15155\n",
      "[78]\tvalid_0's rmse: 1.15052\n",
      "[79]\tvalid_0's rmse: 1.14948\n",
      "[80]\tvalid_0's rmse: 1.14843\n",
      "[81]\tvalid_0's rmse: 1.14738\n",
      "[82]\tvalid_0's rmse: 1.14635\n",
      "[83]\tvalid_0's rmse: 1.14531\n",
      "[84]\tvalid_0's rmse: 1.14429\n",
      "[85]\tvalid_0's rmse: 1.14332\n",
      "[86]\tvalid_0's rmse: 1.14234\n",
      "[87]\tvalid_0's rmse: 1.14138\n",
      "[88]\tvalid_0's rmse: 1.14042\n",
      "[89]\tvalid_0's rmse: 1.13945\n",
      "[90]\tvalid_0's rmse: 1.13846\n",
      "[91]\tvalid_0's rmse: 1.13755\n",
      "[92]\tvalid_0's rmse: 1.13655\n",
      "[93]\tvalid_0's rmse: 1.1356\n",
      "[94]\tvalid_0's rmse: 1.13469\n",
      "[95]\tvalid_0's rmse: 1.13383\n",
      "[96]\tvalid_0's rmse: 1.13293\n",
      "[97]\tvalid_0's rmse: 1.13204\n",
      "[98]\tvalid_0's rmse: 1.13112\n",
      "[99]\tvalid_0's rmse: 1.1302\n",
      "[100]\tvalid_0's rmse: 1.12934\n",
      "[101]\tvalid_0's rmse: 1.12841\n",
      "[102]\tvalid_0's rmse: 1.12756\n",
      "[103]\tvalid_0's rmse: 1.12669\n",
      "[104]\tvalid_0's rmse: 1.12583\n",
      "[105]\tvalid_0's rmse: 1.125\n",
      "[106]\tvalid_0's rmse: 1.12416\n",
      "[107]\tvalid_0's rmse: 1.12329\n",
      "[108]\tvalid_0's rmse: 1.12244\n",
      "[109]\tvalid_0's rmse: 1.12161\n",
      "[110]\tvalid_0's rmse: 1.12081\n",
      "[111]\tvalid_0's rmse: 1.12001\n",
      "[112]\tvalid_0's rmse: 1.11919\n",
      "[113]\tvalid_0's rmse: 1.11839\n",
      "[114]\tvalid_0's rmse: 1.11761\n",
      "[115]\tvalid_0's rmse: 1.11682\n",
      "[116]\tvalid_0's rmse: 1.11603\n",
      "[117]\tvalid_0's rmse: 1.11526\n",
      "[118]\tvalid_0's rmse: 1.11449\n",
      "[119]\tvalid_0's rmse: 1.11374\n",
      "[120]\tvalid_0's rmse: 1.11298\n",
      "[121]\tvalid_0's rmse: 1.11221\n",
      "[122]\tvalid_0's rmse: 1.11144\n",
      "[123]\tvalid_0's rmse: 1.11072\n",
      "[124]\tvalid_0's rmse: 1.10997\n",
      "[125]\tvalid_0's rmse: 1.10922\n",
      "[126]\tvalid_0's rmse: 1.1085\n",
      "[127]\tvalid_0's rmse: 1.10775\n",
      "[128]\tvalid_0's rmse: 1.10705\n",
      "[129]\tvalid_0's rmse: 1.10637\n",
      "[130]\tvalid_0's rmse: 1.1057\n",
      "[131]\tvalid_0's rmse: 1.10501\n",
      "[132]\tvalid_0's rmse: 1.10432\n",
      "[133]\tvalid_0's rmse: 1.10365\n",
      "[134]\tvalid_0's rmse: 1.10298\n",
      "[135]\tvalid_0's rmse: 1.1023\n",
      "[136]\tvalid_0's rmse: 1.10163\n",
      "[137]\tvalid_0's rmse: 1.10098\n",
      "[138]\tvalid_0's rmse: 1.10042\n",
      "[139]\tvalid_0's rmse: 1.09974\n",
      "[140]\tvalid_0's rmse: 1.09909\n",
      "[141]\tvalid_0's rmse: 1.09847\n",
      "[142]\tvalid_0's rmse: 1.09782\n",
      "[143]\tvalid_0's rmse: 1.09718\n",
      "[144]\tvalid_0's rmse: 1.09657\n",
      "[145]\tvalid_0's rmse: 1.09592\n",
      "[146]\tvalid_0's rmse: 1.09529\n",
      "[147]\tvalid_0's rmse: 1.09466\n",
      "[148]\tvalid_0's rmse: 1.09408\n",
      "[149]\tvalid_0's rmse: 1.09347\n",
      "[150]\tvalid_0's rmse: 1.09289\n",
      "[151]\tvalid_0's rmse: 1.09232\n",
      "[152]\tvalid_0's rmse: 1.09174\n",
      "[153]\tvalid_0's rmse: 1.09118\n",
      "[154]\tvalid_0's rmse: 1.09061\n",
      "[155]\tvalid_0's rmse: 1.09005\n",
      "[156]\tvalid_0's rmse: 1.08947\n",
      "[157]\tvalid_0's rmse: 1.08889\n",
      "[158]\tvalid_0's rmse: 1.08827\n",
      "[159]\tvalid_0's rmse: 1.08771\n",
      "[160]\tvalid_0's rmse: 1.08713\n",
      "[161]\tvalid_0's rmse: 1.08657\n",
      "[162]\tvalid_0's rmse: 1.08599\n",
      "[163]\tvalid_0's rmse: 1.08545\n",
      "[164]\tvalid_0's rmse: 1.08495\n",
      "[165]\tvalid_0's rmse: 1.0844\n",
      "[166]\tvalid_0's rmse: 1.08388\n",
      "[167]\tvalid_0's rmse: 1.08333\n",
      "[168]\tvalid_0's rmse: 1.0828\n",
      "[169]\tvalid_0's rmse: 1.08225\n",
      "[170]\tvalid_0's rmse: 1.08176\n",
      "[171]\tvalid_0's rmse: 1.08122\n",
      "[172]\tvalid_0's rmse: 1.08069\n",
      "[173]\tvalid_0's rmse: 1.08021\n",
      "[174]\tvalid_0's rmse: 1.07972\n",
      "[175]\tvalid_0's rmse: 1.07921\n",
      "[176]\tvalid_0's rmse: 1.07873\n",
      "[177]\tvalid_0's rmse: 1.07825\n",
      "[178]\tvalid_0's rmse: 1.07779\n",
      "[179]\tvalid_0's rmse: 1.07732\n",
      "[180]\tvalid_0's rmse: 1.07686\n",
      "[181]\tvalid_0's rmse: 1.07636\n",
      "[182]\tvalid_0's rmse: 1.07588\n",
      "[183]\tvalid_0's rmse: 1.07536\n",
      "[184]\tvalid_0's rmse: 1.0749\n",
      "[185]\tvalid_0's rmse: 1.07441\n",
      "[186]\tvalid_0's rmse: 1.07394\n",
      "[187]\tvalid_0's rmse: 1.07348\n",
      "[188]\tvalid_0's rmse: 1.07299\n",
      "[189]\tvalid_0's rmse: 1.07251\n",
      "[190]\tvalid_0's rmse: 1.07206\n",
      "[191]\tvalid_0's rmse: 1.07161\n",
      "[192]\tvalid_0's rmse: 1.07115\n",
      "[193]\tvalid_0's rmse: 1.07073\n",
      "[194]\tvalid_0's rmse: 1.07031\n",
      "[195]\tvalid_0's rmse: 1.06987\n",
      "[196]\tvalid_0's rmse: 1.06944\n",
      "[197]\tvalid_0's rmse: 1.06903\n",
      "[198]\tvalid_0's rmse: 1.06863\n",
      "[199]\tvalid_0's rmse: 1.06824\n",
      "[200]\tvalid_0's rmse: 1.06785\n",
      "[201]\tvalid_0's rmse: 1.06745\n",
      "[202]\tvalid_0's rmse: 1.06706\n",
      "[203]\tvalid_0's rmse: 1.06664\n",
      "[204]\tvalid_0's rmse: 1.06627\n",
      "[205]\tvalid_0's rmse: 1.06587\n",
      "[206]\tvalid_0's rmse: 1.06548\n",
      "[207]\tvalid_0's rmse: 1.0651\n",
      "[208]\tvalid_0's rmse: 1.06476\n",
      "[209]\tvalid_0's rmse: 1.06434\n",
      "[210]\tvalid_0's rmse: 1.06394\n",
      "[211]\tvalid_0's rmse: 1.06356\n",
      "[212]\tvalid_0's rmse: 1.06316\n",
      "[213]\tvalid_0's rmse: 1.06279\n",
      "[214]\tvalid_0's rmse: 1.06242\n",
      "[215]\tvalid_0's rmse: 1.06205\n",
      "[216]\tvalid_0's rmse: 1.06168\n",
      "[217]\tvalid_0's rmse: 1.0613\n",
      "[218]\tvalid_0's rmse: 1.06091\n",
      "[219]\tvalid_0's rmse: 1.06056\n",
      "[220]\tvalid_0's rmse: 1.06019\n",
      "[221]\tvalid_0's rmse: 1.05982\n",
      "[222]\tvalid_0's rmse: 1.05944\n",
      "[223]\tvalid_0's rmse: 1.05909\n",
      "[224]\tvalid_0's rmse: 1.05878\n",
      "[225]\tvalid_0's rmse: 1.05843\n",
      "[226]\tvalid_0's rmse: 1.05809\n",
      "[227]\tvalid_0's rmse: 1.05778\n",
      "[228]\tvalid_0's rmse: 1.05743\n",
      "[229]\tvalid_0's rmse: 1.05707\n",
      "[230]\tvalid_0's rmse: 1.05674\n",
      "[231]\tvalid_0's rmse: 1.05639\n",
      "[232]\tvalid_0's rmse: 1.05607\n",
      "[233]\tvalid_0's rmse: 1.05572\n",
      "[234]\tvalid_0's rmse: 1.05541\n",
      "[235]\tvalid_0's rmse: 1.05509\n",
      "[236]\tvalid_0's rmse: 1.05479\n",
      "[237]\tvalid_0's rmse: 1.05445\n",
      "[238]\tvalid_0's rmse: 1.05415\n",
      "[239]\tvalid_0's rmse: 1.05385\n",
      "[240]\tvalid_0's rmse: 1.05355\n",
      "[241]\tvalid_0's rmse: 1.05324\n",
      "[242]\tvalid_0's rmse: 1.05297\n",
      "[243]\tvalid_0's rmse: 1.05267\n",
      "[244]\tvalid_0's rmse: 1.05237\n",
      "[245]\tvalid_0's rmse: 1.05207\n",
      "[246]\tvalid_0's rmse: 1.05176\n",
      "[247]\tvalid_0's rmse: 1.05148\n",
      "[248]\tvalid_0's rmse: 1.0512\n",
      "[249]\tvalid_0's rmse: 1.05089\n",
      "[250]\tvalid_0's rmse: 1.0506\n",
      "[251]\tvalid_0's rmse: 1.05028\n",
      "[252]\tvalid_0's rmse: 1.05002\n",
      "[253]\tvalid_0's rmse: 1.04974\n",
      "[254]\tvalid_0's rmse: 1.04946\n",
      "[255]\tvalid_0's rmse: 1.04914\n",
      "[256]\tvalid_0's rmse: 1.04888\n",
      "[257]\tvalid_0's rmse: 1.04863\n",
      "[258]\tvalid_0's rmse: 1.04834\n",
      "[259]\tvalid_0's rmse: 1.04807\n",
      "[260]\tvalid_0's rmse: 1.04783\n",
      "[261]\tvalid_0's rmse: 1.04754\n",
      "[262]\tvalid_0's rmse: 1.04725\n",
      "[263]\tvalid_0's rmse: 1.04695\n",
      "[264]\tvalid_0's rmse: 1.04673\n",
      "[265]\tvalid_0's rmse: 1.04646\n",
      "[266]\tvalid_0's rmse: 1.04621\n",
      "[267]\tvalid_0's rmse: 1.04596\n",
      "[268]\tvalid_0's rmse: 1.04572\n",
      "[269]\tvalid_0's rmse: 1.04551\n",
      "[270]\tvalid_0's rmse: 1.04528\n",
      "[271]\tvalid_0's rmse: 1.04504\n",
      "[272]\tvalid_0's rmse: 1.04483\n",
      "[273]\tvalid_0's rmse: 1.04459\n",
      "[274]\tvalid_0's rmse: 1.04435\n",
      "[275]\tvalid_0's rmse: 1.04413\n",
      "[276]\tvalid_0's rmse: 1.04391\n",
      "[277]\tvalid_0's rmse: 1.04365\n"
     ]
    },
    {
     "name": "stdout",
     "output_type": "stream",
     "text": [
      "[278]\tvalid_0's rmse: 1.04343\n",
      "[279]\tvalid_0's rmse: 1.04322\n",
      "[280]\tvalid_0's rmse: 1.04295\n",
      "[281]\tvalid_0's rmse: 1.0427\n",
      "[282]\tvalid_0's rmse: 1.04249\n",
      "[283]\tvalid_0's rmse: 1.0423\n",
      "[284]\tvalid_0's rmse: 1.04208\n",
      "[285]\tvalid_0's rmse: 1.04185\n",
      "[286]\tvalid_0's rmse: 1.04162\n",
      "[287]\tvalid_0's rmse: 1.04141\n",
      "[288]\tvalid_0's rmse: 1.04118\n",
      "[289]\tvalid_0's rmse: 1.04094\n",
      "[290]\tvalid_0's rmse: 1.04073\n",
      "[291]\tvalid_0's rmse: 1.04052\n",
      "[292]\tvalid_0's rmse: 1.04029\n",
      "[293]\tvalid_0's rmse: 1.04005\n",
      "[294]\tvalid_0's rmse: 1.03986\n",
      "[295]\tvalid_0's rmse: 1.03962\n",
      "[296]\tvalid_0's rmse: 1.03941\n",
      "[297]\tvalid_0's rmse: 1.03922\n",
      "[298]\tvalid_0's rmse: 1.03899\n",
      "[299]\tvalid_0's rmse: 1.03878\n",
      "[300]\tvalid_0's rmse: 1.03856\n",
      "[301]\tvalid_0's rmse: 1.03837\n",
      "[302]\tvalid_0's rmse: 1.03816\n",
      "[303]\tvalid_0's rmse: 1.03794\n",
      "[304]\tvalid_0's rmse: 1.03771\n",
      "[305]\tvalid_0's rmse: 1.03755\n",
      "[306]\tvalid_0's rmse: 1.03736\n",
      "[307]\tvalid_0's rmse: 1.03713\n",
      "[308]\tvalid_0's rmse: 1.03694\n",
      "[309]\tvalid_0's rmse: 1.03675\n",
      "[310]\tvalid_0's rmse: 1.03652\n",
      "[311]\tvalid_0's rmse: 1.03633\n",
      "[312]\tvalid_0's rmse: 1.03614\n",
      "[313]\tvalid_0's rmse: 1.03597\n",
      "[314]\tvalid_0's rmse: 1.03581\n",
      "[315]\tvalid_0's rmse: 1.03563\n",
      "[316]\tvalid_0's rmse: 1.03546\n",
      "[317]\tvalid_0's rmse: 1.03525\n",
      "[318]\tvalid_0's rmse: 1.03507\n",
      "[319]\tvalid_0's rmse: 1.0349\n",
      "[320]\tvalid_0's rmse: 1.03473\n",
      "[321]\tvalid_0's rmse: 1.03455\n",
      "[322]\tvalid_0's rmse: 1.03437\n",
      "[323]\tvalid_0's rmse: 1.03418\n",
      "[324]\tvalid_0's rmse: 1.03401\n",
      "[325]\tvalid_0's rmse: 1.03385\n",
      "[326]\tvalid_0's rmse: 1.03368\n",
      "[327]\tvalid_0's rmse: 1.03354\n",
      "[328]\tvalid_0's rmse: 1.03335\n",
      "[329]\tvalid_0's rmse: 1.03314\n",
      "[330]\tvalid_0's rmse: 1.03296\n",
      "[331]\tvalid_0's rmse: 1.03278\n",
      "[332]\tvalid_0's rmse: 1.03261\n",
      "[333]\tvalid_0's rmse: 1.03247\n",
      "[334]\tvalid_0's rmse: 1.0323\n",
      "[335]\tvalid_0's rmse: 1.03214\n",
      "[336]\tvalid_0's rmse: 1.03199\n",
      "[337]\tvalid_0's rmse: 1.03181\n",
      "[338]\tvalid_0's rmse: 1.03164\n",
      "[339]\tvalid_0's rmse: 1.03147\n",
      "[340]\tvalid_0's rmse: 1.03132\n",
      "[341]\tvalid_0's rmse: 1.03117\n",
      "[342]\tvalid_0's rmse: 1.031\n",
      "[343]\tvalid_0's rmse: 1.03085\n",
      "[344]\tvalid_0's rmse: 1.03068\n",
      "[345]\tvalid_0's rmse: 1.03052\n",
      "[346]\tvalid_0's rmse: 1.03037\n",
      "[347]\tvalid_0's rmse: 1.03022\n",
      "[348]\tvalid_0's rmse: 1.03006\n",
      "[349]\tvalid_0's rmse: 1.02991\n",
      "[350]\tvalid_0's rmse: 1.02972\n",
      "[351]\tvalid_0's rmse: 1.02959\n",
      "[352]\tvalid_0's rmse: 1.02944\n",
      "[353]\tvalid_0's rmse: 1.02928\n",
      "[354]\tvalid_0's rmse: 1.02915\n",
      "[355]\tvalid_0's rmse: 1.02899\n",
      "[356]\tvalid_0's rmse: 1.02881\n",
      "[357]\tvalid_0's rmse: 1.02866\n",
      "[358]\tvalid_0's rmse: 1.02851\n",
      "[359]\tvalid_0's rmse: 1.02838\n",
      "[360]\tvalid_0's rmse: 1.02823\n",
      "[361]\tvalid_0's rmse: 1.02808\n",
      "[362]\tvalid_0's rmse: 1.02793\n",
      "[363]\tvalid_0's rmse: 1.02779\n",
      "[364]\tvalid_0's rmse: 1.02767\n",
      "[365]\tvalid_0's rmse: 1.02754\n",
      "[366]\tvalid_0's rmse: 1.02739\n",
      "[367]\tvalid_0's rmse: 1.02725\n",
      "[368]\tvalid_0's rmse: 1.02711\n",
      "[369]\tvalid_0's rmse: 1.02697\n",
      "[370]\tvalid_0's rmse: 1.02685\n",
      "[371]\tvalid_0's rmse: 1.02671\n",
      "[372]\tvalid_0's rmse: 1.02659\n",
      "[373]\tvalid_0's rmse: 1.02641\n",
      "[374]\tvalid_0's rmse: 1.02629\n",
      "[375]\tvalid_0's rmse: 1.02614\n",
      "[376]\tvalid_0's rmse: 1.02599\n",
      "[377]\tvalid_0's rmse: 1.02586\n",
      "[378]\tvalid_0's rmse: 1.02572\n",
      "[379]\tvalid_0's rmse: 1.0256\n",
      "[380]\tvalid_0's rmse: 1.02547\n",
      "[381]\tvalid_0's rmse: 1.02533\n",
      "[382]\tvalid_0's rmse: 1.02518\n",
      "[383]\tvalid_0's rmse: 1.02507\n",
      "[384]\tvalid_0's rmse: 1.0249\n",
      "[385]\tvalid_0's rmse: 1.0248\n",
      "[386]\tvalid_0's rmse: 1.02465\n",
      "[387]\tvalid_0's rmse: 1.02453\n",
      "[388]\tvalid_0's rmse: 1.02443\n",
      "[389]\tvalid_0's rmse: 1.0243\n",
      "[390]\tvalid_0's rmse: 1.02416\n",
      "[391]\tvalid_0's rmse: 1.02406\n",
      "[392]\tvalid_0's rmse: 1.02395\n",
      "[393]\tvalid_0's rmse: 1.02385\n",
      "[394]\tvalid_0's rmse: 1.02375\n",
      "[395]\tvalid_0's rmse: 1.02362\n",
      "[396]\tvalid_0's rmse: 1.02354\n",
      "[397]\tvalid_0's rmse: 1.02342\n",
      "[398]\tvalid_0's rmse: 1.02331\n",
      "[399]\tvalid_0's rmse: 1.02322\n",
      "[400]\tvalid_0's rmse: 1.02311\n",
      "[401]\tvalid_0's rmse: 1.02299\n",
      "[402]\tvalid_0's rmse: 1.02286\n",
      "[403]\tvalid_0's rmse: 1.02278\n",
      "[404]\tvalid_0's rmse: 1.02266\n",
      "[405]\tvalid_0's rmse: 1.02255\n",
      "[406]\tvalid_0's rmse: 1.02244\n",
      "[407]\tvalid_0's rmse: 1.02231\n",
      "[408]\tvalid_0's rmse: 1.02221\n",
      "[409]\tvalid_0's rmse: 1.02211\n",
      "[410]\tvalid_0's rmse: 1.022\n",
      "[411]\tvalid_0's rmse: 1.02187\n",
      "[412]\tvalid_0's rmse: 1.02174\n",
      "[413]\tvalid_0's rmse: 1.02164\n",
      "[414]\tvalid_0's rmse: 1.02157\n",
      "[415]\tvalid_0's rmse: 1.02146\n",
      "[416]\tvalid_0's rmse: 1.02129\n",
      "[417]\tvalid_0's rmse: 1.02119\n",
      "[418]\tvalid_0's rmse: 1.02108\n",
      "[419]\tvalid_0's rmse: 1.02095\n",
      "[420]\tvalid_0's rmse: 1.02086\n",
      "[421]\tvalid_0's rmse: 1.02072\n",
      "[422]\tvalid_0's rmse: 1.02061\n",
      "[423]\tvalid_0's rmse: 1.0205\n",
      "[424]\tvalid_0's rmse: 1.02041\n",
      "[425]\tvalid_0's rmse: 1.0203\n",
      "[426]\tvalid_0's rmse: 1.02016\n",
      "[427]\tvalid_0's rmse: 1.02005\n",
      "[428]\tvalid_0's rmse: 1.01996\n",
      "[429]\tvalid_0's rmse: 1.01987\n",
      "[430]\tvalid_0's rmse: 1.01976\n",
      "[431]\tvalid_0's rmse: 1.01964\n",
      "[432]\tvalid_0's rmse: 1.01955\n",
      "[433]\tvalid_0's rmse: 1.01943\n",
      "[434]\tvalid_0's rmse: 1.01936\n",
      "[435]\tvalid_0's rmse: 1.01927\n",
      "[436]\tvalid_0's rmse: 1.01918\n",
      "[437]\tvalid_0's rmse: 1.0191\n",
      "[438]\tvalid_0's rmse: 1.01901\n",
      "[439]\tvalid_0's rmse: 1.01891\n",
      "[440]\tvalid_0's rmse: 1.01879\n",
      "[441]\tvalid_0's rmse: 1.01872\n",
      "[442]\tvalid_0's rmse: 1.01863\n",
      "[443]\tvalid_0's rmse: 1.01851\n",
      "[444]\tvalid_0's rmse: 1.01841\n",
      "[445]\tvalid_0's rmse: 1.01831\n",
      "[446]\tvalid_0's rmse: 1.01822\n",
      "[447]\tvalid_0's rmse: 1.01814\n",
      "[448]\tvalid_0's rmse: 1.01809\n",
      "[449]\tvalid_0's rmse: 1.018\n",
      "[450]\tvalid_0's rmse: 1.01785\n",
      "[451]\tvalid_0's rmse: 1.01779\n",
      "[452]\tvalid_0's rmse: 1.01772\n",
      "[453]\tvalid_0's rmse: 1.01763\n",
      "[454]\tvalid_0's rmse: 1.01752\n",
      "[455]\tvalid_0's rmse: 1.01741\n",
      "[456]\tvalid_0's rmse: 1.01735\n",
      "[457]\tvalid_0's rmse: 1.01723\n",
      "[458]\tvalid_0's rmse: 1.01714\n",
      "[459]\tvalid_0's rmse: 1.01706\n",
      "[460]\tvalid_0's rmse: 1.01697\n",
      "[461]\tvalid_0's rmse: 1.01688\n",
      "[462]\tvalid_0's rmse: 1.0168\n",
      "[463]\tvalid_0's rmse: 1.01672\n",
      "[464]\tvalid_0's rmse: 1.01663\n",
      "[465]\tvalid_0's rmse: 1.01651\n",
      "[466]\tvalid_0's rmse: 1.01644\n",
      "[467]\tvalid_0's rmse: 1.01633\n",
      "[468]\tvalid_0's rmse: 1.01623\n",
      "[469]\tvalid_0's rmse: 1.01616\n",
      "[470]\tvalid_0's rmse: 1.01604\n",
      "[471]\tvalid_0's rmse: 1.01593\n",
      "[472]\tvalid_0's rmse: 1.01584\n",
      "[473]\tvalid_0's rmse: 1.01574\n",
      "[474]\tvalid_0's rmse: 1.01568\n",
      "[475]\tvalid_0's rmse: 1.01559\n",
      "[476]\tvalid_0's rmse: 1.0155\n",
      "[477]\tvalid_0's rmse: 1.01541\n",
      "[478]\tvalid_0's rmse: 1.0153\n",
      "[479]\tvalid_0's rmse: 1.01519\n",
      "[480]\tvalid_0's rmse: 1.01512\n",
      "[481]\tvalid_0's rmse: 1.01501\n",
      "[482]\tvalid_0's rmse: 1.0149\n",
      "[483]\tvalid_0's rmse: 1.0148\n",
      "[484]\tvalid_0's rmse: 1.01473\n",
      "[485]\tvalid_0's rmse: 1.01465\n",
      "[486]\tvalid_0's rmse: 1.0146\n",
      "[487]\tvalid_0's rmse: 1.01453\n",
      "[488]\tvalid_0's rmse: 1.01443\n",
      "[489]\tvalid_0's rmse: 1.01435\n",
      "[490]\tvalid_0's rmse: 1.01427\n",
      "[491]\tvalid_0's rmse: 1.01415\n",
      "[492]\tvalid_0's rmse: 1.01409\n",
      "[493]\tvalid_0's rmse: 1.01402\n",
      "[494]\tvalid_0's rmse: 1.01394\n",
      "[495]\tvalid_0's rmse: 1.01384\n",
      "[496]\tvalid_0's rmse: 1.01374\n",
      "[497]\tvalid_0's rmse: 1.01367\n",
      "[498]\tvalid_0's rmse: 1.01357\n",
      "[499]\tvalid_0's rmse: 1.01347\n",
      "[500]\tvalid_0's rmse: 1.01338\n",
      "[501]\tvalid_0's rmse: 1.0133\n",
      "[502]\tvalid_0's rmse: 1.0132\n",
      "[503]\tvalid_0's rmse: 1.01314\n",
      "[504]\tvalid_0's rmse: 1.01305\n",
      "[505]\tvalid_0's rmse: 1.01295\n",
      "[506]\tvalid_0's rmse: 1.01287\n",
      "[507]\tvalid_0's rmse: 1.01279\n",
      "[508]\tvalid_0's rmse: 1.01273\n",
      "[509]\tvalid_0's rmse: 1.01268\n",
      "[510]\tvalid_0's rmse: 1.01261\n",
      "[511]\tvalid_0's rmse: 1.01255\n",
      "[512]\tvalid_0's rmse: 1.01245\n",
      "[513]\tvalid_0's rmse: 1.01236\n",
      "[514]\tvalid_0's rmse: 1.0123\n",
      "[515]\tvalid_0's rmse: 1.01222\n",
      "[516]\tvalid_0's rmse: 1.01216\n",
      "[517]\tvalid_0's rmse: 1.01209\n",
      "[518]\tvalid_0's rmse: 1.01202\n",
      "[519]\tvalid_0's rmse: 1.01194\n",
      "[520]\tvalid_0's rmse: 1.01188\n",
      "[521]\tvalid_0's rmse: 1.01182\n",
      "[522]\tvalid_0's rmse: 1.01175\n",
      "[523]\tvalid_0's rmse: 1.01167\n",
      "[524]\tvalid_0's rmse: 1.01159\n",
      "[525]\tvalid_0's rmse: 1.01151\n",
      "[526]\tvalid_0's rmse: 1.01145\n",
      "[527]\tvalid_0's rmse: 1.01137\n",
      "[528]\tvalid_0's rmse: 1.01132\n",
      "[529]\tvalid_0's rmse: 1.01125\n",
      "[530]\tvalid_0's rmse: 1.01115\n",
      "[531]\tvalid_0's rmse: 1.01108\n",
      "[532]\tvalid_0's rmse: 1.01099\n",
      "[533]\tvalid_0's rmse: 1.01093\n",
      "[534]\tvalid_0's rmse: 1.01085\n",
      "[535]\tvalid_0's rmse: 1.01078\n",
      "[536]\tvalid_0's rmse: 1.01071\n",
      "[537]\tvalid_0's rmse: 1.01064\n",
      "[538]\tvalid_0's rmse: 1.01054\n",
      "[539]\tvalid_0's rmse: 1.01048\n",
      "[540]\tvalid_0's rmse: 1.0104\n",
      "[541]\tvalid_0's rmse: 1.01033\n",
      "[542]\tvalid_0's rmse: 1.01027\n",
      "[543]\tvalid_0's rmse: 1.01017\n",
      "[544]\tvalid_0's rmse: 1.01009\n",
      "[545]\tvalid_0's rmse: 1.01002\n",
      "[546]\tvalid_0's rmse: 1.00992\n",
      "[547]\tvalid_0's rmse: 1.00987\n",
      "[548]\tvalid_0's rmse: 1.00978\n",
      "[549]\tvalid_0's rmse: 1.00972\n",
      "[550]\tvalid_0's rmse: 1.0097\n",
      "[551]\tvalid_0's rmse: 1.00964\n"
     ]
    },
    {
     "name": "stdout",
     "output_type": "stream",
     "text": [
      "[552]\tvalid_0's rmse: 1.00958\n",
      "[553]\tvalid_0's rmse: 1.00951\n",
      "[554]\tvalid_0's rmse: 1.00946\n",
      "[555]\tvalid_0's rmse: 1.00937\n",
      "[556]\tvalid_0's rmse: 1.00931\n",
      "[557]\tvalid_0's rmse: 1.00922\n",
      "[558]\tvalid_0's rmse: 1.00919\n",
      "[559]\tvalid_0's rmse: 1.00914\n",
      "[560]\tvalid_0's rmse: 1.00911\n",
      "[561]\tvalid_0's rmse: 1.00906\n",
      "[562]\tvalid_0's rmse: 1.00899\n",
      "[563]\tvalid_0's rmse: 1.00894\n",
      "[564]\tvalid_0's rmse: 1.00887\n",
      "[565]\tvalid_0's rmse: 1.00882\n",
      "[566]\tvalid_0's rmse: 1.00875\n",
      "[567]\tvalid_0's rmse: 1.0087\n",
      "[568]\tvalid_0's rmse: 1.00863\n",
      "[569]\tvalid_0's rmse: 1.00858\n",
      "[570]\tvalid_0's rmse: 1.00852\n",
      "[571]\tvalid_0's rmse: 1.00848\n",
      "[572]\tvalid_0's rmse: 1.00842\n",
      "[573]\tvalid_0's rmse: 1.00836\n",
      "[574]\tvalid_0's rmse: 1.0083\n",
      "[575]\tvalid_0's rmse: 1.00824\n",
      "[576]\tvalid_0's rmse: 1.00817\n",
      "[577]\tvalid_0's rmse: 1.00812\n",
      "[578]\tvalid_0's rmse: 1.00804\n",
      "[579]\tvalid_0's rmse: 1.00797\n",
      "[580]\tvalid_0's rmse: 1.00794\n",
      "[581]\tvalid_0's rmse: 1.0079\n",
      "[582]\tvalid_0's rmse: 1.00786\n",
      "[583]\tvalid_0's rmse: 1.0078\n",
      "[584]\tvalid_0's rmse: 1.00774\n",
      "[585]\tvalid_0's rmse: 1.00765\n",
      "[586]\tvalid_0's rmse: 1.00759\n",
      "[587]\tvalid_0's rmse: 1.00756\n",
      "[588]\tvalid_0's rmse: 1.00749\n",
      "[589]\tvalid_0's rmse: 1.0074\n",
      "[590]\tvalid_0's rmse: 1.00734\n",
      "[591]\tvalid_0's rmse: 1.0073\n",
      "[592]\tvalid_0's rmse: 1.00723\n",
      "[593]\tvalid_0's rmse: 1.00716\n",
      "[594]\tvalid_0's rmse: 1.00711\n",
      "[595]\tvalid_0's rmse: 1.00705\n",
      "[596]\tvalid_0's rmse: 1.00701\n",
      "[597]\tvalid_0's rmse: 1.00698\n",
      "[598]\tvalid_0's rmse: 1.00693\n",
      "[599]\tvalid_0's rmse: 1.00688\n",
      "[600]\tvalid_0's rmse: 1.0068\n",
      "[601]\tvalid_0's rmse: 1.00672\n",
      "[602]\tvalid_0's rmse: 1.00667\n",
      "[603]\tvalid_0's rmse: 1.00662\n",
      "[604]\tvalid_0's rmse: 1.00657\n",
      "[605]\tvalid_0's rmse: 1.00652\n",
      "[606]\tvalid_0's rmse: 1.00643\n",
      "[607]\tvalid_0's rmse: 1.00636\n",
      "[608]\tvalid_0's rmse: 1.00631\n",
      "[609]\tvalid_0's rmse: 1.00628\n",
      "[610]\tvalid_0's rmse: 1.00623\n",
      "[611]\tvalid_0's rmse: 1.00619\n",
      "[612]\tvalid_0's rmse: 1.00612\n",
      "[613]\tvalid_0's rmse: 1.00607\n",
      "[614]\tvalid_0's rmse: 1.006\n",
      "[615]\tvalid_0's rmse: 1.00594\n",
      "[616]\tvalid_0's rmse: 1.0059\n",
      "[617]\tvalid_0's rmse: 1.00584\n",
      "[618]\tvalid_0's rmse: 1.0058\n",
      "[619]\tvalid_0's rmse: 1.00574\n",
      "[620]\tvalid_0's rmse: 1.00565\n",
      "[621]\tvalid_0's rmse: 1.0056\n",
      "[622]\tvalid_0's rmse: 1.00555\n",
      "[623]\tvalid_0's rmse: 1.00549\n",
      "[624]\tvalid_0's rmse: 1.00543\n",
      "[625]\tvalid_0's rmse: 1.00538\n",
      "[626]\tvalid_0's rmse: 1.00531\n",
      "[627]\tvalid_0's rmse: 1.00527\n",
      "[628]\tvalid_0's rmse: 1.00523\n",
      "[629]\tvalid_0's rmse: 1.00519\n",
      "[630]\tvalid_0's rmse: 1.00514\n",
      "[631]\tvalid_0's rmse: 1.00512\n",
      "[632]\tvalid_0's rmse: 1.00506\n",
      "[633]\tvalid_0's rmse: 1.00499\n",
      "[634]\tvalid_0's rmse: 1.00492\n",
      "[635]\tvalid_0's rmse: 1.00489\n",
      "[636]\tvalid_0's rmse: 1.00484\n",
      "[637]\tvalid_0's rmse: 1.00477\n",
      "[638]\tvalid_0's rmse: 1.00471\n",
      "[639]\tvalid_0's rmse: 1.00467\n",
      "[640]\tvalid_0's rmse: 1.00462\n",
      "[641]\tvalid_0's rmse: 1.00456\n",
      "[642]\tvalid_0's rmse: 1.0045\n",
      "[643]\tvalid_0's rmse: 1.00443\n",
      "[644]\tvalid_0's rmse: 1.00439\n",
      "[645]\tvalid_0's rmse: 1.00434\n",
      "[646]\tvalid_0's rmse: 1.00426\n",
      "[647]\tvalid_0's rmse: 1.00423\n",
      "[648]\tvalid_0's rmse: 1.00419\n",
      "[649]\tvalid_0's rmse: 1.00414\n",
      "[650]\tvalid_0's rmse: 1.00409\n",
      "[651]\tvalid_0's rmse: 1.00404\n",
      "[652]\tvalid_0's rmse: 1.00401\n",
      "[653]\tvalid_0's rmse: 1.00397\n",
      "[654]\tvalid_0's rmse: 1.00392\n",
      "[655]\tvalid_0's rmse: 1.00386\n",
      "[656]\tvalid_0's rmse: 1.00382\n",
      "[657]\tvalid_0's rmse: 1.00377\n",
      "[658]\tvalid_0's rmse: 1.00374\n",
      "[659]\tvalid_0's rmse: 1.0037\n",
      "[660]\tvalid_0's rmse: 1.00366\n",
      "[661]\tvalid_0's rmse: 1.00361\n",
      "[662]\tvalid_0's rmse: 1.00355\n",
      "[663]\tvalid_0's rmse: 1.00352\n",
      "[664]\tvalid_0's rmse: 1.00347\n",
      "[665]\tvalid_0's rmse: 1.00343\n",
      "[666]\tvalid_0's rmse: 1.00338\n",
      "[667]\tvalid_0's rmse: 1.00331\n",
      "[668]\tvalid_0's rmse: 1.0033\n",
      "[669]\tvalid_0's rmse: 1.00324\n",
      "[670]\tvalid_0's rmse: 1.0032\n",
      "[671]\tvalid_0's rmse: 1.00318\n",
      "[672]\tvalid_0's rmse: 1.00313\n",
      "[673]\tvalid_0's rmse: 1.0031\n",
      "[674]\tvalid_0's rmse: 1.00305\n",
      "[675]\tvalid_0's rmse: 1.00299\n",
      "[676]\tvalid_0's rmse: 1.00296\n",
      "[677]\tvalid_0's rmse: 1.00291\n",
      "[678]\tvalid_0's rmse: 1.00284\n",
      "[679]\tvalid_0's rmse: 1.0028\n",
      "[680]\tvalid_0's rmse: 1.00276\n",
      "[681]\tvalid_0's rmse: 1.0027\n",
      "[682]\tvalid_0's rmse: 1.00266\n",
      "[683]\tvalid_0's rmse: 1.00263\n",
      "[684]\tvalid_0's rmse: 1.00256\n",
      "[685]\tvalid_0's rmse: 1.00251\n",
      "[686]\tvalid_0's rmse: 1.00248\n",
      "[687]\tvalid_0's rmse: 1.00243\n",
      "[688]\tvalid_0's rmse: 1.00237\n",
      "[689]\tvalid_0's rmse: 1.00235\n",
      "[690]\tvalid_0's rmse: 1.0023\n",
      "[691]\tvalid_0's rmse: 1.00224\n",
      "[692]\tvalid_0's rmse: 1.00219\n",
      "[693]\tvalid_0's rmse: 1.00217\n",
      "[694]\tvalid_0's rmse: 1.00214\n",
      "[695]\tvalid_0's rmse: 1.00211\n",
      "[696]\tvalid_0's rmse: 1.00206\n",
      "[697]\tvalid_0's rmse: 1.002\n",
      "[698]\tvalid_0's rmse: 1.00196\n",
      "[699]\tvalid_0's rmse: 1.00192\n",
      "[700]\tvalid_0's rmse: 1.00189\n",
      "[701]\tvalid_0's rmse: 1.00186\n",
      "[702]\tvalid_0's rmse: 1.00182\n",
      "[703]\tvalid_0's rmse: 1.00174\n",
      "[704]\tvalid_0's rmse: 1.00168\n",
      "[705]\tvalid_0's rmse: 1.00163\n",
      "[706]\tvalid_0's rmse: 1.00159\n",
      "[707]\tvalid_0's rmse: 1.00155\n",
      "[708]\tvalid_0's rmse: 1.0015\n",
      "[709]\tvalid_0's rmse: 1.00144\n",
      "[710]\tvalid_0's rmse: 1.00138\n",
      "[711]\tvalid_0's rmse: 1.00136\n",
      "[712]\tvalid_0's rmse: 1.00133\n",
      "[713]\tvalid_0's rmse: 1.00128\n",
      "[714]\tvalid_0's rmse: 1.00121\n",
      "[715]\tvalid_0's rmse: 1.00115\n",
      "[716]\tvalid_0's rmse: 1.00111\n",
      "[717]\tvalid_0's rmse: 1.00109\n",
      "[718]\tvalid_0's rmse: 1.00103\n",
      "[719]\tvalid_0's rmse: 1.001\n",
      "[720]\tvalid_0's rmse: 1.00097\n",
      "[721]\tvalid_0's rmse: 1.00093\n",
      "[722]\tvalid_0's rmse: 1.00088\n",
      "[723]\tvalid_0's rmse: 1.00084\n",
      "[724]\tvalid_0's rmse: 1.00079\n",
      "[725]\tvalid_0's rmse: 1.00074\n",
      "[726]\tvalid_0's rmse: 1.00068\n",
      "[727]\tvalid_0's rmse: 1.00066\n",
      "[728]\tvalid_0's rmse: 1.00063\n",
      "[729]\tvalid_0's rmse: 1.00058\n",
      "[730]\tvalid_0's rmse: 1.00053\n",
      "[731]\tvalid_0's rmse: 1.00051\n",
      "[732]\tvalid_0's rmse: 1.00048\n",
      "[733]\tvalid_0's rmse: 1.00044\n",
      "[734]\tvalid_0's rmse: 1.0004\n",
      "[735]\tvalid_0's rmse: 1.00034\n",
      "[736]\tvalid_0's rmse: 1.0003\n",
      "[737]\tvalid_0's rmse: 1.00027\n",
      "[738]\tvalid_0's rmse: 1.00022\n",
      "[739]\tvalid_0's rmse: 1.00016\n",
      "[740]\tvalid_0's rmse: 1.00011\n",
      "[741]\tvalid_0's rmse: 1.00007\n",
      "[742]\tvalid_0's rmse: 1.00005\n",
      "[743]\tvalid_0's rmse: 1\n",
      "[744]\tvalid_0's rmse: 0.999966\n",
      "[745]\tvalid_0's rmse: 0.999917\n",
      "[746]\tvalid_0's rmse: 0.999865\n",
      "[747]\tvalid_0's rmse: 0.999826\n",
      "[748]\tvalid_0's rmse: 0.999776\n",
      "[749]\tvalid_0's rmse: 0.999751\n",
      "[750]\tvalid_0's rmse: 0.999722\n",
      "[751]\tvalid_0's rmse: 0.999664\n",
      "[752]\tvalid_0's rmse: 0.999603\n",
      "[753]\tvalid_0's rmse: 0.99957\n",
      "[754]\tvalid_0's rmse: 0.999524\n",
      "[755]\tvalid_0's rmse: 0.999473\n",
      "[756]\tvalid_0's rmse: 0.999435\n",
      "[757]\tvalid_0's rmse: 0.999402\n",
      "[758]\tvalid_0's rmse: 0.99939\n",
      "[759]\tvalid_0's rmse: 0.999345\n",
      "[760]\tvalid_0's rmse: 0.999321\n",
      "[761]\tvalid_0's rmse: 0.999283\n",
      "[762]\tvalid_0's rmse: 0.999251\n",
      "[763]\tvalid_0's rmse: 0.999216\n",
      "[764]\tvalid_0's rmse: 0.999157\n",
      "[765]\tvalid_0's rmse: 0.999102\n",
      "[766]\tvalid_0's rmse: 0.999075\n",
      "[767]\tvalid_0's rmse: 0.999055\n",
      "[768]\tvalid_0's rmse: 0.999027\n",
      "[769]\tvalid_0's rmse: 0.998998\n",
      "[770]\tvalid_0's rmse: 0.998969\n",
      "[771]\tvalid_0's rmse: 0.998941\n",
      "[772]\tvalid_0's rmse: 0.998916\n",
      "[773]\tvalid_0's rmse: 0.998856\n",
      "[774]\tvalid_0's rmse: 0.998826\n",
      "[775]\tvalid_0's rmse: 0.998775\n",
      "[776]\tvalid_0's rmse: 0.998714\n",
      "[777]\tvalid_0's rmse: 0.998682\n",
      "[778]\tvalid_0's rmse: 0.998639\n",
      "[779]\tvalid_0's rmse: 0.998617\n",
      "[780]\tvalid_0's rmse: 0.998561\n",
      "[781]\tvalid_0's rmse: 0.998522\n",
      "[782]\tvalid_0's rmse: 0.998477\n",
      "[783]\tvalid_0's rmse: 0.998448\n",
      "[784]\tvalid_0's rmse: 0.998428\n",
      "[785]\tvalid_0's rmse: 0.998398\n",
      "[786]\tvalid_0's rmse: 0.99838\n",
      "[787]\tvalid_0's rmse: 0.998365\n",
      "[788]\tvalid_0's rmse: 0.998325\n",
      "[789]\tvalid_0's rmse: 0.99831\n",
      "[790]\tvalid_0's rmse: 0.998281\n",
      "[791]\tvalid_0's rmse: 0.998243\n",
      "[792]\tvalid_0's rmse: 0.998211\n",
      "[793]\tvalid_0's rmse: 0.99818\n",
      "[794]\tvalid_0's rmse: 0.998176\n",
      "[795]\tvalid_0's rmse: 0.998136\n",
      "[796]\tvalid_0's rmse: 0.9981\n",
      "[797]\tvalid_0's rmse: 0.998059\n",
      "[798]\tvalid_0's rmse: 0.998019\n",
      "[799]\tvalid_0's rmse: 0.997988\n",
      "[800]\tvalid_0's rmse: 0.997974\n",
      "[801]\tvalid_0's rmse: 0.997952\n",
      "[802]\tvalid_0's rmse: 0.997887\n",
      "[803]\tvalid_0's rmse: 0.997858\n",
      "[804]\tvalid_0's rmse: 0.997812\n",
      "[805]\tvalid_0's rmse: 0.997782\n",
      "[806]\tvalid_0's rmse: 0.997734\n",
      "[807]\tvalid_0's rmse: 0.997709\n",
      "[808]\tvalid_0's rmse: 0.997664\n",
      "[809]\tvalid_0's rmse: 0.99764\n",
      "[810]\tvalid_0's rmse: 0.997614\n",
      "[811]\tvalid_0's rmse: 0.997591\n",
      "[812]\tvalid_0's rmse: 0.997564\n",
      "[813]\tvalid_0's rmse: 0.997542\n",
      "[814]\tvalid_0's rmse: 0.997521\n",
      "[815]\tvalid_0's rmse: 0.997488\n",
      "[816]\tvalid_0's rmse: 0.997483\n",
      "[817]\tvalid_0's rmse: 0.997451\n",
      "[818]\tvalid_0's rmse: 0.997414\n",
      "[819]\tvalid_0's rmse: 0.997361\n",
      "[820]\tvalid_0's rmse: 0.997327\n",
      "[821]\tvalid_0's rmse: 0.997279\n",
      "[822]\tvalid_0's rmse: 0.997255\n"
     ]
    },
    {
     "name": "stdout",
     "output_type": "stream",
     "text": [
      "[823]\tvalid_0's rmse: 0.997225\n",
      "[824]\tvalid_0's rmse: 0.997183\n",
      "[825]\tvalid_0's rmse: 0.997175\n",
      "[826]\tvalid_0's rmse: 0.997131\n",
      "[827]\tvalid_0's rmse: 0.997096\n",
      "[828]\tvalid_0's rmse: 0.997072\n",
      "[829]\tvalid_0's rmse: 0.997047\n",
      "[830]\tvalid_0's rmse: 0.997008\n",
      "[831]\tvalid_0's rmse: 0.996981\n",
      "[832]\tvalid_0's rmse: 0.996959\n",
      "[833]\tvalid_0's rmse: 0.99691\n",
      "[834]\tvalid_0's rmse: 0.99687\n",
      "[835]\tvalid_0's rmse: 0.996861\n",
      "[836]\tvalid_0's rmse: 0.996803\n",
      "[837]\tvalid_0's rmse: 0.996773\n",
      "[838]\tvalid_0's rmse: 0.996734\n",
      "[839]\tvalid_0's rmse: 0.996669\n",
      "[840]\tvalid_0's rmse: 0.996634\n",
      "[841]\tvalid_0's rmse: 0.99659\n",
      "[842]\tvalid_0's rmse: 0.996564\n",
      "[843]\tvalid_0's rmse: 0.996543\n",
      "[844]\tvalid_0's rmse: 0.996506\n",
      "[845]\tvalid_0's rmse: 0.996475\n",
      "[846]\tvalid_0's rmse: 0.996437\n",
      "[847]\tvalid_0's rmse: 0.996387\n",
      "[848]\tvalid_0's rmse: 0.996356\n",
      "[849]\tvalid_0's rmse: 0.996322\n",
      "[850]\tvalid_0's rmse: 0.99629\n",
      "[851]\tvalid_0's rmse: 0.996254\n",
      "[852]\tvalid_0's rmse: 0.996217\n",
      "[853]\tvalid_0's rmse: 0.996186\n",
      "[854]\tvalid_0's rmse: 0.996185\n",
      "[855]\tvalid_0's rmse: 0.996188\n",
      "[856]\tvalid_0's rmse: 0.99618\n",
      "[857]\tvalid_0's rmse: 0.996154\n",
      "[858]\tvalid_0's rmse: 0.99611\n",
      "[859]\tvalid_0's rmse: 0.996087\n",
      "[860]\tvalid_0's rmse: 0.996042\n",
      "[861]\tvalid_0's rmse: 0.995997\n",
      "[862]\tvalid_0's rmse: 0.995983\n",
      "[863]\tvalid_0's rmse: 0.995948\n",
      "[864]\tvalid_0's rmse: 0.995942\n",
      "[865]\tvalid_0's rmse: 0.995896\n",
      "[866]\tvalid_0's rmse: 0.995862\n",
      "[867]\tvalid_0's rmse: 0.995842\n",
      "[868]\tvalid_0's rmse: 0.995817\n",
      "[869]\tvalid_0's rmse: 0.995791\n",
      "[870]\tvalid_0's rmse: 0.995774\n",
      "[871]\tvalid_0's rmse: 0.995724\n",
      "[872]\tvalid_0's rmse: 0.995713\n",
      "[873]\tvalid_0's rmse: 0.995683\n",
      "[874]\tvalid_0's rmse: 0.995641\n",
      "[875]\tvalid_0's rmse: 0.995616\n",
      "[876]\tvalid_0's rmse: 0.995578\n",
      "[877]\tvalid_0's rmse: 0.995551\n",
      "[878]\tvalid_0's rmse: 0.995516\n",
      "[879]\tvalid_0's rmse: 0.995474\n",
      "[880]\tvalid_0's rmse: 0.995452\n",
      "[881]\tvalid_0's rmse: 0.995431\n",
      "[882]\tvalid_0's rmse: 0.995404\n",
      "[883]\tvalid_0's rmse: 0.995392\n",
      "[884]\tvalid_0's rmse: 0.995391\n",
      "[885]\tvalid_0's rmse: 0.995356\n",
      "[886]\tvalid_0's rmse: 0.995306\n",
      "[887]\tvalid_0's rmse: 0.995285\n",
      "[888]\tvalid_0's rmse: 0.995245\n",
      "[889]\tvalid_0's rmse: 0.99522\n",
      "[890]\tvalid_0's rmse: 0.995196\n",
      "[891]\tvalid_0's rmse: 0.995191\n",
      "[892]\tvalid_0's rmse: 0.995198\n",
      "[893]\tvalid_0's rmse: 0.995191\n",
      "[894]\tvalid_0's rmse: 0.995149\n",
      "[895]\tvalid_0's rmse: 0.99514\n",
      "[896]\tvalid_0's rmse: 0.995096\n",
      "[897]\tvalid_0's rmse: 0.995081\n",
      "[898]\tvalid_0's rmse: 0.995045\n",
      "[899]\tvalid_0's rmse: 0.99503\n",
      "[900]\tvalid_0's rmse: 0.995004\n",
      "[901]\tvalid_0's rmse: 0.994985\n",
      "[902]\tvalid_0's rmse: 0.994971\n",
      "[903]\tvalid_0's rmse: 0.994943\n",
      "[904]\tvalid_0's rmse: 0.994919\n",
      "[905]\tvalid_0's rmse: 0.994895\n",
      "[906]\tvalid_0's rmse: 0.99487\n",
      "[907]\tvalid_0's rmse: 0.994838\n",
      "[908]\tvalid_0's rmse: 0.99482\n",
      "[909]\tvalid_0's rmse: 0.994758\n",
      "[910]\tvalid_0's rmse: 0.994734\n",
      "[911]\tvalid_0's rmse: 0.994693\n",
      "[912]\tvalid_0's rmse: 0.994668\n",
      "[913]\tvalid_0's rmse: 0.994623\n",
      "[914]\tvalid_0's rmse: 0.994576\n",
      "[915]\tvalid_0's rmse: 0.994556\n",
      "[916]\tvalid_0's rmse: 0.994555\n",
      "[917]\tvalid_0's rmse: 0.994506\n",
      "[918]\tvalid_0's rmse: 0.99446\n",
      "[919]\tvalid_0's rmse: 0.994429\n",
      "[920]\tvalid_0's rmse: 0.994415\n",
      "[921]\tvalid_0's rmse: 0.994416\n",
      "[922]\tvalid_0's rmse: 0.994408\n",
      "[923]\tvalid_0's rmse: 0.994374\n",
      "[924]\tvalid_0's rmse: 0.994371\n",
      "[925]\tvalid_0's rmse: 0.994335\n",
      "[926]\tvalid_0's rmse: 0.994301\n",
      "[927]\tvalid_0's rmse: 0.994286\n",
      "[928]\tvalid_0's rmse: 0.994243\n",
      "[929]\tvalid_0's rmse: 0.994222\n",
      "[930]\tvalid_0's rmse: 0.994207\n",
      "[931]\tvalid_0's rmse: 0.994193\n",
      "[932]\tvalid_0's rmse: 0.994142\n",
      "[933]\tvalid_0's rmse: 0.994126\n",
      "[934]\tvalid_0's rmse: 0.994096\n",
      "[935]\tvalid_0's rmse: 0.994094\n",
      "[936]\tvalid_0's rmse: 0.994071\n",
      "[937]\tvalid_0's rmse: 0.99405\n",
      "[938]\tvalid_0's rmse: 0.994021\n",
      "[939]\tvalid_0's rmse: 0.993989\n",
      "[940]\tvalid_0's rmse: 0.993957\n",
      "[941]\tvalid_0's rmse: 0.993919\n",
      "[942]\tvalid_0's rmse: 0.993901\n",
      "[943]\tvalid_0's rmse: 0.993877\n",
      "[944]\tvalid_0's rmse: 0.993863\n",
      "[945]\tvalid_0's rmse: 0.993848\n",
      "[946]\tvalid_0's rmse: 0.993827\n",
      "[947]\tvalid_0's rmse: 0.993818\n",
      "[948]\tvalid_0's rmse: 0.99381\n",
      "[949]\tvalid_0's rmse: 0.993763\n",
      "[950]\tvalid_0's rmse: 0.993738\n",
      "[951]\tvalid_0's rmse: 0.993713\n",
      "[952]\tvalid_0's rmse: 0.993673\n",
      "[953]\tvalid_0's rmse: 0.993636\n",
      "[954]\tvalid_0's rmse: 0.993599\n",
      "[955]\tvalid_0's rmse: 0.993584\n",
      "[956]\tvalid_0's rmse: 0.993563\n",
      "[957]\tvalid_0's rmse: 0.99355\n",
      "[958]\tvalid_0's rmse: 0.993537\n",
      "[959]\tvalid_0's rmse: 0.993517\n",
      "[960]\tvalid_0's rmse: 0.993503\n",
      "[961]\tvalid_0's rmse: 0.993469\n",
      "[962]\tvalid_0's rmse: 0.993456\n",
      "[963]\tvalid_0's rmse: 0.993418\n",
      "[964]\tvalid_0's rmse: 0.993404\n",
      "[965]\tvalid_0's rmse: 0.99339\n",
      "[966]\tvalid_0's rmse: 0.993345\n",
      "[967]\tvalid_0's rmse: 0.993305\n",
      "[968]\tvalid_0's rmse: 0.993286\n",
      "[969]\tvalid_0's rmse: 0.993276\n",
      "[970]\tvalid_0's rmse: 0.993262\n",
      "[971]\tvalid_0's rmse: 0.993238\n",
      "[972]\tvalid_0's rmse: 0.993219\n",
      "[973]\tvalid_0's rmse: 0.993204\n",
      "[974]\tvalid_0's rmse: 0.99316\n",
      "[975]\tvalid_0's rmse: 0.993139\n",
      "[976]\tvalid_0's rmse: 0.993132\n",
      "[977]\tvalid_0's rmse: 0.993102\n",
      "[978]\tvalid_0's rmse: 0.993063\n",
      "[979]\tvalid_0's rmse: 0.993027\n",
      "[980]\tvalid_0's rmse: 0.993006\n",
      "[981]\tvalid_0's rmse: 0.99297\n",
      "[982]\tvalid_0's rmse: 0.992955\n",
      "[983]\tvalid_0's rmse: 0.992929\n",
      "[984]\tvalid_0's rmse: 0.992933\n",
      "[985]\tvalid_0's rmse: 0.992909\n",
      "[986]\tvalid_0's rmse: 0.992884\n",
      "[987]\tvalid_0's rmse: 0.992865\n",
      "[988]\tvalid_0's rmse: 0.992829\n",
      "[989]\tvalid_0's rmse: 0.992767\n",
      "[990]\tvalid_0's rmse: 0.992768\n",
      "[991]\tvalid_0's rmse: 0.992739\n",
      "[992]\tvalid_0's rmse: 0.992723\n",
      "[993]\tvalid_0's rmse: 0.992703\n",
      "[994]\tvalid_0's rmse: 0.992703\n",
      "[995]\tvalid_0's rmse: 0.992662\n",
      "[996]\tvalid_0's rmse: 0.992659\n",
      "[997]\tvalid_0's rmse: 0.992648\n",
      "[998]\tvalid_0's rmse: 0.992635\n",
      "[999]\tvalid_0's rmse: 0.992608\n",
      "[1000]\tvalid_0's rmse: 0.992597\n",
      "[1001]\tvalid_0's rmse: 0.992574\n",
      "[1002]\tvalid_0's rmse: 0.992545\n",
      "[1003]\tvalid_0's rmse: 0.992528\n",
      "[1004]\tvalid_0's rmse: 0.992501\n",
      "[1005]\tvalid_0's rmse: 0.992485\n",
      "[1006]\tvalid_0's rmse: 0.992464\n",
      "[1007]\tvalid_0's rmse: 0.992449\n",
      "[1008]\tvalid_0's rmse: 0.992418\n",
      "[1009]\tvalid_0's rmse: 0.992383\n",
      "[1010]\tvalid_0's rmse: 0.992365\n",
      "[1011]\tvalid_0's rmse: 0.992348\n",
      "[1012]\tvalid_0's rmse: 0.99231\n",
      "[1013]\tvalid_0's rmse: 0.992311\n",
      "[1014]\tvalid_0's rmse: 0.992291\n",
      "[1015]\tvalid_0's rmse: 0.992258\n",
      "[1016]\tvalid_0's rmse: 0.992245\n",
      "[1017]\tvalid_0's rmse: 0.992219\n",
      "[1018]\tvalid_0's rmse: 0.992205\n",
      "[1019]\tvalid_0's rmse: 0.992189\n",
      "[1020]\tvalid_0's rmse: 0.992173\n",
      "[1021]\tvalid_0's rmse: 0.992181\n",
      "[1022]\tvalid_0's rmse: 0.992169\n",
      "[1023]\tvalid_0's rmse: 0.992134\n",
      "[1024]\tvalid_0's rmse: 0.992121\n",
      "[1025]\tvalid_0's rmse: 0.992083\n",
      "[1026]\tvalid_0's rmse: 0.992072\n",
      "[1027]\tvalid_0's rmse: 0.992058\n",
      "[1028]\tvalid_0's rmse: 0.99203\n",
      "[1029]\tvalid_0's rmse: 0.992005\n",
      "[1030]\tvalid_0's rmse: 0.991985\n",
      "[1031]\tvalid_0's rmse: 0.991967\n",
      "[1032]\tvalid_0's rmse: 0.99196\n",
      "[1033]\tvalid_0's rmse: 0.991928\n",
      "[1034]\tvalid_0's rmse: 0.991911\n",
      "[1035]\tvalid_0's rmse: 0.991901\n",
      "[1036]\tvalid_0's rmse: 0.99187\n",
      "[1037]\tvalid_0's rmse: 0.991865\n",
      "[1038]\tvalid_0's rmse: 0.991837\n",
      "[1039]\tvalid_0's rmse: 0.991828\n",
      "[1040]\tvalid_0's rmse: 0.991826\n",
      "[1041]\tvalid_0's rmse: 0.991805\n",
      "[1042]\tvalid_0's rmse: 0.991795\n",
      "[1043]\tvalid_0's rmse: 0.991771\n",
      "[1044]\tvalid_0's rmse: 0.991751\n",
      "[1045]\tvalid_0's rmse: 0.991712\n",
      "[1046]\tvalid_0's rmse: 0.991688\n",
      "[1047]\tvalid_0's rmse: 0.991644\n",
      "[1048]\tvalid_0's rmse: 0.991627\n",
      "[1049]\tvalid_0's rmse: 0.991613\n",
      "[1050]\tvalid_0's rmse: 0.99159\n",
      "[1051]\tvalid_0's rmse: 0.99158\n",
      "[1052]\tvalid_0's rmse: 0.991539\n",
      "[1053]\tvalid_0's rmse: 0.99153\n",
      "[1054]\tvalid_0's rmse: 0.991514\n",
      "[1055]\tvalid_0's rmse: 0.99149\n",
      "[1056]\tvalid_0's rmse: 0.991462\n",
      "[1057]\tvalid_0's rmse: 0.991433\n",
      "[1058]\tvalid_0's rmse: 0.991401\n",
      "[1059]\tvalid_0's rmse: 0.99139\n",
      "[1060]\tvalid_0's rmse: 0.991333\n",
      "[1061]\tvalid_0's rmse: 0.991315\n",
      "[1062]\tvalid_0's rmse: 0.991286\n",
      "[1063]\tvalid_0's rmse: 0.991264\n",
      "[1064]\tvalid_0's rmse: 0.991251\n",
      "[1065]\tvalid_0's rmse: 0.991231\n",
      "[1066]\tvalid_0's rmse: 0.991203\n",
      "[1067]\tvalid_0's rmse: 0.99116\n",
      "[1068]\tvalid_0's rmse: 0.991145\n",
      "[1069]\tvalid_0's rmse: 0.991116\n",
      "[1070]\tvalid_0's rmse: 0.991099\n",
      "[1071]\tvalid_0's rmse: 0.99107\n",
      "[1072]\tvalid_0's rmse: 0.991042\n",
      "[1073]\tvalid_0's rmse: 0.991015\n",
      "[1074]\tvalid_0's rmse: 0.991013\n",
      "[1075]\tvalid_0's rmse: 0.990983\n",
      "[1076]\tvalid_0's rmse: 0.990957\n",
      "[1077]\tvalid_0's rmse: 0.990926\n",
      "[1078]\tvalid_0's rmse: 0.990916\n",
      "[1079]\tvalid_0's rmse: 0.99089\n",
      "[1080]\tvalid_0's rmse: 0.99087\n",
      "[1081]\tvalid_0's rmse: 0.990874\n",
      "[1082]\tvalid_0's rmse: 0.990864\n",
      "[1083]\tvalid_0's rmse: 0.990854\n",
      "[1084]\tvalid_0's rmse: 0.99081\n"
     ]
    },
    {
     "name": "stdout",
     "output_type": "stream",
     "text": [
      "[1085]\tvalid_0's rmse: 0.990797\n",
      "[1086]\tvalid_0's rmse: 0.99076\n",
      "[1087]\tvalid_0's rmse: 0.990723\n",
      "[1088]\tvalid_0's rmse: 0.99069\n",
      "[1089]\tvalid_0's rmse: 0.990687\n",
      "[1090]\tvalid_0's rmse: 0.990676\n",
      "[1091]\tvalid_0's rmse: 0.99067\n",
      "[1092]\tvalid_0's rmse: 0.990659\n",
      "[1093]\tvalid_0's rmse: 0.990637\n",
      "[1094]\tvalid_0's rmse: 0.990627\n",
      "[1095]\tvalid_0's rmse: 0.990607\n",
      "[1096]\tvalid_0's rmse: 0.990592\n",
      "[1097]\tvalid_0's rmse: 0.990551\n",
      "[1098]\tvalid_0's rmse: 0.990538\n",
      "[1099]\tvalid_0's rmse: 0.990503\n",
      "[1100]\tvalid_0's rmse: 0.990489\n",
      "[1101]\tvalid_0's rmse: 0.990454\n",
      "[1102]\tvalid_0's rmse: 0.990438\n",
      "[1103]\tvalid_0's rmse: 0.990423\n",
      "[1104]\tvalid_0's rmse: 0.990412\n",
      "[1105]\tvalid_0's rmse: 0.990383\n",
      "[1106]\tvalid_0's rmse: 0.990347\n",
      "[1107]\tvalid_0's rmse: 0.990323\n",
      "[1108]\tvalid_0's rmse: 0.990306\n",
      "[1109]\tvalid_0's rmse: 0.990276\n",
      "[1110]\tvalid_0's rmse: 0.990247\n",
      "[1111]\tvalid_0's rmse: 0.990237\n",
      "[1112]\tvalid_0's rmse: 0.990216\n",
      "[1113]\tvalid_0's rmse: 0.990221\n",
      "[1114]\tvalid_0's rmse: 0.990201\n",
      "[1115]\tvalid_0's rmse: 0.990173\n",
      "[1116]\tvalid_0's rmse: 0.990161\n",
      "[1117]\tvalid_0's rmse: 0.990162\n",
      "[1118]\tvalid_0's rmse: 0.990164\n",
      "[1119]\tvalid_0's rmse: 0.990146\n",
      "[1120]\tvalid_0's rmse: 0.990118\n",
      "[1121]\tvalid_0's rmse: 0.990101\n",
      "[1122]\tvalid_0's rmse: 0.990107\n",
      "[1123]\tvalid_0's rmse: 0.990103\n",
      "[1124]\tvalid_0's rmse: 0.9901\n",
      "[1125]\tvalid_0's rmse: 0.990082\n",
      "[1126]\tvalid_0's rmse: 0.990061\n",
      "[1127]\tvalid_0's rmse: 0.990044\n",
      "[1128]\tvalid_0's rmse: 0.990026\n",
      "[1129]\tvalid_0's rmse: 0.989996\n",
      "[1130]\tvalid_0's rmse: 0.989978\n",
      "[1131]\tvalid_0's rmse: 0.989961\n",
      "[1132]\tvalid_0's rmse: 0.989941\n",
      "[1133]\tvalid_0's rmse: 0.989927\n",
      "[1134]\tvalid_0's rmse: 0.989917\n",
      "[1135]\tvalid_0's rmse: 0.989908\n",
      "[1136]\tvalid_0's rmse: 0.989883\n",
      "[1137]\tvalid_0's rmse: 0.989868\n",
      "[1138]\tvalid_0's rmse: 0.989859\n",
      "[1139]\tvalid_0's rmse: 0.989853\n",
      "[1140]\tvalid_0's rmse: 0.989841\n",
      "[1141]\tvalid_0's rmse: 0.989836\n",
      "[1142]\tvalid_0's rmse: 0.989845\n",
      "[1143]\tvalid_0's rmse: 0.989829\n",
      "[1144]\tvalid_0's rmse: 0.98981\n",
      "[1145]\tvalid_0's rmse: 0.989784\n",
      "[1146]\tvalid_0's rmse: 0.98978\n",
      "[1147]\tvalid_0's rmse: 0.989747\n",
      "[1148]\tvalid_0's rmse: 0.989737\n",
      "[1149]\tvalid_0's rmse: 0.989736\n",
      "[1150]\tvalid_0's rmse: 0.989726\n",
      "[1151]\tvalid_0's rmse: 0.989695\n",
      "[1152]\tvalid_0's rmse: 0.989683\n",
      "[1153]\tvalid_0's rmse: 0.989665\n",
      "[1154]\tvalid_0's rmse: 0.989649\n",
      "[1155]\tvalid_0's rmse: 0.989637\n",
      "[1156]\tvalid_0's rmse: 0.989611\n",
      "[1157]\tvalid_0's rmse: 0.989606\n",
      "[1158]\tvalid_0's rmse: 0.989584\n",
      "[1159]\tvalid_0's rmse: 0.989568\n",
      "[1160]\tvalid_0's rmse: 0.989558\n",
      "[1161]\tvalid_0's rmse: 0.98955\n",
      "[1162]\tvalid_0's rmse: 0.989542\n",
      "[1163]\tvalid_0's rmse: 0.989521\n",
      "[1164]\tvalid_0's rmse: 0.989514\n",
      "[1165]\tvalid_0's rmse: 0.989508\n",
      "[1166]\tvalid_0's rmse: 0.989506\n",
      "[1167]\tvalid_0's rmse: 0.989494\n",
      "[1168]\tvalid_0's rmse: 0.989468\n",
      "[1169]\tvalid_0's rmse: 0.989445\n",
      "[1170]\tvalid_0's rmse: 0.989428\n",
      "[1171]\tvalid_0's rmse: 0.989421\n",
      "[1172]\tvalid_0's rmse: 0.989407\n",
      "[1173]\tvalid_0's rmse: 0.989378\n",
      "[1174]\tvalid_0's rmse: 0.989354\n",
      "[1175]\tvalid_0's rmse: 0.989338\n",
      "[1176]\tvalid_0's rmse: 0.989327\n",
      "[1177]\tvalid_0's rmse: 0.989337\n",
      "[1178]\tvalid_0's rmse: 0.989314\n",
      "[1179]\tvalid_0's rmse: 0.989288\n",
      "[1180]\tvalid_0's rmse: 0.989275\n",
      "[1181]\tvalid_0's rmse: 0.989267\n",
      "[1182]\tvalid_0's rmse: 0.98927\n",
      "[1183]\tvalid_0's rmse: 0.98925\n",
      "[1184]\tvalid_0's rmse: 0.989226\n",
      "[1185]\tvalid_0's rmse: 0.989237\n",
      "[1186]\tvalid_0's rmse: 0.989237\n",
      "[1187]\tvalid_0's rmse: 0.989215\n",
      "[1188]\tvalid_0's rmse: 0.989211\n",
      "[1189]\tvalid_0's rmse: 0.989197\n",
      "[1190]\tvalid_0's rmse: 0.989177\n",
      "[1191]\tvalid_0's rmse: 0.989161\n",
      "[1192]\tvalid_0's rmse: 0.989138\n",
      "[1193]\tvalid_0's rmse: 0.989121\n",
      "[1194]\tvalid_0's rmse: 0.98911\n",
      "[1195]\tvalid_0's rmse: 0.989098\n",
      "[1196]\tvalid_0's rmse: 0.989082\n",
      "[1197]\tvalid_0's rmse: 0.989071\n",
      "[1198]\tvalid_0's rmse: 0.989052\n",
      "[1199]\tvalid_0's rmse: 0.989038\n",
      "[1200]\tvalid_0's rmse: 0.989024\n",
      "[1201]\tvalid_0's rmse: 0.98902\n",
      "[1202]\tvalid_0's rmse: 0.989014\n",
      "[1203]\tvalid_0's rmse: 0.989017\n",
      "[1204]\tvalid_0's rmse: 0.989014\n",
      "[1205]\tvalid_0's rmse: 0.989001\n",
      "[1206]\tvalid_0's rmse: 0.988989\n",
      "[1207]\tvalid_0's rmse: 0.988977\n",
      "[1208]\tvalid_0's rmse: 0.988961\n",
      "[1209]\tvalid_0's rmse: 0.988961\n",
      "[1210]\tvalid_0's rmse: 0.988942\n",
      "[1211]\tvalid_0's rmse: 0.988921\n",
      "[1212]\tvalid_0's rmse: 0.988915\n",
      "[1213]\tvalid_0's rmse: 0.98891\n",
      "[1214]\tvalid_0's rmse: 0.988905\n",
      "[1215]\tvalid_0's rmse: 0.988875\n",
      "[1216]\tvalid_0's rmse: 0.988836\n",
      "[1217]\tvalid_0's rmse: 0.988822\n",
      "[1218]\tvalid_0's rmse: 0.988801\n",
      "[1219]\tvalid_0's rmse: 0.988773\n",
      "[1220]\tvalid_0's rmse: 0.988761\n",
      "[1221]\tvalid_0's rmse: 0.988737\n",
      "[1222]\tvalid_0's rmse: 0.988717\n",
      "[1223]\tvalid_0's rmse: 0.988701\n",
      "[1224]\tvalid_0's rmse: 0.988697\n",
      "[1225]\tvalid_0's rmse: 0.988698\n",
      "[1226]\tvalid_0's rmse: 0.988674\n",
      "[1227]\tvalid_0's rmse: 0.988673\n",
      "[1228]\tvalid_0's rmse: 0.988645\n",
      "[1229]\tvalid_0's rmse: 0.988647\n",
      "[1230]\tvalid_0's rmse: 0.988621\n",
      "[1231]\tvalid_0's rmse: 0.988617\n",
      "[1232]\tvalid_0's rmse: 0.988612\n",
      "[1233]\tvalid_0's rmse: 0.988613\n",
      "[1234]\tvalid_0's rmse: 0.988578\n",
      "[1235]\tvalid_0's rmse: 0.988566\n",
      "[1236]\tvalid_0's rmse: 0.988557\n",
      "[1237]\tvalid_0's rmse: 0.988533\n",
      "[1238]\tvalid_0's rmse: 0.988527\n",
      "[1239]\tvalid_0's rmse: 0.988517\n",
      "[1240]\tvalid_0's rmse: 0.988512\n",
      "[1241]\tvalid_0's rmse: 0.988501\n",
      "[1242]\tvalid_0's rmse: 0.988485\n",
      "[1243]\tvalid_0's rmse: 0.988456\n",
      "[1244]\tvalid_0's rmse: 0.98844\n",
      "[1245]\tvalid_0's rmse: 0.988435\n",
      "[1246]\tvalid_0's rmse: 0.988416\n",
      "[1247]\tvalid_0's rmse: 0.988401\n",
      "[1248]\tvalid_0's rmse: 0.988378\n",
      "[1249]\tvalid_0's rmse: 0.988365\n",
      "[1250]\tvalid_0's rmse: 0.988348\n",
      "[1251]\tvalid_0's rmse: 0.988332\n",
      "[1252]\tvalid_0's rmse: 0.98831\n",
      "[1253]\tvalid_0's rmse: 0.988272\n",
      "[1254]\tvalid_0's rmse: 0.988231\n",
      "[1255]\tvalid_0's rmse: 0.988224\n",
      "[1256]\tvalid_0's rmse: 0.988204\n",
      "[1257]\tvalid_0's rmse: 0.988188\n",
      "[1258]\tvalid_0's rmse: 0.988172\n",
      "[1259]\tvalid_0's rmse: 0.98817\n",
      "[1260]\tvalid_0's rmse: 0.98816\n",
      "[1261]\tvalid_0's rmse: 0.988131\n",
      "[1262]\tvalid_0's rmse: 0.988119\n",
      "[1263]\tvalid_0's rmse: 0.988097\n",
      "[1264]\tvalid_0's rmse: 0.988096\n",
      "[1265]\tvalid_0's rmse: 0.988062\n",
      "[1266]\tvalid_0's rmse: 0.988068\n",
      "[1267]\tvalid_0's rmse: 0.988036\n",
      "[1268]\tvalid_0's rmse: 0.988026\n",
      "[1269]\tvalid_0's rmse: 0.988007\n",
      "[1270]\tvalid_0's rmse: 0.987983\n",
      "[1271]\tvalid_0's rmse: 0.98795\n",
      "[1272]\tvalid_0's rmse: 0.987941\n",
      "[1273]\tvalid_0's rmse: 0.987938\n",
      "[1274]\tvalid_0's rmse: 0.987937\n",
      "[1275]\tvalid_0's rmse: 0.987922\n",
      "[1276]\tvalid_0's rmse: 0.987911\n",
      "[1277]\tvalid_0's rmse: 0.987911\n",
      "[1278]\tvalid_0's rmse: 0.987895\n",
      "[1279]\tvalid_0's rmse: 0.987874\n",
      "[1280]\tvalid_0's rmse: 0.987865\n",
      "[1281]\tvalid_0's rmse: 0.987848\n",
      "[1282]\tvalid_0's rmse: 0.987841\n",
      "[1283]\tvalid_0's rmse: 0.987838\n",
      "[1284]\tvalid_0's rmse: 0.9878\n",
      "[1285]\tvalid_0's rmse: 0.987791\n",
      "[1286]\tvalid_0's rmse: 0.987767\n",
      "[1287]\tvalid_0's rmse: 0.987759\n",
      "[1288]\tvalid_0's rmse: 0.987749\n",
      "[1289]\tvalid_0's rmse: 0.987735\n",
      "[1290]\tvalid_0's rmse: 0.987728\n",
      "[1291]\tvalid_0's rmse: 0.987701\n",
      "[1292]\tvalid_0's rmse: 0.987688\n",
      "[1293]\tvalid_0's rmse: 0.987669\n",
      "[1294]\tvalid_0's rmse: 0.987641\n",
      "[1295]\tvalid_0's rmse: 0.987636\n",
      "[1296]\tvalid_0's rmse: 0.987621\n",
      "[1297]\tvalid_0's rmse: 0.987615\n",
      "[1298]\tvalid_0's rmse: 0.987618\n",
      "[1299]\tvalid_0's rmse: 0.987606\n",
      "[1300]\tvalid_0's rmse: 0.987598\n",
      "[1301]\tvalid_0's rmse: 0.987586\n",
      "[1302]\tvalid_0's rmse: 0.987569\n",
      "[1303]\tvalid_0's rmse: 0.987558\n",
      "[1304]\tvalid_0's rmse: 0.987548\n",
      "[1305]\tvalid_0's rmse: 0.987531\n",
      "[1306]\tvalid_0's rmse: 0.987526\n",
      "[1307]\tvalid_0's rmse: 0.987531\n",
      "[1308]\tvalid_0's rmse: 0.987537\n",
      "[1309]\tvalid_0's rmse: 0.987523\n",
      "[1310]\tvalid_0's rmse: 0.987505\n",
      "[1311]\tvalid_0's rmse: 0.98751\n",
      "[1312]\tvalid_0's rmse: 0.987489\n",
      "[1313]\tvalid_0's rmse: 0.987469\n",
      "[1314]\tvalid_0's rmse: 0.987465\n",
      "[1315]\tvalid_0's rmse: 0.987447\n",
      "[1316]\tvalid_0's rmse: 0.987445\n",
      "[1317]\tvalid_0's rmse: 0.98745\n",
      "[1318]\tvalid_0's rmse: 0.987424\n",
      "[1319]\tvalid_0's rmse: 0.987411\n",
      "[1320]\tvalid_0's rmse: 0.987391\n",
      "[1321]\tvalid_0's rmse: 0.987356\n",
      "[1322]\tvalid_0's rmse: 0.987319\n",
      "[1323]\tvalid_0's rmse: 0.987295\n",
      "[1324]\tvalid_0's rmse: 0.987294\n",
      "[1325]\tvalid_0's rmse: 0.987266\n",
      "[1326]\tvalid_0's rmse: 0.987245\n",
      "[1327]\tvalid_0's rmse: 0.987237\n",
      "[1328]\tvalid_0's rmse: 0.98722\n",
      "[1329]\tvalid_0's rmse: 0.987189\n",
      "[1330]\tvalid_0's rmse: 0.98715\n",
      "[1331]\tvalid_0's rmse: 0.987126\n",
      "[1332]\tvalid_0's rmse: 0.987119\n",
      "[1333]\tvalid_0's rmse: 0.987118\n",
      "[1334]\tvalid_0's rmse: 0.987107\n",
      "[1335]\tvalid_0's rmse: 0.987084\n",
      "[1336]\tvalid_0's rmse: 0.987083\n",
      "[1337]\tvalid_0's rmse: 0.987073\n",
      "[1338]\tvalid_0's rmse: 0.987053\n",
      "[1339]\tvalid_0's rmse: 0.987037\n",
      "[1340]\tvalid_0's rmse: 0.987012\n"
     ]
    },
    {
     "name": "stdout",
     "output_type": "stream",
     "text": [
      "[1341]\tvalid_0's rmse: 0.986999\n",
      "[1342]\tvalid_0's rmse: 0.986973\n",
      "[1343]\tvalid_0's rmse: 0.986962\n",
      "[1344]\tvalid_0's rmse: 0.986947\n",
      "[1345]\tvalid_0's rmse: 0.98694\n",
      "[1346]\tvalid_0's rmse: 0.986932\n",
      "[1347]\tvalid_0's rmse: 0.986908\n",
      "[1348]\tvalid_0's rmse: 0.986905\n",
      "[1349]\tvalid_0's rmse: 0.986883\n",
      "[1350]\tvalid_0's rmse: 0.986876\n",
      "[1351]\tvalid_0's rmse: 0.986868\n",
      "[1352]\tvalid_0's rmse: 0.986869\n",
      "[1353]\tvalid_0's rmse: 0.986879\n",
      "[1354]\tvalid_0's rmse: 0.986859\n",
      "[1355]\tvalid_0's rmse: 0.986851\n",
      "[1356]\tvalid_0's rmse: 0.986845\n",
      "[1357]\tvalid_0's rmse: 0.986835\n",
      "[1358]\tvalid_0's rmse: 0.986836\n",
      "[1359]\tvalid_0's rmse: 0.986812\n",
      "[1360]\tvalid_0's rmse: 0.986801\n",
      "[1361]\tvalid_0's rmse: 0.986772\n",
      "[1362]\tvalid_0's rmse: 0.98675\n",
      "[1363]\tvalid_0's rmse: 0.986747\n",
      "[1364]\tvalid_0's rmse: 0.98673\n",
      "[1365]\tvalid_0's rmse: 0.986712\n",
      "[1366]\tvalid_0's rmse: 0.986711\n",
      "[1367]\tvalid_0's rmse: 0.986689\n",
      "[1368]\tvalid_0's rmse: 0.986683\n",
      "[1369]\tvalid_0's rmse: 0.986673\n",
      "[1370]\tvalid_0's rmse: 0.986673\n",
      "[1371]\tvalid_0's rmse: 0.986665\n",
      "[1372]\tvalid_0's rmse: 0.986649\n",
      "[1373]\tvalid_0's rmse: 0.986613\n",
      "[1374]\tvalid_0's rmse: 0.986589\n",
      "[1375]\tvalid_0's rmse: 0.986577\n",
      "[1376]\tvalid_0's rmse: 0.986566\n",
      "[1377]\tvalid_0's rmse: 0.986531\n",
      "[1378]\tvalid_0's rmse: 0.986525\n",
      "[1379]\tvalid_0's rmse: 0.986527\n",
      "[1380]\tvalid_0's rmse: 0.986534\n",
      "[1381]\tvalid_0's rmse: 0.98653\n",
      "[1382]\tvalid_0's rmse: 0.986507\n",
      "[1383]\tvalid_0's rmse: 0.986497\n",
      "[1384]\tvalid_0's rmse: 0.986469\n",
      "[1385]\tvalid_0's rmse: 0.986458\n",
      "[1386]\tvalid_0's rmse: 0.986427\n",
      "[1387]\tvalid_0's rmse: 0.986423\n",
      "[1388]\tvalid_0's rmse: 0.986397\n",
      "[1389]\tvalid_0's rmse: 0.986383\n",
      "[1390]\tvalid_0's rmse: 0.98636\n",
      "[1391]\tvalid_0's rmse: 0.986339\n",
      "[1392]\tvalid_0's rmse: 0.986324\n",
      "[1393]\tvalid_0's rmse: 0.986298\n",
      "[1394]\tvalid_0's rmse: 0.986275\n",
      "[1395]\tvalid_0's rmse: 0.986261\n",
      "[1396]\tvalid_0's rmse: 0.986241\n",
      "[1397]\tvalid_0's rmse: 0.986252\n",
      "[1398]\tvalid_0's rmse: 0.986253\n",
      "[1399]\tvalid_0's rmse: 0.986251\n",
      "[1400]\tvalid_0's rmse: 0.986238\n",
      "[1401]\tvalid_0's rmse: 0.986235\n",
      "[1402]\tvalid_0's rmse: 0.986212\n",
      "[1403]\tvalid_0's rmse: 0.986206\n",
      "[1404]\tvalid_0's rmse: 0.986191\n",
      "[1405]\tvalid_0's rmse: 0.986187\n",
      "[1406]\tvalid_0's rmse: 0.986184\n",
      "[1407]\tvalid_0's rmse: 0.986154\n",
      "[1408]\tvalid_0's rmse: 0.986152\n",
      "[1409]\tvalid_0's rmse: 0.986142\n",
      "[1410]\tvalid_0's rmse: 0.986133\n",
      "[1411]\tvalid_0's rmse: 0.986126\n",
      "[1412]\tvalid_0's rmse: 0.9861\n",
      "[1413]\tvalid_0's rmse: 0.98609\n",
      "[1414]\tvalid_0's rmse: 0.986105\n",
      "[1415]\tvalid_0's rmse: 0.986083\n",
      "[1416]\tvalid_0's rmse: 0.986068\n",
      "[1417]\tvalid_0's rmse: 0.986065\n",
      "[1418]\tvalid_0's rmse: 0.986049\n",
      "[1419]\tvalid_0's rmse: 0.98603\n",
      "[1420]\tvalid_0's rmse: 0.986015\n",
      "[1421]\tvalid_0's rmse: 0.986013\n",
      "[1422]\tvalid_0's rmse: 0.985994\n",
      "[1423]\tvalid_0's rmse: 0.985973\n",
      "[1424]\tvalid_0's rmse: 0.985968\n",
      "[1425]\tvalid_0's rmse: 0.985951\n",
      "[1426]\tvalid_0's rmse: 0.985939\n",
      "[1427]\tvalid_0's rmse: 0.985935\n",
      "[1428]\tvalid_0's rmse: 0.985924\n",
      "[1429]\tvalid_0's rmse: 0.985915\n",
      "[1430]\tvalid_0's rmse: 0.9859\n",
      "[1431]\tvalid_0's rmse: 0.985904\n",
      "[1432]\tvalid_0's rmse: 0.985885\n",
      "[1433]\tvalid_0's rmse: 0.985871\n",
      "[1434]\tvalid_0's rmse: 0.985847\n",
      "[1435]\tvalid_0's rmse: 0.985847\n",
      "[1436]\tvalid_0's rmse: 0.985845\n",
      "[1437]\tvalid_0's rmse: 0.985835\n",
      "[1438]\tvalid_0's rmse: 0.985804\n",
      "[1439]\tvalid_0's rmse: 0.985777\n",
      "[1440]\tvalid_0's rmse: 0.985786\n",
      "[1441]\tvalid_0's rmse: 0.985763\n",
      "[1442]\tvalid_0's rmse: 0.985766\n",
      "[1443]\tvalid_0's rmse: 0.985735\n",
      "[1444]\tvalid_0's rmse: 0.985728\n",
      "[1445]\tvalid_0's rmse: 0.985731\n",
      "[1446]\tvalid_0's rmse: 0.985719\n",
      "[1447]\tvalid_0's rmse: 0.985709\n",
      "[1448]\tvalid_0's rmse: 0.985703\n",
      "[1449]\tvalid_0's rmse: 0.985686\n",
      "[1450]\tvalid_0's rmse: 0.985663\n",
      "[1451]\tvalid_0's rmse: 0.985657\n",
      "[1452]\tvalid_0's rmse: 0.985649\n",
      "[1453]\tvalid_0's rmse: 0.985636\n",
      "[1454]\tvalid_0's rmse: 0.985606\n",
      "[1455]\tvalid_0's rmse: 0.98559\n",
      "[1456]\tvalid_0's rmse: 0.985585\n",
      "[1457]\tvalid_0's rmse: 0.98557\n",
      "[1458]\tvalid_0's rmse: 0.985565\n",
      "[1459]\tvalid_0's rmse: 0.98557\n",
      "[1460]\tvalid_0's rmse: 0.985528\n",
      "[1461]\tvalid_0's rmse: 0.985522\n",
      "[1462]\tvalid_0's rmse: 0.985517\n",
      "[1463]\tvalid_0's rmse: 0.985497\n",
      "[1464]\tvalid_0's rmse: 0.985482\n",
      "[1465]\tvalid_0's rmse: 0.985473\n",
      "[1466]\tvalid_0's rmse: 0.98545\n",
      "[1467]\tvalid_0's rmse: 0.985434\n",
      "[1468]\tvalid_0's rmse: 0.985427\n",
      "[1469]\tvalid_0's rmse: 0.985424\n",
      "[1470]\tvalid_0's rmse: 0.985423\n",
      "[1471]\tvalid_0's rmse: 0.985422\n",
      "[1472]\tvalid_0's rmse: 0.985412\n",
      "[1473]\tvalid_0's rmse: 0.985379\n",
      "[1474]\tvalid_0's rmse: 0.985351\n",
      "[1475]\tvalid_0's rmse: 0.985328\n",
      "[1476]\tvalid_0's rmse: 0.985326\n",
      "[1477]\tvalid_0's rmse: 0.985297\n",
      "[1478]\tvalid_0's rmse: 0.985288\n",
      "[1479]\tvalid_0's rmse: 0.985285\n",
      "[1480]\tvalid_0's rmse: 0.985272\n",
      "[1481]\tvalid_0's rmse: 0.985249\n",
      "[1482]\tvalid_0's rmse: 0.985244\n",
      "[1483]\tvalid_0's rmse: 0.985246\n",
      "[1484]\tvalid_0's rmse: 0.985245\n",
      "[1485]\tvalid_0's rmse: 0.985228\n",
      "[1486]\tvalid_0's rmse: 0.985226\n",
      "[1487]\tvalid_0's rmse: 0.985224\n",
      "[1488]\tvalid_0's rmse: 0.985218\n",
      "[1489]\tvalid_0's rmse: 0.985216\n",
      "[1490]\tvalid_0's rmse: 0.985212\n",
      "[1491]\tvalid_0's rmse: 0.985191\n",
      "[1492]\tvalid_0's rmse: 0.985186\n",
      "[1493]\tvalid_0's rmse: 0.985198\n",
      "[1494]\tvalid_0's rmse: 0.985183\n",
      "[1495]\tvalid_0's rmse: 0.985178\n",
      "[1496]\tvalid_0's rmse: 0.985163\n",
      "[1497]\tvalid_0's rmse: 0.985158\n",
      "[1498]\tvalid_0's rmse: 0.985149\n",
      "[1499]\tvalid_0's rmse: 0.985155\n",
      "[1500]\tvalid_0's rmse: 0.985147\n",
      "[1501]\tvalid_0's rmse: 0.985127\n",
      "[1502]\tvalid_0's rmse: 0.985119\n",
      "[1503]\tvalid_0's rmse: 0.985101\n",
      "[1504]\tvalid_0's rmse: 0.985099\n",
      "[1505]\tvalid_0's rmse: 0.98511\n",
      "[1506]\tvalid_0's rmse: 0.985106\n",
      "[1507]\tvalid_0's rmse: 0.985092\n",
      "[1508]\tvalid_0's rmse: 0.985082\n",
      "[1509]\tvalid_0's rmse: 0.985069\n",
      "[1510]\tvalid_0's rmse: 0.985056\n",
      "[1511]\tvalid_0's rmse: 0.985056\n",
      "[1512]\tvalid_0's rmse: 0.985032\n",
      "[1513]\tvalid_0's rmse: 0.985022\n",
      "[1514]\tvalid_0's rmse: 0.985043\n",
      "[1515]\tvalid_0's rmse: 0.985036\n",
      "[1516]\tvalid_0's rmse: 0.985025\n",
      "[1517]\tvalid_0's rmse: 0.985009\n",
      "[1518]\tvalid_0's rmse: 0.984996\n",
      "[1519]\tvalid_0's rmse: 0.984989\n",
      "[1520]\tvalid_0's rmse: 0.984984\n",
      "[1521]\tvalid_0's rmse: 0.984973\n",
      "[1522]\tvalid_0's rmse: 0.984977\n",
      "[1523]\tvalid_0's rmse: 0.984971\n",
      "[1524]\tvalid_0's rmse: 0.984967\n",
      "[1525]\tvalid_0's rmse: 0.984957\n",
      "[1526]\tvalid_0's rmse: 0.984948\n",
      "[1527]\tvalid_0's rmse: 0.984943\n",
      "[1528]\tvalid_0's rmse: 0.984927\n",
      "[1529]\tvalid_0's rmse: 0.984913\n",
      "[1530]\tvalid_0's rmse: 0.984907\n",
      "[1531]\tvalid_0's rmse: 0.984892\n",
      "[1532]\tvalid_0's rmse: 0.984872\n",
      "[1533]\tvalid_0's rmse: 0.984861\n",
      "[1534]\tvalid_0's rmse: 0.984834\n",
      "[1535]\tvalid_0's rmse: 0.984826\n",
      "[1536]\tvalid_0's rmse: 0.984824\n",
      "[1537]\tvalid_0's rmse: 0.984817\n",
      "[1538]\tvalid_0's rmse: 0.984802\n",
      "[1539]\tvalid_0's rmse: 0.984778\n",
      "[1540]\tvalid_0's rmse: 0.984765\n",
      "[1541]\tvalid_0's rmse: 0.984748\n",
      "[1542]\tvalid_0's rmse: 0.984735\n",
      "[1543]\tvalid_0's rmse: 0.984722\n",
      "[1544]\tvalid_0's rmse: 0.984716\n",
      "[1545]\tvalid_0's rmse: 0.984723\n",
      "[1546]\tvalid_0's rmse: 0.984728\n",
      "[1547]\tvalid_0's rmse: 0.984694\n",
      "[1548]\tvalid_0's rmse: 0.984684\n",
      "[1549]\tvalid_0's rmse: 0.984667\n",
      "[1550]\tvalid_0's rmse: 0.984671\n",
      "[1551]\tvalid_0's rmse: 0.98466\n",
      "[1552]\tvalid_0's rmse: 0.984645\n",
      "[1553]\tvalid_0's rmse: 0.98461\n",
      "[1554]\tvalid_0's rmse: 0.984602\n",
      "[1555]\tvalid_0's rmse: 0.984573\n",
      "[1556]\tvalid_0's rmse: 0.984555\n",
      "[1557]\tvalid_0's rmse: 0.984542\n",
      "[1558]\tvalid_0's rmse: 0.984543\n",
      "[1559]\tvalid_0's rmse: 0.98453\n",
      "[1560]\tvalid_0's rmse: 0.984524\n",
      "[1561]\tvalid_0's rmse: 0.984504\n",
      "[1562]\tvalid_0's rmse: 0.984469\n",
      "[1563]\tvalid_0's rmse: 0.984473\n",
      "[1564]\tvalid_0's rmse: 0.984467\n",
      "[1565]\tvalid_0's rmse: 0.984466\n",
      "[1566]\tvalid_0's rmse: 0.984465\n",
      "[1567]\tvalid_0's rmse: 0.984449\n",
      "[1568]\tvalid_0's rmse: 0.984428\n",
      "[1569]\tvalid_0's rmse: 0.984432\n",
      "[1570]\tvalid_0's rmse: 0.984424\n",
      "[1571]\tvalid_0's rmse: 0.984384\n",
      "[1572]\tvalid_0's rmse: 0.984375\n",
      "[1573]\tvalid_0's rmse: 0.98436\n",
      "[1574]\tvalid_0's rmse: 0.984347\n",
      "[1575]\tvalid_0's rmse: 0.984337\n",
      "[1576]\tvalid_0's rmse: 0.984332\n",
      "[1577]\tvalid_0's rmse: 0.984323\n",
      "[1578]\tvalid_0's rmse: 0.984292\n",
      "[1579]\tvalid_0's rmse: 0.984276\n",
      "[1580]\tvalid_0's rmse: 0.984283\n",
      "[1581]\tvalid_0's rmse: 0.984285\n",
      "[1582]\tvalid_0's rmse: 0.984278\n",
      "[1583]\tvalid_0's rmse: 0.984288\n",
      "[1584]\tvalid_0's rmse: 0.984275\n",
      "[1585]\tvalid_0's rmse: 0.984266\n",
      "[1586]\tvalid_0's rmse: 0.984247\n",
      "[1587]\tvalid_0's rmse: 0.98425\n",
      "[1588]\tvalid_0's rmse: 0.984257\n",
      "[1589]\tvalid_0's rmse: 0.984239\n",
      "[1590]\tvalid_0's rmse: 0.98423\n",
      "[1591]\tvalid_0's rmse: 0.984214\n",
      "[1592]\tvalid_0's rmse: 0.984208\n",
      "[1593]\tvalid_0's rmse: 0.984193\n",
      "[1594]\tvalid_0's rmse: 0.984188\n",
      "[1595]\tvalid_0's rmse: 0.984195\n",
      "[1596]\tvalid_0's rmse: 0.984195\n"
     ]
    },
    {
     "name": "stdout",
     "output_type": "stream",
     "text": [
      "[1597]\tvalid_0's rmse: 0.984169\n",
      "[1598]\tvalid_0's rmse: 0.984148\n",
      "[1599]\tvalid_0's rmse: 0.984149\n",
      "[1600]\tvalid_0's rmse: 0.984154\n",
      "[1601]\tvalid_0's rmse: 0.984158\n",
      "[1602]\tvalid_0's rmse: 0.984138\n",
      "[1603]\tvalid_0's rmse: 0.984108\n",
      "[1604]\tvalid_0's rmse: 0.984106\n",
      "[1605]\tvalid_0's rmse: 0.984092\n",
      "[1606]\tvalid_0's rmse: 0.984097\n",
      "[1607]\tvalid_0's rmse: 0.984088\n",
      "[1608]\tvalid_0's rmse: 0.984085\n",
      "[1609]\tvalid_0's rmse: 0.984092\n",
      "[1610]\tvalid_0's rmse: 0.984073\n",
      "[1611]\tvalid_0's rmse: 0.984065\n",
      "[1612]\tvalid_0's rmse: 0.984047\n",
      "[1613]\tvalid_0's rmse: 0.984025\n",
      "[1614]\tvalid_0's rmse: 0.984026\n",
      "[1615]\tvalid_0's rmse: 0.984024\n",
      "[1616]\tvalid_0's rmse: 0.984023\n",
      "[1617]\tvalid_0's rmse: 0.983999\n",
      "[1618]\tvalid_0's rmse: 0.984012\n",
      "[1619]\tvalid_0's rmse: 0.984007\n",
      "[1620]\tvalid_0's rmse: 0.983999\n",
      "[1621]\tvalid_0's rmse: 0.983983\n",
      "[1622]\tvalid_0's rmse: 0.983977\n",
      "[1623]\tvalid_0's rmse: 0.983955\n",
      "[1624]\tvalid_0's rmse: 0.983937\n",
      "[1625]\tvalid_0's rmse: 0.983918\n",
      "[1626]\tvalid_0's rmse: 0.983896\n",
      "[1627]\tvalid_0's rmse: 0.983872\n",
      "[1628]\tvalid_0's rmse: 0.983848\n",
      "[1629]\tvalid_0's rmse: 0.98384\n",
      "[1630]\tvalid_0's rmse: 0.983837\n",
      "[1631]\tvalid_0's rmse: 0.983843\n",
      "[1632]\tvalid_0's rmse: 0.983838\n",
      "[1633]\tvalid_0's rmse: 0.983835\n",
      "[1634]\tvalid_0's rmse: 0.983824\n",
      "[1635]\tvalid_0's rmse: 0.983819\n",
      "[1636]\tvalid_0's rmse: 0.983831\n",
      "[1637]\tvalid_0's rmse: 0.983818\n",
      "[1638]\tvalid_0's rmse: 0.983816\n",
      "[1639]\tvalid_0's rmse: 0.983799\n",
      "[1640]\tvalid_0's rmse: 0.983801\n",
      "[1641]\tvalid_0's rmse: 0.983788\n",
      "[1642]\tvalid_0's rmse: 0.983773\n",
      "[1643]\tvalid_0's rmse: 0.983763\n",
      "[1644]\tvalid_0's rmse: 0.983746\n",
      "[1645]\tvalid_0's rmse: 0.983756\n",
      "[1646]\tvalid_0's rmse: 0.983749\n",
      "[1647]\tvalid_0's rmse: 0.983745\n",
      "[1648]\tvalid_0's rmse: 0.983735\n",
      "[1649]\tvalid_0's rmse: 0.983718\n",
      "[1650]\tvalid_0's rmse: 0.983712\n",
      "[1651]\tvalid_0's rmse: 0.983733\n",
      "[1652]\tvalid_0's rmse: 0.983715\n",
      "[1653]\tvalid_0's rmse: 0.983711\n",
      "[1654]\tvalid_0's rmse: 0.983704\n",
      "[1655]\tvalid_0's rmse: 0.983707\n",
      "[1656]\tvalid_0's rmse: 0.983693\n",
      "[1657]\tvalid_0's rmse: 0.983689\n",
      "[1658]\tvalid_0's rmse: 0.983683\n",
      "[1659]\tvalid_0's rmse: 0.983671\n",
      "[1660]\tvalid_0's rmse: 0.983656\n",
      "[1661]\tvalid_0's rmse: 0.983648\n",
      "[1662]\tvalid_0's rmse: 0.983643\n",
      "[1663]\tvalid_0's rmse: 0.983645\n",
      "[1664]\tvalid_0's rmse: 0.983645\n",
      "[1665]\tvalid_0's rmse: 0.983645\n",
      "[1666]\tvalid_0's rmse: 0.983648\n",
      "[1667]\tvalid_0's rmse: 0.983628\n",
      "[1668]\tvalid_0's rmse: 0.983619\n",
      "[1669]\tvalid_0's rmse: 0.983606\n",
      "[1670]\tvalid_0's rmse: 0.983586\n",
      "[1671]\tvalid_0's rmse: 0.983571\n",
      "[1672]\tvalid_0's rmse: 0.983571\n",
      "[1673]\tvalid_0's rmse: 0.983567\n",
      "[1674]\tvalid_0's rmse: 0.983559\n",
      "[1675]\tvalid_0's rmse: 0.983551\n",
      "[1676]\tvalid_0's rmse: 0.983527\n",
      "[1677]\tvalid_0's rmse: 0.983522\n",
      "[1678]\tvalid_0's rmse: 0.98352\n",
      "[1679]\tvalid_0's rmse: 0.983514\n",
      "[1680]\tvalid_0's rmse: 0.983491\n",
      "[1681]\tvalid_0's rmse: 0.98349\n",
      "[1682]\tvalid_0's rmse: 0.983472\n",
      "[1683]\tvalid_0's rmse: 0.983464\n",
      "[1684]\tvalid_0's rmse: 0.98346\n",
      "[1685]\tvalid_0's rmse: 0.983474\n",
      "[1686]\tvalid_0's rmse: 0.983454\n",
      "[1687]\tvalid_0's rmse: 0.983461\n",
      "[1688]\tvalid_0's rmse: 0.983449\n",
      "[1689]\tvalid_0's rmse: 0.98345\n",
      "[1690]\tvalid_0's rmse: 0.983442\n",
      "[1691]\tvalid_0's rmse: 0.983443\n",
      "[1692]\tvalid_0's rmse: 0.983439\n",
      "[1693]\tvalid_0's rmse: 0.983435\n",
      "[1694]\tvalid_0's rmse: 0.983424\n",
      "[1695]\tvalid_0's rmse: 0.983407\n",
      "[1696]\tvalid_0's rmse: 0.983387\n",
      "[1697]\tvalid_0's rmse: 0.983391\n",
      "[1698]\tvalid_0's rmse: 0.983377\n",
      "[1699]\tvalid_0's rmse: 0.983362\n",
      "[1700]\tvalid_0's rmse: 0.983363\n",
      "[1701]\tvalid_0's rmse: 0.983338\n",
      "[1702]\tvalid_0's rmse: 0.983335\n",
      "[1703]\tvalid_0's rmse: 0.983315\n",
      "[1704]\tvalid_0's rmse: 0.983304\n",
      "[1705]\tvalid_0's rmse: 0.983286\n",
      "[1706]\tvalid_0's rmse: 0.983274\n",
      "[1707]\tvalid_0's rmse: 0.983278\n",
      "[1708]\tvalid_0's rmse: 0.983256\n",
      "[1709]\tvalid_0's rmse: 0.983244\n",
      "[1710]\tvalid_0's rmse: 0.983224\n",
      "[1711]\tvalid_0's rmse: 0.983216\n",
      "[1712]\tvalid_0's rmse: 0.983216\n",
      "[1713]\tvalid_0's rmse: 0.983214\n",
      "[1714]\tvalid_0's rmse: 0.983225\n",
      "[1715]\tvalid_0's rmse: 0.983215\n",
      "[1716]\tvalid_0's rmse: 0.983209\n",
      "[1717]\tvalid_0's rmse: 0.983213\n",
      "[1718]\tvalid_0's rmse: 0.983193\n",
      "[1719]\tvalid_0's rmse: 0.9832\n",
      "[1720]\tvalid_0's rmse: 0.983212\n",
      "[1721]\tvalid_0's rmse: 0.983203\n",
      "[1722]\tvalid_0's rmse: 0.983193\n",
      "[1723]\tvalid_0's rmse: 0.983176\n",
      "[1724]\tvalid_0's rmse: 0.983174\n",
      "[1725]\tvalid_0's rmse: 0.983166\n",
      "[1726]\tvalid_0's rmse: 0.983164\n",
      "[1727]\tvalid_0's rmse: 0.983162\n",
      "[1728]\tvalid_0's rmse: 0.983164\n",
      "[1729]\tvalid_0's rmse: 0.983142\n",
      "[1730]\tvalid_0's rmse: 0.983128\n",
      "[1731]\tvalid_0's rmse: 0.983116\n",
      "[1732]\tvalid_0's rmse: 0.983113\n",
      "[1733]\tvalid_0's rmse: 0.983083\n",
      "[1734]\tvalid_0's rmse: 0.983087\n",
      "[1735]\tvalid_0's rmse: 0.983069\n",
      "[1736]\tvalid_0's rmse: 0.983046\n",
      "[1737]\tvalid_0's rmse: 0.983036\n",
      "[1738]\tvalid_0's rmse: 0.983039\n",
      "[1739]\tvalid_0's rmse: 0.983038\n",
      "[1740]\tvalid_0's rmse: 0.983027\n",
      "[1741]\tvalid_0's rmse: 0.983025\n",
      "[1742]\tvalid_0's rmse: 0.983022\n",
      "[1743]\tvalid_0's rmse: 0.983023\n",
      "[1744]\tvalid_0's rmse: 0.983013\n",
      "[1745]\tvalid_0's rmse: 0.983003\n",
      "[1746]\tvalid_0's rmse: 0.983001\n",
      "[1747]\tvalid_0's rmse: 0.98299\n",
      "[1748]\tvalid_0's rmse: 0.982982\n",
      "[1749]\tvalid_0's rmse: 0.982967\n",
      "[1750]\tvalid_0's rmse: 0.982947\n",
      "[1751]\tvalid_0's rmse: 0.982942\n",
      "[1752]\tvalid_0's rmse: 0.982949\n",
      "[1753]\tvalid_0's rmse: 0.982947\n",
      "[1754]\tvalid_0's rmse: 0.982938\n",
      "[1755]\tvalid_0's rmse: 0.982933\n",
      "[1756]\tvalid_0's rmse: 0.98294\n",
      "[1757]\tvalid_0's rmse: 0.982936\n",
      "[1758]\tvalid_0's rmse: 0.982945\n",
      "[1759]\tvalid_0's rmse: 0.982932\n",
      "[1760]\tvalid_0's rmse: 0.982916\n",
      "[1761]\tvalid_0's rmse: 0.982921\n",
      "[1762]\tvalid_0's rmse: 0.982915\n",
      "[1763]\tvalid_0's rmse: 0.982902\n",
      "[1764]\tvalid_0's rmse: 0.982918\n",
      "[1765]\tvalid_0's rmse: 0.982914\n",
      "[1766]\tvalid_0's rmse: 0.982901\n",
      "[1767]\tvalid_0's rmse: 0.982897\n",
      "[1768]\tvalid_0's rmse: 0.982899\n",
      "[1769]\tvalid_0's rmse: 0.982908\n",
      "[1770]\tvalid_0's rmse: 0.982908\n",
      "[1771]\tvalid_0's rmse: 0.982896\n",
      "[1772]\tvalid_0's rmse: 0.982893\n",
      "[1773]\tvalid_0's rmse: 0.982873\n",
      "[1774]\tvalid_0's rmse: 0.98287\n",
      "[1775]\tvalid_0's rmse: 0.982871\n",
      "[1776]\tvalid_0's rmse: 0.982875\n",
      "[1777]\tvalid_0's rmse: 0.982878\n",
      "[1778]\tvalid_0's rmse: 0.982868\n",
      "[1779]\tvalid_0's rmse: 0.982876\n",
      "[1780]\tvalid_0's rmse: 0.982858\n",
      "[1781]\tvalid_0's rmse: 0.982847\n",
      "[1782]\tvalid_0's rmse: 0.982849\n",
      "[1783]\tvalid_0's rmse: 0.982852\n",
      "[1784]\tvalid_0's rmse: 0.982846\n",
      "[1785]\tvalid_0's rmse: 0.982844\n",
      "[1786]\tvalid_0's rmse: 0.98284\n",
      "[1787]\tvalid_0's rmse: 0.982823\n",
      "[1788]\tvalid_0's rmse: 0.982832\n",
      "[1789]\tvalid_0's rmse: 0.982832\n",
      "[1790]\tvalid_0's rmse: 0.982829\n",
      "[1791]\tvalid_0's rmse: 0.982821\n",
      "[1792]\tvalid_0's rmse: 0.982825\n",
      "[1793]\tvalid_0's rmse: 0.982812\n",
      "[1794]\tvalid_0's rmse: 0.982821\n",
      "[1795]\tvalid_0's rmse: 0.982824\n",
      "[1796]\tvalid_0's rmse: 0.982831\n",
      "[1797]\tvalid_0's rmse: 0.982822\n",
      "[1798]\tvalid_0's rmse: 0.982825\n",
      "[1799]\tvalid_0's rmse: 0.982817\n",
      "[1800]\tvalid_0's rmse: 0.982825\n",
      "[1801]\tvalid_0's rmse: 0.982821\n",
      "[1802]\tvalid_0's rmse: 0.982816\n",
      "[1803]\tvalid_0's rmse: 0.982816\n",
      "[1804]\tvalid_0's rmse: 0.982796\n",
      "[1805]\tvalid_0's rmse: 0.982789\n",
      "[1806]\tvalid_0's rmse: 0.98277\n",
      "[1807]\tvalid_0's rmse: 0.982768\n",
      "[1808]\tvalid_0's rmse: 0.98275\n",
      "[1809]\tvalid_0's rmse: 0.982746\n",
      "[1810]\tvalid_0's rmse: 0.982731\n",
      "[1811]\tvalid_0's rmse: 0.982727\n",
      "[1812]\tvalid_0's rmse: 0.982736\n",
      "[1813]\tvalid_0's rmse: 0.982735\n",
      "[1814]\tvalid_0's rmse: 0.982732\n",
      "[1815]\tvalid_0's rmse: 0.982722\n",
      "[1816]\tvalid_0's rmse: 0.982712\n",
      "[1817]\tvalid_0's rmse: 0.982706\n",
      "[1818]\tvalid_0's rmse: 0.982704\n",
      "[1819]\tvalid_0's rmse: 0.982678\n",
      "[1820]\tvalid_0's rmse: 0.982689\n",
      "[1821]\tvalid_0's rmse: 0.982684\n",
      "[1822]\tvalid_0's rmse: 0.982657\n",
      "[1823]\tvalid_0's rmse: 0.98265\n",
      "[1824]\tvalid_0's rmse: 0.982634\n",
      "[1825]\tvalid_0's rmse: 0.982605\n",
      "[1826]\tvalid_0's rmse: 0.982597\n",
      "[1827]\tvalid_0's rmse: 0.982596\n",
      "[1828]\tvalid_0's rmse: 0.982603\n",
      "[1829]\tvalid_0's rmse: 0.982592\n",
      "[1830]\tvalid_0's rmse: 0.982578\n",
      "[1831]\tvalid_0's rmse: 0.982574\n",
      "[1832]\tvalid_0's rmse: 0.982567\n",
      "[1833]\tvalid_0's rmse: 0.982565\n",
      "[1834]\tvalid_0's rmse: 0.982547\n",
      "[1835]\tvalid_0's rmse: 0.982537\n",
      "[1836]\tvalid_0's rmse: 0.982518\n",
      "[1837]\tvalid_0's rmse: 0.982514\n",
      "[1838]\tvalid_0's rmse: 0.982505\n",
      "[1839]\tvalid_0's rmse: 0.982477\n",
      "[1840]\tvalid_0's rmse: 0.982485\n",
      "[1841]\tvalid_0's rmse: 0.982482\n",
      "[1842]\tvalid_0's rmse: 0.982488\n",
      "[1843]\tvalid_0's rmse: 0.98246\n",
      "[1844]\tvalid_0's rmse: 0.982461\n",
      "[1845]\tvalid_0's rmse: 0.982443\n",
      "[1846]\tvalid_0's rmse: 0.982436\n",
      "[1847]\tvalid_0's rmse: 0.982408\n",
      "[1848]\tvalid_0's rmse: 0.982388\n",
      "[1849]\tvalid_0's rmse: 0.982377\n",
      "[1850]\tvalid_0's rmse: 0.982377\n",
      "[1851]\tvalid_0's rmse: 0.982378\n",
      "[1852]\tvalid_0's rmse: 0.98237\n"
     ]
    },
    {
     "name": "stdout",
     "output_type": "stream",
     "text": [
      "[1853]\tvalid_0's rmse: 0.98235\n",
      "[1854]\tvalid_0's rmse: 0.98235\n",
      "[1855]\tvalid_0's rmse: 0.982363\n",
      "[1856]\tvalid_0's rmse: 0.982359\n",
      "[1857]\tvalid_0's rmse: 0.982352\n",
      "[1858]\tvalid_0's rmse: 0.982354\n",
      "[1859]\tvalid_0's rmse: 0.98236\n",
      "[1860]\tvalid_0's rmse: 0.982358\n",
      "[1861]\tvalid_0's rmse: 0.982334\n",
      "[1862]\tvalid_0's rmse: 0.982318\n",
      "[1863]\tvalid_0's rmse: 0.982314\n",
      "[1864]\tvalid_0's rmse: 0.9823\n",
      "[1865]\tvalid_0's rmse: 0.982294\n",
      "[1866]\tvalid_0's rmse: 0.982288\n",
      "[1867]\tvalid_0's rmse: 0.982268\n",
      "[1868]\tvalid_0's rmse: 0.982258\n",
      "[1869]\tvalid_0's rmse: 0.982284\n",
      "[1870]\tvalid_0's rmse: 0.982293\n",
      "[1871]\tvalid_0's rmse: 0.9823\n",
      "[1872]\tvalid_0's rmse: 0.98228\n",
      "[1873]\tvalid_0's rmse: 0.982271\n",
      "[1874]\tvalid_0's rmse: 0.982275\n",
      "[1875]\tvalid_0's rmse: 0.982257\n",
      "[1876]\tvalid_0's rmse: 0.982275\n",
      "[1877]\tvalid_0's rmse: 0.982282\n",
      "[1878]\tvalid_0's rmse: 0.982252\n",
      "[1879]\tvalid_0's rmse: 0.982235\n",
      "[1880]\tvalid_0's rmse: 0.982258\n",
      "[1881]\tvalid_0's rmse: 0.982246\n",
      "[1882]\tvalid_0's rmse: 0.982245\n",
      "[1883]\tvalid_0's rmse: 0.982249\n",
      "[1884]\tvalid_0's rmse: 0.982221\n",
      "[1885]\tvalid_0's rmse: 0.982229\n",
      "[1886]\tvalid_0's rmse: 0.982226\n",
      "[1887]\tvalid_0's rmse: 0.982214\n",
      "[1888]\tvalid_0's rmse: 0.982211\n",
      "[1889]\tvalid_0's rmse: 0.982209\n",
      "[1890]\tvalid_0's rmse: 0.982202\n",
      "[1891]\tvalid_0's rmse: 0.98219\n",
      "[1892]\tvalid_0's rmse: 0.9822\n",
      "[1893]\tvalid_0's rmse: 0.982201\n",
      "[1894]\tvalid_0's rmse: 0.982218\n",
      "[1895]\tvalid_0's rmse: 0.9822\n",
      "[1896]\tvalid_0's rmse: 0.982215\n",
      "[1897]\tvalid_0's rmse: 0.982196\n",
      "[1898]\tvalid_0's rmse: 0.982213\n",
      "[1899]\tvalid_0's rmse: 0.982221\n",
      "[1900]\tvalid_0's rmse: 0.982216\n",
      "[1901]\tvalid_0's rmse: 0.982211\n",
      "[1902]\tvalid_0's rmse: 0.982229\n",
      "[1903]\tvalid_0's rmse: 0.982225\n",
      "[1904]\tvalid_0's rmse: 0.98223\n",
      "[1905]\tvalid_0's rmse: 0.982203\n",
      "[1906]\tvalid_0's rmse: 0.982205\n",
      "[1907]\tvalid_0's rmse: 0.982174\n",
      "[1908]\tvalid_0's rmse: 0.982166\n",
      "[1909]\tvalid_0's rmse: 0.982157\n",
      "[1910]\tvalid_0's rmse: 0.982142\n",
      "[1911]\tvalid_0's rmse: 0.982142\n",
      "[1912]\tvalid_0's rmse: 0.982137\n",
      "[1913]\tvalid_0's rmse: 0.982135\n",
      "[1914]\tvalid_0's rmse: 0.982123\n",
      "[1915]\tvalid_0's rmse: 0.982093\n",
      "[1916]\tvalid_0's rmse: 0.982106\n",
      "[1917]\tvalid_0's rmse: 0.982107\n",
      "[1918]\tvalid_0's rmse: 0.982081\n",
      "[1919]\tvalid_0's rmse: 0.98207\n",
      "[1920]\tvalid_0's rmse: 0.982075\n",
      "[1921]\tvalid_0's rmse: 0.982062\n",
      "[1922]\tvalid_0's rmse: 0.982052\n",
      "[1923]\tvalid_0's rmse: 0.982031\n",
      "[1924]\tvalid_0's rmse: 0.982028\n",
      "[1925]\tvalid_0's rmse: 0.982016\n",
      "[1926]\tvalid_0's rmse: 0.982026\n",
      "[1927]\tvalid_0's rmse: 0.98203\n",
      "[1928]\tvalid_0's rmse: 0.982008\n",
      "[1929]\tvalid_0's rmse: 0.982009\n",
      "[1930]\tvalid_0's rmse: 0.982017\n",
      "[1931]\tvalid_0's rmse: 0.982002\n",
      "[1932]\tvalid_0's rmse: 0.982001\n",
      "[1933]\tvalid_0's rmse: 0.982\n",
      "[1934]\tvalid_0's rmse: 0.981993\n",
      "[1935]\tvalid_0's rmse: 0.982003\n",
      "[1936]\tvalid_0's rmse: 0.981999\n",
      "[1937]\tvalid_0's rmse: 0.981983\n",
      "[1938]\tvalid_0's rmse: 0.98199\n",
      "[1939]\tvalid_0's rmse: 0.981969\n",
      "[1940]\tvalid_0's rmse: 0.981954\n",
      "[1941]\tvalid_0's rmse: 0.981964\n",
      "[1942]\tvalid_0's rmse: 0.98195\n",
      "[1943]\tvalid_0's rmse: 0.981953\n",
      "[1944]\tvalid_0's rmse: 0.981945\n",
      "[1945]\tvalid_0's rmse: 0.98194\n",
      "[1946]\tvalid_0's rmse: 0.981944\n",
      "[1947]\tvalid_0's rmse: 0.98193\n",
      "[1948]\tvalid_0's rmse: 0.981923\n",
      "[1949]\tvalid_0's rmse: 0.981928\n",
      "[1950]\tvalid_0's rmse: 0.981924\n",
      "[1951]\tvalid_0's rmse: 0.981901\n",
      "[1952]\tvalid_0's rmse: 0.981892\n",
      "[1953]\tvalid_0's rmse: 0.981872\n",
      "[1954]\tvalid_0's rmse: 0.981866\n",
      "[1955]\tvalid_0's rmse: 0.981861\n",
      "[1956]\tvalid_0's rmse: 0.981839\n",
      "[1957]\tvalid_0's rmse: 0.981832\n",
      "[1958]\tvalid_0's rmse: 0.981846\n",
      "[1959]\tvalid_0's rmse: 0.981838\n",
      "[1960]\tvalid_0's rmse: 0.981823\n",
      "[1961]\tvalid_0's rmse: 0.981835\n",
      "[1962]\tvalid_0's rmse: 0.981846\n",
      "[1963]\tvalid_0's rmse: 0.981849\n",
      "[1964]\tvalid_0's rmse: 0.981863\n",
      "[1965]\tvalid_0's rmse: 0.981843\n",
      "[1966]\tvalid_0's rmse: 0.981848\n",
      "[1967]\tvalid_0's rmse: 0.981823\n",
      "[1968]\tvalid_0's rmse: 0.981823\n",
      "[1969]\tvalid_0's rmse: 0.98182\n",
      "[1970]\tvalid_0's rmse: 0.981825\n",
      "[1971]\tvalid_0's rmse: 0.98181\n",
      "[1972]\tvalid_0's rmse: 0.981807\n",
      "[1973]\tvalid_0's rmse: 0.981807\n",
      "[1974]\tvalid_0's rmse: 0.981804\n",
      "[1975]\tvalid_0's rmse: 0.981802\n",
      "[1976]\tvalid_0's rmse: 0.981792\n",
      "[1977]\tvalid_0's rmse: 0.981768\n",
      "[1978]\tvalid_0's rmse: 0.981768\n",
      "[1979]\tvalid_0's rmse: 0.98177\n",
      "[1980]\tvalid_0's rmse: 0.981771\n",
      "[1981]\tvalid_0's rmse: 0.981768\n",
      "[1982]\tvalid_0's rmse: 0.981778\n",
      "[1983]\tvalid_0's rmse: 0.981767\n",
      "[1984]\tvalid_0's rmse: 0.98177\n",
      "[1985]\tvalid_0's rmse: 0.981762\n",
      "[1986]\tvalid_0's rmse: 0.98174\n",
      "[1987]\tvalid_0's rmse: 0.981727\n",
      "[1988]\tvalid_0's rmse: 0.981726\n",
      "[1989]\tvalid_0's rmse: 0.981713\n",
      "[1990]\tvalid_0's rmse: 0.981704\n",
      "[1991]\tvalid_0's rmse: 0.981712\n",
      "[1992]\tvalid_0's rmse: 0.981706\n",
      "[1993]\tvalid_0's rmse: 0.981706\n",
      "[1994]\tvalid_0's rmse: 0.981705\n",
      "[1995]\tvalid_0's rmse: 0.981714\n",
      "[1996]\tvalid_0's rmse: 0.981713\n",
      "[1997]\tvalid_0's rmse: 0.981705\n",
      "[1998]\tvalid_0's rmse: 0.981706\n",
      "[1999]\tvalid_0's rmse: 0.981702\n",
      "[2000]\tvalid_0's rmse: 0.981706\n"
     ]
    }
   ],
   "source": [
    "from catboost import CatBoostClassifier, Pool, CatBoostRegressor\n",
    "from lightgbm import LGBMRegressor\n",
    "\n",
    "params_lgb = {'n_estimators':2000,\n",
    "                'boosting_type': 'gbdt',\n",
    "                'objective': 'regression',\n",
    "                'metric': 'rmse',\n",
    "                'subsample': 0.75,\n",
    "                'subsample_freq': 1,\n",
    "                'learning_rate': 0.005,\n",
    "                'feature_fraction': 0.9,\n",
    "             'max_depth': 8,\n",
    "                'lambda_l1': 1,  \n",
    "                'lambda_l2': 1,\n",
    "#                 'verbose': 100,\n",
    "    #             'early_stopping_rounds': 100, 'eval_metric': 'cappa'\n",
    "                  'categoricals' : [0, 16]\n",
    "                }\n",
    "clf = LGBMRegressor(**params_lgb)\n",
    "clf.fit(X_train, y_train, categorical_feature =['pred_title'], eval_set = (X_test, y_test))\n",
    "\n",
    "\n",
    "params_ctb = {'loss_function':'RMSE', \n",
    "                            'iterations':1000,\n",
    "                              'learning_rate':0.01,\n",
    "                            'task_type':\"GPU\",\n",
    "                              'depth':8,\n",
    "                 'verbose' : 100,\n",
    "                 }\n",
    "\n",
    "# clf = CatBoostRegressor(**params_ctb)\n",
    "# clf.fit(X_train, y_train,cat_features = [0,18], eval_set = (X_test, y_test))"
   ]
  },
  {
   "cell_type": "code",
   "execution_count": null,
   "metadata": {},
   "outputs": [],
   "source": [
    "from sklearn.ensemble import BaggingRegressor\n",
    "\n",
    "clf = BaggingRegressor(base_estimator=LGBMRegressor(**params_lgb),max_samples = 0.8, \n",
    "                n_estimators=10, random_state=0, oob_score = True, verbose = 1,\n",
    "                        n_jobs = 12).fit(X_train, y_train, cat_features = [0,18])"
   ]
  },
  {
   "cell_type": "code",
   "execution_count": null,
   "metadata": {},
   "outputs": [],
   "source": []
  },
  {
   "cell_type": "code",
   "execution_count": null,
   "metadata": {},
   "outputs": [],
   "source": [
    "def get_model():\n",
    "    from sklearn.ensemble import ExtraTreesRegressor\n",
    "    from mlxtend.regressor import StackingRegressor\n",
    "    from sklearn.ensemble import RandomForestRegressor\n",
    "    from sklearn.linear_model import LinearRegression\n",
    "    from sklearn.ensemble import AdaBoostRegressor\n",
    "    from sklearn.svm import SVR\n",
    "    from catboost import CatBoostClassifier, Pool, CatBoostRegressor\n",
    "    from lightgbm import LGBMRegressor\n",
    "    from xgboost import XGBClassifier, XGBRegressor\n",
    "\n",
    "    params_lgb = {'n_estimators':2000,\n",
    "                'boosting_type': 'gbdt',\n",
    "                'objective': 'regression',\n",
    "                'metric': 'rmse',\n",
    "                'subsample': 0.75,\n",
    "                'subsample_freq': 1,\n",
    "                'learning_rate': 0.005,\n",
    "                'feature_fraction': 0.9,\n",
    "             'max_depth': 8,\n",
    "                'lambda_l1': 1,  \n",
    "                'lambda_l2': 1,\n",
    "#                 'verbose': 100,\n",
    "    #             'early_stopping_rounds': 100, 'eval_metric': 'cappa'\n",
    "                  'categoricals' : [0]\n",
    "                }\n",
    "\n",
    "    params_ctb = {'loss_function':'RMSE', \n",
    "                            'iterations':300,\n",
    "                              'learning_rate':0.01,\n",
    "                            'task_type':\"GPU\",\n",
    "                              'depth':8,\n",
    "                 'verbose' : False,\n",
    "                 }\n",
    "\n",
    "    params_xgb ={'colsample_bytree': 0.8,                 \n",
    "                'learning_rate': 0.01,\n",
    "                'max_depth': 10,\n",
    "                'subsample': 1,\n",
    "                'objective':'reg:squarederror',\n",
    "                #'eval_metric':'rmse',\n",
    "                'min_child_weight':3,\n",
    "                'gamma':0.25,\n",
    "                'n_estimators':100,\n",
    "                'n_jobs' : 12,\n",
    "                'categoricals' : [0]}\n",
    "\n",
    "    params_rf = {\n",
    "        'n_estimators':100,\n",
    "        'n_jobs' : 12,\n",
    "        'max_depth': 10\n",
    "    }\n",
    "\n",
    "\n",
    "    params_ada = {\n",
    "        'n_estimators':100,\n",
    "        'loss': 'square'\n",
    "    }\n",
    "\n",
    "    from mlxtend.regressor import StackingCVRegressor\n",
    "\n",
    "    lgb = LGBMRegressor(**params_lgb)\n",
    "    ctb = CatBoostRegressor(**params_ctb)\n",
    "    etr = ExtraTreesRegressor(bootstrap=True, max_features=0.45, min_samples_leaf=17, min_samples_split=15, n_estimators=100)\n",
    "    xgb = XGBRegressor(**params_xgb)\n",
    "    rf = RandomForestRegressor(**params_rf)\n",
    "    lr = LinearRegression()\n",
    "    ada = AdaBoostRegressor(**params_ada)\n",
    "\n",
    "    svr = SVR()\n",
    "\n",
    "    clf = StackingCVRegressor(regressors=[lgb, ctb, etr, xgb, rf, lr, ada], \n",
    "                               meta_regressor=svr, verbose = 1)\n",
    "    \n",
    "    return clf\n",
    "\n",
    "def tres(pred, t):\n",
    "    pred1 = deepcopy(pred)\n",
    "    pred1[pred1 >= t[2]] = 3\n",
    "    pred1[pred1 < t[0]] = 0\n",
    "    pred1[(pred1>= t[0])&(pred1 < t[1])] = 1\n",
    "    pred1[(pred1>= t[1])&(pred1 < t[2])] = 2\n",
    "    return pred1"
   ]
  },
  {
   "cell_type": "code",
   "execution_count": null,
   "metadata": {},
   "outputs": [],
   "source": [
    "from sklearn.ensemble import ExtraTreesRegressor\n",
    "from mlxtend.regressor import StackingRegressor\n",
    "from sklearn.ensemble import RandomForestRegressor\n",
    "from sklearn.linear_model import LinearRegression\n",
    "from sklearn.ensemble import AdaBoostRegressor\n",
    "from sklearn.svm import SVR\n",
    "from catboost import CatBoostClassifier, Pool, CatBoostRegressor\n",
    "from lightgbm import LGBMRegressor\n",
    "from xgboost import XGBClassifier, XGBRegressor\n",
    "params_lgb = {'n_estimators':2000,\n",
    "                'boosting_type': 'gbdt',\n",
    "                'objective': 'regression',\n",
    "                'metric': 'rmse',\n",
    "                'subsample': 0.75,\n",
    "                'subsample_freq': 1,\n",
    "                'learning_rate': 0.005,\n",
    "                'feature_fraction': 0.9,\n",
    "             'max_depth': 8,\n",
    "                'lambda_l1': 1,  \n",
    "                'lambda_l2': 1,\n",
    "                'verbose': 100,\n",
    "    #             'early_stopping_rounds': 100, 'eval_metric': 'cappa'\n",
    "                  'categoricals' : [0]\n",
    "                }\n",
    "\n",
    "params_ctb = {'loss_function':'RMSE', \n",
    "                            'iterations':1000,\n",
    "                              'learning_rate':0.01,\n",
    "                            'task_type':\"GPU\",\n",
    "                              'depth':8,\n",
    "                 'verbose' : 100,\n",
    "                 }"
   ]
  },
  {
   "cell_type": "code",
   "execution_count": null,
   "metadata": {
    "scrolled": true
   },
   "outputs": [],
   "source": [
    "from sklearn.model_selection import KFold\n",
    "from sklearn.ensemble import ExtraTreesRegressor\n",
    "from sklearn.model_selection import GroupKFold\n",
    "# X = X.values\n",
    "y = Y\n",
    "\n",
    "kf =  GroupKFold(n_splits=5)\n",
    "\n",
    "scores = []\n",
    "\n",
    "for train_index, test_index in kf.split(X, Y, groups):\n",
    "#     print(\"TRAIN:\", train_index, \"TEST:\", test_index)\n",
    "\n",
    "#     X_train, X_test = X[train_index], X[test_index]\n",
    "    X_train, X_test = X.iloc[train_index], X.iloc[test_index]\n",
    "    y_train, y_test = y[train_index], y[test_index]\n",
    "    \n",
    "    \n",
    "#     clf = CatBoostRegressor(**params_ctb)\n",
    "#     clf.fit(X_train, y_train,cat_features = [0,18], eval_set = (X_test, y_test))\n",
    "    \n",
    "    clf = LGBMRegressor(**params_lgb)\n",
    "    clf.fit(X_train, y_train, categorical_feature =[0,18])\n",
    "    \n",
    "    import optuna\n",
    "    def objective(trial, pred = clf.predict(X_train), y_test = y_train):\n",
    "        x0 = trial.suggest_uniform('x0', pred.min(), pred.max())\n",
    "        x1 = trial.suggest_uniform('x1', x0,  pred.max())\n",
    "        x2 = trial.suggest_uniform('x2', x1,  pred.max())\n",
    "\n",
    "        t = [x0, x1, x2]\n",
    "        pred1 = tres(pred, t)\n",
    "        a = cohen_kappa_score(y_test, pred1, weights = 'quadratic')\n",
    "        print(a)\n",
    "        return 1-a\n",
    "    study = optuna.create_study()\n",
    "    study.optimize(objective, n_trials=100)\n",
    "    \n",
    "    t = list(study.best_params.values())\n",
    "    pred = clf.predict(X_test)\n",
    "    pred1 = tres(pred, t)\n",
    "\n",
    "\n",
    "\n",
    "    print(cohen_kappa_score(y_test, pred1, weights = 'quadratic'))\n",
    "    scores.append(cohen_kappa_score(y_test, pred1, weights = 'quadratic'))"
   ]
  },
  {
   "cell_type": "code",
   "execution_count": null,
   "metadata": {},
   "outputs": [],
   "source": [
    "scores"
   ]
  },
  {
   "cell_type": "code",
   "execution_count": 17,
   "metadata": {
    "scrolled": true
   },
   "outputs": [
    {
     "name": "stdout",
     "output_type": "stream",
     "text": [
      "0.5902336012394311\n"
     ]
    },
    {
     "name": "stderr",
     "output_type": "stream",
     "text": [
      "[I 2019-12-29 10:53:16,788] Finished trial#0 resulted in value: 0.40976639876056886. Current best value is 0.40976639876056886 with parameters: {'x0': 0.3609089703033971, 'x1': 2.251699054182692, 'x2': 2.4426746942177093}.\n"
     ]
    },
    {
     "name": "stdout",
     "output_type": "stream",
     "text": [
      "0.47764035988691256\n"
     ]
    },
    {
     "name": "stderr",
     "output_type": "stream",
     "text": [
      "[I 2019-12-29 10:53:16,900] Finished trial#1 resulted in value: 0.5223596401130874. Current best value is 0.40976639876056886 with parameters: {'x0': 0.3609089703033971, 'x1': 2.251699054182692, 'x2': 2.4426746942177093}.\n"
     ]
    },
    {
     "name": "stdout",
     "output_type": "stream",
     "text": [
      "0.693282517543147\n"
     ]
    },
    {
     "name": "stderr",
     "output_type": "stream",
     "text": [
      "[I 2019-12-29 10:53:17,012] Finished trial#2 resulted in value: 0.30671748245685304. Current best value is 0.30671748245685304 with parameters: {'x0': 1.607298488401222, 'x1': 0.5324117826828433, 'x2': 2.442496027543211}.\n"
     ]
    },
    {
     "name": "stdout",
     "output_type": "stream",
     "text": [
      "0.3623779161948776\n"
     ]
    },
    {
     "name": "stderr",
     "output_type": "stream",
     "text": [
      "[I 2019-12-29 10:53:17,121] Finished trial#3 resulted in value: 0.6376220838051224. Current best value is 0.30671748245685304 with parameters: {'x0': 1.607298488401222, 'x1': 0.5324117826828433, 'x2': 2.442496027543211}.\n"
     ]
    },
    {
     "name": "stdout",
     "output_type": "stream",
     "text": [
      "0.2002736114826016\n"
     ]
    },
    {
     "name": "stderr",
     "output_type": "stream",
     "text": [
      "[I 2019-12-29 10:53:17,234] Finished trial#4 resulted in value: 0.7997263885173984. Current best value is 0.30671748245685304 with parameters: {'x0': 1.607298488401222, 'x1': 0.5324117826828433, 'x2': 2.442496027543211}.\n"
     ]
    },
    {
     "name": "stdout",
     "output_type": "stream",
     "text": [
      "0.6615764969102074\n"
     ]
    },
    {
     "name": "stderr",
     "output_type": "stream",
     "text": [
      "[I 2019-12-29 10:53:17,345] Finished trial#5 resulted in value: 0.33842350308979263. Current best value is 0.30671748245685304 with parameters: {'x0': 1.607298488401222, 'x1': 0.5324117826828433, 'x2': 2.442496027543211}.\n"
     ]
    },
    {
     "name": "stdout",
     "output_type": "stream",
     "text": [
      "0.03371276766750797\n"
     ]
    },
    {
     "name": "stderr",
     "output_type": "stream",
     "text": [
      "[I 2019-12-29 10:53:17,453] Finished trial#6 resulted in value: 0.966287232332492. Current best value is 0.30671748245685304 with parameters: {'x0': 1.607298488401222, 'x1': 0.5324117826828433, 'x2': 2.442496027543211}.\n"
     ]
    },
    {
     "name": "stdout",
     "output_type": "stream",
     "text": [
      "0.5015398717289556\n"
     ]
    },
    {
     "name": "stderr",
     "output_type": "stream",
     "text": [
      "[I 2019-12-29 10:53:17,562] Finished trial#7 resulted in value: 0.49846012827104436. Current best value is 0.30671748245685304 with parameters: {'x0': 1.607298488401222, 'x1': 0.5324117826828433, 'x2': 2.442496027543211}.\n"
     ]
    },
    {
     "name": "stdout",
     "output_type": "stream",
     "text": [
      "0.25223727318265443\n"
     ]
    },
    {
     "name": "stderr",
     "output_type": "stream",
     "text": [
      "[I 2019-12-29 10:53:17,672] Finished trial#8 resulted in value: 0.7477627268173456. Current best value is 0.30671748245685304 with parameters: {'x0': 1.607298488401222, 'x1': 0.5324117826828433, 'x2': 2.442496027543211}.\n"
     ]
    },
    {
     "name": "stdout",
     "output_type": "stream",
     "text": [
      "0.5616431671389503\n"
     ]
    },
    {
     "name": "stderr",
     "output_type": "stream",
     "text": [
      "[I 2019-12-29 10:53:17,779] Finished trial#9 resulted in value: 0.43835683286104965. Current best value is 0.30671748245685304 with parameters: {'x0': 1.607298488401222, 'x1': 0.5324117826828433, 'x2': 2.442496027543211}.\n"
     ]
    },
    {
     "name": "stdout",
     "output_type": "stream",
     "text": [
      "0.5305492957747249\n"
     ]
    },
    {
     "name": "stderr",
     "output_type": "stream",
     "text": [
      "[I 2019-12-29 10:53:17,889] Finished trial#10 resulted in value: 0.46945070422527513. Current best value is 0.30671748245685304 with parameters: {'x0': 1.607298488401222, 'x1': 0.5324117826828433, 'x2': 2.442496027543211}.\n"
     ]
    },
    {
     "name": "stdout",
     "output_type": "stream",
     "text": [
      "0.0\n"
     ]
    },
    {
     "name": "stderr",
     "output_type": "stream",
     "text": [
      "[I 2019-12-29 10:53:18,001] Finished trial#11 resulted in value: 1.0. Current best value is 0.30671748245685304 with parameters: {'x0': 1.607298488401222, 'x1': 0.5324117826828433, 'x2': 2.442496027543211}.\n"
     ]
    },
    {
     "name": "stdout",
     "output_type": "stream",
     "text": [
      "0.0\n"
     ]
    },
    {
     "name": "stderr",
     "output_type": "stream",
     "text": [
      "[I 2019-12-29 10:53:18,114] Finished trial#12 resulted in value: 1.0. Current best value is 0.30671748245685304 with parameters: {'x0': 1.607298488401222, 'x1': 0.5324117826828433, 'x2': 2.442496027543211}.\n"
     ]
    },
    {
     "name": "stdout",
     "output_type": "stream",
     "text": [
      "0.22164926024811427\n"
     ]
    },
    {
     "name": "stderr",
     "output_type": "stream",
     "text": [
      "[I 2019-12-29 10:53:18,226] Finished trial#13 resulted in value: 0.7783507397518857. Current best value is 0.30671748245685304 with parameters: {'x0': 1.607298488401222, 'x1': 0.5324117826828433, 'x2': 2.442496027543211}.\n"
     ]
    },
    {
     "name": "stdout",
     "output_type": "stream",
     "text": [
      "0.2454653991145338\n"
     ]
    },
    {
     "name": "stderr",
     "output_type": "stream",
     "text": [
      "[I 2019-12-29 10:53:18,338] Finished trial#14 resulted in value: 0.7545346008854662. Current best value is 0.30671748245685304 with parameters: {'x0': 1.607298488401222, 'x1': 0.5324117826828433, 'x2': 2.442496027543211}.\n"
     ]
    },
    {
     "name": "stdout",
     "output_type": "stream",
     "text": [
      "0.6447261006437852\n"
     ]
    },
    {
     "name": "stderr",
     "output_type": "stream",
     "text": [
      "[I 2019-12-29 10:53:18,455] Finished trial#15 resulted in value: 0.3552738993562148. Current best value is 0.30671748245685304 with parameters: {'x0': 1.607298488401222, 'x1': 0.5324117826828433, 'x2': 2.442496027543211}.\n"
     ]
    },
    {
     "name": "stdout",
     "output_type": "stream",
     "text": [
      "0.6336631053083697\n"
     ]
    },
    {
     "name": "stderr",
     "output_type": "stream",
     "text": [
      "[I 2019-12-29 10:53:18,566] Finished trial#16 resulted in value: 0.36633689469163033. Current best value is 0.30671748245685304 with parameters: {'x0': 1.607298488401222, 'x1': 0.5324117826828433, 'x2': 2.442496027543211}.\n"
     ]
    },
    {
     "name": "stdout",
     "output_type": "stream",
     "text": [
      "0.26101092281093796\n"
     ]
    },
    {
     "name": "stderr",
     "output_type": "stream",
     "text": [
      "[I 2019-12-29 10:53:18,679] Finished trial#17 resulted in value: 0.738989077189062. Current best value is 0.30671748245685304 with parameters: {'x0': 1.607298488401222, 'x1': 0.5324117826828433, 'x2': 2.442496027543211}.\n"
     ]
    },
    {
     "name": "stdout",
     "output_type": "stream",
     "text": [
      "0.6772018960821904\n"
     ]
    },
    {
     "name": "stderr",
     "output_type": "stream",
     "text": [
      "[I 2019-12-29 10:53:18,794] Finished trial#18 resulted in value: 0.3227981039178096. Current best value is 0.30671748245685304 with parameters: {'x0': 1.607298488401222, 'x1': 0.5324117826828433, 'x2': 2.442496027543211}.\n"
     ]
    },
    {
     "name": "stdout",
     "output_type": "stream",
     "text": [
      "0.6842246068438784\n"
     ]
    },
    {
     "name": "stderr",
     "output_type": "stream",
     "text": [
      "[I 2019-12-29 10:53:18,907] Finished trial#19 resulted in value: 0.3157753931561216. Current best value is 0.30671748245685304 with parameters: {'x0': 1.607298488401222, 'x1': 0.5324117826828433, 'x2': 2.442496027543211}.\n"
     ]
    },
    {
     "name": "stdout",
     "output_type": "stream",
     "text": [
      "0.6187428796965533\n"
     ]
    },
    {
     "name": "stderr",
     "output_type": "stream",
     "text": [
      "[I 2019-12-29 10:53:19,036] Finished trial#20 resulted in value: 0.3812571203034467. Current best value is 0.30671748245685304 with parameters: {'x0': 1.607298488401222, 'x1': 0.5324117826828433, 'x2': 2.442496027543211}.\n"
     ]
    },
    {
     "name": "stdout",
     "output_type": "stream",
     "text": [
      "0.6928229313178667\n"
     ]
    },
    {
     "name": "stderr",
     "output_type": "stream",
     "text": [
      "[I 2019-12-29 10:53:19,151] Finished trial#21 resulted in value: 0.30717706868213335. Current best value is 0.30671748245685304 with parameters: {'x0': 1.607298488401222, 'x1': 0.5324117826828433, 'x2': 2.442496027543211}.\n"
     ]
    },
    {
     "name": "stdout",
     "output_type": "stream",
     "text": [
      "0.588744222399599\n"
     ]
    },
    {
     "name": "stderr",
     "output_type": "stream",
     "text": [
      "[I 2019-12-29 10:53:19,264] Finished trial#22 resulted in value: 0.411255777600401. Current best value is 0.30671748245685304 with parameters: {'x0': 1.607298488401222, 'x1': 0.5324117826828433, 'x2': 2.442496027543211}.\n"
     ]
    },
    {
     "name": "stdout",
     "output_type": "stream",
     "text": [
      "0.593648061271127\n"
     ]
    },
    {
     "name": "stderr",
     "output_type": "stream",
     "text": [
      "[I 2019-12-29 10:53:19,377] Finished trial#23 resulted in value: 0.406351938728873. Current best value is 0.30671748245685304 with parameters: {'x0': 1.607298488401222, 'x1': 0.5324117826828433, 'x2': 2.442496027543211}.\n"
     ]
    },
    {
     "name": "stdout",
     "output_type": "stream",
     "text": [
      "0.7124986362946565\n"
     ]
    },
    {
     "name": "stderr",
     "output_type": "stream",
     "text": [
      "[I 2019-12-29 10:53:19,491] Finished trial#24 resulted in value: 0.2875013637053435. Current best value is 0.2875013637053435 with parameters: {'x0': 1.2839109247756373, 'x1': 1.3383462035634526, 'x2': 2.136426502234749}.\n"
     ]
    },
    {
     "name": "stdout",
     "output_type": "stream",
     "text": [
      "0.6906310058925316\n"
     ]
    },
    {
     "name": "stderr",
     "output_type": "stream",
     "text": [
      "[I 2019-12-29 10:53:19,604] Finished trial#25 resulted in value: 0.30936899410746843. Current best value is 0.2875013637053435 with parameters: {'x0': 1.2839109247756373, 'x1': 1.3383462035634526, 'x2': 2.136426502234749}.\n"
     ]
    },
    {
     "name": "stdout",
     "output_type": "stream",
     "text": [
      "0.5834946093227522\n"
     ]
    },
    {
     "name": "stderr",
     "output_type": "stream",
     "text": [
      "[I 2019-12-29 10:53:19,717] Finished trial#26 resulted in value: 0.4165053906772478. Current best value is 0.2875013637053435 with parameters: {'x0': 1.2839109247756373, 'x1': 1.3383462035634526, 'x2': 2.136426502234749}.\n"
     ]
    },
    {
     "name": "stdout",
     "output_type": "stream",
     "text": [
      "0.6477145134160494\n"
     ]
    },
    {
     "name": "stderr",
     "output_type": "stream",
     "text": [
      "[I 2019-12-29 10:53:19,840] Finished trial#27 resulted in value: 0.35228548658395065. Current best value is 0.2875013637053435 with parameters: {'x0': 1.2839109247756373, 'x1': 1.3383462035634526, 'x2': 2.136426502234749}.\n"
     ]
    },
    {
     "name": "stdout",
     "output_type": "stream",
     "text": [
      "0.6335591283138968\n"
     ]
    },
    {
     "name": "stderr",
     "output_type": "stream",
     "text": [
      "[I 2019-12-29 10:53:19,957] Finished trial#28 resulted in value: 0.3664408716861032. Current best value is 0.2875013637053435 with parameters: {'x0': 1.2839109247756373, 'x1': 1.3383462035634526, 'x2': 2.136426502234749}.\n"
     ]
    },
    {
     "name": "stdout",
     "output_type": "stream",
     "text": [
      "0.2919722017917058\n"
     ]
    },
    {
     "name": "stderr",
     "output_type": "stream",
     "text": [
      "[I 2019-12-29 10:53:20,073] Finished trial#29 resulted in value: 0.7080277982082942. Current best value is 0.2875013637053435 with parameters: {'x0': 1.2839109247756373, 'x1': 1.3383462035634526, 'x2': 2.136426502234749}.\n"
     ]
    },
    {
     "name": "stdout",
     "output_type": "stream",
     "text": [
      "0.6741974617092807\n"
     ]
    },
    {
     "name": "stderr",
     "output_type": "stream",
     "text": [
      "[I 2019-12-29 10:53:20,190] Finished trial#30 resulted in value: 0.32580253829071926. Current best value is 0.2875013637053435 with parameters: {'x0': 1.2839109247756373, 'x1': 1.3383462035634526, 'x2': 2.136426502234749}.\n"
     ]
    },
    {
     "name": "stdout",
     "output_type": "stream",
     "text": [
      "0.6902015162246371\n"
     ]
    },
    {
     "name": "stderr",
     "output_type": "stream",
     "text": [
      "[I 2019-12-29 10:53:20,305] Finished trial#31 resulted in value: 0.3097984837753629. Current best value is 0.2875013637053435 with parameters: {'x0': 1.2839109247756373, 'x1': 1.3383462035634526, 'x2': 2.136426502234749}.\n"
     ]
    },
    {
     "name": "stdout",
     "output_type": "stream",
     "text": [
      "0.6959734665969846\n"
     ]
    },
    {
     "name": "stderr",
     "output_type": "stream",
     "text": [
      "[I 2019-12-29 10:53:20,424] Finished trial#32 resulted in value: 0.30402653340301544. Current best value is 0.2875013637053435 with parameters: {'x0': 1.2839109247756373, 'x1': 1.3383462035634526, 'x2': 2.136426502234749}.\n"
     ]
    },
    {
     "name": "stdout",
     "output_type": "stream",
     "text": [
      "0.5911209136141709\n"
     ]
    },
    {
     "name": "stderr",
     "output_type": "stream",
     "text": [
      "[I 2019-12-29 10:53:20,550] Finished trial#33 resulted in value: 0.40887908638582915. Current best value is 0.2875013637053435 with parameters: {'x0': 1.2839109247756373, 'x1': 1.3383462035634526, 'x2': 2.136426502234749}.\n"
     ]
    },
    {
     "name": "stdout",
     "output_type": "stream",
     "text": [
      "0.4515957081624088\n"
     ]
    },
    {
     "name": "stderr",
     "output_type": "stream",
     "text": [
      "[I 2019-12-29 10:53:20,671] Finished trial#34 resulted in value: 0.5484042918375912. Current best value is 0.2875013637053435 with parameters: {'x0': 1.2839109247756373, 'x1': 1.3383462035634526, 'x2': 2.136426502234749}.\n"
     ]
    },
    {
     "name": "stdout",
     "output_type": "stream",
     "text": [
      "0.6570616366313693\n"
     ]
    },
    {
     "name": "stderr",
     "output_type": "stream",
     "text": [
      "[I 2019-12-29 10:53:20,802] Finished trial#35 resulted in value: 0.3429383633686307. Current best value is 0.2875013637053435 with parameters: {'x0': 1.2839109247756373, 'x1': 1.3383462035634526, 'x2': 2.136426502234749}.\n"
     ]
    },
    {
     "name": "stdout",
     "output_type": "stream",
     "text": [
      "0.6926260512925129\n"
     ]
    },
    {
     "name": "stderr",
     "output_type": "stream",
     "text": [
      "[I 2019-12-29 10:53:20,925] Finished trial#36 resulted in value: 0.30737394870748713. Current best value is 0.2875013637053435 with parameters: {'x0': 1.2839109247756373, 'x1': 1.3383462035634526, 'x2': 2.136426502234749}.\n"
     ]
    },
    {
     "name": "stdout",
     "output_type": "stream",
     "text": [
      "0.6995809173890579\n"
     ]
    },
    {
     "name": "stderr",
     "output_type": "stream",
     "text": [
      "[I 2019-12-29 10:53:21,055] Finished trial#37 resulted in value: 0.3004190826109421. Current best value is 0.2875013637053435 with parameters: {'x0': 1.2839109247756373, 'x1': 1.3383462035634526, 'x2': 2.136426502234749}.\n"
     ]
    },
    {
     "name": "stdout",
     "output_type": "stream",
     "text": [
      "0.650941566515208\n"
     ]
    },
    {
     "name": "stderr",
     "output_type": "stream",
     "text": [
      "[I 2019-12-29 10:53:21,186] Finished trial#38 resulted in value: 0.34905843348479204. Current best value is 0.2875013637053435 with parameters: {'x0': 1.2839109247756373, 'x1': 1.3383462035634526, 'x2': 2.136426502234749}.\n"
     ]
    },
    {
     "name": "stdout",
     "output_type": "stream",
     "text": [
      "0.6782690549712489\n"
     ]
    },
    {
     "name": "stderr",
     "output_type": "stream",
     "text": [
      "[I 2019-12-29 10:53:21,303] Finished trial#39 resulted in value: 0.3217309450287511. Current best value is 0.2875013637053435 with parameters: {'x0': 1.2839109247756373, 'x1': 1.3383462035634526, 'x2': 2.136426502234749}.\n"
     ]
    },
    {
     "name": "stdout",
     "output_type": "stream",
     "text": [
      "0.5923442247797521\n"
     ]
    },
    {
     "name": "stderr",
     "output_type": "stream",
     "text": [
      "[I 2019-12-29 10:53:21,430] Finished trial#40 resulted in value: 0.4076557752202479. Current best value is 0.2875013637053435 with parameters: {'x0': 1.2839109247756373, 'x1': 1.3383462035634526, 'x2': 2.136426502234749}.\n"
     ]
    },
    {
     "name": "stdout",
     "output_type": "stream",
     "text": [
      "0.7081086291269763\n"
     ]
    },
    {
     "name": "stderr",
     "output_type": "stream",
     "text": [
      "[I 2019-12-29 10:53:21,563] Finished trial#41 resulted in value: 0.29189137087302375. Current best value is 0.2875013637053435 with parameters: {'x0': 1.2839109247756373, 'x1': 1.3383462035634526, 'x2': 2.136426502234749}.\n"
     ]
    },
    {
     "name": "stdout",
     "output_type": "stream",
     "text": [
      "0.6826684428478229\n"
     ]
    },
    {
     "name": "stderr",
     "output_type": "stream",
     "text": [
      "[I 2019-12-29 10:53:21,685] Finished trial#42 resulted in value: 0.3173315571521771. Current best value is 0.2875013637053435 with parameters: {'x0': 1.2839109247756373, 'x1': 1.3383462035634526, 'x2': 2.136426502234749}.\n"
     ]
    },
    {
     "name": "stdout",
     "output_type": "stream",
     "text": [
      "0.7172882203752328\n"
     ]
    },
    {
     "name": "stderr",
     "output_type": "stream",
     "text": [
      "[I 2019-12-29 10:53:21,809] Finished trial#43 resulted in value: 0.28271177962476723. Current best value is 0.28271177962476723 with parameters: {'x0': 1.488160587323345, 'x1': 0.6441526806045386, 'x2': 2.185362346468667}.\n"
     ]
    },
    {
     "name": "stdout",
     "output_type": "stream",
     "text": [
      "0.7124713082623217\n"
     ]
    },
    {
     "name": "stderr",
     "output_type": "stream",
     "text": [
      "[I 2019-12-29 10:53:21,949] Finished trial#44 resulted in value: 0.28752869173767825. Current best value is 0.28271177962476723 with parameters: {'x0': 1.488160587323345, 'x1': 0.6441526806045386, 'x2': 2.185362346468667}.\n"
     ]
    },
    {
     "name": "stdout",
     "output_type": "stream",
     "text": [
      "0.6965454820294665\n"
     ]
    },
    {
     "name": "stderr",
     "output_type": "stream",
     "text": [
      "[I 2019-12-29 10:53:22,071] Finished trial#45 resulted in value: 0.30345451797053347. Current best value is 0.28271177962476723 with parameters: {'x0': 1.488160587323345, 'x1': 0.6441526806045386, 'x2': 2.185362346468667}.\n"
     ]
    },
    {
     "name": "stdout",
     "output_type": "stream",
     "text": [
      "0.6622404070261159\n"
     ]
    },
    {
     "name": "stderr",
     "output_type": "stream",
     "text": [
      "[I 2019-12-29 10:53:22,190] Finished trial#46 resulted in value: 0.33775959297388414. Current best value is 0.28271177962476723 with parameters: {'x0': 1.488160587323345, 'x1': 0.6441526806045386, 'x2': 2.185362346468667}.\n"
     ]
    },
    {
     "name": "stdout",
     "output_type": "stream",
     "text": [
      "0.670878119740371\n"
     ]
    },
    {
     "name": "stderr",
     "output_type": "stream",
     "text": [
      "[I 2019-12-29 10:53:22,318] Finished trial#47 resulted in value: 0.32912188025962896. Current best value is 0.28271177962476723 with parameters: {'x0': 1.488160587323345, 'x1': 0.6441526806045386, 'x2': 2.185362346468667}.\n"
     ]
    },
    {
     "name": "stdout",
     "output_type": "stream",
     "text": [
      "0.6800107636413117\n"
     ]
    },
    {
     "name": "stderr",
     "output_type": "stream",
     "text": [
      "[I 2019-12-29 10:53:22,451] Finished trial#48 resulted in value: 0.31998923635868826. Current best value is 0.28271177962476723 with parameters: {'x0': 1.488160587323345, 'x1': 0.6441526806045386, 'x2': 2.185362346468667}.\n"
     ]
    },
    {
     "name": "stdout",
     "output_type": "stream",
     "text": [
      "0.6045352770679364\n"
     ]
    },
    {
     "name": "stderr",
     "output_type": "stream",
     "text": [
      "[I 2019-12-29 10:53:22,582] Finished trial#49 resulted in value: 0.3954647229320636. Current best value is 0.28271177962476723 with parameters: {'x0': 1.488160587323345, 'x1': 0.6441526806045386, 'x2': 2.185362346468667}.\n"
     ]
    },
    {
     "name": "stdout",
     "output_type": "stream",
     "text": [
      "0.6189834744138323\n"
     ]
    },
    {
     "name": "stderr",
     "output_type": "stream",
     "text": [
      "[I 2019-12-29 10:53:22,705] Finished trial#50 resulted in value: 0.3810165255861677. Current best value is 0.28271177962476723 with parameters: {'x0': 1.488160587323345, 'x1': 0.6441526806045386, 'x2': 2.185362346468667}.\n"
     ]
    },
    {
     "name": "stdout",
     "output_type": "stream",
     "text": [
      "0.6987519139655003\n"
     ]
    },
    {
     "name": "stderr",
     "output_type": "stream",
     "text": [
      "[I 2019-12-29 10:53:22,844] Finished trial#51 resulted in value: 0.3012480860344997. Current best value is 0.28271177962476723 with parameters: {'x0': 1.488160587323345, 'x1': 0.6441526806045386, 'x2': 2.185362346468667}.\n"
     ]
    },
    {
     "name": "stdout",
     "output_type": "stream",
     "text": [
      "0.49258503140609156\n"
     ]
    },
    {
     "name": "stderr",
     "output_type": "stream",
     "text": [
      "[I 2019-12-29 10:53:22,990] Finished trial#52 resulted in value: 0.5074149685939084. Current best value is 0.28271177962476723 with parameters: {'x0': 1.488160587323345, 'x1': 0.6441526806045386, 'x2': 2.185362346468667}.\n"
     ]
    },
    {
     "name": "stdout",
     "output_type": "stream",
     "text": [
      "0.35829006407223307\n"
     ]
    },
    {
     "name": "stderr",
     "output_type": "stream",
     "text": [
      "[I 2019-12-29 10:53:23,127] Finished trial#53 resulted in value: 0.6417099359277669. Current best value is 0.28271177962476723 with parameters: {'x0': 1.488160587323345, 'x1': 0.6441526806045386, 'x2': 2.185362346468667}.\n"
     ]
    },
    {
     "name": "stdout",
     "output_type": "stream",
     "text": [
      "0.6621674208343162\n"
     ]
    },
    {
     "name": "stderr",
     "output_type": "stream",
     "text": [
      "[I 2019-12-29 10:53:23,261] Finished trial#54 resulted in value: 0.33783257916568377. Current best value is 0.28271177962476723 with parameters: {'x0': 1.488160587323345, 'x1': 0.6441526806045386, 'x2': 2.185362346468667}.\n"
     ]
    },
    {
     "name": "stdout",
     "output_type": "stream",
     "text": [
      "0.7019652544686359\n"
     ]
    },
    {
     "name": "stderr",
     "output_type": "stream",
     "text": [
      "[I 2019-12-29 10:53:23,409] Finished trial#55 resulted in value: 0.2980347455313641. Current best value is 0.28271177962476723 with parameters: {'x0': 1.488160587323345, 'x1': 0.6441526806045386, 'x2': 2.185362346468667}.\n"
     ]
    },
    {
     "name": "stdout",
     "output_type": "stream",
     "text": [
      "0.0021047913709685284\n"
     ]
    },
    {
     "name": "stderr",
     "output_type": "stream",
     "text": [
      "[I 2019-12-29 10:53:23,538] Finished trial#56 resulted in value: 0.9978952086290315. Current best value is 0.28271177962476723 with parameters: {'x0': 1.488160587323345, 'x1': 0.6441526806045386, 'x2': 2.185362346468667}.\n"
     ]
    },
    {
     "name": "stdout",
     "output_type": "stream",
     "text": [
      "0.7030308350555324\n"
     ]
    },
    {
     "name": "stderr",
     "output_type": "stream",
     "text": [
      "[I 2019-12-29 10:53:23,667] Finished trial#57 resulted in value: 0.29696916494446757. Current best value is 0.28271177962476723 with parameters: {'x0': 1.488160587323345, 'x1': 0.6441526806045386, 'x2': 2.185362346468667}.\n"
     ]
    },
    {
     "name": "stdout",
     "output_type": "stream",
     "text": [
      "0.5567347605364636\n"
     ]
    },
    {
     "name": "stderr",
     "output_type": "stream",
     "text": [
      "[I 2019-12-29 10:53:23,802] Finished trial#58 resulted in value: 0.44326523946353635. Current best value is 0.28271177962476723 with parameters: {'x0': 1.488160587323345, 'x1': 0.6441526806045386, 'x2': 2.185362346468667}.\n"
     ]
    },
    {
     "name": "stdout",
     "output_type": "stream",
     "text": [
      "0.6426220395425264\n"
     ]
    },
    {
     "name": "stderr",
     "output_type": "stream",
     "text": [
      "[I 2019-12-29 10:53:23,973] Finished trial#59 resulted in value: 0.3573779604574736. Current best value is 0.28271177962476723 with parameters: {'x0': 1.488160587323345, 'x1': 0.6441526806045386, 'x2': 2.185362346468667}.\n"
     ]
    },
    {
     "name": "stdout",
     "output_type": "stream",
     "text": [
      "0.7304278374141027\n"
     ]
    },
    {
     "name": "stderr",
     "output_type": "stream",
     "text": [
      "[I 2019-12-29 10:53:24,092] Finished trial#60 resulted in value: 0.26957216258589733. Current best value is 0.26957216258589733 with parameters: {'x0': 1.2248029232540696, 'x1': 1.6299300956428229, 'x2': 2.165839890948628}.\n"
     ]
    },
    {
     "name": "stdout",
     "output_type": "stream",
     "text": [
      "0.7251938321810524\n"
     ]
    },
    {
     "name": "stderr",
     "output_type": "stream",
     "text": [
      "[I 2019-12-29 10:53:24,212] Finished trial#61 resulted in value: 0.2748061678189476. Current best value is 0.26957216258589733 with parameters: {'x0': 1.2248029232540696, 'x1': 1.6299300956428229, 'x2': 2.165839890948628}.\n"
     ]
    },
    {
     "name": "stdout",
     "output_type": "stream",
     "text": [
      "0.722458900043384\n"
     ]
    },
    {
     "name": "stderr",
     "output_type": "stream",
     "text": [
      "[I 2019-12-29 10:53:24,337] Finished trial#62 resulted in value: 0.277541099956616. Current best value is 0.26957216258589733 with parameters: {'x0': 1.2248029232540696, 'x1': 1.6299300956428229, 'x2': 2.165839890948628}.\n"
     ]
    },
    {
     "name": "stdout",
     "output_type": "stream",
     "text": [
      "0.7297050979119888\n"
     ]
    },
    {
     "name": "stderr",
     "output_type": "stream",
     "text": [
      "[I 2019-12-29 10:53:24,474] Finished trial#63 resulted in value: 0.2702949020880112. Current best value is 0.26957216258589733 with parameters: {'x0': 1.2248029232540696, 'x1': 1.6299300956428229, 'x2': 2.165839890948628}.\n"
     ]
    },
    {
     "name": "stdout",
     "output_type": "stream",
     "text": [
      "0.6502506762364524\n"
     ]
    },
    {
     "name": "stderr",
     "output_type": "stream",
     "text": [
      "[I 2019-12-29 10:53:24,608] Finished trial#64 resulted in value: 0.3497493237635476. Current best value is 0.26957216258589733 with parameters: {'x0': 1.2248029232540696, 'x1': 1.6299300956428229, 'x2': 2.165839890948628}.\n"
     ]
    },
    {
     "name": "stdout",
     "output_type": "stream",
     "text": [
      "0.6779242228898443\n"
     ]
    },
    {
     "name": "stderr",
     "output_type": "stream",
     "text": [
      "[I 2019-12-29 10:53:24,738] Finished trial#65 resulted in value: 0.32207577711015567. Current best value is 0.26957216258589733 with parameters: {'x0': 1.2248029232540696, 'x1': 1.6299300956428229, 'x2': 2.165839890948628}.\n"
     ]
    },
    {
     "name": "stdout",
     "output_type": "stream",
     "text": [
      "0.6394779711389371\n"
     ]
    },
    {
     "name": "stderr",
     "output_type": "stream",
     "text": [
      "[I 2019-12-29 10:53:24,888] Finished trial#66 resulted in value: 0.3605220288610629. Current best value is 0.26957216258589733 with parameters: {'x0': 1.2248029232540696, 'x1': 1.6299300956428229, 'x2': 2.165839890948628}.\n"
     ]
    },
    {
     "name": "stdout",
     "output_type": "stream",
     "text": [
      "0.7148587690183466\n"
     ]
    },
    {
     "name": "stderr",
     "output_type": "stream",
     "text": [
      "[I 2019-12-29 10:53:25,010] Finished trial#67 resulted in value: 0.28514123098165345. Current best value is 0.26957216258589733 with parameters: {'x0': 1.2248029232540696, 'x1': 1.6299300956428229, 'x2': 2.165839890948628}.\n"
     ]
    },
    {
     "name": "stdout",
     "output_type": "stream",
     "text": [
      "0.564407293638121\n"
     ]
    },
    {
     "name": "stderr",
     "output_type": "stream",
     "text": [
      "[I 2019-12-29 10:53:25,135] Finished trial#68 resulted in value: 0.43559270636187897. Current best value is 0.26957216258589733 with parameters: {'x0': 1.2248029232540696, 'x1': 1.6299300956428229, 'x2': 2.165839890948628}.\n"
     ]
    },
    {
     "name": "stdout",
     "output_type": "stream",
     "text": [
      "0.715643994087643\n"
     ]
    },
    {
     "name": "stderr",
     "output_type": "stream",
     "text": [
      "[I 2019-12-29 10:53:25,257] Finished trial#69 resulted in value: 0.284356005912357. Current best value is 0.26957216258589733 with parameters: {'x0': 1.2248029232540696, 'x1': 1.6299300956428229, 'x2': 2.165839890948628}.\n"
     ]
    },
    {
     "name": "stdout",
     "output_type": "stream",
     "text": [
      "0.6221361563727247\n"
     ]
    },
    {
     "name": "stderr",
     "output_type": "stream",
     "text": [
      "[I 2019-12-29 10:53:25,375] Finished trial#70 resulted in value: 0.3778638436272753. Current best value is 0.26957216258589733 with parameters: {'x0': 1.2248029232540696, 'x1': 1.6299300956428229, 'x2': 2.165839890948628}.\n"
     ]
    },
    {
     "name": "stdout",
     "output_type": "stream",
     "text": [
      "0.7147256423323098\n"
     ]
    },
    {
     "name": "stderr",
     "output_type": "stream",
     "text": [
      "[I 2019-12-29 10:53:25,502] Finished trial#71 resulted in value: 0.28527435766769016. Current best value is 0.26957216258589733 with parameters: {'x0': 1.2248029232540696, 'x1': 1.6299300956428229, 'x2': 2.165839890948628}.\n"
     ]
    },
    {
     "name": "stdout",
     "output_type": "stream",
     "text": [
      "0.7131707413283743\n"
     ]
    },
    {
     "name": "stderr",
     "output_type": "stream",
     "text": [
      "[I 2019-12-29 10:53:25,634] Finished trial#72 resulted in value: 0.2868292586716257. Current best value is 0.26957216258589733 with parameters: {'x0': 1.2248029232540696, 'x1': 1.6299300956428229, 'x2': 2.165839890948628}.\n"
     ]
    },
    {
     "name": "stdout",
     "output_type": "stream",
     "text": [
      "0.5342494673452673\n"
     ]
    },
    {
     "name": "stderr",
     "output_type": "stream",
     "text": [
      "[I 2019-12-29 10:53:25,780] Finished trial#73 resulted in value: 0.46575053265473265. Current best value is 0.26957216258589733 with parameters: {'x0': 1.2248029232540696, 'x1': 1.6299300956428229, 'x2': 2.165839890948628}.\n"
     ]
    },
    {
     "name": "stdout",
     "output_type": "stream",
     "text": [
      "0.7096141986841114\n"
     ]
    },
    {
     "name": "stderr",
     "output_type": "stream",
     "text": [
      "[I 2019-12-29 10:53:25,935] Finished trial#74 resulted in value: 0.29038580131588865. Current best value is 0.26957216258589733 with parameters: {'x0': 1.2248029232540696, 'x1': 1.6299300956428229, 'x2': 2.165839890948628}.\n"
     ]
    },
    {
     "name": "stdout",
     "output_type": "stream",
     "text": [
      "0.6713347162103804\n"
     ]
    },
    {
     "name": "stderr",
     "output_type": "stream",
     "text": [
      "[I 2019-12-29 10:53:26,074] Finished trial#75 resulted in value: 0.32866528378961957. Current best value is 0.26957216258589733 with parameters: {'x0': 1.2248029232540696, 'x1': 1.6299300956428229, 'x2': 2.165839890948628}.\n"
     ]
    },
    {
     "name": "stdout",
     "output_type": "stream",
     "text": [
      "0.7186863749826378\n"
     ]
    },
    {
     "name": "stderr",
     "output_type": "stream",
     "text": [
      "[I 2019-12-29 10:53:26,212] Finished trial#76 resulted in value: 0.28131362501736223. Current best value is 0.26957216258589733 with parameters: {'x0': 1.2248029232540696, 'x1': 1.6299300956428229, 'x2': 2.165839890948628}.\n"
     ]
    },
    {
     "name": "stdout",
     "output_type": "stream",
     "text": [
      "0.7089860768181337\n"
     ]
    },
    {
     "name": "stderr",
     "output_type": "stream",
     "text": [
      "[I 2019-12-29 10:53:26,352] Finished trial#77 resulted in value: 0.29101392318186625. Current best value is 0.26957216258589733 with parameters: {'x0': 1.2248029232540696, 'x1': 1.6299300956428229, 'x2': 2.165839890948628}.\n"
     ]
    },
    {
     "name": "stdout",
     "output_type": "stream",
     "text": [
      "0.7155410266444123\n"
     ]
    },
    {
     "name": "stderr",
     "output_type": "stream",
     "text": [
      "[I 2019-12-29 10:53:26,490] Finished trial#78 resulted in value: 0.2844589733555877. Current best value is 0.26957216258589733 with parameters: {'x0': 1.2248029232540696, 'x1': 1.6299300956428229, 'x2': 2.165839890948628}.\n"
     ]
    },
    {
     "name": "stdout",
     "output_type": "stream",
     "text": [
      "0.6995620740047155\n"
     ]
    },
    {
     "name": "stderr",
     "output_type": "stream",
     "text": [
      "[I 2019-12-29 10:53:26,631] Finished trial#79 resulted in value: 0.3004379259952845. Current best value is 0.26957216258589733 with parameters: {'x0': 1.2248029232540696, 'x1': 1.6299300956428229, 'x2': 2.165839890948628}.\n"
     ]
    },
    {
     "name": "stdout",
     "output_type": "stream",
     "text": [
      "0.695177235777301\n"
     ]
    },
    {
     "name": "stderr",
     "output_type": "stream",
     "text": [
      "[I 2019-12-29 10:53:26,768] Finished trial#80 resulted in value: 0.30482276422269905. Current best value is 0.26957216258589733 with parameters: {'x0': 1.2248029232540696, 'x1': 1.6299300956428229, 'x2': 2.165839890948628}.\n"
     ]
    },
    {
     "name": "stdout",
     "output_type": "stream",
     "text": [
      "0.7127997509238604\n"
     ]
    },
    {
     "name": "stderr",
     "output_type": "stream",
     "text": [
      "[I 2019-12-29 10:53:26,907] Finished trial#81 resulted in value: 0.2872002490761396. Current best value is 0.26957216258589733 with parameters: {'x0': 1.2248029232540696, 'x1': 1.6299300956428229, 'x2': 2.165839890948628}.\n"
     ]
    },
    {
     "name": "stdout",
     "output_type": "stream",
     "text": [
      "0.717615074242246\n"
     ]
    },
    {
     "name": "stderr",
     "output_type": "stream",
     "text": [
      "[I 2019-12-29 10:53:27,050] Finished trial#82 resulted in value: 0.282384925757754. Current best value is 0.26957216258589733 with parameters: {'x0': 1.2248029232540696, 'x1': 1.6299300956428229, 'x2': 2.165839890948628}.\n"
     ]
    },
    {
     "name": "stdout",
     "output_type": "stream",
     "text": [
      "0.7187827150922496\n"
     ]
    },
    {
     "name": "stderr",
     "output_type": "stream",
     "text": [
      "[I 2019-12-29 10:53:27,187] Finished trial#83 resulted in value: 0.28121728490775044. Current best value is 0.26957216258589733 with parameters: {'x0': 1.2248029232540696, 'x1': 1.6299300956428229, 'x2': 2.165839890948628}.\n"
     ]
    },
    {
     "name": "stdout",
     "output_type": "stream",
     "text": [
      "0.6641346087496156\n"
     ]
    },
    {
     "name": "stderr",
     "output_type": "stream",
     "text": [
      "[I 2019-12-29 10:53:27,322] Finished trial#84 resulted in value: 0.3358653912503844. Current best value is 0.26957216258589733 with parameters: {'x0': 1.2248029232540696, 'x1': 1.6299300956428229, 'x2': 2.165839890948628}.\n"
     ]
    },
    {
     "name": "stdout",
     "output_type": "stream",
     "text": [
      "0.5863913949247328\n"
     ]
    },
    {
     "name": "stderr",
     "output_type": "stream",
     "text": [
      "[I 2019-12-29 10:53:27,458] Finished trial#85 resulted in value: 0.4136086050752672. Current best value is 0.26957216258589733 with parameters: {'x0': 1.2248029232540696, 'x1': 1.6299300956428229, 'x2': 2.165839890948628}.\n"
     ]
    },
    {
     "name": "stdout",
     "output_type": "stream",
     "text": [
      "0.7127892691951249\n"
     ]
    },
    {
     "name": "stderr",
     "output_type": "stream",
     "text": [
      "[I 2019-12-29 10:53:27,590] Finished trial#86 resulted in value: 0.28721073080487514. Current best value is 0.26957216258589733 with parameters: {'x0': 1.2248029232540696, 'x1': 1.6299300956428229, 'x2': 2.165839890948628}.\n"
     ]
    },
    {
     "name": "stdout",
     "output_type": "stream",
     "text": [
      "0.6215158513611484\n"
     ]
    },
    {
     "name": "stderr",
     "output_type": "stream",
     "text": [
      "[I 2019-12-29 10:53:27,721] Finished trial#87 resulted in value: 0.3784841486388516. Current best value is 0.26957216258589733 with parameters: {'x0': 1.2248029232540696, 'x1': 1.6299300956428229, 'x2': 2.165839890948628}.\n"
     ]
    },
    {
     "name": "stdout",
     "output_type": "stream",
     "text": [
      "0.4899422574905231\n"
     ]
    },
    {
     "name": "stderr",
     "output_type": "stream",
     "text": [
      "[I 2019-12-29 10:53:27,852] Finished trial#88 resulted in value: 0.5100577425094769. Current best value is 0.26957216258589733 with parameters: {'x0': 1.2248029232540696, 'x1': 1.6299300956428229, 'x2': 2.165839890948628}.\n"
     ]
    },
    {
     "name": "stdout",
     "output_type": "stream",
     "text": [
      "0.7187471739213285\n"
     ]
    },
    {
     "name": "stderr",
     "output_type": "stream",
     "text": [
      "[I 2019-12-29 10:53:27,983] Finished trial#89 resulted in value: 0.2812528260786715. Current best value is 0.26957216258589733 with parameters: {'x0': 1.2248029232540696, 'x1': 1.6299300956428229, 'x2': 2.165839890948628}.\n"
     ]
    },
    {
     "name": "stdout",
     "output_type": "stream",
     "text": [
      "0.6870206323380108\n"
     ]
    },
    {
     "name": "stderr",
     "output_type": "stream",
     "text": [
      "[I 2019-12-29 10:53:28,116] Finished trial#90 resulted in value: 0.3129793676619892. Current best value is 0.26957216258589733 with parameters: {'x0': 1.2248029232540696, 'x1': 1.6299300956428229, 'x2': 2.165839890948628}.\n"
     ]
    },
    {
     "name": "stdout",
     "output_type": "stream",
     "text": [
      "0.7246085759581892\n"
     ]
    },
    {
     "name": "stderr",
     "output_type": "stream",
     "text": [
      "[I 2019-12-29 10:53:28,251] Finished trial#91 resulted in value: 0.27539142404181083. Current best value is 0.26957216258589733 with parameters: {'x0': 1.2248029232540696, 'x1': 1.6299300956428229, 'x2': 2.165839890948628}.\n"
     ]
    },
    {
     "name": "stdout",
     "output_type": "stream",
     "text": [
      "0.724734706183328\n"
     ]
    },
    {
     "name": "stderr",
     "output_type": "stream",
     "text": [
      "[I 2019-12-29 10:53:28,385] Finished trial#92 resulted in value: 0.275265293816672. Current best value is 0.26957216258589733 with parameters: {'x0': 1.2248029232540696, 'x1': 1.6299300956428229, 'x2': 2.165839890948628}.\n"
     ]
    },
    {
     "name": "stdout",
     "output_type": "stream",
     "text": [
      "0.7301265329558014\n"
     ]
    },
    {
     "name": "stderr",
     "output_type": "stream",
     "text": [
      "[I 2019-12-29 10:53:28,519] Finished trial#93 resulted in value: 0.26987346704419857. Current best value is 0.26957216258589733 with parameters: {'x0': 1.2248029232540696, 'x1': 1.6299300956428229, 'x2': 2.165839890948628}.\n"
     ]
    },
    {
     "name": "stdout",
     "output_type": "stream",
     "text": [
      "0.7071088224253256\n"
     ]
    },
    {
     "name": "stderr",
     "output_type": "stream",
     "text": [
      "[I 2019-12-29 10:53:28,655] Finished trial#94 resulted in value: 0.2928911775746744. Current best value is 0.26957216258589733 with parameters: {'x0': 1.2248029232540696, 'x1': 1.6299300956428229, 'x2': 2.165839890948628}.\n"
     ]
    },
    {
     "name": "stdout",
     "output_type": "stream",
     "text": [
      "0.6923358211247602\n"
     ]
    },
    {
     "name": "stderr",
     "output_type": "stream",
     "text": [
      "[I 2019-12-29 10:53:28,788] Finished trial#95 resulted in value: 0.3076641788752398. Current best value is 0.26957216258589733 with parameters: {'x0': 1.2248029232540696, 'x1': 1.6299300956428229, 'x2': 2.165839890948628}.\n"
     ]
    },
    {
     "name": "stdout",
     "output_type": "stream",
     "text": [
      "0.7172478413520138\n"
     ]
    },
    {
     "name": "stderr",
     "output_type": "stream",
     "text": [
      "[I 2019-12-29 10:53:28,921] Finished trial#96 resulted in value: 0.2827521586479862. Current best value is 0.26957216258589733 with parameters: {'x0': 1.2248029232540696, 'x1': 1.6299300956428229, 'x2': 2.165839890948628}.\n"
     ]
    },
    {
     "name": "stdout",
     "output_type": "stream",
     "text": [
      "0.6563523203219206\n"
     ]
    },
    {
     "name": "stderr",
     "output_type": "stream",
     "text": [
      "[I 2019-12-29 10:53:29,055] Finished trial#97 resulted in value: 0.3436476796780794. Current best value is 0.26957216258589733 with parameters: {'x0': 1.2248029232540696, 'x1': 1.6299300956428229, 'x2': 2.165839890948628}.\n"
     ]
    },
    {
     "name": "stdout",
     "output_type": "stream",
     "text": [
      "0.6828767603078132\n"
     ]
    },
    {
     "name": "stderr",
     "output_type": "stream",
     "text": [
      "[I 2019-12-29 10:53:29,187] Finished trial#98 resulted in value: 0.3171232396921868. Current best value is 0.26957216258589733 with parameters: {'x0': 1.2248029232540696, 'x1': 1.6299300956428229, 'x2': 2.165839890948628}.\n"
     ]
    },
    {
     "name": "stdout",
     "output_type": "stream",
     "text": [
      "0.7228748703496637\n"
     ]
    },
    {
     "name": "stderr",
     "output_type": "stream",
     "text": [
      "[I 2019-12-29 10:53:29,321] Finished trial#99 resulted in value: 0.2771251296503363. Current best value is 0.26957216258589733 with parameters: {'x0': 1.2248029232540696, 'x1': 1.6299300956428229, 'x2': 2.165839890948628}.\n"
     ]
    }
   ],
   "source": [
    "\n",
    "def tres(pred, t):\n",
    "    pred1 = deepcopy(pred)\n",
    "    pred1[pred1 >= t[2]] = 3\n",
    "    pred1[pred1 < t[0]] = 0\n",
    "    pred1[(pred1>= t[0])&(pred1 < t[1])] = 1\n",
    "    pred1[(pred1>= t[1])&(pred1 < t[2])] = 2\n",
    "    return pred1\n",
    "\n",
    "def objective(trial, pred = clf.predict(X_train), y_test = y_train):\n",
    "    x0 = trial.suggest_uniform('x0', pred.min(), pred.max())\n",
    "    x1 = trial.suggest_uniform('x1', pred.min(),  pred.max())\n",
    "    x2 = trial.suggest_uniform('x2', pred.min(),  pred.max())\n",
    "\n",
    "    t = [x0, x1, x2]\n",
    "    pred1 = tres(pred, t)\n",
    "    a = cohen_kappa_score(y_test, pred1, weights = 'quadratic')\n",
    "    print(a)\n",
    "    return 1-a\n",
    "\n",
    "study = optuna.create_study()\n",
    "study.optimize(objective, n_trials=100)"
   ]
  },
  {
   "cell_type": "code",
   "execution_count": 19,
   "metadata": {},
   "outputs": [
    {
     "name": "stdout",
     "output_type": "stream",
     "text": [
      "0.5981532503812663\n"
     ]
    }
   ],
   "source": [
    "t = list(study.best_params.values())\n",
    "pred = clf.predict(X_test)\n",
    "pred1 = tres(pred, t)\n",
    "\n",
    "\n",
    "\n",
    "print(cohen_kappa_score(y_test, pred1, weights = 'quadratic'))"
   ]
  },
  {
   "cell_type": "code",
   "execution_count": null,
   "metadata": {},
   "outputs": [],
   "source": [
    "percent"
   ]
  },
  {
   "cell_type": "code",
   "execution_count": null,
   "metadata": {},
   "outputs": [],
   "source": []
  },
  {
   "cell_type": "code",
   "execution_count": null,
   "metadata": {},
   "outputs": [],
   "source": [
    "t"
   ]
  },
  {
   "cell_type": "code",
   "execution_count": null,
   "metadata": {},
   "outputs": [],
   "source": [
    "tres(np.array([1.27]),t)"
   ]
  },
  {
   "cell_type": "code",
   "execution_count": null,
   "metadata": {},
   "outputs": [],
   "source": [
    "plt.hist(pred1)"
   ]
  },
  {
   "cell_type": "code",
   "execution_count": null,
   "metadata": {},
   "outputs": [],
   "source": [
    "plt.hist(tres(clf.predict(X_train), t))"
   ]
  },
  {
   "cell_type": "code",
   "execution_count": null,
   "metadata": {},
   "outputs": [],
   "source": [
    "y_val[1766]"
   ]
  },
  {
   "cell_type": "code",
   "execution_count": null,
   "metadata": {},
   "outputs": [],
   "source": [
    "np.argsort(y_val)"
   ]
  },
  {
   "cell_type": "code",
   "execution_count": null,
   "metadata": {},
   "outputs": [],
   "source": [
    "percent"
   ]
  },
  {
   "cell_type": "code",
   "execution_count": null,
   "metadata": {},
   "outputs": [],
   "source": [
    "plt.hist(y_train[X_train['pred_title'] == 14])"
   ]
  },
  {
   "cell_type": "code",
   "execution_count": null,
   "metadata": {},
   "outputs": [],
   "source": [
    "plt.hist(y_test)"
   ]
  },
  {
   "cell_type": "code",
   "execution_count": null,
   "metadata": {},
   "outputs": [],
   "source": [
    "plt.hist(pred1)"
   ]
  },
  {
   "cell_type": "code",
   "execution_count": null,
   "metadata": {},
   "outputs": [],
   "source": [
    "from sklearn.metrics import confusion_matrix\n",
    "confusion_matrix(y_test, pred1)"
   ]
  },
  {
   "cell_type": "code",
   "execution_count": null,
   "metadata": {},
   "outputs": [],
   "source": [
    "pred"
   ]
  },
  {
   "cell_type": "code",
   "execution_count": null,
   "metadata": {},
   "outputs": [],
   "source": [
    "y_test"
   ]
  },
  {
   "cell_type": "code",
   "execution_count": null,
   "metadata": {},
   "outputs": [],
   "source": [
    "dataset['Games_accuracy'].value_counts()"
   ]
  },
  {
   "cell_type": "code",
   "execution_count": null,
   "metadata": {},
   "outputs": [],
   "source": [
    "plt.rcParams[\"figure.figsize\"] = (25,10)\n",
    "ind0 = 0\n",
    "ind1 = 100\n",
    "plt.plot(X.columns[ind0:ind1], clf.feature_importances_[ind0:ind1])\n",
    "plt.xticks(X.columns[ind0:ind1], X.columns[ind0:ind1], rotation = 'vertical')\n",
    "plt.savefig('features.png')\n"
   ]
  },
  {
   "cell_type": "code",
   "execution_count": null,
   "metadata": {},
   "outputs": [],
   "source": [
    "dir(clf)"
   ]
  },
  {
   "cell_type": "code",
   "execution_count": null,
   "metadata": {},
   "outputs": [],
   "source": [
    "# l = []\n",
    "# for i in range(len(clf.feature_names_)):\n",
    "#     l.append([clf.feature_importances_[i], clf.feature_names_[i]])\n",
    "\n",
    "l = []\n",
    "for i in range(len(X.columns)):\n",
    "    l.append([clf.feature_importances_[i], X.columns[i]])\n"
   ]
  },
  {
   "cell_type": "code",
   "execution_count": null,
   "metadata": {},
   "outputs": [],
   "source": [
    "l.sort(reverse = True)"
   ]
  },
  {
   "cell_type": "code",
   "execution_count": null,
   "metadata": {},
   "outputs": [],
   "source": [
    "l = np.array(l)"
   ]
  },
  {
   "cell_type": "code",
   "execution_count": null,
   "metadata": {},
   "outputs": [],
   "source": [
    "list(l)"
   ]
  },
  {
   "cell_type": "code",
   "execution_count": null,
   "metadata": {},
   "outputs": [],
   "source": [
    "l[:,0].astype('float64').sum()"
   ]
  },
  {
   "cell_type": "code",
   "execution_count": null,
   "metadata": {},
   "outputs": [],
   "source": [
    "p = 0.1\n",
    "feats_to_keep = l[l[:,0].astype('float64') > p,1]\n",
    "l[l[:,0].astype('float64') > p,0].astype('float64').sum()"
   ]
  },
  {
   "cell_type": "code",
   "execution_count": null,
   "metadata": {},
   "outputs": [],
   "source": [
    "feats_to_keep.shape"
   ]
  },
  {
   "cell_type": "markdown",
   "metadata": {},
   "source": [
    "## Test "
   ]
  },
  {
   "cell_type": "code",
   "execution_count": 21,
   "metadata": {},
   "outputs": [],
   "source": [
    "ids, game_inst = load('test_labels')\n",
    "df_data = load('new test dataset')\n",
    "# df_data = ajusted_test\n",
    "df_data = df_data.replace({'pred_title': dtitle})\n",
    "df_data =df_data.fillna(-1)\n",
    "df_data = df_data[feats]"
   ]
  },
  {
   "cell_type": "code",
   "execution_count": 22,
   "metadata": {},
   "outputs": [],
   "source": [
    "X1 = pd.get_dummies(df_data, columns=[\"pred_title\"], prefix=[\"title\"])\n",
    "df_data['title_14'] = X1['title_14']\n",
    "df_data['title_27'] = X1['title_27']\n",
    "df_data['title_28'] = X1['title_28']\n",
    "df_data['title_36'] = X1['title_36']\n",
    "df_data['title_24'] = X1['title_24']"
   ]
  },
  {
   "cell_type": "code",
   "execution_count": 37,
   "metadata": {},
   "outputs": [],
   "source": [
    "pred = clf.predict(df_data)\n",
    "# pred = pred.reshape((pred.shape[0])).astype(int)"
   ]
  },
  {
   "cell_type": "code",
   "execution_count": 25,
   "metadata": {},
   "outputs": [
    {
     "data": {
      "text/plain": [
       "array([ 1.68624023e+00,  1.95655742e+00,  5.56662244e-01,  6.49702610e-01,\n",
       "        7.60110225e-01,  2.29448098e+00,  2.60818474e+00,  2.34530625e+00,\n",
       "        2.44988724e+00,  1.98656086e+00,  2.16997373e+00,  6.25311336e-01,\n",
       "        1.29491526e+00,  1.41083964e+00,  5.46084456e-01,  2.96148476e-01,\n",
       "        2.40982560e+00,  2.51245144e+00,  1.50630982e+00,  2.62413140e+00,\n",
       "        1.99621156e+00,  2.35968590e+00,  2.38784885e+00,  1.53306591e+00,\n",
       "        1.50343034e+00,  2.14380250e+00,  2.66985054e+00,  2.27314830e+00,\n",
       "        2.38644841e+00,  1.39914774e+00,  6.64503802e-01,  2.21900616e+00,\n",
       "        2.32925251e+00,  1.49095056e+00,  2.30377202e+00,  2.53644005e+00,\n",
       "        1.04091690e+00,  2.59606175e+00,  2.60355767e+00,  2.52375940e+00,\n",
       "        2.47871373e+00,  2.14380250e+00,  2.20089985e+00,  2.95942792e-01,\n",
       "        2.61152990e+00,  7.25171707e-01,  2.65166529e+00,  2.42882931e+00,\n",
       "        2.87875123e+00,  5.04142809e-01,  2.34597059e+00,  2.24015324e+00,\n",
       "        2.05005523e+00,  1.97897616e+00,  2.67675852e+00,  2.52034227e+00,\n",
       "        1.50857701e+00,  2.61120206e+00,  2.30468059e+00,  2.69368390e+00,\n",
       "        2.66296931e+00,  1.80830174e+00,  2.21770679e+00,  2.55805785e+00,\n",
       "        1.06770905e+00,  2.59102605e+00,  2.30443378e+00,  1.91219441e+00,\n",
       "        2.67974340e+00,  2.36573149e+00,  2.14853476e+00,  2.31495947e+00,\n",
       "        2.22388710e+00,  1.44599185e+00,  2.76343221e+00,  2.67112466e+00,\n",
       "        2.16054784e+00,  2.17263550e+00,  1.77776009e-01,  2.52574085e+00,\n",
       "        1.92923857e+00,  1.30169341e+00,  2.41991931e+00,  2.61052872e+00,\n",
       "        2.41785866e+00,  2.59773196e+00,  2.57280165e+00,  2.74592673e+00,\n",
       "        2.77902843e+00,  1.81902215e+00,  3.50839643e-01,  2.79558716e+00,\n",
       "        2.51304899e+00,  2.69715576e+00,  2.62531041e+00,  2.14930639e+00,\n",
       "        2.67121216e+00,  1.71580364e+00,  2.42526936e+00,  2.36040917e+00,\n",
       "        2.22866048e+00,  7.99794050e-01,  2.27808541e+00,  2.43078759e+00,\n",
       "        2.08595600e+00,  2.65999647e+00,  1.54024796e+00,  1.47146857e+00,\n",
       "        2.37407063e+00,  1.52235923e+00,  2.55104983e+00,  2.62062815e+00,\n",
       "        2.41476958e+00,  1.58533553e+00,  1.90172688e+00,  2.64120174e+00,\n",
       "        1.57572767e+00,  2.72828291e+00,  2.68756157e+00,  2.30086776e+00,\n",
       "        2.46159712e+00,  2.51930949e+00,  2.37414843e+00,  1.90963553e+00,\n",
       "        2.40304193e+00,  2.57391647e+00,  2.12047889e+00,  2.56754995e+00,\n",
       "        1.48247242e+00,  1.91173572e+00,  1.07643078e+00,  1.76308575e+00,\n",
       "        6.31341310e-01,  2.01777061e+00,  2.18451246e+00,  2.67871909e+00,\n",
       "        2.72039668e+00,  1.93680913e+00,  5.88452955e-01,  1.39115524e+00,\n",
       "        1.99307141e+00,  2.48549631e+00,  1.91828741e+00,  2.68120356e+00,\n",
       "        2.38364446e+00,  2.08046760e+00,  1.63693175e+00,  1.23816695e+00,\n",
       "        2.21777089e+00,  1.90052569e+00,  2.39969810e+00,  2.43975485e+00,\n",
       "        5.78231643e-01,  4.77063336e-01,  1.60244835e+00,  6.81552739e-01,\n",
       "        2.80845667e+00,  3.90941326e-01,  7.13190726e-02,  2.49560326e+00,\n",
       "        1.30760422e+00,  1.79182385e+00,  1.80939308e+00,  1.23513381e+00,\n",
       "        1.91569769e+00,  2.27934801e+00,  1.71875501e+00,  2.53148330e+00,\n",
       "        3.33466048e-01,  2.30644170e+00,  2.27280265e+00,  1.89708280e+00,\n",
       "        1.09575921e+00,  9.39067387e-01,  2.62389676e+00,  2.26888846e+00,\n",
       "        2.71488605e+00,  2.48304451e+00,  2.42222070e+00,  1.75359500e+00,\n",
       "        2.63048271e+00,  2.12156521e+00,  2.60263418e+00,  2.08852190e+00,\n",
       "        2.30377202e+00,  1.48526369e+00,  2.32787702e+00,  2.30588853e+00,\n",
       "        2.81286260e+00,  2.69500205e+00,  6.72435022e-01,  2.49145420e+00,\n",
       "        2.47550903e+00,  2.14380250e+00,  4.52087779e-01,  2.12047589e+00,\n",
       "        5.94759969e-01,  1.98913435e+00,  2.33238685e+00,  2.35832729e+00,\n",
       "        2.09728617e+00,  2.25089300e+00,  1.69199304e+00,  1.77693421e+00,\n",
       "        1.16614506e+00,  2.98622433e+00,  2.32960940e+00,  6.22772369e-01,\n",
       "        2.29803258e+00,  6.73097946e-01,  1.08721333e+00,  5.77587435e-01,\n",
       "        2.32559273e+00,  2.17720611e+00,  2.48367048e+00,  2.51599877e+00,\n",
       "        2.29458902e+00,  1.36886459e+00,  2.61149660e+00,  6.50564428e-01,\n",
       "        2.25834863e+00,  2.08870620e+00,  8.62577959e-01,  2.47728511e+00,\n",
       "        2.67098618e+00,  2.49159603e+00,  1.45190554e+00,  2.20033620e+00,\n",
       "        1.81878749e+00,  2.25653986e+00,  1.17942246e-01,  2.24316780e+00,\n",
       "        2.73299507e+00,  2.56836131e+00,  9.24883335e-01,  2.40489559e+00,\n",
       "        2.17974330e+00,  2.70599794e+00,  4.65875761e-01,  2.21302229e+00,\n",
       "        2.76397529e+00,  1.89880510e+00,  2.10527849e+00,  2.14380250e+00,\n",
       "        2.14754019e+00,  1.03587284e+00,  2.27502642e+00,  1.80630860e+00,\n",
       "        1.90928848e+00,  2.66298820e+00,  3.13472688e-01,  8.82685110e-01,\n",
       "        2.46438927e+00,  2.58297278e+00,  2.47422306e-01,  2.08884341e+00,\n",
       "        2.66415873e+00,  2.45113741e-01,  2.44306918e+00,  2.58787573e+00,\n",
       "        1.83542042e+00,  2.06599755e+00,  2.55629451e+00,  1.04767112e+00,\n",
       "        2.85421210e+00,  2.53484614e+00,  1.07800682e+00,  2.52787489e+00,\n",
       "        1.93658555e+00,  2.18683877e+00,  3.76304707e-01,  2.09399105e+00,\n",
       "        2.59901927e+00,  1.97328715e+00,  2.16966617e+00,  1.44741931e+00,\n",
       "        2.59364982e+00,  2.41352273e+00,  1.39049885e+00,  2.56771158e+00,\n",
       "        2.61399580e+00,  2.45570058e+00,  1.70702743e+00,  9.48106167e-01,\n",
       "        2.43881359e+00,  2.49766757e+00,  2.68280055e+00,  2.33251324e+00,\n",
       "        9.50912927e-01,  1.99985043e+00,  2.24403762e+00,  2.71131593e+00,\n",
       "        2.64273555e+00,  6.35684423e-01,  5.97859579e-01,  1.18586322e+00,\n",
       "        8.62577959e-01,  9.84095157e-01,  2.02549415e+00,  2.67439586e+00,\n",
       "        8.18277506e-01,  1.04894243e+00,  2.20222590e+00,  2.23661132e+00,\n",
       "        2.66340699e+00,  2.53716351e+00,  2.82912677e+00,  2.22052150e+00,\n",
       "        1.07502724e+00,  1.96897427e+00,  2.06885007e+00,  2.61807504e+00,\n",
       "        2.39880132e+00,  8.19077615e-01,  9.59916430e-01,  2.47078400e+00,\n",
       "        2.46467085e+00,  2.60070867e+00,  2.16868310e+00,  2.27446682e+00,\n",
       "        2.40158000e+00,  1.39565166e+00,  2.24700150e+00,  1.85690394e+00,\n",
       "        2.43457651e+00,  1.74511047e+00,  1.20906234e+00,  1.97661094e+00,\n",
       "        2.65898071e+00,  2.37222318e+00,  2.23259015e+00,  1.19869490e+00,\n",
       "        2.08127306e+00,  2.18299348e+00,  9.49275600e-01,  2.41951941e+00,\n",
       "        2.45136787e+00,  1.88062048e+00,  1.32141031e+00,  2.49090356e+00,\n",
       "        1.94400216e+00,  2.42055917e+00,  1.54651760e+00,  1.72424713e+00,\n",
       "        2.29520717e-01,  2.51360833e+00,  2.27690921e+00,  1.26152832e+00,\n",
       "        2.01833571e+00,  2.14380250e+00,  2.41069774e+00,  1.55543466e+00,\n",
       "        1.52232344e+00,  2.04467152e+00,  2.63840909e+00,  2.19019874e+00,\n",
       "        1.94411418e+00,  7.41313633e-01,  4.82088408e-01,  2.67092341e+00,\n",
       "        1.54685915e+00,  2.52649090e+00,  4.44939425e-01,  1.58346138e+00,\n",
       "        5.93678171e-01,  2.61283935e+00,  7.90282231e-01,  2.22866048e+00,\n",
       "        1.44599185e+00,  7.23310631e-01,  1.87023710e+00,  1.56938815e+00,\n",
       "        2.21598032e+00,  2.28835002e+00,  1.02193298e+00,  1.84388346e+00,\n",
       "        2.41566056e+00,  1.47539087e+00,  1.15351698e+00,  1.91040470e+00,\n",
       "        2.57157993e+00,  2.25272163e+00,  2.48190646e+00,  2.40230965e+00,\n",
       "        2.38861744e+00,  2.74158143e+00,  2.41678843e+00,  9.75415974e-01,\n",
       "        1.48644681e+00,  2.37470915e+00,  1.40290413e+00,  2.56000784e+00,\n",
       "        7.75222750e-01,  2.33626383e+00,  2.43308146e+00,  2.19241125e+00,\n",
       "        2.38432549e+00,  2.66233135e+00,  1.72249636e+00,  2.21185179e+00,\n",
       "        8.86382618e-01,  6.68333105e-01,  2.43742808e+00,  2.00274091e+00,\n",
       "        1.47215449e+00,  5.75692680e-01,  2.16333904e+00,  2.64351484e+00,\n",
       "        1.74119969e+00,  2.75307498e+00,  2.23243807e+00,  1.01648038e+00,\n",
       "        2.31607185e+00,  2.24681543e+00,  2.59197526e+00,  7.73339859e-01,\n",
       "        2.59756158e+00,  9.05969839e-01,  2.84608900e+00,  2.28116229e+00,\n",
       "        2.15026224e+00,  2.09334489e+00,  2.39177897e+00,  1.11374198e+00,\n",
       "        2.27446682e+00,  1.53553588e+00,  1.32958006e+00,  2.87715555e+00,\n",
       "        1.05268637e+00,  2.53498145e+00,  1.98684198e+00,  2.37313684e+00,\n",
       "        2.18118096e+00,  2.69024290e+00,  2.52751957e+00,  1.89798976e+00,\n",
       "        2.14385984e+00,  3.71769367e-01,  2.14356091e+00,  4.19590636e-01,\n",
       "        1.66495143e+00,  2.15263083e+00,  2.47546589e+00,  1.75225677e+00,\n",
       "        1.71567481e+00,  2.28554031e+00,  2.27690921e+00,  2.52670730e+00,\n",
       "        2.52742746e+00,  2.70000010e+00,  1.78879120e+00,  2.27478174e+00,\n",
       "        2.21017460e+00,  7.33780106e-01,  2.52873571e+00,  4.54782066e-01,\n",
       "        2.47366389e+00,  2.40883949e+00,  2.30914676e+00,  1.04381052e+00,\n",
       "        2.36721770e+00,  2.30441873e+00,  1.93402349e+00,  2.16758982e+00,\n",
       "        2.31736792e+00,  2.15046958e+00,  4.95156394e-01,  1.92191109e+00,\n",
       "        2.74253994e+00,  1.98371924e+00,  2.60908772e+00,  2.45920571e+00,\n",
       "        2.60117766e+00,  2.40245299e+00,  2.18579366e+00,  2.16173309e+00,\n",
       "        2.47153065e+00,  2.72520337e+00,  1.79934707e+00,  2.09465674e+00,\n",
       "        1.14780616e+00,  2.10499798e+00,  2.20078038e+00,  2.55521479e+00,\n",
       "        1.34872948e+00,  2.86088064e+00,  2.75121254e+00,  1.86490463e+00,\n",
       "        2.80733780e+00,  1.98976726e+00,  1.20407631e+00,  1.64737587e+00,\n",
       "        2.38682809e+00,  1.60455712e+00,  2.27575777e+00,  2.30437486e+00,\n",
       "        2.20424945e+00,  9.73017773e-01,  2.51871139e+00,  9.79879068e-01,\n",
       "        2.56128544e+00,  2.66393714e+00,  1.47040061e+00,  2.66359991e+00,\n",
       "        2.38641768e+00,  2.61540867e+00,  1.16320961e+00,  8.29351659e-01,\n",
       "        2.19666895e+00,  1.42490624e+00,  2.42122649e+00,  2.45194873e+00,\n",
       "        2.26803111e+00,  1.71136160e+00,  1.93714187e+00,  2.27492989e+00,\n",
       "        2.42835356e+00,  5.13253585e-01,  2.73267592e+00,  2.32083795e+00,\n",
       "        2.40157282e+00,  2.59384091e+00,  6.76462667e-01,  1.74023906e+00,\n",
       "        2.25072180e+00,  2.92739112e+00,  2.52308676e+00,  6.35235293e-01,\n",
       "        1.69905794e+00,  2.63226916e+00,  2.36920979e+00,  1.44064926e+00,\n",
       "        4.99419889e-01,  2.45846476e+00,  2.58180721e+00,  2.17046212e+00,\n",
       "        1.94272449e+00,  2.60967193e+00,  1.52840499e+00,  2.38130258e+00,\n",
       "        1.95776699e+00,  1.93183157e+00,  1.05148982e+00,  1.95365060e+00,\n",
       "        4.35740913e-01,  2.35074250e+00,  2.46615554e+00,  1.84777205e+00,\n",
       "        2.10328105e+00,  8.57794248e-01,  2.76184684e+00,  2.62377465e+00,\n",
       "        2.49320909e+00,  2.26495992e+00,  2.58997950e+00,  8.47658812e-01,\n",
       "        2.06185187e+00,  2.58038574e+00,  2.57596512e+00,  4.34721535e-01,\n",
       "        2.00000879e+00,  1.70771475e+00,  2.52538673e+00,  2.82018337e+00,\n",
       "        2.24670052e+00,  2.68874218e+00,  2.32426327e+00,  2.10356951e+00,\n",
       "        6.80600704e-01,  2.41486483e+00,  2.19677775e+00,  2.51866101e+00,\n",
       "        2.49159603e+00,  2.27690921e+00,  1.63927464e+00,  2.53471673e+00,\n",
       "        2.36036897e+00,  2.14754486e+00,  2.41788089e-01,  1.93079822e+00,\n",
       "        1.18205652e+00,  2.04246567e+00,  1.56490377e+00,  2.07446310e+00,\n",
       "        2.59110368e+00,  2.42483729e+00,  1.83299153e+00,  2.15794186e+00,\n",
       "        2.11995088e+00,  1.74713543e+00,  1.94051386e+00,  1.61510653e+00,\n",
       "        2.70828759e+00,  1.85359388e+00,  1.37471436e+00,  2.49639443e+00,\n",
       "        2.50770955e+00,  2.30533455e+00,  5.54237682e-01,  2.26691063e+00,\n",
       "        1.78742160e+00,  2.01473075e+00,  2.63076744e+00,  1.26908576e+00,\n",
       "        8.05437502e-01,  1.55826721e+00,  1.50671748e+00,  2.59298282e+00,\n",
       "        2.03141487e+00,  1.65045117e+00,  2.51915585e+00,  2.48536560e+00,\n",
       "        2.43128419e+00,  2.59268227e+00,  1.70080209e+00,  2.59174607e+00,\n",
       "        2.27690921e+00,  2.03175480e-01,  2.79863204e+00,  1.72760242e+00,\n",
       "        2.27327384e+00,  5.61509414e-01,  2.04359302e+00,  2.02775443e+00,\n",
       "        2.85930563e+00,  2.75062330e+00,  1.69131289e+00,  1.33256854e-01,\n",
       "        2.40189949e+00,  1.37661966e+00,  3.82105600e-01,  1.70305518e+00,\n",
       "        1.17863609e+00,  2.18602751e+00,  2.58564088e+00,  1.44599185e+00,\n",
       "        2.39169716e+00,  2.30818297e+00,  6.17216061e-01,  7.30642464e-01,\n",
       "        2.39110608e+00,  1.44502513e+00,  1.99038838e+00,  1.49453513e+00,\n",
       "        2.67884724e+00, -3.63225423e-02,  2.76240045e+00,  2.36414475e+00,\n",
       "        2.08939803e+00,  7.34091348e-01,  2.03606983e+00,  2.22713397e+00,\n",
       "        8.75173772e-01,  2.22735424e+00,  1.85409635e+00,  2.90145110e+00,\n",
       "        2.68691768e+00, -1.00340403e-03,  1.59625449e+00,  2.24892716e+00,\n",
       "        7.40478140e-01,  1.62781135e+00,  2.08252321e+00,  1.80890006e+00,\n",
       "        2.36870960e+00,  4.86978475e-01,  1.08231457e+00,  1.97025232e+00,\n",
       "        2.32625348e+00,  2.59966981e+00,  2.14028879e+00,  2.20907204e+00,\n",
       "        1.19875644e+00,  2.44892086e+00,  1.10097011e+00,  1.74076671e+00,\n",
       "        2.41514562e+00,  4.09808801e-01,  1.72318064e+00,  1.82541783e+00,\n",
       "        2.49699076e+00,  2.28114076e+00,  2.82026448e+00,  1.79451057e+00,\n",
       "        1.93301488e+00,  2.42317257e+00,  2.55842000e+00,  1.13706522e+00,\n",
       "        2.64100013e+00,  2.26624968e+00,  2.54115786e+00,  1.67057665e+00,\n",
       "        2.38457605e+00,  2.30517487e+00,  1.37755462e+00,  1.58708486e+00,\n",
       "        1.67916810e+00,  2.54056456e+00,  2.46113185e+00,  7.55162700e-02,\n",
       "        2.72969470e+00,  2.53924932e+00,  1.55611286e+00,  2.49897064e+00,\n",
       "        2.57162009e+00,  2.78783259e+00,  1.41776083e+00,  2.84299496e+00,\n",
       "        2.34307226e+00,  1.80826788e+00,  1.43080098e+00,  1.88882999e+00,\n",
       "        2.46059989e+00,  2.13670344e+00,  4.23133604e-01, -9.71242569e-02,\n",
       "        1.54786811e-01,  2.12798397e+00,  3.45296862e-01,  2.62920795e+00,\n",
       "        2.67977491e+00,  2.46580113e+00,  1.73379894e+00,  8.82134241e-01,\n",
       "        2.33277122e+00,  2.67156466e+00,  2.18511564e+00,  2.50861496e+00,\n",
       "        2.18772405e+00,  2.46510499e+00,  1.21385148e+00,  2.27639052e+00,\n",
       "        1.92701741e+00,  1.29384170e+00,  1.74623394e+00,  2.02209540e+00,\n",
       "        2.79692921e+00,  2.50780182e+00,  2.34058033e+00,  6.01743405e-01,\n",
       "        2.91457988e-01,  2.70322695e+00,  2.18772405e+00,  2.38124048e+00,\n",
       "        6.04717138e-01,  2.54651322e+00,  2.42568636e+00,  1.67463700e+00,\n",
       "        2.18541115e+00,  8.88582160e-01,  1.06408401e+00,  1.19567483e+00,\n",
       "        2.01751241e+00,  1.33544918e+00,  1.52185337e+00,  2.59186268e+00,\n",
       "        2.79238889e+00,  2.45352896e+00,  1.99704699e+00,  2.24338818e+00,\n",
       "        1.56504215e+00,  1.78243661e+00,  2.44933154e+00,  5.82401298e-01,\n",
       "        6.74437824e-01,  9.28176346e-01,  2.49159603e+00,  1.46152913e+00,\n",
       "        9.95315678e-01,  7.01939652e-01,  2.46976849e+00,  3.37838412e-01,\n",
       "        2.01579759e+00,  2.58105056e+00,  2.52480877e+00,  2.72834251e+00,\n",
       "        2.14380250e+00,  2.12237514e+00,  1.98843789e+00,  2.08066747e+00,\n",
       "        9.92545988e-01,  2.61221245e+00,  2.28884433e+00,  2.24725949e+00,\n",
       "        2.28662743e+00,  1.92069034e+00,  2.38591726e+00,  2.85667966e+00,\n",
       "        2.52123363e+00,  2.29464390e+00,  1.49769134e+00,  2.64230125e+00,\n",
       "        2.84626296e+00,  2.38049755e+00,  2.63509761e+00,  2.63626899e+00,\n",
       "        2.48078769e+00,  1.50593137e+00,  1.86627746e+00,  1.47681768e+00,\n",
       "        1.45770991e+00,  8.83684195e-01,  2.32767545e+00,  2.11733747e+00,\n",
       "        2.62264467e+00,  2.60919471e+00,  1.87352519e+00,  1.54568145e+00,\n",
       "        2.62197829e+00,  2.06132711e+00,  2.59391877e+00,  1.63901527e+00,\n",
       "        2.27690921e+00,  1.99428634e+00,  2.44524480e+00,  2.26803111e+00,\n",
       "        1.92454848e+00,  2.35489005e+00,  4.50489401e-01,  7.27531445e-01,\n",
       "        1.30844036e+00,  2.31144373e+00,  2.19390325e+00,  2.29062129e+00,\n",
       "        2.63400032e+00,  2.64679288e+00,  2.74669039e+00,  2.66790407e+00,\n",
       "        2.49510312e+00,  2.23961546e+00,  2.69911907e+00,  2.21048588e+00,\n",
       "        2.07278210e+00,  2.77010237e+00,  2.36151546e+00,  2.21770679e+00,\n",
       "        1.50887748e+00,  2.23150519e+00,  1.92482462e+00,  2.32955764e+00,\n",
       "        2.15751305e+00,  2.24656222e+00,  2.18579366e+00,  4.77714610e-01,\n",
       "        6.75046971e-01,  2.29422962e+00,  2.44302986e+00,  1.34385918e+00,\n",
       "        2.43121564e+00,  1.20298245e+00,  2.38848353e+00,  2.80352751e+00,\n",
       "        1.48379596e+00,  2.33778607e+00,  2.35931153e+00,  2.03289666e+00,\n",
       "        2.48749702e+00,  2.44098444e+00,  2.81314977e+00,  2.00190459e+00,\n",
       "        2.40176447e+00,  2.34228409e+00,  2.31856254e+00,  2.13431191e+00,\n",
       "        2.04330149e+00,  2.17075527e+00,  1.70869877e+00,  2.54866251e+00,\n",
       "        2.74742275e+00,  2.23544801e+00,  1.52836488e+00,  2.70936313e+00,\n",
       "        2.14380250e+00,  2.47611186e+00,  2.63900691e+00,  2.17631023e+00,\n",
       "        2.89848325e+00,  2.35611767e+00,  1.83045431e+00,  2.60441250e+00,\n",
       "        2.40499367e+00,  2.22857228e+00,  2.40101267e+00,  2.72939123e+00,\n",
       "        1.92959231e+00,  2.69886329e+00,  2.69402139e+00,  1.24347923e+00,\n",
       "        2.68949543e+00,  2.31584056e+00,  2.53187080e+00,  1.15801809e+00,\n",
       "        1.05641109e+00,  2.08798090e+00,  2.62639410e-02,  1.43486163e+00,\n",
       "        7.67155466e-01,  9.65956071e-01,  2.21770679e+00,  2.54258741e+00,\n",
       "        2.16984958e+00,  2.01207050e+00,  9.18352039e-01,  2.53125126e+00,\n",
       "        2.51429765e+00,  1.18228028e+00,  2.32452770e+00,  2.58729882e+00,\n",
       "        7.22043847e-01,  2.52346208e+00,  1.65934519e+00,  2.35606870e+00,\n",
       "        2.74907613e+00,  2.19951108e+00,  1.59049223e+00,  2.37740605e+00,\n",
       "        2.66870087e+00,  2.16398267e+00,  2.45112227e+00,  2.51067949e+00,\n",
       "        2.28557444e+00,  8.62577959e-01,  2.32519958e+00,  2.30965844e+00,\n",
       "        1.99084413e+00,  1.52639949e+00,  9.95558780e-01,  1.66387093e+00,\n",
       "        2.71317084e+00,  6.76454747e-01,  2.58159383e+00,  2.45953370e+00,\n",
       "        2.22096976e+00,  2.75714784e+00,  1.63208214e+00,  2.57910728e+00,\n",
       "        1.27798483e+00,  2.75869673e+00,  2.78023359e+00,  2.51059541e+00,\n",
       "        2.74065820e+00,  2.59114941e+00,  8.25978134e-01,  2.13877161e+00,\n",
       "        2.47918814e+00,  1.59840877e+00,  2.73252418e+00,  2.67509951e+00,\n",
       "        1.24669255e+00,  2.21191395e+00,  2.45592962e+00,  2.23934774e+00,\n",
       "        2.15691699e+00,  2.10381426e+00,  2.70397951e+00,  2.45230530e+00,\n",
       "        2.37791294e+00,  5.54016769e-01,  2.03079903e+00,  2.22036941e+00,\n",
       "        1.62407608e+00,  2.18445721e+00,  2.44245511e+00,  1.59382311e+00,\n",
       "        2.58641635e+00,  1.78627802e+00,  2.17075527e+00,  2.25557602e+00,\n",
       "        1.45099234e-01,  2.80279983e+00,  4.69793534e-01,  7.87655187e-01,\n",
       "        5.21191040e-01,  2.41649194e+00,  2.14349006e+00,  2.61651015e+00,\n",
       "        2.16054450e+00,  9.78614585e-01,  2.27690921e+00,  2.40872707e+00,\n",
       "        2.47548299e+00,  1.90126313e+00,  1.00986970e+00,  2.11564302e+00,\n",
       "        2.88450127e-01,  1.25288012e+00,  2.43192143e+00,  6.38196848e-01,\n",
       "        2.04182655e+00,  3.20597281e-01,  2.71193777e+00,  8.46749342e-01,\n",
       "        2.64700279e+00,  2.18977542e+00,  2.51184016e+00,  7.85397818e-02,\n",
       "        2.76474650e+00,  2.53747978e+00,  2.55814861e+00,  1.50001267e+00])"
      ]
     },
     "execution_count": 25,
     "metadata": {},
     "output_type": "execute_result"
    }
   ],
   "source": [
    "pred"
   ]
  },
  {
   "cell_type": "code",
   "execution_count": 38,
   "metadata": {},
   "outputs": [
    {
     "name": "stdout",
     "output_type": "stream",
     "text": [
      "{0: 1.5063074325601773, 1: 1.9695655449985354, 2: 2.1904101432854106}\n"
     ]
    },
    {
     "data": {
      "image/png": "[encoded data removed]",
      "text/plain": [
       "<Figure size 432x288 with 1 Axes>"
      ]
     },
     "metadata": {
      "needs_background": "light"
     },
     "output_type": "display_data"
    }
   ],
   "source": [
    "from collections import Counter\n",
    "dist = Counter(y_train)\n",
    "for k in dist:\n",
    "    dist[k] /= len(y_train)\n",
    "plt.hist(y_train)\n",
    "\n",
    "acum = 0\n",
    "bound = {}\n",
    "for i in range(3):\n",
    "    acum += dist[i]\n",
    "    bound[i] = np.percentile(pred, acum * 100)\n",
    "print(bound)\n",
    "\n",
    "def classify(x):\n",
    "    if x <= bound[0]:\n",
    "        return 0\n",
    "    elif x <= bound[1]:\n",
    "        return 1\n",
    "    elif x <= bound[2]:\n",
    "        return 2\n",
    "    else:\n",
    "        return 3\n",
    "    \n",
    "final_pred = np.array(list(map(classify, pred)))"
   ]
  },
  {
   "cell_type": "code",
   "execution_count": 35,
   "metadata": {},
   "outputs": [],
   "source": [
    "pred = tres(pred, t).astype(int)\n",
    "# pred = treshold(pred, percent).astype(int)\n",
    "\n",
    "# pred = format(pred, X_train, df_data, y_train).astype(int)"
   ]
  },
  {
   "cell_type": "code",
   "execution_count": 40,
   "metadata": {},
   "outputs": [],
   "source": [
    "pred = final_pred"
   ]
  },
  {
   "cell_type": "code",
   "execution_count": 30,
   "metadata": {
    "scrolled": true
   },
   "outputs": [
    {
     "data": {
      "text/plain": [
       "array([1, 1, 0, 0, 0, 2, 2, 2, 2, 1, 2, 0, 0, 0, 0, 0, 2, 2, 0, 2, 1, 2,\n",
       "       2, 0, 0, 1, 2, 2, 2, 0, 0, 2, 2, 0, 2, 2, 0, 2, 2, 2, 2, 1, 2, 0,\n",
       "       2, 0, 2, 2, 2, 0, 2, 2, 1, 1, 2, 2, 0, 2, 2, 2, 2, 1, 2, 2, 0, 2,\n",
       "       2, 1, 2, 2, 1, 2, 2, 0, 2, 2, 1, 2, 0, 2, 1, 0, 2, 2, 2, 2, 2, 2,\n",
       "       2, 1, 0, 2, 2, 2, 2, 1, 2, 1, 2, 2, 2, 0, 2, 2, 1, 2, 0, 0, 2, 0,\n",
       "       2, 2, 2, 0, 1, 2, 0, 2, 2, 2, 2, 2, 2, 1, 2, 2, 1, 2, 0, 1, 0, 1,\n",
       "       0, 1, 2, 2, 2, 1, 0, 0, 1, 2, 1, 2, 2, 1, 1, 0, 2, 1, 2, 2, 0, 0,\n",
       "       0, 0, 2, 0, 0, 2, 0, 1, 1, 0, 1, 2, 1, 2, 0, 2, 2, 1, 0, 0, 2, 2,\n",
       "       2, 2, 2, 1, 2, 1, 2, 1, 2, 0, 2, 2, 2, 2, 0, 2, 2, 1, 0, 1, 0, 1,\n",
       "       2, 2, 1, 2, 1, 1, 0, 2, 2, 0, 2, 0, 0, 0, 2, 2, 2, 2, 2, 0, 2, 0,\n",
       "       2, 1, 0, 2, 2, 2, 0, 2, 1, 2, 0, 2, 2, 2, 0, 2, 2, 2, 0, 2, 2, 1,\n",
       "       1, 1, 1, 0, 2, 1, 1, 2, 0, 0, 2, 2, 0, 1, 2, 0, 2, 2, 1, 1, 2, 0,\n",
       "       2, 2, 0, 2, 1, 2, 0, 1, 2, 1, 2, 0, 2, 2, 0, 2, 2, 2, 1, 0, 2, 2,\n",
       "       2, 2, 0, 1, 2, 2, 2, 0, 0, 0, 0, 0, 1, 2, 0, 0, 2, 2, 2, 2, 2, 2,\n",
       "       0, 1, 1, 2, 2, 0, 0, 2, 2, 2, 2, 2, 2, 0, 2, 1, 2, 1, 0, 1, 2, 2,\n",
       "       2, 0, 1, 2, 0, 2, 2, 1, 0, 2, 1, 2, 0, 1, 0, 2, 2, 0, 1, 1, 2, 0,\n",
       "       0, 1, 2, 2, 1, 0, 0, 2, 0, 2, 0, 0, 0, 2, 0, 2, 0, 0, 1, 0, 2, 2,\n",
       "       0, 1, 2, 0, 0, 1, 2, 2, 2, 2, 2, 2, 2, 0, 0, 2, 0, 2, 0, 2, 2, 2,\n",
       "       2, 2, 1, 2, 0, 0, 2, 1, 0, 0, 1, 2, 1, 2, 2, 0, 2, 2, 2, 0, 2, 0,\n",
       "       2, 2, 1, 1, 2, 0, 2, 0, 0, 2, 0, 2, 1, 2, 2, 2, 2, 1, 1, 0, 1, 0,\n",
       "       1, 1, 2, 1, 1, 2, 2, 2, 2, 2, 1, 2, 2, 0, 2, 0, 2, 2, 2, 0, 2, 2,\n",
       "       1, 2, 2, 1, 0, 1, 2, 1, 2, 2, 2, 2, 2, 1, 2, 2, 1, 1, 0, 1, 2, 2,\n",
       "       0, 2, 2, 1, 2, 1, 0, 1, 2, 0, 2, 2, 2, 0, 2, 0, 2, 2, 0, 2, 2, 2,\n",
       "       0, 0, 2, 0, 2, 2, 2, 1, 1, 2, 2, 0, 2, 2, 2, 2, 0, 1, 2, 2, 2, 0,\n",
       "       1, 2, 2, 0, 0, 2, 2, 2, 1, 2, 0, 2, 1, 1, 0, 1, 0, 2, 2, 1, 1, 0,\n",
       "       2, 2, 2, 2, 2, 0, 1, 2, 2, 0, 1, 1, 2, 2, 2, 2, 2, 1, 0, 2, 2, 2,\n",
       "       2, 2, 1, 2, 2, 1, 0, 1, 0, 1, 0, 1, 2, 2, 1, 1, 1, 1, 1, 0, 2, 1,\n",
       "       0, 2, 2, 2, 0, 2, 1, 1, 2, 0, 0, 0, 0, 2, 1, 1, 2, 2, 2, 2, 1, 2,\n",
       "       2, 0, 2, 1, 2, 0, 1, 1, 2, 2, 1, 0, 2, 0, 0, 1, 0, 2, 2, 0, 2, 2,\n",
       "       0, 0, 2, 0, 1, 0, 2, 0, 2, 2, 1, 0, 1, 2, 0, 2, 1, 2, 2, 0, 0, 2,\n",
       "       0, 0, 1, 1, 2, 0, 0, 1, 2, 2, 1, 2, 0, 2, 0, 1, 2, 0, 1, 1, 2, 2,\n",
       "       2, 1, 1, 2, 2, 0, 2, 2, 2, 1, 2, 2, 0, 0, 1, 2, 2, 0, 2, 2, 0, 2,\n",
       "       2, 2, 0, 2, 2, 1, 0, 1, 2, 1, 0, 0, 0, 1, 0, 2, 2, 2, 1, 0, 2, 2,\n",
       "       2, 2, 2, 2, 0, 2, 1, 0, 1, 1, 2, 2, 2, 0, 0, 2, 2, 2, 0, 2, 2, 1,\n",
       "       2, 0, 0, 0, 1, 0, 0, 2, 2, 2, 1, 2, 0, 1, 2, 0, 0, 0, 2, 0, 0, 0,\n",
       "       2, 0, 1, 2, 2, 2, 1, 1, 1, 1, 0, 2, 2, 2, 2, 1, 2, 2, 2, 2, 0, 2,\n",
       "       2, 2, 2, 2, 2, 0, 1, 0, 0, 0, 2, 1, 2, 2, 1, 0, 2, 1, 2, 1, 2, 1,\n",
       "       2, 2, 1, 2, 0, 0, 0, 2, 2, 2, 2, 2, 2, 2, 2, 2, 2, 2, 1, 2, 2, 2,\n",
       "       0, 2, 1, 2, 1, 2, 2, 0, 0, 2, 2, 0, 2, 0, 2, 2, 0, 2, 2, 1, 2, 2,\n",
       "       2, 1, 2, 2, 2, 1, 1, 2, 1, 2, 2, 2, 0, 2, 1, 2, 2, 2, 2, 2, 1, 2,\n",
       "       2, 2, 2, 2, 1, 2, 2, 0, 2, 2, 2, 0, 0, 1, 0, 0, 0, 0, 2, 2, 2, 1,\n",
       "       0, 2, 2, 0, 2, 2, 0, 2, 1, 2, 2, 2, 0, 2, 2, 1, 2, 2, 2, 0, 2, 2,\n",
       "       1, 0, 0, 1, 2, 0, 2, 2, 2, 2, 1, 2, 0, 2, 2, 2, 2, 2, 0, 1, 2, 0,\n",
       "       2, 2, 0, 2, 2, 2, 1, 1, 2, 2, 2, 0, 1, 2, 0, 2, 2, 0, 2, 1, 2, 2,\n",
       "       0, 2, 0, 0, 0, 2, 1, 2, 1, 0, 2, 2, 2, 1, 0, 1, 0, 0, 2, 0, 1, 0,\n",
       "       2, 0, 2, 2, 2, 0, 2, 2, 2, 0])"
      ]
     },
     "execution_count": 30,
     "metadata": {},
     "output_type": "execute_result"
    }
   ],
   "source": [
    "pred"
   ]
  },
  {
   "cell_type": "code",
   "execution_count": 41,
   "metadata": {},
   "outputs": [
    {
     "data": {
      "text/plain": [
       "(array([231.,   0.,   0., 139.,   0.,   0., 127.,   0.,   0., 503.]),\n",
       " array([0. , 0.3, 0.6, 0.9, 1.2, 1.5, 1.8, 2.1, 2.4, 2.7, 3. ]),\n",
       " <a list of 10 Patch objects>)"
      ]
     },
     "execution_count": 41,
     "metadata": {},
     "output_type": "execute_result"
    },
    {
     "data": {
      "image/png": "[encoded data removed]",
      "text/plain": [
       "<Figure size 432x288 with 1 Axes>"
      ]
     },
     "metadata": {
      "needs_background": "light"
     },
     "output_type": "display_data"
    }
   ],
   "source": [
    "plt.hist(pred)"
   ]
  },
  {
   "cell_type": "code",
   "execution_count": 42,
   "metadata": {},
   "outputs": [],
   "source": [
    "X = []\n",
    "for i in range(len(pred)):\n",
    "    X.append([ids[i], pred[i]])"
   ]
  },
  {
   "cell_type": "code",
   "execution_count": 43,
   "metadata": {},
   "outputs": [],
   "source": [
    "pred = pd.DataFrame(X, columns = ['installation_id','accuracy_group'])"
   ]
  },
  {
   "cell_type": "code",
   "execution_count": 44,
   "metadata": {},
   "outputs": [],
   "source": [
    "pred.index = pred['installation_id']"
   ]
  },
  {
   "cell_type": "code",
   "execution_count": 45,
   "metadata": {},
   "outputs": [],
   "source": [
    "sample_sub = pd.read_csv(subs)\n",
    "sample_sub['accuracy_group'] = pred.loc[sample_sub['installation_id'].values]['accuracy_group'].values"
   ]
  },
  {
   "cell_type": "code",
   "execution_count": 46,
   "metadata": {},
   "outputs": [],
   "source": [
    "sample_sub.to_csv('submission1.csv', index = False)"
   ]
  },
  {
   "cell_type": "code",
   "execution_count": 47,
   "metadata": {},
   "outputs": [
    {
     "data": {
      "text/html": [
       "<div>\n",
       "<style scoped>\n",
       "    .dataframe tbody tr th:only-of-type {\n",
       "        vertical-align: middle;\n",
       "    }\n",
       "\n",
       "    .dataframe tbody tr th {\n",
       "        vertical-align: top;\n",
       "    }\n",
       "\n",
       "    .dataframe thead th {\n",
       "        text-align: right;\n",
       "    }\n",
       "</style>\n",
       "<table border=\"1\" class=\"dataframe\">\n",
       "  <thead>\n",
       "    <tr style=\"text-align: right;\">\n",
       "      <th></th>\n",
       "      <th>installation_id</th>\n",
       "      <th>accuracy_group</th>\n",
       "    </tr>\n",
       "  </thead>\n",
       "  <tbody>\n",
       "    <tr>\n",
       "      <th>0</th>\n",
       "      <td>00abaee7</td>\n",
       "      <td>1</td>\n",
       "    </tr>\n",
       "    <tr>\n",
       "      <th>1</th>\n",
       "      <td>01242218</td>\n",
       "      <td>3</td>\n",
       "    </tr>\n",
       "    <tr>\n",
       "      <th>2</th>\n",
       "      <td>017c5718</td>\n",
       "      <td>3</td>\n",
       "    </tr>\n",
       "    <tr>\n",
       "      <th>3</th>\n",
       "      <td>01a44906</td>\n",
       "      <td>3</td>\n",
       "    </tr>\n",
       "    <tr>\n",
       "      <th>4</th>\n",
       "      <td>01bc6cb6</td>\n",
       "      <td>2</td>\n",
       "    </tr>\n",
       "    <tr>\n",
       "      <th>...</th>\n",
       "      <td>...</td>\n",
       "      <td>...</td>\n",
       "    </tr>\n",
       "    <tr>\n",
       "      <th>995</th>\n",
       "      <td>fee254cf</td>\n",
       "      <td>3</td>\n",
       "    </tr>\n",
       "    <tr>\n",
       "      <th>996</th>\n",
       "      <td>ff57e602</td>\n",
       "      <td>0</td>\n",
       "    </tr>\n",
       "    <tr>\n",
       "      <th>997</th>\n",
       "      <td>ffc73fb2</td>\n",
       "      <td>1</td>\n",
       "    </tr>\n",
       "    <tr>\n",
       "      <th>998</th>\n",
       "      <td>ffe00ca8</td>\n",
       "      <td>1</td>\n",
       "    </tr>\n",
       "    <tr>\n",
       "      <th>999</th>\n",
       "      <td>ffe774cc</td>\n",
       "      <td>0</td>\n",
       "    </tr>\n",
       "  </tbody>\n",
       "</table>\n",
       "<p>1000 rows × 2 columns</p>\n",
       "</div>"
      ],
      "text/plain": [
       "    installation_id  accuracy_group\n",
       "0          00abaee7               1\n",
       "1          01242218               3\n",
       "2          017c5718               3\n",
       "3          01a44906               3\n",
       "4          01bc6cb6               2\n",
       "..              ...             ...\n",
       "995        fee254cf               3\n",
       "996        ff57e602               0\n",
       "997        ffc73fb2               1\n",
       "998        ffe00ca8               1\n",
       "999        ffe774cc               0\n",
       "\n",
       "[1000 rows x 2 columns]"
      ]
     },
     "execution_count": 47,
     "metadata": {},
     "output_type": "execute_result"
    }
   ],
   "source": [
    "sample_sub"
   ]
  },
  {
   "cell_type": "code",
   "execution_count": null,
   "metadata": {},
   "outputs": [],
   "source": []
  },
  {
   "cell_type": "code",
   "execution_count": null,
   "metadata": {},
   "outputs": [],
   "source": []
  }
 ],
 "metadata": {
  "kernelspec": {
   "display_name": "Python 3",
   "language": "python",
   "name": "python3"
  },
  "language_info": {
   "codemirror_mode": {
    "name": "ipython",
    "version": 3
   },
   "file_extension": ".py",
   "mimetype": "text/x-python",
   "name": "python",
   "nbconvert_exporter": "python",
   "pygments_lexer": "ipython3",
   "version": "3.7.4"
  }
 },
 "nbformat": 4,
 "nbformat_minor": 2
}
