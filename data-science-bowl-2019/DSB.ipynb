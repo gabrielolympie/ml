{
 "cells": [
  {
   "cell_type": "code",
   "execution_count": 1,
   "metadata": {},
   "outputs": [
    {
     "name": "stderr",
     "output_type": "stream",
     "text": [
      "Using TensorFlow backend.\n"
     ]
    }
   ],
   "source": [
    "## General librairies\n",
    "import pandas as pd\n",
    "import numpy as np\n",
    "import _pickle as pickle\n",
    "import matplotlib.pyplot as plt\n",
    "import random\n",
    "import sys\n",
    "import time\n",
    "from copy import deepcopy\n",
    "import os\n",
    "\n",
    "from keras.utils import np_utils\n",
    "from sklearn.model_selection import train_test_split\n",
    "\n",
    "\n",
    "import dateutil.parser"
   ]
  },
  {
   "cell_type": "code",
   "execution_count": 2,
   "metadata": {},
   "outputs": [],
   "source": [
    "specs = 'specs.csv'\n",
    "test = 'test.csv'\n",
    "train = 'train.csv'\n",
    "train_labels = 'train_labels.csv'\n",
    "subs = 'sample_submission_exemple.csv'"
   ]
  },
  {
   "cell_type": "code",
   "execution_count": 3,
   "metadata": {},
   "outputs": [],
   "source": [
    "def save(file,name, folder = \"\"):\n",
    "    if folder != \"\":\n",
    "        outfile = open('./'+folder+'/'+name+'.pickle', 'wb')\n",
    "    else:\n",
    "        outfile = open(name+'.pickle', 'wb')\n",
    "    pickle.dump(file, outfile)\n",
    "    outfile.close\n",
    "    \n",
    "def load(name, folder = \"\"):\n",
    "    if folder != \"\":\n",
    "        outfile = open('./'+folder+'/'+name+'.pickle', 'rb')\n",
    "    else:\n",
    "        outfile = open(name+'.pickle', 'rb')\n",
    "    file = pickle.load(outfile)\n",
    "    outfile.close\n",
    "    return file\n",
    "\n",
    "def relative_time(x):\n",
    "    x1 = []\n",
    "    for elt in x:\n",
    "        x1.append((elt-x[0]).item()/1000000000)\n",
    "    return x1\n",
    "\n",
    "def categorise(x):\n",
    "    dico = {}\n",
    "    count = 0\n",
    "    for elt in x:\n",
    "        if not(elt in dico):\n",
    "            dico[elt] = count\n",
    "            count += 1\n",
    "    return dico\n",
    "\n",
    "def padding( dataset, n):\n",
    "    d = list(np.zeros(len(dataset)))\n",
    "    c = 0\n",
    "    count = 0\n",
    "    for elt in dataset:\n",
    "        \n",
    "        if count % 100 == 0:\n",
    "            print(count)\n",
    "        u = elt.shape[0]\n",
    "        \n",
    "        if u<200:\n",
    "            c += 1\n",
    "        \n",
    "        if u > n:\n",
    "            d[count] = elt[-n:]\n",
    "        else:\n",
    "            a = np.zeros(((n-u), elt.shape[1]))\n",
    "            elt = np.concatenate([a, elt], axis = 0)\n",
    "            d[count] = elt\n",
    "        count += 1\n",
    "    return d\n",
    "\n",
    "def build_line(df, installation_id, game_session):\n",
    "    df1 = df[(df['installation_id']==installation_id)&(df['date']<=df[(df['installation_id']==installation_id)&(df['game_session']==game_session)]['date'].iloc[0])]\n",
    "    dico = categorise(df1['game_session'].unique())\n",
    "    df1 = df1.replace({'game_session' : dico})\n",
    "    x = relative_time(df1['date'].values)\n",
    "    \n",
    "    df1['time_delta'] = x\n",
    "    \n",
    "#     df1 = df1.drop_duplicates(subset = ['event_id'])\n",
    "    \n",
    "    cats_to_keep = ['game_session','time_delta','title','type', 'world',  'event_count', 'game_time', 'event_code']\n",
    "    df1 = df1[cats_to_keep]\n",
    "    return df1\n",
    "\n",
    "def format_input(X):\n",
    "    return [X[:,:,[0,1,5,6]], X[:,:,2].reshape((X.shape[0], X.shape[1],1)), X[:,:,3].reshape((X.shape[0], X.shape[1],1)), X[:,:,4].reshape((X.shape[0], X.shape[1],1)),X[:,:,7].reshape((X.shape[0], X.shape[1],1))]\n"
   ]
  },
  {
   "cell_type": "markdown",
   "metadata": {},
   "source": [
    "#### Loading Data"
   ]
  },
  {
   "cell_type": "code",
   "execution_count": 4,
   "metadata": {},
   "outputs": [],
   "source": [
    "df = pd.read_csv(train)\n",
    "# labels = pd.read_csv(train_labels)\n",
    "# dtitle, dtype, dworld, devent = load('dicos')"
   ]
  },
  {
   "cell_type": "code",
   "execution_count": 50,
   "metadata": {},
   "outputs": [],
   "source": [
    "df[2300] = 1"
   ]
  },
  {
   "cell_type": "code",
   "execution_count": 6,
   "metadata": {},
   "outputs": [
    {
     "data": {
      "text/plain": [
       "{\"event_code\": 2000, \"event_count\": 1}                                                                                                                                                                                                                                                                                                                                                                                                                                                                                                                                            183676\n",
       "{\"version\":\"1.0\",\"event_count\":1,\"game_time\":0,\"event_code\":2000}                                                                                                                                                                                                                                                                                                                                                                                                                                                                                                                  59872\n",
       "{\"version\":\"1.0\",\"round\":0,\"event_count\":1,\"game_time\":0,\"event_code\":2000}                                                                                                                                                                                                                                                                                                                                                                                                                                                                                                        45959\n",
       "{\"version\":\"1\",\"round\":0,\"event_count\":1,\"game_time\":0,\"event_code\":2000}                                                                                                                                                                                                                                                                                                                                                                                                                                                                                                           7577\n",
       "{\"description\":\"Let's set off these fireworks. We can drag them to any height we want!\",\"identifier\":\"Dot_LetsFireworks,Dot_DragAnyHeight\",\"media_type\":\"audio\",\"total_duration\":3885,\"event_count\":2,\"game_time\":0,\"event_code\":3010}                                                                                                                                                                                                                                                                                                                                              6327\n",
       "                                                                                                                                                                                                                                                                                                                                                                                                                                                                                                                                                                                   ...  \n",
       "{\"coordinates\":{\"x\":909,\"y\":619,\"stage_width\":1015,\"stage_height\":762},\"event_count\":14,\"game_time\":18690,\"event_code\":4070}                                                                                                                                                                                                                                                                                                                                                                                                                                                           1\n",
       "{\"coordinates\":{\"x\":874,\"y\":638,\"stage_width\":1015,\"stage_height\":762},\"event_count\":6,\"game_time\":6760,\"event_code\":4070}                                                                                                                                                                                                                                                                                                                                                                                                                                                             1\n",
       "{\"media_type\":\"animation\",\"total_duration\":4000,\"description\":\"Drag them to the correct house from tallest to shortest!\",\"identifier\":\"dragDesc_3102\",\"round\":4,\"event_count\":91,\"game_time\":146501,\"event_code\":3010}                                                                                                                                                                                                                                                                                                                                                                 1\n",
       "{\"size\":1,\"castles_placed\":[{\"size\":3,\"position\":{\"x\":569,\"y\":214,\"stage_width\":1015,\"stage_height\":762}},{\"size\":2,\"position\":{\"x\":306,\"y\":174,\"stage_width\":1015,\"stage_height\":762}},{\"size\":2,\"position\":{\"x\":803,\"y\":192,\"stage_width\":1015,\"stage_height\":762}},{\"size\":1,\"position\":{\"x\":353,\"y\":183,\"stage_width\":1015,\"stage_height\":762}},{\"size\":1,\"position\":{\"x\":775,\"y\":255,\"stage_width\":1015,\"stage_height\":762}}],\"duration\":2317,\"coordinates\":{\"x\":589,\"y\":213,\"stage_width\":1015,\"stage_height\":762},\"event_count\":69,\"game_time\":58115,\"event_code\":4020}         1\n",
       "{\"weight\":3,\"source\":\"resources\",\"resources\":[1,1],\"coordinates\":{\"x\":726,\"y\":695,\"stage_width\":1015,\"stage_height\":762},\"round\":2,\"event_count\":59,\"game_time\":94987,\"event_code\":4030}                                                                                                                                                                                                                                                                                                                                                                                               1\n",
       "Name: event_data, Length: 10893749, dtype: int64"
      ]
     },
     "execution_count": 6,
     "metadata": {},
     "output_type": "execute_result"
    }
   ],
   "source": [
    "df['event_data'].value_counts()"
   ]
  },
  {
   "cell_type": "code",
   "execution_count": 7,
   "metadata": {},
   "outputs": [
    {
     "data": {
      "application/vnd.jupyter.widget-view+json": {
       "model_id": "5e77c529b3734d26b229534e5b20bfc4",
       "version_major": 2,
       "version_minor": 0
      },
      "text/plain": [
       "HBox(children=(IntProgress(value=0, max=11341042), HTML(value='')))"
      ]
     },
     "metadata": {},
     "output_type": "display_data"
    },
    {
     "name": "stdout",
     "output_type": "stream",
     "text": [
      "\n"
     ]
    }
   ],
   "source": [
    "import json\n",
    "from tqdm import tqdm_notebook as tqdm\n",
    "dico = {}\n",
    "count = 0\n",
    "for elt in tqdm(df['event_data'].values):\n",
    "    a = json.loads(elt)\n",
    "    for key in a:\n",
    "        if not(key in dico):\n",
    "            dico[key] = a[key]\n",
    "    "
   ]
  },
  {
   "cell_type": "code",
   "execution_count": 8,
   "metadata": {},
   "outputs": [
    {
     "data": {
      "text/plain": [
       "{'event_code': 2000,\n",
       " 'event_count': 1,\n",
       " 'version': '1.0',\n",
       " 'game_time': 0,\n",
       " 'description': \"Let's build a sandcastle! First, fill up your mold with sand! You can use the shovel here. The mold gives the sand its shape!\",\n",
       " 'identifier': 'Dot_LetsSandcastle,Dot_FillMold,Dot_MoldShape',\n",
       " 'media_type': 'audio',\n",
       " 'total_duration': 6758,\n",
       " 'duration': 6919,\n",
       " 'coordinates': {'x': 583, 'y': 605, 'stage_width': 1015, 'stage_height': 762},\n",
       " 'castles_placed': [],\n",
       " 'molds': [0, 0, 0],\n",
       " 'size': 0,\n",
       " 'sand': 1,\n",
       " 'filled': False,\n",
       " 'level': 0,\n",
       " 'round': 0,\n",
       " 'movie_id': 'scrubadub_intro',\n",
       " 'round_target': {'size': 3, 'type': 'Tub', 'animal': 'hog'},\n",
       " 'options': [0, 3],\n",
       " 'animals': ['hog', 'chicken'],\n",
       " 'item_type': 'Tub',\n",
       " 'position': 2,\n",
       " 'animal': 'hog',\n",
       " 'correct': True,\n",
       " 'misses': 0,\n",
       " 'holding_shell': False,\n",
       " 'has_water': False,\n",
       " 'shells': [2, 3, 1],\n",
       " 'holes': [2, 3],\n",
       " 'shell_size': 1,\n",
       " 'hole_position': 1,\n",
       " 'cloud': 'middle',\n",
       " 'cloud_size': 3,\n",
       " 'water_level': 0,\n",
       " 'time_played': 1376,\n",
       " 'houses': [4, 3, 2],\n",
       " 'dinosaurs': [{'name': 'don', 'size': 3},\n",
       "  {'name': 'stacey', 'size': 4},\n",
       "  {'name': 'petey', 'size': 2}],\n",
       " 'dinosaur': 'don',\n",
       " 'house': {'size': 2, 'position': 3},\n",
       " 'dinosaurs_placed': [{'size': 0, 'name': 'none'},\n",
       "  {'size': 0, 'name': 'none'},\n",
       "  {'size': 3, 'name': 'don'}],\n",
       " 'rocket': 6,\n",
       " 'height': 633,\n",
       " 'launched': False,\n",
       " 'flowers': [0, 0, 0, 0, 0],\n",
       " 'flower': 0,\n",
       " 'growth': [0, 0, 0, 0, 8],\n",
       " 'stumps': [0, 0, 0],\n",
       " 'source': 'resources',\n",
       " 'destination': 'right',\n",
       " 'session_duration': 39803,\n",
       " 'exit_type': 'game_completed',\n",
       " 'distance': 8,\n",
       " 'target_distances': [5, 6, 7, 8, 9, 10],\n",
       " 'round_prompt': 'ObjectiveFlyFurtherThanOther',\n",
       " 'target_size': 3,\n",
       " 'resources': [2, 3],\n",
       " 'object_type': 'block',\n",
       " 'group': 3,\n",
       " 'bug': 'rollyPolly',\n",
       " 'buglength': 2,\n",
       " 'stage_number': 1,\n",
       " 'hat': 0,\n",
       " 'caterpillar': 'left',\n",
       " 'hats': [0, 0, 0],\n",
       " 'caterpillars': [2, 2, 2],\n",
       " 'bird_height': 4,\n",
       " 'target_containers': 4,\n",
       " 'container_type': 'redStripeBowl',\n",
       " 'containers': 5,\n",
       " 'current_containers': 1,\n",
       " 'total_containers': 4,\n",
       " 'toy_earned': '',\n",
       " 'object': 'trash',\n",
       " 'previous_jars': [],\n",
       " 'bottle': {'amount': 1, 'color': 'pink'},\n",
       " 'bottles': [{'color': 'blue', 'amount': 2},\n",
       "  {'color': 'blue', 'amount': 1},\n",
       "  {'color': 'purple', 'amount': 2},\n",
       "  {'color': 'purple', 'amount': 1},\n",
       "  {'color': 'orange', 'amount': 1},\n",
       "  {'color': 'orange', 'amount': 2},\n",
       "  {'color': 'pink', 'amount': 1},\n",
       "  {'color': 'pink', 'amount': 2},\n",
       "  {'color': 'yellow', 'amount': 1},\n",
       "  {'color': 'yellow', 'amount': 2},\n",
       "  {'color': 'green', 'amount': 1},\n",
       "  {'color': 'green', 'amount': 2}],\n",
       " 'jar': [{'color': 'pink', 'amount': 1}],\n",
       " 'jar_filled': False,\n",
       " 'tutorial_step': 2,\n",
       " 'hats_placed': [4, 0, 0],\n",
       " 'toy': 'ball',\n",
       " 'diet': 'carnivore',\n",
       " 'target_weight': 4,\n",
       " 'weight': 1,\n",
       " 'scale_weight': 3,\n",
       " 'scale_contents': [3],\n",
       " 'target_water_level': 6,\n",
       " 'buckets': [3, 1, 2],\n",
       " 'target_bucket': 0,\n",
       " 'mode': 'placing',\n",
       " 'prompt': 'N/A',\n",
       " 'round_number': 1,\n",
       " 'bucket': 2,\n",
       " 'buckets_placed': [0, 0, 0],\n",
       " 'cauldron': 2,\n",
       " 'layout': {'left': {'chickens': 0, 'pig': False},\n",
       "  'right': {'chickens': 0, 'pig': False}},\n",
       " 'side': 'right',\n",
       " 'table_weights': 4,\n",
       " 'starting_weights': 2,\n",
       " 'tape_length': 0,\n",
       " 'bug_length': 0,\n",
       " 'dwell_time': 9435,\n",
       " 'total_bowls': 2,\n",
       " 'bowls': [{'id': 1, 'position': [209, 422, 1014, 541], 'toy': True},\n",
       "  {'id': 2, 'position': [336, 422, 1014, 541], 'toy': False}],\n",
       " 'has_toy': True,\n",
       " 'bowl_id': 1,\n",
       " 'crystals': [{'id': 'gem07', 'weight': 6},\n",
       "  {'id': 'gem05', 'weight': 4},\n",
       "  {'id': 'gem01', 'weight': 1},\n",
       "  {'id': 'gem03', 'weight': 3},\n",
       "  {'id': 'gem02', 'weight': 1},\n",
       "  {'id': 'gem08', 'weight': 6},\n",
       "  {'id': 'gem04', 'weight': 3},\n",
       "  {'id': 'gem06', 'weight': 4}],\n",
       " 'crystal_id': 'gem08',\n",
       " 'left': [],\n",
       " 'right': [{'id': 'gem08', 'weight': 6}],\n",
       " 'location': 'BALANCE',\n",
       " 'scale_weights': 1,\n",
       " 'weights': 2,\n",
       " 'nest': 1,\n",
       " 'pillars': [],\n",
       " 'max_position': 0.9278106508875749,\n",
       " 'end_position': 0.9278106508875749,\n",
       " 'gate': {'row': 1, 'column': 2, 'side': 'left'},\n",
       " 'dinosaur_weight': 2,\n",
       " 'dinosaur_count': 1,\n",
       " 'chests': [3]}"
      ]
     },
     "execution_count": 8,
     "metadata": {},
     "output_type": "execute_result"
    }
   ],
   "source": [
    "dico"
   ]
  },
  {
   "cell_type": "code",
   "execution_count": 52,
   "metadata": {},
   "outputs": [
    {
     "data": {
      "text/plain": [
       "Index([       'event_id',    'game_session',       'timestamp',\n",
       "            'event_data', 'installation_id',     'event_count',\n",
       "            'event_code',       'game_time',           'title',\n",
       "                  'type',           'world',              2300],\n",
       "      dtype='object')"
      ]
     },
     "execution_count": 52,
     "metadata": {},
     "output_type": "execute_result"
    }
   ],
   "source": [
    "df.columns"
   ]
  },
  {
   "cell_type": "code",
   "execution_count": 48,
   "metadata": {},
   "outputs": [
    {
     "ename": "KeyError",
     "evalue": "'Column not found: Clip'",
     "output_type": "error",
     "traceback": [
      "\u001b[1;31m---------------------------------------------------------------------------\u001b[0m",
      "\u001b[1;31mKeyError\u001b[0m                                  Traceback (most recent call last)",
      "\u001b[1;32m<ipython-input-48-7c3e7be60a4d>\u001b[0m in \u001b[0;36m<module>\u001b[1;34m\u001b[0m\n\u001b[1;32m----> 1\u001b[1;33m \u001b[0mdf\u001b[0m\u001b[1;33m.\u001b[0m\u001b[0mgroupby\u001b[0m\u001b[1;33m(\u001b[0m\u001b[1;33m[\u001b[0m\u001b[1;34m'installation_id'\u001b[0m\u001b[1;33m]\u001b[0m\u001b[1;33m)\u001b[0m\u001b[1;33m[\u001b[0m\u001b[1;34m'Clip'\u001b[0m\u001b[1;33m]\u001b[0m\u001b[1;33m.\u001b[0m\u001b[0mtransform\u001b[0m\u001b[1;33m(\u001b[0m\u001b[1;34m'count'\u001b[0m\u001b[1;33m)\u001b[0m\u001b[1;33m\u001b[0m\u001b[1;33m\u001b[0m\u001b[0m\n\u001b[0m",
      "\u001b[1;32m~\\Anaconda3\\lib\\site-packages\\pandas\\core\\base.py\u001b[0m in \u001b[0;36m__getitem__\u001b[1;34m(self, key)\u001b[0m\n\u001b[0;32m    266\u001b[0m         \u001b[1;32melse\u001b[0m\u001b[1;33m:\u001b[0m\u001b[1;33m\u001b[0m\u001b[1;33m\u001b[0m\u001b[0m\n\u001b[0;32m    267\u001b[0m             \u001b[1;32mif\u001b[0m \u001b[0mkey\u001b[0m \u001b[1;32mnot\u001b[0m \u001b[1;32min\u001b[0m \u001b[0mself\u001b[0m\u001b[1;33m.\u001b[0m\u001b[0mobj\u001b[0m\u001b[1;33m:\u001b[0m\u001b[1;33m\u001b[0m\u001b[1;33m\u001b[0m\u001b[0m\n\u001b[1;32m--> 268\u001b[1;33m                 \u001b[1;32mraise\u001b[0m \u001b[0mKeyError\u001b[0m\u001b[1;33m(\u001b[0m\u001b[1;34m\"Column not found: {key}\"\u001b[0m\u001b[1;33m.\u001b[0m\u001b[0mformat\u001b[0m\u001b[1;33m(\u001b[0m\u001b[0mkey\u001b[0m\u001b[1;33m=\u001b[0m\u001b[0mkey\u001b[0m\u001b[1;33m)\u001b[0m\u001b[1;33m)\u001b[0m\u001b[1;33m\u001b[0m\u001b[1;33m\u001b[0m\u001b[0m\n\u001b[0m\u001b[0;32m    269\u001b[0m             \u001b[1;32mreturn\u001b[0m \u001b[0mself\u001b[0m\u001b[1;33m.\u001b[0m\u001b[0m_gotitem\u001b[0m\u001b[1;33m(\u001b[0m\u001b[0mkey\u001b[0m\u001b[1;33m,\u001b[0m \u001b[0mndim\u001b[0m\u001b[1;33m=\u001b[0m\u001b[1;36m1\u001b[0m\u001b[1;33m)\u001b[0m\u001b[1;33m\u001b[0m\u001b[1;33m\u001b[0m\u001b[0m\n\u001b[0;32m    270\u001b[0m \u001b[1;33m\u001b[0m\u001b[0m\n",
      "\u001b[1;31mKeyError\u001b[0m: 'Column not found: Clip'"
     ]
    }
   ],
   "source": [
    "df.groupby(['installation_id'])['Clip'].transform('count')"
   ]
  },
  {
   "cell_type": "code",
   "execution_count": 8,
   "metadata": {},
   "outputs": [
    {
     "data": {
      "text/plain": [
       "5795293"
      ]
     },
     "execution_count": 8,
     "metadata": {},
     "output_type": "execute_result"
    }
   ],
   "source": [
    "df['type'].value_counts()['Game']"
   ]
  },
  {
   "cell_type": "code",
   "execution_count": 5,
   "metadata": {},
   "outputs": [
    {
     "data": {
      "text/plain": [
       "array(['Air Show', 'Pan Balance'], dtype=object)"
      ]
     },
     "execution_count": 5,
     "metadata": {},
     "output_type": "execute_result"
    }
   ],
   "source": [
    "df[(df['type']=='Game')&(df['event_code']==4100)]['title'].unique()"
   ]
  },
  {
   "cell_type": "code",
   "execution_count": null,
   "metadata": {},
   "outputs": [],
   "source": []
  },
  {
   "cell_type": "code",
   "execution_count": 37,
   "metadata": {},
   "outputs": [
    {
     "data": {
      "text/plain": [
       "array(['Scrub-A-Dub', 'Dino Drink', 'All Star Sorting', 'Air Show',\n",
       "       'Crystals Rule', 'Bubble Bath', 'Dino Dive', 'Chow Time',\n",
       "       'Pan Balance', 'Happy Camel', 'Leaf Leader'], dtype=object)"
      ]
     },
     "execution_count": 37,
     "metadata": {},
     "output_type": "execute_result"
    }
   ],
   "source": [
    "df[df['type']=='Game']['title'].unique()"
   ]
  },
  {
   "cell_type": "code",
   "execution_count": 5,
   "metadata": {},
   "outputs": [
    {
     "data": {
      "text/html": [
       "<div>\n",
       "<style scoped>\n",
       "    .dataframe tbody tr th:only-of-type {\n",
       "        vertical-align: middle;\n",
       "    }\n",
       "\n",
       "    .dataframe tbody tr th {\n",
       "        vertical-align: top;\n",
       "    }\n",
       "\n",
       "    .dataframe thead th {\n",
       "        text-align: right;\n",
       "    }\n",
       "</style>\n",
       "<table border=\"1\" class=\"dataframe\">\n",
       "  <thead>\n",
       "    <tr style=\"text-align: right;\">\n",
       "      <th></th>\n",
       "      <th>event_id</th>\n",
       "      <th>game_session</th>\n",
       "      <th>timestamp</th>\n",
       "      <th>event_data</th>\n",
       "      <th>installation_id</th>\n",
       "      <th>event_count</th>\n",
       "      <th>event_code</th>\n",
       "      <th>game_time</th>\n",
       "      <th>title</th>\n",
       "      <th>type</th>\n",
       "      <th>world</th>\n",
       "    </tr>\n",
       "  </thead>\n",
       "  <tbody>\n",
       "    <tr>\n",
       "      <th>0</th>\n",
       "      <td>27253bdc</td>\n",
       "      <td>45bb1e1b6b50c07b</td>\n",
       "      <td>2019-09-06T17:53:46.937Z</td>\n",
       "      <td>{\"event_code\": 2000, \"event_count\": 1}</td>\n",
       "      <td>0001e90f</td>\n",
       "      <td>1</td>\n",
       "      <td>2000</td>\n",
       "      <td>0</td>\n",
       "      <td>Welcome to Lost Lagoon!</td>\n",
       "      <td>Clip</td>\n",
       "      <td>NONE</td>\n",
       "    </tr>\n",
       "    <tr>\n",
       "      <th>1</th>\n",
       "      <td>27253bdc</td>\n",
       "      <td>17eeb7f223665f53</td>\n",
       "      <td>2019-09-06T17:54:17.519Z</td>\n",
       "      <td>{\"event_code\": 2000, \"event_count\": 1}</td>\n",
       "      <td>0001e90f</td>\n",
       "      <td>1</td>\n",
       "      <td>2000</td>\n",
       "      <td>0</td>\n",
       "      <td>Magma Peak - Level 1</td>\n",
       "      <td>Clip</td>\n",
       "      <td>MAGMAPEAK</td>\n",
       "    </tr>\n",
       "    <tr>\n",
       "      <th>2</th>\n",
       "      <td>77261ab5</td>\n",
       "      <td>0848ef14a8dc6892</td>\n",
       "      <td>2019-09-06T17:54:56.302Z</td>\n",
       "      <td>{\"version\":\"1.0\",\"event_count\":1,\"game_time\":0...</td>\n",
       "      <td>0001e90f</td>\n",
       "      <td>1</td>\n",
       "      <td>2000</td>\n",
       "      <td>0</td>\n",
       "      <td>Sandcastle Builder (Activity)</td>\n",
       "      <td>Activity</td>\n",
       "      <td>MAGMAPEAK</td>\n",
       "    </tr>\n",
       "    <tr>\n",
       "      <th>3</th>\n",
       "      <td>b2dba42b</td>\n",
       "      <td>0848ef14a8dc6892</td>\n",
       "      <td>2019-09-06T17:54:56.387Z</td>\n",
       "      <td>{\"description\":\"Let's build a sandcastle! Firs...</td>\n",
       "      <td>0001e90f</td>\n",
       "      <td>2</td>\n",
       "      <td>3010</td>\n",
       "      <td>53</td>\n",
       "      <td>Sandcastle Builder (Activity)</td>\n",
       "      <td>Activity</td>\n",
       "      <td>MAGMAPEAK</td>\n",
       "    </tr>\n",
       "    <tr>\n",
       "      <th>4</th>\n",
       "      <td>1bb5fbdb</td>\n",
       "      <td>0848ef14a8dc6892</td>\n",
       "      <td>2019-09-06T17:55:03.253Z</td>\n",
       "      <td>{\"description\":\"Let's build a sandcastle! Firs...</td>\n",
       "      <td>0001e90f</td>\n",
       "      <td>3</td>\n",
       "      <td>3110</td>\n",
       "      <td>6972</td>\n",
       "      <td>Sandcastle Builder (Activity)</td>\n",
       "      <td>Activity</td>\n",
       "      <td>MAGMAPEAK</td>\n",
       "    </tr>\n",
       "  </tbody>\n",
       "</table>\n",
       "</div>"
      ],
      "text/plain": [
       "   event_id      game_session                 timestamp  \\\n",
       "0  27253bdc  45bb1e1b6b50c07b  2019-09-06T17:53:46.937Z   \n",
       "1  27253bdc  17eeb7f223665f53  2019-09-06T17:54:17.519Z   \n",
       "2  77261ab5  0848ef14a8dc6892  2019-09-06T17:54:56.302Z   \n",
       "3  b2dba42b  0848ef14a8dc6892  2019-09-06T17:54:56.387Z   \n",
       "4  1bb5fbdb  0848ef14a8dc6892  2019-09-06T17:55:03.253Z   \n",
       "\n",
       "                                          event_data installation_id  \\\n",
       "0             {\"event_code\": 2000, \"event_count\": 1}        0001e90f   \n",
       "1             {\"event_code\": 2000, \"event_count\": 1}        0001e90f   \n",
       "2  {\"version\":\"1.0\",\"event_count\":1,\"game_time\":0...        0001e90f   \n",
       "3  {\"description\":\"Let's build a sandcastle! Firs...        0001e90f   \n",
       "4  {\"description\":\"Let's build a sandcastle! Firs...        0001e90f   \n",
       "\n",
       "   event_count  event_code  game_time                          title  \\\n",
       "0            1        2000          0        Welcome to Lost Lagoon!   \n",
       "1            1        2000          0           Magma Peak - Level 1   \n",
       "2            1        2000          0  Sandcastle Builder (Activity)   \n",
       "3            2        3010         53  Sandcastle Builder (Activity)   \n",
       "4            3        3110       6972  Sandcastle Builder (Activity)   \n",
       "\n",
       "       type      world  \n",
       "0      Clip       NONE  \n",
       "1      Clip  MAGMAPEAK  \n",
       "2  Activity  MAGMAPEAK  \n",
       "3  Activity  MAGMAPEAK  \n",
       "4  Activity  MAGMAPEAK  "
      ]
     },
     "execution_count": 5,
     "metadata": {},
     "output_type": "execute_result"
    }
   ],
   "source": [
    "df.head()"
   ]
  },
  {
   "cell_type": "code",
   "execution_count": 28,
   "metadata": {},
   "outputs": [
    {
     "data": {
      "text/html": [
       "<div>\n",
       "<style scoped>\n",
       "    .dataframe tbody tr th:only-of-type {\n",
       "        vertical-align: middle;\n",
       "    }\n",
       "\n",
       "    .dataframe tbody tr th {\n",
       "        vertical-align: top;\n",
       "    }\n",
       "\n",
       "    .dataframe thead th {\n",
       "        text-align: right;\n",
       "    }\n",
       "</style>\n",
       "<table border=\"1\" class=\"dataframe\">\n",
       "  <thead>\n",
       "    <tr style=\"text-align: right;\">\n",
       "      <th></th>\n",
       "      <th>event_id</th>\n",
       "      <th>game_session</th>\n",
       "      <th>timestamp</th>\n",
       "      <th>event_data</th>\n",
       "      <th>installation_id</th>\n",
       "      <th>event_count</th>\n",
       "      <th>event_code</th>\n",
       "      <th>game_time</th>\n",
       "      <th>title</th>\n",
       "      <th>type</th>\n",
       "      <th>world</th>\n",
       "    </tr>\n",
       "  </thead>\n",
       "  <tbody>\n",
       "    <tr>\n",
       "      <th>0</th>\n",
       "      <td>27253bdc</td>\n",
       "      <td>45bb1e1b6b50c07b</td>\n",
       "      <td>2019-09-06T17:53:46.937Z</td>\n",
       "      <td>{\"event_code\": 2000, \"event_count\": 1}</td>\n",
       "      <td>0001e90f</td>\n",
       "      <td>1</td>\n",
       "      <td>2000</td>\n",
       "      <td>0</td>\n",
       "      <td>Welcome to Lost Lagoon!</td>\n",
       "      <td>Clip</td>\n",
       "      <td>NONE</td>\n",
       "    </tr>\n",
       "    <tr>\n",
       "      <th>1</th>\n",
       "      <td>27253bdc</td>\n",
       "      <td>17eeb7f223665f53</td>\n",
       "      <td>2019-09-06T17:54:17.519Z</td>\n",
       "      <td>{\"event_code\": 2000, \"event_count\": 1}</td>\n",
       "      <td>0001e90f</td>\n",
       "      <td>1</td>\n",
       "      <td>2000</td>\n",
       "      <td>0</td>\n",
       "      <td>Magma Peak - Level 1</td>\n",
       "      <td>Clip</td>\n",
       "      <td>MAGMAPEAK</td>\n",
       "    </tr>\n",
       "    <tr>\n",
       "      <th>1103</th>\n",
       "      <td>27253bdc</td>\n",
       "      <td>091587ed87b9637c</td>\n",
       "      <td>2019-09-06T18:10:51.183Z</td>\n",
       "      <td>{\"event_code\": 2000, \"event_count\": 1}</td>\n",
       "      <td>0001e90f</td>\n",
       "      <td>1</td>\n",
       "      <td>2000</td>\n",
       "      <td>0</td>\n",
       "      <td>Magma Peak - Level 2</td>\n",
       "      <td>Clip</td>\n",
       "      <td>MAGMAPEAK</td>\n",
       "    </tr>\n",
       "    <tr>\n",
       "      <th>1355</th>\n",
       "      <td>27253bdc</td>\n",
       "      <td>3fce4f09769ff0b7</td>\n",
       "      <td>2019-09-06T18:18:11.250Z</td>\n",
       "      <td>{\"event_code\": 2000, \"event_count\": 1}</td>\n",
       "      <td>0001e90f</td>\n",
       "      <td>1</td>\n",
       "      <td>2000</td>\n",
       "      <td>0</td>\n",
       "      <td>Tree Top City - Level 1</td>\n",
       "      <td>Clip</td>\n",
       "      <td>TREETOPCITY</td>\n",
       "    </tr>\n",
       "    <tr>\n",
       "      <th>1356</th>\n",
       "      <td>27253bdc</td>\n",
       "      <td>04168b61c0650977</td>\n",
       "      <td>2019-09-06T18:18:42.392Z</td>\n",
       "      <td>{\"event_code\": 2000, \"event_count\": 1}</td>\n",
       "      <td>0001e90f</td>\n",
       "      <td>1</td>\n",
       "      <td>2000</td>\n",
       "      <td>0</td>\n",
       "      <td>Ordering Spheres</td>\n",
       "      <td>Clip</td>\n",
       "      <td>TREETOPCITY</td>\n",
       "    </tr>\n",
       "    <tr>\n",
       "      <th>...</th>\n",
       "      <td>...</td>\n",
       "      <td>...</td>\n",
       "      <td>...</td>\n",
       "      <td>...</td>\n",
       "      <td>...</td>\n",
       "      <td>...</td>\n",
       "      <td>...</td>\n",
       "      <td>...</td>\n",
       "      <td>...</td>\n",
       "      <td>...</td>\n",
       "      <td>...</td>\n",
       "    </tr>\n",
       "    <tr>\n",
       "      <th>11340971</th>\n",
       "      <td>27253bdc</td>\n",
       "      <td>e131c218f77fbeab</td>\n",
       "      <td>2019-10-10T15:08:23.374Z</td>\n",
       "      <td>{\"event_code\": 2000, \"event_count\": 1}</td>\n",
       "      <td>fffc0583</td>\n",
       "      <td>1</td>\n",
       "      <td>2000</td>\n",
       "      <td>0</td>\n",
       "      <td>Magma Peak - Level 2</td>\n",
       "      <td>Clip</td>\n",
       "      <td>MAGMAPEAK</td>\n",
       "    </tr>\n",
       "    <tr>\n",
       "      <th>11341038</th>\n",
       "      <td>27253bdc</td>\n",
       "      <td>6ad8ab25003ef1b0</td>\n",
       "      <td>2019-10-10T15:12:17.364Z</td>\n",
       "      <td>{\"event_code\": 2000, \"event_count\": 1}</td>\n",
       "      <td>fffc0583</td>\n",
       "      <td>1</td>\n",
       "      <td>2000</td>\n",
       "      <td>0</td>\n",
       "      <td>Crystal Caves - Level 2</td>\n",
       "      <td>Clip</td>\n",
       "      <td>CRYSTALCAVES</td>\n",
       "    </tr>\n",
       "    <tr>\n",
       "      <th>11341039</th>\n",
       "      <td>27253bdc</td>\n",
       "      <td>71904dca23b982c6</td>\n",
       "      <td>2019-10-10T15:13:04.713Z</td>\n",
       "      <td>{\"event_code\": 2000, \"event_count\": 1}</td>\n",
       "      <td>fffc0583</td>\n",
       "      <td>1</td>\n",
       "      <td>2000</td>\n",
       "      <td>0</td>\n",
       "      <td>Crystal Caves - Level 3</td>\n",
       "      <td>Clip</td>\n",
       "      <td>CRYSTALCAVES</td>\n",
       "    </tr>\n",
       "    <tr>\n",
       "      <th>11341040</th>\n",
       "      <td>27253bdc</td>\n",
       "      <td>2267b18f069e875a</td>\n",
       "      <td>2019-10-10T15:13:54.545Z</td>\n",
       "      <td>{\"event_code\": 2000, \"event_count\": 1}</td>\n",
       "      <td>fffc0583</td>\n",
       "      <td>1</td>\n",
       "      <td>2000</td>\n",
       "      <td>0</td>\n",
       "      <td>Crystal Caves - Level 3</td>\n",
       "      <td>Clip</td>\n",
       "      <td>CRYSTALCAVES</td>\n",
       "    </tr>\n",
       "    <tr>\n",
       "      <th>11341041</th>\n",
       "      <td>27253bdc</td>\n",
       "      <td>f31950f549d7c242</td>\n",
       "      <td>2019-10-10T15:15:12.483Z</td>\n",
       "      <td>{\"event_code\": 2000, \"event_count\": 1}</td>\n",
       "      <td>fffc0583</td>\n",
       "      <td>1</td>\n",
       "      <td>2000</td>\n",
       "      <td>0</td>\n",
       "      <td>Tree Top City - Level 2</td>\n",
       "      <td>Clip</td>\n",
       "      <td>TREETOPCITY</td>\n",
       "    </tr>\n",
       "  </tbody>\n",
       "</table>\n",
       "<p>183676 rows × 11 columns</p>\n",
       "</div>"
      ],
      "text/plain": [
       "          event_id      game_session                 timestamp  \\\n",
       "0         27253bdc  45bb1e1b6b50c07b  2019-09-06T17:53:46.937Z   \n",
       "1         27253bdc  17eeb7f223665f53  2019-09-06T17:54:17.519Z   \n",
       "1103      27253bdc  091587ed87b9637c  2019-09-06T18:10:51.183Z   \n",
       "1355      27253bdc  3fce4f09769ff0b7  2019-09-06T18:18:11.250Z   \n",
       "1356      27253bdc  04168b61c0650977  2019-09-06T18:18:42.392Z   \n",
       "...            ...               ...                       ...   \n",
       "11340971  27253bdc  e131c218f77fbeab  2019-10-10T15:08:23.374Z   \n",
       "11341038  27253bdc  6ad8ab25003ef1b0  2019-10-10T15:12:17.364Z   \n",
       "11341039  27253bdc  71904dca23b982c6  2019-10-10T15:13:04.713Z   \n",
       "11341040  27253bdc  2267b18f069e875a  2019-10-10T15:13:54.545Z   \n",
       "11341041  27253bdc  f31950f549d7c242  2019-10-10T15:15:12.483Z   \n",
       "\n",
       "                                      event_data installation_id  event_count  \\\n",
       "0         {\"event_code\": 2000, \"event_count\": 1}        0001e90f            1   \n",
       "1         {\"event_code\": 2000, \"event_count\": 1}        0001e90f            1   \n",
       "1103      {\"event_code\": 2000, \"event_count\": 1}        0001e90f            1   \n",
       "1355      {\"event_code\": 2000, \"event_count\": 1}        0001e90f            1   \n",
       "1356      {\"event_code\": 2000, \"event_count\": 1}        0001e90f            1   \n",
       "...                                          ...             ...          ...   \n",
       "11340971  {\"event_code\": 2000, \"event_count\": 1}        fffc0583            1   \n",
       "11341038  {\"event_code\": 2000, \"event_count\": 1}        fffc0583            1   \n",
       "11341039  {\"event_code\": 2000, \"event_count\": 1}        fffc0583            1   \n",
       "11341040  {\"event_code\": 2000, \"event_count\": 1}        fffc0583            1   \n",
       "11341041  {\"event_code\": 2000, \"event_count\": 1}        fffc0583            1   \n",
       "\n",
       "          event_code  game_time                    title  type         world  \n",
       "0               2000          0  Welcome to Lost Lagoon!  Clip          NONE  \n",
       "1               2000          0     Magma Peak - Level 1  Clip     MAGMAPEAK  \n",
       "1103            2000          0     Magma Peak - Level 2  Clip     MAGMAPEAK  \n",
       "1355            2000          0  Tree Top City - Level 1  Clip   TREETOPCITY  \n",
       "1356            2000          0         Ordering Spheres  Clip   TREETOPCITY  \n",
       "...              ...        ...                      ...   ...           ...  \n",
       "11340971        2000          0     Magma Peak - Level 2  Clip     MAGMAPEAK  \n",
       "11341038        2000          0  Crystal Caves - Level 2  Clip  CRYSTALCAVES  \n",
       "11341039        2000          0  Crystal Caves - Level 3  Clip  CRYSTALCAVES  \n",
       "11341040        2000          0  Crystal Caves - Level 3  Clip  CRYSTALCAVES  \n",
       "11341041        2000          0  Tree Top City - Level 2  Clip   TREETOPCITY  \n",
       "\n",
       "[183676 rows x 11 columns]"
      ]
     },
     "execution_count": 28,
     "metadata": {},
     "output_type": "execute_result"
    }
   ],
   "source": [
    "df[df['type']=='Clip']"
   ]
  },
  {
   "cell_type": "code",
   "execution_count": 33,
   "metadata": {},
   "outputs": [],
   "source": [
    "df[['installation_id', 'world']].groupby(['installation_id', 'world']).sum().to_csv('worlds.csv')"
   ]
  },
  {
   "cell_type": "code",
   "execution_count": null,
   "metadata": {},
   "outputs": [],
   "source": []
  },
  {
   "cell_type": "code",
   "execution_count": 8,
   "metadata": {},
   "outputs": [],
   "source": [
    "df1 = df[df['event_code']==3010][['title', 'event_data', 'type', 'world']]#.groupby(['title', 'event_data']).sum()"
   ]
  },
  {
   "cell_type": "code",
   "execution_count": 10,
   "metadata": {},
   "outputs": [],
   "source": [
    "import json\n",
    "elt = df1.iloc[0]['event_data']\n",
    "json.loads(elt)['description']\n",
    "\n",
    "def load_json(x):\n",
    "    return json.loads(x)['description']\n",
    "\n",
    "df1['description'] = df1['event_data'].apply(load_json)"
   ]
  },
  {
   "cell_type": "code",
   "execution_count": 12,
   "metadata": {},
   "outputs": [],
   "source": [
    "df1 = df1[['title', 'description', 'type', 'world']]"
   ]
  },
  {
   "cell_type": "code",
   "execution_count": 14,
   "metadata": {},
   "outputs": [],
   "source": [
    "df1 = df1.groupby(['title', 'description', 'type', 'world']).sum()"
   ]
  },
  {
   "cell_type": "code",
   "execution_count": 20,
   "metadata": {},
   "outputs": [],
   "source": [
    "df1.to_csv('activities.csv', sep = ';')"
   ]
  },
  {
   "cell_type": "code",
   "execution_count": null,
   "metadata": {},
   "outputs": [],
   "source": [
    "df[(df['title'] == 'Sandcastle Builder (Activity)')&(df['event_code']==3010)]"
   ]
  },
  {
   "cell_type": "code",
   "execution_count": null,
   "metadata": {},
   "outputs": [],
   "source": []
  },
  {
   "cell_type": "code",
   "execution_count": null,
   "metadata": {},
   "outputs": [],
   "source": []
  },
  {
   "cell_type": "code",
   "execution_count": null,
   "metadata": {},
   "outputs": [],
   "source": [
    "df['world'].value_counts()"
   ]
  },
  {
   "cell_type": "code",
   "execution_count": null,
   "metadata": {},
   "outputs": [],
   "source": [
    "df"
   ]
  },
  {
   "cell_type": "code",
   "execution_count": null,
   "metadata": {},
   "outputs": [],
   "source": [
    "df[df['event_id'] == '17113b36']['event_code'] = 4100"
   ]
  },
  {
   "cell_type": "code",
   "execution_count": null,
   "metadata": {},
   "outputs": [],
   "source": [
    "df[(df['type'] == 'Assessment')&(df['event_code']==4100)].groupby(['game_session']).sum()"
   ]
  },
  {
   "cell_type": "code",
   "execution_count": null,
   "metadata": {},
   "outputs": [],
   "source": []
  },
  {
   "cell_type": "code",
   "execution_count": null,
   "metadata": {},
   "outputs": [],
   "source": []
  },
  {
   "cell_type": "code",
   "execution_count": null,
   "metadata": {},
   "outputs": [],
   "source": []
  },
  {
   "cell_type": "code",
   "execution_count": null,
   "metadata": {},
   "outputs": [],
   "source": [
    "df[['game_session', 'installation_id']].groupby(['game_session', 'installation_id']).sum()"
   ]
  },
  {
   "cell_type": "code",
   "execution_count": null,
   "metadata": {},
   "outputs": [],
   "source": [
    "df[df['type']=='Clip']"
   ]
  },
  {
   "cell_type": "code",
   "execution_count": null,
   "metadata": {},
   "outputs": [],
   "source": [
    "df[(df['installation_id']=='00279ac5')&(df['game_session']=='346d5f57cf40bac0')]#.iloc[-6]['event_data']"
   ]
  },
  {
   "cell_type": "code",
   "execution_count": null,
   "metadata": {},
   "outputs": [],
   "source": [
    "df[(df['installation_id']=='00279ac5')&(df['game_session']=='346d5f57cf40bac0')]['event_code'].value_counts()"
   ]
  },
  {
   "cell_type": "code",
   "execution_count": null,
   "metadata": {},
   "outputs": [],
   "source": [
    "df[df['event_id'] == '2b9272f4']"
   ]
  },
  {
   "cell_type": "code",
   "execution_count": null,
   "metadata": {},
   "outputs": [],
   "source": [
    "df[df['type']=='Activity']['event_code'].value_counts().sort_index()\n"
   ]
  },
  {
   "cell_type": "code",
   "execution_count": null,
   "metadata": {},
   "outputs": [],
   "source": [
    "list(df['title'].unique())"
   ]
  },
  {
   "cell_type": "code",
   "execution_count": null,
   "metadata": {},
   "outputs": [],
   "source": [
    "labels = pd.read_csv(train_labels)"
   ]
  },
  {
   "cell_type": "code",
   "execution_count": null,
   "metadata": {},
   "outputs": [],
   "source": [
    "df.head()"
   ]
  },
  {
   "cell_type": "markdown",
   "metadata": {},
   "source": [
    "#### Adding some formating to dataframe"
   ]
  },
  {
   "cell_type": "code",
   "execution_count": null,
   "metadata": {},
   "outputs": [],
   "source": [
    "ids = df[df['type']=='Assessment']['installation_id'].unique()\n",
    "df = df[df.installation_id.isin(ids)]\n",
    "df = df[df.installation_id.isin(labels.installation_id.unique())]\n",
    "\n",
    "dtitle, dtype, dworld, devent = load('dicos')\n",
    "\n",
    "dtitle = categorise(df['title'])\n",
    "dtype = categorise(df['type'])\n",
    "dworld = categorise(df['world'])\n",
    "devent = categorise(df['event_code'])\n",
    "\n",
    "save((dtitle, dtype, dworld, devent), 'dico')\n",
    "\n",
    "df = df.replace({'title' : dtitle})\n",
    "df = df.replace({'type' : dtype})\n",
    "df = df.replace({'world' : dworld})\n",
    "df = df.replace({'event_code' : devent})\n",
    "\n",
    "# df['date'] = df['timestamp'].apply(dateutil.parser.parse)\n",
    "# df = df.sort_values(by = ['date'], ascending =True)\n",
    "# df = df.reset_index()\n",
    "\n",
    "# df = df.reset_index()"
   ]
  },
  {
   "cell_type": "code",
   "execution_count": null,
   "metadata": {},
   "outputs": [],
   "source": [
    "from multiprocess import Pool\n",
    "def f(x):\n",
    "    import dateutil.parser\n",
    "    return dateutil.parser.parse(x)\n",
    "\n",
    "if __name__ == '__main__':\n",
    "    p = Pool(8)\n",
    "    vect = p.map(f, df['timestamp'].values)\n",
    "\n",
    "df['date'] = vect\n",
    "df = df.sort_values(by = ['date'], ascending =True)\n",
    "df = df.reset_index()\n",
    "\n",
    "df = df.reset_index()"
   ]
  },
  {
   "cell_type": "code",
   "execution_count": null,
   "metadata": {},
   "outputs": [],
   "source": [
    "save(df, 'time train')"
   ]
  },
  {
   "cell_type": "code",
   "execution_count": null,
   "metadata": {},
   "outputs": [],
   "source": [
    "df = load('time train')"
   ]
  },
  {
   "cell_type": "code",
   "execution_count": null,
   "metadata": {},
   "outputs": [],
   "source": [
    "df['event_count'] = (df['event_count'].values - df['event_count'].values.mean())/df['event_count'].values.std()\n",
    "df['game_time'] = (df['game_time'].values - df['game_time'].values.mean())/df['game_time'].values.std()"
   ]
  },
  {
   "cell_type": "code",
   "execution_count": null,
   "metadata": {},
   "outputs": [],
   "source": [
    "df = df.sort_values(by = ['date'], ascending =True)\n",
    "df = df.sort_values(by = ['installation_id'], ascending =True)\n",
    "\n",
    "dico_id = {}\n",
    "\n",
    "vect = df['installation_id'].values\n",
    "count = 0\n",
    "for elt in vect:    \n",
    "    if count == 0:\n",
    "        val1 = 0\n",
    "        mem = elt\n",
    "    \n",
    "    if elt != mem:\n",
    "        val2 = count\n",
    "        dico_id[mem] = [val1, val2]\n",
    "        val1 = count\n",
    "    \n",
    "    if count == vect.shape[0]-1:\n",
    "        dico_id[mem] = [val1, vect.shape[0]]\n",
    "    \n",
    "    mem = elt\n",
    "    count += 1"
   ]
  },
  {
   "cell_type": "code",
   "execution_count": null,
   "metadata": {
    "scrolled": true
   },
   "outputs": [],
   "source": [
    "per_id = list(np.zeros(3614))\n",
    "\n",
    "count = 0\n",
    "for elt in labels['installation_id'].unique():\n",
    "    per_id[count] = labels[labels['installation_id']==elt]\n",
    "    count += 1\n",
    "\n",
    "\n",
    "\n",
    "dataset = []\n",
    "\n",
    "for i in range(len(per_id)):\n",
    "    print(i)\n",
    "    temp = list(np.zeros(per_id[i].shape[0]))\n",
    "    rows = dico_id[per_id[i].iloc[0]['installation_id']]\n",
    "    df1 = df.iloc[rows[0]:rows[1]]\n",
    "    df1 = df1.sort_values(by = ['date'], ascending =True)\n",
    "#     df1 = df1.drop_duplicates(subset = ['event_id'])\n",
    "#     print(df1)\n",
    "#     df1 = df[df['installation_id'] == per_id[i].iloc[0]['installation_id']]\n",
    "#     print(df1.head())\n",
    "    for j in range(len(temp)):\n",
    "        installation_id = per_id[i].iloc[j]['installation_id']\n",
    "        game_session = per_id[i].iloc[j]['game_session']\n",
    "        df2 = build_line(df1, installation_id, game_session)\n",
    "\n",
    "        temp[j] = df2.values\n",
    "    dataset.extend(temp)"
   ]
  },
  {
   "cell_type": "code",
   "execution_count": null,
   "metadata": {},
   "outputs": [],
   "source": [
    "save(dataset, 'non_padded')"
   ]
  },
  {
   "cell_type": "code",
   "execution_count": null,
   "metadata": {},
   "outputs": [],
   "source": []
  },
  {
   "cell_type": "code",
   "execution_count": null,
   "metadata": {},
   "outputs": [],
   "source": []
  },
  {
   "cell_type": "code",
   "execution_count": null,
   "metadata": {},
   "outputs": [],
   "source": []
  },
  {
   "cell_type": "code",
   "execution_count": null,
   "metadata": {},
   "outputs": [],
   "source": [
    "test = load('test')\n",
    "# ids = df['installation_id'].unique()"
   ]
  },
  {
   "cell_type": "code",
   "execution_count": null,
   "metadata": {},
   "outputs": [],
   "source": [
    "test[['title', 'type', 'world', 'event_count']].groupby(['title', 'type', 'world']).sum()"
   ]
  },
  {
   "cell_type": "code",
   "execution_count": null,
   "metadata": {},
   "outputs": [],
   "source": [
    "test['installation_id'].unique()"
   ]
  },
  {
   "cell_type": "code",
   "execution_count": null,
   "metadata": {},
   "outputs": [],
   "source": [
    "id1 = '167fe32c'\n",
    "test[test['installation_id'] == id1]"
   ]
  },
  {
   "cell_type": "code",
   "execution_count": null,
   "metadata": {},
   "outputs": [],
   "source": [
    "test[(test['installation_id'] == id1)&(test['type']=='Assessment')]"
   ]
  },
  {
   "cell_type": "code",
   "execution_count": null,
   "metadata": {},
   "outputs": [],
   "source": [
    "b = test[test['type'] == 'Assessment'][['installation_id','game_time','event_count']].groupby(['installation_id']).max()"
   ]
  },
  {
   "cell_type": "code",
   "execution_count": null,
   "metadata": {},
   "outputs": [],
   "source": [
    "b['game_time'].values.max()"
   ]
  },
  {
   "cell_type": "code",
   "execution_count": null,
   "metadata": {},
   "outputs": [],
   "source": [
    "test['type'].unique()"
   ]
  },
  {
   "cell_type": "code",
   "execution_count": null,
   "metadata": {},
   "outputs": [],
   "source": [
    "test[test['event_code'] == 4230]['event_id'].unique()"
   ]
  },
  {
   "cell_type": "code",
   "execution_count": null,
   "metadata": {},
   "outputs": [],
   "source": [
    "df[df['event_code']==4100]#.iloc[1]['event_data']#[11:15]\n"
   ]
  },
  {
   "cell_type": "code",
   "execution_count": null,
   "metadata": {},
   "outputs": [],
   "source": [
    "import json\n",
    "# train_df['event_data'].apply(lambda x: json.loads(x).get('event_count'))\n",
    "\n",
    "json.loads(df[df['event_code']==4100].iloc[1]['event_data'])['correct']"
   ]
  },
  {
   "cell_type": "code",
   "execution_count": null,
   "metadata": {},
   "outputs": [],
   "source": [
    "import ast\n",
    "\n",
    "ast.literal_eval(df[df['event_code']==4100].iloc[0]['event_data'])"
   ]
  },
  {
   "cell_type": "code",
   "execution_count": null,
   "metadata": {},
   "outputs": [],
   "source": [
    "dico = {}"
   ]
  },
  {
   "cell_type": "code",
   "execution_count": null,
   "metadata": {},
   "outputs": [],
   "source": [
    "type(dico)"
   ]
  },
  {
   "cell_type": "code",
   "execution_count": null,
   "metadata": {},
   "outputs": [],
   "source": [
    "df[df['type']=='Activity']['event_code'].value_counts()"
   ]
  },
  {
   "cell_type": "code",
   "execution_count": null,
   "metadata": {},
   "outputs": [],
   "source": [
    "test[test['type']=='Clip']['title'].unique()"
   ]
  },
  {
   "cell_type": "code",
   "execution_count": null,
   "metadata": {},
   "outputs": [],
   "source": [
    "test[test['type']=='Game']['title'].unique()"
   ]
  },
  {
   "cell_type": "code",
   "execution_count": null,
   "metadata": {},
   "outputs": [],
   "source": [
    "test[test['type']=='Activity']['title'].unique()"
   ]
  },
  {
   "cell_type": "code",
   "execution_count": null,
   "metadata": {},
   "outputs": [],
   "source": [
    "test[test['type']=='Assessment']['title'].unique()"
   ]
  },
  {
   "cell_type": "code",
   "execution_count": null,
   "metadata": {},
   "outputs": [],
   "source": [
    "test['type'].value_counts()"
   ]
  },
  {
   "cell_type": "code",
   "execution_count": null,
   "metadata": {},
   "outputs": [],
   "source": []
  }
 ],
 "metadata": {
  "kernelspec": {
   "display_name": "Python 3",
   "language": "python",
   "name": "python3"
  },
  "language_info": {
   "codemirror_mode": {
    "name": "ipython",
    "version": 3
   },
   "file_extension": ".py",
   "mimetype": "text/x-python",
   "name": "python",
   "nbconvert_exporter": "python",
   "pygments_lexer": "ipython3",
   "version": "3.7.4"
  }
 },
 "nbformat": 4,
 "nbformat_minor": 2
}
