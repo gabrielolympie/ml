{
 "cells": [
  {
   "cell_type": "code",
   "execution_count": null,
   "metadata": {},
   "outputs": [],
   "source": [
    "import imageio\n",
    "import numpy as np\n",
    "import matplotlib.pyplot as plt\n",
    "import pandas as pd\n",
    "import os\n",
    "import cv2"
   ]
  },
  {
   "cell_type": "code",
   "execution_count": null,
   "metadata": {},
   "outputs": [],
   "source": [
    "def refine(x):\n",
    "    \n",
    "    import imageio\n",
    "    import numpy as np\n",
    "    import matplotlib.pyplot as plt\n",
    "    import pandas as pd\n",
    "    import os\n",
    "    import cv2\n",
    "\n",
    "    path = './celeba/' + x\n",
    "    print(x)\n",
    "    img = imageio.imread(path)\n",
    "    \n",
    "    lx, ly = img.shape[0], img.shape[1]\n",
    "    l = max(lx, ly)\n",
    "\n",
    "#     if lx == l:\n",
    "#         pad = np.zeros((lx, (l-ly)//2,3))+255\n",
    "#         img = np.concatenate([pad, img, pad], axis = 1)\n",
    "#     else:\n",
    "#         pad = np.zeros(((l-lx)//2, ly, 3)) + 255\n",
    "#         img = np.concatenate([pad, img, pad], axis = 0)\n",
    "\n",
    "    img = img[:l,:l,:]\n",
    "    img = img.astype('uint8')\n",
    "\n",
    "    img = cv2.resize(img, (128,128))\n",
    "    \n",
    "    imageio.imwrite('./celeba_128/'+x, img)\n",
    "    "
   ]
  },
  {
   "cell_type": "code",
   "execution_count": null,
   "metadata": {},
   "outputs": [],
   "source": [
    "def refine_hr(x):\n",
    "    \n",
    "    import imageio\n",
    "    import numpy as np\n",
    "    import matplotlib.pyplot as plt\n",
    "    import pandas as pd\n",
    "    import os\n",
    "    import cv2\n",
    "\n",
    "    path = './images/' + x\n",
    "    print(x)\n",
    "    img = imageio.imread(path)\n",
    "    \n",
    "    lx, ly = img.shape[0], img.shape[1]\n",
    "    l = max(lx, ly)\n",
    "\n",
    "    if lx == l:\n",
    "        pad = np.zeros((lx, (l-ly)//2,3))+255\n",
    "        img = np.concatenate([pad, img, pad], axis = 1)\n",
    "    else:\n",
    "        pad = np.zeros(((l-lx)//2, ly, 3)) + 255\n",
    "        img = np.concatenate([pad, img, pad], axis = 0)\n",
    "    img = img.astype('uint8')\n",
    "\n",
    "    img = cv2.resize(img, (1024,1024))\n",
    "    \n",
    "    imageio.imwrite('./image_clean_hr/'+x, img)\n",
    "    "
   ]
  },
  {
   "cell_type": "code",
   "execution_count": null,
   "metadata": {},
   "outputs": [],
   "source": [
    "def sub_sample(x):\n",
    "    import imageio\n",
    "    import numpy as np\n",
    "    import matplotlib.pyplot as plt\n",
    "    import pandas as pd\n",
    "    import os\n",
    "    import cv2\n",
    "    \n",
    "    path = './image_clean_1024/' + x\n",
    "    print(x)\n",
    "    img = imageio.imread(path)\n",
    "    img = cv2.resize(img, (512,512))\n",
    "    imageio.imwrite('./image_clean_512/'+x, img)"
   ]
  },
  {
   "cell_type": "code",
   "execution_count": null,
   "metadata": {},
   "outputs": [],
   "source": [
    "from multiprocess import Pool\n",
    "\n",
    "p = Pool(32)\n",
    "p.map(refine, os.listdir('./celeba'))\n",
    "p.close()"
   ]
  },
  {
   "cell_type": "code",
   "execution_count": null,
   "metadata": {},
   "outputs": [],
   "source": [
    "from multiprocess import Pool\n",
    "\n",
    "p = Pool(32)\n",
    "p.map(sub_sample, os.listdir('./image_clean_1024'))\n",
    "p.close()"
   ]
  },
  {
   "cell_type": "code",
   "execution_count": null,
   "metadata": {},
   "outputs": [],
   "source": [
    "p.close()\n",
    "del(p)\n",
    "import gc\n",
    "gc.collect()"
   ]
  },
  {
   "cell_type": "code",
   "execution_count": null,
   "metadata": {},
   "outputs": [],
   "source": [
    "def get_batch(batch_size):\n",
    "        import os\n",
    "        import imageio\n",
    "        import random\n",
    "        \n",
    "#         if self.item_list.sum() == 0:\n",
    "        imgs = os.listdir('./image_clean_64')\n",
    "#         else:\n",
    "#             imgs = self.item_list\n",
    "        \n",
    "        sizes = [4,8,16,32,64,128,256,512,1024]\n",
    "        \n",
    "        vect = [list(np.zeros(batch_size)) for i in range(len(sizes))]\n",
    "\n",
    "        \n",
    "        for i in range(batch_size):\n",
    "            r = random.randint(0,len(imgs)-1)\n",
    "            for j in range(len(sizes)):\n",
    "                path = './image_clean_'+str(sizes[j])+'/'+imgs[r]\n",
    "                img = imageio.imread(path)/255\n",
    "                vect[j][i] = img\n",
    "                      \n",
    "        vect = np.array(vect)\n",
    "        return vect"
   ]
  },
  {
   "cell_type": "code",
   "execution_count": null,
   "metadata": {},
   "outputs": [],
   "source": [
    "a = get_batch(32)"
   ]
  },
  {
   "cell_type": "code",
   "execution_count": null,
   "metadata": {},
   "outputs": [],
   "source": [
    "for i in range(9):\n",
    "    plt.figure(i)\n",
    "    plt.imshow(a[i][0])"
   ]
  },
  {
   "cell_type": "code",
   "execution_count": null,
   "metadata": {},
   "outputs": [],
   "source": []
  }
 ],
 "metadata": {
  "kernelspec": {
   "display_name": "Python 3",
   "language": "python",
   "name": "python3"
  },
  "language_info": {
   "codemirror_mode": {
    "name": "ipython",
    "version": 3
   },
   "file_extension": ".py",
   "mimetype": "text/x-python",
   "name": "python",
   "nbconvert_exporter": "python",
   "pygments_lexer": "ipython3",
   "version": "3.7.4"
  }
 },
 "nbformat": 4,
 "nbformat_minor": 2
}
