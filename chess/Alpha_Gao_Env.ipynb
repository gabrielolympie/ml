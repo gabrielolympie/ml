{
 "cells": [
  {
   "cell_type": "code",
   "execution_count": null,
   "metadata": {},
   "outputs": [],
   "source": [
    "# import chess.pgn\n",
    "# import numpy as np\n",
    "# from multiprocess import Pool\n",
    "\n",
    "# pgn = open(\"./high/2020.pgn\")\n",
    "# file = pgn.read()\n",
    "# file = file.replace('[Event ', '|||[Event ')\n",
    "# file = file.split('|||')\n",
    "# file = file[1:]\n",
    "\n",
    "# def process(x):\n",
    "#     import io\n",
    "#     import chess.pgn\n",
    "#     pg = io.StringIO(x)\n",
    "#     game = chess.pgn.read_game(pg)\n",
    "#     return game\n",
    "\n",
    "# n = 100000\n",
    "# games = list(map(process,file[:n]))\n",
    "# first_game = games[1]\n",
    "# b = first_game.board()\n",
    "\n",
    "import _pickle as pickle\n",
    "import os\n",
    "from tqdm.auto import tqdm\n",
    "from multiprocess import Pool\n",
    "from chessboard import display\n",
    "from chess_env import *\n",
    "def save(file,name, folder = \"\"):\n",
    "    if folder != \"\":\n",
    "        outfile = open('./'+folder+'/'+name+'.pickle', 'wb')\n",
    "    else:\n",
    "        outfile = open(name+'.pickle', 'wb')\n",
    "    pickle.dump(file, outfile, protocol=4)\n",
    "    outfile.close\n",
    "    \n",
    "def load(name, folder = \"\"):\n",
    "    if folder != \"\":\n",
    "        outfile = open('./'+folder+'/'+name+'.pickle', 'rb')\n",
    "    else:\n",
    "        outfile = open(name+'.pickle', 'rb')\n",
    "    file = pickle.load(outfile)\n",
    "    outfile.close\n",
    "    return file\n",
    "\n",
    "# games = load('./high/batch/2010_1')"
   ]
  },
  {
   "cell_type": "code",
   "execution_count": null,
   "metadata": {},
   "outputs": [],
   "source": [
    "from chessboard import display\n",
    "from chess_env import *\n",
    "from tqdm.auto import tqdm\n",
    "\n",
    "disp = 1\n",
    "if disp == 1:\n",
    "    display.start('rnbqkbnr/pppppppp/8/8/8/8/PPPPPPPP/RNBQKBNR w KQkq - 0 1') "
   ]
  },
  {
   "cell_type": "code",
   "execution_count": null,
   "metadata": {},
   "outputs": [],
   "source": [
    "dico_pieces"
   ]
  },
  {
   "cell_type": "markdown",
   "metadata": {},
   "source": [
    "## Loading from a state"
   ]
  },
  {
   "cell_type": "code",
   "execution_count": null,
   "metadata": {},
   "outputs": [],
   "source": [
    "sparse = [\n",
    "    'qa8',\n",
    "    'Qb6',\n",
    "    'Rd7',\n",
    "    're5'\n",
    "]\n",
    "\n",
    "turn = 'w'"
   ]
  },
  {
   "cell_type": "code",
   "execution_count": null,
   "metadata": {},
   "outputs": [],
   "source": [
    "env = Chess_Env(from_list = (sparse, turn), verbose = verbose)"
   ]
  },
  {
   "cell_type": "code",
   "execution_count": null,
   "metadata": {},
   "outputs": [],
   "source": [
    "env"
   ]
  },
  {
   "cell_type": "code",
   "execution_count": null,
   "metadata": {},
   "outputs": [],
   "source": [
    "env.get_pawn_centric_env()"
   ]
  },
  {
   "cell_type": "code",
   "execution_count": null,
   "metadata": {},
   "outputs": [],
   "source": [
    "env.get_pos_centric_env()"
   ]
  },
  {
   "cell_type": "code",
   "execution_count": null,
   "metadata": {},
   "outputs": [],
   "source": [
    "# env.get_next_move()"
   ]
  },
  {
   "cell_type": "markdown",
   "metadata": {},
   "source": [
    "## Loading From a game"
   ]
  },
  {
   "cell_type": "code",
   "execution_count": null,
   "metadata": {},
   "outputs": [],
   "source": [
    "env.hard_reset()\n",
    "env.from_game(games[0])"
   ]
  },
  {
   "cell_type": "code",
   "execution_count": null,
   "metadata": {},
   "outputs": [],
   "source": [
    "env"
   ]
  },
  {
   "cell_type": "code",
   "execution_count": null,
   "metadata": {},
   "outputs": [],
   "source": [
    "moves = [elt.uci() for elt in games[0].mainline_moves()]"
   ]
  },
  {
   "cell_type": "code",
   "execution_count": null,
   "metadata": {},
   "outputs": [],
   "source": [
    "count = 0\n",
    "for move in moves:\n",
    "    result = env.play(move)\n",
    "#     print(result)\n",
    "    count += 1"
   ]
  },
  {
   "cell_type": "code",
   "execution_count": null,
   "metadata": {},
   "outputs": [],
   "source": [
    "result"
   ]
  },
  {
   "cell_type": "code",
   "execution_count": null,
   "metadata": {},
   "outputs": [],
   "source": [
    "env"
   ]
  },
  {
   "cell_type": "code",
   "execution_count": null,
   "metadata": {},
   "outputs": [],
   "source": [
    "env.get_matrix()"
   ]
  },
  {
   "cell_type": "code",
   "execution_count": null,
   "metadata": {},
   "outputs": [],
   "source": [
    "env.get_sparse()"
   ]
  },
  {
   "cell_type": "code",
   "execution_count": null,
   "metadata": {
    "scrolled": true
   },
   "outputs": [],
   "source": [
    "env.history"
   ]
  },
  {
   "cell_type": "code",
   "execution_count": null,
   "metadata": {},
   "outputs": [],
   "source": [
    "out = pd.concat(out)"
   ]
  },
  {
   "cell_type": "code",
   "execution_count": null,
   "metadata": {},
   "outputs": [],
   "source": [
    "out.shape"
   ]
  },
  {
   "cell_type": "code",
   "execution_count": null,
   "metadata": {},
   "outputs": [],
   "source": [
    "save(out, 'test_parsed_saving')"
   ]
  },
  {
   "cell_type": "code",
   "execution_count": null,
   "metadata": {},
   "outputs": [],
   "source": [
    "out.shape"
   ]
  },
  {
   "cell_type": "code",
   "execution_count": null,
   "metadata": {},
   "outputs": [],
   "source": [
    "out[5]"
   ]
  },
  {
   "cell_type": "code",
   "execution_count": null,
   "metadata": {},
   "outputs": [],
   "source": [
    "def "
   ]
  },
  {
   "cell_type": "code",
   "execution_count": null,
   "metadata": {},
   "outputs": [],
   "source": []
  },
  {
   "cell_type": "code",
   "execution_count": null,
   "metadata": {},
   "outputs": [],
   "source": [
    "history = get_history((first_game, env))"
   ]
  },
  {
   "cell_type": "markdown",
   "metadata": {},
   "source": [
    "## Making random moves"
   ]
  },
  {
   "cell_type": "code",
   "execution_count": null,
   "metadata": {},
   "outputs": [],
   "source": [
    "env.hard_reset()\n",
    "env.from_game(first_game)"
   ]
  },
  {
   "cell_type": "code",
   "execution_count": null,
   "metadata": {},
   "outputs": [],
   "source": [
    "env = Chess_Env(verbose = 0)"
   ]
  },
  {
   "cell_type": "code",
   "execution_count": null,
   "metadata": {},
   "outputs": [],
   "source": [
    "import time\n",
    "\n",
    "t0 = time.time()\n",
    "results = None\n",
    "c = 0\n",
    "while results == None:\n",
    "    results = env.play(np.random.choice(env.get_moves()))\n",
    "    c += 1\n",
    "t1 = time.time()\n",
    "print(t1-t0)"
   ]
  },
  {
   "cell_type": "code",
   "execution_count": null,
   "metadata": {},
   "outputs": [],
   "source": [
    "print(c/(t1-t0), '         ', c)"
   ]
  },
  {
   "cell_type": "code",
   "execution_count": null,
   "metadata": {},
   "outputs": [],
   "source": [
    "print(c/(t1-t0), '         ', c)"
   ]
  },
  {
   "cell_type": "code",
   "execution_count": null,
   "metadata": {},
   "outputs": [],
   "source": [
    "env.history"
   ]
  },
  {
   "cell_type": "code",
   "execution_count": null,
   "metadata": {},
   "outputs": [],
   "source": [
    "display.terminate()"
   ]
  },
  {
   "cell_type": "code",
   "execution_count": null,
   "metadata": {},
   "outputs": [],
   "source": [
    "import pandas as pd\n",
    "\n",
    "a = \"python chess_parsing.py --year 2020\"\n",
    "df = pd.DataFrame({'check' : [a]})\n",
    "df.to_csv('2020.bat', header = False, index = False)"
   ]
  },
  {
   "cell_type": "code",
   "execution_count": null,
   "metadata": {},
   "outputs": [],
   "source": [
    "for i in range(2010,2021):\n",
    "    a = \"python chess_parsing.py --year \"+str(i)\n",
    "    df = pd.DataFrame({'check' : [a]})\n",
    "    df.to_csv(str(i)+'.bat', header = False, index = False)"
   ]
  },
  {
   "cell_type": "markdown",
   "metadata": {},
   "source": [
    "## Stockfish Play"
   ]
  },
  {
   "cell_type": "code",
   "execution_count": null,
   "metadata": {},
   "outputs": [],
   "source": [
    "from stockfish import Stockfish\n",
    "\n",
    "parameters_white = {\n",
    "    \"Write Debug Log\": \"false\",\n",
    "    \"Contempt\": 0,\n",
    "    \"Min Split Depth\": 0,\n",
    "    \"Threads\": 2,\n",
    "    \"Ponder\": \"false\",\n",
    "    \"Hash\": 16,\n",
    "    \"MultiPV\": 1,\n",
    "    \"Skill Level\": 30,\n",
    "    \"Move Overhead\": 30,\n",
    "    \"Minimum Thinking Time\": 20,\n",
    "    \"Slow Mover\": 30,\n",
    "    \"UCI_Chess960\": \"false\",\n",
    "}\n",
    "\n",
    "# parameters_white = {\n",
    "#     \"Threads\": 32,\n",
    "#     'UCI_Elo' : 2600,\n",
    "#     \"Slow Mover\": 30,\n",
    "# }\n",
    "\n",
    "stockfish_white = Stockfish(\"./stockfish/stockfish_13_win_x64_avx2.exe\", parameters = parameters_white)\n",
    "\n",
    "parameters_black = {\n",
    "    \"Write Debug Log\": \"false\",\n",
    "    \"Contempt\": 0,\n",
    "    \"Min Split Depth\": 0,\n",
    "    \"Threads\": 2,\n",
    "    \"Ponder\": \"false\",\n",
    "    \"Hash\": 16,\n",
    "    \"MultiPV\": 1,\n",
    "    \"Skill Level\": 5,\n",
    "    \"Move Overhead\": 30,\n",
    "    \"Minimum Thinking Time\": 20,\n",
    "    \"Slow Mover\": 30,\n",
    "    \"UCI_Chess960\": \"false\",\n",
    "}\n",
    "\n",
    "# parameters_black = {\n",
    "#     \"Threads\": 32,\n",
    "#     'UCI_Elo' : 1500,\n",
    "#     \"Slow Mover\": 30,\n",
    "# }\n",
    "\n",
    "stockfish_black = Stockfish(\"./stockfish/stockfish_13_win_x64_avx2.exe\", parameters = parameters_black)"
   ]
  },
  {
   "cell_type": "code",
   "execution_count": null,
   "metadata": {},
   "outputs": [],
   "source": [
    "env = Chess_Env(verbose = 1, display = 1)"
   ]
  },
  {
   "cell_type": "code",
   "execution_count": null,
   "metadata": {},
   "outputs": [],
   "source": [
    "import time\n",
    "\n",
    "t0 = time.time()\n",
    "results = None\n",
    "c = 0\n",
    "while results == None:\n",
    "    try:\n",
    "        turn = env.get_turn()\n",
    "        if turn == 'w':\n",
    "            stockfish_white.set_fen_position(env.fen())\n",
    "            move = stockfish_white.get_best_move()\n",
    "        else:\n",
    "            stockfish_black.set_fen_position(env.fen())\n",
    "            move = stockfish_black.get_best_move()\n",
    "    except:\n",
    "        move = np.random.choice(env.get_moves())\n",
    "        \n",
    "    results = env.play(move)\n",
    "    c += 1\n",
    "t1 = time.time()\n",
    "print(t1-t0)"
   ]
  },
  {
   "cell_type": "code",
   "execution_count": null,
   "metadata": {},
   "outputs": [],
   "source": [
    "env"
   ]
  },
  {
   "cell_type": "code",
   "execution_count": null,
   "metadata": {},
   "outputs": [],
   "source": [
    "results"
   ]
  },
  {
   "cell_type": "code",
   "execution_count": null,
   "metadata": {},
   "outputs": [],
   "source": [
    "w = []\n",
    "b = []\n",
    "\n",
    "for i in tqdm(range(50)):\n",
    "    env = Chess_Env(verbose = 1, display = 0)\n",
    "    results = None\n",
    "    while results == None:\n",
    "        try:\n",
    "            turn = env.get_turn()\n",
    "            if turn == 'w':\n",
    "                stockfish_white.set_fen_position(env.fen())\n",
    "                move = stockfish_white.get_best_move()\n",
    "            else:\n",
    "                stockfish_black.set_fen_position(env.fen())\n",
    "                move = stockfish_black.get_best_move()\n",
    "        except:\n",
    "            move = np.random.choice(env.get_moves())\n",
    "\n",
    "        results = env.play(move)\n",
    "    \n",
    "    if results[0] == '1':\n",
    "        w.append(1)\n",
    "        b.append(0)\n",
    "    else:\n",
    "        w.append(0)\n",
    "        b.append(1)"
   ]
  },
  {
   "cell_type": "code",
   "execution_count": null,
   "metadata": {},
   "outputs": [],
   "source": [
    "sum(w)"
   ]
  },
  {
   "cell_type": "code",
   "execution_count": null,
   "metadata": {},
   "outputs": [],
   "source": [
    "sum(b)"
   ]
  },
  {
   "cell_type": "code",
   "execution_count": null,
   "metadata": {},
   "outputs": [],
   "source": [
    "env"
   ]
  },
  {
   "cell_type": "code",
   "execution_count": null,
   "metadata": {},
   "outputs": [],
   "source": [
    "display.terminate()"
   ]
  },
  {
   "cell_type": "code",
   "execution_count": null,
   "metadata": {},
   "outputs": [],
   "source": [
    "import gc\n",
    "count = 0\n",
    "for year in tqdm(range(2010,2011)):\n",
    "    files = os.listdir('./high/parsed/')\n",
    "    file_list = [elt.split('.')[0] for elt in files if str(year) in elt]\n",
    "    df = []\n",
    "    for elt in tqdm(file_list):\n",
    "        df.append(load('./high/parsed/'+elt))\n",
    "    df = pd.concat(df)\n",
    "    count += df.shape[0]\n",
    "    \n",
    "#     save(df, './high/parsed_year/'+str(year))"
   ]
  },
  {
   "cell_type": "code",
   "execution_count": null,
   "metadata": {},
   "outputs": [],
   "source": [
    "count"
   ]
  },
  {
   "cell_type": "code",
   "execution_count": null,
   "metadata": {},
   "outputs": [],
   "source": [
    "df.head()"
   ]
  },
  {
   "cell_type": "code",
   "execution_count": null,
   "metadata": {},
   "outputs": [],
   "source": [
    "df.shape"
   ]
  },
  {
   "cell_type": "code",
   "execution_count": null,
   "metadata": {
    "scrolled": true
   },
   "outputs": [],
   "source": [
    "df['rank'].value_counts().values"
   ]
  },
  {
   "cell_type": "code",
   "execution_count": null,
   "metadata": {},
   "outputs": [],
   "source": [
    "df = []\n",
    "count = 0\n",
    "\n",
    "for file in tqdm(os.listdir('./high/parsed')):\n",
    "    f = './high/parsed/'+str(file.split('.')[0])\n",
    "    df_temp = load(f)\n",
    "    df1 = []\n",
    "    for r, data in tqdm(df_temp.groupby('rank'), leave = False):\n",
    "        if r <= 6:\n",
    "            n = 100\n",
    "        else:\n",
    "            n = 1000\n",
    "        df1.append(data.sample(n = min(n, data.shape[0])))\n",
    "    df1 = pd.concat(df1)\n",
    "    df.append(df1)\n",
    "save(df, '44M_fen_dataset')\n",
    "    "
   ]
  },
  {
   "cell_type": "code",
   "execution_count": null,
   "metadata": {},
   "outputs": [],
   "source": [
    "df = pd.concat(df)"
   ]
  },
  {
   "cell_type": "code",
   "execution_count": null,
   "metadata": {},
   "outputs": [],
   "source": [
    "df.shape"
   ]
  },
  {
   "cell_type": "code",
   "execution_count": null,
   "metadata": {},
   "outputs": [],
   "source": [
    "save(df, '44M_fen_dataset')"
   ]
  },
  {
   "cell_type": "code",
   "execution_count": null,
   "metadata": {},
   "outputs": [],
   "source": [
    "df[0].shape[0]*235"
   ]
  },
  {
   "cell_type": "code",
   "execution_count": null,
   "metadata": {},
   "outputs": [],
   "source": [
    "vc = df_temp['rank'].value_counts()\n",
    "r = vc.index\n",
    "c = vc.values"
   ]
  },
  {
   "cell_type": "code",
   "execution_count": null,
   "metadata": {},
   "outputs": [],
   "source": [
    "plt.plot(r, c)"
   ]
  },
  {
   "cell_type": "code",
   "execution_count": null,
   "metadata": {},
   "outputs": [],
   "source": [
    "df_temp.shape[0]/10"
   ]
  },
  {
   "cell_type": "code",
   "execution_count": null,
   "metadata": {},
   "outputs": [],
   "source": [
    "r"
   ]
  },
  {
   "cell_type": "code",
   "execution_count": null,
   "metadata": {},
   "outputs": [],
   "source": []
  }
 ],
 "metadata": {
  "kernelspec": {
   "display_name": "Python 3",
   "language": "python",
   "name": "python3"
  },
  "language_info": {
   "codemirror_mode": {
    "name": "ipython",
    "version": 3
   },
   "file_extension": ".py",
   "mimetype": "text/x-python",
   "name": "python",
   "nbconvert_exporter": "python",
   "pygments_lexer": "ipython3",
   "version": "3.8.5"
  }
 },
 "nbformat": 4,
 "nbformat_minor": 5
}
