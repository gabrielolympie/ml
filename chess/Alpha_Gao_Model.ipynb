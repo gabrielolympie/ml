{
 "cells": [
  {
   "cell_type": "code",
   "execution_count": 1,
   "metadata": {},
   "outputs": [
    {
     "name": "stdout",
     "output_type": "stream",
     "text": [
      "pygame 2.0.1 (SDL 2.0.14, Python 3.8.5)\n",
      "Hello from the pygame community. https://www.pygame.org/contribute.html\n"
     ]
    }
   ],
   "source": [
    "import _pickle as pickle\n",
    "import os\n",
    "import gc\n",
    "from tqdm.auto import tqdm\n",
    "from multiprocess import Pool\n",
    "from chessboard import display\n",
    "from chess_env import *\n",
    "from tf_transformers import *\n",
    "from chess_utils import *\n",
    "import tensorflow as tf\n",
    "def save(file,name, folder = \"\"):\n",
    "    if folder != \"\":\n",
    "        outfile = open('./'+folder+'/'+name+'.pickle', 'wb')\n",
    "    else:\n",
    "        outfile = open(name+'.pickle', 'wb')\n",
    "    pickle.dump(file, outfile, protocol=4)\n",
    "    outfile.close\n",
    "    \n",
    "def load(name, folder = \"\"):\n",
    "    if folder != \"\":\n",
    "        outfile = open('./'+folder+'/'+name+'.pickle', 'rb')\n",
    "    else:\n",
    "        outfile = open(name+'.pickle', 'rb')\n",
    "    file = pickle.load(outfile)\n",
    "    outfile.close\n",
    "    return file"
   ]
  },
  {
   "cell_type": "code",
   "execution_count": 2,
   "metadata": {},
   "outputs": [
    {
     "data": {
      "text/plain": [
       "[PhysicalDevice(name='/physical_device:CPU:0', device_type='CPU'),\n",
       " PhysicalDevice(name='/physical_device:GPU:0', device_type='GPU')]"
      ]
     },
     "execution_count": 2,
     "metadata": {},
     "output_type": "execute_result"
    }
   ],
   "source": [
    "tf.config.list_physical_devices()"
   ]
  },
  {
   "cell_type": "markdown",
   "metadata": {},
   "source": [
    "## Tokenization"
   ]
  },
  {
   "cell_type": "code",
   "execution_count": null,
   "metadata": {},
   "outputs": [],
   "source": [
    "df= load('44M_fen_dataset', 'data')"
   ]
  },
  {
   "cell_type": "code",
   "execution_count": null,
   "metadata": {},
   "outputs": [],
   "source": [
    "df.head()"
   ]
  },
  {
   "cell_type": "code",
   "execution_count": null,
   "metadata": {},
   "outputs": [],
   "source": [
    "def f(x):\n",
    "    from chess_utils import get_pos_centric_rep, pos_to_ind, paw_to_ind\n",
    "    import numpy as np\n",
    "    pa, po = get_pos_centric_rep(x)\n",
    "    pa = np.array([paw_to_ind[elt] for elt in pa]).astype('int8')\n",
    "    po = np.array([pos_to_ind[elt] for elt in po]).astype('int16')\n",
    "    return pa, po"
   ]
  },
  {
   "cell_type": "code",
   "execution_count": null,
   "metadata": {},
   "outputs": [],
   "source": [
    "fens = df['fen'].values#[:100000]"
   ]
  },
  {
   "cell_type": "code",
   "execution_count": null,
   "metadata": {},
   "outputs": [],
   "source": [
    "%%time\n",
    "p = Pool(32)\n",
    "unzipped =  list(zip(*p.map(f, fens)))\n",
    "p.close()\n",
    "pawns, pos = np.array(unzipped[0]).astype('int8'), np.array(unzipped[1]).astype('int16')"
   ]
  },
  {
   "cell_type": "code",
   "execution_count": null,
   "metadata": {},
   "outputs": [],
   "source": [
    "pawns = np.concatenate([np.zeros((pawns.shape[0], 1)), pawns], axis = 1).astype('int8')\n",
    "pos = np.concatenate([np.zeros((pos.shape[0], 1)), pos], axis = 1).astype('int16')"
   ]
  },
  {
   "cell_type": "code",
   "execution_count": null,
   "metadata": {},
   "outputs": [],
   "source": [
    "rank =df['rank'].values.astype('int16')\n",
    "color = df['color'].values\n",
    "color[color == 'w'] = 0\n",
    "color[color == 'b'] = 1\n",
    "color = color.astype('int8')\n",
    "save((pawns, pos, rank, color), '44M_tokens_pos', 'data')"
   ]
  },
  {
   "cell_type": "markdown",
   "metadata": {},
   "source": [
    "## Data Preparation"
   ]
  },
  {
   "cell_type": "code",
   "execution_count": null,
   "metadata": {},
   "outputs": [],
   "source": [
    "(pawns, pos, rank, color) = load('44M_tokens_pos', 'data')"
   ]
  },
  {
   "cell_type": "code",
   "execution_count": null,
   "metadata": {},
   "outputs": [],
   "source": [
    "## Masking\n",
    "p0 = 0.015\n",
    "p1 = 0.25\n",
    "\n",
    "mask0 = np.random.choice(np.array([0,1]).astype('int8'), p = [1-p0,p0],size = (pawns.shape[0], pawns.shape[1])).astype('int8')\n",
    "print('mask_0 initialized')\n",
    "mask1 = np.random.choice(np.array([0,1]).astype('int8'), p = [1-p1,p1],size = (pawns.shape[0], pawns.shape[1])).astype('int8')\n",
    "print('mask_1 initialized')\n",
    "mask0 *= (pawns == 0)*1\n",
    "print('mask_0 created')\n",
    "mask1 *= (pawns != 0)*1\n",
    "print('mask_1 created')\n",
    "mask = mask0 + mask1\n",
    "print('mask_created')\n",
    "\n",
    "del mask0\n",
    "del mask1\n",
    "gc.collect()\n",
    "\n",
    "pawns_out = pawns * mask + (1-mask)*13\n",
    "pawns = (pawns * (1-mask)) + (13 * mask)\n",
    "\n",
    "pawns = pawns.astype('int8')\n",
    "pawns_out = pawns_out.astype('int8')"
   ]
  },
  {
   "cell_type": "code",
   "execution_count": null,
   "metadata": {},
   "outputs": [],
   "source": [
    "ind = 10\n",
    "pawns[ind]"
   ]
  },
  {
   "cell_type": "code",
   "execution_count": null,
   "metadata": {},
   "outputs": [],
   "source": [
    "pawns_out[ind]"
   ]
  },
  {
   "cell_type": "code",
   "execution_count": null,
   "metadata": {},
   "outputs": [],
   "source": [
    "plt.figure(figsize = (25,15))\n",
    "plt.plot(pawns[ind])\n",
    "plt.plot(pawns_out[ind])"
   ]
  },
  {
   "cell_type": "code",
   "execution_count": null,
   "metadata": {},
   "outputs": [],
   "source": [
    "from sklearn.model_selection import train_test_split\n",
    "\n",
    "X_train_pa, X_test_pa, X_train_po, X_test_po = train_test_split(pawns, pos, test_size=0.2, random_state=42)\n",
    "y_train, y_test, _ , _ = train_test_split(pawns_out, color, test_size=0.2, random_state=42)\n",
    "color_train, color_test, rank_train , rank_test = train_test_split(color, rank, test_size=0.2, random_state=42)\n",
    "\n",
    "X_train = {\n",
    "    'pawns' : X_train_pa.astype('int8'),\n",
    "    'pos' : X_train_po.astype('int8'),\n",
    "    'color' : color_train[:,None].astype('int8'),\n",
    "    'rank' : rank_train[:,None].astype('int16')\n",
    "}\n",
    "\n",
    "X_test = {\n",
    "    'pawns' : X_test_pa.astype('int8'),\n",
    "    'pos' : X_test_po.astype('int8'),\n",
    "    'color' : color_test[:,None].astype('int8'),\n",
    "    'rank' : rank_test[:,None].astype('int16')\n",
    "}\n",
    "\n",
    "y_train = y_train.astype('int8')\n",
    "y_test = y_test.astype('int8')\n",
    "\n",
    "del pawns\n",
    "del pos\n",
    "del rank\n",
    "del color\n",
    "gc.collect()"
   ]
  },
  {
   "cell_type": "code",
   "execution_count": null,
   "metadata": {},
   "outputs": [],
   "source": [
    "save((X_train, X_test, y_train, y_test), 'dl_ready_data_pos', 'data')"
   ]
  },
  {
   "cell_type": "markdown",
   "metadata": {},
   "source": [
    "## Pretraining"
   ]
  },
  {
   "cell_type": "code",
   "execution_count": 3,
   "metadata": {},
   "outputs": [],
   "source": [
    "(X_train, X_test, y_train, y_test) = load('dl_ready_data_pos', 'data')\n",
    "X_train['rank'][X_train['rank']>=512] = 511\n",
    "X_test['rank'][X_test['rank']>=512] = 511"
   ]
  },
  {
   "cell_type": "code",
   "execution_count": null,
   "metadata": {},
   "outputs": [],
   "source": [
    "pawns = X_test['pawns']\n",
    "pawns_out = y_test"
   ]
  },
  {
   "cell_type": "code",
   "execution_count": null,
   "metadata": {},
   "outputs": [],
   "source": [
    "# for elt in X_train:\n",
    "#     X_train[elt] = X_train[elt].astype('float32')\n",
    "#     X_test[elt] = X_test[elt].astype('float32')\n",
    "# y_train = y_train.astype('float32')\n",
    "# y_test = y_test.astype('float32')"
   ]
  },
  {
   "cell_type": "code",
   "execution_count": 4,
   "metadata": {},
   "outputs": [
    {
     "name": "stdout",
     "output_type": "stream",
     "text": [
      "INFO:tensorflow:Mixed precision compatibility check (mixed_float16): OK\n",
      "Your GPU will likely run quickly with dtype policy mixed_float16 as it has compute capability of at least 7.0. Your GPU: GeForce RTX 3090, compute capability 8.6\n"
     ]
    }
   ],
   "source": [
    "from tensorflow.keras import mixed_precision\n",
    "policy = mixed_precision.Policy('mixed_float16')\n",
    "# policy = mixed_precision.Policy('float32')\n",
    "mixed_precision.set_global_policy(policy)\n",
    "\n",
    "# tf.config.optimizer.set_jit(True)"
   ]
  },
  {
   "cell_type": "code",
   "execution_count": 5,
   "metadata": {},
   "outputs": [],
   "source": [
    "class ChessEncoder(tf.keras.layers.Layer):\n",
    "    def __init__(self, num_layers = 2, d_model = 512, num_heads = 8, dff = 1024, input_vocab_size = 10000, maximum_position_encoding = 512, num_types = 2, rate=0.1, bidirectional_encoder = True):\n",
    "        super(ChessEncoder, self).__init__()\n",
    "\n",
    "        self.d_model = d_model\n",
    "        self.num_layers = num_layers\n",
    "\n",
    "        self.embedding_pawns = tf.keras.layers.Embedding(14, d_model)\n",
    "        self.embedding_pos = tf.keras.layers.Embedding(66, d_model)\n",
    "        self.embedding_col = tf.keras.layers.Embedding(3, d_model)\n",
    "        self.embedding_ran = tf.keras.layers.Embedding(512, d_model)\n",
    "    \n",
    "\n",
    "        self.enc_layers = [EncoderLayer(d_model, num_heads, dff, rate) \n",
    "                           for _ in range(num_layers)]\n",
    "\n",
    "        self.dropout = tf.keras.layers.Dropout(rate)\n",
    "        \n",
    "        self.bidirectional_encoder = bidirectional_encoder\n",
    "        \n",
    "    def call(self, x, \n",
    "             pos, \n",
    "             training, \n",
    "             color = None, rank = None\n",
    "            ):\n",
    "        \"\"\"\n",
    "        Two arguments to pass:\n",
    "            x : the input sequence of the transformer\n",
    "            training : bool, whether to train or not for dropout\n",
    "        \n",
    "        \"\"\"\n",
    "        seq_len = tf.shape(x)[1]\n",
    "#         print(x)\n",
    "        \n",
    "        # adding embedding and position encoding.\n",
    "        x = self.embedding_pawns(x)  # (batch_size, input_seq_len, d_model)\n",
    "        x *= tf.math.sqrt(tf.cast(self.d_model,x.dtype))\n",
    "        x += self.embedding_pos(pos)\n",
    "        \n",
    "#         print(x)\n",
    "        \n",
    "        if color is not None:\n",
    "            col = self.embedding_col(color)\n",
    "            col = tf.squeeze(col, axis = 1)\n",
    "            col = tf.keras.layers.RepeatVector(seq_len)(col)\n",
    "            x += col\n",
    "            \n",
    "        if rank is not None:\n",
    "            ran = self.embedding_ran(rank)\n",
    "            ran = tf.squeeze(ran, axis = 1)\n",
    "            ran = tf.keras.layers.RepeatVector(seq_len)(ran)\n",
    "            x += ran\n",
    "        \n",
    "        x = self.dropout(x, training=training)\n",
    "        \n",
    "        for i in range(self.num_layers):\n",
    "            x = self.enc_layers[i](x, training, mask = None)\n",
    "\n",
    "        return x  # (batch_size, input_seq_len, d_model)"
   ]
  },
  {
   "cell_type": "code",
   "execution_count": null,
   "metadata": {},
   "outputs": [],
   "source": [
    "# ## Pawn Centric\n",
    "# import tensorflow as tf\n",
    "# import numpy as np\n",
    "\n",
    "# inputs = {\n",
    "#     'pawns' : tf.keras.Input(shape = (67,)),\n",
    "#     'pos' : tf.keras.Input(shape = (67,)),\n",
    "#     'color' : tf.keras.Input(shape = (1,)),\n",
    "#     'rank' : tf.keras.Input(shape = (1,))\n",
    "# }\n",
    "\n",
    "# chessencoder = ChessEncoder(num_layers = 8, d_model = 512, num_heads = 8, dff = 1024, \n",
    "#                             input_vocab_size = 10000, maximum_position_encoding = 66, num_types = 2, \n",
    "#                             rate=0.1, bidirectional_encoder = True)\n",
    "\n",
    "# encoded = chessencoder(\n",
    "#             inputs['pawns'],\n",
    "#             inputs['pos'],\n",
    "#             training = True,\n",
    "#             color = inputs['color'],\n",
    "#             rank = inputs['rank']\n",
    "# )\n",
    "\n",
    "# pred = tf.keras.layers.Dense(66, activation = 'softmax')(encoded)\n",
    "\n",
    "# model = tf.keras.Model(inputs, pred)\n",
    "# model.summary()"
   ]
  },
  {
   "cell_type": "code",
   "execution_count": 6,
   "metadata": {},
   "outputs": [
    {
     "name": "stdout",
     "output_type": "stream",
     "text": [
      "Model: \"model\"\n",
      "__________________________________________________________________________________________________\n",
      "Layer (type)                    Output Shape         Param #     Connected to                     \n",
      "==================================================================================================\n",
      "input_1 (InputLayer)            [(None, 65)]         0                                            \n",
      "__________________________________________________________________________________________________\n",
      "input_2 (InputLayer)            [(None, 65)]         0                                            \n",
      "__________________________________________________________________________________________________\n",
      "input_3 (InputLayer)            [(None, 1)]          0                                            \n",
      "__________________________________________________________________________________________________\n",
      "input_4 (InputLayer)            [(None, 1)]          0                                            \n",
      "__________________________________________________________________________________________________\n",
      "chess_encoder (ChessEncoder)    (None, 65, 512)      8715776     input_1[0][0]                    \n",
      "                                                                 input_2[0][0]                    \n",
      "                                                                 input_3[0][0]                    \n",
      "                                                                 input_4[0][0]                    \n",
      "__________________________________________________________________________________________________\n",
      "dense_24 (Dense)                (None, 65, 14)       7182        chess_encoder[0][0]              \n",
      "==================================================================================================\n",
      "Total params: 8,722,958\n",
      "Trainable params: 8,722,958\n",
      "Non-trainable params: 0\n",
      "__________________________________________________________________________________________________\n"
     ]
    }
   ],
   "source": [
    "## Pos Centric\n",
    "\n",
    "import tensorflow as tf\n",
    "import numpy as np\n",
    "\n",
    "inputs = {\n",
    "    'pawns' : tf.keras.Input(shape = (65,)),\n",
    "    'pos' : tf.keras.Input(shape = (65,)),\n",
    "    'color' : tf.keras.Input(shape = (1,)),\n",
    "    'rank' : tf.keras.Input(shape = (1,))\n",
    "}\n",
    "\n",
    "chessencoder = ChessEncoder(num_layers = 4, d_model = 512, num_heads = 8, dff = 1024, \n",
    "                            input_vocab_size = 10000, maximum_position_encoding = 66, num_types = 2, \n",
    "                            rate=0.1, bidirectional_encoder = True)\n",
    "\n",
    "encoded = chessencoder(\n",
    "            inputs['pawns'],\n",
    "            inputs['pos'],\n",
    "            training = True,\n",
    "            color = inputs['color'],\n",
    "            rank = inputs['rank']\n",
    ")\n",
    "\n",
    "pred = tf.keras.layers.Dense(14, activation = 'softmax')(encoded)\n",
    "\n",
    "model = tf.keras.Model(inputs, pred)\n",
    "model.summary()"
   ]
  },
  {
   "cell_type": "code",
   "execution_count": null,
   "metadata": {},
   "outputs": [],
   "source": [
    "X_d = {elt:X_test[elt][:100000] for elt in X_test}\n",
    "y_d = y_test[:100000]\n",
    "\n",
    "x = model.predict(X_d, verbose = 1, batch_size = 2048)\n",
    "# x = model(X_d, training = True)\n"
   ]
  },
  {
   "cell_type": "code",
   "execution_count": null,
   "metadata": {},
   "outputs": [],
   "source": [
    "mixed precision 1M bs 1024: 149s\n",
    "half precision 1M bs 1024:  125s\n",
    "simple precision 1M bs 1024: 200s"
   ]
  },
  {
   "cell_type": "code",
   "execution_count": 7,
   "metadata": {},
   "outputs": [],
   "source": [
    "loss_object = tf.keras.losses.SparseCategoricalCrossentropy(\n",
    "                    from_logits=False, reduction='none')\n",
    "\n",
    "def loss_function(real, pred):\n",
    "    mask = tf.math.logical_not(tf.math.equal(real, 13))\n",
    "    loss_ = loss_object(real, pred)\n",
    "    mask = tf.cast(mask, dtype=loss_.dtype)\n",
    "    loss_ *= mask\n",
    "    return tf.reduce_sum(loss_)/tf.reduce_sum(mask)\n",
    "\n",
    "def acc_end(true, pred):\n",
    "    true = tf.cast(true, dtype = pred.dtype)\n",
    "    \n",
    "    mask = tf.math.logical_not(tf.math.equal(true, 13))\n",
    "    mask = tf.cast(mask, dtype = true.dtype)\n",
    "    \n",
    "    n_mask = tf.math.equal(mask, 0)\n",
    "    n_mask = tf.cast(mask, dtype = true.dtype)\n",
    "    n_mask = tf.math.reduce_sum(n_mask)\n",
    "    \n",
    "    en_true = true * mask\n",
    "\n",
    "    p = tf.math.argmax(pred, axis = -1)\n",
    "    p = tf.cast(p, dtype = true.dtype)\n",
    "    en_pred = p * mask  \n",
    "    \n",
    "    equal = tf.reduce_sum(tf.cast(tf.math.equal(en_true,en_pred), true.dtype))\n",
    "    \n",
    "    total = tf.reduce_sum(tf.cast(tf.math.logical_not(tf.math.equal(true, 151)),dtype= true.dtype))\n",
    "    \n",
    "    sum_equal = equal - n_mask\n",
    "    total = total - n_mask\n",
    "    \n",
    "    return sum_equal / total\n",
    "\n",
    "def acc(real, pred):\n",
    "    mask = tf.math.logical_not(tf.math.equal(real, 13))\n",
    "    mask = tf.cast(mask, dtype=metric.dtype)\n",
    "\n",
    "    \n",
    "    \n",
    "\n",
    "lr = 3e-5\n",
    "optimizer = tf.keras.optimizers.Adam(lr, 1e-8)\n",
    "metrics = ['sparse_categorical_accuracy', acc_end]\n",
    "\n",
    "model.compile(optimizer = optimizer, loss = loss_function, metrics = metrics)"
   ]
  },
  {
   "cell_type": "code",
   "execution_count": null,
   "metadata": {
    "scrolled": true
   },
   "outputs": [
    {
     "name": "stdout",
     "output_type": "stream",
     "text": [
      "Epoch 1/5\n",
      "15656/16685 [===========================>..] - ETA: 9:02 - loss: 1.2979 - sparse_categorical_accuracy: 0.0386 - acc_end: 0.9668"
     ]
    }
   ],
   "source": [
    "early = tf.keras.callbacks.EarlyStopping(monitor='val_loss', min_delta=0.0001, patience=4, verbose=1, \n",
    "                                                mode='auto', restore_best_weights=True)\n",
    "reduce = tf.keras.callbacks.ReduceLROnPlateau(monitor='val_loss', factor=0.5, patience=2, verbose=1, \n",
    "                                                  mode='auto', min_delta=0.0001, cooldown=0, min_lr=0)\n",
    "\n",
    "callbacks = [early, reduce]\n",
    "\n",
    "epochs = 5\n",
    "batch_size = 2048\n",
    "validation_batch_size = 2*batch_size\n",
    "\n",
    "history = model.fit(X_train, y_train, validation_data = (X_test, y_test),\n",
    "                   epochs = epochs, batch_size = batch_size, validation_batch_size = validation_batch_size, \n",
    "                   callbacks = callbacks)"
   ]
  },
  {
   "cell_type": "code",
   "execution_count": null,
   "metadata": {},
   "outputs": [],
   "source": [
    "model.save_weights('./checkpoints/pos_centric/pretrained/pretrained_loss_')"
   ]
  },
  {
   "cell_type": "code",
   "execution_count": null,
   "metadata": {},
   "outputs": [],
   "source": [
    "X_d = {elt:X_test[elt][:100000] for elt in X_test}\n",
    "y_d = y_test[:100000]\n",
    "\n",
    "x = model.predict(X_d, verbose = 1, batch_size = 4*2048)"
   ]
  },
  {
   "cell_type": "code",
   "execution_count": null,
   "metadata": {},
   "outputs": [],
   "source": [
    "pred = np.argmax(x, axis = -1)"
   ]
  },
  {
   "cell_type": "code",
   "execution_count": null,
   "metadata": {},
   "outputs": [],
   "source": [
    "ind = 10\n",
    "y_d[ind]"
   ]
  },
  {
   "cell_type": "code",
   "execution_count": null,
   "metadata": {},
   "outputs": [],
   "source": [
    "pred[ind]"
   ]
  },
  {
   "cell_type": "code",
   "execution_count": null,
   "metadata": {},
   "outputs": [],
   "source": [
    "plt.figure(figsize = (25,15))\n",
    "plt.plot(y_d[y_d != 13])\n",
    "plt.plot(pred[y_d != 13])"
   ]
  },
  {
   "cell_type": "code",
   "execution_count": null,
   "metadata": {},
   "outputs": [],
   "source": []
  }
 ],
 "metadata": {
  "kernelspec": {
   "display_name": "Python 3",
   "language": "python",
   "name": "python3"
  },
  "language_info": {
   "codemirror_mode": {
    "name": "ipython",
    "version": 3
   },
   "file_extension": ".py",
   "mimetype": "text/x-python",
   "name": "python",
   "nbconvert_exporter": "python",
   "pygments_lexer": "ipython3",
   "version": "3.8.5"
  }
 },
 "nbformat": 4,
 "nbformat_minor": 4
}
