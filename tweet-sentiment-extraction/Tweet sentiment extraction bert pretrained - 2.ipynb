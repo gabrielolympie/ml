{
 "cells": [
  {
   "cell_type": "code",
   "execution_count": 1,
   "metadata": {},
   "outputs": [],
   "source": [
    "import pandas as pd\n",
    "import numpy as np\n",
    "import matplotlib.pyplot as plt\n",
    "\n",
    "import _pickle as pickle\n",
    "def save(file,name, folder = \"\"):\n",
    "    if folder != \"\":\n",
    "        outfile = open('./'+folder+'/'+name+'.pickle', 'wb')\n",
    "    else:\n",
    "        outfile = open(name+'.pickle', 'wb')\n",
    "    pickle.dump(file, outfile)\n",
    "    outfile.close\n",
    "    \n",
    "def load(name, folder = \"\"):\n",
    "    if folder != \"\":\n",
    "        outfile = open('./'+folder+'/'+name+'.pickle', 'rb')\n",
    "    else:\n",
    "        outfile = open(name+'.pickle', 'rb')\n",
    "    file = pickle.load(outfile)\n",
    "    outfile.close\n",
    "    return file\n",
    "\n",
    "from tqdm.notebook import tqdm\n",
    "\n",
    "from transformers import BertTokenizer, TFBertForSequenceClassification, TFBertModel, RobertaTokenizer, TFRobertaModel, TFRobertaMainLayer\n",
    "import tensorflow as tf\n",
    "\n",
    "def equal(a, b):\n",
    "#     assert len(a) == len(b)\n",
    "    val = True\n",
    "    for i in range(len(a)):\n",
    "        if a[i] != b[i]:\n",
    "            val = False\n",
    "    return val\n",
    "\n",
    "import difflib\n",
    "\n",
    "tokenizer = BertTokenizer.from_pretrained('bert-base-uncased', do_lower_case=True)\n",
    "max_length = 64\n",
    "\n",
    "tokenizer = RobertaTokenizer.from_pretrained('roberta-base', do_lower_case=True)\n",
    "max_length = 64"
   ]
  },
  {
   "cell_type": "code",
   "execution_count": null,
   "metadata": {},
   "outputs": [],
   "source": [
    "df_train = pd.read_csv('train.csv')"
   ]
  },
  {
   "cell_type": "code",
   "execution_count": null,
   "metadata": {},
   "outputs": [],
   "source": [
    "df_train.head()"
   ]
  },
  {
   "cell_type": "code",
   "execution_count": null,
   "metadata": {},
   "outputs": [],
   "source": [
    "def jaccard(str1, str2): \n",
    "    a = set(str1.lower().split()) \n",
    "    b = set(str2.lower().split())\n",
    "    c = a.intersection(b)\n",
    "    return float(len(c)) / (len(a) + len(b) - len(c))"
   ]
  },
  {
   "cell_type": "code",
   "execution_count": null,
   "metadata": {},
   "outputs": [],
   "source": []
  },
  {
   "cell_type": "code",
   "execution_count": null,
   "metadata": {},
   "outputs": [],
   "source": [
    "line = df_train.iloc[14]\n",
    "s1 = ' '.join(line['sentiment'].split())\n",
    "s2 = ' '.join(line['text'].split())\n",
    "s3 = ' '.join(line['selected_text'].split())"
   ]
  },
  {
   "cell_type": "code",
   "execution_count": null,
   "metadata": {},
   "outputs": [],
   "source": [
    "print(s1)\n",
    "print(s2)\n",
    "print(s3)"
   ]
  },
  {
   "cell_type": "code",
   "execution_count": null,
   "metadata": {},
   "outputs": [],
   "source": [
    "def extract(s1,s2,s3, max_length):\n",
    "    encoded = tokenizer.encode_plus(s1, s2, add_special_tokens = True, max_length = max_length, pad_to_max_length = True)\n",
    "    encoded_answer1 = tokenizer.encode_plus('</s> ' + s3, add_special_tokens = False)\n",
    "    encoded_answer2 = tokenizer.encode_plus('start ' + s3, add_special_tokens = False)\n",
    "\n",
    "    input_id = np.array(encoded['input_ids'])\n",
    "    input_masks = np.array(encoded['attention_mask'])\n",
    "    input_types = np.array(encoded['token_type_ids'])\n",
    "\n",
    "    answer1 = np.array(encoded_answer1['input_ids'][1:])\n",
    "    answer2 = np.array(encoded_answer2['input_ids'][1:])\n",
    "\n",
    "    ## End and Start token\n",
    "    start = np.zeros(len(input_id))\n",
    "    end = np.zeros(len(input_id))\n",
    "    valid = np.zeros(len(input_id))\n",
    "    \n",
    "    found = False\n",
    "    for i in range(len(input_id) - len(answer1)):\n",
    "        if equal(input_id[i: i + len(answer1)],answer1):\n",
    "            st = i\n",
    "            en = i + len(answer1) -1\n",
    "#             print(input_id[st: en +1])\n",
    "#             print(tokenizer.decode(input_id[st: en+1]))\n",
    "            found = True\n",
    "\n",
    "        elif equal(input_id[i: i + len(answer2)],answer2):\n",
    "            st = i\n",
    "            en = i + len(answer2) -1\n",
    "#             print(input_id[st: en +1])\n",
    "#             print(tokenizer.decode(input_id[st: en+1]))\n",
    "            found = True\n",
    "    if found == False:\n",
    "        print('no answer found')\n",
    "    else:\n",
    "        start[st] = 1\n",
    "        end[en] = 1\n",
    "        valid[st:en+1] = 1\n",
    "        \n",
    "    for i in range(len(input_masks)):\n",
    "        if input_masks[i] == 0:\n",
    "            start[i] = 2\n",
    "            end[i] = 2\n",
    "            valid[i] = 2\n",
    "            \n",
    "    ## token ids\n",
    "    input_types[3:] = 1\n",
    "\n",
    "    for elt in range(len(input_masks)):\n",
    "        if input_masks[elt] == 0:\n",
    "            input_types[elt] = 0\n",
    "            \n",
    "    return input_id, input_masks, input_types, start, end, valid, found*1"
   ]
  },
  {
   "cell_type": "code",
   "execution_count": null,
   "metadata": {},
   "outputs": [],
   "source": [
    "input_id, input_masks, input_types, start, end, valid, found = extract(s1,s2,s3,128)"
   ]
  },
  {
   "cell_type": "code",
   "execution_count": null,
   "metadata": {},
   "outputs": [],
   "source": [
    "start"
   ]
  },
  {
   "cell_type": "code",
   "execution_count": null,
   "metadata": {},
   "outputs": [],
   "source": [
    "end"
   ]
  },
  {
   "cell_type": "code",
   "execution_count": null,
   "metadata": {},
   "outputs": [],
   "source": [
    "valid"
   ]
  },
  {
   "cell_type": "code",
   "execution_count": null,
   "metadata": {
    "scrolled": true
   },
   "outputs": [],
   "source": [
    "X = []\n",
    "X_type = []\n",
    "X_masks = []\n",
    "\n",
    "token_start = []\n",
    "token_end = []\n",
    "token = []\n",
    "\n",
    "X_text = []\n",
    "Y_text = []\n",
    "\n",
    "found_count = 0\n",
    "max_length = 64\n",
    "for index, line in tqdm(df_train.iterrows(), total = df_train.shape[0]):\n",
    "    s1 = ' '.join(line['sentiment'].split())\n",
    "    s2 = ' '.join(str(line['text']).split())\n",
    "    s3 = ' '.join(str(line['selected_text']).split())\n",
    "    \n",
    "    input_id, input_masks, input_types, start, end, valid, found = extract(s1,s2,s3, max_length)\n",
    "    \n",
    "    found_count += found\n",
    "    \n",
    "    X.append(input_id)\n",
    "    X_type.append(input_types)\n",
    "    X_masks.append(input_masks)\n",
    "    \n",
    "    token_start.append(start)\n",
    "    token_end.append(end)\n",
    "    token.append(valid)\n",
    "    \n",
    "    X_text.append(s2)\n",
    "    Y_text.append(line['selected_text'])"
   ]
  },
  {
   "cell_type": "code",
   "execution_count": null,
   "metadata": {},
   "outputs": [],
   "source": [
    "found_count"
   ]
  },
  {
   "cell_type": "code",
   "execution_count": null,
   "metadata": {},
   "outputs": [],
   "source": [
    "len(X_text)"
   ]
  },
  {
   "cell_type": "code",
   "execution_count": null,
   "metadata": {},
   "outputs": [],
   "source": [
    "df_train.shape"
   ]
  },
  {
   "cell_type": "code",
   "execution_count": null,
   "metadata": {},
   "outputs": [],
   "source": [
    "ind = 5\n",
    "a = X[ind]\n",
    "\n",
    "ts = token_start[ind]\n",
    "te = token_end[ind]\n",
    "ts = ts[ts !=2]\n",
    "te = te[te !=2]\n",
    "print(a)\n",
    "# print(Y[ind])\n",
    "print(tokenizer.decode(a))\n",
    "print(tokenizer.decode(a[np.argmax(ts):np.argmax(te)+1]))\n",
    "print(Y_text[ind])\n",
    "print(X_type[ind])\n",
    "print(X_masks[ind])\n",
    "print(token_start[ind])"
   ]
  },
  {
   "cell_type": "code",
   "execution_count": null,
   "metadata": {},
   "outputs": [],
   "source": []
  },
  {
   "cell_type": "code",
   "execution_count": null,
   "metadata": {},
   "outputs": [],
   "source": [
    "save((X, X_type, X_masks, X_text, Y_text, token_start, token_end, token), 'train_set')"
   ]
  },
  {
   "cell_type": "markdown",
   "metadata": {},
   "source": [
    "## Preparing dataset"
   ]
  },
  {
   "cell_type": "code",
   "execution_count": 2,
   "metadata": {},
   "outputs": [],
   "source": [
    "(X, X_type, X_masks, X_text, Y_text, token_start, token_end, token) = load('train_set')"
   ]
  },
  {
   "cell_type": "code",
   "execution_count": 3,
   "metadata": {},
   "outputs": [
    {
     "name": "stderr",
     "output_type": "stream",
     "text": [
      "Using TensorFlow backend.\n"
     ]
    }
   ],
   "source": [
    "from keras.utils import np_utils\n",
    "X = np.array(X)\n",
    "X_type = np.array(X_type)\n",
    "X_masks = np.array(X_masks)\n",
    "\n",
    "token_start = np.array(token_start)\n",
    "token_end = np.array(token_end)\n",
    "token = np.array(token)\n",
    "\n",
    "both = np.concatenate([token_start.reshape(token_start.shape[0], token_start.shape[1], 1), token_end.reshape(token_end.shape[0], token_end.shape[1], 1)], axis = -1)\n",
    "both[both == 2] = 0\n",
    "token_start[token_start == 2] = 0\n",
    "# token_end[token_end == 2] = 0\n",
    "# token[token == 2] = 0"
   ]
  },
  {
   "cell_type": "code",
   "execution_count": 4,
   "metadata": {},
   "outputs": [],
   "source": [
    "def count(token):\n",
    "    a = []\n",
    "    for elt in token:\n",
    "        c = 0\n",
    "        for i in elt:\n",
    "            if i == 1:\n",
    "                c+=1\n",
    "        a.append(c)\n",
    "    return np.array(a)"
   ]
  },
  {
   "cell_type": "code",
   "execution_count": 5,
   "metadata": {},
   "outputs": [],
   "source": [
    "from sklearn.model_selection import train_test_split\n",
    "X_train_ids, X_test_ids, y_train_start, y_test_start = train_test_split(X, token_start, random_state=42, test_size=0.1)\n",
    "X_train_mask, X_test_mask, Y_text_train, Y_text_test = train_test_split(X_masks, Y_text, random_state=42, test_size=0.1)\n",
    "X_train_type, X_test_type, X_text_train, X_text_test = train_test_split(X_type, X_text, random_state=42, test_size=0.1)\n",
    "y_train_end, y_test_end, token_train, token_test = train_test_split(token_end, token, random_state=42, test_size=0.1)\n",
    "\n",
    "X_train = [X_train_ids, X_train_mask, X_train_type]\n",
    "X_test = [X_test_ids, X_test_mask, X_test_type]\n",
    "\n",
    "# y_train = [y_train_start, y_train_end]\n",
    "# y_test = [y_test_start, y_test_end]\n",
    "\n",
    "y_train = [token_train, count(token_train)]\n",
    "y_test = [token_test, count(token_test)]\n",
    "\n"
   ]
  },
  {
   "cell_type": "code",
   "execution_count": 6,
   "metadata": {},
   "outputs": [],
   "source": [
    "from tensorflow.keras.models import Model\n",
    "from tensorflow.keras.layers import Input, Dense, Dropout, TimeDistributed, Embedding, Concatenate\n",
    "\n",
    "max_length = 64\n",
    "\n",
    "inputs_ids = Input(shape = (max_length,), dtype = 'int32')\n",
    "inputs_mask = Input(shape = (max_length,), dtype = 'int32')\n",
    "inputs_type = Input(shape = (max_length,), dtype = 'float32')\n",
    "\n",
    "inputs = [inputs_ids, inputs_mask, inputs_type]\n",
    "\n",
    "# sentence_encoder = TFBertModel.from_pretrained(\n",
    "#     \"bert-base-uncased\", # Use the 12-layer BERT model, with an uncased vocab.  \n",
    "#     output_attentions = False, # Whether the model returns attentions weights.\n",
    "#     output_hidden_states = False, # Whether the model returns all hidden-states.\n",
    "# )\n",
    "\n",
    "sentence_encoder = TFRobertaModel.from_pretrained('roberta-base',\n",
    "                                               output_attentions = False,\n",
    "                                               output_hidden_states = False,\n",
    "                                               )\n",
    "sentence_encoder.config.type_vocab_size = 2 \n",
    "sentence_encoder.roberta.embeddings.token_type_embeddings = Embedding(2, sentence_encoder.config.hidden_size)\n",
    "\n",
    "sentence_encoder.load_weights('./checkpoints/roberta_layer_epoch_'+str(0)+'_batch_'+str(14)+'/checkpoint.h5py')\n",
    "\n",
    "encoded = sentence_encoder(inputs_ids, attention_mask = inputs_mask, token_type_ids = inputs_type)\n",
    "pooled_encoded = encoded[0]\n",
    "pooled_encoded_1 = encoded[1]\n",
    "drop = Dropout(0.3)(pooled_encoded)\n",
    "\n",
    "out1 = TimeDistributed(Dense(1, activation = 'sigmoid'))(drop)\n",
    "out2 = Dense(1, activation = 'relu')(pooled_encoded_1)\n",
    "# out2 = TimeDistributed(Dense(1, activation = 'sigmoid'))(drop)\n",
    "\n",
    "# out1 = Dense(1, activation = 'sigmoid')(drop)\n",
    "# out2 = Dense(1, activation = 'sigmoid')(drop)\n",
    "\n",
    "out = [out1, out2]\n",
    "# out = Concatenate(axis = -1)([out1, out2])\n",
    "# out = TimeDistributed(Dense(2, activation = 'sigmoid'))(drop)\n",
    "\n",
    "model = Model(inputs, out)"
   ]
  },
  {
   "cell_type": "code",
   "execution_count": 7,
   "metadata": {},
   "outputs": [
    {
     "name": "stdout",
     "output_type": "stream",
     "text": [
      "Model: \"model\"\n",
      "__________________________________________________________________________________________________\n",
      "Layer (type)                    Output Shape         Param #     Connected to                     \n",
      "==================================================================================================\n",
      "input_1 (InputLayer)            [(None, 64)]         0                                            \n",
      "__________________________________________________________________________________________________\n",
      "input_2 (InputLayer)            [(None, 64)]         0                                            \n",
      "__________________________________________________________________________________________________\n",
      "input_3 (InputLayer)            [(None, 64)]         0                                            \n",
      "__________________________________________________________________________________________________\n",
      "tf_roberta_model (TFRobertaMode ((None, 64, 768), (N 124646400   input_1[0][0]                    \n",
      "__________________________________________________________________________________________________\n",
      "dropout_38 (Dropout)            (None, 64, 768)      0           tf_roberta_model[0][0]           \n",
      "__________________________________________________________________________________________________\n",
      "time_distributed (TimeDistribut (None, 64, 1)        769         dropout_38[0][0]                 \n",
      "__________________________________________________________________________________________________\n",
      "dense_1 (Dense)                 (None, 1)            769         tf_roberta_model[0][1]           \n",
      "==================================================================================================\n",
      "Total params: 124,647,938\n",
      "Trainable params: 124,647,938\n",
      "Non-trainable params: 0\n",
      "__________________________________________________________________________________________________\n"
     ]
    }
   ],
   "source": [
    "model.summary()"
   ]
  },
  {
   "cell_type": "code",
   "execution_count": 8,
   "metadata": {},
   "outputs": [],
   "source": [
    "def masked_cross_entropy(real, pred):\n",
    "    \n",
    "    real = tf.cast(real, dtype = pred.dtype)\n",
    "    \n",
    "    mask = tf.math.logical_not(tf.math.equal(real, 2))\n",
    "    mask = tf.cast(mask, dtype = real.dtype)\n",
    "    \n",
    "    loss = (real*tf.math.log(pred) + (1-real)*tf.math.log(1-pred))*mask\n",
    "#     print(loss)\n",
    "    loss = - tf.reduce_mean(loss)\n",
    "    \n",
    "    return loss\n",
    "\n",
    "def inter_len(real, pred):\n",
    "    \n",
    "    real = tf.cast(real, dtype = pred.dtype)\n",
    "    \n",
    "    mask = tf.math.logical_not(tf.math.equal(real, 2))\n",
    "    mask = tf.cast(mask, dtype = real.dtype)\n",
    "    \n",
    "    real = real*mask\n",
    "    pred = pred*mask\n",
    "#     print(real)\n",
    "#     print(pred)\n",
    "    categorical_pred = tf.cast(tf.math.greater(pred, 0.5), dtype = pred.dtype)\n",
    "    \n",
    "    inter = tf.reduce_sum(real*categorical_pred)\n",
    "    p = tf.reduce_sum(categorical_pred)\n",
    "    r = tf.reduce_sum(real)\n",
    "#     print(inter)\n",
    "#     print(p)\n",
    "#     print(r)\n",
    "    \n",
    "    loss = inter/(p+r-inter)\n",
    "    \n",
    "    return 1-loss\n",
    "\n",
    "def custom_loss(real, pred, ratio = 0.5):\n",
    "    \n",
    "    loss1 = masked_cross_entropy(real, pred)\n",
    "    loss2 = inter_len(real, pred)\n",
    "    \n",
    "    loss = ratio*loss1 + (1-ratio)*loss2\n",
    "    \n",
    "    return loss*100\n",
    "\n",
    "def jaccard_metric(real, pred):\n",
    "    real = tf.cast(real, dtype = pred.dtype)\n",
    "    \n",
    "    mask = tf.math.logical_not(tf.math.equal(real, 2))\n",
    "    mask = tf.cast(mask, dtype = real.dtype)\n",
    "    \n",
    "    real = real*mask\n",
    "    pred = pred*mask\n",
    "    \n",
    "    categorical_pred = tf.cast(tf.math.greater(pred, 0.5), dtype = pred.dtype)\n",
    "    \n",
    "    inter = tf.reduce_sum(real*categorical_pred)\n",
    "    p = tf.reduce_sum(categorical_pred)\n",
    "    r = tf.reduce_sum(real)\n",
    "    metric = inter/(p+r-inter)\n",
    "    return metric\n",
    "\n",
    "def acc(real, pred):\n",
    "    real = tf.cast(real, dtype = pred.dtype)\n",
    "    \n",
    "    mask = tf.math.logical_not(tf.math.equal(real, 2))\n",
    "    mask = tf.cast(mask, dtype = real.dtype)\n",
    "    \n",
    "    categorical_pred = tf.cast(tf.math.greater(pred, 0.5), dtype = pred.dtype)\n",
    "    \n",
    "    is_equal = tf.cast(real==categorical_pred, real.dtype)\n",
    "    \n",
    "    n_true = tf.math.reduce_sum(is_equal * mask)\n",
    "    \n",
    "    return n_true / tf.math.reduce_sum(mask)\n",
    "    \n",
    "# def custom_loss(true, pred):\n",
    "    \n",
    "#     true = tf.cast(true, dtype = pred.dtype)\n",
    "#     st_true = true[:, 0]\n",
    "#     en_true = true[:, 1]\n",
    "    \n",
    "#     st_pred = pred[:, 0]\n",
    "#     en_pred = pred[:, 1]\n",
    "    \n",
    "#     mask = tf.math.logical_not(tf.math.equal(st_true, 2))\n",
    "#     mask = tf.cast(mask, dtype = st_true.dtype)\n",
    "    \n",
    "#     ## Categorical crossentropy\n",
    "#     loss_start = masked_cross_entropy(st_true, st_pred)\n",
    "#     loss_en = masked_cross_entropy(en_true, en_pred)\n",
    "    \n",
    "    \n",
    "#     ## Jaccard\n",
    "#     st_true = st_true*mask\n",
    "#     en_true = en_true*mask\n",
    "    \n",
    "#     st_pred = st_pred*mask\n",
    "#     en_pred = en_pred*mask\n",
    "    \n",
    "#     stt = tf.math.argmax(st_true)\n",
    "#     ent = tf.math.argmax(en_true)\n",
    "    \n",
    "#     stp = tf.math.argmax(st_pred)\n",
    "#     enp = tf.math.argmax(en_pred)\n",
    "    \n",
    "#     lp = tf.math.maximum(enp - stp + 1 , 0)\n",
    "#     lt = tf.math.maximum(ent - stt + 1, 0)\n",
    "    \n",
    "# #     int1 = tf.math.maximum(ent - stp + 1, 0)\n",
    "# #     int2 = tf.math.maximum(enp - stt + 1, 0)\n",
    "#     int_abs = tf.math.minimum(ent - stp + 1, enp - stt + 1)\n",
    "#     int_abs = tf.math.maximum(int_abs, 0)\n",
    "    \n",
    "#     jac = int_abs / ( lp+ lt - int_abs)\n",
    "    \n",
    "# #     return loss_start, loss_en, jac\n",
    "#     return 0.5 * loss_start + 0.5 * loss_en# + 0.2 * (1-jac)\n",
    "    \n",
    "# def acc_start(true, pred):\n",
    "#     true = tf.cast(true, dtype = pred.dtype)\n",
    "#     st_true = true[:, 0]\n",
    "#     st_pred = pred[:, 0]\n",
    "    \n",
    "#     mask = tf.math.logical_not(tf.math.equal(st_true, 2))\n",
    "#     mask = tf.cast(mask, dtype = st_true.dtype)\n",
    "    \n",
    "#     st_true = st_true * mask\n",
    "#     st_pred = st_pred * mask\n",
    "    \n",
    "#     r= tf.math.argmax(st_true)\n",
    "#     p = tf.math.argmax(st_pred)\n",
    "  \n",
    "#     return tf.cast(p==r, true.dtype)\n",
    "\n",
    "# def acc_end(true, pred):\n",
    "#     true = tf.cast(true, dtype = pred.dtype)\n",
    "#     en_true = true[:, 1]\n",
    "#     en_pred = pred[:, 1]\n",
    "    \n",
    "#     mask = tf.math.logical_not(tf.math.equal(en_true, 2))\n",
    "#     mask = tf.cast(mask, dtype = en_true.dtype)\n",
    "    \n",
    "#     en_true = en_true * mask\n",
    "#     en_pred = en_pred * mask\n",
    "    \n",
    "#     r= tf.math.argmax(en_true)\n",
    "#     p = tf.math.argmax(en_pred)\n",
    "  \n",
    "#     return tf.cast(p==r, true.dtype)\n",
    "\n",
    "# def acc(true, pred):\n",
    "#     true = tf.cast(true, dtype = pred.dtype)\n",
    "#     mask = tf.math.logical_not(tf.math.equal(true, 2))\n",
    "#     mask = tf.cast(mask, dtype = true.dtype)\n",
    "    \n",
    "#     r= tf.math.argmax(true)\n",
    "#     p= tf.math.argmax(pred)\n",
    "#     return tf.cast(p==r, true.dtype)\n",
    "    \n",
    "    \n",
    "# def jaccard_metric(true, pred):\n",
    "#     true = tf.cast(true, dtype = pred.dtype)\n",
    "#     st_true = true[:, 0]\n",
    "#     en_true = true[:, 1]\n",
    "    \n",
    "#     st_pred = pred[:, 0]\n",
    "#     en_pred = pred[:, 1]\n",
    "    \n",
    "#     mask = tf.math.logical_not(tf.math.equal(st_true, 2))\n",
    "#     mask = tf.cast(mask, dtype = st_true.dtype)\n",
    "    \n",
    "#     ## Jaccard\n",
    "#     st_true = st_true*mask\n",
    "#     en_true = en_true*mask\n",
    "    \n",
    "#     st_pred = st_pred*mask\n",
    "#     en_pred = en_pred*mask\n",
    "    \n",
    "#     stt = tf.math.argmax(st_true)\n",
    "#     ent = tf.math.argmax(en_true)\n",
    "    \n",
    "#     stp = tf.math.argmax(st_pred)\n",
    "#     enp = tf.math.argmax(en_pred)\n",
    "    \n",
    "#     lp = tf.math.maximum(enp - stp + 1 , 0)\n",
    "#     lt = tf.math.maximum(ent - stt + 1, 0)\n",
    "    \n",
    "# #     int1 = tf.math.maximum(ent - stp + 1, 0)\n",
    "# #     int2 = tf.math.maximum(enp - stt + 1, 0)\n",
    "#     int_abs = tf.math.minimum(ent - stp + 1, enp - stt + 1)\n",
    "#     int_abs = tf.math.maximum(int_abs, 0)\n",
    "    \n",
    "#     jac = int_abs / ( lp+ lt - int_abs)\n",
    "    \n",
    "#     return jac"
   ]
  },
  {
   "cell_type": "code",
   "execution_count": 9,
   "metadata": {
    "scrolled": true
   },
   "outputs": [
    {
     "name": "stdout",
     "output_type": "stream",
     "text": [
      "Train on 24732 samples, validate on 2749 samples\n",
      "Epoch 1/3\n",
      "24732/24732 [==============================] - 277s 11ms/sample - loss: 54.9064 - time_distributed_loss: 22.8112 - dense_1_loss: 32.0903 - time_distributed_jaccard_metric: 0.6714 - time_distributed_acc: 0.8538 - dense_1_jaccard_metric: 9.9376 - dense_1_acc: 0.1710 - val_loss: 45.1709 - val_time_distributed_loss: 18.9938 - val_dense_1_loss: 26.1555 - val_time_distributed_jaccard_metric: 0.7240 - val_time_distributed_acc: 0.8814 - val_dense_1_jaccard_metric: 10.1287 - val_dense_1_acc: 0.1798\n",
      "Epoch 2/3\n",
      "24732/24732 [==============================] - 264s 11ms/sample - loss: 46.8688 - time_distributed_loss: 20.2064 - dense_1_loss: 26.6588 - time_distributed_jaccard_metric: 0.7075 - time_distributed_acc: 0.8742 - dense_1_jaccard_metric: 9.9658 - dense_1_acc: 0.1716 - val_loss: 45.2753 - val_time_distributed_loss: 18.9997 - val_dense_1_loss: 26.2536 - val_time_distributed_jaccard_metric: 0.7223 - val_time_distributed_acc: 0.8824 - val_dense_1_jaccard_metric: 10.1283 - val_dense_1_acc: 0.1794\n",
      "Epoch 3/3\n",
      "  672/24732 [..............................] - ETA: 4:07 - loss: 46.9313 - time_distributed_loss: 19.9976 - dense_1_loss: 26.9337 - time_distributed_jaccard_metric: 0.7099 - time_distributed_acc: 0.8766 - dense_1_jaccard_metric: 10.1745 - dense_1_acc: 0.1761WARNING:tensorflow:Early stopping conditioned on metric `val_loss` which is not available. Available metrics are: loss,time_distributed_loss,dense_1_loss,time_distributed_jaccard_metric,time_distributed_acc,dense_1_jaccard_metric,dense_1_acc\n",
      "WARNING:tensorflow:Reduce LR on plateau conditioned on metric `val_loss` which is not available. Available metrics are: loss,time_distributed_loss,dense_1_loss,time_distributed_jaccard_metric,time_distributed_acc,dense_1_jaccard_metric,dense_1_acc,lr\n"
     ]
    },
    {
     "ename": "KeyboardInterrupt",
     "evalue": "",
     "output_type": "error",
     "traceback": [
      "\u001b[1;31m---------------------------------------------------------------------------\u001b[0m",
      "\u001b[1;31mKeyboardInterrupt\u001b[0m                         Traceback (most recent call last)",
      "\u001b[1;32m<ipython-input-9-2e59f9401bec>\u001b[0m in \u001b[0;36m<module>\u001b[1;34m\u001b[0m\n\u001b[0;32m     20\u001b[0m \u001b[0mn_epochs\u001b[0m \u001b[1;33m=\u001b[0m \u001b[1;36m3\u001b[0m\u001b[1;33m\u001b[0m\u001b[1;33m\u001b[0m\u001b[0m\n\u001b[0;32m     21\u001b[0m \u001b[1;31m#, batch_size=bs\u001b[0m\u001b[1;33m\u001b[0m\u001b[1;33m\u001b[0m\u001b[1;33m\u001b[0m\u001b[0m\n\u001b[1;32m---> 22\u001b[1;33m \u001b[0mhistory\u001b[0m \u001b[1;33m=\u001b[0m \u001b[0mmodel\u001b[0m\u001b[1;33m.\u001b[0m\u001b[0mfit\u001b[0m\u001b[1;33m(\u001b[0m\u001b[0mX_train\u001b[0m\u001b[1;33m,\u001b[0m \u001b[0my_train\u001b[0m\u001b[1;33m,\u001b[0m \u001b[0mbatch_size\u001b[0m\u001b[1;33m=\u001b[0m\u001b[0mbs\u001b[0m\u001b[1;33m,\u001b[0m \u001b[0mepochs\u001b[0m\u001b[1;33m=\u001b[0m\u001b[0mn_epochs\u001b[0m\u001b[1;33m,\u001b[0m \u001b[0mvalidation_data\u001b[0m\u001b[1;33m=\u001b[0m\u001b[1;33m(\u001b[0m\u001b[0mX_test\u001b[0m\u001b[1;33m,\u001b[0m  \u001b[0my_test\u001b[0m\u001b[1;33m)\u001b[0m\u001b[1;33m,\u001b[0m \u001b[0mcallbacks\u001b[0m \u001b[1;33m=\u001b[0m \u001b[1;33m[\u001b[0m\u001b[0mearly\u001b[0m\u001b[1;33m,\u001b[0m \u001b[0mreduce\u001b[0m\u001b[1;33m]\u001b[0m\u001b[1;33m)\u001b[0m\u001b[1;33m\u001b[0m\u001b[1;33m\u001b[0m\u001b[0m\n\u001b[0m",
      "\u001b[1;32m~\\Anaconda3\\lib\\site-packages\\tensorflow_core\\python\\keras\\engine\\training.py\u001b[0m in \u001b[0;36mfit\u001b[1;34m(self, x, y, batch_size, epochs, verbose, callbacks, validation_split, validation_data, shuffle, class_weight, sample_weight, initial_epoch, steps_per_epoch, validation_steps, validation_freq, max_queue_size, workers, use_multiprocessing, **kwargs)\u001b[0m\n\u001b[0;32m    817\u001b[0m         \u001b[0mmax_queue_size\u001b[0m\u001b[1;33m=\u001b[0m\u001b[0mmax_queue_size\u001b[0m\u001b[1;33m,\u001b[0m\u001b[1;33m\u001b[0m\u001b[1;33m\u001b[0m\u001b[0m\n\u001b[0;32m    818\u001b[0m         \u001b[0mworkers\u001b[0m\u001b[1;33m=\u001b[0m\u001b[0mworkers\u001b[0m\u001b[1;33m,\u001b[0m\u001b[1;33m\u001b[0m\u001b[1;33m\u001b[0m\u001b[0m\n\u001b[1;32m--> 819\u001b[1;33m         use_multiprocessing=use_multiprocessing)\n\u001b[0m\u001b[0;32m    820\u001b[0m \u001b[1;33m\u001b[0m\u001b[0m\n\u001b[0;32m    821\u001b[0m   def evaluate(self,\n",
      "\u001b[1;32m~\\Anaconda3\\lib\\site-packages\\tensorflow_core\\python\\keras\\engine\\training_v2.py\u001b[0m in \u001b[0;36mfit\u001b[1;34m(self, model, x, y, batch_size, epochs, verbose, callbacks, validation_split, validation_data, shuffle, class_weight, sample_weight, initial_epoch, steps_per_epoch, validation_steps, validation_freq, max_queue_size, workers, use_multiprocessing, **kwargs)\u001b[0m\n\u001b[0;32m    340\u001b[0m                 \u001b[0mmode\u001b[0m\u001b[1;33m=\u001b[0m\u001b[0mModeKeys\u001b[0m\u001b[1;33m.\u001b[0m\u001b[0mTRAIN\u001b[0m\u001b[1;33m,\u001b[0m\u001b[1;33m\u001b[0m\u001b[1;33m\u001b[0m\u001b[0m\n\u001b[0;32m    341\u001b[0m                 \u001b[0mtraining_context\u001b[0m\u001b[1;33m=\u001b[0m\u001b[0mtraining_context\u001b[0m\u001b[1;33m,\u001b[0m\u001b[1;33m\u001b[0m\u001b[1;33m\u001b[0m\u001b[0m\n\u001b[1;32m--> 342\u001b[1;33m                 total_epochs=epochs)\n\u001b[0m\u001b[0;32m    343\u001b[0m             \u001b[0mcbks\u001b[0m\u001b[1;33m.\u001b[0m\u001b[0mmake_logs\u001b[0m\u001b[1;33m(\u001b[0m\u001b[0mmodel\u001b[0m\u001b[1;33m,\u001b[0m \u001b[0mepoch_logs\u001b[0m\u001b[1;33m,\u001b[0m \u001b[0mtraining_result\u001b[0m\u001b[1;33m,\u001b[0m \u001b[0mModeKeys\u001b[0m\u001b[1;33m.\u001b[0m\u001b[0mTRAIN\u001b[0m\u001b[1;33m)\u001b[0m\u001b[1;33m\u001b[0m\u001b[1;33m\u001b[0m\u001b[0m\n\u001b[0;32m    344\u001b[0m \u001b[1;33m\u001b[0m\u001b[0m\n",
      "\u001b[1;32m~\\Anaconda3\\lib\\site-packages\\tensorflow_core\\python\\keras\\engine\\training_v2.py\u001b[0m in \u001b[0;36mrun_one_epoch\u001b[1;34m(model, iterator, execution_function, dataset_size, batch_size, strategy, steps_per_epoch, num_samples, mode, training_context, total_epochs)\u001b[0m\n\u001b[0;32m    126\u001b[0m         step=step, mode=mode, size=current_batch_size) as batch_logs:\n\u001b[0;32m    127\u001b[0m       \u001b[1;32mtry\u001b[0m\u001b[1;33m:\u001b[0m\u001b[1;33m\u001b[0m\u001b[1;33m\u001b[0m\u001b[0m\n\u001b[1;32m--> 128\u001b[1;33m         \u001b[0mbatch_outs\u001b[0m \u001b[1;33m=\u001b[0m \u001b[0mexecution_function\u001b[0m\u001b[1;33m(\u001b[0m\u001b[0miterator\u001b[0m\u001b[1;33m)\u001b[0m\u001b[1;33m\u001b[0m\u001b[1;33m\u001b[0m\u001b[0m\n\u001b[0m\u001b[0;32m    129\u001b[0m       \u001b[1;32mexcept\u001b[0m \u001b[1;33m(\u001b[0m\u001b[0mStopIteration\u001b[0m\u001b[1;33m,\u001b[0m \u001b[0merrors\u001b[0m\u001b[1;33m.\u001b[0m\u001b[0mOutOfRangeError\u001b[0m\u001b[1;33m)\u001b[0m\u001b[1;33m:\u001b[0m\u001b[1;33m\u001b[0m\u001b[1;33m\u001b[0m\u001b[0m\n\u001b[0;32m    130\u001b[0m         \u001b[1;31m# TODO(kaftan): File bug about tf function and errors.OutOfRangeError?\u001b[0m\u001b[1;33m\u001b[0m\u001b[1;33m\u001b[0m\u001b[1;33m\u001b[0m\u001b[0m\n",
      "\u001b[1;32m~\\Anaconda3\\lib\\site-packages\\tensorflow_core\\python\\keras\\engine\\training_v2_utils.py\u001b[0m in \u001b[0;36mexecution_function\u001b[1;34m(input_fn)\u001b[0m\n\u001b[0;32m     96\u001b[0m     \u001b[1;31m# `numpy` translates Tensors to values in Eager mode.\u001b[0m\u001b[1;33m\u001b[0m\u001b[1;33m\u001b[0m\u001b[1;33m\u001b[0m\u001b[0m\n\u001b[0;32m     97\u001b[0m     return nest.map_structure(_non_none_constant_value,\n\u001b[1;32m---> 98\u001b[1;33m                               distributed_function(input_fn))\n\u001b[0m\u001b[0;32m     99\u001b[0m \u001b[1;33m\u001b[0m\u001b[0m\n\u001b[0;32m    100\u001b[0m   \u001b[1;32mreturn\u001b[0m \u001b[0mexecution_function\u001b[0m\u001b[1;33m\u001b[0m\u001b[1;33m\u001b[0m\u001b[0m\n",
      "\u001b[1;32m~\\Anaconda3\\lib\\site-packages\\tensorflow_core\\python\\eager\\def_function.py\u001b[0m in \u001b[0;36m__call__\u001b[1;34m(self, *args, **kwds)\u001b[0m\n\u001b[0;32m    566\u001b[0m         \u001b[0mxla_context\u001b[0m\u001b[1;33m.\u001b[0m\u001b[0mExit\u001b[0m\u001b[1;33m(\u001b[0m\u001b[1;33m)\u001b[0m\u001b[1;33m\u001b[0m\u001b[1;33m\u001b[0m\u001b[0m\n\u001b[0;32m    567\u001b[0m     \u001b[1;32melse\u001b[0m\u001b[1;33m:\u001b[0m\u001b[1;33m\u001b[0m\u001b[1;33m\u001b[0m\u001b[0m\n\u001b[1;32m--> 568\u001b[1;33m       \u001b[0mresult\u001b[0m \u001b[1;33m=\u001b[0m \u001b[0mself\u001b[0m\u001b[1;33m.\u001b[0m\u001b[0m_call\u001b[0m\u001b[1;33m(\u001b[0m\u001b[1;33m*\u001b[0m\u001b[0margs\u001b[0m\u001b[1;33m,\u001b[0m \u001b[1;33m**\u001b[0m\u001b[0mkwds\u001b[0m\u001b[1;33m)\u001b[0m\u001b[1;33m\u001b[0m\u001b[1;33m\u001b[0m\u001b[0m\n\u001b[0m\u001b[0;32m    569\u001b[0m \u001b[1;33m\u001b[0m\u001b[0m\n\u001b[0;32m    570\u001b[0m     \u001b[1;32mif\u001b[0m \u001b[0mtracing_count\u001b[0m \u001b[1;33m==\u001b[0m \u001b[0mself\u001b[0m\u001b[1;33m.\u001b[0m\u001b[0m_get_tracing_count\u001b[0m\u001b[1;33m(\u001b[0m\u001b[1;33m)\u001b[0m\u001b[1;33m:\u001b[0m\u001b[1;33m\u001b[0m\u001b[1;33m\u001b[0m\u001b[0m\n",
      "\u001b[1;32m~\\Anaconda3\\lib\\site-packages\\tensorflow_core\\python\\eager\\def_function.py\u001b[0m in \u001b[0;36m_call\u001b[1;34m(self, *args, **kwds)\u001b[0m\n\u001b[0;32m    597\u001b[0m       \u001b[1;31m# In this case we have created variables on the first call, so we run the\u001b[0m\u001b[1;33m\u001b[0m\u001b[1;33m\u001b[0m\u001b[1;33m\u001b[0m\u001b[0m\n\u001b[0;32m    598\u001b[0m       \u001b[1;31m# defunned version which is guaranteed to never create variables.\u001b[0m\u001b[1;33m\u001b[0m\u001b[1;33m\u001b[0m\u001b[1;33m\u001b[0m\u001b[0m\n\u001b[1;32m--> 599\u001b[1;33m       \u001b[1;32mreturn\u001b[0m \u001b[0mself\u001b[0m\u001b[1;33m.\u001b[0m\u001b[0m_stateless_fn\u001b[0m\u001b[1;33m(\u001b[0m\u001b[1;33m*\u001b[0m\u001b[0margs\u001b[0m\u001b[1;33m,\u001b[0m \u001b[1;33m**\u001b[0m\u001b[0mkwds\u001b[0m\u001b[1;33m)\u001b[0m  \u001b[1;31m# pylint: disable=not-callable\u001b[0m\u001b[1;33m\u001b[0m\u001b[1;33m\u001b[0m\u001b[0m\n\u001b[0m\u001b[0;32m    600\u001b[0m     \u001b[1;32melif\u001b[0m \u001b[0mself\u001b[0m\u001b[1;33m.\u001b[0m\u001b[0m_stateful_fn\u001b[0m \u001b[1;32mis\u001b[0m \u001b[1;32mnot\u001b[0m \u001b[1;32mNone\u001b[0m\u001b[1;33m:\u001b[0m\u001b[1;33m\u001b[0m\u001b[1;33m\u001b[0m\u001b[0m\n\u001b[0;32m    601\u001b[0m       \u001b[1;31m# Release the lock early so that multiple threads can perform the call\u001b[0m\u001b[1;33m\u001b[0m\u001b[1;33m\u001b[0m\u001b[1;33m\u001b[0m\u001b[0m\n",
      "\u001b[1;32m~\\Anaconda3\\lib\\site-packages\\tensorflow_core\\python\\eager\\function.py\u001b[0m in \u001b[0;36m__call__\u001b[1;34m(self, *args, **kwargs)\u001b[0m\n\u001b[0;32m   2361\u001b[0m     \u001b[1;32mwith\u001b[0m \u001b[0mself\u001b[0m\u001b[1;33m.\u001b[0m\u001b[0m_lock\u001b[0m\u001b[1;33m:\u001b[0m\u001b[1;33m\u001b[0m\u001b[1;33m\u001b[0m\u001b[0m\n\u001b[0;32m   2362\u001b[0m       \u001b[0mgraph_function\u001b[0m\u001b[1;33m,\u001b[0m \u001b[0margs\u001b[0m\u001b[1;33m,\u001b[0m \u001b[0mkwargs\u001b[0m \u001b[1;33m=\u001b[0m \u001b[0mself\u001b[0m\u001b[1;33m.\u001b[0m\u001b[0m_maybe_define_function\u001b[0m\u001b[1;33m(\u001b[0m\u001b[0margs\u001b[0m\u001b[1;33m,\u001b[0m \u001b[0mkwargs\u001b[0m\u001b[1;33m)\u001b[0m\u001b[1;33m\u001b[0m\u001b[1;33m\u001b[0m\u001b[0m\n\u001b[1;32m-> 2363\u001b[1;33m     \u001b[1;32mreturn\u001b[0m \u001b[0mgraph_function\u001b[0m\u001b[1;33m.\u001b[0m\u001b[0m_filtered_call\u001b[0m\u001b[1;33m(\u001b[0m\u001b[0margs\u001b[0m\u001b[1;33m,\u001b[0m \u001b[0mkwargs\u001b[0m\u001b[1;33m)\u001b[0m  \u001b[1;31m# pylint: disable=protected-access\u001b[0m\u001b[1;33m\u001b[0m\u001b[1;33m\u001b[0m\u001b[0m\n\u001b[0m\u001b[0;32m   2364\u001b[0m \u001b[1;33m\u001b[0m\u001b[0m\n\u001b[0;32m   2365\u001b[0m   \u001b[1;33m@\u001b[0m\u001b[0mproperty\u001b[0m\u001b[1;33m\u001b[0m\u001b[1;33m\u001b[0m\u001b[0m\n",
      "\u001b[1;32m~\\Anaconda3\\lib\\site-packages\\tensorflow_core\\python\\eager\\function.py\u001b[0m in \u001b[0;36m_filtered_call\u001b[1;34m(self, args, kwargs)\u001b[0m\n\u001b[0;32m   1609\u001b[0m          if isinstance(t, (ops.Tensor,\n\u001b[0;32m   1610\u001b[0m                            resource_variable_ops.BaseResourceVariable))),\n\u001b[1;32m-> 1611\u001b[1;33m         self.captured_inputs)\n\u001b[0m\u001b[0;32m   1612\u001b[0m \u001b[1;33m\u001b[0m\u001b[0m\n\u001b[0;32m   1613\u001b[0m   \u001b[1;32mdef\u001b[0m \u001b[0m_call_flat\u001b[0m\u001b[1;33m(\u001b[0m\u001b[0mself\u001b[0m\u001b[1;33m,\u001b[0m \u001b[0margs\u001b[0m\u001b[1;33m,\u001b[0m \u001b[0mcaptured_inputs\u001b[0m\u001b[1;33m,\u001b[0m \u001b[0mcancellation_manager\u001b[0m\u001b[1;33m=\u001b[0m\u001b[1;32mNone\u001b[0m\u001b[1;33m)\u001b[0m\u001b[1;33m:\u001b[0m\u001b[1;33m\u001b[0m\u001b[1;33m\u001b[0m\u001b[0m\n",
      "\u001b[1;32m~\\Anaconda3\\lib\\site-packages\\tensorflow_core\\python\\eager\\function.py\u001b[0m in \u001b[0;36m_call_flat\u001b[1;34m(self, args, captured_inputs, cancellation_manager)\u001b[0m\n\u001b[0;32m   1690\u001b[0m       \u001b[1;31m# No tape is watching; skip to running the function.\u001b[0m\u001b[1;33m\u001b[0m\u001b[1;33m\u001b[0m\u001b[1;33m\u001b[0m\u001b[0m\n\u001b[0;32m   1691\u001b[0m       return self._build_call_outputs(self._inference_function.call(\n\u001b[1;32m-> 1692\u001b[1;33m           ctx, args, cancellation_manager=cancellation_manager))\n\u001b[0m\u001b[0;32m   1693\u001b[0m     forward_backward = self._select_forward_and_backward_functions(\n\u001b[0;32m   1694\u001b[0m         \u001b[0margs\u001b[0m\u001b[1;33m,\u001b[0m\u001b[1;33m\u001b[0m\u001b[1;33m\u001b[0m\u001b[0m\n",
      "\u001b[1;32m~\\Anaconda3\\lib\\site-packages\\tensorflow_core\\python\\eager\\function.py\u001b[0m in \u001b[0;36mcall\u001b[1;34m(self, ctx, args, cancellation_manager)\u001b[0m\n\u001b[0;32m    543\u001b[0m               \u001b[0minputs\u001b[0m\u001b[1;33m=\u001b[0m\u001b[0margs\u001b[0m\u001b[1;33m,\u001b[0m\u001b[1;33m\u001b[0m\u001b[1;33m\u001b[0m\u001b[0m\n\u001b[0;32m    544\u001b[0m               \u001b[0mattrs\u001b[0m\u001b[1;33m=\u001b[0m\u001b[1;33m(\u001b[0m\u001b[1;34m\"executor_type\"\u001b[0m\u001b[1;33m,\u001b[0m \u001b[0mexecutor_type\u001b[0m\u001b[1;33m,\u001b[0m \u001b[1;34m\"config_proto\"\u001b[0m\u001b[1;33m,\u001b[0m \u001b[0mconfig\u001b[0m\u001b[1;33m)\u001b[0m\u001b[1;33m,\u001b[0m\u001b[1;33m\u001b[0m\u001b[1;33m\u001b[0m\u001b[0m\n\u001b[1;32m--> 545\u001b[1;33m               ctx=ctx)\n\u001b[0m\u001b[0;32m    546\u001b[0m         \u001b[1;32melse\u001b[0m\u001b[1;33m:\u001b[0m\u001b[1;33m\u001b[0m\u001b[1;33m\u001b[0m\u001b[0m\n\u001b[0;32m    547\u001b[0m           outputs = execute.execute_with_cancellation(\n",
      "\u001b[1;32m~\\Anaconda3\\lib\\site-packages\\tensorflow_core\\python\\eager\\execute.py\u001b[0m in \u001b[0;36mquick_execute\u001b[1;34m(op_name, num_outputs, inputs, attrs, ctx, name)\u001b[0m\n\u001b[0;32m     59\u001b[0m     tensors = pywrap_tensorflow.TFE_Py_Execute(ctx._handle, device_name,\n\u001b[0;32m     60\u001b[0m                                                \u001b[0mop_name\u001b[0m\u001b[1;33m,\u001b[0m \u001b[0minputs\u001b[0m\u001b[1;33m,\u001b[0m \u001b[0mattrs\u001b[0m\u001b[1;33m,\u001b[0m\u001b[1;33m\u001b[0m\u001b[1;33m\u001b[0m\u001b[0m\n\u001b[1;32m---> 61\u001b[1;33m                                                num_outputs)\n\u001b[0m\u001b[0;32m     62\u001b[0m   \u001b[1;32mexcept\u001b[0m \u001b[0mcore\u001b[0m\u001b[1;33m.\u001b[0m\u001b[0m_NotOkStatusException\u001b[0m \u001b[1;32mas\u001b[0m \u001b[0me\u001b[0m\u001b[1;33m:\u001b[0m\u001b[1;33m\u001b[0m\u001b[1;33m\u001b[0m\u001b[0m\n\u001b[0;32m     63\u001b[0m     \u001b[1;32mif\u001b[0m \u001b[0mname\u001b[0m \u001b[1;32mis\u001b[0m \u001b[1;32mnot\u001b[0m \u001b[1;32mNone\u001b[0m\u001b[1;33m:\u001b[0m\u001b[1;33m\u001b[0m\u001b[1;33m\u001b[0m\u001b[0m\n",
      "\u001b[1;31mKeyboardInterrupt\u001b[0m: "
     ]
    }
   ],
   "source": [
    "from tensorflow.keras.callbacks import EarlyStopping\n",
    "from tensorflow.keras.callbacks import ReduceLROnPlateau\n",
    "\n",
    "from tensorflow.keras.optimizers import Adam, SGD\n",
    "\n",
    "loss_classif     =  'categorical_crossentropy'# find the right loss for multi-class classification\n",
    "optimizer        =  Adam(3e-5, 1e-8) # find the right optimizer\n",
    "metrics_classif  =  ['accuracy']\n",
    "\n",
    "model.compile(loss=[custom_loss, 'mse'],\n",
    "              optimizer=optimizer,\n",
    "              metrics=[jaccard_metric, acc])\n",
    "\n",
    "early = EarlyStopping(monitor='val_loss', min_delta=0.0001, patience=4, verbose=1, \n",
    "                                                mode='auto', restore_best_weights=True)\n",
    "reduce = ReduceLROnPlateau(monitor='val_loss', factor=0.5, patience=2, verbose=1, \n",
    "                                                     mode='auto', min_delta=0.0001, cooldown=0, min_lr=0)\n",
    "\n",
    "bs = 32\n",
    "n_epochs = 2\n",
    "#, batch_size=bs\n",
    "history = model.fit(X_train, y_train, batch_size=bs, epochs=n_epochs, validation_data=(X_test,  y_test), callbacks = [early, reduce])"
   ]
  },
  {
   "cell_type": "code",
   "execution_count": 10,
   "metadata": {},
   "outputs": [
    {
     "name": "stdout",
     "output_type": "stream",
     "text": [
      "Train on 24732 samples, validate on 2749 samples\n",
      "24732/24732 [==============================] - 281s 11ms/sample - loss: 41.9101 - time_distributed_loss: 19.1629 - dense_1_loss: 22.7548 - time_distributed_jaccard_metric: 0.7219 - time_distributed_acc: 0.8792 - dense_1_jaccard_metric: 9.9706 - dense_1_acc: 0.1716 - val_loss: 42.9139 - val_time_distributed_loss: 18.7169 - val_dense_1_loss: 24.1762 - val_time_distributed_jaccard_metric: 0.7317 - val_time_distributed_acc: 0.8823 - val_dense_1_jaccard_metric: 10.1287 - val_dense_1_acc: 0.1798\n"
     ]
    }
   ],
   "source": [
    "loss_classif     =  'categorical_crossentropy'# find the right loss for multi-class classification\n",
    "optimizer        =  Adam(3e-6, 1e-8) # find the right optimizer\n",
    "metrics_classif  =  ['accuracy']\n",
    "\n",
    "model.compile(loss=[custom_loss, 'mse'],\n",
    "              optimizer=optimizer,\n",
    "              metrics=[jaccard_metric, acc])\n",
    "\n",
    "early = EarlyStopping(monitor='val_loss', min_delta=0.0001, patience=4, verbose=1, \n",
    "                                                mode='auto', restore_best_weights=True)\n",
    "reduce = ReduceLROnPlateau(monitor='val_loss', factor=0.5, patience=2, verbose=1, \n",
    "                                                     mode='auto', min_delta=0.0001, cooldown=0, min_lr=0)\n",
    "\n",
    "bs = 32\n",
    "n_epochs = 1\n",
    "#, batch_size=bs\n",
    "history = model.fit(X_train, y_train, batch_size=bs, epochs=n_epochs, validation_data=(X_test,  y_test), callbacks = [early, reduce])"
   ]
  },
  {
   "cell_type": "code",
   "execution_count": 12,
   "metadata": {},
   "outputs": [],
   "source": [
    "pred = model.predict(X_test)\n",
    "# pred = pred.reshape(pred.shape[0], pred.shape[1])\n",
    "\n",
    "pred = [pred[0].reshape(pred[0].shape[0], pred[0].shape[1]), pred[1].reshape(pred[1].shape[0])]\n",
    "\n",
    "# pred[0] = pred[0].reshape(pred[0].shape[0], pred[0].shape[1])\n",
    "# pred[1] = pred[1].reshape(pred[1].shape[0], pred[1].shape[1])\n",
    "\n",
    "# pred = [0,0]\n",
    "# pred[0] = pred1[:,:,0]\n",
    "# pred[1] = pred1[:,:,1]"
   ]
  },
  {
   "cell_type": "code",
   "execution_count": 21,
   "metadata": {},
   "outputs": [
    {
     "name": "stdout",
     "output_type": "stream",
     "text": [
      "wee. done with advance audit paper\n",
      "wee. done with advance audit paper\n"
     ]
    },
    {
     "data": {
      "image/png": "[encoded data removed]",
      "text/plain": [
       "<Figure size 432x288 with 1 Axes>"
      ]
     },
     "metadata": {
      "needs_background": "light"
     },
     "output_type": "display_data"
    }
   ],
   "source": [
    "ind = 9\n",
    "\n",
    "\n",
    "plt.plot(pred[0][ind])\n",
    "plt.plot(y_test[0][ind])\n",
    "# plt.figure(0)\n",
    "# plt.plot(pred[0][ind])\n",
    "# plt.plot(y_test[0][ind])\n",
    "# # plt.plot(y_test[ind][:,0])\n",
    "# plt.figure(2)\n",
    "# plt.plot(pred[1][ind])\n",
    "# plt.plot(y_test[1][ind])\n",
    "# # plt.plot(y_test[ind][:,1])\n",
    "\n",
    "print(Y_text_test[ind])\n",
    "# st = np.argmax(pred[0][ind])\n",
    "# en = np.argmax(pred[1][ind][st:]) + st\n",
    "# vect = X_test[0][ind, st:en+1]\n",
    "\n",
    "# vect = X_test[0][ind, pred[ind] >= 0.5]\n",
    "# vect = vect[vect != 1]\n",
    "\n",
    "vect = X_test[0][ind]\n",
    "\n",
    "p = pred[0][ind]\n",
    "n_token = int(pred[1][ind])+1\n",
    "\n",
    "p = p[vect != 1]\n",
    "p = np.argsort(p)[-n_token:]\n",
    "p = np.sort(p)\n",
    "vect = vect[p]\n",
    "vect = vect[vect != 1]\n",
    "\n",
    "vect = tokenizer.decode(vect)\n",
    "print(vect)"
   ]
  },
  {
   "cell_type": "code",
   "execution_count": 22,
   "metadata": {},
   "outputs": [],
   "source": [
    "def inference(pred, X, X_text, x):\n",
    "    prediction = []\n",
    "    for i, elt in tqdm(enumerate(X[0]), total = len(X[0])):\n",
    "        \n",
    "#         st = np.argmax(pred[0][i])\n",
    "#         en = np.argmax(pred[1][i][st:]) + st\n",
    "        \n",
    "#         print(st)\n",
    "        \n",
    "#         vect = X_test[0][i, pred[i] >= x]\n",
    "#         vect = vect[vect != 1]\n",
    "#         vect = tokenizer.decode(vect)\n",
    "        \n",
    "#         vect = X[0][i, st:en+1]\n",
    "#         vect = tokenizer.decode(vect)\n",
    "        \n",
    "        # get closest inference\n",
    "        \n",
    "        vect = X_test[0][ind]\n",
    "\n",
    "        p = pred[0][ind]\n",
    "        n_token = int(pred[1][ind])+1\n",
    "\n",
    "        p = p[vect != 1]\n",
    "        p = np.argsort(p)[-n_token:]\n",
    "        p = np.sort(p)\n",
    "        vect = vect[p]\n",
    "        vect = vect[vect != 1]\n",
    "        \n",
    "         \n",
    "        vect = tokenizer.decode(vect)\n",
    "        \n",
    "        vect = vect.split()\n",
    "        true = X_text[i].lower().split()\n",
    "        vect1 = []\n",
    "        for elt in vect:\n",
    "            inf = difflib.get_close_matches(elt, true)\n",
    "            if len(inf) == 0:\n",
    "                vect1.append(elt)\n",
    "            else:\n",
    "                vect1.append(inf[0])\n",
    "        vect1 = ' '.join(vect1)\n",
    "        \n",
    "        prediction.append(vect1)\n",
    "#         prediction.append(' '.join(vect))\n",
    "    \n",
    "    return prediction\n",
    "\n",
    "def jaccard(str1, str2): \n",
    "    a = set(str1.lower().split()) \n",
    "    b = set(str2.lower().split())\n",
    "    c = a.intersection(b)\n",
    "    return float(len(c)) / (len(a) + len(b) - len(c))\n",
    "\n",
    "def evaluate(prediction, true):\n",
    "    value = []\n",
    "    for i in range(len(prediction)):\n",
    "        str1 = true[i]\n",
    "        str2 = prediction[i]\n",
    "        \n",
    "        value.append(jaccard(str1, str2))\n",
    "    score = np.mean(value)\n",
    "    \n",
    "    return value, score\n",
    "\n",
    "import optuna\n",
    "def objective(trial):\n",
    "    x = trial.suggest_uniform('x', 0, 1)\n",
    "    \n",
    "    prediction = inference(pred, X_test, X_text_test, x)\n",
    "    value,j = evaluate(prediction, Y_text_test)\n",
    "    print(j)\n",
    "    \n",
    "    return 1-j"
   ]
  },
  {
   "cell_type": "code",
   "execution_count": null,
   "metadata": {},
   "outputs": [],
   "source": [
    "study = optuna.create_study()\n",
    "study.optimize(objective, n_trials=30)"
   ]
  },
  {
   "cell_type": "code",
   "execution_count": null,
   "metadata": {},
   "outputs": [],
   "source": [
    "x = study.best_params['x']"
   ]
  },
  {
   "cell_type": "code",
   "execution_count": 23,
   "metadata": {},
   "outputs": [],
   "source": [
    "x = 0"
   ]
  },
  {
   "cell_type": "code",
   "execution_count": 24,
   "metadata": {},
   "outputs": [
    {
     "data": {
      "application/vnd.jupyter.widget-view+json": {
       "model_id": "7b53f41a492e49329281c2a3f966eb40",
       "version_major": 2,
       "version_minor": 0
      },
      "text/plain": [
       "HBox(children=(FloatProgress(value=0.0, max=2749.0), HTML(value='')))"
      ]
     },
     "metadata": {},
     "output_type": "display_data"
    },
    {
     "name": "stdout",
     "output_type": "stream",
     "text": [
      "\n"
     ]
    }
   ],
   "source": [
    "prediction = inference(pred, X_test, X_text_test, x)"
   ]
  },
  {
   "cell_type": "code",
   "execution_count": 25,
   "metadata": {},
   "outputs": [],
   "source": [
    "value, score = evaluate(prediction, Y_text_test)"
   ]
  },
  {
   "cell_type": "code",
   "execution_count": 26,
   "metadata": {},
   "outputs": [
    {
     "data": {
      "text/plain": [
       "0.023119052436251425"
      ]
     },
     "execution_count": 26,
     "metadata": {},
     "output_type": "execute_result"
    }
   ],
   "source": [
    "score"
   ]
  },
  {
   "cell_type": "code",
   "execution_count": 27,
   "metadata": {},
   "outputs": [
    {
     "data": {
      "text/plain": [
       "(array([2.541e+03, 1.920e+02, 1.500e+01, 0.000e+00, 0.000e+00, 0.000e+00,\n",
       "        0.000e+00, 0.000e+00, 0.000e+00, 1.000e+00]),\n",
       " array([0. , 0.1, 0.2, 0.3, 0.4, 0.5, 0.6, 0.7, 0.8, 0.9, 1. ]),\n",
       " <a list of 10 Patch objects>)"
      ]
     },
     "execution_count": 27,
     "metadata": {},
     "output_type": "execute_result"
    },
    {
     "data": {
      "image/png": "[encoded data removed]",
      "text/plain": [
       "<Figure size 432x288 with 1 Axes>"
      ]
     },
     "metadata": {
      "needs_background": "light"
     },
     "output_type": "display_data"
    }
   ],
   "source": [
    "plt.hist(value)"
   ]
  },
  {
   "cell_type": "code",
   "execution_count": null,
   "metadata": {},
   "outputs": [],
   "source": []
  },
  {
   "cell_type": "code",
   "execution_count": null,
   "metadata": {},
   "outputs": [],
   "source": []
  }
 ],
 "metadata": {
  "kernelspec": {
   "display_name": "Python 3",
   "language": "python",
   "name": "python3"
  },
  "language_info": {
   "codemirror_mode": {
    "name": "ipython",
    "version": 3
   },
   "file_extension": ".py",
   "mimetype": "text/x-python",
   "name": "python",
   "nbconvert_exporter": "python",
   "pygments_lexer": "ipython3",
   "version": "3.7.6"
  }
 },
 "nbformat": 4,
 "nbformat_minor": 4
}
