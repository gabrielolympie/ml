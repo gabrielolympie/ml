{
 "cells": [
  {
   "cell_type": "code",
   "execution_count": 2,
   "metadata": {},
   "outputs": [],
   "source": [
    "vect = np.array([\"abc\" for i in range(100000)])"
   ]
  },
  {
   "cell_type": "code",
   "execution_count": 6,
   "metadata": {},
   "outputs": [
    {
     "name": "stdout",
     "output_type": "stream",
     "text": [
      "Wall time: 0 ns\n"
     ]
    }
   ],
   "source": [
    "%%time\n",
    "import numba\n",
    "import numpy as np\n",
    "from numba import cuda\n",
    "\n",
    "@numba.jit(nopython = False, parallel = False)\n",
    "def foo(x):\n",
    "    trace = \n",
    "    for elt in x:\n",
    "        trace += elt[:2]\n",
    "    return trace\n",
    "\n",
    "# vf = np.vectorize(foo)\n",
    "# vf(vect)\n",
    "# a = np.array(list(map(foo, vect)))"
   ]
  },
  {
   "cell_type": "code",
   "execution_count": 7,
   "metadata": {},
   "outputs": [
    {
     "name": "stderr",
     "output_type": "stream",
     "text": [
      "<timed exec>:5: NumbaWarning: \u001b[1m\n",
      "Compilation is falling back to object mode WITH looplifting enabled because Function \"foo\" failed type inference due to: \u001b[1m\u001b[1m\u001b[1mNo implementation of function Function(<built-in function getitem>) found for signature:\n",
      " \n",
      " >>> getitem([unichr x 3], slice<a:b>)\n",
      " \n",
      "There are 22 candidate implementations:\n",
      "\u001b[1m  - Of which 22 did not match due to:\n",
      "  Overload of function 'getitem': File: <numerous>: Line N/A.\n",
      "    With argument(s): '([unichr x 3], slice<a:b>)':\u001b[0m\n",
      "\u001b[1m   No match.\u001b[0m\n",
      "\u001b[0m\n",
      "\u001b[0m\u001b[1mDuring: typing of intrinsic-call at <timed exec> (9)\u001b[0m\n",
      "\u001b[0m\u001b[1mDuring: typing of static-get-item at <timed exec> (9)\u001b[0m\n",
      "\u001b[1m\n",
      "File \"<timed exec>\", line 9:\u001b[0m\n",
      "\u001b[1m<source missing, REPL/exec in use?>\u001b[0m\n",
      "\u001b[0m\n",
      "<timed exec>:5: NumbaWarning: \u001b[1m\n",
      "Compilation is falling back to object mode WITHOUT looplifting enabled because Function \"foo\" failed type inference due to: \u001b[1m\u001b[1mcannot determine Numba type of <class 'numba.core.dispatcher.LiftedLoop'>\u001b[0m\n",
      "\u001b[1m\n",
      "File \"<timed exec>\", line 8:\u001b[0m\n",
      "\u001b[1m<source missing, REPL/exec in use?>\u001b[0m\n",
      "\u001b[0m\u001b[0m\n",
      "C:\\Users\\gabri\\anaconda3\\lib\\site-packages\\numba\\core\\object_mode_passes.py:178: NumbaWarning: \u001b[1mFunction \"foo\" was compiled in object mode without forceobj=True, but has lifted loops.\n",
      "\u001b[1m\n",
      "File \"<timed exec>\", line 7:\u001b[0m\n",
      "\u001b[1m<source missing, REPL/exec in use?>\u001b[0m\n",
      "\u001b[0m\n",
      "  state.func_ir.loc))\n",
      "C:\\Users\\gabri\\anaconda3\\lib\\site-packages\\numba\\core\\object_mode_passes.py:188: NumbaDeprecationWarning: \u001b[1m\n",
      "Fall-back from the nopython compilation path to the object mode compilation path has been detected, this is deprecated behaviour.\n",
      "\n",
      "For more information visit https://numba.pydata.org/numba-doc/latest/reference/deprecation.html#deprecation-of-object-mode-fall-back-behaviour-when-using-jit\n",
      "\u001b[1m\n",
      "File \"<timed exec>\", line 7:\u001b[0m\n",
      "\u001b[1m<source missing, REPL/exec in use?>\u001b[0m\n",
      "\u001b[0m\n",
      "  state.func_ir.loc))\n",
      "<timed exec>:5: NumbaWarning: \u001b[1m\n",
      "Compilation is falling back to object mode WITHOUT looplifting enabled because Function \"foo\" failed type inference due to: \u001b[1m\u001b[1mnon-precise type pyobject\u001b[0m\n",
      "\u001b[0m\u001b[1mDuring: typing of argument at <timed exec> (8)\u001b[0m\n",
      "\u001b[1m\n",
      "File \"<timed exec>\", line 8:\u001b[0m\n",
      "\u001b[1m<source missing, REPL/exec in use?>\u001b[0m\n",
      "\u001b[0m\n",
      "C:\\Users\\gabri\\anaconda3\\lib\\site-packages\\numba\\core\\object_mode_passes.py:178: NumbaWarning: \u001b[1mFunction \"foo\" was compiled in object mode without forceobj=True.\n",
      "\u001b[1m\n",
      "File \"<timed exec>\", line 8:\u001b[0m\n",
      "\u001b[1m<source missing, REPL/exec in use?>\u001b[0m\n",
      "\u001b[0m\n",
      "  state.func_ir.loc))\n",
      "C:\\Users\\gabri\\anaconda3\\lib\\site-packages\\numba\\core\\object_mode_passes.py:188: NumbaDeprecationWarning: \u001b[1m\n",
      "Fall-back from the nopython compilation path to the object mode compilation path has been detected, this is deprecated behaviour.\n",
      "\n",
      "For more information visit https://numba.pydata.org/numba-doc/latest/reference/deprecation.html#deprecation-of-object-mode-fall-back-behaviour-when-using-jit\n",
      "\u001b[1m\n",
      "File \"<timed exec>\", line 8:\u001b[0m\n",
      "\u001b[1m<source missing, REPL/exec in use?>\u001b[0m\n",
      "\u001b[0m\n",
      "  state.func_ir.loc))\n"
     ]
    }
   ],
   "source": [
    "a = foo(vect)"
   ]
  },
  {
   "cell_type": "code",
   "execution_count": null,
   "metadata": {},
   "outputs": [],
   "source": [
    "%%time\n",
    "vect1 = [elt[:2] for elt in vect]"
   ]
  },
  {
   "cell_type": "code",
   "execution_count": null,
   "metadata": {},
   "outputs": [],
   "source": [
    "%%time\n",
    "def f(x):\n",
    "    return x[:2]\n",
    "\n",
    "vf = np.vectorize(f)\n",
    "\n",
    "vf(vect)\n"
   ]
  },
  {
   "cell_type": "code",
   "execution_count": null,
   "metadata": {},
   "outputs": [],
   "source": []
  },
  {
   "cell_type": "code",
   "execution_count": null,
   "metadata": {},
   "outputs": [],
   "source": []
  },
  {
   "cell_type": "code",
   "execution_count": null,
   "metadata": {},
   "outputs": [],
   "source": [
    "seq = \"abcdefghijklmnopqrstuvwxyz\"\n",
    "\n",
    "def "
   ]
  },
  {
   "cell_type": "code",
   "execution_count": null,
   "metadata": {},
   "outputs": [],
   "source": []
  },
  {
   "cell_type": "code",
   "execution_count": null,
   "metadata": {},
   "outputs": [],
   "source": []
  },
  {
   "cell_type": "code",
   "execution_count": null,
   "metadata": {},
   "outputs": [],
   "source": []
  },
  {
   "cell_type": "code",
   "execution_count": null,
   "metadata": {},
   "outputs": [],
   "source": [
    "import pandas as pd\n",
    "import numpy as np\n",
    "import matplotlib.pyplot as plt\n",
    "from tqdm.auto import tqdm\n",
    "\n",
    "pd.set_option('display.max_rows', 150)"
   ]
  },
  {
   "cell_type": "code",
   "execution_count": null,
   "metadata": {},
   "outputs": [],
   "source": []
  },
  {
   "cell_type": "code",
   "execution_count": null,
   "metadata": {},
   "outputs": [],
   "source": [
    "df = pd.read_csv('questions.csv')\n",
    "df1 = pd.read_csv('lectures.csv')\n",
    "\n",
    "def apply(x):\n",
    "    return 'q_'+str(x)\n",
    "\n",
    "def apply1(x):\n",
    "    return 'l_'+str(x)\n",
    "\n",
    "def to_tab(x):\n",
    "    if str(x)!='nan':\n",
    "        x = np.array(str(x).split(' ')).astype(int)\n",
    "    else:\n",
    "        x = []\n",
    "    x.sort()\n",
    "    return x\n",
    "\n",
    "df['tag'] = df['tags'].apply(to_tab)\n",
    "df['qu'] = df['question_id'].apply(apply)\n",
    "df1['l'] = df1['lecture_id'].apply(apply1)\n",
    "\n",
    "## unique tags part\n",
    "tags_to_utags = {}\n",
    "count = 0\n",
    "for elt in df1['tag']:\n",
    "    if elt in tags_to_utags:\n",
    "        1\n",
    "    else:\n",
    "        tags_to_utags[str(elt)] = count\n",
    "        count+=1\n",
    "\n",
    "for elt in df['tags']:\n",
    "    if elt in tags_to_utags:\n",
    "        1\n",
    "    else:\n",
    "        tags_to_utags[elt] = count\n",
    "        count+=1\n",
    "df['utags'] = df['tags'].astype(str).replace(tags_to_utags)\n",
    "df1['utags'] = df1['tag'].astype(str).replace(tags_to_utags)\n",
    "\n",
    "## Graph tags part\n",
    "dico_l = {}\n",
    "for t, data in df1.groupby('tag'):\n",
    "    dico_l[t] = data['l'].unique()\n",
    "    \n",
    "import networkx as nx\n",
    "G = nx.Graph()\n",
    "G.add_nodes_from(df['qu'])\n",
    "G.add_nodes_from(df1['l'])\n",
    "\n",
    "for i, elt in enumerate(tqdm(df['tag'])):\n",
    "    for j in elt:\n",
    "        try:\n",
    "            lec = dico_l[j]\n",
    "        except:\n",
    "            lec = []\n",
    "        for k in lec:\n",
    "            G.add_edge(df['qu'].iloc[i], k)\n",
    "\n",
    "co = list(nx.connected_components(G))\n",
    "\n",
    "tags_to_gtags = {}\n",
    "count = 0\n",
    "for i, elt in enumerate(tqdm(co)):\n",
    "    for j in elt:\n",
    "        tags_to_gtags[j] = i\n",
    "        \n",
    "df['gtags'] = df['qu'].replace(tags_to_gtags)\n",
    "df1['gtags'] = df1['l'].replace(tags_to_gtags)\n",
    "\n",
    "dico_utags = {}\n",
    "dico_gtags = {}\n",
    "\n",
    "for pair in zip(df['qu'], df['utags'], df['gtags']):\n",
    "    dico_utags[pair[0]] = pair[1]\n",
    "    dico_gtags[pair[0]] = pair[2]\n",
    "    \n",
    "for pair in zip(df1['l'], df1['utags'], df1['gtags']):\n",
    "    dico_utags[pair[0]] = pair[1]\n",
    "    dico_gtags[pair[0]] = pair[2]"
   ]
  },
  {
   "cell_type": "code",
   "execution_count": null,
   "metadata": {},
   "outputs": [],
   "source": [
    "df.head()"
   ]
  },
  {
   "cell_type": "code",
   "execution_count": null,
   "metadata": {},
   "outputs": [],
   "source": [
    "help(df[['qu', 'utags']].to_dict)"
   ]
  },
  {
   "cell_type": "code",
   "execution_count": null,
   "metadata": {},
   "outputs": [],
   "source": []
  }
 ],
 "metadata": {
  "kernelspec": {
   "display_name": "Python 3",
   "language": "python",
   "name": "python3"
  },
  "language_info": {
   "codemirror_mode": {
    "name": "ipython",
    "version": 3
   },
   "file_extension": ".py",
   "mimetype": "text/x-python",
   "name": "python",
   "nbconvert_exporter": "python",
   "pygments_lexer": "ipython3",
   "version": "3.6.10"
  }
 },
 "nbformat": 4,
 "nbformat_minor": 4
}
