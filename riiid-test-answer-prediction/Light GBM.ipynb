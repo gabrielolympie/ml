{
 "cells": [
  {
   "cell_type": "code",
   "execution_count": null,
   "metadata": {},
   "outputs": [],
   "source": [
    "import pandas as pd\n",
    "import numpy as np\n",
    "import matplotlib.pyplot as plt\n",
    "from tqdm.auto import tqdm\n",
    "import os\n",
    "import random\n",
    "from copy import deepcopy\n",
    "import _pickle as pickle\n",
    "import gc\n",
    "from multiprocess import Pool\n",
    "from sklearn.metrics import accuracy_score\n",
    "from sklearn.metrics import roc_auc_score\n",
    "from tensorflow.keras.preprocessing.text import Tokenizer\n",
    "from sklearn.preprocessing import KBinsDiscretizer\n",
    "\n",
    "from tensorflow.keras.optimizers import Adam, SGD\n",
    "def save(file,name, folder = \"\"):\n",
    "    if folder != \"\":\n",
    "        outfile = open('./'+folder+'/'+name+'.pickle', 'wb')\n",
    "    else:\n",
    "        outfile = open(name+'.pickle', 'wb')\n",
    "    pickle.dump(file, outfile, protocol=4)\n",
    "    outfile.close\n",
    "    \n",
    "def load(name, folder = \"\"):\n",
    "    \n",
    "    if folder != \"\":\n",
    "        outfile = open('./'+folder+'/'+name+'.pickle', 'rb')\n",
    "    else:\n",
    "        outfile = open(name+'.pickle', 'rb')\n",
    "    file = pickle.load(outfile)\n",
    "    outfile.close\n",
    "    return file\n",
    "\n",
    "class Discretiser:\n",
    "    def __init__(self, nbins):\n",
    "        self.nbins = nbins-1\n",
    "        self.map_to = np.arange(self.nbins)/self.nbins\n",
    "        \n",
    "    def fit(self, X):\n",
    "        ## X is a one dimension np array\n",
    "        self.map_from = np.quantile(X, self.map_to)\n",
    "        \n",
    "    def transform(self, X):\n",
    "        X1 = (np.interp(X, self.map_from, self.map_to, left=0, right=1, period=None) * self.nbins).astype(int)\n",
    "        return X1\n",
    "    \n",
    "from tf_transformers2 import *\n",
    "from tensorflow.keras.layers import Input, Dense, Dropout, TimeDistributed, LSTM\n",
    "from sklearn.model_selection import train_test_split\n",
    "from tensorflow.keras.models import Model\n",
    "from tensorflow.keras.optimizers import Adam"
   ]
  },
  {
   "cell_type": "code",
   "execution_count": null,
   "metadata": {},
   "outputs": [],
   "source": [
    "dico_batch = load('batch_1', 'user_batch_2000')"
   ]
  },
  {
   "cell_type": "code",
   "execution_count": null,
   "metadata": {},
   "outputs": [],
   "source": [
    "test_user = dico_batch[11084192]"
   ]
  },
  {
   "cell_type": "code",
   "execution_count": null,
   "metadata": {},
   "outputs": [],
   "source": [
    "test_user"
   ]
  },
  {
   "cell_type": "code",
   "execution_count": null,
   "metadata": {},
   "outputs": [],
   "source": [
    "## features present\n",
    "exercise to predict    ## cat\n",
    "part of exercise       ## cat\n",
    "gtag of exercise       ## cat\n",
    "cluster of exercise    ## cat\n",
    "qmean on user          ## num\n",
    "container              ## num\n",
    "timestamp              ## num\n",
    "\n",
    "## feature past\n",
    "avg correctness\n",
    "number explanation\n",
    "number question\n",
    "number lecture\n",
    "avg elapsed time\n",
    "\n",
    "## per part\n",
    "avg correct\n",
    "number explained\n",
    "number lecture\n",
    "number question\n",
    "avg elapsed time\n",
    "time since first question\n",
    "time since last question\n",
    "time since last lecture\n",
    "\n",
    "## Per cluster\n",
    "avg correct\n",
    "number explained\n",
    "number lecture\n",
    "number question\n",
    "avg elapsed time\n",
    "time since first question\n",
    "time since last question\n",
    "time since last lecture"
   ]
  },
  {
   "cell_type": "code",
   "execution_count": null,
   "metadata": {},
   "outputs": [],
   "source": [
    "## Segments          28\n",
    "user                 1\n",
    "content              1\n",
    "parts                6\n",
    "cluster              20\n",
    "\n",
    "\n",
    "\n",
    "## Time windows      17 possibles\n",
    "history\n",
    "# based on id\n",
    "first five / ten /twenty\n",
    "last five / ten / twenty\n",
    "# Based on time\n",
    "last 5/12/24 hours\n",
    "first 5/12/24 hours\n",
    "first week/month\n",
    "last week/month\n",
    "\n",
    "## Kpis              4 possibles \n",
    "interaction_type\n",
    "time spent\n",
    "time elapsed\n",
    "explanation\n",
    "\n",
    "## Kpis type         7 possibles\n",
    "count\n",
    "mean\n",
    "hmean\n",
    "std\n",
    "min\n",
    "max\n",
    "slope - % improvement\n",
    "\n",
    "#####################################\n",
    "\n",
    "## Total 13328 features"
   ]
  },
  {
   "cell_type": "code",
   "execution_count": null,
   "metadata": {},
   "outputs": [],
   "source": [
    "tokenizer = load('tokenizer')\n",
    "dico_utags, dico_gtags, dico_parts, _ = load('dico_tags')\n",
    "dico_question = load('dico_questions_mean')\n",
    "dico_cluster = load('transformer_clusters')\n",
    "timestamp_enc, elapsed_enc,lag_time_enc, qmean_enc = load('discrete_encoders')\n",
    "reducer = load('umap_reducer')\n",
    "\n",
    "def map_dict(ids, dico):\n",
    "    def replace_dico(x):\n",
    "        try:\n",
    "            return dico[x]\n",
    "        except:\n",
    "            return 0\n",
    "    return np.array(list(map(replace_dico,ids)))\n",
    "\n",
    "def map_question_type(ids):\n",
    "    def mapping(x):\n",
    "        if x[0] == 'l':\n",
    "            return 1\n",
    "        elif x[0] == 'q':\n",
    "            return 0\n",
    "        else:\n",
    "            return -1\n",
    "    return np.array(list(map(mapping,ids)))\n",
    "\n",
    "def apply_tokenizer(ids):\n",
    "    return np.array(tokenizer.texts_to_sequences(ids)).reshape(len(ids))\n",
    "\n",
    "def divide(a, b):\n",
    "    c = deepcopy(b)\n",
    "    c[c == 0] = 1e9\n",
    "    return a/c\n",
    "\n",
    "def propagate_values(x):\n",
    "    x1 = [x[0]]\n",
    "    for elt in x[1:]:\n",
    "        if elt == 0:\n",
    "            x1.append(x1[-1])\n",
    "        else:\n",
    "            x1.append(elt)\n",
    "    return np.array(x1)\n",
    "\n",
    "def minimum(x):\n",
    "    try:\n",
    "        return x.min()\n",
    "    except:\n",
    "        return 0\n",
    "    \n",
    "def treat_neg(x):\n",
    "    x[x <= 0] = 0\n",
    "    return x"
   ]
  },
  {
   "cell_type": "code",
   "execution_count": null,
   "metadata": {},
   "outputs": [],
   "source": [
    "def build_lgb_features(user_dico):\n",
    "    \n",
    "    features = []\n",
    "    \n",
    "    ids = user_dico['exercise_id']\n",
    "#     print(ids)\n",
    "    num_ids = apply_tokenizer(ids)\n",
    "    parts = map_dict(ids, dico_parts)\n",
    "    gtags = map_dict(ids, dico_gtags)\n",
    "    cl = map_dict(ids, dico_cluster)\n",
    "    id_type = map_question_type(ids)\n",
    "    qmean = map_dict(ids, dico_question)\n",
    "    cont = user_dico['container_id']\n",
    "    timest = user_dico['timestamp']\n",
    "    correct = user_dico['correctness']\n",
    "    elapsed = user_dico['elapsed_time']\n",
    "    expl = user_dico['prior_question_had_explanation']\n",
    "    \n",
    "    y = deepcopy(user_dico['correctness'])\n",
    "    \n",
    "    headers = ['id_question', 'part', 'gtags', 'cluster', 'qmean', 'cont', 'timest']\n",
    "    features.extend(deepcopy([num_ids, parts, gtags, cl, qmean, cont, timest]))\n",
    "    \n",
    "    ##Past processing\n",
    "    parts = np.concatenate([[-1], parts])[:-1]\n",
    "    cl = np.concatenate([[-1], cl])[:-1]\n",
    "#     timest = np.concatenate([[0], timest])\n",
    "    correct = np.concatenate([[0], correct])[:-1]\n",
    "    elapsed = np.concatenate([[0], elapsed])\n",
    "    expl = np.concatenate([[0], expl])\n",
    "    id_type = np.concatenate([[-1], id_type])[:-1]\n",
    "    \n",
    "    headers.extend(['nb_question', 'nb_correct', 'avg_correct','std_correct', \n",
    "                    'nb_lecture', 'nb_explained', 'avg_time', 'std_time', \n",
    "                    'time_first_question', 'time_last_question', 'time_first_lecture', 'time_last_lecture'])\n",
    "\n",
    "    nb_correct = np.cumsum(correct * (id_type == 0))\n",
    "    nb_qu = np.cumsum(id_type == 0)\n",
    "    avg_correct = divide(nb_correct , nb_qu)\n",
    "    std_correct = np.sqrt(divide(np.cumsum(np.square(correct * (id_type == 0) - avg_correct)),nb_qu))\n",
    "    \n",
    "    nb_le = np.cumsum(id_type == 1)\n",
    "    nb_expl = np.cumsum(expl == 1)\n",
    "    avg_el = divide(np.cumsum(elapsed * (id_type == 0)), nb_qu)\n",
    "    std_el = np.sqrt(divide(np.cumsum(np.square(elapsed * (id_type == 0) - avg_correct)),nb_qu))\n",
    "    \n",
    "    t_last_question = propagate_values(timest * (id_type == 0))\n",
    "    t_last_question = treat_neg(np.concatenate([[0], timest[1:] - t_last_question[:-1]]))\n",
    "    \n",
    "    t_last_lecture = propagate_values(timest * (id_type == 1))\n",
    "    t_last_lecture = treat_neg(np.concatenate([[0], timest[1:] - t_last_lecture[:-1]]))\n",
    "    \n",
    "    t_first_question = timest * (id_type == 0)\n",
    "    t_first_question = treat_neg(timest - minimum(t_first_question[t_first_question != 0]))\n",
    "    \n",
    "    t_first_lecture = timest * (id_type == 1)\n",
    "    t_first_lecture = treat_neg(timest - minimum(t_first_lecture[t_first_lecture != 0]))\n",
    "    \n",
    "    features.extend(deepcopy([nb_qu, nb_correct, avg_correct,std_correct, \n",
    "                     nb_le, nb_expl, avg_el, std_el, \n",
    "                              t_first_question, t_last_question, t_first_lecture, t_last_lecture]))\n",
    "    \n",
    "\n",
    "    # Parts\n",
    "    base_header = ['nb_question', 'nb_correct', 'avg_correct','std_correct', 'nb_lecture', 'nb_explained', \n",
    "                   'avg_time', 'std_time', \n",
    "                   'time_since_first_question', 'time_since_last_question','time_since_first_lecture', 'time_since_last_lecture']\n",
    "    for i in range(1,7):\n",
    "        mask = (parts == i)\n",
    "        headers.extend([elt + '_part_'+str(i) for elt in base_header])\n",
    "        \n",
    "        nb_correct = np.cumsum(correct * (id_type == 0) * mask)\n",
    "        nb_qu = np.cumsum((id_type == 0) * mask)\n",
    "        avg_correct = divide(nb_correct , nb_qu)\n",
    "        std_correct = np.sqrt(divide(np.cumsum(np.square(correct * (id_type == 0) * mask - avg_correct)),nb_qu))\n",
    "        \n",
    "        nb_le = np.cumsum((id_type == 1) * mask)\n",
    "        nb_expl = np.cumsum((expl == 1) * mask)\n",
    "        avg_el = divide(np.cumsum(elapsed * (id_type == 0) * mask), nb_qu)\n",
    "        std_el = np.sqrt(divide(np.cumsum(np.square(elapsed * (id_type == 0) * mask - avg_correct)),nb_qu))\n",
    "        \n",
    "        t_last_question = propagate_values(timest * (id_type == 0) * mask)\n",
    "        t_last_question = treat_neg(np.concatenate([[0], timest[1:] - t_last_question[:-1]]))\n",
    "\n",
    "        t_last_lecture = propagate_values(timest * (id_type == 1) * mask)\n",
    "        t_last_lecture = treat_neg(np.concatenate([[0], timest[1:] - t_last_lecture[:-1]]))\n",
    "\n",
    "        t_first_question = timest * (id_type == 0) * mask\n",
    "        t_first_question = treat_neg(timest - minimum(t_first_question[t_first_question != 0]))\n",
    "\n",
    "        t_first_lecture = timest * (id_type == 1) * mask\n",
    "        t_first_lecture = treat_neg(timest - minimum(t_first_lecture[t_first_lecture != 0]))\n",
    "        \n",
    "        features.extend(deepcopy([\n",
    "            nb_qu, nb_correct, avg_correct, std_correct, nb_le, nb_expl,\n",
    "            avg_el, std_el,\n",
    "            t_first_question, t_last_question, t_first_lecture, t_last_lecture\n",
    "        ]))\n",
    "    \n",
    "    for i in range(20):\n",
    "        mask = (cl == i)\n",
    "        headers.extend([elt + '_cluster_'+str(i) for elt in base_header])\n",
    "        \n",
    "        nb_correct = np.cumsum(correct * (id_type == 0) * mask)\n",
    "        nb_qu = np.cumsum((id_type == 0) * mask)\n",
    "        avg_correct = divide(nb_correct , nb_qu)\n",
    "        std_correct = np.sqrt(divide(np.cumsum(np.square(correct * (id_type == 0) * mask - avg_correct)),nb_qu))\n",
    "        \n",
    "        nb_le = np.cumsum((id_type == 1) * mask)\n",
    "        nb_expl = np.cumsum((expl == 1) * mask)\n",
    "        avg_el = divide(np.cumsum(elapsed * (id_type == 0) * mask), nb_qu)\n",
    "        std_el = np.sqrt(divide(np.cumsum(np.square(elapsed * (id_type == 0) * mask - avg_correct)),nb_qu))\n",
    "        \n",
    "        t_last_question = propagate_values(timest * (id_type == 0) * mask)\n",
    "        t_last_question = treat_neg(np.concatenate([[0], timest[1:] - t_last_question[:-1]]))\n",
    "\n",
    "        t_last_lecture = propagate_values(timest * (id_type == 1) * mask)\n",
    "        t_last_lecture = treat_neg(np.concatenate([[0], timest[1:] - t_last_lecture[:-1]]))\n",
    "\n",
    "        t_first_question = timest * (id_type == 0) * mask\n",
    "        t_first_question = treat_neg(timest - minimum(t_first_question[t_first_question != 0]))\n",
    "\n",
    "        t_first_lecture = timest * (id_type == 1) * mask\n",
    "        t_first_lecture = treat_neg(timest - minimum(t_first_lecture[t_first_lecture != 0]))\n",
    "        \n",
    "        features.extend(deepcopy([\n",
    "            nb_qu, nb_correct, avg_correct, std_correct, nb_le, nb_expl,\n",
    "            avg_el, std_el,\n",
    "            t_first_question, t_last_question, t_first_lecture, t_last_lecture\n",
    "        ]))  \n",
    "        \n",
    "    ## Transformers features\n",
    "#     size = len(ids)\n",
    "#     input_seq = build_sequence(user_dico)\n",
    "    \n",
    "#     with tf.device('/GPU:0'):\n",
    "#         p1 = model_inf(input_seq).numpy()\n",
    "    \n",
    "#     pred = np.concatenate([p1, input_seq[-1]], axis = -1)[0][:size]\n",
    "#     new_feats = reducer.transform(pred)\n",
    "    \n",
    "#     headers.extend(['t_'+str(i) for i in range(new_feats.shape[1])])\n",
    "    \n",
    "#     features.extend(list(new_feats.T))\n",
    "    \n",
    "    return pd.DataFrame(np.array(features).T, columns = headers), y\n",
    "\n",
    "# number question\n",
    "# number correct\n",
    "# avg correct\n",
    "# std correct\n",
    "# number lecture\n",
    "# number explained\n",
    "\n",
    "# avg elapsed time\n",
    "# std elapsed time\n",
    "\n",
    "# time since first question\n",
    "# time since last question\n",
    "# time since last lecture  "
   ]
  },
  {
   "cell_type": "code",
   "execution_count": null,
   "metadata": {},
   "outputs": [],
   "source": [
    "%%time\n",
    "f, y = build_lgb_features(test_user)"
   ]
  },
  {
   "cell_type": "code",
   "execution_count": null,
   "metadata": {},
   "outputs": [],
   "source": [
    "pd.set_option('display.max_columns', 150)"
   ]
  },
  {
   "cell_type": "code",
   "execution_count": null,
   "metadata": {},
   "outputs": [],
   "source": [
    "features = f.columns\n",
    "f['target'] = y"
   ]
  },
  {
   "cell_type": "code",
   "execution_count": null,
   "metadata": {
    "scrolled": true
   },
   "outputs": [],
   "source": [
    "max_len = 1\n",
    "\n",
    "df = []\n",
    "for i in range(1,4):\n",
    "    dico_batch = load('batch_'+str(i), 'user_batch_2000')\n",
    "    for elt in tqdm(dico_batch):\n",
    "        user_dico = dico_batch[elt]\n",
    "        seq_len = user_dico['exercise_id'].shape[0]\n",
    "#         if seq_len <= max_len:\n",
    "        f, y = build_lgb_features(user_dico)\n",
    "        features = f.columns\n",
    "        f['target'] = y\n",
    "        f.index = [elt for i in range(f.shape[0])]\n",
    "        df.append(f.copy())\n",
    "    \n",
    "    "
   ]
  },
  {
   "cell_type": "code",
   "execution_count": null,
   "metadata": {},
   "outputs": [],
   "source": [
    "df = pd.concat(df)"
   ]
  },
  {
   "cell_type": "code",
   "execution_count": null,
   "metadata": {},
   "outputs": [],
   "source": [
    "df.shape"
   ]
  },
  {
   "cell_type": "code",
   "execution_count": null,
   "metadata": {},
   "outputs": [],
   "source": [
    "df = df[df['target'] != -1]"
   ]
  },
  {
   "cell_type": "code",
   "execution_count": null,
   "metadata": {},
   "outputs": [],
   "source": [
    "cats_features = ['id_question', 'part', 'gtags', 'cluster', 'nb_question']\n",
    "for elt in cats_features:\n",
    "    df[elt] = df[elt].astype(int)"
   ]
  },
  {
   "cell_type": "code",
   "execution_count": null,
   "metadata": {},
   "outputs": [],
   "source": [
    "# df = df[df['nb_question']>=20]"
   ]
  },
  {
   "cell_type": "code",
   "execution_count": null,
   "metadata": {},
   "outputs": [],
   "source": [
    "ids = np.unique(df.index)"
   ]
  },
  {
   "cell_type": "code",
   "execution_count": null,
   "metadata": {},
   "outputs": [],
   "source": [
    "tcols = ['t_'+str(i) for i in range(32)]"
   ]
  },
  {
   "cell_type": "code",
   "execution_count": null,
   "metadata": {},
   "outputs": [],
   "source": [
    "from sklearn.model_selection import train_test_split\n",
    "ids_train, ids_test, _, _ = train_test_split(ids, ids, test_size=0.2, random_state=42)\n",
    "\n",
    "X_train = df.loc[ids_train][df.columns[:-1]].copy()\n",
    "# X_train = df.loc[ids_train][tcols].copy()\n",
    "y_train = df.loc[ids_train]['target'].copy().values\n",
    "\n",
    "X_test = df.loc[ids_test][df.columns[:-1]].copy()\n",
    "# X_test = df.loc[ids_test][tcols].copy()\n",
    "y_test = df.loc[ids_test]['target'].copy().values"
   ]
  },
  {
   "cell_type": "code",
   "execution_count": null,
   "metadata": {},
   "outputs": [],
   "source": [
    "del df\n",
    "gc.collect()"
   ]
  },
  {
   "cell_type": "code",
   "execution_count": null,
   "metadata": {},
   "outputs": [],
   "source": []
  },
  {
   "cell_type": "code",
   "execution_count": null,
   "metadata": {
    "scrolled": true
   },
   "outputs": [],
   "source": [
    "import lightgbm as lgb\n",
    "clf = lgb.LGBMClassifier(max_depth = -1, n_estimators = 500, n_jobs = 12, silent = False)\n",
    "clf.fit(X_train, y_train, eval_set =(X_test, y_test), eval_metric = 'auc')"
   ]
  },
  {
   "cell_type": "code",
   "execution_count": null,
   "metadata": {},
   "outputs": [],
   "source": [
    "pred = clf.predict_proba(X_test)[:,1]\n",
    "roc_auc_score(y_test, pred)"
   ]
  },
  {
   "cell_type": "code",
   "execution_count": null,
   "metadata": {
    "scrolled": false
   },
   "outputs": [],
   "source": [
    "sorted_f = np.argsort(clf.feature_importances_)\n",
    "\n",
    "for elt in range(len(sorted_f)):\n",
    "    print(clf.feature_importances_[sorted_f[-elt-1]], clf.feature_name_[sorted_f[-elt-1]])"
   ]
  },
  {
   "cell_type": "code",
   "execution_count": null,
   "metadata": {
    "scrolled": true
   },
   "outputs": [],
   "source": [
    "plt.figure(figsize = (25,15))\n",
    "plt.bar(clf.feature_name_, )\n",
    "plt.xticks(rotation = 90)"
   ]
  },
  {
   "cell_type": "code",
   "execution_count": null,
   "metadata": {},
   "outputs": [],
   "source": []
  },
  {
   "cell_type": "code",
   "execution_count": null,
   "metadata": {},
   "outputs": [],
   "source": []
  },
  {
   "cell_type": "code",
   "execution_count": null,
   "metadata": {},
   "outputs": [],
   "source": [
    "def split_cat_num(X,y, cat_cols = ['id_question', 'part', 'gtags', 'cluster'], batch_size = 256):\n",
    "    out = []\n",
    "#     s =  X.shape[0]//batch_size * batch_size\n",
    "    for elt in cat_cols:\n",
    "        out.append(X[elt].values.reshape(-1,1))\n",
    "    \n",
    "    num_cols = [elt for elt in X.columns if not(elt in cat_cols)]\n",
    "    \n",
    "    out.append(X[num_cols].values)\n",
    "#     y = y[:s]\n",
    "    return out, y"
   ]
  },
  {
   "cell_type": "code",
   "execution_count": null,
   "metadata": {},
   "outputs": [],
   "source": [
    "# save((X_train, y_train, X_test, y_test), 'batch_save_tabnet')\n",
    "\n",
    "(X_train, y_train, X_test, y_test) = load('batch_save_tabnet')"
   ]
  },
  {
   "cell_type": "code",
   "execution_count": null,
   "metadata": {},
   "outputs": [],
   "source": [
    "X_train.shape"
   ]
  },
  {
   "cell_type": "code",
   "execution_count": null,
   "metadata": {},
   "outputs": [],
   "source": [
    "X_train, y_train = split_cat_num(X_train,y_train, batch_size = 2048)\n",
    "X_test, y_test = split_cat_num(X_test, y_test,batch_size = 2048)\n",
    "\n",
    "from sklearn.preprocessing import StandardScaler\n",
    "sc = StandardScaler().fit(X_train[-1])\n",
    "X_train[-1] = sc.transform(X_train[-1])\n",
    "X_test[-1] = sc.transform(X_test[-1])"
   ]
  },
  {
   "cell_type": "code",
   "execution_count": null,
   "metadata": {},
   "outputs": [],
   "source": [
    "# save((X_train, y_train, X_test, y_test), 'batch_save_tabnet')\n",
    "\n",
    "# (X_train, y_train, X_test, y_test) = load('batch_save_tabnet')"
   ]
  },
  {
   "cell_type": "code",
   "execution_count": null,
   "metadata": {},
   "outputs": [],
   "source": [
    "for i,elt in enumerate(X_train[:-1]):\n",
    "    print(i)\n",
    "    print(np.max(elt))"
   ]
  },
  {
   "cell_type": "code",
   "execution_count": null,
   "metadata": {},
   "outputs": [],
   "source": [
    "for i,elt in enumerate(X_test[:-1]):\n",
    "    print(i)\n",
    "    print(np.max(elt))"
   ]
  },
  {
   "cell_type": "code",
   "execution_count": null,
   "metadata": {},
   "outputs": [],
   "source": [
    "X_train[-1].shape"
   ]
  },
  {
   "cell_type": "code",
   "execution_count": null,
   "metadata": {},
   "outputs": [],
   "source": [
    "import tensorflow as tf\n",
    "from tabnet import *\n",
    "\n",
    "tabnet_encoder = TabNet(\n",
    "        num_features = 513,\n",
    "        feature_dim = 128,\n",
    "        output_dim = 128,\n",
    "        feature_columns = None,\n",
    "        n_step = 4,\n",
    "        n_total = 4,\n",
    "        n_shared = 2,\n",
    "        relaxation_factor = 1.5,\n",
    "        bn_epsilon = 1e-5,\n",
    "        bn_momentum = 0.7,\n",
    "        bn_virtual_divider = 20,\n",
    "    )\n",
    "\n",
    "\n",
    "inputs = [tf.keras.Input(shape=(1,)) for i in range(4)] + [tf.keras.Input(shape=(327,))]\n",
    "\n",
    "in_size = [14000,8,100,20]\n",
    "out_size = [128,8,30,20]\n",
    "\n",
    "agg = [tf.squeeze(tf.keras.layers.Embedding(in_size[i], out_size[i])(inputs[i]), axis = 1) for i in range(len(in_size))] + [inputs[-1]]\n",
    "agg = tf.keras.layers.Concatenate(axis = 1)(agg)\n",
    "\n",
    "enc, masks = tabnet_encoder(agg)\n",
    "\n",
    "out = tf.keras.layers.Dense(1, activation = 'sigmoid')(enc)\n",
    "model = tf.keras.Model(inputs, out)"
   ]
  },
  {
   "cell_type": "code",
   "execution_count": null,
   "metadata": {},
   "outputs": [],
   "source": [
    "model.summary()"
   ]
  },
  {
   "cell_type": "code",
   "execution_count": null,
   "metadata": {},
   "outputs": [],
   "source": [
    "optimizer = tf.keras.optimizers.Adam(learning_rate=0.02, beta_1=0.9, beta_2=0.999)\n",
    "\n",
    "model.compile(\n",
    "        loss = 'binary_crossentropy',\n",
    "        optimizer = optimizer,\n",
    "        metrics = ['accuracy', 'AUC'])"
   ]
  },
  {
   "cell_type": "code",
   "execution_count": null,
   "metadata": {},
   "outputs": [],
   "source": [
    "from tensorflow.keras.callbacks import EarlyStopping\n",
    "from tensorflow.keras.callbacks import ReduceLROnPlateau\n",
    "\n",
    "early = EarlyStopping(monitor='val_loss', min_delta=0.0001, patience=9, verbose=1, \n",
    "                                                mode='auto', restore_best_weights=True)\n",
    "\n",
    "reduce = ReduceLROnPlateau(monitor='val_loss', factor=0.2, patience=4, verbose=1, \n",
    "                           mode='auto', min_delta=0.0001, cooldown=0, min_lr=0)\n",
    "\n",
    "callbacks =[early, reduce]\n",
    "\n",
    "epochs = 1000\n",
    "batch_size = 20000\n",
    "\n",
    "ls = X_train[0].shape[0]//batch_size * batch_size\n",
    "lt = X_test[0].shape[0]//batch_size * batch_size\n",
    "\n",
    "model.fit([elt[:ls] for elt in X_train], y_train[:ls], \n",
    "          validation_data = ([elt[:lt] for elt in X_test], y_test[:lt]), \n",
    "          batch_size = batch_size, epochs = epochs, callbacks=callbacks)"
   ]
  },
  {
   "cell_type": "code",
   "execution_count": null,
   "metadata": {},
   "outputs": [],
   "source": [
    "X_test[0].shape[0]/256"
   ]
  },
  {
   "cell_type": "code",
   "execution_count": null,
   "metadata": {},
   "outputs": [],
   "source": [
    "import lightgbm as lgb\n",
    "clf = lgb.LGBMClassifier(max_depth = -1, n_estimators = 500, n_jobs = 12, silent = False)\n",
    "clf.fit(X_train, y_train, eval_set =(X_test, y_test), eval_metric = 'auc')"
   ]
  },
  {
   "cell_type": "code",
   "execution_count": null,
   "metadata": {},
   "outputs": [],
   "source": []
  },
  {
   "cell_type": "code",
   "execution_count": null,
   "metadata": {},
   "outputs": [],
   "source": []
  }
 ],
 "metadata": {
  "kernelspec": {
   "display_name": "Python 3",
   "language": "python",
   "name": "python3"
  },
  "language_info": {
   "codemirror_mode": {
    "name": "ipython",
    "version": 3
   },
   "file_extension": ".py",
   "mimetype": "text/x-python",
   "name": "python",
   "nbconvert_exporter": "python",
   "pygments_lexer": "ipython3",
   "version": "3.6.10"
  }
 },
 "nbformat": 4,
 "nbformat_minor": 4
}
